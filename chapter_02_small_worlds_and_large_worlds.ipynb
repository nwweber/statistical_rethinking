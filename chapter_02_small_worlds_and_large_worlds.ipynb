{
 "cells": [
  {
   "cell_type": "markdown",
   "metadata": {},
   "source": [
    "# Notes"
   ]
  },
  {
   "cell_type": "markdown",
   "metadata": {},
   "source": [
    "* small world = self-contained logical world of the model. all possibilities are known and named. important to verify that model's logic is sound under good assumptions\n",
    "* large world = the world. the context in which model is deployed. always will have unkowns, things unaccounted for, surprised, things that weren't part of the model. model will make mistakes\n",
    "* this chapter: build bayesian models\n",
    "* b. models optimal in small world\n",
    "* large world performance needs to be demonstrated, not deduced\n",
    "* going back and forth between large/small world also gives place to b. inference and peer review\n",
    "* this chapter: introduce probability as counting ways that things can happen. \n",
    "* from this comes b. inference. then see how to make predictions from this model\n",
    "* next chapter: learn to summarize b. estimates and start introducing large world\n",
    "* rethinking: once it's known which information is interesting and which can be ignored being fully b. is a waste. however, if that not known then b. analysis good way of finding and processing relevant information."
   ]
  },
  {
   "cell_type": "markdown",
   "metadata": {},
   "source": [
    "## 2.1. the garden of forking data"
   ]
  },
  {
   "cell_type": "markdown",
   "metadata": {},
   "source": [
    "* b. inference: to make good inference about what actually happened, consider everything that could have happened\n",
    "* b. analysis provides quantitative ranking of hypotheses, maximally conservative given assumptions and data\n",
    "* not guaranteed to be correct in large world. guaranteed to be best possible derivable answer in small world given data that's fed into the model"
   ]
  },
  {
   "cell_type": "markdown",
   "metadata": {},
   "source": [
    "### 2.1.1. counting possibilities"
   ]
  },
  {
   "cell_type": "markdown",
   "metadata": {},
   "source": [
    "* For a given conjecture: count in how many ways the observed data could have been produced\n",
    "* Fixed: observed data. Uncertain about: conjectures.\n",
    "* Given example: draw with replacement from bag containing some blue and white marbles\n",
    "* Fixed: observed draws\n",
    "* Uncertain: what was the mix of blue/white marbles in the bag?\n",
    "* Instead of drawing out all possible paths to observed data: also possible to solve numerically\n",
    "* When doing that will multiply numbers. However, that is still just counting of ways something is possible under the hood\n",
    "* Counting of ways that observed data can appear under conjecture gives us relative plausibility for conjecture\n",
    "* Need to include one more step: probability of conjectur itself appearing, indepdendent of observed data\n",
    "* Give some philosophical motivation why counting of ways something is possible is useful as a measure of relative plausibility. However, stresses: philosophical motivations are interesting, but it is results that matter. Likewise, even if Bayesian inference is justified and useful it does not mean that other approaches can not also be justified and useful.\n",
    "\n"
   ]
  },
  {
   "cell_type": "markdown",
   "metadata": {},
   "source": [
    "### 2.1.2. using prior information"
   ]
  },
  {
   "cell_type": "markdown",
   "metadata": {},
   "source": [
    "* motivation for use of prior information about conjectures: might have prior information through knowing how data generating process itself is constructed, or from previous data, or to act as if we had prior information to make our predictions more conservative\n",
    "* how to include prior information into counts of ways data could have been generated?\n",
    "* assume we have previously seen sequence of marbles [blue white blue] and counted nr of ways these data could have been produced by various color configurations of 4 blue/white marbles in the bag. \n",
    "* then assume we draw one more marble: [blue]. \n",
    "* in this case two options: a) take new full sequence [blue white blue blue] and start whole process of counting of ways from scratch\n",
    "* b) use previous counts for [blue white blue]. for each conjecture, multiply count of [blue white blue] under this conjectur with count of [blue] under this conjecture. as in: use previous counts as priors.\n",
    "* a) and b) are mathematically equivalent as long as new observation is independent of old observations\n",
    "* in example so far prior data and new data was of equivalent type: observations of marbles\n",
    "* does not have to be the case\n",
    "* example: marble bags could be produced according to some rules. blue marbles might be more rare. each bag might have include at least one blue and one white marble\n",
    "* this yields counts over possible ways of making marble bags\n",
    "* how to include these into our analysis of probable content of current marble bag?\n",
    "* multiply counts of ways for observation of [blue white blue blue] under different marble bag conjectures with marble bag production count for this conjecture. e.g.: for conjecture that contents of bag is [blue blue white white] we have 16 chains of events generating the observed data [blue white blue blue]. we also know that according to the production process of the factory there are 2 chains of events leading to production of this kind of marble bag. so the total number of ways to be produced for these data is 16 x 2 = 32\n",
    "* In absence of prior information about conjectures: common solution to assign equal number of ways to each conjecture. Sometimes called Principle of Indifference. Issue of choosing representation of 'ignorance' is surprisingly hard. Subject of later chapters. \n",
    "* Mainstream non-Bayesian approaches implicitly assume this equal weighting of possibilities\n",
    "* Many non-Bayesian methods moving away from this through penalized likelihood and other methods"
   ]
  },
  {
   "cell_type": "markdown",
   "metadata": {},
   "source": [
    "### 2.1.3. from counts to probabilities"
   ]
  },
  {
   "cell_type": "markdown",
   "metadata": {},
   "source": [
    "* Principle of honest ignorance: When we don't know what caused the data, potential causes that may produce the data in more ways are more plausible\n",
    "* Hard to use counts, could be billions or more ways to generate some data for any given conjecture. More practical to deal with probabilities, i.e. standardized counts\n",
    "* Introducing standard names for parts of model: \n",
    "* Parameter: way of indexing possible explanations of the data [also, something with uncertainty around it that we might want to estimate in and might be interested in]\n",
    "* likelihood: relative number of ways that parameter p can produce data. Story of how data is generated given mathematical form, such that it assigns probability to each data point given values for parameters\n",
    "* prior probability of parameter p: what we know/think about relative plausibility of possible values for p before observing current data\n",
    "* posterior probability of p; what whe know/think about relative plausibility of possible values of p after observing current data"
   ]
  },
  {
   "cell_type": "markdown",
   "metadata": {
    "collapsed": true
   },
   "source": [
    "## 2.2. building a model"
   ]
  },
  {
   "cell_type": "markdown",
   "metadata": {},
   "source": [
    "* use globe tossing toy example to understand anatomy of bayesian model. throw globe in air n times, record if when caught index finger of right hand lands on water (W) or land (L), yielding a sequence of n entries of L or W\n",
    "* How to design model? Design loop (<-) with 3 steps\n",
    "* Data story: motivate model by narrating how data might arise\n",
    "* Update: feed data to model\n",
    "* Evaluate: analyse updated model, revise if necessary"
   ]
  },
  {
   "cell_type": "markdown",
   "metadata": {},
   "source": [
    "### 2.2.1. a data story"
   ]
  },
  {
   "cell_type": "markdown",
   "metadata": {},
   "source": [
    "* Make story about how data came to be\n",
    "* Can be causal (cause-effect) or descriptive (only associations), but must be complete: can be used to specify algorithm to make new data points\n",
    "* Motivate story by explaining how each datum is created\n",
    "* Data story then translated into formal probability model\n",
    "* Probability model easy to build as construction can be decomposed into series of decision about components\n",
    "* what follows: show how model learns from data, then open it up to see how it's been built\n",
    "* Data story must be discarded at some point, as many stories refer to the same model, so showing merit of model does not yield support for unique story. However, story still useful: while creating story one must specify exactly what measurements to take, how they are related to predictions. Often uncovers realizations and, questions and revisions that must be tackled before any model is fit"
   ]
  },
  {
   "cell_type": "markdown",
   "metadata": {},
   "source": [
    "### 2.2.2. bayesian updating"
   ]
  },
  {
   "cell_type": "markdown",
   "metadata": {},
   "source": [
    "* problem: use evidence to decide among multiple different conjectures\n",
    "* conjectures have initial plausibility\n",
    "* want to update those based evidence to yield posterior plausibilities\n",
    "* each datum updates plausibilities independently, yielding new plausibilities over conjectures. these new plausibilities are then starting point for update given new data point. can also work in reverse: possible to take out influence of a data point to see plausibilities before that\n",
    "* sample size and reliability: for non-bayesian inference methods often work based on large sample asymptotic behavior. probabilities don't make sense at smaller scale. for bayesian methods probabilities always make sense (have an interpretation as 'relative plausibility'). however, for small samples posterior is dominated by prior, so result of inference strongly depends on decision about prior\n",
    "* bayesian model learns in optimal way: no better way of using available information beginning with same state of information\n",
    "* at the same time, still only makes sense if real world accurately described by model\n",
    "* Model certainty is no guarantee that model is good\n",
    "* **model estimates/certainty are conditional on model. model says: when committed to this model, then you can be so much certain of inference**\n",
    "* things might me super different under different model\n",
    "* important to supervise and critique model. what to check is creative enterprise left to analyst\n",
    "* **failing to conclude that model is false is failure on part of analyst, not success of model**\n",
    "* **models can be false/have assumptions violated but still produce useful predictions**\n",
    "* models are information processing machines. information has some \"surprising aspect\" which are hard to capture in terms of veracity of assumptions [where does this come from? footnote 43 states that this will be picked up in other places]\n",
    "* **best check: test if model is adequate for some purpose. which question to ask depends on context**\n",
    "* **bayesian inference best general purpose method we know. however: no approach to inference with universal guarantees. reason: none of applied math has direct access to reality. this is due to the fact that applied math is not discovered, but invented**"
   ]
  },
  {
   "cell_type": "markdown",
   "metadata": {},
   "source": [
    "## 2.3. components of the model"
   ]
  },
  {
   "cell_type": "markdown",
   "metadata": {},
   "source": [
    "* Look at what model is made of\n",
    "* Describes likelihood, parameters and prior\n",
    "* These things are 'analogs in conventional probability theory'. Underlying concepts are 1) number of ways each conjecture could produce a datum [likelihood function], 2) accumulated number of ways each conjecture can produce all data [parameters], and 3) initial plausibility of each conjecture [prior]\n",
    "* usually chosen in that order\n",
    "* likelihood: mathematical structure defining plausibility of data. function from conjecture to relative plausibility of data under conjecture\n",
    "* can build own likelihood function based on data story. many pre-made conventional functions available\n",
    "* **likelihood function and its relation to parameters is fundamental, central part of bayesian and non-bayesian models. influence inference for every bit of data. importance of lhood increased with increasing amount of data**\n",
    "* above part of explanation why bayesian and non-bay. results often similar\n",
    "* paramters: adjustable input of lhood function.\n",
    "* one or all of these might be quantities of interest for us and might need to be estimated\n",
    "* **datum vs parameter: fuzzy distinction in bayesian framework. datum can be parameter with low uncertainty, parameter can be datum with high uncertainty. can be explicitly modeled to put measurement error and missing data into model**\n",
    "* prior: initial plausibilities for every parameter we wish to estimate. can be previous estimate.\n",
    "* prior = engineering assumptions to help machine learn. can e.g. be used for regularization (transferred to non-bay. approach of penalized lhood)\n",
    "* Subjective Bayesian school: priors = subjective belief of analyst. rare in sciences. in sciences: prior is part of model. should be engineered, tested and revised as part modeling procedure just like lhood\n",
    "* **all statistical data analysis is subjective. many subjective decisions: choice of prior (bay.), choice of lhood (bay. and non-bay.), repeat sampling assumption (non-bay.).... Stat inference uses math, but there are many useful/reasonable ways to conduct analysis** \n",
    "* after choice of prior + likelihood + parameters to estimate, bay model treats estimates (posterior) as purely logical conclusion of these choices combined with data.\n",
    "* posterior: relative plausibilities of parameter values conditioned on data\n",
    "* **bayesian data analysis is not about bayes' theorem. instead: bay. approach can use theorem/probabilities more generally to quantify uncertainty about theoretical entities that cannot be observed, like parameters and model**"
   ]
  },
  {
   "cell_type": "markdown",
   "metadata": {},
   "source": [
    "## 2.4. making the model go"
   ]
  },
  {
   "cell_type": "markdown",
   "metadata": {},
   "source": [
    "* model consists of definitions for lhood, parameters and prior. then use use data as input to produce posterior as output = conditioning prior on data\n",
    "* sometimes can be solved analytically. often cannot. useful to be able to approximate posterior in general so as not ot restrict modelling choices to what is mathematically convenient\n",
    "* numerical techniques for model fitting in this book: grid approx, quadratic approx, mcmc\n",
    "* many other ones out there, active area of research. these here useful to understand principles\n",
    "* **how you fit model is part of model: different approximations can give different posteriors for same model+data. also evaluate choice of inference procedure, try different ones etc**"
   ]
  },
  {
   "cell_type": "markdown",
   "metadata": {},
   "source": [
    "### 2.4.1. grid approximation"
   ]
  },
  {
   "cell_type": "markdown",
   "metadata": {},
   "source": [
    "* make grid of parameter values. calculate: for each p in p_grid: lhood(p, data) * prior(p) / marginal(p)\n",
    "* yields one posterior value for each p in p_grid\n",
    "* does not scale to higher number of params. n grid points = n_values_per_param ^ n_params"
   ]
  },
  {
   "cell_type": "markdown",
   "metadata": {},
   "source": [
    "### 2.4.2. quadratic approximation"
   ]
  },
  {
   "cell_type": "markdown",
   "metadata": {},
   "source": [
    "* assumption: region near peak of posterior will be approx Gaussian\n",
    "* so let's use Gaussian to approx posterior\n",
    "* \"quadratic\" b/c log of Gaussian is parabola, which is quadratic function. so whenever we estimate log(posterior) we fit a parabola, so we fit a quadratic function.\n",
    "* computationally inexpensive compared to mcmc\n",
    "* general algorithm:\n",
    "* 1) find posterior mode through some sort of hill climbing/gradient ascent. many procedures for this possible. mean of gaussian\n",
    "* 2) once found mode: estimate curvature around mode. yields std dev of gaussian.\n",
    "* quadratic approx with uniform prior or lots of data is 'usually equivalent' to maximum likelihood estimate and its standard error.\n",
    "* Hessian = square matrix of second derivatives, used in estimating curvature around point. only 2nd derivatives needed as parabola is quadratic function, so has no higher derivatives than second"
   ]
  },
  {
   "cell_type": "markdown",
   "metadata": {},
   "source": [
    "### 2.4.3. markov chain monte carlo"
   ]
  },
  {
   "cell_type": "markdown",
   "metadata": {},
   "source": [
    "* necessary due to high nr of parameters (tens of thousndas) of multi-level models, or because function for posterior is piece-wise and not unified\n",
    "* strategy: draw samples from posterior. yields a collection of parameter values. frequency of these values correspond to posterior plausibility. plot posterior as histogram of these samples\n",
    "* useful to directly work with sample rather than building some math. estimate on top of them. actually samples more convenient for many things"
   ]
  },
  {
   "cell_type": "markdown",
   "metadata": {},
   "source": [
    "## 2.5. summary"
   ]
  },
  {
   "cell_type": "markdown",
   "metadata": {},
   "source": [
    "* chapter: conceptual mechanis of bay. inference\n",
    "* target: posterior over parameters. probabilities state relative number of ways each conjecture could have caused data\n",
    "* parameter values have prior plausiblities. inference = updating them in light of data through link of likelihood.\n",
    "* bay model = (lhood function, choice of parameters and prior[, and inference mechanism?])\n",
    "* in practice, bay. models fit through numerical techniques such as grid, quadratic approx or mcmc. different pros/cons for each method."
   ]
  },
  {
   "cell_type": "markdown",
   "metadata": {},
   "source": [
    "# Exercises"
   ]
  },
  {
   "cell_type": "markdown",
   "metadata": {},
   "source": [
    "## 2.6. practice"
   ]
  },
  {
   "cell_type": "markdown",
   "metadata": {},
   "source": [
    "### 2E1.\n",
    "\n",
    "(2) Pr(rain|Monday)\n",
    "\n",
    "(= assuming it is Monday, what is the probability of rain)"
   ]
  },
  {
   "cell_type": "markdown",
   "metadata": {},
   "source": [
    "### 2E2.\n",
    "Pr(Monday|rain) = (3) probability of monday given that it's raining"
   ]
  },
  {
   "cell_type": "markdown",
   "metadata": {},
   "source": [
    "### 2E3.\n",
    "prob that it is monday, given it is raining = (1) Pr(Monday|rain)"
   ]
  },
  {
   "cell_type": "markdown",
   "metadata": {},
   "source": [
    "### 2E4.\n",
    "\n",
    "From de Finetti's perspective, \"probability of water is 0.7\" means that given all that we know, our best guess is that we're 70% certain the next toss will yield water.\n",
    "\n",
    "However, it does not mean that uncertainty in the world about that. The globe has exactly the proportion of water it has. The next toss will yield exactly what it will yield, given starting position, force of toss, air resistance etc.\n",
    "\n",
    "If we had complete information about this, we could perfectly predict the outcome of the toss. However, we only have limited information, so there is uncertainty around this outcome. This uncertainty due to limited information is quantified as a probability 0.7."
   ]
  },
  {
   "cell_type": "markdown",
   "metadata": {
    "collapsed": true
   },
   "source": [
    "### 2M1.\n",
    "\n",
    "Compute Pr(p|data) for various sets of data. Steps: 1) define grid of conjecture values. 2) compute prior: Pr(grid), 3) compute llhood: Pr(data|grid), 4) compute posterior: Pr(p|data) = Pr(grid) * Pr(data|grid) / sum(...)\n",
    "\n",
    "(1) WWW"
   ]
  },
  {
   "cell_type": "code",
   "execution_count": 1,
   "metadata": {
    "collapsed": true
   },
   "outputs": [],
   "source": [
    "import numpy as np\n",
    "import matplotlib.pyplot as plt\n",
    "import scipy.stats as stats\n",
    "\n",
    "%matplotlib inline"
   ]
  },
  {
   "cell_type": "code",
   "execution_count": 68,
   "metadata": {
    "collapsed": false
   },
   "outputs": [],
   "source": [
    "def grid_approx_posterior(data):\n",
    "    \"\"\"\n",
    "    Given data as list of 'w' or 'l' observations compute posterior distribution over probabilty of water\n",
    "    for 1000 evenly spaced points, return grid points and posterior probabilities\n",
    "    \"\"\"\n",
    "    \n",
    "    # total number of observations\n",
    "    n = len(data)\n",
    "    # number of positive outcomes\n",
    "    k = sum([observation == 'w' for observation in data])\n",
    "\n",
    "    n_grid_points = 1000\n",
    "\n",
    "    # parameter values to inspect\n",
    "    p_grid = np.linspace(0, 1, num = n_grid_points)\n",
    "\n",
    "    # uniform prior\n",
    "    prior = np.ones(n_grid_points)\n",
    "\n",
    "    # llhood for each grid point\n",
    "    likelihood = stats.binom.pmf(n=n, p=p_grid, k=k)\n",
    "\n",
    "    # product of llhood and prior\n",
    "    unstd_posterior = likelihood * prior\n",
    "\n",
    "    # standardized posterior\n",
    "    posterior = unstd_posterior / np.sum(unstd_posterior)\n",
    "    \n",
    "    return p_grid, posterior"
   ]
  },
  {
   "cell_type": "code",
   "execution_count": 71,
   "metadata": {
    "collapsed": false
   },
   "outputs": [
    {
     "data": {
      "image/png": "[encoded data removed]",
      "text/plain": [
       "<matplotlib.figure.Figure at 0x7fb7a573c050>"
      ]
     },
     "metadata": {},
     "output_type": "display_data"
    }
   ],
   "source": [
    "datasets = [\n",
    "    ['w', 'w', 'w'],\n",
    "    ['w', 'w', 'w', 'l'],\n",
    "    ['l', 'w', 'w', 'l', 'w', 'w', 'w']\n",
    "]\n",
    "\n",
    "for data in datasets:\n",
    "    p_grid, posterior = grid_approx_posterior(data)\n",
    "    plt.plot(p_grid, posterior, label=data)\n",
    "    plt.legend()"
   ]
  },
  {
   "cell_type": "markdown",
   "metadata": {},
   "source": [
    "### 2M2."
   ]
  },
  {
   "cell_type": "code",
   "execution_count": 84,
   "metadata": {
    "collapsed": false
   },
   "outputs": [
    {
     "data": {
      "text/plain": [
       "[<matplotlib.lines.Line2D at 0x7fb7a590eb90>]"
      ]
     },
     "execution_count": 84,
     "metadata": {},
     "output_type": "execute_result"
    },
    {
     "data": {
      "image/png": "[encoded data removed]",
      "text/plain": [
       "<matplotlib.figure.Figure at 0x7fb7a5c4c150>"
      ]
     },
     "metadata": {},
     "output_type": "display_data"
    }
   ],
   "source": [
    "def grid_approx_posterior_w_prior(data, prior = 'uniform'):\n",
    "    \"\"\"\n",
    "    Given data as list of 'w' or 'l' observations compute posterior distribution over probabilty of water\n",
    "    for 1000 evenly spaced points, return grid points and posterior probabilities\n",
    "    \"\"\"\n",
    "    \n",
    "    # total number of observations\n",
    "    n = len(data)\n",
    "    # number of positive outcomes\n",
    "    k = sum([observation == 'w' for observation in data])\n",
    "\n",
    "    n_grid_points = 1000\n",
    "\n",
    "    # parameter values to inspect\n",
    "    p_grid = np.linspace(0, 1, num = n_grid_points)\n",
    "\n",
    "    # prior\n",
    "    \n",
    "    if prior == 'uniform':\n",
    "        # uniform prior\n",
    "        prior = np.ones(n_grid_points)\n",
    "    elif prior == 'rectified':\n",
    "        prior = np.ones_like(p_grid)\n",
    "        prior[p_grid < 0.5] = 0\n",
    "\n",
    "    # llhood for each grid point\n",
    "    likelihood = stats.binom.pmf(n=n, p=p_grid, k=k)\n",
    "\n",
    "    # product of llhood and prior\n",
    "    unstd_posterior = likelihood * prior\n",
    "\n",
    "    # standardized posterior\n",
    "    posterior = unstd_posterior / np.sum(unstd_posterior)\n",
    "    \n",
    "    return p_grid, posterior\n",
    "\n",
    "p_grid, posterior = grid_approx_posterior_w_prior(['w', 'l'], 'rectified')\n",
    "plt.plot(p_grid, posterior)"
   ]
  },
  {
   "cell_type": "code",
   "execution_count": 85,
   "metadata": {
    "collapsed": false
   },
   "outputs": [
    {
     "data": {
      "image/png": "[encoded data removed]",
      "text/plain": [
       "<matplotlib.figure.Figure at 0x7fb7a602db90>"
      ]
     },
     "metadata": {},
     "output_type": "display_data"
    }
   ],
   "source": [
    "datasets = [\n",
    "    ['w', 'w', 'w'],\n",
    "    ['w', 'w', 'w', 'l'],\n",
    "    ['l', 'w', 'w', 'l', 'w', 'w', 'w']\n",
    "]\n",
    "\n",
    "for data in datasets:\n",
    "    p_grid, posterior = grid_approx_posterior_w_prior(data, 'rectified')\n",
    "    plt.plot(p_grid, posterior, label=data)\n",
    "    plt.legend()"
   ]
  },
  {
   "cell_type": "markdown",
   "metadata": {},
   "source": [
    "### 2M3.\n",
    "\n",
    "Show Pr(Earth | land) = .23\n",
    "\n",
    "Pr(Earth | land) = Pr(land | Earth) * Pr(Earth) / [Pr(land) = Pr(land | Earth) * Pr(Earth) + Pr(land | Mars) * Pr(Mars)]\n",
    "\n",
    "Pr(land | Earth) = .3 [given]\n",
    "Pr(Earth) = .5 [given]\n",
    "Pr(land | Mars) = 1 [given]\n",
    "Pr(Mars) = .5 [given]\n",
    "\n",
    "Substitute:\n",
    "\n",
    "Pr(Earth | land) = .3 * .5 / (.3 * .5 + 1 * .5) = .23"
   ]
  },
  {
   "cell_type": "markdown",
   "metadata": {},
   "source": [
    "### 2M4.\n",
    "\n",
    "Show that Pr(other side of first card black | first side of first card black)  = 2/3; use counting method.\n",
    "\n",
    "Total number of possible ways of drawing a card:\n",
    "3 cards * 2 sides per card = 6 ways to produce a side\n",
    "\n",
    "Number of ways to produce a black side:\n",
    "1 (double black, side 1) + 1 (double black side 2) + 1 (black/wide, black side) = 3\n",
    "\n",
    "Relative number of ways to produce this data: 3 (nr of ways to produce black side) / 6 (nr of ways to produce any side) = 1/2\n",
    "\n",
    "Wrong approach, not supposed to show this.\n",
    "\n",
    "Intuitive: There are 2 ways double black (B/B) could have produced this observation. There is 1 way B/W could have produced this observation. There are 0 ways W/W could have produced this observation.\n",
    "\n",
    "The other side is black if the cards is B/B, which has a chance of 2 out of 3 ways this data could have been produced.\n",
    "\n",
    "This does not feel systematic enough."
   ]
  },
  {
   "cell_type": "markdown",
   "metadata": {},
   "source": [
    "### 2M5.\n",
    "\n",
    "There are 5 total was to produce a black side.\n",
    "4 of these are due to one of the B/B cards being picked, which means those also have a second black side.\n",
    "\n",
    "So the probability of the second side being black is 4/5."
   ]
  },
  {
   "cell_type": "markdown",
   "metadata": {},
   "source": [
    "### 2M6.\n",
    "\n",
    "Other side is black iff pulled card is B/B\n",
    "\n",
    "1 way to pull B/B * 2 ways for B/B to produce B = 2 ways that B/B could have produced data\n",
    "2 ways to pull B/W * 1 ways for B/W to produce B = 2 ways that B/W could have produced data\n",
    "3 ways to pull W/W * 0 ways for W/W/ to produce B = 0 ways that W/W/ could have produced data\n",
    "\n",
    "thus\n",
    "\n",
    "2 ways B/B produced data ( = other side is black) / 4 total ways to produce data = .5 chance that card is B/B = other side is black"
   ]
  },
  {
   "cell_type": "markdown",
   "metadata": {},
   "source": [
    "### 2M7.\n",
    "\n",
    "Other side black = card is B/B\n",
    "\n",
    "6 ways to produce black side, then white side if first card is B/B\n",
    "8 ways to produce black side, then white side for all cards\n",
    "\n",
    "6/8 = 3/4 = .75\n",
    "\n",
    "[sketch of tree see notepad]"
   ]
  },
  {
   "cell_type": "markdown",
   "metadata": {},
   "source": [
    "### 2H1.\n",
    "\n",
    "Pr(Twin_2 | Twin_1) = \\Sum_Species Pr(Twin_2, Species | Twin_1) = \\Sum_Species Pr(Twin_2 | Species) * Pr(Species | Twin_2)\n",
    "= 2/3 ~= 16.7%\n",
    "\n",
    "More details see physical notepad"
   ]
  },
  {
   "cell_type": "markdown",
   "metadata": {},
   "source": [
    "### 2H2.\n",
    "\n",
    "Pr(Species_A | Twins) = Pr(Twins | Species_A) * Pr(Species_A) / Pr(Twins) = 1/3 ~= 33.3% [as computed during 2H1]\n",
    "\n",
    "Note: This is weird. I actually got that result as part of the computation for 2H1 already. Does this indicate that I solved 2H1 in too complicated a fashion? Would there have been an easier way?"
   ]
  },
  {
   "cell_type": "markdown",
   "metadata": {},
   "source": [
    "### 2H3.\n",
    "\n",
    "Pr(Species_A | Twin, notTwin) = Pr(Twin, notTwin | Species_A) * Pr(Species_A) / Pr(Twin, notTwin) ~= 36%\n",
    "\n",
    "More details see physical notebook.\n",
    "\n",
    "Approach to this one more elegant. Model birth one, birth two as two data points, not as two separate variables. In this case relying on assumption of independence: \n",
    "\n",
    "Pr(Birth_one, Birth_two | Species) = Pr(Birth_one | Species) * Pr(Birth_two | Species)\n",
    "\n",
    "Are the birthes just independent when conditioned on Species, or are they generally independent?\n",
    "\n",
    "Knowing something about Birth_one tells me something about the likelihoods for Birth_two. On the other hand, the physical process does not change and the true Species also does not change by me having this information. And for a given Panda we assume that probability of a twin birth does not change from first to second birth."
   ]
  },
  {
   "cell_type": "markdown",
   "metadata": {},
   "source": [
    "### 2H4.\n",
    "\n",
    "Without births:\n",
    "\n",
    "Pr(Species = A | Test = A) = Pr(Test = A | Species = A) * Pr(Species = A) / Pr(Test = A) = 40/57.5 ~= 70%\n",
    "\n",
    "With births:\n",
    "\n",
    "Pr(Species = A | Test = A, Birth = Twins, Birth = Twins) = Pr( Test = A, Birth = Twins, Birth = Twins | Species = A) * Pr(Species = A) / Pr(Test = A, Birth = Twins, Birth = Twins) = 4/11 ~= 36%\n",
    "\n",
    "\n",
    "That is surprisingly low. Mistake? Should be lower than without births, as Species B has higher chance of twins\n",
    "\n",
    "Solution assumes independence:\n",
    "\n",
    "Pr(Test = A, Birth = Twins, Birth = Twins) = Pr(Test = A)Pr(Birth = Twins)Pr(Birth = Twins)\n",
    "\n",
    "Is this justified?\n",
    "\n",
    "Details in physical notebook"
   ]
  },
  {
   "cell_type": "code",
   "execution_count": null,
   "metadata": {
    "collapsed": true
   },
   "outputs": [],
   "source": []
  }
 ],
 "metadata": {
  "kernelspec": {
   "display_name": "Python 2.7 (no Spark)",
   "language": "python2",
   "name": "python2"
  },
  "language_info": {
   "codemirror_mode": {
    "name": "ipython",
    "version": 2
   },
   "file_extension": ".py",
   "mimetype": "text/x-python",
   "name": "python",
   "nbconvert_exporter": "python",
   "pygments_lexer": "ipython2",
   "version": "2.7.13"
  }
 },
 "nbformat": 4,
 "nbformat_minor": 2
}
