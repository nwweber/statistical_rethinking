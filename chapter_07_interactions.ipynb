{
 "cells": [
  {
   "cell_type": "code",
   "execution_count": 416,
   "metadata": {},
   "outputs": [],
   "source": [
    "import numpy as np\n",
    "import matplotlib.pyplot as plt\n",
    "import pymc3 as pm\n",
    "import scipy.stats as stats\n",
    "import pandas as pd\n",
    "import seaborn as sns\n",
    "import statsmodels.formula.api as smf\n",
    "import string\n",
    "import theano\n",
    "import therapy\n",
    "import importlib\n",
    "import itertools\n",
    "\n",
    "sns.set()\n",
    "sns.set_style('whitegrid')\n",
    "plt.ion()"
   ]
  },
  {
   "cell_type": "markdown",
   "metadata": {},
   "source": [
    "# Functions and Classes"
   ]
  },
  {
   "cell_type": "code",
   "execution_count": 2,
   "metadata": {},
   "outputs": [],
   "source": [
    "def compare(fitted_models):\n",
    "    \"\"\"\n",
    "    Compare models on WAIC (and some other measures)\n",
    "\n",
    "    In:\n",
    "        fitted_models: iterable of FittedModel instances\n",
    "        \n",
    "    Out:\n",
    "        DataFrame, indexed by model names, columns having comparison values\n",
    "    \"\"\"\n",
    "    \n",
    "    # variable needs to be Series instead of just list b/c 'pm.compare' returns dataframe which is sorted\n",
    "    # by information criterion value. need to match model names to entries of that dataframe by index,\n",
    "    # which indicates initial position of the model when given to this function\n",
    "    # note: silly design by pymc3\n",
    "    model_names = pd.Series([fm.name for fm in fitted_models])\n",
    "    \n",
    "    model_dict = {fm.model: fm.trace for fm in fitted_models}\n",
    "    \n",
    "    return (\n",
    "        pm\n",
    "        .compare(\n",
    "            model_dict = model_dict,\n",
    "            method = 'BB-pseudo-BMA'\n",
    "        )\n",
    "        .assign(model =  model_names)\n",
    "        .set_index('model')\n",
    "        .sort_values('WAIC')\n",
    "    )"
   ]
  },
  {
   "cell_type": "code",
   "execution_count": 3,
   "metadata": {},
   "outputs": [],
   "source": [
    "# Code 7.2\n",
    "\n",
    "def create_rugged_log_gdp_model(dataset, return_dataframe=True):\n",
    "    \"\"\"\n",
    "    model log_gdp as a linear function of ruggedness using data from `dataset`\n",
    "    \"\"\"\n",
    "    with pm.Model() as model:\n",
    "        sigma = pm.Uniform('sigma', 0, 10)\n",
    "        bR = pm.Normal('bR', 0, 1)\n",
    "        a = pm.Normal('a', 8, 100)\n",
    "        mu = pm.Deterministic('mu', a + bR * dataset.rugged)\n",
    "        log_gdp = pm.Normal('log_gdp', mu, sigma, observed=dataset.log_gdp)\n",
    "\n",
    "        trace = pm.sample(1000, tune=1000, progressbar=False)\n",
    "        \n",
    "    if return_dataframe:\n",
    "        trace = pm.trace_to_dataframe(trace)\n",
    "        \n",
    "    return model, trace"
   ]
  },
  {
   "cell_type": "code",
   "execution_count": 4,
   "metadata": {},
   "outputs": [],
   "source": [
    "def attach_mu_predictions_to_data(xy_data, trace_df):\n",
    "    \"\"\"\n",
    "    For source data and a trace of posterior samples: calculate sample mean and hpd boundaries,\n",
    "    attach them to the original data into one joined dataframe.\n",
    "    \n",
    "    Assume that 'mu__n' column of samples belongs to n-th data point in dataframe.\n",
    "    \n",
    "    In:\n",
    "        xy_data: dataframe\n",
    "        trace_df: dataframe having columns with name pattern 'mu__x'\n",
    "        \n",
    "    Out:\n",
    "        'xy_data' dataframe with new columns 'mu_means', 'mu_hpd_lower', and 'mu_hpd_upper'\n",
    "    \"\"\"\n",
    "    \n",
    "    mu_samples = trace_df.filter(like='mu__')\n",
    "    mu_means = mu_samples.mean(axis=0)\n",
    "\n",
    "    mu_hpd_lower, mu_hpd_upper = np.split(\n",
    "        ary=pm.hpd(mu_samples.values, alpha=0.03),\n",
    "        indices_or_sections=2,\n",
    "        axis=1\n",
    "    )\n",
    "\n",
    "    return (\n",
    "        xy_data\n",
    "        .assign(\n",
    "            mu_means = mu_means.values,\n",
    "            mu_hpd_upper = mu_hpd_upper,\n",
    "            mu_hpd_lower = mu_hpd_lower\n",
    "        )\n",
    "    )"
   ]
  },
  {
   "cell_type": "code",
   "execution_count": 5,
   "metadata": {},
   "outputs": [],
   "source": [
    "def create_plot_scatter_with_predicted_means(xy_data, trace_df, x, y, ax = None, plot_y = True):\n",
    "    \"\"\"\n",
    "    Make predictions from samples, attach them to original data and plot original data and\n",
    "    predictions together\n",
    "    \n",
    "    In:\n",
    "        xy_data: dataframe with columns 'x' and 'y'\n",
    "        trace_df: dataframe with posterior samples\n",
    "        x: string col name\n",
    "        y: string col name\n",
    "        ax: what axes to plot into\n",
    "    \n",
    "    Out:\n",
    "        ax: axes with plot\n",
    "    \"\"\"\n",
    "    \n",
    "    # calculate sample summaries and attach to original data\n",
    "    # sort by x for plotting line of predicted mu values\n",
    "    d_with_preds = attach_mu_predictions_to_data(xy_data, trace_df).sort_values(x)\n",
    "\n",
    "    if ax is None:\n",
    "        ax = plt.axes()\n",
    "\n",
    "    ax.plot(x, 'mu_means', 'g-', data=d_with_preds)\n",
    "    ax.fill_between(x, 'mu_hpd_lower', 'mu_hpd_upper', color='g', alpha=.3, data=d_with_preds)\n",
    "    \n",
    "    if plot_y:\n",
    "        ax.plot(x, y, 'ob', mew=1, fillstyle='none', alpha=.3, data=d_with_preds)\n",
    "    \n",
    "    ax.set_xlabel(x)\n",
    "    ax.set_ylabel(y)\n",
    "    \n",
    "    return ax"
   ]
  },
  {
   "cell_type": "code",
   "execution_count": 6,
   "metadata": {},
   "outputs": [],
   "source": [
    "class FittedModel(object):\n",
    "    \"\"\"\n",
    "    Container to hold pymc3 model together with its mcmc trace and theano shared variables for prediction\n",
    "    \"\"\"\n",
    "    \n",
    "    def __init__(self, model, trace, predictor_dict, name):\n",
    "        \"\"\"\n",
    "        model: pymc3 model\n",
    "        trace: pymc3 trace for model\n",
    "        predictor_dict = {'predictor_n': theano_tensor_n}\n",
    "        \"\"\"\n",
    "        self.model = model\n",
    "        self.trace = trace\n",
    "        \n",
    "        if predictor_dict is None:\n",
    "            self.predictor_dict = None\n",
    "        else:\n",
    "            self.predictor_dict = {\n",
    "                predictor_name: {\n",
    "                    'shared_variable': shared_variable,\n",
    "                    'original_value': shared_variable.get_value()\n",
    "                }\n",
    "                for predictor_name, shared_variable in predictor_dict.items()\n",
    "            }\n",
    "        self.name = name\n",
    "        \n",
    "    def _repr_latex_(self):\n",
    "        return self.model._repr_latex_()\n",
    "    \n",
    "    \n",
    "    def _set_predictor_values(self, predictor_values):\n",
    "        \"\"\"\n",
    "        Set values of shared theano tensors to given values\n",
    "        \n",
    "        In:\n",
    "            predictor_values: DataFrame, column = predictor\n",
    "        \n",
    "        Out:\n",
    "            None, only side effects\n",
    "        \"\"\"\n",
    "        \n",
    "        # set shared variables to passed values\n",
    "        for predictor_name in predictor_values.columns:\n",
    "            predictor_shared_variable = self.predictor_dict[predictor_name]['shared_variable']\n",
    "            predictor_shared_variable.set_value(predictor_values[predictor_name].values)\n",
    "        \n",
    "        \n",
    "    def _reset_predictor_values(self):\n",
    "        \"\"\"\n",
    "        Revert all shared variables to original state\n",
    "        \n",
    "        In:\n",
    "            none\n",
    "            \n",
    "        Out:\n",
    "            None\n",
    "        \"\"\"\n",
    "\n",
    "        for _,  pred_dict in self.predictor_dict.items():\n",
    "            pred_dict['shared_variable'].set_value(pred_dict['original_value'])\n",
    "    \n",
    "    \n",
    "    def sample_mu(self, predictor_values):\n",
    "        \"\"\"\n",
    "        Generate samples of 'mu' variable based on 'predictor_values' (yes, this is basically\n",
    "        the 'link' function, just as a method).\n",
    "                \n",
    "        In:\n",
    "            predictor_values: DataFrame with column names matching this_model.predictor_dict.keys()\n",
    "\n",
    "        Out:\n",
    "            df with samples for means, one column per input data point\n",
    "        \"\"\"\n",
    "\n",
    "        # set shared variables to passed values\n",
    "        self._set_predictor_values(predictor_values)\n",
    "\n",
    "        samples = pm.sample_ppc(\n",
    "            trace=self.trace, \n",
    "            model=self.model, \n",
    "            vars=[self.model.mu],\n",
    "            progressbar=False\n",
    "        )\n",
    "\n",
    "        # revert shared variables to original state\n",
    "        # if skipped all future interactions with model will use predictor values passed for this\n",
    "        # function call as a side effect. makes reasoning harder.\n",
    "        # TODO: make this automatic, e.g. through modifying shared variables only in context\n",
    "        self._reset_predictor_values()\n",
    "\n",
    "        mu_samples = samples['mu']\n",
    "\n",
    "        columns = ['mu__{}'.format(i) for i in range(mu_samples.shape[1])]\n",
    "\n",
    "        return pd.DataFrame(data=mu_samples, columns=columns)\n",
    "    \n",
    "    def predict_mu(self, predictor_values):\n",
    "        \"\"\"\n",
    "        Generate mean/hpd predictions for mu based on 'predictor_values'. Closest to model.predict()\n",
    "        in sklearn\n",
    "        \n",
    "        In:\n",
    "            predictor_values: DataFrame with column names matching this_model.predictor_dict.keys()\n",
    "\n",
    "        Out:\n",
    "            df with mean and hpd of estimated mus, each row matches one input row of predictor_values df\n",
    "        \"\"\"\n",
    "        \n",
    "        mu_samples = self.sample_mu(predictor_values)\n",
    "\n",
    "        mu_means = mu_samples.mean(axis=0)\n",
    "\n",
    "        mu_hpd_lower, mu_hpd_upper = np.split(\n",
    "            ary=pm.hpd(mu_samples.values, alpha=0.03),\n",
    "            indices_or_sections=2,\n",
    "            axis=1\n",
    "        )\n",
    "\n",
    "        # 'squeeze()' necessary to remove empty 2nd axis, pandas complains otherwise\n",
    "        return pd.DataFrame(\n",
    "            {\n",
    "                'mu_means': mu_means, \n",
    "                'mu_hpd_lower': mu_hpd_lower.squeeze(), \n",
    "                'mu_hpd_upper': mu_hpd_upper.squeeze()\n",
    "            }\n",
    "        )"
   ]
  },
  {
   "cell_type": "code",
   "execution_count": 7,
   "metadata": {},
   "outputs": [],
   "source": [
    "def link(fitted_model, predictor_values):\n",
    "    \"\"\"\n",
    "    Generate samples of 'mu' variable for 'fitted_model' based on 'predictor_values'\n",
    "\n",
    "    In:\n",
    "        fitted_model: FittedModel instance\n",
    "        predictor_values: DataFrame with column names matching fitted_model.predictor_dict.keys()\n",
    "        \n",
    "    Out:\n",
    "        df with samples for means, one column per input data point\n",
    "    \"\"\"\n",
    "\n",
    "    return fitted_model.sample_mu(predictor_values)"
   ]
  },
  {
   "cell_type": "code",
   "execution_count": 8,
   "metadata": {
    "scrolled": false
   },
   "outputs": [],
   "source": [
    "def precis(fitted_model):\n",
    "    \"\"\"\n",
    "    Take a fitted model, give summaries about posterior estimates\n",
    "    \n",
    "    In:\n",
    "        fitted_model: instance of FittedModel\n",
    "    \n",
    "    Out:\n",
    "        pandas df with posterior summaries\n",
    "    \"\"\"\n",
    "    \n",
    "    summary =  pm.summary(fitted_model.trace, alpha=.11)\n",
    "\n",
    "    # filter out deterministic variables\n",
    "    # recognized by the '__'  in the name\n",
    "    return summary.loc[[ix for ix in summary.index if '__' not in ix]]"
   ]
  },
  {
   "cell_type": "code",
   "execution_count": 9,
   "metadata": {},
   "outputs": [],
   "source": [
    "def extract_samples(fitted_model):\n",
    "    \"\"\"\n",
    "    In:\n",
    "        fitted_model: FittedModel instance\n",
    "        \n",
    "    Out:\n",
    "        DataFrame with posterior samples of parameters\n",
    "    \"\"\"\n",
    "    \n",
    "    return pm.trace_to_dataframe(fitted_model.trace)"
   ]
  },
  {
   "cell_type": "markdown",
   "metadata": {},
   "source": [
    "# 7 Interactions\n",
    "\n",
    "Conditioning: data conditional on how we get our samples. Posterior distributions conditional on data. All inference conditional on the model. Every inference is conditional, but we might not realize it.\n",
    "\n",
    "Lin model = way of seeing outcome as conditional on predictors of that case.\n",
    "\n",
    "Lin model assumes each predictor has independent association w/ mean of outcome **how does this work if interpretation of coefficient is \"amount information gained when learning about this variable, already knowing all others\"? probably doesn't work. need more basic interpretation. maybe \"coefficent = expected change in outcome mean for unit increase in predictor, while keeping other predictors constant\". still linked somehow?**\n",
    "\n",
    "Ex: assume that link between brain size and milk energy depends on what kind of primate we are looking at (ape, monkey, prosimian). Influence needs to be conditional on that. McElreath: Lin. model in previous chapters cannot capture this. **again seems to indicate that we cannot use interpretation of 'given all other factors, how much do we learn about milk energy by getting information about brain size'. because 'all other factors' would include 'kind of primate'. which is weird, because is this not what 'statistically controlling for' would imply? we put in the another predictor into the model and thus control for it. more questions, not more answers. need discussion.**\n",
    "\n",
    "want to model: importance of predictor A depends on predictor B. need: interaction. simplest one: linear interaction. see below."
   ]
  },
  {
   "cell_type": "markdown",
   "metadata": {},
   "source": [
    "## 7.1. Building an interaction"
   ]
  },
  {
   "cell_type": "code",
   "execution_count": 11,
   "metadata": {},
   "outputs": [],
   "source": [
    "# Code 7.1\n",
    "\n",
    "d = pd.read_csv('./data/rugged.csv', sep=';').set_index('isocode')\n",
    "\n",
    "# make log version of outcome\n",
    "d = d.assign(log_gdp=np.log(d.rgdppc_2000))\n",
    "\n",
    "# drop incomplete cases\n",
    "dd = d.dropna(subset=['rgdppc_2000'])\n",
    "\n",
    "# split countries into africa and not-africa\n",
    "d_a1 = dd.query('cont_africa == 1')\n",
    "d_a0 = dd.query('cont_africa == 0')"
   ]
  },
  {
   "cell_type": "code",
   "execution_count": 12,
   "metadata": {},
   "outputs": [
    {
     "name": "stderr",
     "output_type": "stream",
     "text": [
      "Auto-assigning NUTS sampler...\n",
      "Initializing NUTS using jitter+adapt_diag...\n",
      "Multiprocess sampling (2 chains in 2 jobs)\n",
      "NUTS: [a, bR, sigma]\n"
     ]
    }
   ],
   "source": [
    "# african countries\n",
    "m_7_1, trace_7_1 = create_rugged_log_gdp_model(d_a1)"
   ]
  },
  {
   "cell_type": "code",
   "execution_count": 13,
   "metadata": {},
   "outputs": [
    {
     "name": "stderr",
     "output_type": "stream",
     "text": [
      "Auto-assigning NUTS sampler...\n",
      "Initializing NUTS using jitter+adapt_diag...\n",
      "Multiprocess sampling (2 chains in 2 jobs)\n",
      "NUTS: [a, bR, sigma]\n"
     ]
    }
   ],
   "source": [
    "# non-african countries\n",
    "m_7_2, trace_7_2 = create_rugged_log_gdp_model(d_a0)"
   ]
  },
  {
   "cell_type": "code",
   "execution_count": 14,
   "metadata": {},
   "outputs": [
    {
     "data": {
      "text/plain": [
       "Text(0.5, 1.0, 'Non-African countries')"
      ]
     },
     "execution_count": 14,
     "metadata": {},
     "output_type": "execute_result"
    },
    {
     "data": {
      "image/png": "[encoded data removed]",
      "text/plain": [
       "<Figure size 1080x360 with 2 Axes>"
      ]
     },
     "metadata": {},
     "output_type": "display_data"
    }
   ],
   "source": [
    "x = 'rugged'\n",
    "y = 'log_gdp'\n",
    "\n",
    "fig, axes_array = plt.subplots(nrows=1, ncols=2, figsize=(15, 5), sharey=True)\n",
    "\n",
    "ax = create_plot_scatter_with_predicted_means(d_a1, trace_7_1, x, y, axes_array[0])\n",
    "ax.set_title('African countries')\n",
    "\n",
    "ax = create_plot_scatter_with_predicted_means(d_a0, trace_7_2, x, y, axes_array[1])\n",
    "ax.set_title('Non-African countries')"
   ]
  },
  {
   "cell_type": "markdown",
   "metadata": {},
   "source": [
    "Slope different, but bad idea to split data into two frames like this because:\n",
    "\n",
    "* now assumes variance (sigma) is different between african and non-african countries\n",
    "* can't make statements about predictive power/uncertainty of 'is_african' variable used to split data\n",
    "* can't use information criteria to compare models b/c fitted on different data\n",
    "* can't use information from non-african countries for african countries/vice versa, which is done in multilevel models\n",
    "\n",
    "Instead, create one model that allows different slope based on predictor values"
   ]
  },
  {
   "cell_type": "markdown",
   "metadata": {},
   "source": [
    "### 7.1.1. adding a dummy variable doesn't work"
   ]
  },
  {
   "cell_type": "code",
   "execution_count": 15,
   "metadata": {},
   "outputs": [
    {
     "name": "stderr",
     "output_type": "stream",
     "text": [
      "Auto-assigning NUTS sampler...\n",
      "Initializing NUTS using jitter+adapt_diag...\n",
      "Multiprocess sampling (2 chains in 2 jobs)\n",
      "NUTS: [a, bR, sigma]\n"
     ]
    }
   ],
   "source": [
    "# Code 7.3\n",
    "\n",
    "m, t = create_rugged_log_gdp_model(dd, return_dataframe=False)\n",
    "\n",
    "fit_m_7_3 = FittedModel(m, t, None, 'm_7_3')"
   ]
  },
  {
   "cell_type": "code",
   "execution_count": 23,
   "metadata": {
    "scrolled": true
   },
   "outputs": [
    {
     "name": "stderr",
     "output_type": "stream",
     "text": [
      "Auto-assigning NUTS sampler...\n",
      "Initializing NUTS using jitter+adapt_diag...\n",
      "Multiprocess sampling (2 chains in 2 jobs)\n",
      "NUTS: [a, bA, bR, sigma]\n"
     ]
    }
   ],
   "source": [
    "# Code 7.4\n",
    "\n",
    "dataset = dd\n",
    "\n",
    "with pm.Model() as model:\n",
    "    \n",
    "    sigma = pm.Uniform('sigma', 0, 10)\n",
    "    \n",
    "    bR = pm.Normal('bR', 0, 1)\n",
    "    bA = pm.Normal('bA', 0, 1)\n",
    "    \n",
    "    a = pm.Normal('a', 8, 100)\n",
    "    \n",
    "    rugged = theano.shared(dataset.rugged.values)\n",
    "    cont_africa = theano.shared(dataset.cont_africa.values)\n",
    "    \n",
    "    mu = pm.Deterministic('mu', a + bR * rugged + bA * cont_africa)\n",
    "    log_gdp = pm.Normal('log_gdp', mu, sigma, observed=dataset.log_gdp)\n",
    "\n",
    "    trace = pm.sample(1000, tune=1000, progressbar=False)\n",
    "\n",
    "\n",
    "# object for easier bookkeeping\n",
    "fit_m_7_4 = FittedModel(\n",
    "    model = model,\n",
    "    trace = trace,\n",
    "    predictor_dict = {\n",
    "        'rugged': rugged,\n",
    "        'cont_africa': cont_africa\n",
    "    },\n",
    "    name = 'm_7_4'\n",
    ")"
   ]
  },
  {
   "cell_type": "code",
   "execution_count": 24,
   "metadata": {
    "scrolled": true
   },
   "outputs": [
    {
     "name": "stderr",
     "output_type": "stream",
     "text": [
      "/anaconda3/envs/rethinking_statistics/lib/python3.7/site-packages/pymc3/stats.py:211: UserWarning: For one or more samples the posterior variance of the\n",
      "        log predictive densities exceeds 0.4. This could be indication of\n",
      "        WAIC starting to fail see http://arxiv.org/abs/1507.04544 for details\n",
      "        \n",
      "  \"\"\")\n"
     ]
    },
    {
     "data": {
      "text/html": [
       "<div>\n",
       "<style scoped>\n",
       "    .dataframe tbody tr th:only-of-type {\n",
       "        vertical-align: middle;\n",
       "    }\n",
       "\n",
       "    .dataframe tbody tr th {\n",
       "        vertical-align: top;\n",
       "    }\n",
       "\n",
       "    .dataframe thead th {\n",
       "        text-align: right;\n",
       "    }\n",
       "</style>\n",
       "<table border=\"1\" class=\"dataframe\">\n",
       "  <thead>\n",
       "    <tr style=\"text-align: right;\">\n",
       "      <th></th>\n",
       "      <th>WAIC</th>\n",
       "      <th>pWAIC</th>\n",
       "      <th>dWAIC</th>\n",
       "      <th>weight</th>\n",
       "      <th>SE</th>\n",
       "      <th>dSE</th>\n",
       "      <th>var_warn</th>\n",
       "    </tr>\n",
       "    <tr>\n",
       "      <th>model</th>\n",
       "      <th></th>\n",
       "      <th></th>\n",
       "      <th></th>\n",
       "      <th></th>\n",
       "      <th></th>\n",
       "      <th></th>\n",
       "      <th></th>\n",
       "    </tr>\n",
       "  </thead>\n",
       "  <tbody>\n",
       "    <tr>\n",
       "      <th>m_7_4</th>\n",
       "      <td>476.13</td>\n",
       "      <td>4.19</td>\n",
       "      <td>0</td>\n",
       "      <td>1</td>\n",
       "      <td>14.9</td>\n",
       "      <td>0</td>\n",
       "      <td>1</td>\n",
       "    </tr>\n",
       "    <tr>\n",
       "      <th>m_7_3</th>\n",
       "      <td>539.29</td>\n",
       "      <td>2.51</td>\n",
       "      <td>63.16</td>\n",
       "      <td>0</td>\n",
       "      <td>13.32</td>\n",
       "      <td>14.55</td>\n",
       "      <td>0</td>\n",
       "    </tr>\n",
       "  </tbody>\n",
       "</table>\n",
       "</div>"
      ],
      "text/plain": [
       "         WAIC pWAIC  dWAIC weight     SE    dSE var_warn\n",
       "model                                                   \n",
       "m_7_4  476.13  4.19      0      1   14.9      0        1\n",
       "m_7_3  539.29  2.51  63.16      0  13.32  14.55        0"
      ]
     },
     "execution_count": 24,
     "metadata": {},
     "output_type": "execute_result"
    }
   ],
   "source": [
    "# Code 7.5\n",
    "compare(\n",
    "    [\n",
    "        fit_m_7_3,\n",
    "        fit_m_7_4\n",
    "    ]\n",
    ")"
   ]
  },
  {
   "cell_type": "code",
   "execution_count": 25,
   "metadata": {},
   "outputs": [
    {
     "data": {
      "text/plain": [
       "Text(0.5, 1.0, 'African countries')"
      ]
     },
     "execution_count": 25,
     "metadata": {},
     "output_type": "execute_result"
    },
    {
     "data": {
      "image/png": "[encoded data removed]",
      "text/plain": [
       "<Figure size 1080x360 with 2 Axes>"
      ]
     },
     "metadata": {},
     "output_type": "display_data"
    }
   ],
   "source": [
    "# Code 7.6\n",
    "\n",
    "# range of x-values\n",
    "rugged_values = np.arange(-1, 8.25, 0.25)\n",
    "\n",
    "# dataframes with predictor values\n",
    "d_not_africa = pd.DataFrame({'rugged': rugged_values, 'cont_africa': 0})\n",
    "d_africa = pd.DataFrame({'rugged': rugged_values, 'cont_africa': 1})\n",
    "\n",
    "# create posterior samples of mu for predictor values\n",
    "mu_not_africa = link(fit_m_7_4, d_not_africa)\n",
    "mu_africa = link(fit_m_7_4, d_africa)\n",
    "\n",
    "# x/y variable names\n",
    "x = 'rugged'\n",
    "y = 'mu_means'\n",
    "\n",
    "# plots\n",
    "fig, axes_array = plt.subplots(nrows=1, ncols=2, figsize=(15, 5), sharey=True)\n",
    "\n",
    "ax = create_plot_scatter_with_predicted_means(d_not_africa, mu_not_africa, x, y, axes_array[0], plot_y=False)\n",
    "ax.set_title('Non-African countries')\n",
    "\n",
    "ax = create_plot_scatter_with_predicted_means(d_africa, mu_africa, x, y, axes_array[1], plot_y=False)\n",
    "ax.set_title('African countries')"
   ]
  },
  {
   "cell_type": "markdown",
   "metadata": {},
   "source": [
    "No difference whatsoever in slope, perfectly parallel, just shifted. Can't change slope by including dummy variable. Model is only better in terms of WAIC b/c it allows model to capture fact that African nations on average have lower GDP"
   ]
  },
  {
   "cell_type": "markdown",
   "metadata": {},
   "source": [
    "### 7.1.2. Adding a linear interaction does work"
   ]
  },
  {
   "cell_type": "code",
   "execution_count": 26,
   "metadata": {},
   "outputs": [
    {
     "name": "stderr",
     "output_type": "stream",
     "text": [
      "Auto-assigning NUTS sampler...\n",
      "Initializing NUTS using jitter+adapt_diag...\n",
      "Multiprocess sampling (2 chains in 2 jobs)\n",
      "NUTS: [a, bAR, bA, bR, sigma]\n"
     ]
    }
   ],
   "source": [
    "# Code 7.7\n",
    "\n",
    "dataset = dd\n",
    "\n",
    "with pm.Model() as model:\n",
    "    \n",
    "    sigma = pm.Uniform('sigma', 0, 10)\n",
    "    \n",
    "    bR = pm.Normal('bR', 0, 1)\n",
    "    bA = pm.Normal('bA', 0, 1)\n",
    "    bAR = pm.Normal('bAR', 0, 1)\n",
    "    \n",
    "    a = pm.Normal('a', 8, 100)\n",
    "    \n",
    "    rugged = theano.shared(dataset.rugged.values)\n",
    "    cont_africa = theano.shared(dataset.cont_africa.values)\n",
    "    \n",
    "    gamma = pm.Deterministic('gamma', bR + bAR * cont_africa)\n",
    "    mu = pm.Deterministic('mu', a + gamma * rugged + bA * cont_africa)\n",
    "    log_gdp = pm.Normal('log_gdp', mu, sigma, observed=dataset.log_gdp)\n",
    "\n",
    "    trace = pm.sample(1000, tune=1000, progressbar=False)"
   ]
  },
  {
   "cell_type": "code",
   "execution_count": 27,
   "metadata": {},
   "outputs": [],
   "source": [
    "fit_m_7_5 = FittedModel(model, trace, {'rugged': rugged, 'cont_africa': cont_africa}, 'm_7_5')"
   ]
  },
  {
   "cell_type": "code",
   "execution_count": 28,
   "metadata": {},
   "outputs": [
    {
     "name": "stderr",
     "output_type": "stream",
     "text": [
      "/anaconda3/envs/rethinking_statistics/lib/python3.7/site-packages/pymc3/stats.py:211: UserWarning: For one or more samples the posterior variance of the\n",
      "        log predictive densities exceeds 0.4. This could be indication of\n",
      "        WAIC starting to fail see http://arxiv.org/abs/1507.04544 for details\n",
      "        \n",
      "  \"\"\")\n",
      "/anaconda3/envs/rethinking_statistics/lib/python3.7/site-packages/pymc3/stats.py:211: UserWarning: For one or more samples the posterior variance of the\n",
      "        log predictive densities exceeds 0.4. This could be indication of\n",
      "        WAIC starting to fail see http://arxiv.org/abs/1507.04544 for details\n",
      "        \n",
      "  \"\"\")\n"
     ]
    },
    {
     "data": {
      "text/html": [
       "<div>\n",
       "<style scoped>\n",
       "    .dataframe tbody tr th:only-of-type {\n",
       "        vertical-align: middle;\n",
       "    }\n",
       "\n",
       "    .dataframe tbody tr th {\n",
       "        vertical-align: top;\n",
       "    }\n",
       "\n",
       "    .dataframe thead th {\n",
       "        text-align: right;\n",
       "    }\n",
       "</style>\n",
       "<table border=\"1\" class=\"dataframe\">\n",
       "  <thead>\n",
       "    <tr style=\"text-align: right;\">\n",
       "      <th></th>\n",
       "      <th>WAIC</th>\n",
       "      <th>pWAIC</th>\n",
       "      <th>dWAIC</th>\n",
       "      <th>weight</th>\n",
       "      <th>SE</th>\n",
       "      <th>dSE</th>\n",
       "      <th>var_warn</th>\n",
       "    </tr>\n",
       "    <tr>\n",
       "      <th>model</th>\n",
       "      <th></th>\n",
       "      <th></th>\n",
       "      <th></th>\n",
       "      <th></th>\n",
       "      <th></th>\n",
       "      <th></th>\n",
       "      <th></th>\n",
       "    </tr>\n",
       "  </thead>\n",
       "  <tbody>\n",
       "    <tr>\n",
       "      <th>m_7_5</th>\n",
       "      <td>469.49</td>\n",
       "      <td>5.04</td>\n",
       "      <td>0</td>\n",
       "      <td>0.86</td>\n",
       "      <td>13.63</td>\n",
       "      <td>0</td>\n",
       "      <td>1</td>\n",
       "    </tr>\n",
       "    <tr>\n",
       "      <th>m_7_4</th>\n",
       "      <td>476.13</td>\n",
       "      <td>4.19</td>\n",
       "      <td>6.64</td>\n",
       "      <td>0.14</td>\n",
       "      <td>13.74</td>\n",
       "      <td>5.73</td>\n",
       "      <td>1</td>\n",
       "    </tr>\n",
       "    <tr>\n",
       "      <th>m_7_3</th>\n",
       "      <td>539.29</td>\n",
       "      <td>2.51</td>\n",
       "      <td>69.8</td>\n",
       "      <td>0</td>\n",
       "      <td>12.48</td>\n",
       "      <td>14.56</td>\n",
       "      <td>0</td>\n",
       "    </tr>\n",
       "  </tbody>\n",
       "</table>\n",
       "</div>"
      ],
      "text/plain": [
       "         WAIC pWAIC dWAIC weight     SE    dSE var_warn\n",
       "model                                                  \n",
       "m_7_5  469.49  5.04     0   0.86  13.63      0        1\n",
       "m_7_4  476.13  4.19  6.64   0.14  13.74   5.73        1\n",
       "m_7_3  539.29  2.51  69.8      0  12.48  14.56        0"
      ]
     },
     "execution_count": 28,
     "metadata": {},
     "output_type": "execute_result"
    }
   ],
   "source": [
    "# Code 7.8\n",
    "\n",
    "compare(\n",
    "    [\n",
    "        fit_m_7_3,\n",
    "        fit_m_7_4,\n",
    "        fit_m_7_5\n",
    "    ]\n",
    ")"
   ]
  },
  {
   "cell_type": "markdown",
   "metadata": {},
   "source": [
    "**note** WAIC similar to book. weights diverge, m_7_5 has 97% of weight in book instead of 83% here"
   ]
  },
  {
   "cell_type": "markdown",
   "metadata": {},
   "source": [
    "unclear what information criteria mean in this context. McElreath: \"reasonable people can disagree on this\".\n",
    "\n",
    "Author thinks IC still useful, even if we don't have train/test case, i.e. we are not going to draw more samples from process that creates African/Non-African nations and predict for those. However, WAIC measures flexiblity of model in general, can still warn about overfitting."
   ]
  },
  {
   "cell_type": "markdown",
   "metadata": {},
   "source": [
    "**overthinking: conventional form of interaction** interaction model can also be written by multiplying predictors, yielding this:\n",
    "\n",
    "$$\n",
    "\\mu_i = \\alpha + \\beta_R R_i + \\beta_{AR} R_i*A_i + \\beta_A A_i\n",
    "$$\n",
    "\n",
    "equivalent to form earlier in this chapter, just have to multiply out the $\\gamma_i$ factor back into the original term.\n",
    "\n",
    "Can also use this form to fit model:"
   ]
  },
  {
   "cell_type": "code",
   "execution_count": 29,
   "metadata": {},
   "outputs": [
    {
     "name": "stderr",
     "output_type": "stream",
     "text": [
      "Auto-assigning NUTS sampler...\n",
      "Initializing NUTS using jitter+adapt_diag...\n",
      "Multiprocess sampling (2 chains in 2 jobs)\n",
      "NUTS: [a, bAR, bA, bR, sigma]\n"
     ]
    }
   ],
   "source": [
    "# Code 7.9\n",
    "\n",
    "dataset = dd\n",
    "\n",
    "with pm.Model() as model:\n",
    "    \n",
    "    sigma = pm.Uniform('sigma', 0, 10)\n",
    "    \n",
    "    bR = pm.Normal('bR', 0, 1)\n",
    "    bA = pm.Normal('bA', 0, 1)\n",
    "    bAR = pm.Normal('bAR', 0, 1)\n",
    "    \n",
    "    a = pm.Normal('a', 8, 100)\n",
    "    \n",
    "    rugged = theano.shared(dataset.rugged.values)\n",
    "    cont_africa = theano.shared(dataset.cont_africa.values)\n",
    "    \n",
    "    mu = pm.Deterministic('mu', a + bR * rugged + bAR * rugged * cont_africa + bA * cont_africa)\n",
    "    log_gdp = pm.Normal('log_gdp', mu, sigma, observed=dataset.log_gdp)\n",
    "\n",
    "    trace = pm.sample(1000, tune=1000, progressbar=False)\n",
    "\n",
    "fit_m_7_5_b = FittedModel(model, trace, {'rugged': rugged, 'cont_africa': cont_africa}, 'm_7_5_b')"
   ]
  },
  {
   "cell_type": "markdown",
   "metadata": {},
   "source": [
    "### 7.1.3. Plotting interactions"
   ]
  },
  {
   "cell_type": "code",
   "execution_count": 30,
   "metadata": {},
   "outputs": [],
   "source": [
    "# Code 7.10\n",
    "\n",
    "# range of x-values\n",
    "rugged_values = np.arange(-1, 8.25, 0.25)\n",
    "\n",
    "# dataframes with predictor values\n",
    "d_not_africa = pd.DataFrame({'rugged': rugged_values, 'cont_africa': 0})\n",
    "d_africa = pd.DataFrame({'rugged': rugged_values, 'cont_africa': 1})\n",
    "\n",
    "# create mu samples for posterior estimates based on above data\n",
    "mu_not_africa = fit_m_7_5.sample_mu(d_not_africa)\n",
    "mu_africa = fit_m_7_5.sample_mu(d_africa)"
   ]
  },
  {
   "cell_type": "code",
   "execution_count": 31,
   "metadata": {},
   "outputs": [
    {
     "data": {
      "text/plain": [
       "Text(0.5, 1.0, 'African countries')"
      ]
     },
     "execution_count": 31,
     "metadata": {},
     "output_type": "execute_result"
    },
    {
     "data": {
      "image/png": "[encoded data removed]",
      "text/plain": [
       "<Figure size 1080x360 with 2 Axes>"
      ]
     },
     "metadata": {},
     "output_type": "display_data"
    }
   ],
   "source": [
    "# Code 7.11\n",
    "\n",
    "# x/y variable names\n",
    "x = 'rugged'\n",
    "y = 'mu_means'\n",
    "\n",
    "# plots\n",
    "fig, axes_array = plt.subplots(nrows=1, ncols=2, figsize=(15, 5), sharey=True)\n",
    "\n",
    "ax = create_plot_scatter_with_predicted_means(d_not_africa, mu_not_africa, x, y, axes_array[0], plot_y=False)\n",
    "ax.set_title('Non-African countries')\n",
    "\n",
    "ax = create_plot_scatter_with_predicted_means(d_africa, mu_africa, x, y, axes_array[1], plot_y=False)\n",
    "ax.set_title('African countries')"
   ]
  },
  {
   "cell_type": "code",
   "execution_count": 32,
   "metadata": {},
   "outputs": [
    {
     "data": {
      "text/plain": [
       "bR    -0.178205\n",
       "bA    -1.831986\n",
       "bAR    0.338924\n",
       "dtype: float64"
      ]
     },
     "execution_count": 32,
     "metadata": {},
     "output_type": "execute_result"
    }
   ],
   "source": [
    "pm.trace_to_dataframe(fit_m_7_5.trace).mean().filter(like='b')"
   ]
  },
  {
   "cell_type": "markdown",
   "metadata": {},
   "source": [
    "### 7.1.4. Interpreting an interaction estimate"
   ]
  },
  {
   "cell_type": "markdown",
   "metadata": {},
   "source": [
    "Effect in non-interaction model does not mean the same thing as effect of same predictor in interaction model. Generally intepretation is hard, plots preferred to tables of number. Difficulties:"
   ]
  },
  {
   "cell_type": "markdown",
   "metadata": {},
   "source": [
    "#### 7.1.4.1. Parameters change meaning"
   ]
  },
  {
   "cell_type": "markdown",
   "metadata": {},
   "source": [
    "Lin. regression w/o interactions: coefficient = how much average outcome $\\mu$ changes when predictor changes by one unit.\n",
    "\n",
    "All parameters have independent influence on outcome, meaning can interpet coefficients independently. Each slope parameter = measure of predictor variable's influence.\n",
    "\n",
    "Not true anymore for interaction models. $\\gamma$ depends on bR, bAR and Ai, need to know all of these to compute that slope."
   ]
  },
  {
   "cell_type": "code",
   "execution_count": 33,
   "metadata": {},
   "outputs": [
    {
     "data": {
      "text/html": [
       "<div>\n",
       "<style scoped>\n",
       "    .dataframe tbody tr th:only-of-type {\n",
       "        vertical-align: middle;\n",
       "    }\n",
       "\n",
       "    .dataframe tbody tr th {\n",
       "        vertical-align: top;\n",
       "    }\n",
       "\n",
       "    .dataframe thead th {\n",
       "        text-align: right;\n",
       "    }\n",
       "</style>\n",
       "<table border=\"1\" class=\"dataframe\">\n",
       "  <thead>\n",
       "    <tr style=\"text-align: right;\">\n",
       "      <th></th>\n",
       "      <th>mean</th>\n",
       "      <th>sd</th>\n",
       "      <th>mc_error</th>\n",
       "      <th>hpd_5.5</th>\n",
       "      <th>hpd_94.5</th>\n",
       "      <th>n_eff</th>\n",
       "      <th>Rhat</th>\n",
       "    </tr>\n",
       "  </thead>\n",
       "  <tbody>\n",
       "    <tr>\n",
       "      <th>bR</th>\n",
       "      <td>-0.178205</td>\n",
       "      <td>0.078716</td>\n",
       "      <td>0.002509</td>\n",
       "      <td>-0.311894</td>\n",
       "      <td>-0.059494</td>\n",
       "      <td>844.066221</td>\n",
       "      <td>1.000033</td>\n",
       "    </tr>\n",
       "    <tr>\n",
       "      <th>bA</th>\n",
       "      <td>-1.831986</td>\n",
       "      <td>0.222989</td>\n",
       "      <td>0.007281</td>\n",
       "      <td>-2.200644</td>\n",
       "      <td>-1.490212</td>\n",
       "      <td>856.991382</td>\n",
       "      <td>1.000706</td>\n",
       "    </tr>\n",
       "    <tr>\n",
       "      <th>bAR</th>\n",
       "      <td>0.338924</td>\n",
       "      <td>0.132539</td>\n",
       "      <td>0.004404</td>\n",
       "      <td>0.122334</td>\n",
       "      <td>0.536812</td>\n",
       "      <td>870.077040</td>\n",
       "      <td>1.000812</td>\n",
       "    </tr>\n",
       "    <tr>\n",
       "      <th>a</th>\n",
       "      <td>9.174228</td>\n",
       "      <td>0.142193</td>\n",
       "      <td>0.004297</td>\n",
       "      <td>8.944959</td>\n",
       "      <td>9.397163</td>\n",
       "      <td>890.947832</td>\n",
       "      <td>0.999707</td>\n",
       "    </tr>\n",
       "    <tr>\n",
       "      <th>sigma</th>\n",
       "      <td>0.951865</td>\n",
       "      <td>0.054751</td>\n",
       "      <td>0.001409</td>\n",
       "      <td>0.869194</td>\n",
       "      <td>1.042795</td>\n",
       "      <td>1511.251139</td>\n",
       "      <td>0.999528</td>\n",
       "    </tr>\n",
       "  </tbody>\n",
       "</table>\n",
       "</div>"
      ],
      "text/plain": [
       "           mean        sd  mc_error   hpd_5.5  hpd_94.5        n_eff      Rhat\n",
       "bR    -0.178205  0.078716  0.002509 -0.311894 -0.059494   844.066221  1.000033\n",
       "bA    -1.831986  0.222989  0.007281 -2.200644 -1.490212   856.991382  1.000706\n",
       "bAR    0.338924  0.132539  0.004404  0.122334  0.536812   870.077040  1.000812\n",
       "a      9.174228  0.142193  0.004297  8.944959  9.397163   890.947832  0.999707\n",
       "sigma  0.951865  0.054751  0.001409  0.869194  1.042795  1511.251139  0.999528"
      ]
     },
     "execution_count": 33,
     "metadata": {},
     "output_type": "execute_result"
    }
   ],
   "source": [
    "# Code 7.12\n",
    "\n",
    "precis(fit_m_7_5)"
   ]
  },
  {
   "cell_type": "markdown",
   "metadata": {},
   "source": [
    "#### 7.1.4.2. Incorporating uncertainty"
   ]
  },
  {
   "cell_type": "markdown",
   "metadata": {},
   "source": [
    "$\\gamma$ has distribution because it depends on parameters, which in turn have distributions. **anything calculated using parameters has a distribution**. \"one of the most important concepts on Bayesian model fitting\""
   ]
  },
  {
   "cell_type": "code",
   "execution_count": 34,
   "metadata": {},
   "outputs": [],
   "source": [
    "# Code 7.13\n",
    "\n",
    "post = extract_samples(fit_m_7_5)\n",
    "gamma = pd.DataFrame(\n",
    "    data=[\n",
    "        post.bR + post.bAR * 1, \n",
    "        post.bR + post.bAR * 0\n",
    "    ], \n",
    "    index=['africa', 'not_africa']\n",
    ").T"
   ]
  },
  {
   "cell_type": "code",
   "execution_count": 35,
   "metadata": {},
   "outputs": [
    {
     "data": {
      "text/plain": [
       "africa        0.160719\n",
       "not_africa   -0.178205\n",
       "dtype: float64"
      ]
     },
     "execution_count": 35,
     "metadata": {},
     "output_type": "execute_result"
    }
   ],
   "source": [
    "# Code 7.14\n",
    "\n",
    "gamma.mean()"
   ]
  },
  {
   "cell_type": "code",
   "execution_count": 36,
   "metadata": {},
   "outputs": [
    {
     "data": {
      "text/plain": [
       "Text(0, 0.5, 'density')"
      ]
     },
     "execution_count": 36,
     "metadata": {},
     "output_type": "execute_result"
    },
    {
     "data": {
      "image/png": "[encoded data removed]",
      "text/plain": [
       "<Figure size 432x288 with 1 Axes>"
      ]
     },
     "metadata": {},
     "output_type": "display_data"
    }
   ],
   "source": [
    "# Code 7.15\n",
    "\n",
    "sns.kdeplot(gamma.africa)\n",
    "sns.kdeplot(gamma.not_africa)\n",
    "\n",
    "ax = plt.gca()\n",
    "ax.set_xlabel('$\\gamma$')\n",
    "ax.set_ylabel('density')"
   ]
  },
  {
   "cell_type": "code",
   "execution_count": 37,
   "metadata": {},
   "outputs": [
    {
     "data": {
      "text/plain": [
       "0.65"
      ]
     },
     "execution_count": 37,
     "metadata": {},
     "output_type": "execute_result"
    }
   ],
   "source": [
    "# Code 7.16\n",
    "\n",
    "# probability of slope in africa being smaller than slope outside of africa\n",
    "(gamma.africa < gamma.not_africa).mean() * 100"
   ]
  },
  {
   "cell_type": "markdown",
   "metadata": {},
   "source": [
    "Note: 0.4% much smaller than visual overlap in figur above. Reason: figure shows marginal of each case \"like silhouettes of each distribution\". Not actually distribution of difference. \"If you care about the difference, you must compute the disribution of difference directly\". Same mechanism why overlap of confidence intervals can't be used as visual test of significance for parameter estimates"
   ]
  },
  {
   "cell_type": "code",
   "execution_count": 38,
   "metadata": {},
   "outputs": [
    {
     "data": {
      "text/plain": [
       "<matplotlib.axes._subplots.AxesSubplot at 0x1c21934898>"
      ]
     },
     "execution_count": 38,
     "metadata": {},
     "output_type": "execute_result"
    },
    {
     "data": {
      "image/png": "[encoded data removed]",
      "text/plain": [
       "<Figure size 432x288 with 1 Axes>"
      ]
     },
     "metadata": {},
     "output_type": "display_data"
    }
   ],
   "source": [
    "# So what is the distribution of differences?\n",
    "\n",
    "sns.distplot(gamma.africa - gamma.not_africa)"
   ]
  },
  {
   "cell_type": "markdown",
   "metadata": {},
   "source": [
    "Rethinking: More on the meaning of posterior probability. 0.4% is *not* probability of observing an event. Don't expect 0.36% of African nations to have worse impact of ruggedness on log gdp than country outside of Africa. \n",
    "\n",
    "Actual meaning: relative plausibilty for question asked given this model and these data. Model assigns very low plausibilty for $\\gamma$ being lower in Africa than outside. Of known possible states of the world (**question: possible states of the world = coefficient values?**) only 0.4% are consistent with that being the case and with the data.\n",
    "\n",
    "Model is highly sceptical of that being the case, but we should also keep being sceptical of the model"
   ]
  },
  {
   "cell_type": "markdown",
   "metadata": {},
   "source": [
    "## 7.2. Symmetry of the linear interaction"
   ]
  },
  {
   "cell_type": "markdown",
   "metadata": {},
   "source": [
    "### 7.2.1. Buridan's interaction"
   ]
  },
  {
   "cell_type": "markdown",
   "metadata": {},
   "source": [
    "When expanding interaction term to conventional form it's obvious to see that it's symmetrical between the two predictors it involves:\n",
    "\n",
    "$$\n",
    "\\mu_i = \\alpha + \\beta_R R_i + \\beta_{AR} R_i*A_i + \\beta_A A_i\n",
    "$$\n",
    "\n",
    "it involves R_i and A_i in the same way.\n",
    "\n",
    "Translated: how ruggedness impacts log_gdp depens on being in Africa or not. impact of being in Africa or not on log_gdp depends on ruggedness. Symmetrical in model."
   ]
  },
  {
   "cell_type": "markdown",
   "metadata": {},
   "source": [
    "No difference to model, but humans tend to give causal interpretation. Easier to think about changing one predictor than the other. Easier to think about changing ruggedness thant whether a nation is in Africa"
   ]
  },
  {
   "cell_type": "markdown",
   "metadata": {},
   "source": [
    "### 7.2.2. Africa depends on ruggedness"
   ]
  },
  {
   "cell_type": "code",
   "execution_count": 85,
   "metadata": {},
   "outputs": [
    {
     "data": {
      "text/plain": [
       "Text(38.23937986111112, 0.5, 'log GDP year 2000')"
      ]
     },
     "execution_count": 85,
     "metadata": {},
     "output_type": "execute_result"
    },
    {
     "data": {
      "image/png": "[encoded data removed]",
      "text/plain": [
       "<Figure size 472.925x360 with 1 Axes>"
      ]
     },
     "metadata": {},
     "output_type": "display_data"
    }
   ],
   "source": [
    "# Code 7.17\n",
    "\n",
    "# get minimum and maximum rugged values\n",
    "q_rugged = (dd.rugged.min(), dd.rugged.max())\n",
    "\n",
    "# compute lines and confidence intervals\n",
    "mu_ruggedlo_summary = fit_m_7_5.predict_mu(pd.DataFrame({'rugged': q_rugged[0], 'cont_africa': [0, 1]}))\n",
    "mu_ruggedhi_summary = fit_m_7_5.predict_mu(pd.DataFrame({'rugged': q_rugged[1], 'cont_africa': [0, 1]}))\n",
    "\n",
    "# plot it all, splitting points at media\n",
    "med_r = dd.rugged.median()\n",
    "\n",
    "dd = dd.assign(above_median_rugged = dd.rugged > med_r)\n",
    "\n",
    "sns.catplot(\n",
    "    data=dd, \n",
    "    x='cont_africa', \n",
    "    y='log_gdp', \n",
    "    hue='above_median_rugged', \n",
    "    dodge=True, \n",
    "    jitter=0\n",
    ")\n",
    "\n",
    "ax = plt.gca()\n",
    "\n",
    "for mu_data, linestyle in [(mu_ruggedhi_summary, '-'), (mu_ruggedlo_summary, '--')]:\n",
    "    ax.plot(\n",
    "        [0, 1], \n",
    "        mu_data.mu_means,\n",
    "        linestyle\n",
    "    )\n",
    "    \n",
    "    ax.fill_between(\n",
    "        x=[0, 1], \n",
    "        y1=mu_data.mu_hpd_lower,\n",
    "        y2=mu_data.mu_hpd_upper,\n",
    "        alpha=.3\n",
    "    )\n",
    "\n",
    "ax.set_xlabel('Nation is in Africa')\n",
    "ax.set_ylabel('log GDP year 2000')"
   ]
  },
  {
   "cell_type": "markdown",
   "metadata": {},
   "source": [
    "For low-ruggedness country moving from not-Africa to Africa reduces log GDP by 2 points on average. For very rugged country the same move nearly has no effect.\n",
    "\n",
    "Obviously nonsensical interpretation given real-world knowledge. However, not given by model or data. For these data and this model, both of these are true at the same time:\n",
    "* influence of ruggedness depends on continent\n",
    "* influence of continent depends on ruggendess"
   ]
  },
  {
   "cell_type": "markdown",
   "metadata": {},
   "source": [
    "However, additional thing learnt by this 'transposed' view: African nations nearly always worse off than non-African ones."
   ]
  },
  {
   "cell_type": "markdown",
   "metadata": {},
   "source": [
    "## 7.3 Continuous interactions\n",
    "Main point: interaction effects hard to interpret. Nearly impossible just by looking at numbers. Even more so for interactions between continuous variables.\n",
    "\n",
    "For cat variable: different slope per unique category. For continuous var: slope gradually changes. Even harder to grasp.\n",
    "\n",
    "Centering vars can help both in interpretation and model fitting.\n",
    "\n",
    "But, central message: always plot posterior predictions (counterfactual or real) to understand model fit."
   ]
  },
  {
   "cell_type": "markdown",
   "metadata": {},
   "source": [
    "### 7.3.1. The data\n",
    "Tuplip bloom sizes"
   ]
  },
  {
   "cell_type": "code",
   "execution_count": 98,
   "metadata": {},
   "outputs": [
    {
     "data": {
      "text/html": [
       "<div>\n",
       "<style scoped>\n",
       "    .dataframe tbody tr th:only-of-type {\n",
       "        vertical-align: middle;\n",
       "    }\n",
       "\n",
       "    .dataframe tbody tr th {\n",
       "        vertical-align: top;\n",
       "    }\n",
       "\n",
       "    .dataframe thead th {\n",
       "        text-align: right;\n",
       "    }\n",
       "</style>\n",
       "<table border=\"1\" class=\"dataframe\">\n",
       "  <thead>\n",
       "    <tr style=\"text-align: right;\">\n",
       "      <th></th>\n",
       "      <th>bed</th>\n",
       "      <th>water</th>\n",
       "      <th>shade</th>\n",
       "      <th>blooms</th>\n",
       "    </tr>\n",
       "  </thead>\n",
       "  <tbody>\n",
       "    <tr>\n",
       "      <th>0</th>\n",
       "      <td>a</td>\n",
       "      <td>1</td>\n",
       "      <td>1</td>\n",
       "      <td>0.00</td>\n",
       "    </tr>\n",
       "    <tr>\n",
       "      <th>1</th>\n",
       "      <td>a</td>\n",
       "      <td>1</td>\n",
       "      <td>2</td>\n",
       "      <td>0.00</td>\n",
       "    </tr>\n",
       "    <tr>\n",
       "      <th>2</th>\n",
       "      <td>a</td>\n",
       "      <td>1</td>\n",
       "      <td>3</td>\n",
       "      <td>111.04</td>\n",
       "    </tr>\n",
       "    <tr>\n",
       "      <th>3</th>\n",
       "      <td>a</td>\n",
       "      <td>2</td>\n",
       "      <td>1</td>\n",
       "      <td>183.47</td>\n",
       "    </tr>\n",
       "    <tr>\n",
       "      <th>4</th>\n",
       "      <td>a</td>\n",
       "      <td>2</td>\n",
       "      <td>2</td>\n",
       "      <td>59.16</td>\n",
       "    </tr>\n",
       "  </tbody>\n",
       "</table>\n",
       "</div>"
      ],
      "text/plain": [
       "  bed  water  shade  blooms\n",
       "0   a      1      1    0.00\n",
       "1   a      1      2    0.00\n",
       "2   a      1      3  111.04\n",
       "3   a      2      1  183.47\n",
       "4   a      2      2   59.16"
      ]
     },
     "execution_count": 98,
     "metadata": {},
     "output_type": "execute_result"
    }
   ],
   "source": [
    "# Code 7.18\n",
    "\n",
    "d = (\n",
    "    pd\n",
    "    .read_csv('./data/tulips.csv', sep=';')\n",
    ")\n",
    "\n",
    "d.head()"
   ]
  },
  {
   "cell_type": "markdown",
   "metadata": {},
   "source": [
    "task: predict 'blooms' from other variables. likely, more water and less shade, i.e. more light, will both help. but also connected: without light, no additional will be helpful"
   ]
  },
  {
   "cell_type": "markdown",
   "metadata": {},
   "source": [
    "### 7.3.2. The un-centered models"
   ]
  },
  {
   "cell_type": "markdown",
   "metadata": {},
   "source": [
    "quote: 'So this means that priors that look very flat may not actually be, because “flat” is always relative to the likelihood.' **discuss**"
   ]
  },
  {
   "cell_type": "code",
   "execution_count": 113,
   "metadata": {},
   "outputs": [
    {
     "name": "stderr",
     "output_type": "stream",
     "text": [
      "Auto-assigning NUTS sampler...\n",
      "Initializing NUTS using jitter+adapt_diag...\n",
      "Multiprocess sampling (2 chains in 2 jobs)\n",
      "NUTS: [a, bW, bS, sigma]\n",
      "logp = -175.26, ||grad|| = 0.0011502: 100%|██████████| 24/24 [00:00<00:00, 1416.44it/s]  \n"
     ]
    },
    {
     "data": {
      "text/plain": [
       "{'sigma_interval__': array(19.99194662),\n",
       " 'bS': array(-34.77920715),\n",
       " 'bW': array(76.44616379),\n",
       " 'a': array(44.02992948),\n",
       " 'sigma': array(100.),\n",
       " 'mu': array([ 85.69688612,  50.91767897,  16.13847183, 162.14304991,\n",
       "        127.36384277,  92.58463562, 238.58921371, 203.81000656,\n",
       "        169.03079941,  85.69688612,  50.91767897,  16.13847183,\n",
       "        162.14304991, 127.36384277,  92.58463562, 238.58921371,\n",
       "        203.81000656, 169.03079941,  85.69688612,  50.91767897,\n",
       "         16.13847183, 162.14304991, 127.36384277,  92.58463562,\n",
       "        238.58921371, 203.81000656, 169.03079941])}"
      ]
     },
     "execution_count": 113,
     "metadata": {},
     "output_type": "execute_result"
    }
   ],
   "source": [
    "# Code 7.19\n",
    "\n",
    "# create and fit model without interaction\n",
    "shared = {\n",
    "    'water': theano.shared(d.water.values, 'water'),\n",
    "    'shade': theano.shared(d.shade.values, 'shade')\n",
    "}\n",
    "\n",
    "with pm.Model() as m:\n",
    "    sigma = pm.Uniform('sigma', 0, 100)\n",
    "    bS = pm.Normal('bS', 0, 100)\n",
    "    bW = pm.Normal('bW', 0, 100)\n",
    "    a = pm.Normal('a', 0, 100)\n",
    "    mu = pm.Deterministic('mu', a + bW * shared['water'] + bS * shared['shade'])\n",
    "    blooms = pm.Normal('blooms', mu, sigma, observed=d.blooms)\n",
    "\n",
    "m_7_6 = therapy.Model(m, shared, 'm_7_6')\n",
    "\n",
    "m_7_6.fit(d)\n",
    "\n",
    "pm.find_MAP(model=m_7_6.model)"
   ]
  },
  {
   "cell_type": "code",
   "execution_count": 114,
   "metadata": {},
   "outputs": [
    {
     "name": "stderr",
     "output_type": "stream",
     "text": [
      "Auto-assigning NUTS sampler...\n",
      "Initializing NUTS using jitter+adapt_diag...\n",
      "Multiprocess sampling (2 chains in 2 jobs)\n",
      "NUTS: [a, bWS, bW, bS, sigma]\n",
      "The acceptance probability does not match the target. It is 0.8877635449867929, but should be close to 0.8. Try to increase the number of tuning steps.\n",
      "The number of effective samples is smaller than 25% for some parameters.\n",
      "logp = -170.17, ||grad|| = 0.012971: 100%|██████████| 54/54 [00:00<00:00, 905.68it/s]     \n"
     ]
    },
    {
     "data": {
      "text/plain": [
       "{'sigma_interval__': array(-0.15013976),\n",
       " 'bS': array(34.9836048),\n",
       " 'bW': array(151.00906588),\n",
       " 'bWS': array(-39.50317218),\n",
       " 'a': array(-84.31089711),\n",
       " 'sigma': array(46.253541),\n",
       " 'mu': array([ 62.17860138,  57.659034  ,  53.13946661, 173.68449507,\n",
       "        129.66175551,  85.63901594, 285.19038877, 201.66447702,\n",
       "        118.13856527,  62.17860138,  57.659034  ,  53.13946661,\n",
       "        173.68449507, 129.66175551,  85.63901594, 285.19038877,\n",
       "        201.66447702, 118.13856527,  62.17860138,  57.659034  ,\n",
       "         53.13946661, 173.68449507, 129.66175551,  85.63901594,\n",
       "        285.19038877, 201.66447702, 118.13856527])}"
      ]
     },
     "execution_count": 114,
     "metadata": {},
     "output_type": "execute_result"
    }
   ],
   "source": [
    "# create and fit model interaction\n",
    "shared = {\n",
    "    'water': theano.shared(d.water.values, 'water'),\n",
    "    'shade': theano.shared(d.shade.values, 'shade')\n",
    "}\n",
    "\n",
    "with pm.Model() as m:\n",
    "    sigma = pm.Uniform('sigma', 0, 100)\n",
    "    bS = pm.Normal('bS', 0, 100)\n",
    "    bW = pm.Normal('bW', 0, 100)\n",
    "    bWS = pm.Normal('bWS', 0, 100)\n",
    "    a = pm.Normal('a', 0, 100)\n",
    "    mu = pm.Deterministic('mu', a + bW * shared['water'] + bS * shared['shade'] + bWS * shared['water'] * shared['shade'])\n",
    "    blooms = pm.Normal('blooms', mu, sigma, observed=d.blooms)\n",
    "\n",
    "m_7_7 = therapy.Model(m, shared, 'm_7_7')\n",
    "\n",
    "m_7_7.fit(d)\n",
    "\n",
    "pm.find_MAP(model=m_7_7.model)"
   ]
  },
  {
   "cell_type": "markdown",
   "metadata": {},
   "source": [
    "Warning messages above, such as 'The number of effective samples is smaller than 25% for some parameters.' expected. Optimization algo has trouble finding good solutions. Can be fixed by:\n",
    "* use another optimization method\n",
    "* increase max search iterations\n",
    "* rescale data to make search easier. Fundamental issue: scale of 'bloom'.\n",
    "\n",
    "Trying first two solutions:"
   ]
  },
  {
   "cell_type": "code",
   "execution_count": 115,
   "metadata": {},
   "outputs": [
    {
     "name": "stderr",
     "output_type": "stream",
     "text": [
      "  0%|          | 0/5000 [00:00<?, ?it/s]/anaconda3/envs/rethinking_statistics/lib/python3.7/site-packages/scipy/optimize/_minimize.py:501: RuntimeWarning: Method Powell does not use gradient information (jac).\n",
      "  RuntimeWarning)\n",
      "logp = -169.34, ||grad|| = 0.035313: 100%|██████████| 384/384 [00:00<00:00, 1166.03it/s]  \n"
     ]
    },
    {
     "data": {
      "text/plain": [
       "{'sigma_interval__': array(0.29394305),\n",
       " 'bS': array(-38.97889713),\n",
       " 'bW': array(76.30032904),\n",
       " 'a': array(53.68225463),\n",
       " 'sigma': array(57.29611814),\n",
       " 'mu': array([ 91.00368654,  52.02478941,  13.04589228, 167.30401557,\n",
       "        128.32511844,  89.34622131, 243.60434461, 204.62544748,\n",
       "        165.64655035,  91.00368654,  52.02478941,  13.04589228,\n",
       "        167.30401557, 128.32511844,  89.34622131, 243.60434461,\n",
       "        204.62544748, 165.64655035,  91.00368654,  52.02478941,\n",
       "         13.04589228, 167.30401557, 128.32511844,  89.34622131,\n",
       "        243.60434461, 204.62544748, 165.64655035])}"
      ]
     },
     "execution_count": 115,
     "metadata": {},
     "output_type": "execute_result"
    }
   ],
   "source": [
    "# Code 7.20\n",
    "\n",
    "# took code from here: https://github.com/pymc-devs/resources/blob/master/Rethinking/Chp_07.ipynb\n",
    "\n",
    "from scipy import optimize\n",
    "map_7_6 = pm.find_MAP(model=m_7_6.model, method='Powell')\n",
    "map_7_6"
   ]
  },
  {
   "cell_type": "code",
   "execution_count": 116,
   "metadata": {},
   "outputs": [
    {
     "name": "stderr",
     "output_type": "stream",
     "text": [
      "logp = -170.17, ||grad|| = 0.0014459: 100%|██████████| 824/824 [00:00<00:00, 1106.79it/s] \n"
     ]
    },
    {
     "data": {
      "text/plain": [
       "{'sigma_interval__': array(-0.15002091),\n",
       " 'bS': array(34.97300695),\n",
       " 'bW': array(150.99792141),\n",
       " 'bWS': array(-39.49642547),\n",
       " 'a': array(-84.29365942),\n",
       " 'sigma': array(46.25649567),\n",
       " 'mu': array([ 62.18084347,  57.65742495,  53.13400643, 173.68233941,\n",
       "        129.66249541,  85.64265142, 285.18383535, 201.66756587,\n",
       "        118.1512964 ,  62.18084347,  57.65742495,  53.13400643,\n",
       "        173.68233941, 129.66249541,  85.64265142, 285.18383535,\n",
       "        201.66756587, 118.1512964 ,  62.18084347,  57.65742495,\n",
       "         53.13400643, 173.68233941, 129.66249541,  85.64265142,\n",
       "        285.18383535, 201.66756587, 118.1512964 ])}"
      ]
     },
     "execution_count": 116,
     "metadata": {},
     "output_type": "execute_result"
    }
   ],
   "source": [
    "map_7_7 = pm.find_MAP(model=m_7_7.model, method='Powell')\n",
    "map_7_7"
   ]
  },
  {
   "cell_type": "code",
   "execution_count": 163,
   "metadata": {},
   "outputs": [
    {
     "data": {
      "text/html": [
       "<div>\n",
       "<style scoped>\n",
       "    .dataframe tbody tr th:only-of-type {\n",
       "        vertical-align: middle;\n",
       "    }\n",
       "\n",
       "    .dataframe tbody tr th {\n",
       "        vertical-align: top;\n",
       "    }\n",
       "\n",
       "    .dataframe thead th {\n",
       "        text-align: right;\n",
       "    }\n",
       "</style>\n",
       "<table border=\"1\" class=\"dataframe\">\n",
       "  <thead>\n",
       "    <tr style=\"text-align: right;\">\n",
       "      <th></th>\n",
       "      <th>m_7_6</th>\n",
       "      <th>m_7_7</th>\n",
       "    </tr>\n",
       "  </thead>\n",
       "  <tbody>\n",
       "    <tr>\n",
       "      <th>a</th>\n",
       "      <td>53.126661</td>\n",
       "      <td>-71.584954</td>\n",
       "    </tr>\n",
       "    <tr>\n",
       "      <th>bS</th>\n",
       "      <td>-38.361310</td>\n",
       "      <td>29.788829</td>\n",
       "    </tr>\n",
       "    <tr>\n",
       "      <th>bW</th>\n",
       "      <td>76.012188</td>\n",
       "      <td>144.885397</td>\n",
       "    </tr>\n",
       "    <tr>\n",
       "      <th>bWS</th>\n",
       "      <td>NaN</td>\n",
       "      <td>-37.028425</td>\n",
       "    </tr>\n",
       "    <tr>\n",
       "      <th>sigma</th>\n",
       "      <td>63.092791</td>\n",
       "      <td>52.925239</td>\n",
       "    </tr>\n",
       "  </tbody>\n",
       "</table>\n",
       "</div>"
      ],
      "text/plain": [
       "           m_7_6       m_7_7\n",
       "a      53.126661  -71.584954\n",
       "bS    -38.361310   29.788829\n",
       "bW     76.012188  144.885397\n",
       "bWS          NaN  -37.028425\n",
       "sigma  63.092791   52.925239"
      ]
     },
     "execution_count": 163,
     "metadata": {},
     "output_type": "execute_result"
    }
   ],
   "source": [
    "# Code 7.21\n",
    "therapy.coeftab([m_7_6, m_7_7]).sort_index()"
   ]
  },
  {
   "cell_type": "markdown",
   "metadata": {},
   "source": [
    "Interpretation hard. \n",
    "* $a$ varies a lot between models, but actually has no examples in data - water and shade are never 0.\n",
    "* posterior of 7_6 implies more shade is worse, more water is good\n",
    "* but posterior of 7_7 implies more shade is actually better\n",
    "* direct comparison of both models by waic implies 7_7 is a lot better model (see below) - so is shade good for bloom?\n",
    "* mitigated by negative interaction term - but how does that actually reflect in predictions?"
   ]
  },
  {
   "cell_type": "code",
   "execution_count": 166,
   "metadata": {
    "scrolled": true
   },
   "outputs": [
    {
     "name": "stderr",
     "output_type": "stream",
     "text": [
      "/anaconda3/envs/rethinking_statistics/lib/python3.7/site-packages/pymc3/stats.py:211: UserWarning: For one or more samples the posterior variance of the\n",
      "        log predictive densities exceeds 0.4. This could be indication of\n",
      "        WAIC starting to fail see http://arxiv.org/abs/1507.04544 for details\n",
      "        \n",
      "  \"\"\")\n",
      "/anaconda3/envs/rethinking_statistics/lib/python3.7/site-packages/pymc3/stats.py:211: UserWarning: For one or more samples the posterior variance of the\n",
      "        log predictive densities exceeds 0.4. This could be indication of\n",
      "        WAIC starting to fail see http://arxiv.org/abs/1507.04544 for details\n",
      "        \n",
      "  \"\"\")\n"
     ]
    },
    {
     "data": {
      "text/html": [
       "<div>\n",
       "<style scoped>\n",
       "    .dataframe tbody tr th:only-of-type {\n",
       "        vertical-align: middle;\n",
       "    }\n",
       "\n",
       "    .dataframe tbody tr th {\n",
       "        vertical-align: top;\n",
       "    }\n",
       "\n",
       "    .dataframe thead th {\n",
       "        text-align: right;\n",
       "    }\n",
       "</style>\n",
       "<table border=\"1\" class=\"dataframe\">\n",
       "  <thead>\n",
       "    <tr style=\"text-align: right;\">\n",
       "      <th></th>\n",
       "      <th>WAIC</th>\n",
       "      <th>pWAIC</th>\n",
       "      <th>dWAIC</th>\n",
       "      <th>weight</th>\n",
       "      <th>SE</th>\n",
       "      <th>dSE</th>\n",
       "      <th>var_warn</th>\n",
       "    </tr>\n",
       "    <tr>\n",
       "      <th>model</th>\n",
       "      <th></th>\n",
       "      <th></th>\n",
       "      <th></th>\n",
       "      <th></th>\n",
       "      <th></th>\n",
       "      <th></th>\n",
       "      <th></th>\n",
       "    </tr>\n",
       "  </thead>\n",
       "  <tbody>\n",
       "    <tr>\n",
       "      <th>m_7_7</th>\n",
       "      <td>294.25</td>\n",
       "      <td>4.21</td>\n",
       "      <td>0</td>\n",
       "      <td>0.96</td>\n",
       "      <td>6.95</td>\n",
       "      <td>0</td>\n",
       "      <td>1</td>\n",
       "    </tr>\n",
       "    <tr>\n",
       "      <th>m_7_6</th>\n",
       "      <td>303.52</td>\n",
       "      <td>3.66</td>\n",
       "      <td>9.27</td>\n",
       "      <td>0.04</td>\n",
       "      <td>6.82</td>\n",
       "      <td>3.84</td>\n",
       "      <td>1</td>\n",
       "    </tr>\n",
       "  </tbody>\n",
       "</table>\n",
       "</div>"
      ],
      "text/plain": [
       "         WAIC pWAIC dWAIC weight    SE   dSE var_warn\n",
       "model                                                \n",
       "m_7_7  294.25  4.21     0   0.96  6.95     0        1\n",
       "m_7_6  303.52  3.66  9.27   0.04  6.82  3.84        1"
      ]
     },
     "execution_count": 166,
     "metadata": {},
     "output_type": "execute_result"
    }
   ],
   "source": [
    "# Code 7.22\n",
    "therapy.compare([m_7_6, m_7_7])"
   ]
  },
  {
   "cell_type": "markdown",
   "metadata": {},
   "source": [
    "Generally, not safe to interpret interactions without plotting them. Highly encouraged to plot model predictions"
   ]
  },
  {
   "cell_type": "markdown",
   "metadata": {},
   "source": [
    "For now: try centering to improve estimates"
   ]
  },
  {
   "cell_type": "markdown",
   "metadata": {},
   "source": [
    "**Rethinking: Fighting with your robot.** Issues in fitting such as above annoying but realistic. In general: **how you fit the model is part of the model**. Best approach: get used to troubleshooting."
   ]
  },
  {
   "cell_type": "markdown",
   "metadata": {},
   "source": [
    "### 7.3.3. Center re-estimate"
   ]
  },
  {
   "cell_type": "code",
   "execution_count": 168,
   "metadata": {},
   "outputs": [],
   "source": [
    "# Code 7.23\n",
    "d = (\n",
    "    d\n",
    "    .assign(\n",
    "        shade_c = d.shade - d.shade.mean(),\n",
    "        water_c = d.water - d.water.mean()\n",
    "    )\n",
    ")"
   ]
  },
  {
   "cell_type": "code",
   "execution_count": 214,
   "metadata": {
    "scrolled": true
   },
   "outputs": [
    {
     "data": {
      "text/plain": [
       "<module 'therapy' from '/Users/niweber/rethinking_statistics_code/therapy.py'>"
      ]
     },
     "execution_count": 214,
     "metadata": {},
     "output_type": "execute_result"
    }
   ],
   "source": [
    "importlib.reload(therapy)"
   ]
  },
  {
   "cell_type": "code",
   "execution_count": 216,
   "metadata": {},
   "outputs": [
    {
     "name": "stdout",
     "output_type": "stream",
     "text": [
      "building and fitting model m_7_8\n"
     ]
    },
    {
     "name": "stderr",
     "output_type": "stream",
     "text": [
      "Auto-assigning NUTS sampler...\n",
      "Initializing NUTS using jitter+adapt_diag...\n",
      "Multiprocess sampling (2 chains in 2 jobs)\n",
      "NUTS: [a, bW, bS, sigma]\n",
      "The acceptance probability does not match the target. It is 0.92596120764587, but should be close to 0.8. Try to increase the number of tuning steps.\n",
      "The acceptance probability does not match the target. It is 0.895972019102794, but should be close to 0.8. Try to increase the number of tuning steps.\n"
     ]
    },
    {
     "name": "stdout",
     "output_type": "stream",
     "text": [
      "building and fitting model m_7_9\n"
     ]
    },
    {
     "name": "stderr",
     "output_type": "stream",
     "text": [
      "Auto-assigning NUTS sampler...\n",
      "Initializing NUTS using jitter+adapt_diag...\n",
      "Multiprocess sampling (2 chains in 2 jobs)\n",
      "NUTS: [bWS, a, bW, bS, sigma]\n"
     ]
    }
   ],
   "source": [
    "# Code 7.24\n",
    "\n",
    "models = list()\n",
    "\n",
    "for interact, name in zip([False, True], ['m_7_8', 'm_7_9']):\n",
    "    print('building and fitting model '+name)\n",
    "    \n",
    "    # create shared variables from centered values\n",
    "    shared = {\n",
    "        'water_c': theano.shared(d.water_c.values, 'water_c'),\n",
    "        'shade_c': theano.shared(d.shade_c.values, 'shade_c')\n",
    "    }\n",
    "\n",
    "    # model definition\n",
    "    with pm.Model() as m:\n",
    "        sigma = pm.Uniform('sigma', 0, 100)\n",
    "        bS = pm.Normal('bS', 0, 100)\n",
    "        bW = pm.Normal('bW', 0, 100)\n",
    "        a = pm.Normal('a', 0, 100)\n",
    "        if interact:\n",
    "            bWS = pm.Normal('bWS', 0, 100)\n",
    "            mu = pm.Deterministic('mu', a + bW * shared['water_c'] + bS * shared['shade_c'] + bWS * shared['water_c'] * shared['shade_c'])\n",
    "        else:\n",
    "            mu = pm.Deterministic('mu', a + bW * shared['water_c'] + bS * shared['shade_c'])\n",
    "        blooms = pm.Normal('blooms', mu, sigma, observed=d.blooms)\n",
    "\n",
    "    # fit model with useful starting values\n",
    "    t_model = therapy.Model(m, shared, name)\n",
    "    t_model.fit(\n",
    "        d, \n",
    "        progressbar=False,\n",
    "        draw=1000,\n",
    "        tune=1000,\n",
    "        start={\n",
    "            'a': d.blooms.mean(),\n",
    "            'bW': 0,\n",
    "            'bS': 0,\n",
    "            'bWS': 0,\n",
    "            'sigma': d.blooms.std()\n",
    "        }\n",
    "    )\n",
    "    \n",
    "    # add fitted model to list\n",
    "    models.append(t_model)"
   ]
  },
  {
   "cell_type": "code",
   "execution_count": 217,
   "metadata": {},
   "outputs": [
    {
     "data": {
      "text/html": [
       "<div>\n",
       "<style scoped>\n",
       "    .dataframe tbody tr th:only-of-type {\n",
       "        vertical-align: middle;\n",
       "    }\n",
       "\n",
       "    .dataframe tbody tr th {\n",
       "        vertical-align: top;\n",
       "    }\n",
       "\n",
       "    .dataframe thead th {\n",
       "        text-align: right;\n",
       "    }\n",
       "</style>\n",
       "<table border=\"1\" class=\"dataframe\">\n",
       "  <thead>\n",
       "    <tr style=\"text-align: right;\">\n",
       "      <th></th>\n",
       "      <th>m_7_8</th>\n",
       "      <th>m_7_9</th>\n",
       "    </tr>\n",
       "  </thead>\n",
       "  <tbody>\n",
       "    <tr>\n",
       "      <th>bS</th>\n",
       "      <td>-40.940415</td>\n",
       "      <td>-40.693868</td>\n",
       "    </tr>\n",
       "    <tr>\n",
       "      <th>bW</th>\n",
       "      <td>73.562139</td>\n",
       "      <td>74.573332</td>\n",
       "    </tr>\n",
       "    <tr>\n",
       "      <th>a</th>\n",
       "      <td>127.016592</td>\n",
       "      <td>127.304406</td>\n",
       "    </tr>\n",
       "    <tr>\n",
       "      <th>sigma</th>\n",
       "      <td>64.223340</td>\n",
       "      <td>51.882291</td>\n",
       "    </tr>\n",
       "    <tr>\n",
       "      <th>bWS</th>\n",
       "      <td>NaN</td>\n",
       "      <td>-51.423707</td>\n",
       "    </tr>\n",
       "  </tbody>\n",
       "</table>\n",
       "</div>"
      ],
      "text/plain": [
       "            m_7_8       m_7_9\n",
       "bS     -40.940415  -40.693868\n",
       "bW      73.562139   74.573332\n",
       "a      127.016592  127.304406\n",
       "sigma   64.223340   51.882291\n",
       "bWS           NaN  -51.423707"
      ]
     },
     "execution_count": 217,
     "metadata": {},
     "output_type": "execute_result"
    }
   ],
   "source": [
    "m_7_8, m_7_9 = models\n",
    "therapy.coeftab(models)"
   ]
  },
  {
   "cell_type": "markdown",
   "metadata": {},
   "source": [
    "Observations: \n",
    "* effects of water, shade now the same across both models\n",
    "* however, interaction has not changed\n",
    "* how come?"
   ]
  },
  {
   "cell_type": "markdown",
   "metadata": {},
   "source": [
    "#### 7.3.3.1. estimation worked better\n",
    "Search failed b/c MAP values far away from starting values, hard to find. After centering, MAP value for $\\alpha$ is just mean of $bloom$, easy to find, can even be initialized as such."
   ]
  },
  {
   "cell_type": "markdown",
   "metadata": {},
   "source": [
    "#### 7.3.3.2. Estimates changed less across models\n",
    "How come effects changed direction between centered and uncentered versions of models? For uncentered: interaction term always has effect, as $water$ and $shade$ are never 0, even for average flower. For uncentered interaction model, prediction at average is:"
   ]
  },
  {
   "cell_type": "code",
   "execution_count": 248,
   "metadata": {},
   "outputs": [
    {
     "data": {
      "text/plain": [
       "129.64979645269793"
      ]
     },
     "execution_count": 248,
     "metadata": {},
     "output_type": "execute_result"
    }
   ],
   "source": [
    "# Code 7.25\n",
    "k = therapy.coef(m_7_7)\n",
    "k.a + k.bS * 2 + k.bW * 2 + k.bWS * 2 * 2"
   ]
  },
  {
   "cell_type": "markdown",
   "metadata": {},
   "source": [
    "And, \"by no coincidence at all\" we get the same result by plugging in the mean values of the centered dataset into the equation of the interaction model trained on that dataset:"
   ]
  },
  {
   "cell_type": "code",
   "execution_count": 249,
   "metadata": {},
   "outputs": [
    {
     "data": {
      "text/plain": [
       "127.30440596656615"
      ]
     },
     "execution_count": 249,
     "metadata": {},
     "output_type": "execute_result"
    }
   ],
   "source": [
    "# Code 7.26\n",
    "k = therapy.coef(m_7_9)\n",
    "k.a + k.bS * 0 + k.bW * 0 + k.bWS * 0 * 0"
   ]
  },
  {
   "cell_type": "markdown",
   "metadata": {},
   "source": [
    "$\\alpha$ actually meaningful after centering, becomes grand mean of outcome. Thus: useful to center for this alone already"
   ]
  },
  {
   "cell_type": "code",
   "execution_count": 254,
   "metadata": {},
   "outputs": [
    {
     "data": {
      "text/html": [
       "<div>\n",
       "<style scoped>\n",
       "    .dataframe tbody tr th:only-of-type {\n",
       "        vertical-align: middle;\n",
       "    }\n",
       "\n",
       "    .dataframe tbody tr th {\n",
       "        vertical-align: top;\n",
       "    }\n",
       "\n",
       "    .dataframe thead th {\n",
       "        text-align: right;\n",
       "    }\n",
       "</style>\n",
       "<table border=\"1\" class=\"dataframe\">\n",
       "  <thead>\n",
       "    <tr style=\"text-align: right;\">\n",
       "      <th></th>\n",
       "      <th>mean</th>\n",
       "      <th>sd</th>\n",
       "      <th>mc_error</th>\n",
       "      <th>hpd_5.5</th>\n",
       "      <th>hpd_94.5</th>\n",
       "      <th>n_eff</th>\n",
       "      <th>Rhat</th>\n",
       "    </tr>\n",
       "  </thead>\n",
       "  <tbody>\n",
       "    <tr>\n",
       "      <th>a</th>\n",
       "      <td>127.304406</td>\n",
       "      <td>10.701801</td>\n",
       "      <td>0.351431</td>\n",
       "      <td>110.577104</td>\n",
       "      <td>143.386037</td>\n",
       "      <td>905.735156</td>\n",
       "      <td>1.002962</td>\n",
       "    </tr>\n",
       "    <tr>\n",
       "      <th>bS</th>\n",
       "      <td>-40.693868</td>\n",
       "      <td>11.488422</td>\n",
       "      <td>0.382605</td>\n",
       "      <td>-60.228606</td>\n",
       "      <td>-23.705060</td>\n",
       "      <td>893.385164</td>\n",
       "      <td>0.999075</td>\n",
       "    </tr>\n",
       "    <tr>\n",
       "      <th>bW</th>\n",
       "      <td>74.573332</td>\n",
       "      <td>12.169239</td>\n",
       "      <td>0.327560</td>\n",
       "      <td>57.325954</td>\n",
       "      <td>95.809304</td>\n",
       "      <td>1262.985320</td>\n",
       "      <td>0.999168</td>\n",
       "    </tr>\n",
       "    <tr>\n",
       "      <th>bWS</th>\n",
       "      <td>-51.423707</td>\n",
       "      <td>14.741342</td>\n",
       "      <td>0.508098</td>\n",
       "      <td>-74.857526</td>\n",
       "      <td>-28.695366</td>\n",
       "      <td>970.827380</td>\n",
       "      <td>0.999000</td>\n",
       "    </tr>\n",
       "    <tr>\n",
       "      <th>sigma</th>\n",
       "      <td>51.882291</td>\n",
       "      <td>8.232949</td>\n",
       "      <td>0.322458</td>\n",
       "      <td>38.957105</td>\n",
       "      <td>63.444700</td>\n",
       "      <td>633.863144</td>\n",
       "      <td>1.001007</td>\n",
       "    </tr>\n",
       "  </tbody>\n",
       "</table>\n",
       "</div>"
      ],
      "text/plain": [
       "             mean         sd  mc_error     hpd_5.5    hpd_94.5        n_eff  \\\n",
       "a      127.304406  10.701801  0.351431  110.577104  143.386037   905.735156   \n",
       "bS     -40.693868  11.488422  0.382605  -60.228606  -23.705060   893.385164   \n",
       "bW      74.573332  12.169239  0.327560   57.325954   95.809304  1262.985320   \n",
       "bWS    -51.423707  14.741342  0.508098  -74.857526  -28.695366   970.827380   \n",
       "sigma   51.882291   8.232949  0.322458   38.957105   63.444700   633.863144   \n",
       "\n",
       "           Rhat  \n",
       "a      1.002962  \n",
       "bS     0.999075  \n",
       "bW     0.999168  \n",
       "bWS    0.999000  \n",
       "sigma  1.001007  "
      ]
     },
     "execution_count": 254,
     "metadata": {},
     "output_type": "execute_result"
    }
   ],
   "source": [
    "# Code 7.27\n",
    "therapy.precis(m_7_9).sort_index()"
   ]
  },
  {
   "cell_type": "markdown",
   "metadata": {},
   "source": [
    "Read:\n",
    "\n",
    "* $\\alpha$: expected value of $blooms$ when $water$ and $shade$ are at avg values. Avg values are 0 b/c of centering\n",
    "* $\\beta_W$: expcted change in $blooms$ when increasing $water$ by one unit, while $shade$ is fixed at avg value. Does not say anything about expected change for other value sof $shade$. Here: more water, bigger bloom\n",
    "* $\\beta_S$: expected change in $blooms$ for increase of $shade$ by one unit, while $water$ fixed at average of 0. No informationa about change for other $water$ values. Here: more shade, smaller bloom\n",
    "* $\\beta_{WS}$: first: change of influence of $water$ on $blooms$ when increasing $shade$ by one unit. second: expected change in influence of $shade$ on $blooms$ when increasing $water$ by one unit"
   ]
  },
  {
   "cell_type": "markdown",
   "metadata": {},
   "source": [
    "Why is $bWS$ negative? B/c $water$ and $shade$ have opposite effect on $blooms$, but make each other more important. Hard to read from raw value '-51'. Need to plot to understand!"
   ]
  },
  {
   "cell_type": "markdown",
   "metadata": {},
   "source": [
    "### 7.3.4. Plotting implied predictions"
   ]
  },
  {
   "cell_type": "markdown",
   "metadata": {},
   "source": [
    "Plotting necessary to understand model.\n",
    "\n",
    "Previously, could hold other var constant at any value, slope would not change. Not possible anymore w/ interactions. Thus: make multiple plots for multiple values of other var to understand model behavior."
   ]
  },
  {
   "cell_type": "code",
   "execution_count": 340,
   "metadata": {},
   "outputs": [
    {
     "data": {
      "image/png": "[encoded data removed]",
      "text/plain": [
       "<Figure size 1080x720 with 6 Axes>"
      ]
     },
     "metadata": {},
     "output_type": "display_data"
    }
   ],
   "source": [
    "# Code 7.28\n",
    "\n",
    "models = [m_7_8, m_7_9]\n",
    "water_c_vals = [-1 , 0, 1]\n",
    "combinations = itertools.product(models, water_c_vals)\n",
    "\n",
    "fig, ax_array = plt.subplots(len(models), len(water_c_vals), sharex=True, sharey=True, figsize=(15, 10))\n",
    "\n",
    "for (model, water_c), ax in zip(combinations, ax_array.ravel()):\n",
    "    sns.scatterplot(x='shade_c', y='blooms', data=d[d.water_c == water_c], ax=ax)\n",
    "\n",
    "    X = pd.DataFrame({'water_c': water_c, 'shade_c': [-1, 0, 1]})\n",
    "    preds = model.predict(X, [model.model.mu])\n",
    "    Xy = X.join(preds)\n",
    "    \n",
    "    # how could i do this with seaborn?\n",
    "    ax.plot('shade_c', 'mu_mean', 'black', data=Xy)\n",
    "    ax.plot('shade_c', 'mu_hpd_lower', 'b--', data=Xy)\n",
    "    ax.plot('shade_c', 'mu_hpd_upper', 'b--', data=Xy)\n",
    "\n",
    "    ax.set_title('water_c = {}'.format(water_c))"
   ]
  },
  {
   "cell_type": "markdown",
   "metadata": {},
   "source": [
    "Observation: w/o interaction: same slope, shifted. W/ interaction: impact of shade depends on water level. More water = more negative impact of more shade. Also, symmetrically, but not plotted: more shade = more positie effect of more water.\n",
    "\n",
    "Interpretation: water and shade both important for bloom. Need both light and water to grow, if one is missing other does not have a lot of effect"
   ]
  },
  {
   "cell_type": "markdown",
   "metadata": {},
   "source": [
    "## 7.4. Interactions in design formulas\n",
    "How to translate interactions into design formulas"
   ]
  },
  {
   "cell_type": "code",
   "execution_count": 342,
   "metadata": {},
   "outputs": [],
   "source": [
    "# Code 7.29\n",
    "\n",
    "# this formula and the following design formulae are taken from here:\n",
    "# https://github.com/pymc-devs/resources/blob/master/Rethinking/Chp_07.ipynb\n",
    "m_7_x = smf.ols('blooms ~ water_c + shade_c + water_c * shade_c', data=d)"
   ]
  },
  {
   "cell_type": "code",
   "execution_count": 343,
   "metadata": {},
   "outputs": [],
   "source": [
    "# Code 7.30\n",
    "\n",
    "m_7_x = smf.ols('blooms ~ water_c * shade_c', data=d)"
   ]
  },
  {
   "cell_type": "code",
   "execution_count": 345,
   "metadata": {},
   "outputs": [],
   "source": [
    "# Code 7.31\n",
    "\n",
    "m_7_x = smf.ols('blooms ~ shade_c + water_c * shade_c - water_c', data=d)"
   ]
  },
  {
   "cell_type": "code",
   "execution_count": 346,
   "metadata": {},
   "outputs": [],
   "source": [
    "# Code 7.32\n",
    "\n",
    "m_7_x = smf.ols('blooms ~ bed * water_c * shade_c', data=d)"
   ]
  },
  {
   "cell_type": "code",
   "execution_count": 347,
   "metadata": {},
   "outputs": [],
   "source": [
    "# Code 7.33"
   ]
  },
  {
   "cell_type": "code",
   "execution_count": 360,
   "metadata": {},
   "outputs": [
    {
     "data": {
      "text/plain": [
       "['Intercept', 'x', 'y', 'x:y', 'z', 'x:z', 'y:z', 'x:y:z']"
      ]
     },
     "execution_count": 360,
     "metadata": {},
     "output_type": "execute_result"
    }
   ],
   "source": [
    "# statsmodels uses patsy internally to parse these formulae\n",
    "# adapted from https://github.com/pymc-devs/resources/blob/master/Rethinking/Chp_07.ipynb which uses an undefined variable here\n",
    "import patsy\n",
    "x, y, z = 1, 1, 1\n",
    "d_matrix = patsy.dmatrix('~ x * y * z')\n",
    "d_matrix.design_info.column_names"
   ]
  },
  {
   "cell_type": "markdown",
   "metadata": {},
   "source": [
    "## 7.5. Summary"
   ]
  },
  {
   "cell_type": "markdown",
   "metadata": {},
   "source": [
    "Interactions allow influence of one predictor on outcome to vary depending on other predictor's values, and vice versa. This makes them difficult to interpret. Plotting predictions always recommended. Triptych plot useful instrument for this."
   ]
  },
  {
   "cell_type": "markdown",
   "metadata": {},
   "source": [
    "## 7.6. Practice"
   ]
  },
  {
   "cell_type": "markdown",
   "metadata": {},
   "source": [
    "**Easy**"
   ]
  },
  {
   "cell_type": "markdown",
   "metadata": {},
   "source": [
    "### 7E1."
   ]
  },
  {
   "cell_type": "markdown",
   "metadata": {},
   "source": [
    "* 1: dough rise ~ yeast. other: sugar, water, acidity, temperature\n",
    "* 2: income ~ education. other: family wealth, family education, region, iq, height\n",
    "* 3: car works ~ gasoline. other: battery charge, oil level, every bit in mechanical machinery chain of generating and transferring force"
   ]
  },
  {
   "cell_type": "markdown",
   "metadata": {},
   "source": [
    "### 7E2."
   ]
  },
  {
   "cell_type": "markdown",
   "metadata": {},
   "source": [
    "* 1: Interaction. Heat and moisture both contribute. But without very high heat more moisture likely won't help (unless you'll be boiling the onions instead of caramelizing them, but that is not the goal)\n",
    "* 2: Probably no interaction? I guess that for more cylinders an upgrade to the fuel injector will help as much as it would for fewer cylinders. But I don't know. And that does not cover the case of no cylinders/fuel injectors, in which the car does not go at all regardless of the other parts. So there is an interaction in this extreme but unrealistic case\n",
    "* 3: Interaction. Your political beliefs depend on your parents. However, that influence diminishes if the influence of your friends increases.\n",
    "* 4: Unsure. Probably interaction? From the way it is phrased it seems like you either only are social, or have manipulative appendages (excellent phrase). Which could be read as: intelligence increases with increasing social behavior, and with more manipulative appendages. But if either of those is already there, the other one won't have as much of an impact. However, humans seem to have both and have the highest intelligence we know about, so maybe effects are independent? Also questionable if causality just works this way around."
   ]
  },
  {
   "cell_type": "markdown",
   "metadata": {},
   "source": [
    "### 7E3."
   ]
  },
  {
   "cell_type": "markdown",
   "metadata": {},
   "source": [
    "1: time-series model\n",
    "$$caramel_t = heat_t + moisture_t + heat_t * moisture_t + caramel_{t-1}$$\n",
    "\n",
    "2: \n",
    "$$max\\_speed = cylinder\\_count + fuel\\_injector\\_effectivity$$\n",
    "\n",
    "3:\n",
    "$$political\\_beliefs = political\\_believes\\_parents + political\\_believes\\_friends + political\\_believes\\_parents * political\\_believes\\_friends$$\n",
    "\n",
    "4:\n",
    "$$intelligence = socialness + manipulative\\_appendages + socialness * manipulative\\_appendages$$"
   ]
  },
  {
   "cell_type": "markdown",
   "metadata": {},
   "source": [
    "**Medium**"
   ]
  },
  {
   "cell_type": "markdown",
   "metadata": {},
   "source": [
    "### 7M1."
   ]
  },
  {
   "cell_type": "markdown",
   "metadata": {},
   "source": [
    "If none of the tulips bloom at all in hot temperatures that means that in a hot environment water and shade do not matter. There should be an interaction between water, shade, and temperature that sets the coefficients for water and shade to zero if temperature is hot."
   ]
  },
  {
   "cell_type": "markdown",
   "metadata": {},
   "source": [
    "### 7M2."
   ]
  },
  {
   "cell_type": "markdown",
   "metadata": {},
   "source": [
    "In this equation I'd like the effects of water and shade to be 0 if temperature is hot. I'd also like to cancel out the intercept in this case to ensure that the final result is 0, or have the intercept be 0 from the start. Let's encode temperature as follows: cold = 0, hot = 1. Then:\n",
    "\n",
    "$$\\mu = \\alpha + \\beta_T \\text{temperature}$$\n",
    "\n",
    "I expect this regression to end up such that $\\alpha$ becomes the mean of cold bloom sizes, and $\\beta_T$ to become $-1 * \\alpha$. As such, when temperature = 1 they cancel out and the equation yields zero.\n",
    "\n",
    "If wanting to also consider other variables:\n",
    "\n",
    "$$\\mu = \\alpha + \\beta_S * \\text{shade} + \\beta_W * \\text{water} + \\beta_T \\text{temperature}$$\n",
    "\n",
    "But this already becomes difficult. It is not enough to have $\\beta_T = \\beta_S$ for temperature to cancel out shade. Shade might have value 2, at which point $\\beta_S * \\text{shade}$ will overpower $\\beta_T$. Thus we'll need interactions:\n",
    "\n",
    "$$\\mu = \\alpha + \\beta_S * \\text{shade} + \\beta_W * \\text{water} + \\beta_T \\text{temperature} + beta_{ST} \\text{temperature} * \\text{shade} + \\beta_T \\text{temperature} + beta_{SW} \\text{temperature} * \\text{water}$$\n",
    "\n",
    "Now through the interaction temperature can 'switch off' the influence of shade and water, and the individual effect of temperature can cancel out $\\alpha$.\n",
    "\n",
    "But what if we also want to have the interaction between shade and water in the model? My guess is that then the threeway interaction between shade, water, and temperature can be used to control this. As in, this interaction could then be read as a higher level interaction: 'the effect of the interaction of shade and water depends on the value of temperature'. However, I am not sure if threeway interactions actually work that way and can be interpreted like this.\n",
    "\n",
    "**discuss and/or try to disentangle by explicitly writing down possible equation and/or fitting model on simulated data**"
   ]
  },
  {
   "cell_type": "markdown",
   "metadata": {},
   "source": [
    "### 7M3."
   ]
  },
  {
   "cell_type": "markdown",
   "metadata": {},
   "source": [
    "$$\n",
    "raven\\_population = raven\\_predators + food\\_competition + autonomous\\_food + wolf\\_food + wolf\\_population + wolf\\_food * wolf\\_population\n",
    "$$\n",
    "\n",
    "raven population is impacted by predators, competitionf for food, and general food availability. in particular, some foods can be consumed by ravens themselves (autonomous_food), e.g. insects, but for larger game cooperation with wolves is needed (wolf_food).\n",
    "\n",
    "this is captured by the interaction of the wolf_food and wolf_population. I expect the effect of wolf_food on raven_population to change depending on wolf_population."
   ]
  },
  {
   "cell_type": "markdown",
   "metadata": {},
   "source": [
    "**Hard**"
   ]
  },
  {
   "cell_type": "markdown",
   "metadata": {},
   "source": [
    "### 7H1."
   ]
  },
  {
   "cell_type": "code",
   "execution_count": 375,
   "metadata": {},
   "outputs": [
    {
     "data": {
      "text/html": [
       "<div>\n",
       "<style scoped>\n",
       "    .dataframe tbody tr th:only-of-type {\n",
       "        vertical-align: middle;\n",
       "    }\n",
       "\n",
       "    .dataframe tbody tr th {\n",
       "        vertical-align: top;\n",
       "    }\n",
       "\n",
       "    .dataframe thead th {\n",
       "        text-align: right;\n",
       "    }\n",
       "</style>\n",
       "<table border=\"1\" class=\"dataframe\">\n",
       "  <thead>\n",
       "    <tr style=\"text-align: right;\">\n",
       "      <th></th>\n",
       "      <th>bed</th>\n",
       "      <th>water</th>\n",
       "      <th>shade</th>\n",
       "      <th>blooms</th>\n",
       "      <th>shade_c</th>\n",
       "      <th>water_c</th>\n",
       "      <th>bed_b</th>\n",
       "      <th>bed_c</th>\n",
       "    </tr>\n",
       "  </thead>\n",
       "  <tbody>\n",
       "    <tr>\n",
       "      <th>0</th>\n",
       "      <td>a</td>\n",
       "      <td>1</td>\n",
       "      <td>1</td>\n",
       "      <td>0.00</td>\n",
       "      <td>-1.0</td>\n",
       "      <td>-1.0</td>\n",
       "      <td>0</td>\n",
       "      <td>0</td>\n",
       "    </tr>\n",
       "    <tr>\n",
       "      <th>1</th>\n",
       "      <td>a</td>\n",
       "      <td>1</td>\n",
       "      <td>2</td>\n",
       "      <td>0.00</td>\n",
       "      <td>0.0</td>\n",
       "      <td>-1.0</td>\n",
       "      <td>0</td>\n",
       "      <td>0</td>\n",
       "    </tr>\n",
       "    <tr>\n",
       "      <th>2</th>\n",
       "      <td>a</td>\n",
       "      <td>1</td>\n",
       "      <td>3</td>\n",
       "      <td>111.04</td>\n",
       "      <td>1.0</td>\n",
       "      <td>-1.0</td>\n",
       "      <td>0</td>\n",
       "      <td>0</td>\n",
       "    </tr>\n",
       "    <tr>\n",
       "      <th>3</th>\n",
       "      <td>a</td>\n",
       "      <td>2</td>\n",
       "      <td>1</td>\n",
       "      <td>183.47</td>\n",
       "      <td>-1.0</td>\n",
       "      <td>0.0</td>\n",
       "      <td>0</td>\n",
       "      <td>0</td>\n",
       "    </tr>\n",
       "    <tr>\n",
       "      <th>4</th>\n",
       "      <td>a</td>\n",
       "      <td>2</td>\n",
       "      <td>2</td>\n",
       "      <td>59.16</td>\n",
       "      <td>0.0</td>\n",
       "      <td>0.0</td>\n",
       "      <td>0</td>\n",
       "      <td>0</td>\n",
       "    </tr>\n",
       "  </tbody>\n",
       "</table>\n",
       "</div>"
      ],
      "text/plain": [
       "  bed  water  shade  blooms  shade_c  water_c  bed_b  bed_c\n",
       "0   a      1      1    0.00     -1.0     -1.0      0      0\n",
       "1   a      1      2    0.00      0.0     -1.0      0      0\n",
       "2   a      1      3  111.04      1.0     -1.0      0      0\n",
       "3   a      2      1  183.47     -1.0      0.0      0      0\n",
       "4   a      2      2   59.16      0.0      0.0      0      0"
      ]
     },
     "execution_count": 375,
     "metadata": {},
     "output_type": "execute_result"
    }
   ],
   "source": [
    "# load fresh dataframe\n",
    "d_tulips = (\n",
    "    pd\n",
    "    .read_csv('./data/tulips.csv', sep=';')\n",
    "    .assign(\n",
    "        shade_c = lambda x: x.shade - x.shade.mean(),\n",
    "        water_c = lambda x: x.water - x.water.mean(),\n",
    "    )\n",
    ")\n",
    "\n",
    "# create dummy columns for 'bed' categorical variable and join with data\n",
    "dummies = pd.get_dummies(d_tulips.bed, prefix='bed', drop_first=True)\n",
    "d_tulips = d_tulips.join(dummies)\n",
    "\n",
    "d_tulips.head()"
   ]
  },
  {
   "cell_type": "code",
   "execution_count": 379,
   "metadata": {},
   "outputs": [
    {
     "name": "stderr",
     "output_type": "stream",
     "text": [
      "Auto-assigning NUTS sampler...\n",
      "Initializing NUTS using jitter+adapt_diag...\n",
      "Multiprocess sampling (2 chains in 2 jobs)\n",
      "NUTS: [a, bBc, bBb, bWS, bW, bS, sigma]\n"
     ]
    }
   ],
   "source": [
    "# create shared variables from centered values\n",
    "name = 'm_7_h1'\n",
    "data = d_tulips\n",
    "\n",
    "shared = {\n",
    "    'water_c': theano.shared(data.water_c.values, 'water_c'),\n",
    "    'shade_c': theano.shared(data.shade_c.values, 'shade_c'),\n",
    "    'bed_b': theano.shared(data.bed_b.values, 'bed_b'),\n",
    "    'bed_c': theano.shared(data.bed_c.values, 'bed_c'),\n",
    "}\n",
    "\n",
    "# model definition\n",
    "with pm.Model() as m:\n",
    "    sigma = pm.Uniform('sigma', 0, 100)\n",
    "    bS = pm.Normal('bS', 0, 100)\n",
    "    bW = pm.Normal('bW', 0, 100)\n",
    "    bWS = pm.Normal('bWS', 0, 100)\n",
    "    bBb = pm.Normal('bBb', 0, 100)\n",
    "    bBc = pm.Normal('bBc', 0, 100)\n",
    "    a = pm.Normal('a', 0, 100)\n",
    "    mu = pm.Deterministic(\n",
    "        'mu', \n",
    "        a + bW * shared['water_c'] + bS * shared['shade_c'] + bWS * shared['water_c'] * shared['shade_c'] + bBb * shared['bed_b'] + bBc * shared['bed_c']\n",
    "    )\n",
    "    blooms = pm.Normal('blooms', mu, sigma, observed=data.blooms)\n",
    "\n",
    "# fit model with useful starting values\n",
    "m_7_h1 = therapy.Model(m, shared, name)\n",
    "m_7_h1.fit(\n",
    "    data, \n",
    "    progressbar=False,\n",
    "    draw=1000,\n",
    "    tune=1000,\n",
    "    start={\n",
    "        'a': data.blooms.mean(),\n",
    "        'bW': 0,\n",
    "        'bS': 0,\n",
    "        'bBb': 0,\n",
    "        'bBc': 0,\n",
    "        'bWS': 0,\n",
    "        'sigma': data.blooms.std()\n",
    "    }\n",
    ")"
   ]
  },
  {
   "cell_type": "code",
   "execution_count": 381,
   "metadata": {},
   "outputs": [
    {
     "data": {
      "text/html": [
       "<div>\n",
       "<style scoped>\n",
       "    .dataframe tbody tr th:only-of-type {\n",
       "        vertical-align: middle;\n",
       "    }\n",
       "\n",
       "    .dataframe tbody tr th {\n",
       "        vertical-align: top;\n",
       "    }\n",
       "\n",
       "    .dataframe thead th {\n",
       "        text-align: right;\n",
       "    }\n",
       "</style>\n",
       "<table border=\"1\" class=\"dataframe\">\n",
       "  <thead>\n",
       "    <tr style=\"text-align: right;\">\n",
       "      <th></th>\n",
       "      <th>mean</th>\n",
       "      <th>sd</th>\n",
       "      <th>mc_error</th>\n",
       "      <th>hpd_5.5</th>\n",
       "      <th>hpd_94.5</th>\n",
       "      <th>n_eff</th>\n",
       "      <th>Rhat</th>\n",
       "    </tr>\n",
       "  </thead>\n",
       "  <tbody>\n",
       "    <tr>\n",
       "      <th>bS</th>\n",
       "      <td>-41.070200</td>\n",
       "      <td>11.303907</td>\n",
       "      <td>0.334352</td>\n",
       "      <td>-59.756016</td>\n",
       "      <td>-23.849056</td>\n",
       "      <td>1064.484705</td>\n",
       "      <td>0.999338</td>\n",
       "    </tr>\n",
       "    <tr>\n",
       "      <th>bW</th>\n",
       "      <td>75.048848</td>\n",
       "      <td>10.251314</td>\n",
       "      <td>0.277151</td>\n",
       "      <td>57.521072</td>\n",
       "      <td>90.375978</td>\n",
       "      <td>1444.196609</td>\n",
       "      <td>1.001721</td>\n",
       "    </tr>\n",
       "    <tr>\n",
       "      <th>bWS</th>\n",
       "      <td>-51.451719</td>\n",
       "      <td>12.911784</td>\n",
       "      <td>0.318527</td>\n",
       "      <td>-74.386054</td>\n",
       "      <td>-32.544271</td>\n",
       "      <td>1399.668528</td>\n",
       "      <td>0.999050</td>\n",
       "    </tr>\n",
       "    <tr>\n",
       "      <th>bBb</th>\n",
       "      <td>44.096220</td>\n",
       "      <td>23.163609</td>\n",
       "      <td>0.902805</td>\n",
       "      <td>8.045057</td>\n",
       "      <td>78.710657</td>\n",
       "      <td>609.264362</td>\n",
       "      <td>1.002291</td>\n",
       "    </tr>\n",
       "    <tr>\n",
       "      <th>bBc</th>\n",
       "      <td>48.833081</td>\n",
       "      <td>23.092907</td>\n",
       "      <td>0.826814</td>\n",
       "      <td>11.637294</td>\n",
       "      <td>83.301223</td>\n",
       "      <td>701.450088</td>\n",
       "      <td>1.001525</td>\n",
       "    </tr>\n",
       "    <tr>\n",
       "      <th>a</th>\n",
       "      <td>97.017822</td>\n",
       "      <td>16.525258</td>\n",
       "      <td>0.656574</td>\n",
       "      <td>72.717787</td>\n",
       "      <td>123.401517</td>\n",
       "      <td>601.860739</td>\n",
       "      <td>1.002917</td>\n",
       "    </tr>\n",
       "    <tr>\n",
       "      <th>sigma</th>\n",
       "      <td>47.302371</td>\n",
       "      <td>7.796954</td>\n",
       "      <td>0.300332</td>\n",
       "      <td>36.537087</td>\n",
       "      <td>59.152005</td>\n",
       "      <td>537.529072</td>\n",
       "      <td>0.999693</td>\n",
       "    </tr>\n",
       "  </tbody>\n",
       "</table>\n",
       "</div>"
      ],
      "text/plain": [
       "            mean         sd  mc_error    hpd_5.5    hpd_94.5        n_eff  \\\n",
       "bS    -41.070200  11.303907  0.334352 -59.756016  -23.849056  1064.484705   \n",
       "bW     75.048848  10.251314  0.277151  57.521072   90.375978  1444.196609   \n",
       "bWS   -51.451719  12.911784  0.318527 -74.386054  -32.544271  1399.668528   \n",
       "bBb    44.096220  23.163609  0.902805   8.045057   78.710657   609.264362   \n",
       "bBc    48.833081  23.092907  0.826814  11.637294   83.301223   701.450088   \n",
       "a      97.017822  16.525258  0.656574  72.717787  123.401517   601.860739   \n",
       "sigma  47.302371   7.796954  0.300332  36.537087   59.152005   537.529072   \n",
       "\n",
       "           Rhat  \n",
       "bS     0.999338  \n",
       "bW     1.001721  \n",
       "bWS    0.999050  \n",
       "bBb    1.002291  \n",
       "bBc    1.001525  \n",
       "a      1.002917  \n",
       "sigma  0.999693  "
      ]
     },
     "execution_count": 381,
     "metadata": {},
     "output_type": "execute_result"
    }
   ],
   "source": [
    "therapy.precis(m_7_h1)"
   ]
  },
  {
   "cell_type": "markdown",
   "metadata": {},
   "source": [
    "note: bBb and bBc being positive seems to imply that bed a has worst results. have a look at distribution:"
   ]
  },
  {
   "cell_type": "code",
   "execution_count": 394,
   "metadata": {},
   "outputs": [
    {
     "data": {
      "text/plain": [
       "<seaborn.axisgrid.FacetGrid at 0x1c3551fcf8>"
      ]
     },
     "execution_count": 394,
     "metadata": {},
     "output_type": "execute_result"
    },
    {
     "data": {
      "image/png": "[encoded data removed]",
      "text/plain": [
       "<Figure size 360x360 with 1 Axes>"
      ]
     },
     "metadata": {},
     "output_type": "display_data"
    }
   ],
   "source": [
    "sns.catplot(x='bed', y='blooms', data=d_tulips, kind='box')s"
   ]
  },
  {
   "cell_type": "markdown",
   "metadata": {},
   "source": [
    "this seems to confirm this: bed a has lowest mean, with lowest spread around it"
   ]
  },
  {
   "cell_type": "markdown",
   "metadata": {},
   "source": [
    "### 7H2."
   ]
  },
  {
   "cell_type": "markdown",
   "metadata": {},
   "source": [
    "comparing to m_7_9, which is the same model minus the terms for bed"
   ]
  },
  {
   "cell_type": "code",
   "execution_count": 398,
   "metadata": {},
   "outputs": [
    {
     "name": "stderr",
     "output_type": "stream",
     "text": [
      "/anaconda3/envs/rethinking_statistics/lib/python3.7/site-packages/pymc3/stats.py:211: UserWarning: For one or more samples the posterior variance of the\n",
      "        log predictive densities exceeds 0.4. This could be indication of\n",
      "        WAIC starting to fail see http://arxiv.org/abs/1507.04544 for details\n",
      "        \n",
      "  \"\"\")\n",
      "/anaconda3/envs/rethinking_statistics/lib/python3.7/site-packages/pymc3/stats.py:211: UserWarning: For one or more samples the posterior variance of the\n",
      "        log predictive densities exceeds 0.4. This could be indication of\n",
      "        WAIC starting to fail see http://arxiv.org/abs/1507.04544 for details\n",
      "        \n",
      "  \"\"\")\n"
     ]
    },
    {
     "data": {
      "text/html": [
       "<div>\n",
       "<style scoped>\n",
       "    .dataframe tbody tr th:only-of-type {\n",
       "        vertical-align: middle;\n",
       "    }\n",
       "\n",
       "    .dataframe tbody tr th {\n",
       "        vertical-align: top;\n",
       "    }\n",
       "\n",
       "    .dataframe thead th {\n",
       "        text-align: right;\n",
       "    }\n",
       "</style>\n",
       "<table border=\"1\" class=\"dataframe\">\n",
       "  <thead>\n",
       "    <tr style=\"text-align: right;\">\n",
       "      <th></th>\n",
       "      <th>WAIC</th>\n",
       "      <th>pWAIC</th>\n",
       "      <th>dWAIC</th>\n",
       "      <th>weight</th>\n",
       "      <th>SE</th>\n",
       "      <th>dSE</th>\n",
       "      <th>var_warn</th>\n",
       "    </tr>\n",
       "    <tr>\n",
       "      <th>model</th>\n",
       "      <th></th>\n",
       "      <th></th>\n",
       "      <th></th>\n",
       "      <th></th>\n",
       "      <th></th>\n",
       "      <th></th>\n",
       "      <th></th>\n",
       "    </tr>\n",
       "  </thead>\n",
       "  <tbody>\n",
       "    <tr>\n",
       "      <th>m_7_h1</th>\n",
       "      <td>289.56</td>\n",
       "      <td>5.66</td>\n",
       "      <td>0</td>\n",
       "      <td>0.74</td>\n",
       "      <td>6.24</td>\n",
       "      <td>0</td>\n",
       "      <td>1</td>\n",
       "    </tr>\n",
       "    <tr>\n",
       "      <th>m_7_9</th>\n",
       "      <td>293.58</td>\n",
       "      <td>4.46</td>\n",
       "      <td>4.03</td>\n",
       "      <td>0.26</td>\n",
       "      <td>6.87</td>\n",
       "      <td>5.18</td>\n",
       "      <td>1</td>\n",
       "    </tr>\n",
       "  </tbody>\n",
       "</table>\n",
       "</div>"
      ],
      "text/plain": [
       "          WAIC pWAIC dWAIC weight    SE   dSE var_warn\n",
       "model                                                 \n",
       "m_7_h1  289.56  5.66     0   0.74  6.24     0        1\n",
       "m_7_9   293.58  4.46  4.03   0.26  6.87  5.18        1"
      ]
     },
     "execution_count": 398,
     "metadata": {},
     "output_type": "execute_result"
    }
   ],
   "source": [
    "therapy.compare([m_7_h1, m_7_9])"
   ]
  },
  {
   "cell_type": "markdown",
   "metadata": {},
   "source": [
    "New model wins out, gets 74\\% of weight. Explain this in light of posterior distribution of bed coefficients: bed and bloom have a relationship, where on average less growth is expected in bed a, with minor differences between beds b and c. The full posterior interval for these relationships is greater than 0, creating some confidence in their reliability.\n",
    "\n",
    "As such, knowing about the bed helps the model make a better estimate about bloom size, creating better model fit. Furthermore it gets punished for the added flexiblity of having two more parameters. However, fit advantage seems to outweigh this cost."
   ]
  },
  {
   "cell_type": "markdown",
   "metadata": {},
   "source": [
    "### 7H3."
   ]
  },
  {
   "cell_type": "markdown",
   "metadata": {},
   "source": [
    "prelude"
   ]
  },
  {
   "cell_type": "code",
   "execution_count": 10,
   "metadata": {},
   "outputs": [],
   "source": [
    "d = pd.read_csv('./data/rugged.csv', sep=';').set_index('isocode')\n",
    "\n",
    "# make log version of outcome\n",
    "d = d.assign(log_gdp=np.log(d.rgdppc_2000))\n",
    "\n",
    "# drop incomplete cases\n",
    "dd = d.dropna(subset=['rgdppc_2000'])"
   ]
  },
  {
   "cell_type": "code",
   "execution_count": 11,
   "metadata": {},
   "outputs": [],
   "source": [
    "dd_full = dd\n",
    "# SYC = seychelles ISO country code\n",
    "dd_no_syc = dd.drop(labels='SYC')"
   ]
  },
  {
   "cell_type": "markdown",
   "metadata": {},
   "source": [
    "(a)"
   ]
  },
  {
   "cell_type": "code",
   "execution_count": 12,
   "metadata": {},
   "outputs": [
    {
     "name": "stderr",
     "output_type": "stream",
     "text": [
      "Auto-assigning NUTS sampler...\n",
      "Initializing NUTS using jitter+adapt_diag...\n",
      "Multiprocess sampling (2 chains in 2 jobs)\n",
      "NUTS: [a, bAR, bA, bR, sigma]\n",
      "Sampling 2 chains: 100%|██████████| 2000/2000 [00:06<00:00, 323.21draws/s]\n",
      "Auto-assigning NUTS sampler...\n",
      "Initializing NUTS using jitter+adapt_diag...\n",
      "Multiprocess sampling (2 chains in 2 jobs)\n",
      "NUTS: [a, bAR, bA, bR, sigma]\n",
      "Sampling 2 chains: 100%|██████████| 2000/2000 [00:03<00:00, 559.77draws/s]\n"
     ]
    }
   ],
   "source": [
    "# fith both full and no seychelles models\n",
    "\n",
    "models = list()\n",
    "for dataset, name in zip([dd_full, dd_no_syc], ['m_7_h3_full', 'm_7_h3_no_syc']):\n",
    "\n",
    "    shared = {\n",
    "        'rugged': theano.shared(dataset['rugged'].values, 'rugged'),\n",
    "        'cont_africa': theano.shared(dataset['cont_africa'].values, 'cont_africa')\n",
    "    }\n",
    "\n",
    "    observed = dataset.log_gdp\n",
    "\n",
    "    with pm.Model() as model:\n",
    "\n",
    "        sigma = pm.Uniform('sigma', 0, 10)\n",
    "\n",
    "        bR = pm.Normal('bR', 0, 1)\n",
    "        bA = pm.Normal('bA', 0, 1)\n",
    "        bAR = pm.Normal('bAR', 0, 1)\n",
    "\n",
    "        a = pm.Normal('a', 8, 100)\n",
    "\n",
    "        mu = pm.Deterministic('mu', a + bR * shared['rugged'] + bAR * shared['rugged'] * shared['cont_africa'] + bA * shared['cont_africa'])\n",
    "        log_gdp = pm.Normal('log_gdp', mu, sigma, observed=observed)\n",
    "\n",
    "    m = therapy.Model(model, shared, name)\n",
    "    m.fit(dataset)\n",
    "    \n",
    "    models.append(m)"
   ]
  },
  {
   "cell_type": "code",
   "execution_count": 13,
   "metadata": {},
   "outputs": [],
   "source": [
    "m_7_h3_full, m_7_h3_no_syc = models"
   ]
  },
  {
   "cell_type": "code",
   "execution_count": 14,
   "metadata": {
    "scrolled": true
   },
   "outputs": [
    {
     "data": {
      "text/html": [
       "<div>\n",
       "<style scoped>\n",
       "    .dataframe tbody tr th:only-of-type {\n",
       "        vertical-align: middle;\n",
       "    }\n",
       "\n",
       "    .dataframe tbody tr th {\n",
       "        vertical-align: top;\n",
       "    }\n",
       "\n",
       "    .dataframe thead th {\n",
       "        text-align: right;\n",
       "    }\n",
       "</style>\n",
       "<table border=\"1\" class=\"dataframe\">\n",
       "  <thead>\n",
       "    <tr style=\"text-align: right;\">\n",
       "      <th></th>\n",
       "      <th>mean</th>\n",
       "      <th>sd</th>\n",
       "      <th>mc_error</th>\n",
       "      <th>hpd_5.5</th>\n",
       "      <th>hpd_94.5</th>\n",
       "      <th>n_eff</th>\n",
       "      <th>Rhat</th>\n",
       "    </tr>\n",
       "  </thead>\n",
       "  <tbody>\n",
       "    <tr>\n",
       "      <th>bR</th>\n",
       "      <td>-0.184354</td>\n",
       "      <td>0.077317</td>\n",
       "      <td>0.003433</td>\n",
       "      <td>-0.306153</td>\n",
       "      <td>-0.062063</td>\n",
       "      <td>436.531020</td>\n",
       "      <td>1.002251</td>\n",
       "    </tr>\n",
       "    <tr>\n",
       "      <th>bA</th>\n",
       "      <td>-1.840406</td>\n",
       "      <td>0.216521</td>\n",
       "      <td>0.008535</td>\n",
       "      <td>-2.213645</td>\n",
       "      <td>-1.521091</td>\n",
       "      <td>590.032152</td>\n",
       "      <td>0.999793</td>\n",
       "    </tr>\n",
       "    <tr>\n",
       "      <th>bAR</th>\n",
       "      <td>0.346899</td>\n",
       "      <td>0.129463</td>\n",
       "      <td>0.005242</td>\n",
       "      <td>0.125058</td>\n",
       "      <td>0.537755</td>\n",
       "      <td>523.519512</td>\n",
       "      <td>0.999054</td>\n",
       "    </tr>\n",
       "    <tr>\n",
       "      <th>a</th>\n",
       "      <td>9.181393</td>\n",
       "      <td>0.138729</td>\n",
       "      <td>0.006113</td>\n",
       "      <td>8.977511</td>\n",
       "      <td>9.416511</td>\n",
       "      <td>415.687692</td>\n",
       "      <td>1.002199</td>\n",
       "    </tr>\n",
       "    <tr>\n",
       "      <th>sigma</th>\n",
       "      <td>0.950409</td>\n",
       "      <td>0.054213</td>\n",
       "      <td>0.001587</td>\n",
       "      <td>0.857193</td>\n",
       "      <td>1.028305</td>\n",
       "      <td>1058.842445</td>\n",
       "      <td>0.999008</td>\n",
       "    </tr>\n",
       "  </tbody>\n",
       "</table>\n",
       "</div>"
      ],
      "text/plain": [
       "           mean        sd  mc_error   hpd_5.5  hpd_94.5        n_eff      Rhat\n",
       "bR    -0.184354  0.077317  0.003433 -0.306153 -0.062063   436.531020  1.002251\n",
       "bA    -1.840406  0.216521  0.008535 -2.213645 -1.521091   590.032152  0.999793\n",
       "bAR    0.346899  0.129463  0.005242  0.125058  0.537755   523.519512  0.999054\n",
       "a      9.181393  0.138729  0.006113  8.977511  9.416511   415.687692  1.002199\n",
       "sigma  0.950409  0.054213  0.001587  0.857193  1.028305  1058.842445  0.999008"
      ]
     },
     "execution_count": 14,
     "metadata": {},
     "output_type": "execute_result"
    }
   ],
   "source": [
    "therapy.precis(m_7_h3_full)"
   ]
  },
  {
   "cell_type": "code",
   "execution_count": 15,
   "metadata": {
    "scrolled": true
   },
   "outputs": [
    {
     "data": {
      "text/html": [
       "<div>\n",
       "<style scoped>\n",
       "    .dataframe tbody tr th:only-of-type {\n",
       "        vertical-align: middle;\n",
       "    }\n",
       "\n",
       "    .dataframe tbody tr th {\n",
       "        vertical-align: top;\n",
       "    }\n",
       "\n",
       "    .dataframe thead th {\n",
       "        text-align: right;\n",
       "    }\n",
       "</style>\n",
       "<table border=\"1\" class=\"dataframe\">\n",
       "  <thead>\n",
       "    <tr style=\"text-align: right;\">\n",
       "      <th></th>\n",
       "      <th>mean</th>\n",
       "      <th>sd</th>\n",
       "      <th>mc_error</th>\n",
       "      <th>hpd_5.5</th>\n",
       "      <th>hpd_94.5</th>\n",
       "      <th>n_eff</th>\n",
       "      <th>Rhat</th>\n",
       "    </tr>\n",
       "  </thead>\n",
       "  <tbody>\n",
       "    <tr>\n",
       "      <th>bR</th>\n",
       "      <td>-0.182045</td>\n",
       "      <td>0.074231</td>\n",
       "      <td>0.003519</td>\n",
       "      <td>-0.297199</td>\n",
       "      <td>-0.067437</td>\n",
       "      <td>438.743051</td>\n",
       "      <td>0.999183</td>\n",
       "    </tr>\n",
       "    <tr>\n",
       "      <th>bA</th>\n",
       "      <td>-1.772755</td>\n",
       "      <td>0.218458</td>\n",
       "      <td>0.009782</td>\n",
       "      <td>-2.144835</td>\n",
       "      <td>-1.426248</td>\n",
       "      <td>503.569238</td>\n",
       "      <td>0.998999</td>\n",
       "    </tr>\n",
       "    <tr>\n",
       "      <th>bAR</th>\n",
       "      <td>0.245582</td>\n",
       "      <td>0.138416</td>\n",
       "      <td>0.005907</td>\n",
       "      <td>0.027353</td>\n",
       "      <td>0.459546</td>\n",
       "      <td>558.364176</td>\n",
       "      <td>0.999637</td>\n",
       "    </tr>\n",
       "    <tr>\n",
       "      <th>a</th>\n",
       "      <td>9.176524</td>\n",
       "      <td>0.133346</td>\n",
       "      <td>0.006289</td>\n",
       "      <td>8.972435</td>\n",
       "      <td>9.376902</td>\n",
       "      <td>396.258054</td>\n",
       "      <td>0.999080</td>\n",
       "    </tr>\n",
       "    <tr>\n",
       "      <th>sigma</th>\n",
       "      <td>0.943726</td>\n",
       "      <td>0.051932</td>\n",
       "      <td>0.001750</td>\n",
       "      <td>0.852335</td>\n",
       "      <td>1.022089</td>\n",
       "      <td>925.042665</td>\n",
       "      <td>1.000141</td>\n",
       "    </tr>\n",
       "  </tbody>\n",
       "</table>\n",
       "</div>"
      ],
      "text/plain": [
       "           mean        sd  mc_error   hpd_5.5  hpd_94.5       n_eff      Rhat\n",
       "bR    -0.182045  0.074231  0.003519 -0.297199 -0.067437  438.743051  0.999183\n",
       "bA    -1.772755  0.218458  0.009782 -2.144835 -1.426248  503.569238  0.998999\n",
       "bAR    0.245582  0.138416  0.005907  0.027353  0.459546  558.364176  0.999637\n",
       "a      9.176524  0.133346  0.006289  8.972435  9.376902  396.258054  0.999080\n",
       "sigma  0.943726  0.051932  0.001750  0.852335  1.022089  925.042665  1.000141"
      ]
     },
     "execution_count": 15,
     "metadata": {},
     "output_type": "execute_result"
    }
   ],
   "source": [
    "therapy.precis(m_7_h3_no_syc)"
   ]
  },
  {
   "cell_type": "markdown",
   "metadata": {},
   "source": [
    "Observation: interaction seems to be lower in data without SYC (mean: 0.25) as compared to with SYC (mean: 0.35). plot to understand better. So effect of ruggedness still seems to be dependant upon continent but less so."
   ]
  },
  {
   "cell_type": "markdown",
   "metadata": {},
   "source": [
    "(b)"
   ]
  },
  {
   "cell_type": "code",
   "execution_count": 84,
   "metadata": {},
   "outputs": [
    {
     "data": {
      "image/png": "[encoded data removed]",
      "text/plain": [
       "<Figure size 1080x720 with 4 Axes>"
      ]
     },
     "metadata": {},
     "output_type": "display_data"
    }
   ],
   "source": [
    "models_and_data = [(m_7_h3_no_syc, dd_no_syc), (m_7_h3_full, dd_full)]\n",
    "cont_africa_vals = [0, 1]\n",
    "combinations = itertools.product(models_and_data, cont_africa_vals)\n",
    "\n",
    "fig, ax_array = plt.subplots(len(models_and_data), len(cont_africa_vals), sharex=True, sharey=True, figsize=(15, 10))\n",
    "\n",
    "for ((model, d), cont_africa), ax in zip(combinations, ax_array.ravel()):\n",
    "    sns.scatterplot(x='rugged', y='log_gdp', data=d[d.cont_africa == cont_africa], ax=ax)\n",
    "\n",
    "    X = pd.DataFrame({'cont_africa': cont_africa, 'rugged': [d.rugged.min(), d.rugged.mean(), d.rugged.max()]})\n",
    "    preds = model.predict(X, [model.model.mu])\n",
    "    Xy = X.join(preds)\n",
    "    \n",
    "    # how could i do this with seaborn?\n",
    "    ax.plot('rugged', 'mu_mean', 'black', data=Xy)\n",
    "    ax.plot('rugged', 'mu_hpd_lower', 'b--', data=Xy)\n",
    "    ax.plot('rugged', 'mu_hpd_upper', 'b--', data=Xy)\n",
    "\n",
    "    ax.set_title('cont_africa = {}, model = {}'.format(cont_africa, model.name))"
   ]
  },
  {
   "cell_type": "markdown",
   "metadata": {},
   "source": [
    "Observation:\n",
    "\n",
    "Slope still changes between African and non-African nations, indicating that the impact of ruggedness is still impacted by this factor. However, in the model without SYC the slope is less steep for African nations, closer to the one for non-African ones. As such, the impact of being an African nation on the effect of ruggedness on log GDP seems to be lessened when excluding SYC."
   ]
  },
  {
   "cell_type": "markdown",
   "metadata": {},
   "source": [
    "(c)"
   ]
  },
  {
   "cell_type": "code",
   "execution_count": 29,
   "metadata": {},
   "outputs": [
    {
     "name": "stderr",
     "output_type": "stream",
     "text": [
      "Auto-assigning NUTS sampler...\n",
      "Initializing NUTS using jitter+adapt_diag...\n",
      "Multiprocess sampling (2 chains in 2 jobs)\n",
      "NUTS: [a, bAR, bA, bR, sigma]\n",
      "Sampling 2 chains: 100%|██████████| 2000/2000 [00:03<00:00, 590.34draws/s]\n",
      "The acceptance probability does not match the target. It is 0.8797781243075424, but should be close to 0.8. Try to increase the number of tuning steps.\n"
     ]
    }
   ],
   "source": [
    "name = 'm_7_h3_c_1'\n",
    "\n",
    "dataset = dd_no_syc\n",
    "\n",
    "shared = {\n",
    "    'rugged': theano.shared(dataset['rugged'].values, 'rugged'),\n",
    "    'cont_africa': theano.shared(dataset['cont_africa'].values, 'cont_africa')\n",
    "}\n",
    "\n",
    "observed = dataset.log_gdp\n",
    "\n",
    "with pm.Model() as model:\n",
    "\n",
    "    sigma = pm.Uniform('sigma', 0, 10)\n",
    "\n",
    "    bR = pm.Normal('bR', 0, 1)\n",
    "    bA = pm.Normal('bA', 0, 1)\n",
    "    bAR = pm.Normal('bAR', 0, 1)\n",
    "\n",
    "    a = pm.Normal('a', 8, 100)\n",
    "\n",
    "    mu = pm.Deterministic('mu', a + bR * shared['rugged'])\n",
    "    log_gdp = pm.Normal('log_gdp', mu, sigma, observed=observed)\n",
    "\n",
    "m_7_h3_c_1 = therapy.Model(model, shared, name)\n",
    "m_7_h3_c_1.fit(dataset)"
   ]
  },
  {
   "cell_type": "code",
   "execution_count": 28,
   "metadata": {},
   "outputs": [
    {
     "name": "stderr",
     "output_type": "stream",
     "text": [
      "Auto-assigning NUTS sampler...\n",
      "Initializing NUTS using jitter+adapt_diag...\n",
      "Multiprocess sampling (2 chains in 2 jobs)\n",
      "NUTS: [a, bAR, bA, bR, sigma]\n",
      "Sampling 2 chains: 100%|██████████| 2000/2000 [00:03<00:00, 560.14draws/s]\n"
     ]
    }
   ],
   "source": [
    "name = 'm_7_h3_c_2'\n",
    "\n",
    "dataset = dd_no_syc\n",
    "\n",
    "shared = {\n",
    "    'rugged': theano.shared(dataset['rugged'].values, 'rugged'),\n",
    "    'cont_africa': theano.shared(dataset['cont_africa'].values, 'cont_africa')\n",
    "}\n",
    "\n",
    "observed = dataset.log_gdp\n",
    "\n",
    "with pm.Model() as model:\n",
    "\n",
    "    sigma = pm.Uniform('sigma', 0, 10)\n",
    "\n",
    "    bR = pm.Normal('bR', 0, 1)\n",
    "    bA = pm.Normal('bA', 0, 1)\n",
    "    bAR = pm.Normal('bAR', 0, 1)\n",
    "\n",
    "    a = pm.Normal('a', 8, 100)\n",
    "\n",
    "    mu = pm.Deterministic('mu', a + bR * shared['rugged'] + bA * shared['cont_africa'])\n",
    "    log_gdp = pm.Normal('log_gdp', mu, sigma, observed=observed)\n",
    "\n",
    "m_7_h3_c_2 = therapy.Model(model, shared, name)\n",
    "m_7_h3_c_2.fit(dataset)"
   ]
  },
  {
   "cell_type": "code",
   "execution_count": 27,
   "metadata": {},
   "outputs": [
    {
     "name": "stderr",
     "output_type": "stream",
     "text": [
      "Auto-assigning NUTS sampler...\n",
      "Initializing NUTS using jitter+adapt_diag...\n",
      "Multiprocess sampling (2 chains in 2 jobs)\n",
      "NUTS: [a, bAR, bA, bR, sigma]\n",
      "Sampling 2 chains: 100%|██████████| 2000/2000 [00:03<00:00, 589.12draws/s]\n"
     ]
    }
   ],
   "source": [
    "name = 'm_7_h3_c_3'\n",
    "\n",
    "dataset = dd_no_syc\n",
    "\n",
    "shared = {\n",
    "    'rugged': theano.shared(dataset['rugged'].values, 'rugged'),\n",
    "    'cont_africa': theano.shared(dataset['cont_africa'].values, 'cont_africa')\n",
    "}\n",
    "\n",
    "observed = dataset.log_gdp\n",
    "\n",
    "with pm.Model() as model:\n",
    "\n",
    "    sigma = pm.Uniform('sigma', 0, 10)\n",
    "\n",
    "    bR = pm.Normal('bR', 0, 1)\n",
    "    bA = pm.Normal('bA', 0, 1)\n",
    "    bAR = pm.Normal('bAR', 0, 1)\n",
    "\n",
    "    a = pm.Normal('a', 8, 100)\n",
    "\n",
    "    mu = pm.Deterministic('mu', a + bR * shared['rugged'] + bAR * shared['rugged'] * shared['cont_africa'] + bA * shared['cont_africa'])\n",
    "    log_gdp = pm.Normal('log_gdp', mu, sigma, observed=observed)\n",
    "\n",
    "m_7_h3_c_3 = therapy.Model(model, shared, name)\n",
    "m_7_h3_c_3.fit(dataset)"
   ]
  },
  {
   "cell_type": "code",
   "execution_count": 32,
   "metadata": {},
   "outputs": [
    {
     "name": "stderr",
     "output_type": "stream",
     "text": [
      "/anaconda3/envs/rethinking_statistics/lib/python3.7/site-packages/pymc3/stats.py:211: UserWarning: For one or more samples the posterior variance of the\n",
      "        log predictive densities exceeds 0.4. This could be indication of\n",
      "        WAIC starting to fail see http://arxiv.org/abs/1507.04544 for details\n",
      "        \n",
      "  \"\"\")\n"
     ]
    },
    {
     "data": {
      "text/html": [
       "<div>\n",
       "<style scoped>\n",
       "    .dataframe tbody tr th:only-of-type {\n",
       "        vertical-align: middle;\n",
       "    }\n",
       "\n",
       "    .dataframe tbody tr th {\n",
       "        vertical-align: top;\n",
       "    }\n",
       "\n",
       "    .dataframe thead th {\n",
       "        text-align: right;\n",
       "    }\n",
       "</style>\n",
       "<table border=\"1\" class=\"dataframe\">\n",
       "  <thead>\n",
       "    <tr style=\"text-align: right;\">\n",
       "      <th></th>\n",
       "      <th>WAIC</th>\n",
       "      <th>pWAIC</th>\n",
       "      <th>dWAIC</th>\n",
       "      <th>weight</th>\n",
       "      <th>SE</th>\n",
       "      <th>dSE</th>\n",
       "      <th>var_warn</th>\n",
       "    </tr>\n",
       "    <tr>\n",
       "      <th>model</th>\n",
       "      <th></th>\n",
       "      <th></th>\n",
       "      <th></th>\n",
       "      <th></th>\n",
       "      <th></th>\n",
       "      <th></th>\n",
       "      <th></th>\n",
       "    </tr>\n",
       "  </thead>\n",
       "  <tbody>\n",
       "    <tr>\n",
       "      <th>m_7_h3_c_3</th>\n",
       "      <td>463.12</td>\n",
       "      <td>4.35</td>\n",
       "      <td>0</td>\n",
       "      <td>0.73</td>\n",
       "      <td>14.64</td>\n",
       "      <td>0</td>\n",
       "      <td>1</td>\n",
       "    </tr>\n",
       "    <tr>\n",
       "      <th>m_7_h3_c_2</th>\n",
       "      <td>465.67</td>\n",
       "      <td>3.61</td>\n",
       "      <td>2.55</td>\n",
       "      <td>0.27</td>\n",
       "      <td>14.14</td>\n",
       "      <td>3.17</td>\n",
       "      <td>0</td>\n",
       "    </tr>\n",
       "    <tr>\n",
       "      <th>m_7_h3_c_1</th>\n",
       "      <td>536.18</td>\n",
       "      <td>2.61</td>\n",
       "      <td>73.06</td>\n",
       "      <td>0</td>\n",
       "      <td>13</td>\n",
       "      <td>14.62</td>\n",
       "      <td>0</td>\n",
       "    </tr>\n",
       "  </tbody>\n",
       "</table>\n",
       "</div>"
      ],
      "text/plain": [
       "              WAIC pWAIC  dWAIC weight     SE    dSE var_warn\n",
       "model                                                        \n",
       "m_7_h3_c_3  463.12  4.35      0   0.73  14.64      0        1\n",
       "m_7_h3_c_2  465.67  3.61   2.55   0.27  14.14   3.17        0\n",
       "m_7_h3_c_1  536.18  2.61  73.06      0     13  14.62        0"
      ]
     },
     "execution_count": 32,
     "metadata": {},
     "output_type": "execute_result"
    }
   ],
   "source": [
    "compare_df = therapy.compare([m_7_h3_c_1, m_7_h3_c_2, m_7_h3_c_3])\n",
    "\n",
    "compare_df"
   ]
  },
  {
   "cell_type": "code",
   "execution_count": 33,
   "metadata": {},
   "outputs": [
    {
     "data": {
      "text/plain": [
       "<matplotlib.axes._subplots.AxesSubplot at 0x1c1ec80208>"
      ]
     },
     "execution_count": 33,
     "metadata": {},
     "output_type": "execute_result"
    },
    {
     "data": {
      "image/png": "[encoded data removed]",
      "text/plain": [
       "<Figure size 432x288 with 1 Axes>"
      ]
     },
     "metadata": {
      "needs_background": "light"
     },
     "output_type": "display_data"
    }
   ],
   "source": [
    "pm.compareplot(compare_df)"
   ]
  },
  {
   "cell_type": "code",
   "execution_count": 35,
   "metadata": {},
   "outputs": [],
   "source": [
    "models = [m_7_h3_c_1, m_7_h3_c_2, m_7_h3_c_3]"
   ]
  },
  {
   "cell_type": "code",
   "execution_count": 37,
   "metadata": {},
   "outputs": [
    {
     "data": {
      "text/plain": [
       "[0.0, 0.27, 0.73]"
      ]
     },
     "execution_count": 37,
     "metadata": {},
     "output_type": "execute_result"
    }
   ],
   "source": [
    "weights = [compare_df.loc[m.name, 'weight'] for m in models]\n",
    "weights"
   ]
  },
  {
   "cell_type": "code",
   "execution_count": null,
   "metadata": {},
   "outputs": [],
   "source": [
    "n_total_samples = 10000"
   ]
  },
  {
   "cell_type": "code",
   "execution_count": 63,
   "metadata": {},
   "outputs": [
    {
     "name": "stderr",
     "output_type": "stream",
     "text": [
      "100%|██████████| 2700/2700 [00:00<00:00, 6622.97it/s]\n",
      "100%|██████████| 7300/7300 [00:01<00:00, 6146.04it/s]\n"
     ]
    }
   ],
   "source": [
    "mu_samples_with_model = therapy.sample_mu_ensemble_ppc(models, weights, n_total_samples)"
   ]
  },
  {
   "cell_type": "code",
   "execution_count": 64,
   "metadata": {},
   "outputs": [
    {
     "data": {
      "text/plain": [
       "m_7_h3_c_3    0.73\n",
       "m_7_h3_c_2    0.27\n",
       "Name: model, dtype: float64"
      ]
     },
     "execution_count": 64,
     "metadata": {},
     "output_type": "execute_result"
    }
   ],
   "source": [
    "mu_samples_with_model.model.value_counts() / len(mu_samples_with_model)"
   ]
  },
  {
   "cell_type": "code",
   "execution_count": 65,
   "metadata": {},
   "outputs": [],
   "source": [
    "mu_samples = mu_samples_with_model.drop('model', axis=1)"
   ]
  },
  {
   "cell_type": "code",
   "execution_count": 79,
   "metadata": {},
   "outputs": [],
   "source": [
    "hpd = pm.hpd(mu_samples.values, alpha=0.03)"
   ]
  },
  {
   "cell_type": "code",
   "execution_count": 83,
   "metadata": {},
   "outputs": [
    {
     "data": {
      "text/html": [
       "<div>\n",
       "<style scoped>\n",
       "    .dataframe tbody tr th:only-of-type {\n",
       "        vertical-align: middle;\n",
       "    }\n",
       "\n",
       "    .dataframe tbody tr th {\n",
       "        vertical-align: top;\n",
       "    }\n",
       "\n",
       "    .dataframe thead th {\n",
       "        text-align: right;\n",
       "    }\n",
       "</style>\n",
       "<table border=\"1\" class=\"dataframe\">\n",
       "  <thead>\n",
       "    <tr style=\"text-align: right;\">\n",
       "      <th></th>\n",
       "      <th>mu_mean</th>\n",
       "      <th>mu_hpd_lower</th>\n",
       "      <th>mu_hpd_upper</th>\n",
       "    </tr>\n",
       "    <tr>\n",
       "      <th>isocode</th>\n",
       "      <th></th>\n",
       "      <th></th>\n",
       "      <th></th>\n",
       "    </tr>\n",
       "  </thead>\n",
       "  <tbody>\n",
       "    <tr>\n",
       "      <th>AGO</th>\n",
       "      <td>7.467184</td>\n",
       "      <td>7.192539</td>\n",
       "      <td>7.767192</td>\n",
       "    </tr>\n",
       "    <tr>\n",
       "      <th>ALB</th>\n",
       "      <td>8.595254</td>\n",
       "      <td>8.208399</td>\n",
       "      <td>8.998141</td>\n",
       "    </tr>\n",
       "    <tr>\n",
       "      <th>ARE</th>\n",
       "      <td>9.027643</td>\n",
       "      <td>8.802462</td>\n",
       "      <td>9.238276</td>\n",
       "    </tr>\n",
       "    <tr>\n",
       "      <th>ARG</th>\n",
       "      <td>9.026667</td>\n",
       "      <td>8.802539</td>\n",
       "      <td>9.235679</td>\n",
       "    </tr>\n",
       "    <tr>\n",
       "      <th>ARM</th>\n",
       "      <td>8.715471</td>\n",
       "      <td>8.414714</td>\n",
       "      <td>8.994696</td>\n",
       "    </tr>\n",
       "  </tbody>\n",
       "</table>\n",
       "</div>"
      ],
      "text/plain": [
       "          mu_mean  mu_hpd_lower  mu_hpd_upper\n",
       "isocode                                      \n",
       "AGO      7.467184      7.192539      7.767192\n",
       "ALB      8.595254      8.208399      8.998141\n",
       "ARE      9.027643      8.802462      9.238276\n",
       "ARG      9.026667      8.802539      9.235679\n",
       "ARM      8.715471      8.414714      8.994696"
      ]
     },
     "execution_count": 83,
     "metadata": {},
     "output_type": "execute_result"
    }
   ],
   "source": [
    "y = (\n",
    "    pd.DataFrame([])\n",
    "    .assign(\n",
    "        mu_mean = mu_samples.mean(),\n",
    "        mu_hpd_lower = hpd[:, 0],\n",
    "        mu_hpd_upper = hpd[:, 1]\n",
    "    )\n",
    "    .set_index(dd_no_syc.index)\n",
    ")\n",
    "\n",
    "y.head()"
   ]
  },
  {
   "cell_type": "code",
   "execution_count": 102,
   "metadata": {},
   "outputs": [
    {
     "data": {
      "text/html": [
       "<div>\n",
       "<style scoped>\n",
       "    .dataframe tbody tr th:only-of-type {\n",
       "        vertical-align: middle;\n",
       "    }\n",
       "\n",
       "    .dataframe tbody tr th {\n",
       "        vertical-align: top;\n",
       "    }\n",
       "\n",
       "    .dataframe thead th {\n",
       "        text-align: right;\n",
       "    }\n",
       "</style>\n",
       "<table border=\"1\" class=\"dataframe\">\n",
       "  <thead>\n",
       "    <tr style=\"text-align: right;\">\n",
       "      <th></th>\n",
       "      <th>isonum</th>\n",
       "      <th>country</th>\n",
       "      <th>rugged</th>\n",
       "      <th>rugged_popw</th>\n",
       "      <th>rugged_slope</th>\n",
       "      <th>rugged_lsd</th>\n",
       "      <th>rugged_pc</th>\n",
       "      <th>land_area</th>\n",
       "      <th>lat</th>\n",
       "      <th>lon</th>\n",
       "      <th>...</th>\n",
       "      <th>dist_slavemkt_atlantic</th>\n",
       "      <th>dist_slavemkt_indian</th>\n",
       "      <th>dist_slavemkt_saharan</th>\n",
       "      <th>dist_slavemkt_redsea</th>\n",
       "      <th>pop_1400</th>\n",
       "      <th>european_descent</th>\n",
       "      <th>log_gdp</th>\n",
       "      <th>mu_mean</th>\n",
       "      <th>mu_hpd_lower</th>\n",
       "      <th>mu_hpd_upper</th>\n",
       "    </tr>\n",
       "    <tr>\n",
       "      <th>isocode</th>\n",
       "      <th></th>\n",
       "      <th></th>\n",
       "      <th></th>\n",
       "      <th></th>\n",
       "      <th></th>\n",
       "      <th></th>\n",
       "      <th></th>\n",
       "      <th></th>\n",
       "      <th></th>\n",
       "      <th></th>\n",
       "      <th></th>\n",
       "      <th></th>\n",
       "      <th></th>\n",
       "      <th></th>\n",
       "      <th></th>\n",
       "      <th></th>\n",
       "      <th></th>\n",
       "      <th></th>\n",
       "      <th></th>\n",
       "      <th></th>\n",
       "      <th></th>\n",
       "    </tr>\n",
       "  </thead>\n",
       "  <tbody>\n",
       "    <tr>\n",
       "      <th>DMA</th>\n",
       "      <td>212</td>\n",
       "      <td>Dominica</td>\n",
       "      <td>0.003</td>\n",
       "      <td>0.008</td>\n",
       "      <td>0.005</td>\n",
       "      <td>0.001</td>\n",
       "      <td>0.0</td>\n",
       "      <td>75.0</td>\n",
       "      <td>15.427</td>\n",
       "      <td>-61.356</td>\n",
       "      <td>...</td>\n",
       "      <td>NaN</td>\n",
       "      <td>NaN</td>\n",
       "      <td>NaN</td>\n",
       "      <td>NaN</td>\n",
       "      <td>824.0</td>\n",
       "      <td>NaN</td>\n",
       "      <td>8.688069</td>\n",
       "      <td>9.152252</td>\n",
       "      <td>8.844361</td>\n",
       "      <td>9.457606</td>\n",
       "    </tr>\n",
       "    <tr>\n",
       "      <th>KNA</th>\n",
       "      <td>659</td>\n",
       "      <td>Saint Kitts and Nevis</td>\n",
       "      <td>0.006</td>\n",
       "      <td>0.010</td>\n",
       "      <td>0.012</td>\n",
       "      <td>0.003</td>\n",
       "      <td>0.0</td>\n",
       "      <td>26.0</td>\n",
       "      <td>17.274</td>\n",
       "      <td>-62.704</td>\n",
       "      <td>...</td>\n",
       "      <td>NaN</td>\n",
       "      <td>NaN</td>\n",
       "      <td>NaN</td>\n",
       "      <td>NaN</td>\n",
       "      <td>743.0</td>\n",
       "      <td>NaN</td>\n",
       "      <td>9.325872</td>\n",
       "      <td>9.151764</td>\n",
       "      <td>8.844142</td>\n",
       "      <td>9.456730</td>\n",
       "    </tr>\n",
       "    <tr>\n",
       "      <th>ATG</th>\n",
       "      <td>28</td>\n",
       "      <td>Antigua and Barbuda</td>\n",
       "      <td>0.006</td>\n",
       "      <td>0.003</td>\n",
       "      <td>0.012</td>\n",
       "      <td>0.003</td>\n",
       "      <td>0.0</td>\n",
       "      <td>44.0</td>\n",
       "      <td>17.271</td>\n",
       "      <td>-61.800</td>\n",
       "      <td>...</td>\n",
       "      <td>NaN</td>\n",
       "      <td>NaN</td>\n",
       "      <td>NaN</td>\n",
       "      <td>NaN</td>\n",
       "      <td>747.0</td>\n",
       "      <td>NaN</td>\n",
       "      <td>9.212541</td>\n",
       "      <td>9.151764</td>\n",
       "      <td>8.844142</td>\n",
       "      <td>9.456730</td>\n",
       "    </tr>\n",
       "    <tr>\n",
       "      <th>SGP</th>\n",
       "      <td>702</td>\n",
       "      <td>Singapore</td>\n",
       "      <td>0.016</td>\n",
       "      <td>0.004</td>\n",
       "      <td>0.036</td>\n",
       "      <td>0.005</td>\n",
       "      <td>0.0</td>\n",
       "      <td>67.0</td>\n",
       "      <td>1.361</td>\n",
       "      <td>103.820</td>\n",
       "      <td>...</td>\n",
       "      <td>NaN</td>\n",
       "      <td>NaN</td>\n",
       "      <td>NaN</td>\n",
       "      <td>NaN</td>\n",
       "      <td>49570.0</td>\n",
       "      <td>0.50</td>\n",
       "      <td>10.069494</td>\n",
       "      <td>9.150138</td>\n",
       "      <td>8.843378</td>\n",
       "      <td>9.453811</td>\n",
       "    </tr>\n",
       "    <tr>\n",
       "      <th>NLD</th>\n",
       "      <td>528</td>\n",
       "      <td>Netherlands</td>\n",
       "      <td>0.037</td>\n",
       "      <td>0.042</td>\n",
       "      <td>0.108</td>\n",
       "      <td>0.012</td>\n",
       "      <td>0.0</td>\n",
       "      <td>3388.0</td>\n",
       "      <td>52.250</td>\n",
       "      <td>5.621</td>\n",
       "      <td>...</td>\n",
       "      <td>NaN</td>\n",
       "      <td>NaN</td>\n",
       "      <td>NaN</td>\n",
       "      <td>NaN</td>\n",
       "      <td>600000.0</td>\n",
       "      <td>95.95</td>\n",
       "      <td>10.261516</td>\n",
       "      <td>9.146721</td>\n",
       "      <td>8.841774</td>\n",
       "      <td>9.447680</td>\n",
       "    </tr>\n",
       "  </tbody>\n",
       "</table>\n",
       "<p>5 rows × 54 columns</p>\n",
       "</div>"
      ],
      "text/plain": [
       "         isonum                country  rugged  rugged_popw  rugged_slope  \\\n",
       "isocode                                                                     \n",
       "DMA         212               Dominica   0.003        0.008         0.005   \n",
       "KNA         659  Saint Kitts and Nevis   0.006        0.010         0.012   \n",
       "ATG          28    Antigua and Barbuda   0.006        0.003         0.012   \n",
       "SGP         702              Singapore   0.016        0.004         0.036   \n",
       "NLD         528            Netherlands   0.037        0.042         0.108   \n",
       "\n",
       "         rugged_lsd  rugged_pc  land_area     lat      lon  ...  \\\n",
       "isocode                                                     ...   \n",
       "DMA           0.001        0.0       75.0  15.427  -61.356  ...   \n",
       "KNA           0.003        0.0       26.0  17.274  -62.704  ...   \n",
       "ATG           0.003        0.0       44.0  17.271  -61.800  ...   \n",
       "SGP           0.005        0.0       67.0   1.361  103.820  ...   \n",
       "NLD           0.012        0.0     3388.0  52.250    5.621  ...   \n",
       "\n",
       "         dist_slavemkt_atlantic  dist_slavemkt_indian  dist_slavemkt_saharan  \\\n",
       "isocode                                                                        \n",
       "DMA                         NaN                   NaN                    NaN   \n",
       "KNA                         NaN                   NaN                    NaN   \n",
       "ATG                         NaN                   NaN                    NaN   \n",
       "SGP                         NaN                   NaN                    NaN   \n",
       "NLD                         NaN                   NaN                    NaN   \n",
       "\n",
       "         dist_slavemkt_redsea  pop_1400  european_descent    log_gdp  \\\n",
       "isocode                                                                \n",
       "DMA                       NaN     824.0               NaN   8.688069   \n",
       "KNA                       NaN     743.0               NaN   9.325872   \n",
       "ATG                       NaN     747.0               NaN   9.212541   \n",
       "SGP                       NaN   49570.0              0.50  10.069494   \n",
       "NLD                       NaN  600000.0             95.95  10.261516   \n",
       "\n",
       "          mu_mean  mu_hpd_lower  mu_hpd_upper  \n",
       "isocode                                        \n",
       "DMA      9.152252      8.844361      9.457606  \n",
       "KNA      9.151764      8.844142      9.456730  \n",
       "ATG      9.151764      8.844142      9.456730  \n",
       "SGP      9.150138      8.843378      9.453811  \n",
       "NLD      9.146721      8.841774      9.447680  \n",
       "\n",
       "[5 rows x 54 columns]"
      ]
     },
     "execution_count": 102,
     "metadata": {},
     "output_type": "execute_result"
    }
   ],
   "source": [
    "Xy = (\n",
    "    dd_no_syc\n",
    "    .join(y)\n",
    "    .sort_values('rugged')\n",
    ")\n",
    "\n",
    "Xy.head()"
   ]
  },
  {
   "cell_type": "code",
   "execution_count": 112,
   "metadata": {},
   "outputs": [
    {
     "data": {
      "image/png": "[encoded data removed]",
      "text/plain": [
       "<Figure size 1440x720 with 2 Axes>"
      ]
     },
     "metadata": {},
     "output_type": "display_data"
    }
   ],
   "source": [
    "cont_africa_vals = [0, 1]\n",
    "\n",
    "fig, ax_array = plt.subplots(1, len(cont_africa_vals), sharex=True, sharey=True, figsize=(20, 10))\n",
    "\n",
    "for cont_africa, ax in zip(cont_africa_vals, ax_array.ravel()):\n",
    "\n",
    "    Xy_cont = Xy.query('cont_africa == {}'.format(cont_africa))\n",
    "\n",
    "    sns.scatterplot(x='rugged', y='log_gdp', data=Xy_cont, ax=ax)\n",
    "    \n",
    "    ax.plot('rugged', 'mu_mean', 'black', data=Xy_cont)\n",
    "    ax.plot('rugged', 'mu_hpd_lower', 'b--', data=Xy_cont)\n",
    "    ax.plot('rugged', 'mu_hpd_upper', 'b--', data=Xy_cont)\n",
    "    \n",
    "    ax.set_title('cont_africa = {}'.format(cont_africa))\n"
   ]
  },
  {
   "cell_type": "markdown",
   "metadata": {},
   "source": [
    "Observation:\n",
    "\n",
    "Estimates differe in that they are wider. Also, for cont_africa = 1, effect of ruggedness seems to be even smaller, leading to an even more horizontal line of mean predictions.\n",
    "\n",
    "Reason:\n",
    "\n",
    "Wider estimates because said estimates include uncertainty and differences from multiple models instead of just one. In particular, model with both rugged and africa effects combined with model using those effects and in addition the interaction term."
   ]
  },
  {
   "cell_type": "markdown",
   "metadata": {},
   "source": [
    "### 7H4"
   ]
  },
  {
   "cell_type": "markdown",
   "metadata": {},
   "source": [
    "Prelude"
   ]
  },
  {
   "cell_type": "code",
   "execution_count": 215,
   "metadata": {},
   "outputs": [
    {
     "data": {
      "text/html": [
       "<div>\n",
       "<style scoped>\n",
       "    .dataframe tbody tr th:only-of-type {\n",
       "        vertical-align: middle;\n",
       "    }\n",
       "\n",
       "    .dataframe tbody tr th {\n",
       "        vertical-align: top;\n",
       "    }\n",
       "\n",
       "    .dataframe thead th {\n",
       "        text-align: right;\n",
       "    }\n",
       "</style>\n",
       "<table border=\"1\" class=\"dataframe\">\n",
       "  <thead>\n",
       "    <tr style=\"text-align: right;\">\n",
       "      <th></th>\n",
       "      <th>num_lang</th>\n",
       "      <th>area</th>\n",
       "      <th>k_pop</th>\n",
       "      <th>num_stations</th>\n",
       "      <th>mean_growing_season</th>\n",
       "      <th>sd_growing_season</th>\n",
       "      <th>log_lang_per_cap</th>\n",
       "      <th>log_area</th>\n",
       "    </tr>\n",
       "    <tr>\n",
       "      <th>country</th>\n",
       "      <th></th>\n",
       "      <th></th>\n",
       "      <th></th>\n",
       "      <th></th>\n",
       "      <th></th>\n",
       "      <th></th>\n",
       "      <th></th>\n",
       "      <th></th>\n",
       "    </tr>\n",
       "  </thead>\n",
       "  <tbody>\n",
       "    <tr>\n",
       "      <th>Algeria</th>\n",
       "      <td>18</td>\n",
       "      <td>2381741</td>\n",
       "      <td>25660</td>\n",
       "      <td>102</td>\n",
       "      <td>6.60</td>\n",
       "      <td>2.29</td>\n",
       "      <td>-7.262317</td>\n",
       "      <td>14.683342</td>\n",
       "    </tr>\n",
       "    <tr>\n",
       "      <th>Angola</th>\n",
       "      <td>42</td>\n",
       "      <td>1246700</td>\n",
       "      <td>10303</td>\n",
       "      <td>50</td>\n",
       "      <td>6.22</td>\n",
       "      <td>1.87</td>\n",
       "      <td>-5.502521</td>\n",
       "      <td>14.036011</td>\n",
       "    </tr>\n",
       "    <tr>\n",
       "      <th>Australia</th>\n",
       "      <td>234</td>\n",
       "      <td>7713364</td>\n",
       "      <td>17336</td>\n",
       "      <td>134</td>\n",
       "      <td>6.00</td>\n",
       "      <td>4.17</td>\n",
       "      <td>-4.305219</td>\n",
       "      <td>15.858465</td>\n",
       "    </tr>\n",
       "    <tr>\n",
       "      <th>Bangladesh</th>\n",
       "      <td>37</td>\n",
       "      <td>143998</td>\n",
       "      <td>118745</td>\n",
       "      <td>20</td>\n",
       "      <td>7.40</td>\n",
       "      <td>0.73</td>\n",
       "      <td>-8.073816</td>\n",
       "      <td>11.877555</td>\n",
       "    </tr>\n",
       "    <tr>\n",
       "      <th>Benin</th>\n",
       "      <td>52</td>\n",
       "      <td>112622</td>\n",
       "      <td>4889</td>\n",
       "      <td>7</td>\n",
       "      <td>7.14</td>\n",
       "      <td>0.99</td>\n",
       "      <td>-4.543499</td>\n",
       "      <td>11.631792</td>\n",
       "    </tr>\n",
       "  </tbody>\n",
       "</table>\n",
       "</div>"
      ],
      "text/plain": [
       "            num_lang     area   k_pop  num_stations  mean_growing_season  \\\n",
       "country                                                                    \n",
       "Algeria           18  2381741   25660           102                 6.60   \n",
       "Angola            42  1246700   10303            50                 6.22   \n",
       "Australia        234  7713364   17336           134                 6.00   \n",
       "Bangladesh        37   143998  118745            20                 7.40   \n",
       "Benin             52   112622    4889             7                 7.14   \n",
       "\n",
       "            sd_growing_season  log_lang_per_cap   log_area  \n",
       "country                                                     \n",
       "Algeria                  2.29         -7.262317  14.683342  \n",
       "Angola                   1.87         -5.502521  14.036011  \n",
       "Australia                4.17         -4.305219  15.858465  \n",
       "Bangladesh               0.73         -8.073816  11.877555  \n",
       "Benin                    0.99         -4.543499  11.631792  "
      ]
     },
     "execution_count": 215,
     "metadata": {},
     "output_type": "execute_result"
    }
   ],
   "source": [
    "nettle_df = (\n",
    "    pd\n",
    "    .read_csv('./data/nettle.csv', sep=';')\n",
    "    .rename(columns = lambda x: x.replace('.', '_'))\n",
    "    .set_index('country')\n",
    "    .assign(\n",
    "        log_lang_per_cap = lambda x: np.log(x.num_lang / x.k_pop),\n",
    "        log_area = lambda x: np.log(x.area)\n",
    "    )\n",
    ")\n",
    "\n",
    "nettle_df.head()"
   ]
  },
  {
   "cell_type": "code",
   "execution_count": 216,
   "metadata": {},
   "outputs": [],
   "source": [
    "# just standardize everything\n",
    "nettle_std_df = (nettle_df - nettle_df.mean()) / nettle_df.std()"
   ]
  },
  {
   "cell_type": "markdown",
   "metadata": {},
   "source": [
    "(a)"
   ]
  },
  {
   "cell_type": "code",
   "execution_count": 430,
   "metadata": {},
   "outputs": [],
   "source": [
    "with pm.Model() as m:\n",
    "    # define dataset and shared variables\n",
    "    data = nettle_std_df\n",
    "    shared = therapy.create_theano_shared_from_df(data)\n",
    "    # intercept and coefficients\n",
    "    pm.Normal('a', data.log_lang_per_cap.mean(), 5)\n",
    "    pm.Normal('b_log_area', 0, 1)\n",
    "    pm.Normal('b_mean_growing_season', 0, 1)\n",
    "    # linear model\n",
    "    pm.Deterministic(\n",
    "        'mu', \n",
    "        m.a \n",
    "        + m.b_log_area * shared['log_area']        \n",
    "        + m.b_mean_growing_season * shared['mean_growing_season']\n",
    "    )\n",
    "    # likelihood\n",
    "    pm.Uniform('sigma', 0, 10)\n",
    "    pm.Normal('log_lang_per_capita', m.mu, m.sigma, observed=shared['log_lang_per_cap'])"
   ]
  },
  {
   "cell_type": "code",
   "execution_count": 431,
   "metadata": {},
   "outputs": [],
   "source": [
    "m_7h4a = therapy.Model(m, shared, 'm_7h4a')"
   ]
  },
  {
   "cell_type": "code",
   "execution_count": 432,
   "metadata": {},
   "outputs": [
    {
     "name": "stderr",
     "output_type": "stream",
     "text": [
      "Auto-assigning NUTS sampler...\n",
      "Initializing NUTS using jitter+adapt_diag...\n",
      "Multiprocess sampling (2 chains in 2 jobs)\n",
      "NUTS: [sigma, b_mean_growing_season, b_log_area, a]\n",
      "Sampling 2 chains: 100%|██████████| 2000/2000 [00:02<00:00, 850.40draws/s] \n"
     ]
    }
   ],
   "source": [
    "m_7h4a.fit()"
   ]
  },
  {
   "cell_type": "code",
   "execution_count": 435,
   "metadata": {},
   "outputs": [
    {
     "data": {
      "text/html": [
       "<div>\n",
       "<style scoped>\n",
       "    .dataframe tbody tr th:only-of-type {\n",
       "        vertical-align: middle;\n",
       "    }\n",
       "\n",
       "    .dataframe tbody tr th {\n",
       "        vertical-align: top;\n",
       "    }\n",
       "\n",
       "    .dataframe thead th {\n",
       "        text-align: right;\n",
       "    }\n",
       "</style>\n",
       "<table border=\"1\" class=\"dataframe\">\n",
       "  <thead>\n",
       "    <tr style=\"text-align: right;\">\n",
       "      <th></th>\n",
       "      <th>mean</th>\n",
       "      <th>sd</th>\n",
       "      <th>mc_error</th>\n",
       "      <th>hpd_2.5</th>\n",
       "      <th>hpd_97.5</th>\n",
       "      <th>n_eff</th>\n",
       "      <th>Rhat</th>\n",
       "    </tr>\n",
       "  </thead>\n",
       "  <tbody>\n",
       "    <tr>\n",
       "      <th>a</th>\n",
       "      <td>0.000695</td>\n",
       "      <td>0.110981</td>\n",
       "      <td>0.003596</td>\n",
       "      <td>-0.238602</td>\n",
       "      <td>0.200553</td>\n",
       "      <td>1040.597381</td>\n",
       "      <td>0.999018</td>\n",
       "    </tr>\n",
       "    <tr>\n",
       "      <th>b_log_area</th>\n",
       "      <td>-0.167238</td>\n",
       "      <td>0.117207</td>\n",
       "      <td>0.003485</td>\n",
       "      <td>-0.395290</td>\n",
       "      <td>0.053099</td>\n",
       "      <td>1102.072710</td>\n",
       "      <td>0.999036</td>\n",
       "    </tr>\n",
       "    <tr>\n",
       "      <th>b_mean_growing_season</th>\n",
       "      <td>0.292458</td>\n",
       "      <td>0.118788</td>\n",
       "      <td>0.003918</td>\n",
       "      <td>0.088734</td>\n",
       "      <td>0.553129</td>\n",
       "      <td>894.309698</td>\n",
       "      <td>0.999185</td>\n",
       "    </tr>\n",
       "    <tr>\n",
       "      <th>sigma</th>\n",
       "      <td>0.942816</td>\n",
       "      <td>0.081006</td>\n",
       "      <td>0.002371</td>\n",
       "      <td>0.784915</td>\n",
       "      <td>1.102999</td>\n",
       "      <td>1001.114783</td>\n",
       "      <td>0.999001</td>\n",
       "    </tr>\n",
       "  </tbody>\n",
       "</table>\n",
       "</div>"
      ],
      "text/plain": [
       "                           mean        sd  mc_error   hpd_2.5  hpd_97.5  \\\n",
       "a                      0.000695  0.110981  0.003596 -0.238602  0.200553   \n",
       "b_log_area            -0.167238  0.117207  0.003485 -0.395290  0.053099   \n",
       "b_mean_growing_season  0.292458  0.118788  0.003918  0.088734  0.553129   \n",
       "sigma                  0.942816  0.081006  0.002371  0.784915  1.102999   \n",
       "\n",
       "                             n_eff      Rhat  \n",
       "a                      1040.597381  0.999018  \n",
       "b_log_area             1102.072710  0.999036  \n",
       "b_mean_growing_season   894.309698  0.999185  \n",
       "sigma                  1001.114783  0.999001  "
      ]
     },
     "execution_count": 435,
     "metadata": {},
     "output_type": "execute_result"
    }
   ],
   "source": [
    "therapy.interesting_summary(m_7h4a)"
   ]
  },
  {
   "cell_type": "markdown",
   "metadata": {},
   "source": [
    "Interpretation:\n",
    "\n",
    "Looks like growing season duration has a consistently positive impact, supporting the hypothesis. Log area has a negative impact which also makes sense, as we are measuring languages per capita and for large areas people are more spread out and would probably interact less, even if there are more people in general. However, that effect is not consistently on one side of 0."
   ]
  },
  {
   "cell_type": "code",
   "execution_count": 436,
   "metadata": {},
   "outputs": [],
   "source": [
    "mus = (\n",
    "    pm\n",
    "    .trace_to_dataframe(m_7h4a.trace)\n",
    "    .filter(like='mu__', axis=1)\n",
    ")"
   ]
  },
  {
   "cell_type": "code",
   "execution_count": 437,
   "metadata": {},
   "outputs": [],
   "source": [
    "mu_means = mus.mean()"
   ]
  },
  {
   "cell_type": "code",
   "execution_count": 438,
   "metadata": {},
   "outputs": [],
   "source": [
    "mu_hpd = pm.hpd(mus.values, 0.03)"
   ]
  },
  {
   "cell_type": "code",
   "execution_count": 456,
   "metadata": {},
   "outputs": [],
   "source": [
    "xy = (\n",
    "    nettle_std_df\n",
    "    .assign(\n",
    "        mu_mean = mu_means.values,\n",
    "        mu_hpd_lower = mu_hpd[:, 0],\n",
    "        mu_hpd_upper = mu_hpd[:, 1]\n",
    "    )\n",
    "    .sort_values('mean_growing_season')\n",
    ")"
   ]
  },
  {
   "cell_type": "code",
   "execution_count": 458,
   "metadata": {},
   "outputs": [
    {
     "data": {
      "text/plain": [
       "<matplotlib.axes._subplots.AxesSubplot at 0x1c2b13ca58>"
      ]
     },
     "execution_count": 458,
     "metadata": {},
     "output_type": "execute_result"
    },
    {
     "data": {
      "image/png": "[encoded data removed]",
      "text/plain": [
       "<Figure size 432x288 with 1 Axes>"
      ]
     },
     "metadata": {},
     "output_type": "display_data"
    }
   ],
   "source": [
    "sns.distplot(xy.log_area)"
   ]
  },
  {
   "cell_type": "code",
   "execution_count": 484,
   "metadata": {},
   "outputs": [
    {
     "data": {
      "text/plain": [
       "[<matplotlib.lines.Line2D at 0x1c2a0d1940>]"
      ]
     },
     "execution_count": 484,
     "metadata": {},
     "output_type": "execute_result"
    },
    {
     "data": {
      "image/png": "[encoded data removed]",
      "text/plain": [
       "<Figure size 432x288 with 1 Axes>"
      ]
     },
     "metadata": {},
     "output_type": "display_data"
    }
   ],
   "source": [
    "plt.plot('mean_growing_season', 'log_lang_per_cap', 'bo', data=xy)"
   ]
  },
  {
   "cell_type": "code",
   "execution_count": 485,
   "metadata": {},
   "outputs": [
    {
     "data": {
      "text/plain": [
       "[<matplotlib.lines.Line2D at 0x1c2a0cef98>]"
      ]
     },
     "execution_count": 485,
     "metadata": {},
     "output_type": "execute_result"
    },
    {
     "data": {
      "image/png": "[encoded data removed]",
      "text/plain": [
       "<Figure size 432x288 with 1 Axes>"
      ]
     },
     "metadata": {},
     "output_type": "display_data"
    }
   ],
   "source": [
    "plt.plot('mean_growing_season', 'mu_mean', 'bo', data=xy)"
   ]
  },
  {
   "cell_type": "code",
   "execution_count": 486,
   "metadata": {},
   "outputs": [
    {
     "data": {
      "text/plain": [
       "[<matplotlib.lines.Line2D at 0x1c2c7cd390>]"
      ]
     },
     "execution_count": 486,
     "metadata": {},
     "output_type": "execute_result"
    },
    {
     "data": {
      "image/png": "[encoded data removed]",
      "text/plain": [
       "<Figure size 432x288 with 1 Axes>"
      ]
     },
     "metadata": {},
     "output_type": "display_data"
    }
   ],
   "source": [
    "plt.plot('log_area', 'mu_mean', 'bo', data=xy)"
   ]
  },
  {
   "cell_type": "code",
   "execution_count": 487,
   "metadata": {},
   "outputs": [
    {
     "data": {
      "text/plain": [
       "[<matplotlib.lines.Line2D at 0x1c2a35bbe0>]"
      ]
     },
     "execution_count": 487,
     "metadata": {},
     "output_type": "execute_result"
    },
    {
     "data": {
      "image/png": "[encoded data removed]",
      "text/plain": [
       "<Figure size 432x288 with 1 Axes>"
      ]
     },
     "metadata": {},
     "output_type": "display_data"
    }
   ],
   "source": [
    "plt.plot('log_area', 'log_lang_per_cap', 'bo', data=xy)"
   ]
  },
  {
   "cell_type": "code",
   "execution_count": 468,
   "metadata": {
    "scrolled": false
   },
   "outputs": [
    {
     "data": {
      "text/plain": [
       "Text(0.5, 1.0, '**wtf**')"
      ]
     },
     "execution_count": 468,
     "metadata": {},
     "output_type": "execute_result"
    },
    {
     "data": {
      "image/png": "[encoded data removed]",
      "text/plain": [
       "<Figure size 432x288 with 1 Axes>"
      ]
     },
     "metadata": {},
     "output_type": "display_data"
    }
   ],
   "source": [
    "xy = xy.sort_values('mean_growing_season')\n",
    "ax = sns.scatterplot(x='mean_growing_season', y='log_lang_per_cap', data=xy)\n",
    "# ax.plot('mean_growing_season', 'mu_mean', data=xy)\n",
    "# ax.fill_between('mean_growing_season', 'mu_hpd_lower', 'mu_hpd_upper', data=xy, alpha=.3)\n",
    "# plt.gcf().set_size_inches(10, 7)\n",
    "\n",
    "ax.plot(\n",
    "    xy.mean_growing_season,\n",
    "    (\n",
    "        0.000695 \n",
    "        + 0.292458 * xy.mean_growing_season.values \n",
    "        + 0.167238 * xy.log_area.values\n",
    "    )\n",
    ")\n",
    "\n",
    "ax.set_title('**wtf**')"
   ]
  },
  {
   "cell_type": "code",
   "execution_count": 493,
   "metadata": {},
   "outputs": [],
   "source": [
    "# This import registers the 3D projection, but is otherwise unused.\n",
    "from mpl_toolkits.mplot3d import Axes3D  # noqa: F401 unused import"
   ]
  },
  {
   "cell_type": "code",
   "execution_count": 514,
   "metadata": {
    "scrolled": true
   },
   "outputs": [],
   "source": [
    "fig = plt.figure(figsize=(8, 6))\n",
    "ax = fig.add_subplot(111, projection='3d')\n",
    "\n",
    "xs = xy['mean_growing_season']\n",
    "ys = xy['log_area']\n",
    "zs = xy['log_lang_per_cap']\n",
    "ax.scatter(xs, ys, zs, s=50, alpha=0.6, edgecolors='w')\n",
    "\n",
    "ax.set_xlabel('mean growing season')\n",
    "ax.set_ylabel('log area')\n",
    "ax.set_zlabel('log lang per cap')\n",
    "\n",
    "ax.scatter(\n",
    "    xy['mean_growing_season'],\n",
    "    xy['log_area'],\n",
    "    xy['mu_mean']\n",
    ")\n",
    "\n",
    "# Make data.\n",
    "mean_growing_season = np.arange(-5, 5, 0.25)\n",
    "log_area = np.arange(-5, 5, 0.25)\n",
    "mean_growing_season, log_area = np.meshgrid(mean_growing_season, log_area)\n",
    "log_lang_per_cap_mean = (\n",
    "    0.000695 \n",
    "    + 0.292458 * mean_growing_season\n",
    "    + 0.167238 * log_area\n",
    ")\n",
    "\n",
    "# Plot the surface.\n",
    "surf = ax.plot_surface(\n",
    "    mean_growing_season, \n",
    "    log_area, \n",
    "    log_lang_per_cap_mean, \n",
    "#     cmap=cm.coolwarm,\n",
    "    linewidth=0, \n",
    "    antialiased=False,\n",
    "    alpha=.1\n",
    ")\n",
    "\n",
    "\n",
    "plt.show()"
   ]
  },
  {
   "cell_type": "code",
   "execution_count": 469,
   "metadata": {
    "scrolled": false
   },
   "outputs": [
    {
     "data": {
      "text/plain": [
       "Text(0.5, 1.0, '**wtf**')"
      ]
     },
     "execution_count": 469,
     "metadata": {},
     "output_type": "execute_result"
    },
    {
     "data": {
      "image/png": "[encoded data removed]",
      "text/plain": [
       "<Figure size 432x288 with 1 Axes>"
      ]
     },
     "metadata": {},
     "output_type": "display_data"
    }
   ],
   "source": [
    "xy = xy.sort_values('mean_growing_season')\n",
    "ax = sns.scatterplot(x='mean_growing_season', y='log_lang_per_cap', data=xy)\n",
    "# ax.plot('mean_growing_season', 'mu_mean', data=xy)\n",
    "# ax.fill_between('mean_growing_season', 'mu_hpd_lower', 'mu_hpd_upper', data=xy, alpha=.3)\n",
    "# plt.gcf().set_size_inches(10, 7)\n",
    "\n",
    "ax.plot(\n",
    "    xy.mean_growing_season,\n",
    "    (\n",
    "        0.000695 \n",
    "        + 0.292458 * xy.mean_growing_season.values \n",
    "#         + 0.167238 * xy.log_area.values\n",
    "    )\n",
    ")\n",
    "\n",
    "ax.set_title('**wtf**')"
   ]
  },
  {
   "cell_type": "code",
   "execution_count": 476,
   "metadata": {
    "scrolled": false
   },
   "outputs": [
    {
     "data": {
      "text/plain": [
       "Text(0.5, 1.0, '**wtf**')"
      ]
     },
     "execution_count": 476,
     "metadata": {},
     "output_type": "execute_result"
    },
    {
     "data": {
      "image/png": "[encoded data removed]",
      "text/plain": [
       "<Figure size 432x288 with 1 Axes>"
      ]
     },
     "metadata": {},
     "output_type": "display_data"
    }
   ],
   "source": [
    "xy = xy.sort_values('log_area')\n",
    "ax = sns.scatterplot(x='log_area', y='log_lang_per_cap', data=xy)\n",
    "# ax.plot('mean_growing_season', 'mu_mean', data=xy)\n",
    "# ax.fill_between('mean_growing_season', 'mu_hpd_lower', 'mu_hpd_upper', data=xy, alpha=.3)\n",
    "# plt.gcf().set_size_inches(10, 7)\n",
    "\n",
    "ax.plot(\n",
    "    xy.mean_growing_season,\n",
    "    (\n",
    "        0.000695 \n",
    "        + 0.292458 * xy.mean_growing_season.values \n",
    "#         + 0.167238 * xy.log_area.values\n",
    "    )\n",
    ")\n",
    "\n",
    "ax.set_title('**wtf**')"
   ]
  },
  {
   "cell_type": "code",
   "execution_count": 479,
   "metadata": {},
   "outputs": [
    {
     "data": {
      "text/plain": [
       "Text(0.5, 1.0, '**wtf**')"
      ]
     },
     "execution_count": 479,
     "metadata": {},
     "output_type": "execute_result"
    },
    {
     "data": {
      "image/png": "[encoded data removed]",
      "text/plain": [
       "<Figure size 432x288 with 1 Axes>"
      ]
     },
     "metadata": {},
     "output_type": "display_data"
    }
   ],
   "source": [
    "xy = xy.sort_values('mean_growing_season')\n",
    "ax = sns.scatterplot(x='log_area', y='log_lang_per_cap', data=xy)\n",
    "# ax.plot('mean_growing_season', 'mu_mean', data=xy)\n",
    "# ax.fill_between('mean_growing_season', 'mu_hpd_lower', 'mu_hpd_upper', data=xy, alpha=.3)\n",
    "# plt.gcf().set_size_inches(10, 7)\n",
    "\n",
    "ax.plot(\n",
    "    xy.log_area,\n",
    "    (\n",
    "        0.000695 \n",
    "#         + 0.292458 * xy.mean_growing_season.values \n",
    "        + 0.167238 * xy.log_area.values\n",
    "    )\n",
    ")\n",
    "\n",
    "ax.set_title('**wtf**')"
   ]
  },
  {
   "cell_type": "code",
   "execution_count": 480,
   "metadata": {},
   "outputs": [
    {
     "data": {
      "text/plain": [
       "<seaborn.axisgrid.FacetGrid at 0x1c2a075e48>"
      ]
     },
     "execution_count": 480,
     "metadata": {},
     "output_type": "execute_result"
    },
    {
     "data": {
      "image/png": "[encoded data removed]",
      "text/plain": [
       "<Figure size 360x360 with 1 Axes>"
      ]
     },
     "metadata": {},
     "output_type": "display_data"
    }
   ],
   "source": [
    "sns.relplot(x='mean_growing_season', y='log_area', data=xy)"
   ]
  },
  {
   "cell_type": "code",
   "execution_count": 385,
   "metadata": {},
   "outputs": [],
   "source": [
    "with pm.Model() as m:\n",
    "    # define dataset and shared variables\n",
    "    data = nettle_std_df\n",
    "    shared = therapy.create_theano_shared_from_df(data)\n",
    "    # intercept and coefficients\n",
    "    pm.Normal('a', data.log_lang_per_cap.mean(), 5)\n",
    "    pm.Normal('b_sd_gs', 0, 1)\n",
    "    pm.Normal('b_log_area', 0, 1)\n",
    "    # linear model\n",
    "    pm.Deterministic(\n",
    "        'mu', \n",
    "        m.a \n",
    "        + m.b_log_area * shared['log_area']        \n",
    "        + m.b_sd_gs * shared['sd_growing_season'] \n",
    "    )\n",
    "    # likelihood\n",
    "    pm.Uniform('sigma', 0, 10)\n",
    "    pm.Normal('log_lang_per_capita', m.mu, m.sigma, observed=shared['log_lang_per_cap'])"
   ]
  },
  {
   "cell_type": "code",
   "execution_count": 386,
   "metadata": {},
   "outputs": [],
   "source": [
    "m_7h4b = therapy.Model(m, shared, 'm_7h4b')"
   ]
  },
  {
   "cell_type": "code",
   "execution_count": 387,
   "metadata": {},
   "outputs": [
    {
     "name": "stderr",
     "output_type": "stream",
     "text": [
      "Auto-assigning NUTS sampler...\n",
      "Initializing NUTS using jitter+adapt_diag...\n",
      "Multiprocess sampling (2 chains in 2 jobs)\n",
      "NUTS: [sigma, b_log_area, b_sd_gs, a]\n",
      "Sampling 2 chains: 100%|██████████| 2000/2000 [00:02<00:00, 956.98draws/s] \n"
     ]
    }
   ],
   "source": [
    "m_7h4b.fit()"
   ]
  },
  {
   "cell_type": "code",
   "execution_count": 388,
   "metadata": {},
   "outputs": [
    {
     "data": {
      "text/html": [
       "<div>\n",
       "<style scoped>\n",
       "    .dataframe tbody tr th:only-of-type {\n",
       "        vertical-align: middle;\n",
       "    }\n",
       "\n",
       "    .dataframe tbody tr th {\n",
       "        vertical-align: top;\n",
       "    }\n",
       "\n",
       "    .dataframe thead th {\n",
       "        text-align: right;\n",
       "    }\n",
       "</style>\n",
       "<table border=\"1\" class=\"dataframe\">\n",
       "  <thead>\n",
       "    <tr style=\"text-align: right;\">\n",
       "      <th></th>\n",
       "      <th>mean</th>\n",
       "      <th>sd</th>\n",
       "      <th>mc_error</th>\n",
       "      <th>hpd_2.5</th>\n",
       "      <th>hpd_97.5</th>\n",
       "      <th>n_eff</th>\n",
       "      <th>Rhat</th>\n",
       "    </tr>\n",
       "  </thead>\n",
       "  <tbody>\n",
       "    <tr>\n",
       "      <th>a</th>\n",
       "      <td>0.006194</td>\n",
       "      <td>0.114169</td>\n",
       "      <td>0.003485</td>\n",
       "      <td>-0.227489</td>\n",
       "      <td>0.227622</td>\n",
       "      <td>1044.363455</td>\n",
       "      <td>1.000237</td>\n",
       "    </tr>\n",
       "    <tr>\n",
       "      <th>b_sd_gs</th>\n",
       "      <td>-0.145912</td>\n",
       "      <td>0.132084</td>\n",
       "      <td>0.004851</td>\n",
       "      <td>-0.385165</td>\n",
       "      <td>0.120848</td>\n",
       "      <td>607.037989</td>\n",
       "      <td>1.002649</td>\n",
       "    </tr>\n",
       "    <tr>\n",
       "      <th>b_log_area</th>\n",
       "      <td>-0.200354</td>\n",
       "      <td>0.140088</td>\n",
       "      <td>0.005059</td>\n",
       "      <td>-0.480870</td>\n",
       "      <td>0.075034</td>\n",
       "      <td>693.227412</td>\n",
       "      <td>0.999876</td>\n",
       "    </tr>\n",
       "    <tr>\n",
       "      <th>sigma</th>\n",
       "      <td>0.983909</td>\n",
       "      <td>0.083184</td>\n",
       "      <td>0.002572</td>\n",
       "      <td>0.843135</td>\n",
       "      <td>1.161214</td>\n",
       "      <td>755.589899</td>\n",
       "      <td>1.000044</td>\n",
       "    </tr>\n",
       "  </tbody>\n",
       "</table>\n",
       "</div>"
      ],
      "text/plain": [
       "                mean        sd  mc_error   hpd_2.5  hpd_97.5        n_eff  \\\n",
       "a           0.006194  0.114169  0.003485 -0.227489  0.227622  1044.363455   \n",
       "b_sd_gs    -0.145912  0.132084  0.004851 -0.385165  0.120848   607.037989   \n",
       "b_log_area -0.200354  0.140088  0.005059 -0.480870  0.075034   693.227412   \n",
       "sigma       0.983909  0.083184  0.002572  0.843135  1.161214   755.589899   \n",
       "\n",
       "                Rhat  \n",
       "a           1.000237  \n",
       "b_sd_gs     1.002649  \n",
       "b_log_area  0.999876  \n",
       "sigma       1.000044  "
      ]
     },
     "execution_count": 388,
     "metadata": {},
     "output_type": "execute_result"
    }
   ],
   "source": [
    "therapy.interesting_summary(m_7h4b)"
   ]
  },
  {
   "cell_type": "markdown",
   "metadata": {},
   "source": [
    "Interpretation:\n",
    "\n",
    "The mean effect of standard deviation of growing season on languages per capita is negative. However, this is not consistently true, as the HPD ranges from -0.42 to 0.08.\n",
    "\n",
    "Again, log(area) has a mean negative effect on languages per capita, providing more evidence for the hypothesis that a higher area leads to less interaction but a higher population, thus fewer languages per capita."
   ]
  },
  {
   "cell_type": "markdown",
   "metadata": {},
   "source": [
    "(c)"
   ]
  },
  {
   "cell_type": "code",
   "execution_count": 369,
   "metadata": {},
   "outputs": [],
   "source": [
    "with pm.Model() as m:\n",
    "    # define dataset and shared variables\n",
    "    data = nettle_std_df\n",
    "    shared = therapy.create_theano_shared_from_df(data)\n",
    "    # intercept and coefficients\n",
    "    pm.Normal('a', data.log_lang_per_cap.mean(), 5)\n",
    "    pm.Normal('b_sd_gs', 0, 1)\n",
    "    pm.Normal('b_log_area', 0, 1)\n",
    "    pm.Normal('b_mean_gs', 0, 1)\n",
    "    pm.Normal('b_mean_gs_x_log_area', 0, 1)\n",
    "    # linear model\n",
    "    pm.Deterministic(\n",
    "        'mu', \n",
    "        m.a \n",
    "        + m.b_log_area * shared['log_area']        \n",
    "        + m.b_sd_gs * shared['sd_growing_season'] \n",
    "        + m.b_mean_gs * shared['mean_growing_season']\n",
    "        + m.b_mean_gs_x_log_area * shared['sd_growing_season'] * shared['mean_growing_season']\n",
    "    )\n",
    "    # likelihood\n",
    "    pm.Uniform('sigma', 0, 10)\n",
    "    pm.Normal('log_lang_per_capita', m.mu, m.sigma, observed=shared['log_lang_per_cap'])"
   ]
  },
  {
   "cell_type": "code",
   "execution_count": 370,
   "metadata": {},
   "outputs": [],
   "source": [
    "m_7h4c = therapy.Model(m, shared, 'm_7h4c')"
   ]
  },
  {
   "cell_type": "code",
   "execution_count": 371,
   "metadata": {},
   "outputs": [
    {
     "name": "stderr",
     "output_type": "stream",
     "text": [
      "Auto-assigning NUTS sampler...\n",
      "Initializing NUTS using jitter+adapt_diag...\n",
      "Multiprocess sampling (2 chains in 2 jobs)\n",
      "NUTS: [sigma, b_mean_gs_x_log_area, b_mean_gs, b_log_area, b_sd_gs, a]\n",
      "Sampling 2 chains: 100%|██████████| 2000/2000 [00:02<00:00, 740.47draws/s]\n"
     ]
    }
   ],
   "source": [
    "m_7h4c.fit()"
   ]
  },
  {
   "cell_type": "code",
   "execution_count": 372,
   "metadata": {},
   "outputs": [
    {
     "data": {
      "text/html": [
       "<div>\n",
       "<style scoped>\n",
       "    .dataframe tbody tr th:only-of-type {\n",
       "        vertical-align: middle;\n",
       "    }\n",
       "\n",
       "    .dataframe tbody tr th {\n",
       "        vertical-align: top;\n",
       "    }\n",
       "\n",
       "    .dataframe thead th {\n",
       "        text-align: right;\n",
       "    }\n",
       "</style>\n",
       "<table border=\"1\" class=\"dataframe\">\n",
       "  <thead>\n",
       "    <tr style=\"text-align: right;\">\n",
       "      <th></th>\n",
       "      <th>mean</th>\n",
       "      <th>sd</th>\n",
       "      <th>mc_error</th>\n",
       "      <th>hpd_2.5</th>\n",
       "      <th>hpd_97.5</th>\n",
       "      <th>n_eff</th>\n",
       "      <th>Rhat</th>\n",
       "    </tr>\n",
       "  </thead>\n",
       "  <tbody>\n",
       "    <tr>\n",
       "      <th>a</th>\n",
       "      <td>0.001656</td>\n",
       "      <td>0.105492</td>\n",
       "      <td>0.003094</td>\n",
       "      <td>-0.187204</td>\n",
       "      <td>0.219980</td>\n",
       "      <td>1030.453930</td>\n",
       "      <td>0.999002</td>\n",
       "    </tr>\n",
       "    <tr>\n",
       "      <th>b_sd_gs</th>\n",
       "      <td>-0.234310</td>\n",
       "      <td>0.132132</td>\n",
       "      <td>0.004749</td>\n",
       "      <td>-0.473793</td>\n",
       "      <td>0.032745</td>\n",
       "      <td>873.734061</td>\n",
       "      <td>1.001265</td>\n",
       "    </tr>\n",
       "    <tr>\n",
       "      <th>b_log_area</th>\n",
       "      <td>-0.012133</td>\n",
       "      <td>0.146232</td>\n",
       "      <td>0.004762</td>\n",
       "      <td>-0.276988</td>\n",
       "      <td>0.262242</td>\n",
       "      <td>1024.160365</td>\n",
       "      <td>1.003294</td>\n",
       "    </tr>\n",
       "    <tr>\n",
       "      <th>b_mean_gs</th>\n",
       "      <td>0.237878</td>\n",
       "      <td>0.130161</td>\n",
       "      <td>0.004327</td>\n",
       "      <td>-0.046670</td>\n",
       "      <td>0.459541</td>\n",
       "      <td>896.625322</td>\n",
       "      <td>1.002034</td>\n",
       "    </tr>\n",
       "    <tr>\n",
       "      <th>b_mean_gs_x_log_area</th>\n",
       "      <td>-0.232280</td>\n",
       "      <td>0.107907</td>\n",
       "      <td>0.003148</td>\n",
       "      <td>-0.452055</td>\n",
       "      <td>-0.031684</td>\n",
       "      <td>1015.925653</td>\n",
       "      <td>0.999299</td>\n",
       "    </tr>\n",
       "    <tr>\n",
       "      <th>sigma</th>\n",
       "      <td>0.906462</td>\n",
       "      <td>0.082016</td>\n",
       "      <td>0.002721</td>\n",
       "      <td>0.742415</td>\n",
       "      <td>1.063040</td>\n",
       "      <td>929.442082</td>\n",
       "      <td>1.001104</td>\n",
       "    </tr>\n",
       "  </tbody>\n",
       "</table>\n",
       "</div>"
      ],
      "text/plain": [
       "                          mean        sd  mc_error   hpd_2.5  hpd_97.5  \\\n",
       "a                     0.001656  0.105492  0.003094 -0.187204  0.219980   \n",
       "b_sd_gs              -0.234310  0.132132  0.004749 -0.473793  0.032745   \n",
       "b_log_area           -0.012133  0.146232  0.004762 -0.276988  0.262242   \n",
       "b_mean_gs             0.237878  0.130161  0.004327 -0.046670  0.459541   \n",
       "b_mean_gs_x_log_area -0.232280  0.107907  0.003148 -0.452055 -0.031684   \n",
       "sigma                 0.906462  0.082016  0.002721  0.742415  1.063040   \n",
       "\n",
       "                            n_eff      Rhat  \n",
       "a                     1030.453930  0.999002  \n",
       "b_sd_gs                873.734061  1.001265  \n",
       "b_log_area            1024.160365  1.003294  \n",
       "b_mean_gs              896.625322  1.002034  \n",
       "b_mean_gs_x_log_area  1015.925653  0.999299  \n",
       "sigma                  929.442082  1.001104  "
      ]
     },
     "execution_count": 372,
     "metadata": {},
     "output_type": "execute_result"
    }
   ],
   "source": [
    "therapy.interesting_summary(m_7h4c)"
   ]
  },
  {
   "cell_type": "code",
   "execution_count": null,
   "metadata": {},
   "outputs": [],
   "source": []
  }
 ],
 "metadata": {
  "kernelspec": {
   "display_name": "Python 3",
   "language": "python",
   "name": "python3"
  },
  "language_info": {
   "codemirror_mode": {
    "name": "ipython",
    "version": 3
   },
   "file_extension": ".py",
   "mimetype": "text/x-python",
   "name": "python",
   "nbconvert_exporter": "python",
   "pygments_lexer": "ipython3",
   "version": "3.7.2"
  }
 },
 "nbformat": 4,
 "nbformat_minor": 2
}
