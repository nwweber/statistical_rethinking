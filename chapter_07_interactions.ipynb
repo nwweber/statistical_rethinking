{
 "cells": [
  {
   "cell_type": "code",
   "execution_count": 2,
   "metadata": {},
   "outputs": [],
   "source": [
    "import numpy as np\n",
    "import matplotlib.pyplot as plt\n",
    "import pymc3 as pm\n",
    "import scipy.stats as stats\n",
    "import pandas as pd\n",
    "import seaborn as sns\n",
    "import statsmodels.formula.api as smf\n",
    "import string\n",
    "import theano\n",
    "\n",
    "sns.set()\n",
    "plt.ion()"
   ]
  },
  {
   "cell_type": "markdown",
   "metadata": {},
   "source": [
    "# Functions and Classes"
   ]
  },
  {
   "cell_type": "code",
   "execution_count": 3,
   "metadata": {},
   "outputs": [],
   "source": [
    "def compare(fitted_models):\n",
    "    \"\"\"\n",
    "    Compare models on WAIC (and some other measures)\n",
    "\n",
    "    In:\n",
    "        fitted_models: iterable of FittedModel instances\n",
    "        \n",
    "    Out:\n",
    "        DataFrame, indexed by model names, columns having comparison values\n",
    "    \"\"\"\n",
    "    \n",
    "    # variable needs to be Series instead of just list b/c 'pm.compare' returns dataframe which is sorted\n",
    "    # by information criterion value. need to match model names to entries of that dataframe by index,\n",
    "    # which indicates initial position of the model when given to this function\n",
    "    # note: silly design by pymc3\n",
    "    model_names = pd.Series([fm.name for fm in fitted_models])\n",
    "    \n",
    "    model_dict = {fm.model: fm.trace for fm in fitted_models}\n",
    "    \n",
    "    return (\n",
    "        pm\n",
    "        .compare(\n",
    "            model_dict = model_dict,\n",
    "            method = 'BB-pseudo-BMA'\n",
    "        )\n",
    "        .assign(model =  model_names)\n",
    "        .set_index('model')\n",
    "        .sort_values('WAIC')\n",
    "    )"
   ]
  },
  {
   "cell_type": "code",
   "execution_count": 4,
   "metadata": {},
   "outputs": [],
   "source": [
    "# Code 7.2\n",
    "\n",
    "def create_rugged_log_gdp_model(dataset, return_dataframe=True):\n",
    "    \"\"\"\n",
    "    model log_gdp as a linear function of ruggedness using data from `dataset`\n",
    "    \"\"\"\n",
    "    with pm.Model() as model:\n",
    "        sigma = pm.Uniform('sigma', 0, 10)\n",
    "        bR = pm.Normal('bR', 0, 1)\n",
    "        a = pm.Normal('a', 8, 100)\n",
    "        mu = pm.Deterministic('mu', a + bR * dataset.rugged)\n",
    "        log_gdp = pm.Normal('log_gdp', mu, sigma, observed=dataset.log_gdp)\n",
    "\n",
    "        trace = pm.sample(1000, tune=1000, progressbar=False)\n",
    "        \n",
    "        if return_dataframe:\n",
    "            trace = pm.trace_to_dataframe(trace)\n",
    "        \n",
    "    return model, trace"
   ]
  },
  {
   "cell_type": "code",
   "execution_count": 5,
   "metadata": {},
   "outputs": [],
   "source": [
    "def attach_mu_predictions_to_data(xy_data, trace_df):\n",
    "    \"\"\"\n",
    "    For source data and a trace of posterior samples: calculate sample mean and hpd boundaries,\n",
    "    attach them to the original data into one joined dataframe.\n",
    "    \n",
    "    Assume that 'mu__n' column of samples belongs to n-th data point in dataframe.\n",
    "    \n",
    "    In:\n",
    "        xy_data: dataframe\n",
    "        trace_df: dataframe having columns with name pattern 'mu__x'\n",
    "        \n",
    "    Out:\n",
    "        'xy_data' dataframe with new columns 'mu_means', 'mu_hpd_lower', and 'mu_hpd_upper'\n",
    "    \"\"\"\n",
    "    \n",
    "    mu_samples = trace_df.filter(like='mu__')\n",
    "    mu_means = mu_samples.mean(axis=0)\n",
    "\n",
    "    mu_hpd_lower, mu_hpd_upper = np.split(\n",
    "        ary=pm.hpd(mu_samples.values, alpha=0.03),\n",
    "        indices_or_sections=2,\n",
    "        axis=1\n",
    "    )\n",
    "\n",
    "    return (\n",
    "        xy_data\n",
    "        .assign(\n",
    "            mu_means = mu_means.values,\n",
    "            mu_hpd_upper = mu_hpd_upper,\n",
    "            mu_hpd_lower = mu_hpd_lower\n",
    "        )\n",
    "    )"
   ]
  },
  {
   "cell_type": "code",
   "execution_count": 6,
   "metadata": {},
   "outputs": [],
   "source": [
    "def create_plot_scatter_with_predicted_means(xy_data, trace_df, x, y, ax = None, plot_y = True):\n",
    "    \"\"\"\n",
    "    Make predictions from samples, attach them to original data and plot original data and\n",
    "    predictions together\n",
    "    \n",
    "    In:\n",
    "        xy_data: dataframe with columns 'x' and 'y'\n",
    "        trace_df: dataframe with posterior samples\n",
    "        x: string col name\n",
    "        y: string col name\n",
    "        ax: what axes to plot into\n",
    "    \n",
    "    Out:\n",
    "        ax: axes with plot\n",
    "    \"\"\"\n",
    "    \n",
    "    # calculate sample summaries and attach to original data\n",
    "    # sort by x for plotting line of predicted mu values\n",
    "    d_with_preds = attach_mu_predictions_to_data(xy_data, trace_df).sort_values(x)\n",
    "\n",
    "    if ax is None:\n",
    "        ax = plt.axes()\n",
    "\n",
    "    ax.plot(x, 'mu_means', 'g-', data=d_with_preds)\n",
    "    ax.fill_between(x, 'mu_hpd_lower', 'mu_hpd_upper', color='g', alpha=.3, data=d_with_preds)\n",
    "    \n",
    "    if plot_y:\n",
    "        ax.plot(x, y, 'ob', mew=1, fillstyle='none', alpha=.3, data=d_with_preds)\n",
    "    \n",
    "    ax.set_xlabel(x)\n",
    "    ax.set_ylabel(y)\n",
    "    \n",
    "    return ax"
   ]
  },
  {
   "cell_type": "code",
   "execution_count": 7,
   "metadata": {},
   "outputs": [],
   "source": [
    "class FittedModel(object):\n",
    "    \"\"\"\n",
    "    Container to hold pymc3 model together with its mcmc trace and theano shared variables for prediction\n",
    "    \"\"\"\n",
    "    \n",
    "    def __init__(self, model, trace, predictor_dict, name):\n",
    "        \"\"\"\n",
    "        model: pymc3 model\n",
    "        trace: pymc3 trace for model\n",
    "        predictor_dict = {'predictor_n': theano_tensor_n}\n",
    "        \"\"\"\n",
    "        self.model = model\n",
    "        self.trace = trace\n",
    "        \n",
    "        if predictor_dict is None:\n",
    "            self.predictor_dict = None\n",
    "        else:\n",
    "            self.predictor_dict = {\n",
    "                predictor_name: {\n",
    "                    'shared_variable': shared_variable,\n",
    "                    'original_value': shared_variable.get_value()\n",
    "                }\n",
    "                for predictor_name, shared_variable in predictor_dict.items()\n",
    "            }\n",
    "        self.name = name\n",
    "        \n",
    "    def _repr_latex_(self):\n",
    "        return self.model._repr_latex_()\n",
    "    \n",
    "    \n",
    "    def _set_predictor_values(self, predictor_values):\n",
    "        \"\"\"\n",
    "        Set values of shared theano tensors to given values\n",
    "        \n",
    "        In:\n",
    "            predictor_values: DataFrame, column = predictor\n",
    "        \n",
    "        Out:\n",
    "            None, only side effects\n",
    "        \"\"\"\n",
    "        \n",
    "        # set shared variables to passed values\n",
    "        for predictor_name in predictor_values.columns:\n",
    "            predictor_shared_variable = self.predictor_dict[predictor_name]['shared_variable']\n",
    "            predictor_shared_variable.set_value(predictor_values[predictor_name].values)\n",
    "        \n",
    "        \n",
    "    def _reset_predictor_values(self):\n",
    "        \"\"\"\n",
    "        Revert all shared variables to original state\n",
    "        \n",
    "        In:\n",
    "            none\n",
    "            \n",
    "        Out:\n",
    "            None\n",
    "        \"\"\"\n",
    "\n",
    "        for _,  pred_dict in self.predictor_dict.items():\n",
    "            pred_dict['shared_variable'].set_value(pred_dict['original_value'])\n",
    "    \n",
    "    \n",
    "    def sample_mu(self, predictor_values):\n",
    "        \"\"\"\n",
    "        Generate samples of 'mu' variable based on 'predictor_values' (yes, this is basically\n",
    "        the 'link' function, just as a method).\n",
    "                \n",
    "        In:\n",
    "            predictor_values: DataFrame with column names matching this_model.predictor_dict.keys()\n",
    "\n",
    "        Out:\n",
    "            df with samples for means, one column per input data point\n",
    "        \"\"\"\n",
    "\n",
    "        # set shared variables to passed values\n",
    "        self._set_predictor_values(predictor_values)\n",
    "\n",
    "        samples = pm.sample_ppc(\n",
    "            trace=self.trace, \n",
    "            model=self.model, \n",
    "            vars=[self.model.mu],\n",
    "            progressbar=False\n",
    "        )\n",
    "\n",
    "        # revert shared variables to original state\n",
    "        # if skipped all future interactions with model will use predictor values passed for this\n",
    "        # function call as a side effect. makes reasoning harder.\n",
    "        # TODO: make this automatic, e.g. through modifying shared variables only in context\n",
    "        self._reset_predictor_values()\n",
    "\n",
    "        mu_samples = samples['mu']\n",
    "\n",
    "        columns = ['mu__{}'.format(i) for i in range(mu_samples.shape[1])]\n",
    "\n",
    "        return pd.DataFrame(data=mu_samples, columns=columns)\n",
    "    \n",
    "    def predict_mu(self, predictor_values):\n",
    "        \"\"\"\n",
    "        Generate mean/hpd predictions for mu based on 'predictor_values'. Closest to model.predict()\n",
    "        in sklearn\n",
    "        \n",
    "        In:\n",
    "            predictor_values: DataFrame with column names matching this_model.predictor_dict.keys()\n",
    "\n",
    "        Out:\n",
    "            df with mean and hpd of estimated mus, each row matches one input row of predictor_values df\n",
    "        \"\"\"\n",
    "        \n",
    "        mu_samples = self.sample_mu(predictor_values)\n",
    "\n",
    "        mu_means = mu_samples.mean(axis=0)\n",
    "\n",
    "        mu_hpd_lower, mu_hpd_upper = np.split(\n",
    "            ary=pm.hpd(mu_samples.values, alpha=0.03),\n",
    "            indices_or_sections=2,\n",
    "            axis=1\n",
    "        )\n",
    "\n",
    "        # 'squeeze()' necessary to remove empty 2nd axis, pandas complains otherwise\n",
    "        return pd.DataFrame(\n",
    "            {\n",
    "                'mu_means': mu_means, \n",
    "                'mu_hpd_lower': mu_hpd_lower.squeeze(), \n",
    "                'mu_hpd_upper': mu_hpd_upper.squeeze()\n",
    "            }\n",
    "        )"
   ]
  },
  {
   "cell_type": "code",
   "execution_count": 8,
   "metadata": {},
   "outputs": [],
   "source": [
    "def link(fitted_model, predictor_values):\n",
    "    \"\"\"\n",
    "    Generate samples of 'mu' variable for 'fitted_model' based on 'predictor_values'\n",
    "\n",
    "    In:\n",
    "        fitted_model: FittedModel instance\n",
    "        predictor_values: DataFrame with column names matching fitted_model.predictor_dict.keys()\n",
    "        \n",
    "    Out:\n",
    "        df with samples for means, one column per input data point\n",
    "    \"\"\"\n",
    "\n",
    "    return fitted_model.sample_mu(predictor_values)"
   ]
  },
  {
   "cell_type": "code",
   "execution_count": 9,
   "metadata": {
    "scrolled": false
   },
   "outputs": [],
   "source": [
    "def precis(fitted_model):\n",
    "    \"\"\"\n",
    "    Take a fitted model, give summaries about posterior estimates\n",
    "    \n",
    "    In:\n",
    "        fitted_model: instance of FittedModel\n",
    "    \n",
    "    Out:\n",
    "        pandas df with posterior summaries\n",
    "    \"\"\"\n",
    "    \n",
    "    summary =  pm.summary(fitted_model.trace, alpha=.11)\n",
    "\n",
    "    # filter out deterministic variables\n",
    "    # recognized by the '__'  in the name\n",
    "    return summary.loc[[ix for ix in summary.index if '__' not in ix]]"
   ]
  },
  {
   "cell_type": "code",
   "execution_count": 10,
   "metadata": {},
   "outputs": [],
   "source": [
    "def extract_samples(fitted_model):\n",
    "    \"\"\"\n",
    "    In:\n",
    "        fitted_model: FittedModel instance\n",
    "        \n",
    "    Out:\n",
    "        DataFrame with posterior samples of parameters\n",
    "    \"\"\"\n",
    "    \n",
    "    return pm.trace_to_dataframe(fitted_model.trace)"
   ]
  },
  {
   "cell_type": "markdown",
   "metadata": {},
   "source": [
    "# 7 Interactions\n",
    "\n",
    "Conditioning: data conditional on how we get our samples. Posterior distributions conditional on data. All inference conditional on the model. Every inference is conditional, but we might not realize it.\n",
    "\n",
    "Lin model = way of seeing outcome as conditional on predictors of that case.\n",
    "\n",
    "Lin model assumes each predictor has independent association w/ mean of outcome **how does this work if interpretation of coefficient is \"amount information gained when learning about this variable, already knowing all others\"? probably doesn't work. need more basic interpretation. maybe \"coefficent = expected change in outcome mean for unit increase in predictor, while keeping other predictors constant\". still linked somehow?**\n",
    "\n",
    "Ex: assume that link between brain size and milk energy depends on what kind of primate we are looking at (ape, monkey, prosimian). Influence needs to be conditional on that. McElreath: Lin. model in previous chapters cannot capture this. **again seems to indicate that we cannot use interpretation of 'given all other factors, how much do we learn about milk energy by getting information about brain size'. because 'all other factors' would include 'kind of primate'. which is weird, because is this not what 'statistically controlling for' would imply? we put in the another predictor into the model and thus control for it. more questions, not more answers. need discussion.**\n",
    "\n",
    "want to model: importance of predictor A depends on predictor B. need: interaction. simplest one: linear interaction. see below."
   ]
  },
  {
   "cell_type": "markdown",
   "metadata": {},
   "source": [
    "## 7.1. Building an interaction"
   ]
  },
  {
   "cell_type": "code",
   "execution_count": 11,
   "metadata": {},
   "outputs": [],
   "source": [
    "# Code 7.1\n",
    "\n",
    "d = pd.read_csv('./data/rugged.csv', sep=';').set_index('isocode')\n",
    "\n",
    "# make log version of outcome\n",
    "d = d.assign(log_gdp=np.log(d.rgdppc_2000))\n",
    "\n",
    "# drop incomplete cases\n",
    "dd = d.dropna(subset=['rgdppc_2000'])\n",
    "\n",
    "# split countries into africa and not-africa\n",
    "d_a1 = dd.query('cont_africa == 1')\n",
    "d_a0 = dd.query('cont_africa == 0')"
   ]
  },
  {
   "cell_type": "code",
   "execution_count": 12,
   "metadata": {},
   "outputs": [
    {
     "name": "stderr",
     "output_type": "stream",
     "text": [
      "Auto-assigning NUTS sampler...\n",
      "Initializing NUTS using jitter+adapt_diag...\n",
      "Multiprocess sampling (2 chains in 2 jobs)\n",
      "NUTS: [a, bR, sigma]\n"
     ]
    }
   ],
   "source": [
    "# african countries\n",
    "m_7_1, trace_7_1 = create_rugged_log_gdp_model(d_a1)"
   ]
  },
  {
   "cell_type": "code",
   "execution_count": 13,
   "metadata": {},
   "outputs": [
    {
     "name": "stderr",
     "output_type": "stream",
     "text": [
      "Auto-assigning NUTS sampler...\n",
      "Initializing NUTS using jitter+adapt_diag...\n",
      "Multiprocess sampling (2 chains in 2 jobs)\n",
      "NUTS: [a, bR, sigma]\n"
     ]
    }
   ],
   "source": [
    "# non-african countries\n",
    "m_7_2, trace_7_2 = create_rugged_log_gdp_model(d_a0)"
   ]
  },
  {
   "cell_type": "code",
   "execution_count": 14,
   "metadata": {},
   "outputs": [
    {
     "data": {
      "text/plain": [
       "Text(0.5, 1.0, 'Non-African countries')"
      ]
     },
     "execution_count": 14,
     "metadata": {},
     "output_type": "execute_result"
    },
    {
     "data": {
      "image/png": "[encoded data removed]",
      "text/plain": [
       "<Figure size 1080x360 with 2 Axes>"
      ]
     },
     "metadata": {},
     "output_type": "display_data"
    }
   ],
   "source": [
    "x = 'rugged'\n",
    "y = 'log_gdp'\n",
    "\n",
    "fig, axes_array = plt.subplots(nrows=1, ncols=2, figsize=(15, 5), sharey=True)\n",
    "\n",
    "ax = create_plot_scatter_with_predicted_means(d_a1, trace_7_1, x, y, axes_array[0])\n",
    "ax.set_title('African countries')\n",
    "\n",
    "ax = create_plot_scatter_with_predicted_means(d_a0, trace_7_2, x, y, axes_array[1])\n",
    "ax.set_title('Non-African countries')"
   ]
  },
  {
   "cell_type": "markdown",
   "metadata": {},
   "source": [
    "Slope different, but bad idea to split data into two frames like this because:\n",
    "\n",
    "* now assumes variance (sigma) is different between african and non-african countries\n",
    "* can't make statements about predictive power/uncertainty of 'is_african' variable used to split data\n",
    "* can't use information criteria to compare models b/c fitted on different data\n",
    "* can't use information from non-african countries for african countries/vice versa, which is done in multilevel models\n",
    "\n",
    "Instead, create one model that allows different slope based on predictor values"
   ]
  },
  {
   "cell_type": "markdown",
   "metadata": {},
   "source": [
    "### 7.1.1. adding a dummy variable doesn't work"
   ]
  },
  {
   "cell_type": "code",
   "execution_count": 15,
   "metadata": {},
   "outputs": [
    {
     "name": "stderr",
     "output_type": "stream",
     "text": [
      "Auto-assigning NUTS sampler...\n",
      "Initializing NUTS using jitter+adapt_diag...\n",
      "Multiprocess sampling (2 chains in 2 jobs)\n",
      "NUTS: [a, bR, sigma]\n"
     ]
    }
   ],
   "source": [
    "# Code 7.3\n",
    "\n",
    "m, t = create_rugged_log_gdp_model(dd, return_dataframe=False)\n",
    "\n",
    "fit_m_7_3 = FittedModel(m, t, None, 'm_7_3')"
   ]
  },
  {
   "cell_type": "code",
   "execution_count": 16,
   "metadata": {},
   "outputs": [],
   "source": [
    "series = pd.DataFrame({'sv1': [1, 2]})"
   ]
  },
  {
   "cell_type": "code",
   "execution_count": 17,
   "metadata": {},
   "outputs": [],
   "source": [
    "shared = theano.shared(series.values)"
   ]
  },
  {
   "cell_type": "code",
   "execution_count": 18,
   "metadata": {},
   "outputs": [
    {
     "data": {
      "text/plain": [
       "array([[1],\n",
       "       [2]])"
      ]
     },
     "execution_count": 18,
     "metadata": {},
     "output_type": "execute_result"
    }
   ],
   "source": [
    "shared.get_value()"
   ]
  },
  {
   "cell_type": "code",
   "execution_count": 19,
   "metadata": {},
   "outputs": [
    {
     "data": {
      "text/plain": [
       "True"
      ]
     },
     "execution_count": 19,
     "metadata": {},
     "output_type": "execute_result"
    }
   ],
   "source": [
    "all(shared.get_value() == series.values)"
   ]
  },
  {
   "cell_type": "code",
   "execution_count": 20,
   "metadata": {},
   "outputs": [
    {
     "data": {
      "text/plain": [
       "False"
      ]
     },
     "execution_count": 20,
     "metadata": {},
     "output_type": "execute_result"
    }
   ],
   "source": [
    "shared.get_value() is series.values"
   ]
  },
  {
   "cell_type": "code",
   "execution_count": 21,
   "metadata": {},
   "outputs": [
    {
     "data": {
      "text/plain": [
       "120824396496"
      ]
     },
     "execution_count": 21,
     "metadata": {},
     "output_type": "execute_result"
    }
   ],
   "source": [
    "id(shared.get_value())"
   ]
  },
  {
   "cell_type": "code",
   "execution_count": 22,
   "metadata": {},
   "outputs": [
    {
     "data": {
      "text/plain": [
       "120824765536"
      ]
     },
     "execution_count": 22,
     "metadata": {},
     "output_type": "execute_result"
    }
   ],
   "source": [
    "id(series.values)"
   ]
  },
  {
   "cell_type": "code",
   "execution_count": null,
   "metadata": {},
   "outputs": [],
   "source": []
  },
  {
   "cell_type": "code",
   "execution_count": 23,
   "metadata": {
    "scrolled": true
   },
   "outputs": [
    {
     "name": "stderr",
     "output_type": "stream",
     "text": [
      "Auto-assigning NUTS sampler...\n",
      "Initializing NUTS using jitter+adapt_diag...\n",
      "Multiprocess sampling (2 chains in 2 jobs)\n",
      "NUTS: [a, bA, bR, sigma]\n"
     ]
    }
   ],
   "source": [
    "# Code 7.4\n",
    "\n",
    "dataset = dd\n",
    "\n",
    "with pm.Model() as model:\n",
    "    \n",
    "    sigma = pm.Uniform('sigma', 0, 10)\n",
    "    \n",
    "    bR = pm.Normal('bR', 0, 1)\n",
    "    bA = pm.Normal('bA', 0, 1)\n",
    "    \n",
    "    a = pm.Normal('a', 8, 100)\n",
    "    \n",
    "    rugged = theano.shared(dataset.rugged.values)\n",
    "    cont_africa = theano.shared(dataset.cont_africa.values)\n",
    "    \n",
    "    mu = pm.Deterministic('mu', a + bR * rugged + bA * cont_africa)\n",
    "    log_gdp = pm.Normal('log_gdp', mu, sigma, observed=dataset.log_gdp)\n",
    "\n",
    "    trace = pm.sample(1000, tune=1000, progressbar=False)\n",
    "\n",
    "\n",
    "# object for easier bookkeeping\n",
    "fit_m_7_4 = FittedModel(\n",
    "    model = model,\n",
    "    trace = trace,\n",
    "    predictor_dict = {\n",
    "        'rugged': rugged,\n",
    "        'cont_africa': cont_africa\n",
    "    },\n",
    "    name = 'm_7_4'\n",
    ")"
   ]
  },
  {
   "cell_type": "code",
   "execution_count": 24,
   "metadata": {
    "scrolled": true
   },
   "outputs": [
    {
     "name": "stderr",
     "output_type": "stream",
     "text": [
      "/anaconda3/envs/rethinking_statistics/lib/python3.7/site-packages/pymc3/stats.py:211: UserWarning: For one or more samples the posterior variance of the\n",
      "        log predictive densities exceeds 0.4. This could be indication of\n",
      "        WAIC starting to fail see http://arxiv.org/abs/1507.04544 for details\n",
      "        \n",
      "  \"\"\")\n"
     ]
    },
    {
     "data": {
      "text/html": [
       "<div>\n",
       "<style scoped>\n",
       "    .dataframe tbody tr th:only-of-type {\n",
       "        vertical-align: middle;\n",
       "    }\n",
       "\n",
       "    .dataframe tbody tr th {\n",
       "        vertical-align: top;\n",
       "    }\n",
       "\n",
       "    .dataframe thead th {\n",
       "        text-align: right;\n",
       "    }\n",
       "</style>\n",
       "<table border=\"1\" class=\"dataframe\">\n",
       "  <thead>\n",
       "    <tr style=\"text-align: right;\">\n",
       "      <th></th>\n",
       "      <th>WAIC</th>\n",
       "      <th>pWAIC</th>\n",
       "      <th>dWAIC</th>\n",
       "      <th>weight</th>\n",
       "      <th>SE</th>\n",
       "      <th>dSE</th>\n",
       "      <th>var_warn</th>\n",
       "    </tr>\n",
       "    <tr>\n",
       "      <th>model</th>\n",
       "      <th></th>\n",
       "      <th></th>\n",
       "      <th></th>\n",
       "      <th></th>\n",
       "      <th></th>\n",
       "      <th></th>\n",
       "      <th></th>\n",
       "    </tr>\n",
       "  </thead>\n",
       "  <tbody>\n",
       "    <tr>\n",
       "      <th>m_7_4</th>\n",
       "      <td>476.29</td>\n",
       "      <td>4.29</td>\n",
       "      <td>0</td>\n",
       "      <td>1</td>\n",
       "      <td>14.94</td>\n",
       "      <td>0</td>\n",
       "      <td>1</td>\n",
       "    </tr>\n",
       "    <tr>\n",
       "      <th>m_7_3</th>\n",
       "      <td>539.68</td>\n",
       "      <td>2.67</td>\n",
       "      <td>63.39</td>\n",
       "      <td>0</td>\n",
       "      <td>13.56</td>\n",
       "      <td>14.65</td>\n",
       "      <td>0</td>\n",
       "    </tr>\n",
       "  </tbody>\n",
       "</table>\n",
       "</div>"
      ],
      "text/plain": [
       "         WAIC pWAIC  dWAIC weight     SE    dSE var_warn\n",
       "model                                                   \n",
       "m_7_4  476.29  4.29      0      1  14.94      0        1\n",
       "m_7_3  539.68  2.67  63.39      0  13.56  14.65        0"
      ]
     },
     "execution_count": 24,
     "metadata": {},
     "output_type": "execute_result"
    }
   ],
   "source": [
    "# Code 7.5\n",
    "compare(\n",
    "    [\n",
    "        fit_m_7_3,\n",
    "        fit_m_7_4\n",
    "    ]\n",
    ")"
   ]
  },
  {
   "cell_type": "code",
   "execution_count": 25,
   "metadata": {},
   "outputs": [
    {
     "data": {
      "text/plain": [
       "Text(0.5, 1.0, 'African countries')"
      ]
     },
     "execution_count": 25,
     "metadata": {},
     "output_type": "execute_result"
    },
    {
     "data": {
      "image/png": "[encoded data removed]",
      "text/plain": [
       "<Figure size 1080x360 with 2 Axes>"
      ]
     },
     "metadata": {},
     "output_type": "display_data"
    }
   ],
   "source": [
    "# Code 7.6\n",
    "\n",
    "# range of x-values\n",
    "rugged_values = np.arange(-1, 8.25, 0.25)\n",
    "\n",
    "# dataframes with predictor values\n",
    "d_not_africa = pd.DataFrame({'rugged': rugged_values, 'cont_africa': 0})\n",
    "d_africa = pd.DataFrame({'rugged': rugged_values, 'cont_africa': 1})\n",
    "\n",
    "# create posterior samples of mu for predictor values\n",
    "mu_not_africa = link(fit_m_7_4, d_not_africa)\n",
    "mu_africa = link(fit_m_7_4, d_africa)\n",
    "\n",
    "# x/y variable names\n",
    "x = 'rugged'\n",
    "y = 'mu_means'\n",
    "\n",
    "# plots\n",
    "fig, axes_array = plt.subplots(nrows=1, ncols=2, figsize=(15, 5), sharey=True)\n",
    "\n",
    "ax = create_plot_scatter_with_predicted_means(d_not_africa, mu_not_africa, x, y, axes_array[0], plot_y=False)\n",
    "ax.set_title('Non-African countries')\n",
    "\n",
    "ax = create_plot_scatter_with_predicted_means(d_africa, mu_africa, x, y, axes_array[1], plot_y=False)\n",
    "ax.set_title('African countries')"
   ]
  },
  {
   "cell_type": "markdown",
   "metadata": {},
   "source": [
    "No difference whatsoever in slope, perfectly parallel, just shifted. Can't change slope by including dummy variable. Model is only better in terms of WAIC b/c it allows model to capture fact that African nations on average have lower GDP"
   ]
  },
  {
   "cell_type": "markdown",
   "metadata": {},
   "source": [
    "### 7.1.2. Adding a linear interaction does work"
   ]
  },
  {
   "cell_type": "code",
   "execution_count": 26,
   "metadata": {},
   "outputs": [
    {
     "name": "stderr",
     "output_type": "stream",
     "text": [
      "Auto-assigning NUTS sampler...\n",
      "Initializing NUTS using jitter+adapt_diag...\n",
      "Multiprocess sampling (2 chains in 2 jobs)\n",
      "NUTS: [a, bAR, bA, bR, sigma]\n"
     ]
    }
   ],
   "source": [
    "# Code 7.7\n",
    "\n",
    "dataset = dd\n",
    "\n",
    "with pm.Model() as model:\n",
    "    \n",
    "    sigma = pm.Uniform('sigma', 0, 10)\n",
    "    \n",
    "    bR = pm.Normal('bR', 0, 1)\n",
    "    bA = pm.Normal('bA', 0, 1)\n",
    "    bAR = pm.Normal('bAR', 0, 1)\n",
    "    \n",
    "    a = pm.Normal('a', 8, 100)\n",
    "    \n",
    "    rugged = theano.shared(dataset.rugged.values)\n",
    "    cont_africa = theano.shared(dataset.cont_africa.values)\n",
    "    \n",
    "    gamma = pm.Deterministic('gamma', bR + bAR * cont_africa)\n",
    "    mu = pm.Deterministic('mu', a + gamma * rugged + bA * cont_africa)\n",
    "    log_gdp = pm.Normal('log_gdp', mu, sigma, observed=dataset.log_gdp)\n",
    "\n",
    "    trace = pm.sample(1000, tune=1000, progressbar=False)"
   ]
  },
  {
   "cell_type": "code",
   "execution_count": 27,
   "metadata": {},
   "outputs": [],
   "source": [
    "fit_m_7_5 = FittedModel(model, trace, {'rugged': rugged, 'cont_africa': cont_africa}, 'm_7_5')"
   ]
  },
  {
   "cell_type": "code",
   "execution_count": 28,
   "metadata": {},
   "outputs": [
    {
     "name": "stderr",
     "output_type": "stream",
     "text": [
      "/anaconda3/envs/rethinking_statistics/lib/python3.7/site-packages/pymc3/stats.py:211: UserWarning: For one or more samples the posterior variance of the\n",
      "        log predictive densities exceeds 0.4. This could be indication of\n",
      "        WAIC starting to fail see http://arxiv.org/abs/1507.04544 for details\n",
      "        \n",
      "  \"\"\")\n",
      "/anaconda3/envs/rethinking_statistics/lib/python3.7/site-packages/pymc3/stats.py:211: UserWarning: For one or more samples the posterior variance of the\n",
      "        log predictive densities exceeds 0.4. This could be indication of\n",
      "        WAIC starting to fail see http://arxiv.org/abs/1507.04544 for details\n",
      "        \n",
      "  \"\"\")\n"
     ]
    },
    {
     "data": {
      "text/html": [
       "<div>\n",
       "<style scoped>\n",
       "    .dataframe tbody tr th:only-of-type {\n",
       "        vertical-align: middle;\n",
       "    }\n",
       "\n",
       "    .dataframe tbody tr th {\n",
       "        vertical-align: top;\n",
       "    }\n",
       "\n",
       "    .dataframe thead th {\n",
       "        text-align: right;\n",
       "    }\n",
       "</style>\n",
       "<table border=\"1\" class=\"dataframe\">\n",
       "  <thead>\n",
       "    <tr style=\"text-align: right;\">\n",
       "      <th></th>\n",
       "      <th>WAIC</th>\n",
       "      <th>pWAIC</th>\n",
       "      <th>dWAIC</th>\n",
       "      <th>weight</th>\n",
       "      <th>SE</th>\n",
       "      <th>dSE</th>\n",
       "      <th>var_warn</th>\n",
       "    </tr>\n",
       "    <tr>\n",
       "      <th>model</th>\n",
       "      <th></th>\n",
       "      <th></th>\n",
       "      <th></th>\n",
       "      <th></th>\n",
       "      <th></th>\n",
       "      <th></th>\n",
       "      <th></th>\n",
       "    </tr>\n",
       "  </thead>\n",
       "  <tbody>\n",
       "    <tr>\n",
       "      <th>m_7_5</th>\n",
       "      <td>469.42</td>\n",
       "      <td>5.08</td>\n",
       "      <td>0</td>\n",
       "      <td>0.85</td>\n",
       "      <td>14.85</td>\n",
       "      <td>0</td>\n",
       "      <td>1</td>\n",
       "    </tr>\n",
       "    <tr>\n",
       "      <th>m_7_4</th>\n",
       "      <td>476.29</td>\n",
       "      <td>4.29</td>\n",
       "      <td>6.86</td>\n",
       "      <td>0.15</td>\n",
       "      <td>14.97</td>\n",
       "      <td>5.88</td>\n",
       "      <td>1</td>\n",
       "    </tr>\n",
       "    <tr>\n",
       "      <th>m_7_3</th>\n",
       "      <td>539.68</td>\n",
       "      <td>2.67</td>\n",
       "      <td>70.26</td>\n",
       "      <td>0</td>\n",
       "      <td>13.11</td>\n",
       "      <td>14.67</td>\n",
       "      <td>0</td>\n",
       "    </tr>\n",
       "  </tbody>\n",
       "</table>\n",
       "</div>"
      ],
      "text/plain": [
       "         WAIC pWAIC  dWAIC weight     SE    dSE var_warn\n",
       "model                                                   \n",
       "m_7_5  469.42  5.08      0   0.85  14.85      0        1\n",
       "m_7_4  476.29  4.29   6.86   0.15  14.97   5.88        1\n",
       "m_7_3  539.68  2.67  70.26      0  13.11  14.67        0"
      ]
     },
     "execution_count": 28,
     "metadata": {},
     "output_type": "execute_result"
    }
   ],
   "source": [
    "# Code 7.8\n",
    "\n",
    "compare(\n",
    "    [\n",
    "        fit_m_7_3,\n",
    "        fit_m_7_4,\n",
    "        fit_m_7_5\n",
    "    ]\n",
    ")"
   ]
  },
  {
   "cell_type": "markdown",
   "metadata": {},
   "source": [
    "**note** WAIC similar to book. weights diverge, m_7_5 has 97% of weight in book instead of 83% here"
   ]
  },
  {
   "cell_type": "markdown",
   "metadata": {},
   "source": [
    "unclear what information criteria mean in this context. McElreath: \"reasonable people can disagree on this\".\n",
    "\n",
    "Author thinks IC still useful, even if we don't have train/test case, i.e. we are not going to draw more samples from process that creates African/Non-African nations and predict for those. However, WAIC measures flexiblity of model in general, can still warn about overfitting."
   ]
  },
  {
   "cell_type": "markdown",
   "metadata": {},
   "source": [
    "**overthinking: conventional form of interaction** interaction model can also be written by multiplying predictors, yielding this:\n",
    "\n",
    "$$\n",
    "\\mu_i = \\alpha + \\beta_R R_i + \\beta_{AR} R_i*A_i + \\beta_A A_i\n",
    "$$\n",
    "\n",
    "equivalent to form earlier in this chapter, just have to multiply out the $\\gamma_i$ factor back into the original term.\n",
    "\n",
    "Can also use this form to fit model:"
   ]
  },
  {
   "cell_type": "code",
   "execution_count": 29,
   "metadata": {},
   "outputs": [
    {
     "name": "stderr",
     "output_type": "stream",
     "text": [
      "Auto-assigning NUTS sampler...\n",
      "Initializing NUTS using jitter+adapt_diag...\n",
      "Multiprocess sampling (2 chains in 2 jobs)\n",
      "NUTS: [a, bAR, bA, bR, sigma]\n"
     ]
    }
   ],
   "source": [
    "# Code 7.9\n",
    "\n",
    "dataset = dd\n",
    "\n",
    "with pm.Model() as model:\n",
    "    \n",
    "    sigma = pm.Uniform('sigma', 0, 10)\n",
    "    \n",
    "    bR = pm.Normal('bR', 0, 1)\n",
    "    bA = pm.Normal('bA', 0, 1)\n",
    "    bAR = pm.Normal('bAR', 0, 1)\n",
    "    \n",
    "    a = pm.Normal('a', 8, 100)\n",
    "    \n",
    "    rugged = theano.shared(dataset.rugged.values)\n",
    "    cont_africa = theano.shared(dataset.cont_africa.values)\n",
    "    \n",
    "    mu = pm.Deterministic('mu', a + bR * rugged + bAR * rugged * cont_africa + bA * cont_africa)\n",
    "    log_gdp = pm.Normal('log_gdp', mu, sigma, observed=dataset.log_gdp)\n",
    "\n",
    "    trace = pm.sample(1000, tune=1000, progressbar=False)\n",
    "\n",
    "fit_m_7_5_b = FittedModel(model, trace, {'rugged': rugged, 'cont_africa': cont_africa}, 'm_7_5_b')"
   ]
  },
  {
   "cell_type": "markdown",
   "metadata": {},
   "source": [
    "### 7.1.3. Plotting interactions"
   ]
  },
  {
   "cell_type": "code",
   "execution_count": 30,
   "metadata": {},
   "outputs": [],
   "source": [
    "# Code 7.10\n",
    "\n",
    "# range of x-values\n",
    "rugged_values = np.arange(-1, 8.25, 0.25)\n",
    "\n",
    "# dataframes with predictor values\n",
    "d_not_africa = pd.DataFrame({'rugged': rugged_values, 'cont_africa': 0})\n",
    "d_africa = pd.DataFrame({'rugged': rugged_values, 'cont_africa': 1})\n",
    "\n",
    "# create mu samples for posterior estimates based on above data\n",
    "mu_not_africa = fit_m_7_5.sample_mu(d_not_africa)\n",
    "mu_africa = fit_m_7_5.sample_mu(d_africa)"
   ]
  },
  {
   "cell_type": "code",
   "execution_count": 31,
   "metadata": {},
   "outputs": [
    {
     "data": {
      "text/plain": [
       "Text(0.5, 1.0, 'African countries')"
      ]
     },
     "execution_count": 31,
     "metadata": {},
     "output_type": "execute_result"
    },
    {
     "data": {
      "image/png": "[encoded data removed]",
      "text/plain": [
       "<Figure size 1080x360 with 2 Axes>"
      ]
     },
     "metadata": {},
     "output_type": "display_data"
    }
   ],
   "source": [
    "# Code 7.11\n",
    "\n",
    "# x/y variable names\n",
    "x = 'rugged'\n",
    "y = 'mu_means'\n",
    "\n",
    "# plots\n",
    "fig, axes_array = plt.subplots(nrows=1, ncols=2, figsize=(15, 5), sharey=True)\n",
    "\n",
    "ax = create_plot_scatter_with_predicted_means(d_not_africa, mu_not_africa, x, y, axes_array[0], plot_y=False)\n",
    "ax.set_title('Non-African countries')\n",
    "\n",
    "ax = create_plot_scatter_with_predicted_means(d_africa, mu_africa, x, y, axes_array[1], plot_y=False)\n",
    "ax.set_title('African countries')"
   ]
  },
  {
   "cell_type": "code",
   "execution_count": 32,
   "metadata": {},
   "outputs": [
    {
     "data": {
      "text/plain": [
       "bR    -0.182443\n",
       "bA    -1.838923\n",
       "bAR    0.343065\n",
       "dtype: float64"
      ]
     },
     "execution_count": 32,
     "metadata": {},
     "output_type": "execute_result"
    }
   ],
   "source": [
    "pm.trace_to_dataframe(fit_m_7_5.trace).mean().filter(like='b')"
   ]
  },
  {
   "cell_type": "markdown",
   "metadata": {},
   "source": [
    "### 7.1.4. Interpreting an interaction estimate"
   ]
  },
  {
   "cell_type": "markdown",
   "metadata": {},
   "source": [
    "Effect in non-interaction model does not mean the same thing as effect of same predictor in interaction model. Generally intepretation is hard, plots preferred to tables of number. Difficulties:"
   ]
  },
  {
   "cell_type": "markdown",
   "metadata": {},
   "source": [
    "#### 7.1.4.1. Parameters change meaning"
   ]
  },
  {
   "cell_type": "markdown",
   "metadata": {},
   "source": [
    "Lin. regression w/o interactions: coefficient = how much average outcome $\\mu$ changes when predictor changes by one unit.\n",
    "\n",
    "All parameters have independent influence on outcome, meaning can interpet coefficients independently. Each slope parameter = measure of predictor variable's influence.\n",
    "\n",
    "Not true anymore for interaction models. $\\gamma$ depends on bR, bAR and Ai, need to know all of these to compute that slope."
   ]
  },
  {
   "cell_type": "code",
   "execution_count": 33,
   "metadata": {},
   "outputs": [
    {
     "data": {
      "text/html": [
       "<div>\n",
       "<style scoped>\n",
       "    .dataframe tbody tr th:only-of-type {\n",
       "        vertical-align: middle;\n",
       "    }\n",
       "\n",
       "    .dataframe tbody tr th {\n",
       "        vertical-align: top;\n",
       "    }\n",
       "\n",
       "    .dataframe thead th {\n",
       "        text-align: right;\n",
       "    }\n",
       "</style>\n",
       "<table border=\"1\" class=\"dataframe\">\n",
       "  <thead>\n",
       "    <tr style=\"text-align: right;\">\n",
       "      <th></th>\n",
       "      <th>mean</th>\n",
       "      <th>sd</th>\n",
       "      <th>mc_error</th>\n",
       "      <th>hpd_5.5</th>\n",
       "      <th>hpd_94.5</th>\n",
       "      <th>n_eff</th>\n",
       "      <th>Rhat</th>\n",
       "    </tr>\n",
       "  </thead>\n",
       "  <tbody>\n",
       "    <tr>\n",
       "      <th>bR</th>\n",
       "      <td>-0.182443</td>\n",
       "      <td>0.076349</td>\n",
       "      <td>0.002564</td>\n",
       "      <td>-0.313685</td>\n",
       "      <td>-0.073241</td>\n",
       "      <td>731.550783</td>\n",
       "      <td>1.003109</td>\n",
       "    </tr>\n",
       "    <tr>\n",
       "      <th>bA</th>\n",
       "      <td>-1.838923</td>\n",
       "      <td>0.216153</td>\n",
       "      <td>0.006427</td>\n",
       "      <td>-2.155948</td>\n",
       "      <td>-1.477256</td>\n",
       "      <td>992.102473</td>\n",
       "      <td>1.004395</td>\n",
       "    </tr>\n",
       "    <tr>\n",
       "      <th>bAR</th>\n",
       "      <td>0.343065</td>\n",
       "      <td>0.128015</td>\n",
       "      <td>0.003722</td>\n",
       "      <td>0.137709</td>\n",
       "      <td>0.544780</td>\n",
       "      <td>951.033899</td>\n",
       "      <td>1.002345</td>\n",
       "    </tr>\n",
       "    <tr>\n",
       "      <th>a</th>\n",
       "      <td>9.179371</td>\n",
       "      <td>0.138936</td>\n",
       "      <td>0.004651</td>\n",
       "      <td>8.970292</td>\n",
       "      <td>9.402841</td>\n",
       "      <td>913.814920</td>\n",
       "      <td>1.002025</td>\n",
       "    </tr>\n",
       "    <tr>\n",
       "      <th>sigma</th>\n",
       "      <td>0.948838</td>\n",
       "      <td>0.052092</td>\n",
       "      <td>0.001202</td>\n",
       "      <td>0.865136</td>\n",
       "      <td>1.029848</td>\n",
       "      <td>1966.053990</td>\n",
       "      <td>0.999506</td>\n",
       "    </tr>\n",
       "  </tbody>\n",
       "</table>\n",
       "</div>"
      ],
      "text/plain": [
       "           mean        sd  mc_error   hpd_5.5  hpd_94.5        n_eff      Rhat\n",
       "bR    -0.182443  0.076349  0.002564 -0.313685 -0.073241   731.550783  1.003109\n",
       "bA    -1.838923  0.216153  0.006427 -2.155948 -1.477256   992.102473  1.004395\n",
       "bAR    0.343065  0.128015  0.003722  0.137709  0.544780   951.033899  1.002345\n",
       "a      9.179371  0.138936  0.004651  8.970292  9.402841   913.814920  1.002025\n",
       "sigma  0.948838  0.052092  0.001202  0.865136  1.029848  1966.053990  0.999506"
      ]
     },
     "execution_count": 33,
     "metadata": {},
     "output_type": "execute_result"
    }
   ],
   "source": [
    "# Code 7.12\n",
    "\n",
    "precis(fit_m_7_5)"
   ]
  },
  {
   "cell_type": "markdown",
   "metadata": {},
   "source": [
    "#### 7.1.4.2. Incorporating uncertainty"
   ]
  },
  {
   "cell_type": "markdown",
   "metadata": {},
   "source": [
    "$\\gamma$ has distribution because it depends on parameters, which in turn have distributions. **anything calculated using parameters has a distribution**. \"one of the most important concepts on Bayesian model fitting\""
   ]
  },
  {
   "cell_type": "code",
   "execution_count": 34,
   "metadata": {},
   "outputs": [],
   "source": [
    "# Code 7.13\n",
    "\n",
    "post = extract_samples(fit_m_7_5)\n",
    "gamma = pd.DataFrame(\n",
    "    data=[\n",
    "        post.bR + post.bAR * 1, \n",
    "        post.bR + post.bAR * 0\n",
    "    ], \n",
    "    index=['africa', 'not_africa']\n",
    ").T"
   ]
  },
  {
   "cell_type": "code",
   "execution_count": 35,
   "metadata": {},
   "outputs": [
    {
     "data": {
      "text/plain": [
       "africa        0.160622\n",
       "not_africa   -0.182443\n",
       "dtype: float64"
      ]
     },
     "execution_count": 35,
     "metadata": {},
     "output_type": "execute_result"
    }
   ],
   "source": [
    "# Code 7.14\n",
    "\n",
    "gamma.mean()"
   ]
  },
  {
   "cell_type": "code",
   "execution_count": 36,
   "metadata": {},
   "outputs": [
    {
     "data": {
      "text/plain": [
       "Text(0, 0.5, 'density')"
      ]
     },
     "execution_count": 36,
     "metadata": {},
     "output_type": "execute_result"
    },
    {
     "data": {
      "image/png": "[encoded data removed]",
      "text/plain": [
       "<Figure size 432x288 with 1 Axes>"
      ]
     },
     "metadata": {},
     "output_type": "display_data"
    }
   ],
   "source": [
    "# Code 7.15\n",
    "\n",
    "sns.kdeplot(gamma.africa)\n",
    "sns.kdeplot(gamma.not_africa)\n",
    "\n",
    "ax = plt.gca()\n",
    "ax.set_xlabel('$\\gamma$')\n",
    "ax.set_ylabel('density')"
   ]
  },
  {
   "cell_type": "code",
   "execution_count": 37,
   "metadata": {},
   "outputs": [
    {
     "data": {
      "text/plain": [
       "0.5499999999999999"
      ]
     },
     "execution_count": 37,
     "metadata": {},
     "output_type": "execute_result"
    }
   ],
   "source": [
    "# Code 7.16\n",
    "\n",
    "# probability of slope in africa being smaller than slope outside of africa\n",
    "(gamma.africa < gamma.not_africa).mean() * 100"
   ]
  },
  {
   "cell_type": "markdown",
   "metadata": {},
   "source": [
    "Note: 0.4% much smaller than visual overlap in figur above. Reason: figure shows marginal of each case \"like silhouettes of each distribution\". Not actually distribution of difference. \"If you care about the difference, you must compute the disribution of difference directly\". Same mechanism why overlap of confidence intervals can't be used as visual test of significance for parameter estimates"
   ]
  },
  {
   "cell_type": "code",
   "execution_count": 38,
   "metadata": {},
   "outputs": [
    {
     "data": {
      "text/plain": [
       "<matplotlib.axes._subplots.AxesSubplot at 0x1c23b6c470>"
      ]
     },
     "execution_count": 38,
     "metadata": {},
     "output_type": "execute_result"
    },
    {
     "data": {
      "image/png": "[encoded data removed]",
      "text/plain": [
       "<Figure size 432x288 with 1 Axes>"
      ]
     },
     "metadata": {},
     "output_type": "display_data"
    }
   ],
   "source": [
    "# So what is the distribution of differences?\n",
    "\n",
    "sns.distplot(gamma.africa - gamma.not_africa)"
   ]
  },
  {
   "cell_type": "markdown",
   "metadata": {},
   "source": [
    "Rethinking: More on the meaning of posterior probability. 0.4% is *not* probability of observing an event. Don't expect 0.36% of African nations to have worse impact of ruggedness on log gdp than country outside of Africa. \n",
    "\n",
    "Actual meaning: relative plausibilty for question asked given this model and these data. Model assigns very low plausibilty for $\\gamma$ being lower in Africa than outside. Of known possible states of the world (**question: possible states of the world = coefficient values?**) only 0.4% are consistent with that being the case and with the data.\n",
    "\n",
    "Model is highly sceptical of that being the case, but we should also keep being sceptical of the model"
   ]
  },
  {
   "cell_type": "markdown",
   "metadata": {},
   "source": [
    "## 7.2. Symmetry of the linear interaction"
   ]
  },
  {
   "cell_type": "markdown",
   "metadata": {},
   "source": [
    "### 7.2.1. Buridan's interaction"
   ]
  },
  {
   "cell_type": "markdown",
   "metadata": {},
   "source": [
    "When expanding interaction term to conventional form it's obvious to see that it's symmetrical between the two predictors it involves:\n",
    "\n",
    "$$\n",
    "\\mu_i = \\alpha + \\beta_R R_i + \\beta_{AR} R_i*A_i + \\beta_A A_i\n",
    "$$\n",
    "\n",
    "it involves R_i and A_i in the same way.\n",
    "\n",
    "Translated: how ruggedness impacts log_gdp depens on being in Africa or not. impact of being in Africa or not on log_gdp depends on ruggedness. Symmetrical in model."
   ]
  },
  {
   "cell_type": "markdown",
   "metadata": {},
   "source": [
    "No difference to model, but humans tend to give causal interpretation. Easier to think about changing one predictor than the other. Easier to think about changing ruggedness thant whether a nation is in Africa"
   ]
  },
  {
   "cell_type": "markdown",
   "metadata": {},
   "source": [
    "### 7.2.2. Africa depends on ruggedness"
   ]
  },
  {
   "cell_type": "code",
   "execution_count": 39,
   "metadata": {},
   "outputs": [],
   "source": [
    "# Code 7.17\n",
    "\n"
   ]
  },
  {
   "cell_type": "code",
   "execution_count": null,
   "metadata": {},
   "outputs": [],
   "source": []
  }
 ],
 "metadata": {
  "kernelspec": {
   "display_name": "Python 3",
   "language": "python",
   "name": "python3"
  },
  "language_info": {
   "codemirror_mode": {
    "name": "ipython",
    "version": 3
   },
   "file_extension": ".py",
   "mimetype": "text/x-python",
   "name": "python",
   "nbconvert_exporter": "python",
   "pygments_lexer": "ipython3",
   "version": "3.7.2"
  }
 },
 "nbformat": 4,
 "nbformat_minor": 2
}
