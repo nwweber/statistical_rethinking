{
 "cells": [
  {
   "cell_type": "code",
   "execution_count": 1,
   "metadata": {},
   "outputs": [],
   "source": [
    "import numpy as np"
   ]
  },
  {
   "cell_type": "code",
   "execution_count": 24,
   "metadata": {},
   "outputs": [],
   "source": [
    "import matplotlib.pyplot as plt"
   ]
  },
  {
   "cell_type": "code",
   "execution_count": 23,
   "metadata": {},
   "outputs": [],
   "source": [
    "%matplotlib inline"
   ]
  },
  {
   "cell_type": "markdown",
   "metadata": {},
   "source": [
    "# Notes\n",
    "* linear regression = family of simple statistical models learning abou mean + variance of some measure, using additive combination of other measure\n",
    "* descriptive model corresponding to many process models\n",
    "* likely to make mistakes if their structure read too literally\n",
    "* this chapter: lin. regre. as bayesian procedure\n",
    "\n",
    "## 4.1. Why normal distributions are normal\n",
    "* sum of binomial events will be distributed Gaussian (football field example)\n",
    "\n",
    "### 4.1.1. Normal by addition"
   ]
  },
  {
   "cell_type": "code",
   "execution_count": 68,
   "metadata": {},
   "outputs": [],
   "source": [
    "# code 4.1\n",
    "pos = [np.random.uniform(low=-1, high=1, size=16).sum() for _ in range(1000)]"
   ]
  },
  {
   "cell_type": "code",
   "execution_count": 69,
   "metadata": {},
   "outputs": [
    {
     "data": {
      "image/png": "[encoded data removed]",
      "text/plain": [
       "<Figure size 432x288 with 1 Axes>"
      ]
     },
     "metadata": {
      "needs_background": "light"
     },
     "output_type": "display_data"
    }
   ],
   "source": [
    "plt.hist(pos, bins=20);"
   ]
  },
  {
   "cell_type": "markdown",
   "metadata": {},
   "source": [
    "* any process that adds together random values from the same distribution converges to normal\n",
    "* conceptual help: each value is deviation from mean of drawing distribution. the more elements in sum of draws, the higher the chance that positive deviations cancel out with negative deviations, large ones with large ones etc, so the higher the chance we'll get something close to the mean out of the sum. there are more ways to realize the mean as a sum of draws than there are ways to realize extreme values\n",
    "* works for nearly all underlying distrbutions\n",
    "\n",
    "### 4.1.2. Normal by multiplication"
   ]
  },
  {
   "cell_type": "code",
   "execution_count": 71,
   "metadata": {},
   "outputs": [
    {
     "data": {
      "text/plain": [
       "1.8043404442938615"
      ]
     },
     "execution_count": 71,
     "metadata": {},
     "output_type": "execute_result"
    }
   ],
   "source": [
    "# code 4.2\n",
    "(1 + np.random.uniform(0, 0.1, 12)).prod()"
   ]
  },
  {
   "cell_type": "code",
   "execution_count": 73,
   "metadata": {},
   "outputs": [
    {
     "data": {
      "image/png": "[encoded data removed]",
      "text/plain": [
       "<Figure size 432x288 with 1 Axes>"
      ]
     },
     "metadata": {
      "needs_background": "light"
     },
     "output_type": "display_data"
    }
   ],
   "source": [
    "# code 4.3\n",
    "growth = [(1 + np.random.uniform(0, 0.1, 12)).prod() for _ in range(10000)]\n",
    "plt.hist(growth);"
   ]
  },
  {
   "cell_type": "code",
   "execution_count": 76,
   "metadata": {},
   "outputs": [
    {
     "data": {
      "image/png": "[encoded data removed]",
      "text/plain": [
       "<Figure size 432x288 with 1 Axes>"
      ]
     },
     "metadata": {
      "needs_background": "light"
     },
     "output_type": "display_data"
    }
   ],
   "source": [
    "# code 4.4\n",
    "big = [(1 + np.random.uniform(0, 0.5, 12)).prod() for _ in range(10000)]\n",
    "plt.hist(big);"
   ]
  },
  {
   "cell_type": "code",
   "execution_count": 77,
   "metadata": {},
   "outputs": [
    {
     "data": {
      "image/png": "[encoded data removed]",
      "text/plain": [
       "<Figure size 432x288 with 1 Axes>"
      ]
     },
     "metadata": {
      "needs_background": "light"
     },
     "output_type": "display_data"
    }
   ],
   "source": [
    "small = [(1 + np.random.uniform(0, 0.01, 12)).prod() for _ in range(10000)]\n",
    "plt.hist(small);"
   ]
  },
  {
   "cell_type": "markdown",
   "metadata": {},
   "source": [
    "* learned: multiplication of small numbers is roughly like addition, leads to Gaussian. the smaller the numbers, the better this works\n",
    "* even more effects resulting in Gaussian\n",
    "\n",
    "### 4.1.3. Normal by log-multiplication\n",
    "* log of product of large deviations also leads to Gaussian, as log of product = sum of logs\n",
    "* measurement scales are arbitrary, so 'log'-ing something is fair transformation"
   ]
  },
  {
   "cell_type": "code",
   "execution_count": 79,
   "metadata": {},
   "outputs": [
    {
     "data": {
      "image/png": "[encoded data removed]",
      "text/plain": [
       "<Figure size 432x288 with 1 Axes>"
      ]
     },
     "metadata": {
      "needs_background": "light"
     },
     "output_type": "display_data"
    }
   ],
   "source": [
    "log_big = [np.log((1 + np.random.uniform(0, 0.5, 12)).prod()) for _ in range(10000)]\n",
    "plt.hist(log_big);"
   ]
  },
  {
   "cell_type": "markdown",
   "metadata": {},
   "source": [
    "### 4.1.4. Using Gaussian Distributions\n",
    "* ontological justification for using Gaussian: world is full of it (approximately), b/c many processes add together random fluctuations\n",
    "* consequence: cannot infer underlying process from model. can still build useful model\n",
    "* other patterns also frequent and useful: exponential, gamma, Poisson, ...; all members of ***Exponential Family***\n",
    "* epistemological justification: if we only want to make statements about mean and finite variance of some distribution then Gaussian is most general, does not need any other assumptions\n",
    "* Gaussian is least informative and least surprising\n",
    "* based on ***information theory*** and **maximum entropy***, subjects of later chapters\n",
    "* using a model does not mean swearing an oath to it\n",
    "* ***overthinking: gaussian distribution***:\n",
    "* characteristic shape given by exp(\\mu-y^2), rest of formula for standardization\n",
    "* Gaussian is continuous function = ***probability density**\n",
    "* typically denoted 'p' or 'f'\n",
    "* denotes ***rate of change in cumulative probability** thus can be higher than 1, whole distribution still needs to integrate to 1\n",
    "* discrete probability distributions like binomial: ***probability mass**\n",
    "* typically denoted 'Pr'\n",
    "* need to sum to 1, so no value can be higher than 1"
   ]
  },
  {
   "cell_type": "markdown",
   "metadata": {},
   "source": [
    "## 4.2. A language for describing models"
   ]
  }
 ],
 "metadata": {
  "kernelspec": {
   "display_name": "Python 3",
   "language": "python",
   "name": "python3"
  },
  "language_info": {
   "codemirror_mode": {
    "name": "ipython",
    "version": 3
   },
   "file_extension": ".py",
   "mimetype": "text/x-python",
   "name": "python",
   "nbconvert_exporter": "python",
   "pygments_lexer": "ipython3",
   "version": "3.7.0"
  }
 },
 "nbformat": 4,
 "nbformat_minor": 2
}
