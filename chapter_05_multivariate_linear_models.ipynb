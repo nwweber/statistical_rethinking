{
 "cells": [
  {
   "cell_type": "code",
   "execution_count": 1,
   "metadata": {},
   "outputs": [],
   "source": [
    "# to suppress futurewarnings caused by pandas and other libraries not updating their numpy interface codes\n",
    "# apparently has to come before these import, so leave this on top\n",
    "import warnings\n",
    "warnings.simplefilter(action='ignore', category=FutureWarning)\n",
    "\n",
    "import numpy as np\n",
    "import matplotlib.pyplot as plt\n",
    "import pymc3 as pm\n",
    "import scipy.stats as stats\n",
    "import pandas as pd\n",
    "\n",
    "%matplotlib inline"
   ]
  },
  {
   "cell_type": "markdown",
   "metadata": {},
   "source": [
    "# Chapter 5\n",
    "* **multivariate regression**: using more than one predictor variable to model an outcome. useful b/c\n",
    "  * control for confounds. **confound**: variable that might be correlated w/ variable of interest, e.g. nr of waffle houses and divorce rate. can hide important variables or can create false importance. **simpson's paradox**: reverse direction between predictor and outcome due to confound.\n",
    "  * multiple causation. something might be caused by more than one thing\n",
    "  * interactions. car needs fuel and spark to start, only one does not have any effect.\n",
    "* this chapter: confounds and multiple causation\n",
    "* also danger: multicollinerarity\n",
    "* **rethinking: causal inference:** extremely important, but no unified approach to determine causal effect, neither in sciences nor in statistic. furthermore, 'cause' loses clear meaning in complex systems in which everything seems to cause everything (and be caused by it). consensus: inference of causality always rests upon unverifiable assumptions. so no matter the analysis, there will always be possible criticism about whether there really is causality. however: even despite that useful work can be done\n",
    "\n",
    "## 5.1. Spurious association\n",
    "* impact of median marriage age of marriage on divorce rate"
   ]
  },
  {
   "cell_type": "code",
   "execution_count": 2,
   "metadata": {},
   "outputs": [],
   "source": [
    "# Code 5.1\n",
    "d = pd.read_csv('./data/WaffleDivorce.csv', sep=';')"
   ]
  },
  {
   "cell_type": "code",
   "execution_count": 3,
   "metadata": {},
   "outputs": [
    {
     "data": {
      "text/html": [
       "<div>\n",
       "<style scoped>\n",
       "    .dataframe tbody tr th:only-of-type {\n",
       "        vertical-align: middle;\n",
       "    }\n",
       "\n",
       "    .dataframe tbody tr th {\n",
       "        vertical-align: top;\n",
       "    }\n",
       "\n",
       "    .dataframe thead th {\n",
       "        text-align: right;\n",
       "    }\n",
       "</style>\n",
       "<table border=\"1\" class=\"dataframe\">\n",
       "  <thead>\n",
       "    <tr style=\"text-align: right;\">\n",
       "      <th></th>\n",
       "      <th>Location</th>\n",
       "      <th>Loc</th>\n",
       "      <th>Population</th>\n",
       "      <th>MedianAgeMarriage</th>\n",
       "      <th>Marriage</th>\n",
       "      <th>Marriage SE</th>\n",
       "      <th>Divorce</th>\n",
       "      <th>Divorce SE</th>\n",
       "      <th>WaffleHouses</th>\n",
       "      <th>South</th>\n",
       "      <th>Slaves1860</th>\n",
       "      <th>Population1860</th>\n",
       "      <th>PropSlaves1860</th>\n",
       "    </tr>\n",
       "  </thead>\n",
       "  <tbody>\n",
       "    <tr>\n",
       "      <th>0</th>\n",
       "      <td>Alabama</td>\n",
       "      <td>AL</td>\n",
       "      <td>4.78</td>\n",
       "      <td>25.3</td>\n",
       "      <td>20.2</td>\n",
       "      <td>1.27</td>\n",
       "      <td>12.7</td>\n",
       "      <td>0.79</td>\n",
       "      <td>128</td>\n",
       "      <td>1</td>\n",
       "      <td>435080</td>\n",
       "      <td>964201</td>\n",
       "      <td>0.45</td>\n",
       "    </tr>\n",
       "    <tr>\n",
       "      <th>1</th>\n",
       "      <td>Alaska</td>\n",
       "      <td>AK</td>\n",
       "      <td>0.71</td>\n",
       "      <td>25.2</td>\n",
       "      <td>26.0</td>\n",
       "      <td>2.93</td>\n",
       "      <td>12.5</td>\n",
       "      <td>2.05</td>\n",
       "      <td>0</td>\n",
       "      <td>0</td>\n",
       "      <td>0</td>\n",
       "      <td>0</td>\n",
       "      <td>0.00</td>\n",
       "    </tr>\n",
       "    <tr>\n",
       "      <th>2</th>\n",
       "      <td>Arizona</td>\n",
       "      <td>AZ</td>\n",
       "      <td>6.33</td>\n",
       "      <td>25.8</td>\n",
       "      <td>20.3</td>\n",
       "      <td>0.98</td>\n",
       "      <td>10.8</td>\n",
       "      <td>0.74</td>\n",
       "      <td>18</td>\n",
       "      <td>0</td>\n",
       "      <td>0</td>\n",
       "      <td>0</td>\n",
       "      <td>0.00</td>\n",
       "    </tr>\n",
       "    <tr>\n",
       "      <th>3</th>\n",
       "      <td>Arkansas</td>\n",
       "      <td>AR</td>\n",
       "      <td>2.92</td>\n",
       "      <td>24.3</td>\n",
       "      <td>26.4</td>\n",
       "      <td>1.70</td>\n",
       "      <td>13.5</td>\n",
       "      <td>1.22</td>\n",
       "      <td>41</td>\n",
       "      <td>1</td>\n",
       "      <td>111115</td>\n",
       "      <td>435450</td>\n",
       "      <td>0.26</td>\n",
       "    </tr>\n",
       "    <tr>\n",
       "      <th>4</th>\n",
       "      <td>California</td>\n",
       "      <td>CA</td>\n",
       "      <td>37.25</td>\n",
       "      <td>26.8</td>\n",
       "      <td>19.1</td>\n",
       "      <td>0.39</td>\n",
       "      <td>8.0</td>\n",
       "      <td>0.24</td>\n",
       "      <td>0</td>\n",
       "      <td>0</td>\n",
       "      <td>0</td>\n",
       "      <td>379994</td>\n",
       "      <td>0.00</td>\n",
       "    </tr>\n",
       "  </tbody>\n",
       "</table>\n",
       "</div>"
      ],
      "text/plain": [
       "     Location Loc  Population  MedianAgeMarriage  Marriage  Marriage SE  \\\n",
       "0     Alabama  AL        4.78               25.3      20.2         1.27   \n",
       "1      Alaska  AK        0.71               25.2      26.0         2.93   \n",
       "2     Arizona  AZ        6.33               25.8      20.3         0.98   \n",
       "3    Arkansas  AR        2.92               24.3      26.4         1.70   \n",
       "4  California  CA       37.25               26.8      19.1         0.39   \n",
       "\n",
       "   Divorce  Divorce SE  WaffleHouses  South  Slaves1860  Population1860  \\\n",
       "0     12.7        0.79           128      1      435080          964201   \n",
       "1     12.5        2.05             0      0           0               0   \n",
       "2     10.8        0.74            18      0           0               0   \n",
       "3     13.5        1.22            41      1      111115          435450   \n",
       "4      8.0        0.24             0      0           0          379994   \n",
       "\n",
       "   PropSlaves1860  \n",
       "0            0.45  \n",
       "1            0.00  \n",
       "2            0.00  \n",
       "3            0.26  \n",
       "4            0.00  "
      ]
     },
     "execution_count": 3,
     "metadata": {},
     "output_type": "execute_result"
    }
   ],
   "source": [
    "d.head()"
   ]
  },
  {
   "cell_type": "code",
   "execution_count": 4,
   "metadata": {},
   "outputs": [
    {
     "name": "stderr",
     "output_type": "stream",
     "text": [
      "Auto-assigning NUTS sampler...\n",
      "Initializing NUTS using jitter+adapt_diag...\n",
      "Multiprocess sampling (2 chains in 2 jobs)\n",
      "NUTS: [a, bA, sigma]\n",
      "Sampling 2 chains: 100%|██████████| 4000/4000 [00:03<00:00, 1242.12draws/s]\n"
     ]
    }
   ],
   "source": [
    "d['MedianAgeMarriage_s'] = (d.MedianAgeMarriage - d.MedianAgeMarriage.mean()) / d.MedianAgeMarriage.std()\n",
    "\n",
    "with pm.Model() as m5_1:\n",
    "    sigma = pm.Uniform('sigma', lower=0, upper=10)\n",
    "    \n",
    "    bA = pm.Normal('bA', mu=0, sd=1)\n",
    "    \n",
    "    a = pm.Normal('a', mu=10, sd=10)\n",
    "    \n",
    "    mu = pm.Deterministic('mu', a + bA * d.MedianAgeMarriage_s)\n",
    "    \n",
    "    Divorce = pm.Normal('Divorce', mu=mu, sd=sigma, observed=d.Divorce)\n",
    "    \n",
    "    trace_m5_1 = pm.sample(draws=1000, tune=1000)"
   ]
  },
  {
   "cell_type": "code",
   "execution_count": 5,
   "metadata": {},
   "outputs": [
    {
     "data": {
      "image/png": "[encoded data removed]",
      "text/plain": [
       "<Figure size 432x288 with 1 Axes>"
      ]
     },
     "metadata": {
      "needs_background": "light"
     },
     "output_type": "display_data"
    }
   ],
   "source": [
    "# Code 5.2\n",
    "MAM_seq = np.linspace(-3, 3.5, 30)\n",
    "mu = np.reshape(trace_m5_1['a'], (-1, 1)) + np.reshape(trace_m5_1['bA'], (-1, 1)) * np.reshape(MAM_seq, (1, -1))\n",
    "mu_PI = pm.hpd(mu, alpha=.11)\n",
    "mu_mean = mu.mean(axis=0)\n",
    "\n",
    "plt.scatter(x=d.MedianAgeMarriage_s, y=d.Divorce, alpha=.3);\n",
    "plt.plot(MAM_seq, mu_mean);\n",
    "plt.fill_between(x=MAM_seq, y1=mu_PI[:, 0], y2=mu_PI[:, 1], alpha=.3);"
   ]
  },
  {
   "cell_type": "code",
   "execution_count": 6,
   "metadata": {},
   "outputs": [],
   "source": [
    "varnames = ['bA', 'a', 'sigma']"
   ]
  },
  {
   "cell_type": "code",
   "execution_count": 7,
   "metadata": {},
   "outputs": [
    {
     "data": {
      "text/html": [
       "<div>\n",
       "<style scoped>\n",
       "    .dataframe tbody tr th:only-of-type {\n",
       "        vertical-align: middle;\n",
       "    }\n",
       "\n",
       "    .dataframe tbody tr th {\n",
       "        vertical-align: top;\n",
       "    }\n",
       "\n",
       "    .dataframe thead th {\n",
       "        text-align: right;\n",
       "    }\n",
       "</style>\n",
       "<table border=\"1\" class=\"dataframe\">\n",
       "  <thead>\n",
       "    <tr style=\"text-align: right;\">\n",
       "      <th></th>\n",
       "      <th>mean</th>\n",
       "      <th>sd</th>\n",
       "      <th>mc_error</th>\n",
       "      <th>hpd_2.5</th>\n",
       "      <th>hpd_97.5</th>\n",
       "      <th>n_eff</th>\n",
       "      <th>Rhat</th>\n",
       "    </tr>\n",
       "  </thead>\n",
       "  <tbody>\n",
       "    <tr>\n",
       "      <th>bA</th>\n",
       "      <td>-1.044985</td>\n",
       "      <td>0.206649</td>\n",
       "      <td>0.003709</td>\n",
       "      <td>-1.488578</td>\n",
       "      <td>-0.681471</td>\n",
       "      <td>2820.340666</td>\n",
       "      <td>1.000660</td>\n",
       "    </tr>\n",
       "    <tr>\n",
       "      <th>a</th>\n",
       "      <td>9.683017</td>\n",
       "      <td>0.220562</td>\n",
       "      <td>0.004212</td>\n",
       "      <td>9.251629</td>\n",
       "      <td>10.126318</td>\n",
       "      <td>2725.126316</td>\n",
       "      <td>0.999605</td>\n",
       "    </tr>\n",
       "    <tr>\n",
       "      <th>sigma</th>\n",
       "      <td>1.511455</td>\n",
       "      <td>0.157998</td>\n",
       "      <td>0.003352</td>\n",
       "      <td>1.232616</td>\n",
       "      <td>1.834091</td>\n",
       "      <td>2214.054157</td>\n",
       "      <td>0.999598</td>\n",
       "    </tr>\n",
       "  </tbody>\n",
       "</table>\n",
       "</div>"
      ],
      "text/plain": [
       "           mean        sd  mc_error   hpd_2.5   hpd_97.5        n_eff  \\\n",
       "bA    -1.044985  0.206649  0.003709 -1.488578  -0.681471  2820.340666   \n",
       "a      9.683017  0.220562  0.004212  9.251629  10.126318  2725.126316   \n",
       "sigma  1.511455  0.157998  0.003352  1.232616   1.834091  2214.054157   \n",
       "\n",
       "           Rhat  \n",
       "bA     1.000660  \n",
       "a      0.999605  \n",
       "sigma  0.999598  "
      ]
     },
     "execution_count": 7,
     "metadata": {},
     "output_type": "execute_result"
    }
   ],
   "source": [
    "pm.summary(trace_m5_1, varnames=varnames)"
   ]
  },
  {
   "cell_type": "code",
   "execution_count": 8,
   "metadata": {},
   "outputs": [
    {
     "name": "stderr",
     "output_type": "stream",
     "text": [
      "Auto-assigning NUTS sampler...\n",
      "Initializing NUTS using jitter+adapt_diag...\n",
      "Multiprocess sampling (2 chains in 2 jobs)\n",
      "NUTS: [a, bR, sigma]\n",
      "Sampling 2 chains: 100%|██████████| 4000/4000 [00:02<00:00, 1373.73draws/s]\n"
     ]
    }
   ],
   "source": [
    "# Code 5.3\n",
    "d['Marriage_s'] = (d.Marriage - d.Marriage.mean()) / d.Marriage.std()\n",
    "\n",
    "with pm.Model() as m5_2:\n",
    "    sigma = pm.Uniform('sigma', lower=0, upper=10)\n",
    "    \n",
    "    bR = pm.Normal('bR', mu=0, sd=1)\n",
    "    \n",
    "    a = pm.Normal('a', mu=10, sd=10)\n",
    "    \n",
    "    mu = pm.Deterministic('mu', a + bR * d.Marriage_s)\n",
    "    \n",
    "    Divorce = pm.Normal('Divorce', mu=mu, sd=sigma, observed=d.Divorce)\n",
    "    \n",
    "    trace_m5_2 = pm.sample(draws=1000, tune=1000)"
   ]
  },
  {
   "cell_type": "code",
   "execution_count": 9,
   "metadata": {},
   "outputs": [
    {
     "data": {
      "text/html": [
       "<div>\n",
       "<style scoped>\n",
       "    .dataframe tbody tr th:only-of-type {\n",
       "        vertical-align: middle;\n",
       "    }\n",
       "\n",
       "    .dataframe tbody tr th {\n",
       "        vertical-align: top;\n",
       "    }\n",
       "\n",
       "    .dataframe thead th {\n",
       "        text-align: right;\n",
       "    }\n",
       "</style>\n",
       "<table border=\"1\" class=\"dataframe\">\n",
       "  <thead>\n",
       "    <tr style=\"text-align: right;\">\n",
       "      <th></th>\n",
       "      <th>mean</th>\n",
       "      <th>sd</th>\n",
       "      <th>mc_error</th>\n",
       "      <th>hpd_2.5</th>\n",
       "      <th>hpd_97.5</th>\n",
       "      <th>n_eff</th>\n",
       "      <th>Rhat</th>\n",
       "    </tr>\n",
       "  </thead>\n",
       "  <tbody>\n",
       "    <tr>\n",
       "      <th>sigma</th>\n",
       "      <td>1.746797</td>\n",
       "      <td>0.183641</td>\n",
       "      <td>0.004345</td>\n",
       "      <td>1.397746</td>\n",
       "      <td>2.092496</td>\n",
       "      <td>2187.171427</td>\n",
       "      <td>0.999501</td>\n",
       "    </tr>\n",
       "    <tr>\n",
       "      <th>bR</th>\n",
       "      <td>0.636793</td>\n",
       "      <td>0.237130</td>\n",
       "      <td>0.004720</td>\n",
       "      <td>0.173189</td>\n",
       "      <td>1.097961</td>\n",
       "      <td>2380.261474</td>\n",
       "      <td>1.000617</td>\n",
       "    </tr>\n",
       "    <tr>\n",
       "      <th>a</th>\n",
       "      <td>9.688432</td>\n",
       "      <td>0.242662</td>\n",
       "      <td>0.004165</td>\n",
       "      <td>9.167984</td>\n",
       "      <td>10.130862</td>\n",
       "      <td>2738.934302</td>\n",
       "      <td>0.999500</td>\n",
       "    </tr>\n",
       "  </tbody>\n",
       "</table>\n",
       "</div>"
      ],
      "text/plain": [
       "           mean        sd  mc_error   hpd_2.5   hpd_97.5        n_eff  \\\n",
       "sigma  1.746797  0.183641  0.004345  1.397746   2.092496  2187.171427   \n",
       "bR     0.636793  0.237130  0.004720  0.173189   1.097961  2380.261474   \n",
       "a      9.688432  0.242662  0.004165  9.167984  10.130862  2738.934302   \n",
       "\n",
       "           Rhat  \n",
       "sigma  0.999501  \n",
       "bR     1.000617  \n",
       "a      0.999500  "
      ]
     },
     "execution_count": 9,
     "metadata": {},
     "output_type": "execute_result"
    }
   ],
   "source": [
    "pm.summary(trace_m5_2, varnames=['sigma', 'bR', 'a'])"
   ]
  },
  {
   "cell_type": "markdown",
   "metadata": {},
   "source": [
    "* median age of marriage has stronger association with divorce rate than the one that marriage rate has\n",
    "* however, does not answer which one is better predictor. they could have independent information, or be redundant or could eliminate each other\n",
    "* want to build multivariate model to determine partial value added by each predictor. in particular, question is **what is predictive value of variable once i know value of all variables?**\n",
    "* **rethinking: \"control\" is outside of control** this question often talked about as 'statistical control'. estimating effect of one variable while controlling for effect of another. however: sloppy language. implies causality ('effect') and dissasociation of predictors ('control'), neither of which is a fact in the model, even though it might be made by analyst. power of statistical methods does not extend to this, must be careful not to make this wrong impression, otherwise interpretation of results will also be based on wrong understanding\n",
    "\n",
    "### 5.1.1. multivariate notation\n",
    "* straightforward extension of univariate models, just add multiple parameters into formula for mean and add priors for their parameters for all of them\n",
    "* what does $\\mu_i = \\alpha + \\beta_R R_i + \\beta_A A_i$ mean? expected outcome for any state is sum of three independent terms. can be read as \"divorce rate can function of marriage rate ($R_i$) OR median marriage age ($A_i$)\". \"OR\" implies that both factors are independent\n",
    "* **overthinking: design matrix** **design matrix** = matrix of features with additional column of '1's in the beginning. used in equation $m = Xb$, where $m$ = predicted means (one for each row of data), $X$ = design matrix w/ one row per row of data, one col per predictor and extra '1' col and $b$ = col vector of parameters\n",
    "\n",
    "### 5.1.2. fitting the model\n",
    "* exactly as expected"
   ]
  },
  {
   "cell_type": "code",
   "execution_count": 10,
   "metadata": {},
   "outputs": [
    {
     "name": "stderr",
     "output_type": "stream",
     "text": [
      "Auto-assigning NUTS sampler...\n",
      "Initializing NUTS using jitter+adapt_diag...\n",
      "Multiprocess sampling (2 chains in 2 jobs)\n",
      "NUTS: [sigma, a, bA, bR]\n",
      "Sampling 2 chains: 100%|██████████| 4000/4000 [00:03<00:00, 1000.83draws/s]\n"
     ]
    }
   ],
   "source": [
    "# Code 5.4\n",
    "with pm.Model() as m5_3:\n",
    "    bR = pm.Normal('bR', mu=0, sd=1)\n",
    "    bA = pm.Normal('bA', mu=0, sd=1)\n",
    "    a = pm.Normal('a', mu=10, sd=10)\n",
    "    mu = pm.Deterministic('mu', a + bR * d.Marriage_s + bA * d.MedianAgeMarriage_s)\n",
    "    \n",
    "    sigma = pm.Uniform('sigma', lower=0, upper=10)\n",
    "    \n",
    "    Divorce = pm.Normal('Divorce', mu=mu, sd=sigma, observed=d.Divorce)\n",
    "    \n",
    "    trace_m5_3 = pm.sample(draws=1000, tune=1000)"
   ]
  },
  {
   "cell_type": "code",
   "execution_count": 11,
   "metadata": {},
   "outputs": [
    {
     "data": {
      "text/html": [
       "<div>\n",
       "<style scoped>\n",
       "    .dataframe tbody tr th:only-of-type {\n",
       "        vertical-align: middle;\n",
       "    }\n",
       "\n",
       "    .dataframe tbody tr th {\n",
       "        vertical-align: top;\n",
       "    }\n",
       "\n",
       "    .dataframe thead th {\n",
       "        text-align: right;\n",
       "    }\n",
       "</style>\n",
       "<table border=\"1\" class=\"dataframe\">\n",
       "  <thead>\n",
       "    <tr style=\"text-align: right;\">\n",
       "      <th></th>\n",
       "      <th>mean</th>\n",
       "      <th>sd</th>\n",
       "      <th>mc_error</th>\n",
       "      <th>hpd_2.5</th>\n",
       "      <th>hpd_97.5</th>\n",
       "      <th>n_eff</th>\n",
       "      <th>Rhat</th>\n",
       "    </tr>\n",
       "  </thead>\n",
       "  <tbody>\n",
       "    <tr>\n",
       "      <th>bR</th>\n",
       "      <td>-0.110882</td>\n",
       "      <td>0.285856</td>\n",
       "      <td>0.007217</td>\n",
       "      <td>-0.649333</td>\n",
       "      <td>0.443885</td>\n",
       "      <td>1394.373228</td>\n",
       "      <td>0.999894</td>\n",
       "    </tr>\n",
       "    <tr>\n",
       "      <th>bA</th>\n",
       "      <td>-1.116037</td>\n",
       "      <td>0.288756</td>\n",
       "      <td>0.007719</td>\n",
       "      <td>-1.644493</td>\n",
       "      <td>-0.505833</td>\n",
       "      <td>1411.361861</td>\n",
       "      <td>1.000785</td>\n",
       "    </tr>\n",
       "    <tr>\n",
       "      <th>a</th>\n",
       "      <td>9.694786</td>\n",
       "      <td>0.220299</td>\n",
       "      <td>0.005952</td>\n",
       "      <td>9.284025</td>\n",
       "      <td>10.134232</td>\n",
       "      <td>1552.877792</td>\n",
       "      <td>1.000620</td>\n",
       "    </tr>\n",
       "    <tr>\n",
       "      <th>sigma</th>\n",
       "      <td>1.525009</td>\n",
       "      <td>0.164438</td>\n",
       "      <td>0.003869</td>\n",
       "      <td>1.222122</td>\n",
       "      <td>1.846165</td>\n",
       "      <td>1618.274234</td>\n",
       "      <td>0.999964</td>\n",
       "    </tr>\n",
       "  </tbody>\n",
       "</table>\n",
       "</div>"
      ],
      "text/plain": [
       "           mean        sd  mc_error   hpd_2.5   hpd_97.5        n_eff  \\\n",
       "bR    -0.110882  0.285856  0.007217 -0.649333   0.443885  1394.373228   \n",
       "bA    -1.116037  0.288756  0.007719 -1.644493  -0.505833  1411.361861   \n",
       "a      9.694786  0.220299  0.005952  9.284025  10.134232  1552.877792   \n",
       "sigma  1.525009  0.164438  0.003869  1.222122   1.846165  1618.274234   \n",
       "\n",
       "           Rhat  \n",
       "bR     0.999894  \n",
       "bA     1.000785  \n",
       "a      1.000620  \n",
       "sigma  0.999964  "
      ]
     },
     "execution_count": 11,
     "metadata": {},
     "output_type": "execute_result"
    }
   ],
   "source": [
    "pm.summary(trace_m5_3, varnames=['bR', 'bA', 'a', 'sigma'])"
   ]
  },
  {
   "cell_type": "code",
   "execution_count": 12,
   "metadata": {},
   "outputs": [],
   "source": [
    "params = ['sigma', 'bA', 'bR', 'a']"
   ]
  },
  {
   "cell_type": "code",
   "execution_count": 25,
   "metadata": {},
   "outputs": [
    {
     "data": {
      "image/png": "[encoded data removed]",
      "text/plain": [
       "<Figure size 576x396 with 1 Axes>"
      ]
     },
     "metadata": {},
     "output_type": "display_data"
    }
   ],
   "source": [
    "# Code 5.5\n",
    "plt.style.use('seaborn-darkgrid')\n",
    "fig, ax = plt.subplots()\n",
    "# ax.plot([1, 2, 3], [1, 2, 3])\n",
    "ax.set(xlabel='Value', ylabel='Parameter')\n",
    "ax.set_xlim(-2, 10)\n",
    "ax.set_ylim(0, 5)\n",
    "ax.set_yticks([1, 2, 3, 4])\n",
    "ax.set_yticklabels(params)\n",
    "for ix, pname in enumerate(params):\n",
    "    # 'mwe' = marker edge weight\n",
    "    # necessary to draw empty circles, defaults to 0, meaning circles will be invisible if not filled\n",
    "    ax.plot(trace_m5_3[pname].mean(), ix+1, 'ob', fillstyle='none', mew=1)\n",
    "    hpd_boundaries = pm.hpd(trace_m5_3[pname], alpha=.11)\n",
    "    ax.plot(hpd_boundaries, [ix+1, ix+1], '-b')"
   ]
  },
  {
   "cell_type": "markdown",
   "metadata": {},
   "source": [
    "* interpretation: \"once we know median age of marriage, learning about marriage rate does not give us much additional information\"\n",
    "* **why is this the interpretation? are these factors not independent? see if this is answered in remainder of section, discuss**\n",
    "\n",
    "### 5.1.3. plotting multivariate posteriors\n",
    "* tons of books and other literature on specialized plots. but: none suitable to all jobs, typically don't generalize beyond linear regression.\n",
    "* instead: understand approaches to ask model whatever interesting questions we come up with\n",
    "* plot categories:\n",
    "  * predictor residual plots\n",
    "  * counterfactual plots. implied predictions for imaginary experiments\n",
    "  * posterior prediction plots. model-based predictions against raw data or other types of prediction error\n",
    "  \n",
    "#### 5.1.3.1. Predictor residual plots\n",
    "* idea: predict values of one predictor using all other predictors. calculate residuals of that prediction, i.e. how much of target predictor is not determined by combination of other predictors? plot these. \n",
    "* also calculate and plot dependent variable of overall problem (here: divorce rate) against these residuals. can even fit linear model between residuals and dependent variable. \n",
    "* interpretation: what's the association between residuals and dependent variable? positive residuals: predictor is higher than expected given other predictors. negative residuals: predictor is lower than expected given other residuals. is there a connection between this quantity and the dependent variable? e.g. is there a relation between predictor 'median age of marriage' being unexpectedly high/low and dependent variable 'divorce rate'?\n",
    "* **still shaky on exact interpretation, discuss this**\n",
    "* let's go through the code + examples, maybe can help to make things clearer"
   ]
  },
  {
   "cell_type": "code",
   "execution_count": 26,
   "metadata": {},
   "outputs": [
    {
     "name": "stderr",
     "output_type": "stream",
     "text": [
      "Auto-assigning NUTS sampler...\n",
      "Initializing NUTS using jitter+adapt_diag...\n",
      "Multiprocess sampling (2 chains in 2 jobs)\n",
      "NUTS: [a, b, sigma]\n",
      "Sampling 2 chains: 100%|██████████| 4000/4000 [00:02<00:00, 1389.15draws/s]\n"
     ]
    }
   ],
   "source": [
    "# Code 5.6\n",
    "with pm.Model() as m5_4:\n",
    "    \n",
    "    sigma = pm.Uniform('sigma', lower=0, upper=10)\n",
    "    b = pm.Normal('b', mu=0, sd=1)\n",
    "    a = pm.Normal('a', mu=0, sd=10)\n",
    "    mu = pm.Deterministic('mu', a + b * d.MedianAgeMarriage_s)\n",
    "    Marriage_s = pm.Normal('Marriage_s', mu=mu, sd=sigma, observed=d.Marriage_s)\n",
    "    \n",
    "    trace_m5_4 = pm.sample(draws=1000, tune=1000)"
   ]
  },
  {
   "cell_type": "code",
   "execution_count": 31,
   "metadata": {
    "scrolled": false
   },
   "outputs": [
    {
     "data": {
      "text/html": [
       "<div>\n",
       "<style scoped>\n",
       "    .dataframe tbody tr th:only-of-type {\n",
       "        vertical-align: middle;\n",
       "    }\n",
       "\n",
       "    .dataframe tbody tr th {\n",
       "        vertical-align: top;\n",
       "    }\n",
       "\n",
       "    .dataframe thead th {\n",
       "        text-align: right;\n",
       "    }\n",
       "</style>\n",
       "<table border=\"1\" class=\"dataframe\">\n",
       "  <thead>\n",
       "    <tr style=\"text-align: right;\">\n",
       "      <th></th>\n",
       "      <th>b</th>\n",
       "      <th>a</th>\n",
       "      <th>sigma</th>\n",
       "      <th>mu__0</th>\n",
       "      <th>mu__1</th>\n",
       "      <th>mu__2</th>\n",
       "      <th>mu__3</th>\n",
       "      <th>mu__4</th>\n",
       "      <th>mu__5</th>\n",
       "      <th>mu__6</th>\n",
       "      <th>...</th>\n",
       "      <th>mu__40</th>\n",
       "      <th>mu__41</th>\n",
       "      <th>mu__42</th>\n",
       "      <th>mu__43</th>\n",
       "      <th>mu__44</th>\n",
       "      <th>mu__45</th>\n",
       "      <th>mu__46</th>\n",
       "      <th>mu__47</th>\n",
       "      <th>mu__48</th>\n",
       "      <th>mu__49</th>\n",
       "    </tr>\n",
       "  </thead>\n",
       "  <tbody>\n",
       "    <tr>\n",
       "      <th>0</th>\n",
       "      <td>-0.553924</td>\n",
       "      <td>-0.078014</td>\n",
       "      <td>0.630734</td>\n",
       "      <td>0.257824</td>\n",
       "      <td>0.302365</td>\n",
       "      <td>0.035120</td>\n",
       "      <td>0.703233</td>\n",
       "      <td>-0.410289</td>\n",
       "      <td>0.079661</td>\n",
       "      <td>-0.766616</td>\n",
       "      <td>...</td>\n",
       "      <td>0.124202</td>\n",
       "      <td>0.302365</td>\n",
       "      <td>0.302365</td>\n",
       "      <td>1.148642</td>\n",
       "      <td>-0.454830</td>\n",
       "      <td>-0.232126</td>\n",
       "      <td>-0.009421</td>\n",
       "      <td>0.391447</td>\n",
       "      <td>-0.187585</td>\n",
       "      <td>0.747774</td>\n",
       "    </tr>\n",
       "    <tr>\n",
       "      <th>1</th>\n",
       "      <td>-0.853210</td>\n",
       "      <td>0.097405</td>\n",
       "      <td>0.845001</td>\n",
       "      <td>0.614697</td>\n",
       "      <td>0.683304</td>\n",
       "      <td>0.271665</td>\n",
       "      <td>1.300761</td>\n",
       "      <td>-0.414399</td>\n",
       "      <td>0.340272</td>\n",
       "      <td>-0.963250</td>\n",
       "      <td>...</td>\n",
       "      <td>0.408878</td>\n",
       "      <td>0.683304</td>\n",
       "      <td>0.683304</td>\n",
       "      <td>1.986825</td>\n",
       "      <td>-0.483005</td>\n",
       "      <td>-0.139973</td>\n",
       "      <td>0.203059</td>\n",
       "      <td>0.820516</td>\n",
       "      <td>-0.071367</td>\n",
       "      <td>1.369367</td>\n",
       "    </tr>\n",
       "    <tr>\n",
       "      <th>2</th>\n",
       "      <td>-0.671320</td>\n",
       "      <td>0.174063</td>\n",
       "      <td>0.709821</td>\n",
       "      <td>0.581078</td>\n",
       "      <td>0.635058</td>\n",
       "      <td>0.311174</td>\n",
       "      <td>1.120884</td>\n",
       "      <td>-0.228632</td>\n",
       "      <td>0.365155</td>\n",
       "      <td>-0.660478</td>\n",
       "      <td>...</td>\n",
       "      <td>0.419136</td>\n",
       "      <td>0.635058</td>\n",
       "      <td>0.635058</td>\n",
       "      <td>1.660691</td>\n",
       "      <td>-0.282613</td>\n",
       "      <td>-0.012710</td>\n",
       "      <td>0.257194</td>\n",
       "      <td>0.743019</td>\n",
       "      <td>0.041271</td>\n",
       "      <td>1.174865</td>\n",
       "    </tr>\n",
       "    <tr>\n",
       "      <th>3</th>\n",
       "      <td>-0.751762</td>\n",
       "      <td>-0.202268</td>\n",
       "      <td>0.756857</td>\n",
       "      <td>0.253517</td>\n",
       "      <td>0.313966</td>\n",
       "      <td>-0.048728</td>\n",
       "      <td>0.858007</td>\n",
       "      <td>-0.653218</td>\n",
       "      <td>0.011721</td>\n",
       "      <td>-1.136810</td>\n",
       "      <td>...</td>\n",
       "      <td>0.072170</td>\n",
       "      <td>0.313966</td>\n",
       "      <td>0.313966</td>\n",
       "      <td>1.462497</td>\n",
       "      <td>-0.713667</td>\n",
       "      <td>-0.411422</td>\n",
       "      <td>-0.109177</td>\n",
       "      <td>0.434864</td>\n",
       "      <td>-0.350973</td>\n",
       "      <td>0.918456</td>\n",
       "    </tr>\n",
       "    <tr>\n",
       "      <th>4</th>\n",
       "      <td>-0.751762</td>\n",
       "      <td>-0.202268</td>\n",
       "      <td>0.756857</td>\n",
       "      <td>0.253517</td>\n",
       "      <td>0.313966</td>\n",
       "      <td>-0.048728</td>\n",
       "      <td>0.858007</td>\n",
       "      <td>-0.653218</td>\n",
       "      <td>0.011721</td>\n",
       "      <td>-1.136810</td>\n",
       "      <td>...</td>\n",
       "      <td>0.072170</td>\n",
       "      <td>0.313966</td>\n",
       "      <td>0.313966</td>\n",
       "      <td>1.462497</td>\n",
       "      <td>-0.713667</td>\n",
       "      <td>-0.411422</td>\n",
       "      <td>-0.109177</td>\n",
       "      <td>0.434864</td>\n",
       "      <td>-0.350973</td>\n",
       "      <td>0.918456</td>\n",
       "    </tr>\n",
       "  </tbody>\n",
       "</table>\n",
       "<p>5 rows × 53 columns</p>\n",
       "</div>"
      ],
      "text/plain": [
       "          b         a     sigma     mu__0     mu__1     mu__2     mu__3  \\\n",
       "0 -0.553924 -0.078014  0.630734  0.257824  0.302365  0.035120  0.703233   \n",
       "1 -0.853210  0.097405  0.845001  0.614697  0.683304  0.271665  1.300761   \n",
       "2 -0.671320  0.174063  0.709821  0.581078  0.635058  0.311174  1.120884   \n",
       "3 -0.751762 -0.202268  0.756857  0.253517  0.313966 -0.048728  0.858007   \n",
       "4 -0.751762 -0.202268  0.756857  0.253517  0.313966 -0.048728  0.858007   \n",
       "\n",
       "      mu__4     mu__5     mu__6    ...       mu__40    mu__41    mu__42  \\\n",
       "0 -0.410289  0.079661 -0.766616    ...     0.124202  0.302365  0.302365   \n",
       "1 -0.414399  0.340272 -0.963250    ...     0.408878  0.683304  0.683304   \n",
       "2 -0.228632  0.365155 -0.660478    ...     0.419136  0.635058  0.635058   \n",
       "3 -0.653218  0.011721 -1.136810    ...     0.072170  0.313966  0.313966   \n",
       "4 -0.653218  0.011721 -1.136810    ...     0.072170  0.313966  0.313966   \n",
       "\n",
       "     mu__43    mu__44    mu__45    mu__46    mu__47    mu__48    mu__49  \n",
       "0  1.148642 -0.454830 -0.232126 -0.009421  0.391447 -0.187585  0.747774  \n",
       "1  1.986825 -0.483005 -0.139973  0.203059  0.820516 -0.071367  1.369367  \n",
       "2  1.660691 -0.282613 -0.012710  0.257194  0.743019  0.041271  1.174865  \n",
       "3  1.462497 -0.713667 -0.411422 -0.109177  0.434864 -0.350973  0.918456  \n",
       "4  1.462497 -0.713667 -0.411422 -0.109177  0.434864 -0.350973  0.918456  \n",
       "\n",
       "[5 rows x 53 columns]"
      ]
     },
     "execution_count": 31,
     "metadata": {},
     "output_type": "execute_result"
    }
   ],
   "source": [
    "# Code 5.7\n",
    "trace_m5_4_pd = pm.trace_to_dataframe(trace_m5_4)\n",
    "trace_m5_4_pd.head()"
   ]
  },
  {
   "cell_type": "code",
   "execution_count": 43,
   "metadata": {},
   "outputs": [],
   "source": [
    "# each state corresponds to one of the 'mu_x' columns in the trace dataframe. for each sample of (a, b) a value of mu for\n",
    "# each state (0 through 49) was calculated\n",
    "# thus: MAP mu for state 0 = mean of mu_0 column, I think? **verify this**\n",
    "mu = trace_m5_4_pd.filter(axis=1, like='mu__').mean()"
   ]
  },
  {
   "cell_type": "code",
   "execution_count": 48,
   "metadata": {},
   "outputs": [],
   "source": [
    "# need '.values' to use ndarrays so that meaningless indices are ignored\n",
    "m_resid = d.Marriage_s.values - mu.values"
   ]
  },
  {
   "cell_type": "code",
   "execution_count": 69,
   "metadata": {},
   "outputs": [
    {
     "data": {
      "text/plain": [
       "[Text(0,0.5,'Marriage_s'), Text(0.5,0,'MedianAgeMarriage_s')]"
      ]
     },
     "execution_count": 69,
     "metadata": {},
     "output_type": "execute_result"
    },
    {
     "data": {
      "image/png": "[encoded data removed]",
      "text/plain": [
       "<Figure size 576x396 with 1 Axes>"
      ]
     },
     "metadata": {},
     "output_type": "display_data"
    }
   ],
   "source": [
    "# Code 5.8\n",
    "fig, ax = plt.subplots()\n",
    "ax.plot('MedianAgeMarriage_s', 'Marriage_s', 'o', fillstyle='none', mew=1, data=d);\n",
    "ax.plot(d.MedianAgeMarriage_s, mu)\n",
    "ax.vlines(x=d.MedianAgeMarriage_s, ymin=mu, ymax=d.Marriage_s, alpha=0.1)\n",
    "ax.set(xlabel='MedianAgeMarriage_s', ylabel='Marriage_s')"
   ]
  },
  {
   "cell_type": "markdown",
   "metadata": {},
   "source": [
    "* grey lines = residuals\n",
    "* side note: **this matches book plot, thus using mu_X samples to get map for datum X seems valid approach. neato**\n",
    "* \"notice that residuals are variation in marriage rate that is left over, after taking out the purely linear relationship between the two variables.\" **what does this mean exactly?**\n",
    "* book includes more plots which plot residuals vs divorce rates. **how do i interpret those?**\n",
    "  * book says: \"you can think of this plot as displaying the linear relationship between divorce and marriage rates having statistically 'controlled' for median age of marriage\" **still unclear what 'controlled for' _really, really_ means**\n",
    "  * plots show that after 'controlling' for m_age, m_rate does not give a lot of extra info on d_rate. however, m_age *does* give a lot of extra info on d_rate after 'controlling' for d_age. thus: m_age higher predictive power, extra information not contained in m_rate?\n",
    "  * book finds the following: assume that in multivariate model (m_rate, m_age) -> d_rate we find cofficients 0.1 for m_rate and 0.8 for m_age. Then if we fit a lin model like (m_rate_residuals_after_controlling_for_m_age) -> d_rate we'll find coefficient 0.1, and mutatis mutandis we'll find 0.8 for m_age_residuals_after_controlling_for_m_rate\n",
    "  * learning the book takes from this: **coefficent in regression model is association between predictor and dependent variable when already knowing about all other predictors**\n",
    "    * lin models do this assuming specific additivity between predictors. other models can assume other relationships between predictors. basic logic of statistical control stays the same, but residual plots do not work in the same way\n",
    "    \n",
    "#### 5.1.3.2. Counterfactual plots\n",
    "* plot model predictions. 'counterfactual' b/c can also do this for predictor values that have not been observed or are straight up impossible\n",
    "* simplest use: see how predictions behave when changing one predictor and keeping all others fixed\n",
    "* helps understanding implications of model\n",
    "* first example:"
   ]
  },
  {
   "cell_type": "code",
   "execution_count": 154,
   "metadata": {},
   "outputs": [
    {
     "data": {
      "image/png": "[encoded data removed]",
      "text/plain": [
       "<Figure size 576x396 with 1 Axes>"
      ]
     },
     "metadata": {},
     "output_type": "display_data"
    }
   ],
   "source": [
    "# Code 5.9\n",
    "\n",
    "# prepare new counterfactual data\n",
    "\n",
    "# note: isn't MedianAgeMarriage_s.mean() guaranteed to be 0 by definition of a standardized variable?\n",
    "A_avg = d.MedianAgeMarriage_s.mean()\n",
    "R_seq = np.linspace(start=-3, stop=3, num=30)\n",
    "pred_data = pd.DataFrame(\n",
    "    data={\n",
    "        'Marriage_s': R_seq, \n",
    "        'MedianAgeMarriage_s': A_avg\n",
    "    }\n",
    ")\n",
    "\n",
    "# compute counterfactual mean divorce (mu)\n",
    "\n",
    "# mu dimensions: n_mcmc_samples x n_data_points\n",
    "mu = trace_m5_3['a'].reshape(-1, 1) + trace_m5_3['bR'].reshape(-1, 1) @ pred_data.Marriage_s.values.reshape(1, -1) + trace_m5_3['bA'].reshape(-1, 1) @ pred_data.MedianAgeMarriage_s.values.reshape(1, -1)\n",
    "mu_mean = mu.mean(axis=0)\n",
    "mu_PI = pm.hpd(mu, alpha=0.11)\n",
    "\n",
    "# R_sim dimensions same as mu dimensions. One col per mcmc sample, one row per input datum\n",
    "R_sim = np.random.normal(loc=mu, scale=trace_m5_3['sigma'].reshape(-1, 1))\n",
    "R_PI = pm.hpd(R_sim, alpha=0.11)\n",
    "\n",
    "fig, ax = plt.subplots()\n",
    "ax.set(xlabel='Marriage.s', ylabel='Divorce', title='MedianAgeMarriage.s=0');\n",
    "ax.plot(R_seq, mu_mean);\n",
    "# ax.plot(d.Marriage_s, d.Divorce, 'o', alpha=0.9, fillstyle='none', mew=1);\n",
    "ax.fill_between(R_seq, y1=mu_PI[:, 0], y2=mu_PI[:, 1], alpha=0.7);\n",
    "ax.fill_between(R_seq, y1=R_PI[:, 0], y2=R_PI[:, 1], alpha=0.3);"
   ]
  },
  {
   "cell_type": "code",
   "execution_count": 157,
   "metadata": {},
   "outputs": [
    {
     "data": {
      "image/png": "[encoded data removed]",
      "text/plain": [
       "<Figure size 576x396 with 1 Axes>"
      ]
     },
     "metadata": {},
     "output_type": "display_data"
    }
   ],
   "source": [
    "# Code 5.10\n",
    "\n",
    "# prepare new counterfactual data\n",
    "\n",
    "# note: isn't MedianAgeMarriage_s.mean() guaranteed to be 0 by definition of a standardized variable?\n",
    "R_avg = d.Marriage_s.mean()\n",
    "A_seq = np.linspace(start=-3, stop=3, num=30)\n",
    "pred_data2 = pd.DataFrame(\n",
    "    data={\n",
    "        'Marriage_s': R_avg, \n",
    "        'MedianAgeMarriage_s': A_seq\n",
    "    }\n",
    ")\n",
    "\n",
    "# compute counterfactual mean divorce (mu)\n",
    "\n",
    "# mu dimensions: n_mcmc_samples x n_data_points\n",
    "mu = trace_m5_3['a'].reshape(-1, 1) + trace_m5_3['bR'].reshape(-1, 1) @ pred_data2.Marriage_s.values.reshape(1, -1) + trace_m5_3['bA'].reshape(-1, 1) @ pred_data2.MedianAgeMarriage_s.values.reshape(1, -1)\n",
    "mu_mean = mu.mean(axis=0)\n",
    "mu_PI = pm.hpd(mu, alpha=0.11)\n",
    "\n",
    "# R_sim dimensions same as mu dimensions. One col per mcmc sample, one row per input datum\n",
    "R_sim = np.random.normal(loc=mu, scale=trace_m5_3['sigma'].reshape(-1, 1))\n",
    "R_PI = pm.hpd(R_sim, alpha=0.11)\n",
    "\n",
    "fig, ax = plt.subplots()\n",
    "ax.set(xlabel='MedianMarriageAge.s', ylabel='Divorce', title='Marriage.s=0');\n",
    "ax.plot(A_seq, mu_mean);\n",
    "# ax.plot(d.Marriage_s, d.Divorce, 'o', alpha=0.9, fillstyle='none', mew=1);\n",
    "ax.fill_between(A_seq, y1=mu_PI[:, 0], y2=mu_PI[:, 1], alpha=0.7);\n",
    "ax.fill_between(A_seq, y1=R_PI[:, 0], y2=R_PI[:, 1], alpha=0.3);"
   ]
  },
  {
   "cell_type": "markdown",
   "metadata": {},
   "source": [
    "* note: above 2 plots have different scales on y-axis. makes them harder to compare\n",
    "* **don't display data b/c they're counterfactual**\n",
    "* display data on percentile interval scale, not residual scale\n",
    "* thus: direct depiction of how prediction varies w/ change in one predictor\n",
    "* **watch out: these isolated effects probably only possible in small world of model**\n",
    "* in actual, real world, predictors most likely won't vary indepdenently, e.g. if median age of marriage increase then marriage rate will like decrease\n",
    "* these plots always help in understanding the model, but might also mislead by displaying behavior for unrealistic combinations of predictors. we might not be able to manipulate real world enough to create such predictor combinations\n",
    "\n",
    "#### 5.1.3.3. Posterior prediction plots\n",
    "* Important to not just understand estimates, but also fit to data\n",
    "* two main use cases:\n",
    "  ** did model fit correctly? can catch software and users errors like this\n",
    "  ** how does model fail? \"all models are useful fictions, so they always fail in some ways\". model could fit well but still not be fit for purpose. also, model might be okay overall, but can inspect where it's working better or worse. can also give ideas for model improvement\n",
    "* let's make predictions averaging over posterior"
   ]
  },
  {
   "cell_type": "code",
   "execution_count": 198,
   "metadata": {},
   "outputs": [],
   "source": [
    "# Code 5.11\n",
    "\n",
    "# mu = samples of posterior for mu variable given by linear model for predictor combinations of original dataset\n",
    "# can use 'mu' values from trace_m5_3 which correspond to post. samples for original predictor values 0 thru 49\n",
    "trace_m5_3_pd = pm.trace_to_dataframe(trace_m5_3)\n",
    "\n",
    "# shape: n_mcmc_samples x n_original_data_points\n",
    "mu = trace_m5_3_pd.filter(like='mu__', axis=1)\n",
    "# shape: (n_original_data_points, )\n",
    "# '.values' so both mu_X variables have same datatype of ndarray\n",
    "mu_mean = mu.mean().values\n",
    "# shape: (n_original_data_points, 2)\n",
    "mu_PI = pm.hpd(mu.values, alpha=0.11)\n",
    "\n",
    "# shape: n_mcmc_samples x n_original_data_points\n",
    "divorce_sim = np.random.normal(\n",
    "    loc=mu.values, \n",
    "    scale=trace_m5_3_pd.sigma.values.reshape(-1, 1) # add 1 axis to make broadcastable\n",
    ")\n",
    "divorce_PI = pm.hpd(divorce_sim, alpha=0.11)"
   ]
  },
  {
   "cell_type": "markdown",
   "metadata": {},
   "source": [
    "* **note: repetition is useful for exercise and memoization. however, by now it'd also be useful to write functions to do standard operations like the one above**\n",
    "* simplest way to display: plot prediction vs observed"
   ]
  },
  {
   "cell_type": "code",
   "execution_count": 244,
   "metadata": {
    "scrolled": true
   },
   "outputs": [
    {
     "data": {
      "image/png": "[encoded data removed]",
      "text/plain": [
       "<Figure size 576x396 with 1 Axes>"
      ]
     },
     "metadata": {},
     "output_type": "display_data"
    }
   ],
   "source": [
    "# Code 5.12\n",
    "fig, ax = plt.subplots();\n",
    "ax.set(xlabel='Observed Divorce', ylabel='Predicted Divorce');\n",
    "\n",
    "# if predictions were perfect they'd lie on this line, i.e. observed = predicted divorce\n",
    "observed_range = [d.Divorce.min(), d.Divorce.max()]\n",
    "ax.plot(observed_range, observed_range, '--');\n",
    "\n",
    "# actual observed vs predicted divorce\n",
    "ax.plot(d.Divorce, mu_mean, 'o', fillstyle='none', mew=1);\n",
    "\n",
    "# add confidence intervals around predictions\n",
    "ax.vlines(x=d.Divorce, ymin=mu_PI[:, 0], ymax=mu_PI[:, 1], alpha=0.5);"
   ]
  },
  {
   "cell_type": "code",
   "execution_count": 287,
   "metadata": {},
   "outputs": [
    {
     "data": {
      "image/png": "[encoded data removed]",
      "text/plain": [
       "<Figure size 576x396 with 1 Axes>"
      ]
     },
     "metadata": {},
     "output_type": "display_data"
    }
   ],
   "source": [
    "# Code 5.12\n",
    "fig, ax = plt.subplots();\n",
    "ax.set(xlabel='Observed Divorce', ylabel='Predicted Divorce');\n",
    "\n",
    "# if predictions were perfect they'd lie on this line, i.e. observed = predicted divorce\n",
    "observed_range = [d.Divorce.min(), d.Divorce.max()]\n",
    "ax.plot(observed_range, observed_range, '--');\n",
    "\n",
    "# actual observed vs predicted divorce\n",
    "ax.plot(d.Divorce, mu_mean, 'o', fillstyle='none', mew=1);\n",
    "\n",
    "# add confidence intervals around predictions\n",
    "ax.vlines(x=d.Divorce, ymin=mu_PI[:, 0], ymax=mu_PI[:, 1], alpha=0.5);\n",
    "\n",
    "# the same as above, but rolled into one command using 'errorbar' which plots\n",
    "# data points and error bars\n",
    "\n",
    "# ax.errorbar(\n",
    "#     x=d.Divorce,\n",
    "#     y=mu_mean,\n",
    "#     yerr=np.abs(mu_PI - mu_mean.reshape(-1, 1)).reshape(2, -1),\n",
    "#     fmt='o',\n",
    "#     fillstyle='none',\n",
    "#     mew=1\n",
    "# );\n",
    "\n",
    "# Code 5.13\n",
    "# no neat 'identify' function, but this one also does the trick without needing to click anywwhere :)\n",
    "annotate_pd = d[d.Location.isin(['Idaho', 'Utah'])]\n",
    "annotate_ix = annotate_pd.index.values\n",
    "\n",
    "for ix in annotate_ix:\n",
    "    x = d.iloc[ix].Divorce + 0.1 # small offset to keep things legible\n",
    "    y = mu_mean[ix]\n",
    "    text = d.iloc[ix].Location\n",
    "\n",
    "    ax.annotate(s=text, xy=(x, y));"
   ]
  },
  {
   "cell_type": "markdown",
   "metadata": {},
   "source": [
    "* interpretation: model overpredicts for low divorce rate, underpredicts for high divorce rates\n",
    "* some data points very far off, e.g. Utah and Idaho\n",
    "* hard to see actual amount of error. create residual plot instead:"
   ]
  },
  {
   "cell_type": "code",
   "execution_count": 303,
   "metadata": {},
   "outputs": [],
   "source": [
    "# Code 5.14\n",
    "\n",
    "# compute residuals\n",
    "divorce_resid = d.Divorce - mu_mean\n",
    "# get ordering by divorce rate\n",
    "o = divorce_resid.sort_values().index.values"
   ]
  },
  {
   "cell_type": "code",
   "execution_count": 334,
   "metadata": {},
   "outputs": [
    {
     "data": {
      "image/png": "[encoded data removed]",
      "text/plain": [
       "<Figure size 576x396 with 1 Axes>"
      ]
     },
     "metadata": {},
     "output_type": "display_data"
    }
   ],
   "source": [
    "fig, ax = plt.subplots()\n",
    "\n",
    "# x axis\n",
    "ax.set_xlim(left=-6, right=5)\n",
    "\n",
    "# y axis\n",
    "ax.set_ylim(-1, o.size)\n",
    "ax.set_yticks(range(0, o.size));\n",
    "ax.set_yticklabels((d.iloc[o].Location.values));\n",
    "\n",
    "# perfect prediction demarcation\n",
    "ax.vlines(x=0, ymin=0, ymax=o.size, alpha=0.3);\n",
    "\n",
    "# circles\n",
    "# TODO: fix the one below, it should create an ordered plot\n",
    "# note that y tick lables are indeed ordered correctly\n",
    "# ax.plot(divorce_resid, d.iloc[o].index, 'o', fillstyle='none', mew=1);"
   ]
  },
  {
   "cell_type": "code",
   "execution_count": null,
   "metadata": {},
   "outputs": [],
   "source": []
  },
  {
   "cell_type": "code",
   "execution_count": null,
   "metadata": {},
   "outputs": [],
   "source": []
  },
  {
   "cell_type": "code",
   "execution_count": null,
   "metadata": {},
   "outputs": [],
   "source": [
    "# Code 5.5\n",
    "plt.style.use('seaborn-darkgrid')\n",
    "fig, ax = plt.subplots()\n",
    "# ax.plot([1, 2, 3], [1, 2, 3])\n",
    "ax.set(xlabel='Value', ylabel='Parameter')\n",
    "ax.set_xlim(-2, 10)\n",
    "ax.set_ylim(0, 5)\n",
    "ax.set_yticks([1, 2, 3, 4])\n",
    "ax.set_yticklabels(params)\n",
    "for ix, pname in enumerate(params):\n",
    "    # 'mwe' = marker edge weight\n",
    "    # necessary to draw empty circles, defaults to 0, meaning circles will be invisible if not filled\n",
    "    ax.plot(trace_m5_3[pname].mean(), ix+1, 'ob', fillstyle='none', mew=1)\n",
    "    hpd_boundaries = pm.hpd(trace_m5_3[pname], alpha=.11)\n",
    "    ax.plot(hpd_boundaries, [ix+1, ix+1], '-b')"
   ]
  },
  {
   "cell_type": "code",
   "execution_count": null,
   "metadata": {},
   "outputs": [],
   "source": [
    "with pm.Model() as m5_3:\n",
    "    bR = pm.Normal('bR', mu=0, sd=1)\n",
    "    bA = pm.Normal('bA', mu=0, sd=1)\n",
    "    a = pm.Normal('a', mu=10, sd=10)\n",
    "    mu = pm.Deterministic('mu', a + bR * d.Marriage_s + bA * d.MedianAgeMarriage_s)\n",
    "    \n",
    "    sigma = pm.Uniform('sigma', lower=0, upper=10)\n",
    "    \n",
    "    Divorce = pm.Normal('Divorce', mu=mu, sd=sigma, observed=d.Divorce)\n",
    "    \n",
    "    trace_m5_3 = pm.sample(draws=1000, tune=1000)"
   ]
  },
  {
   "cell_type": "code",
   "execution_count": 164,
   "metadata": {},
   "outputs": [
    {
     "data": {
      "text/plain": [
       "(50,)"
      ]
     },
     "execution_count": 164,
     "metadata": {},
     "output_type": "execute_result"
    }
   ],
   "source": [
    "d.Marriage_s.shape"
   ]
  },
  {
   "cell_type": "code",
   "execution_count": null,
   "metadata": {},
   "outputs": [],
   "source": [
    "# Code 5.6\n",
    "with pm.Model() as m5_4:\n",
    "    \n",
    "    sigma = pm.Uniform('sigma', lower=0, upper=10)\n",
    "    b = pm.Normal('b', mu=0, sd=1)\n",
    "    a = pm.Normal('a', mu=0, sd=10)\n",
    "    mu = pm.Deterministic('mu', a + b * d.MedianAgeMarriage_s)\n",
    "    Marriage_s = pm.Normal('Marriage_s', mu=mu, sd=sigma, observed=d.Marriage_s)\n",
    "    \n",
    "    trace_m5_4 = pm.sample(draws=1000, tune=1000)"
   ]
  }
 ],
 "metadata": {
  "kernelspec": {
   "display_name": "Python 3",
   "language": "python",
   "name": "python3"
  },
  "language_info": {
   "codemirror_mode": {
    "name": "ipython",
    "version": 3
   },
   "file_extension": ".py",
   "mimetype": "text/x-python",
   "name": "python",
   "nbconvert_exporter": "python",
   "pygments_lexer": "ipython3",
   "version": "3.7.0"
  }
 },
 "nbformat": 4,
 "nbformat_minor": 2
}
