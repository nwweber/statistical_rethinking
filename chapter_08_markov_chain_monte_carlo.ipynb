{
 "cells": [
  {
   "cell_type": "code",
   "execution_count": 1,
   "metadata": {},
   "outputs": [],
   "source": [
    "import numpy as np\n",
    "import matplotlib.pyplot as plt\n",
    "import pymc3 as pm\n",
    "import scipy.stats as stats\n",
    "import pandas as pd\n",
    "import seaborn as sns\n",
    "import statsmodels.formula.api as smf\n",
    "import string\n",
    "import theano\n",
    "import therapy\n",
    "import importlib\n",
    "import itertools\n",
    "\n",
    "sns.set()\n",
    "plt.ion()"
   ]
  },
  {
   "cell_type": "markdown",
   "metadata": {},
   "source": [
    "# 8 Markov Chain Monte Carlo"
   ]
  },
  {
   "cell_type": "markdown",
   "metadata": {},
   "source": [
    "## 8.1. Good King Markov and His island kingdom"
   ]
  },
  {
   "cell_type": "code",
   "execution_count": 87,
   "metadata": {},
   "outputs": [],
   "source": [
    "# Code 8.1\n",
    "rs = np.random.RandomState(seed=42)\n",
    "num_weeks = 100000\n",
    "\n",
    "positions = np.zeros(num_weeks, dtype=int)\n",
    "\n",
    "current = 10\n",
    "\n",
    "for i in range(len(positions)):\n",
    "    # record current position\n",
    "    positions[i] = current\n",
    "\n",
    "    # flip coin to generate a proposal\n",
    "    proposal = current + rs.choice([-1, 1])\n",
    "\n",
    "    # now make sure he loops around the archipelago\n",
    "    if proposal < 1:\n",
    "        proposal = 10\n",
    "\n",
    "    if proposal > 10:\n",
    "        proposal = 1\n",
    "\n",
    "    # move?\n",
    "    prob_move = proposal / current\n",
    "\n",
    "    current = proposal if rs.uniform() < prob_move else current"
   ]
  },
  {
   "cell_type": "code",
   "execution_count": 90,
   "metadata": {},
   "outputs": [
    {
     "data": {
      "text/plain": [
       "<matplotlib.axes._subplots.AxesSubplot at 0x10b5d25f8>"
      ]
     },
     "execution_count": 90,
     "metadata": {},
     "output_type": "execute_result"
    },
    {
     "data": {
      "image/png": "[encoded data removed]",
      "text/plain": [
       "<Figure size 432x288 with 1 Axes>"
      ]
     },
     "metadata": {
      "needs_background": "light"
     },
     "output_type": "display_data"
    }
   ],
   "source": [
    "sns.distplot(positions, kde=False)"
   ]
  },
  {
   "cell_type": "markdown",
   "metadata": {},
   "source": [
    "# change of pace\n",
    "from here on will only do exercises"
   ]
  },
  {
   "cell_type": "markdown",
   "metadata": {},
   "source": [
    "## 8.6 Practice"
   ]
  },
  {
   "cell_type": "markdown",
   "metadata": {},
   "source": [
    "**Easy**"
   ]
  },
  {
   "cell_type": "markdown",
   "metadata": {},
   "source": [
    "### 8E1.\n",
    "\n",
    "(1) No, samples may also be continuous\n",
    "\n",
    "(2) Unsure what 'likelihood function' means in this specific case. If it means likelihood function of data given hypothesis, then no, this is not a requirement either.\n",
    "\n",
    "(3) Yes, the proposal distribution must be symmetric"
   ]
  },
  {
   "cell_type": "markdown",
   "metadata": {},
   "source": [
    "### 8E2.\n",
    "Gibbs sampling is more efficient, i.e. can generate an image of the posterior that is just as good as the simple Metropolis algorithm in fewer samples, by allowing for an asymmetrical proposal distribution, and by using adaptive proposals. The distribution of proposes parameters then depends on current parameter values through using conjugate prior/likelihood combinations. These conjugate pairs have analytical solutions for posterior distributions of individual parameters, which can be used to make more efficient jumps around the joint posterior of all parameters.\n",
    "\n",
    "On the flipside, Gibbs sampling only works for conjugate pairs, even though these combinations of prior and likelihood might not make the most sense for a model. Furthermore, Gibbs sampling can become very inefficient for large models with many parameters"
   ]
  },
  {
   "cell_type": "markdown",
   "metadata": {},
   "source": [
    "### 8E3.\n",
    "Hamiltonian Monte Carlo can only handle continuous parameters, as it essentially simulates a frictionless particle gliding over parameter space. It can't glide over non-continuous space. As a consequence, it can't be used in some scenarios, e.g. imputation of discrete missing data."
   ]
  },
  {
   "cell_type": "markdown",
   "metadata": {},
   "source": [
    "### 8E4.\n",
    "n_eff is an estimate of the number of independent samples. I'm not sure how that differs from the actual number of samples. My guess is that only independent samples really tell us something about the posterior?"
   ]
  },
  {
   "cell_type": "markdown",
   "metadata": {},
   "source": [
    "### 8E5.\n",
    "Rhat should approach 1 from above if a chain is sampling the posterior correctly."
   ]
  },
  {
   "cell_type": "markdown",
   "metadata": {},
   "source": [
    "### 8E6.\n",
    "Looking for stationarity and good mixing. Stationarity: path stays within posterior. Mean value of chain stable beggining to end. Well-mixing: consecutive values not highly correlated. Visually indicated by rapid zig-zagging.\n",
    "\n",
    "\n",
    "[good plot]\n",
    "[bad plot]"
   ]
  },
  {
   "cell_type": "markdown",
   "metadata": {},
   "source": [
    "**Medium**"
   ]
  },
  {
   "cell_type": "markdown",
   "metadata": {},
   "source": [
    "### 8M1."
   ]
  },
  {
   "cell_type": "code",
   "execution_count": 13,
   "metadata": {},
   "outputs": [
    {
     "data": {
      "text/html": [
       "<div>\n",
       "<style scoped>\n",
       "    .dataframe tbody tr th:only-of-type {\n",
       "        vertical-align: middle;\n",
       "    }\n",
       "\n",
       "    .dataframe tbody tr th {\n",
       "        vertical-align: top;\n",
       "    }\n",
       "\n",
       "    .dataframe thead th {\n",
       "        text-align: right;\n",
       "    }\n",
       "</style>\n",
       "<table border=\"1\" class=\"dataframe\">\n",
       "  <thead>\n",
       "    <tr style=\"text-align: right;\">\n",
       "      <th></th>\n",
       "      <th>isonum</th>\n",
       "      <th>country</th>\n",
       "      <th>rugged</th>\n",
       "      <th>rugged_popw</th>\n",
       "      <th>rugged_slope</th>\n",
       "      <th>rugged_lsd</th>\n",
       "      <th>rugged_pc</th>\n",
       "      <th>land_area</th>\n",
       "      <th>lat</th>\n",
       "      <th>lon</th>\n",
       "      <th>...</th>\n",
       "      <th>africa_region_e</th>\n",
       "      <th>africa_region_c</th>\n",
       "      <th>slave_exports</th>\n",
       "      <th>dist_slavemkt_atlantic</th>\n",
       "      <th>dist_slavemkt_indian</th>\n",
       "      <th>dist_slavemkt_saharan</th>\n",
       "      <th>dist_slavemkt_redsea</th>\n",
       "      <th>pop_1400</th>\n",
       "      <th>european_descent</th>\n",
       "      <th>log_gdp</th>\n",
       "    </tr>\n",
       "    <tr>\n",
       "      <th>isocode</th>\n",
       "      <th></th>\n",
       "      <th></th>\n",
       "      <th></th>\n",
       "      <th></th>\n",
       "      <th></th>\n",
       "      <th></th>\n",
       "      <th></th>\n",
       "      <th></th>\n",
       "      <th></th>\n",
       "      <th></th>\n",
       "      <th></th>\n",
       "      <th></th>\n",
       "      <th></th>\n",
       "      <th></th>\n",
       "      <th></th>\n",
       "      <th></th>\n",
       "      <th></th>\n",
       "      <th></th>\n",
       "      <th></th>\n",
       "      <th></th>\n",
       "      <th></th>\n",
       "    </tr>\n",
       "  </thead>\n",
       "  <tbody>\n",
       "    <tr>\n",
       "      <th>ABW</th>\n",
       "      <td>533</td>\n",
       "      <td>Aruba</td>\n",
       "      <td>0.462</td>\n",
       "      <td>0.380</td>\n",
       "      <td>1.226</td>\n",
       "      <td>0.144</td>\n",
       "      <td>0.000</td>\n",
       "      <td>18.0</td>\n",
       "      <td>12.508</td>\n",
       "      <td>-69.970</td>\n",
       "      <td>...</td>\n",
       "      <td>0</td>\n",
       "      <td>0</td>\n",
       "      <td>0.0</td>\n",
       "      <td>NaN</td>\n",
       "      <td>NaN</td>\n",
       "      <td>NaN</td>\n",
       "      <td>NaN</td>\n",
       "      <td>614.0</td>\n",
       "      <td>NaN</td>\n",
       "      <td>NaN</td>\n",
       "    </tr>\n",
       "    <tr>\n",
       "      <th>AFG</th>\n",
       "      <td>4</td>\n",
       "      <td>Afghanistan</td>\n",
       "      <td>2.518</td>\n",
       "      <td>1.469</td>\n",
       "      <td>7.414</td>\n",
       "      <td>0.720</td>\n",
       "      <td>39.004</td>\n",
       "      <td>65209.0</td>\n",
       "      <td>33.833</td>\n",
       "      <td>66.026</td>\n",
       "      <td>...</td>\n",
       "      <td>0</td>\n",
       "      <td>0</td>\n",
       "      <td>0.0</td>\n",
       "      <td>NaN</td>\n",
       "      <td>NaN</td>\n",
       "      <td>NaN</td>\n",
       "      <td>NaN</td>\n",
       "      <td>1870829.0</td>\n",
       "      <td>0.0</td>\n",
       "      <td>NaN</td>\n",
       "    </tr>\n",
       "    <tr>\n",
       "      <th>AGO</th>\n",
       "      <td>24</td>\n",
       "      <td>Angola</td>\n",
       "      <td>0.858</td>\n",
       "      <td>0.714</td>\n",
       "      <td>2.274</td>\n",
       "      <td>0.228</td>\n",
       "      <td>4.906</td>\n",
       "      <td>124670.0</td>\n",
       "      <td>-12.299</td>\n",
       "      <td>17.551</td>\n",
       "      <td>...</td>\n",
       "      <td>0</td>\n",
       "      <td>1</td>\n",
       "      <td>3610000.0</td>\n",
       "      <td>5.669</td>\n",
       "      <td>6.981</td>\n",
       "      <td>4.926</td>\n",
       "      <td>3.872</td>\n",
       "      <td>1223208.0</td>\n",
       "      <td>2.0</td>\n",
       "      <td>7.492609</td>\n",
       "    </tr>\n",
       "    <tr>\n",
       "      <th>AIA</th>\n",
       "      <td>660</td>\n",
       "      <td>Anguilla</td>\n",
       "      <td>0.013</td>\n",
       "      <td>0.010</td>\n",
       "      <td>0.026</td>\n",
       "      <td>0.006</td>\n",
       "      <td>0.000</td>\n",
       "      <td>9.0</td>\n",
       "      <td>18.231</td>\n",
       "      <td>-63.064</td>\n",
       "      <td>...</td>\n",
       "      <td>0</td>\n",
       "      <td>0</td>\n",
       "      <td>0.0</td>\n",
       "      <td>NaN</td>\n",
       "      <td>NaN</td>\n",
       "      <td>NaN</td>\n",
       "      <td>NaN</td>\n",
       "      <td>NaN</td>\n",
       "      <td>NaN</td>\n",
       "      <td>NaN</td>\n",
       "    </tr>\n",
       "    <tr>\n",
       "      <th>ALB</th>\n",
       "      <td>8</td>\n",
       "      <td>Albania</td>\n",
       "      <td>3.427</td>\n",
       "      <td>1.597</td>\n",
       "      <td>10.451</td>\n",
       "      <td>1.006</td>\n",
       "      <td>62.133</td>\n",
       "      <td>2740.0</td>\n",
       "      <td>41.143</td>\n",
       "      <td>20.070</td>\n",
       "      <td>...</td>\n",
       "      <td>0</td>\n",
       "      <td>0</td>\n",
       "      <td>0.0</td>\n",
       "      <td>NaN</td>\n",
       "      <td>NaN</td>\n",
       "      <td>NaN</td>\n",
       "      <td>NaN</td>\n",
       "      <td>200000.0</td>\n",
       "      <td>100.0</td>\n",
       "      <td>8.216929</td>\n",
       "    </tr>\n",
       "  </tbody>\n",
       "</table>\n",
       "<p>5 rows × 51 columns</p>\n",
       "</div>"
      ],
      "text/plain": [
       "         isonum      country  rugged  rugged_popw  rugged_slope  rugged_lsd  \\\n",
       "isocode                                                                       \n",
       "ABW         533        Aruba   0.462        0.380         1.226       0.144   \n",
       "AFG           4  Afghanistan   2.518        1.469         7.414       0.720   \n",
       "AGO          24       Angola   0.858        0.714         2.274       0.228   \n",
       "AIA         660     Anguilla   0.013        0.010         0.026       0.006   \n",
       "ALB           8      Albania   3.427        1.597        10.451       1.006   \n",
       "\n",
       "         rugged_pc  land_area     lat     lon  ...  africa_region_e  \\\n",
       "isocode                                        ...                    \n",
       "ABW          0.000       18.0  12.508 -69.970  ...                0   \n",
       "AFG         39.004    65209.0  33.833  66.026  ...                0   \n",
       "AGO          4.906   124670.0 -12.299  17.551  ...                0   \n",
       "AIA          0.000        9.0  18.231 -63.064  ...                0   \n",
       "ALB         62.133     2740.0  41.143  20.070  ...                0   \n",
       "\n",
       "         africa_region_c  slave_exports  dist_slavemkt_atlantic  \\\n",
       "isocode                                                           \n",
       "ABW                    0            0.0                     NaN   \n",
       "AFG                    0            0.0                     NaN   \n",
       "AGO                    1      3610000.0                   5.669   \n",
       "AIA                    0            0.0                     NaN   \n",
       "ALB                    0            0.0                     NaN   \n",
       "\n",
       "         dist_slavemkt_indian  dist_slavemkt_saharan  dist_slavemkt_redsea  \\\n",
       "isocode                                                                      \n",
       "ABW                       NaN                    NaN                   NaN   \n",
       "AFG                       NaN                    NaN                   NaN   \n",
       "AGO                     6.981                  4.926                 3.872   \n",
       "AIA                       NaN                    NaN                   NaN   \n",
       "ALB                       NaN                    NaN                   NaN   \n",
       "\n",
       "          pop_1400  european_descent   log_gdp  \n",
       "isocode                                         \n",
       "ABW          614.0               NaN       NaN  \n",
       "AFG      1870829.0               0.0       NaN  \n",
       "AGO      1223208.0               2.0  7.492609  \n",
       "AIA            NaN               NaN       NaN  \n",
       "ALB       200000.0             100.0  8.216929  \n",
       "\n",
       "[5 rows x 51 columns]"
      ]
     },
     "execution_count": 13,
     "metadata": {},
     "output_type": "execute_result"
    }
   ],
   "source": [
    "d = (\n",
    "    pd\n",
    "    .read_csv('./data/rugged.csv', sep=';')\n",
    "    .set_index('isocode')\n",
    "    .assign(log_gdp=lambda df: np.log(df['rgdppc_2000']))\n",
    ")\n",
    "\n",
    "d.head()"
   ]
  },
  {
   "cell_type": "code",
   "execution_count": 15,
   "metadata": {},
   "outputs": [
    {
     "data": {
      "text/plain": [
       "(234, 51)"
      ]
     },
     "execution_count": 15,
     "metadata": {},
     "output_type": "execute_result"
    }
   ],
   "source": [
    "d.shape"
   ]
  },
  {
   "cell_type": "code",
   "execution_count": 14,
   "metadata": {},
   "outputs": [],
   "source": [
    "dd = d.dropna()"
   ]
  },
  {
   "cell_type": "code",
   "execution_count": 16,
   "metadata": {},
   "outputs": [
    {
     "data": {
      "text/plain": [
       "(45, 51)"
      ]
     },
     "execution_count": 16,
     "metadata": {},
     "output_type": "execute_result"
    }
   ],
   "source": [
    "dd.shape"
   ]
  },
  {
   "cell_type": "code",
   "execution_count": 40,
   "metadata": {},
   "outputs": [],
   "source": [
    "with pm.Model() as m:\n",
    "    data = dd\n",
    "    shared = therapy.create_theano_shared_from_df(data)\n",
    "    pm.HalfCauchy('sigma', 2)\n",
    "    pm.Normal('bAR', 0, 10)\n",
    "    pm.Normal('bA', 0, 10)\n",
    "    pm.Normal('bR', 0, 10)\n",
    "    pm.Normal('a', 0, 100)\n",
    "    pm.Deterministic(\n",
    "        'mu', \n",
    "        m.a \n",
    "        + m.bR * shared['rugged'] \n",
    "        + m.bA * shared['cont_africa']\n",
    "        + m.bAR * shared['cont_africa'] * shared['rugged']\n",
    "    )\n",
    "    pm.Normal('log_gdp', m.mu, m.sigma, observed=shared['log_gdp'])\n",
    "\n",
    "m_8_1 = therapy.Model(m, shared, 'm_8_1')"
   ]
  },
  {
   "cell_type": "code",
   "execution_count": 41,
   "metadata": {},
   "outputs": [
    {
     "name": "stderr",
     "output_type": "stream",
     "text": [
      "Auto-assigning NUTS sampler...\n",
      "Initializing NUTS using jitter+adapt_diag...\n",
      "Multiprocess sampling (2 chains in 2 jobs)\n",
      "NUTS: [a, bR, bA, bAR, sigma]\n",
      "Sampling 2 chains: 100%|██████████| 2000/2000 [00:51<00:00, 38.55draws/s]\n"
     ]
    }
   ],
   "source": [
    "m_8_1.fit()"
   ]
  },
  {
   "cell_type": "code",
   "execution_count": 42,
   "metadata": {},
   "outputs": [
    {
     "data": {
      "text/html": [
       "<div>\n",
       "<style scoped>\n",
       "    .dataframe tbody tr th:only-of-type {\n",
       "        vertical-align: middle;\n",
       "    }\n",
       "\n",
       "    .dataframe tbody tr th {\n",
       "        vertical-align: top;\n",
       "    }\n",
       "\n",
       "    .dataframe thead th {\n",
       "        text-align: right;\n",
       "    }\n",
       "</style>\n",
       "<table border=\"1\" class=\"dataframe\">\n",
       "  <thead>\n",
       "    <tr style=\"text-align: right;\">\n",
       "      <th></th>\n",
       "      <th>mean</th>\n",
       "      <th>sd</th>\n",
       "      <th>mc_error</th>\n",
       "      <th>hpd_2.5</th>\n",
       "      <th>hpd_97.5</th>\n",
       "      <th>n_eff</th>\n",
       "      <th>Rhat</th>\n",
       "    </tr>\n",
       "  </thead>\n",
       "  <tbody>\n",
       "    <tr>\n",
       "      <th>a</th>\n",
       "      <td>7.307603</td>\n",
       "      <td>9.532336</td>\n",
       "      <td>0.395887</td>\n",
       "      <td>-10.607715</td>\n",
       "      <td>25.581976</td>\n",
       "      <td>428.548536</td>\n",
       "      <td>0.999048</td>\n",
       "    </tr>\n",
       "    <tr>\n",
       "      <th>bA</th>\n",
       "      <td>0.036897</td>\n",
       "      <td>9.537066</td>\n",
       "      <td>0.396301</td>\n",
       "      <td>-17.026010</td>\n",
       "      <td>19.282015</td>\n",
       "      <td>428.224783</td>\n",
       "      <td>0.999058</td>\n",
       "    </tr>\n",
       "    <tr>\n",
       "      <th>bAR</th>\n",
       "      <td>0.064786</td>\n",
       "      <td>6.853216</td>\n",
       "      <td>0.323848</td>\n",
       "      <td>-13.059694</td>\n",
       "      <td>14.795702</td>\n",
       "      <td>394.392621</td>\n",
       "      <td>0.999121</td>\n",
       "    </tr>\n",
       "    <tr>\n",
       "      <th>bR</th>\n",
       "      <td>0.063848</td>\n",
       "      <td>6.853174</td>\n",
       "      <td>0.323731</td>\n",
       "      <td>-14.370234</td>\n",
       "      <td>13.736124</td>\n",
       "      <td>394.388330</td>\n",
       "      <td>0.999118</td>\n",
       "    </tr>\n",
       "    <tr>\n",
       "      <th>sigma</th>\n",
       "      <td>0.917935</td>\n",
       "      <td>0.096814</td>\n",
       "      <td>0.004686</td>\n",
       "      <td>0.745261</td>\n",
       "      <td>1.113429</td>\n",
       "      <td>347.317379</td>\n",
       "      <td>1.000807</td>\n",
       "    </tr>\n",
       "  </tbody>\n",
       "</table>\n",
       "</div>"
      ],
      "text/plain": [
       "           mean        sd  mc_error    hpd_2.5   hpd_97.5       n_eff  \\\n",
       "a      7.307603  9.532336  0.395887 -10.607715  25.581976  428.548536   \n",
       "bA     0.036897  9.537066  0.396301 -17.026010  19.282015  428.224783   \n",
       "bAR    0.064786  6.853216  0.323848 -13.059694  14.795702  394.392621   \n",
       "bR     0.063848  6.853174  0.323731 -14.370234  13.736124  394.388330   \n",
       "sigma  0.917935  0.096814  0.004686   0.745261   1.113429  347.317379   \n",
       "\n",
       "           Rhat  \n",
       "a      0.999048  \n",
       "bA     0.999058  \n",
       "bAR    0.999121  \n",
       "bR     0.999118  \n",
       "sigma  1.000807  "
      ]
     },
     "execution_count": 42,
     "metadata": {},
     "output_type": "execute_result"
    }
   ],
   "source": [
    "therapy.interesting_summary(m_8_1).sort_index()"
   ]
  },
  {
   "cell_type": "markdown",
   "metadata": {},
   "source": [
    "compare to book, output of code 8.6 on page 249. this is highly suspect\n",
    "\n",
    "values are all off, and hpd range is far, far too wide. should be much tighter. **figure out next time**"
   ]
  },
  {
   "cell_type": "code",
   "execution_count": null,
   "metadata": {},
   "outputs": [],
   "source": []
  }
 ],
 "metadata": {
  "kernelspec": {
   "display_name": "Python 3",
   "language": "python",
   "name": "python3"
  },
  "language_info": {
   "codemirror_mode": {
    "name": "ipython",
    "version": 3
   },
   "file_extension": ".py",
   "mimetype": "text/x-python",
   "name": "python",
   "nbconvert_exporter": "python",
   "pygments_lexer": "ipython3",
   "version": "3.7.2"
  }
 },
 "nbformat": 4,
 "nbformat_minor": 2
}
