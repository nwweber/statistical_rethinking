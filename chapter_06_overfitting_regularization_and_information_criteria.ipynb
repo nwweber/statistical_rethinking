{
 "cells": [
  {
   "cell_type": "code",
   "execution_count": 140,
   "metadata": {},
   "outputs": [],
   "source": [
    "# to suppress futurewarnings caused by pandas and other libraries not updating their numpy interface codes\n",
    "# apparently has to come before these import, so leave this on top\n",
    "import warnings\n",
    "warnings.simplefilter(action='ignore', category=FutureWarning)\n",
    "\n",
    "import numpy as np\n",
    "import matplotlib.pyplot as plt\n",
    "import pymc3 as pm\n",
    "import scipy.stats as stats\n",
    "import pandas as pd\n",
    "import seaborn as sns\n",
    "import statsmodels.formula.api as smf\n",
    "import string\n",
    "import theano\n",
    "\n",
    "# %matplotlib inline"
   ]
  },
  {
   "cell_type": "markdown",
   "metadata": {},
   "source": [
    "# 6 Overfitting, Regularization, and Information Criteria\n",
    "\n",
    "**Ockham's Razor** making aesthetic/pragmatic preferenc for simpler model more explicit: prefer models w/ fewer assumptions. For same performance, choose simpler model. But what to do for different trade-offs in terms of simplicity vs accuracy? Content of this chapter.\n",
    "\n",
    "Fundamental trade-off between **overfitting**, poor prediction by learning too much, and **underfitting**, poor prediction by learning too little. Need to navigate space in-between.\n",
    "\n",
    "Methods to tackle: \n",
    "\n",
    "* **regularizing prior**, same as penalized likelihood in frequentist term, learn less from data\n",
    "* **infromation criteria** to score models\n",
    "\n",
    "**rethinking: stargazing.** common method of model selection: pick model with highest number of significant coefficients. but: p-values not designed to make under-/overfitting trade-off. helpful coeff. can be non-significant, significant coeff. can be unhelpful.\n",
    "\n",
    "**rethinking: is aic bayesian?** not originally derived and often not seen as such, but can be interpreted as special limit of bayes. criterion like WAIC. example of common phenomenon in stats: same procedure can be dried and justified from multiple, sometimes philosophically incompatible perspectives.\n",
    "\n",
    "## 6.1. the problem with parameters\n",
    "\n",
    "Previous chapter: adding parameters can be helpful by revealing hidding effects. also, adding parameters can hurt if parameters are highly correlated. how about case of adding non-highly-correlated parameters? also not always safe.\n",
    "\n",
    "two main problems:\n",
    "\n",
    "* adding parameters nearly always makes model fit better, i.e. reduces train error. McElreath mentions $R^2$ or 'variance explained' metric. Increased for more predictor variables, even if they are random numbers. **understand 'variance explained', intuitive meaning unclear**\n",
    "* more complex models often have better fit, but worse predictions on unseen data = overfit! but simple models tend to underfit. no simple answer, need to make trade-off.\n",
    "\n",
    "### 6.1.1. more parameters always improve fit\n",
    "\n",
    "Overfitting = learning too much from data\n",
    "\n",
    "* regular features: useful, generalize well or inform about quesiton of interest\n",
    "* irrregular features: misguiding, aspects of data that do not generalize"
   ]
  },
  {
   "cell_type": "code",
   "execution_count": 2,
   "metadata": {},
   "outputs": [
    {
     "data": {
      "text/html": [
       "<div>\n",
       "<style scoped>\n",
       "    .dataframe tbody tr th:only-of-type {\n",
       "        vertical-align: middle;\n",
       "    }\n",
       "\n",
       "    .dataframe tbody tr th {\n",
       "        vertical-align: top;\n",
       "    }\n",
       "\n",
       "    .dataframe thead th {\n",
       "        text-align: right;\n",
       "    }\n",
       "</style>\n",
       "<table border=\"1\" class=\"dataframe\">\n",
       "  <thead>\n",
       "    <tr style=\"text-align: right;\">\n",
       "      <th></th>\n",
       "      <th>brain</th>\n",
       "      <th>mass</th>\n",
       "    </tr>\n",
       "    <tr>\n",
       "      <th>species</th>\n",
       "      <th></th>\n",
       "      <th></th>\n",
       "    </tr>\n",
       "  </thead>\n",
       "  <tbody>\n",
       "    <tr>\n",
       "      <th>afarensis</th>\n",
       "      <td>438</td>\n",
       "      <td>37.0</td>\n",
       "    </tr>\n",
       "    <tr>\n",
       "      <th>africanus</th>\n",
       "      <td>452</td>\n",
       "      <td>35.5</td>\n",
       "    </tr>\n",
       "    <tr>\n",
       "      <th>habilis</th>\n",
       "      <td>612</td>\n",
       "      <td>34.5</td>\n",
       "    </tr>\n",
       "    <tr>\n",
       "      <th>boisei</th>\n",
       "      <td>521</td>\n",
       "      <td>41.5</td>\n",
       "    </tr>\n",
       "    <tr>\n",
       "      <th>rudolfensis</th>\n",
       "      <td>752</td>\n",
       "      <td>55.5</td>\n",
       "    </tr>\n",
       "    <tr>\n",
       "      <th>ergaster</th>\n",
       "      <td>871</td>\n",
       "      <td>61.0</td>\n",
       "    </tr>\n",
       "    <tr>\n",
       "      <th>sapiens</th>\n",
       "      <td>1350</td>\n",
       "      <td>53.5</td>\n",
       "    </tr>\n",
       "  </tbody>\n",
       "</table>\n",
       "</div>"
      ],
      "text/plain": [
       "             brain  mass\n",
       "species                 \n",
       "afarensis      438  37.0\n",
       "africanus      452  35.5\n",
       "habilis        612  34.5\n",
       "boisei         521  41.5\n",
       "rudolfensis    752  55.5\n",
       "ergaster       871  61.0\n",
       "sapiens       1350  53.5"
      ]
     },
     "execution_count": 2,
     "metadata": {},
     "output_type": "execute_result"
    }
   ],
   "source": [
    "# Code 6.1\n",
    "\n",
    "data = {'species' : ['afarensis', 'africanus', 'habilis', 'boisei', 'rudolfensis', 'ergaster', 'sapiens'],\n",
    "'brain' : [438, 452, 612, 521, 752, 871, 1350],\n",
    "'mass' : [37., 35.5, 34.5, 41.5, 55.5, 61.0, 53.5]}\n",
    "d = pd.DataFrame(data).set_index('species')\n",
    "d"
   ]
  },
  {
   "cell_type": "markdown",
   "metadata": {},
   "source": [
    "Q: assuming that brain size is generally correlated w/ body mass, which species have unexpectedly large brains for their body mass?\n",
    "\n",
    "Common strategy: 'statistical control'. Fit lin. reg. between those two vars. Residuals of predicting brain vol from body mass = unexplained variance = come from other factors = unexpectedly high/low.\n",
    "\n",
    "But: why lin. reg.? Why line? Might be some curve relating body mass to brain vol. Why not use residuals of that regression? That could be how things are in nature.\n",
    "\n",
    "Fit increasingly complex models, observe fit."
   ]
  },
  {
   "cell_type": "code",
   "execution_count": 3,
   "metadata": {},
   "outputs": [],
   "source": [
    "# Code 6.2\n",
    "\n",
    "m_6_1 = smf.ols('brain ~ mass', data=d).fit()"
   ]
  },
  {
   "cell_type": "markdown",
   "metadata": {},
   "source": [
    "inspect $R^2$ of model. variance 'explained' by model = lin model predicts some variation of training data. remaining variation = variation of residuals"
   ]
  },
  {
   "cell_type": "code",
   "execution_count": 9,
   "metadata": {},
   "outputs": [
    {
     "data": {
      "text/plain": [
       "0.490158047949084"
      ]
     },
     "execution_count": 9,
     "metadata": {},
     "output_type": "execute_result"
    }
   ],
   "source": [
    "# Code 6.3\n",
    "\n",
    "1 - m_6_1.resid.var() / d.brain.var()"
   ]
  },
  {
   "cell_type": "code",
   "execution_count": 12,
   "metadata": {},
   "outputs": [
    {
     "data": {
      "text/plain": [
       "0.490158047949084"
      ]
     },
     "execution_count": 12,
     "metadata": {},
     "output_type": "execute_result"
    }
   ],
   "source": [
    "# my own comparison: \n",
    "m_6_1.rsquared"
   ]
  },
  {
   "cell_type": "code",
   "execution_count": 13,
   "metadata": {},
   "outputs": [
    {
     "name": "stderr",
     "output_type": "stream",
     "text": [
      "/anaconda3/envs/rethinking_statistics/lib/python3.7/site-packages/statsmodels/stats/stattools.py:72: ValueWarning: omni_normtest is not valid with less than 8 observations; 7 samples were given.\n",
      "  \"samples were given.\" % int(n), ValueWarning)\n"
     ]
    },
    {
     "data": {
      "text/html": [
       "<table class=\"simpletable\">\n",
       "<caption>OLS Regression Results</caption>\n",
       "<tr>\n",
       "  <th>Dep. Variable:</th>          <td>brain</td>      <th>  R-squared:         </th> <td>   0.490</td>\n",
       "</tr>\n",
       "<tr>\n",
       "  <th>Model:</th>                   <td>OLS</td>       <th>  Adj. R-squared:    </th> <td>   0.388</td>\n",
       "</tr>\n",
       "<tr>\n",
       "  <th>Method:</th>             <td>Least Squares</td>  <th>  F-statistic:       </th> <td>   4.807</td>\n",
       "</tr>\n",
       "<tr>\n",
       "  <th>Date:</th>             <td>Fri, 22 Feb 2019</td> <th>  Prob (F-statistic):</th>  <td>0.0798</td> \n",
       "</tr>\n",
       "<tr>\n",
       "  <th>Time:</th>                 <td>11:41:32</td>     <th>  Log-Likelihood:    </th> <td> -47.462</td>\n",
       "</tr>\n",
       "<tr>\n",
       "  <th>No. Observations:</th>      <td>     7</td>      <th>  AIC:               </th> <td>   98.92</td>\n",
       "</tr>\n",
       "<tr>\n",
       "  <th>Df Residuals:</th>          <td>     5</td>      <th>  BIC:               </th> <td>   98.82</td>\n",
       "</tr>\n",
       "<tr>\n",
       "  <th>Df Model:</th>              <td>     1</td>      <th>                     </th>     <td> </td>   \n",
       "</tr>\n",
       "<tr>\n",
       "  <th>Covariance Type:</th>      <td>nonrobust</td>    <th>                     </th>     <td> </td>   \n",
       "</tr>\n",
       "</table>\n",
       "<table class=\"simpletable\">\n",
       "<tr>\n",
       "      <td></td>         <th>coef</th>     <th>std err</th>      <th>t</th>      <th>P>|t|</th>  <th>[0.025</th>    <th>0.975]</th>  \n",
       "</tr>\n",
       "<tr>\n",
       "  <th>Intercept</th> <td> -227.6287</td> <td>  439.794</td> <td>   -0.518</td> <td> 0.627</td> <td>-1358.154</td> <td>  902.897</td>\n",
       "</tr>\n",
       "<tr>\n",
       "  <th>mass</th>      <td>   20.6889</td> <td>    9.436</td> <td>    2.192</td> <td> 0.080</td> <td>   -3.568</td> <td>   44.946</td>\n",
       "</tr>\n",
       "</table>\n",
       "<table class=\"simpletable\">\n",
       "<tr>\n",
       "  <th>Omnibus:</th>       <td>   nan</td> <th>  Durbin-Watson:     </th> <td>   1.561</td>\n",
       "</tr>\n",
       "<tr>\n",
       "  <th>Prob(Omnibus):</th> <td>   nan</td> <th>  Jarque-Bera (JB):  </th> <td>   2.372</td>\n",
       "</tr>\n",
       "<tr>\n",
       "  <th>Skew:</th>          <td> 1.399</td> <th>  Prob(JB):          </th> <td>   0.305</td>\n",
       "</tr>\n",
       "<tr>\n",
       "  <th>Kurtosis:</th>      <td> 3.548</td> <th>  Cond. No.          </th> <td>    215.</td>\n",
       "</tr>\n",
       "</table><br/><br/>Warnings:<br/>[1] Standard Errors assume that the covariance matrix of the errors is correctly specified."
      ],
      "text/plain": [
       "<class 'statsmodels.iolib.summary.Summary'>\n",
       "\"\"\"\n",
       "                            OLS Regression Results                            \n",
       "==============================================================================\n",
       "Dep. Variable:                  brain   R-squared:                       0.490\n",
       "Model:                            OLS   Adj. R-squared:                  0.388\n",
       "Method:                 Least Squares   F-statistic:                     4.807\n",
       "Date:                Fri, 22 Feb 2019   Prob (F-statistic):             0.0798\n",
       "Time:                        11:41:32   Log-Likelihood:                -47.462\n",
       "No. Observations:                   7   AIC:                             98.92\n",
       "Df Residuals:                       5   BIC:                             98.82\n",
       "Df Model:                           1                                         \n",
       "Covariance Type:            nonrobust                                         \n",
       "==============================================================================\n",
       "                 coef    std err          t      P>|t|      [0.025      0.975]\n",
       "------------------------------------------------------------------------------\n",
       "Intercept   -227.6287    439.794     -0.518      0.627   -1358.154     902.897\n",
       "mass          20.6889      9.436      2.192      0.080      -3.568      44.946\n",
       "==============================================================================\n",
       "Omnibus:                          nan   Durbin-Watson:                   1.561\n",
       "Prob(Omnibus):                    nan   Jarque-Bera (JB):                2.372\n",
       "Skew:                           1.399   Prob(JB):                        0.305\n",
       "Kurtosis:                       3.548   Cond. No.                         215.\n",
       "==============================================================================\n",
       "\n",
       "Warnings:\n",
       "[1] Standard Errors assume that the covariance matrix of the errors is correctly specified.\n",
       "\"\"\""
      ]
     },
     "execution_count": 13,
     "metadata": {},
     "output_type": "execute_result"
    }
   ],
   "source": [
    "m_6_1.summary()"
   ]
  },
  {
   "cell_type": "code",
   "execution_count": 14,
   "metadata": {},
   "outputs": [],
   "source": [
    "# Code 6.4\n",
    "\n",
    "m_6_2 = smf.ols('brain ~ mass + I(mass**2)', data=d).fit()"
   ]
  },
  {
   "cell_type": "code",
   "execution_count": 15,
   "metadata": {},
   "outputs": [],
   "source": [
    "# Code 6.5\n",
    "\n",
    "m_6_3 = smf.ols('brain ~ mass + I(mass**2) + I(mass**3)', data=d).fit()\n",
    "m_6_4 = smf.ols('brain ~ mass + I(mass**2) + I(mass**3) + I(mass**4)', data=d).fit()\n",
    "m_6_5 = smf.ols('brain ~ mass + I(mass**2) + I(mass**3) + I(mass**4) + I(mass**5)', data=d).fit()\n",
    "m_6_6 = smf.ols('brain ~ mass + I(mass**2) + I(mass**3) + I(mass**4) + I(mass**5) + I(mass**6)', data=d).fit()"
   ]
  },
  {
   "cell_type": "markdown",
   "metadata": {},
   "source": [
    "higher degree of polynomial = better fit, until 0 residuals for 6th degree, $R^2 = 1$\n",
    "\n",
    "however: absurd model. curve follows all data points, but pays no price for absurd predictions like negative brain mass in areas without dat\n",
    "\n",
    "reason: n params = n data points. use unique parameter to remember each datum.\n",
    "\n",
    "**rethinking: model fitting as compression.** model fitting can be seen as data compression. parameters = summarize relationship among data in lossy way. use params to generate new data = decompress. if n params == n data points then no compression, just encoding in different way. consequence: learn nothing. need to use simpler model, but not too simpel. known as minimum description length.\n",
    "\n",
    "### 6.1.2. too few parameters hurs, too\n",
    "\n",
    "overfitting: low train error, high test error\n",
    "\n",
    "underfitting: high train and test error. learned too little."
   ]
  },
  {
   "cell_type": "code",
   "execution_count": 17,
   "metadata": {},
   "outputs": [],
   "source": [
    "# Code 6.6\n",
    "\n",
    "m_6_7 = smf.ols('brain ~ 1', data=d).fit()"
   ]
  },
  {
   "cell_type": "markdown",
   "metadata": {},
   "source": [
    "estimate mean brain volume without considering brain mass = regression is horizontal line with wide confidence region. bad for seen and unseen data\n",
    "\n",
    "underfit model = under-sensitive to data, changes too little based on seen data (inflexible)\n",
    "overfit model = over-sensitive to data, changes too much based on seen data (volatile)\n",
    "\n",
    "**overthinking: dropping rows.**"
   ]
  },
  {
   "cell_type": "code",
   "execution_count": 24,
   "metadata": {},
   "outputs": [],
   "source": [
    "# Code 6.7\n",
    "\n",
    "d_new = d.drop(d.index[0])"
   ]
  },
  {
   "cell_type": "code",
   "execution_count": 63,
   "metadata": {},
   "outputs": [
    {
     "data": {
      "image/png": "[encoded data removed]",
      "text/plain": [
       "<Figure size 432x288 with 1 Axes>"
      ]
     },
     "metadata": {
      "needs_background": "light"
     },
     "output_type": "display_data"
    }
   ],
   "source": [
    "# Code 6.8\n",
    "ax = d.plot.line(x='mass', y='brain', style=['ob'], fillstyle='none', mew=1)\n",
    "\n",
    "for i in range(d.index.size):\n",
    "    d_new = d.drop(d.index[i])\n",
    "\n",
    "    m_0 = smf.ols('brain ~ mass', data=d_new).fit()\n",
    "\n",
    "    x_pred = np.linspace(d_new.mass.min() -5, d_new.mass.max() + 5, 50)\n",
    "    y_pred = m_0.params.Intercept + m_0.params.mass * x_pred\n",
    "\n",
    "    ax.plot(x_pred, y_pred, alpha=.3);"
   ]
  },
  {
   "cell_type": "markdown",
   "metadata": {},
   "source": [
    "**rethinking: bias and variance.** underfitting/overfitting also caused bias problems / variance problems. confusing nomenclature as these terms heavily overloaded in different contexts. also, increasing bias can improve predictions for unseen data."
   ]
  },
  {
   "cell_type": "markdown",
   "metadata": {},
   "source": [
    "## 6.2. information theory and model performance\n",
    "\n",
    "Define what model needs to do well at: target. Proposed here: out-of-sample deviance\n",
    "\n",
    "### 6.2.1. firing the weatherperson\n",
    "\n",
    "Define target needs at least:\n",
    "\n",
    "* cost-benefit. cost of wrong prediction, value of correct prediction\n",
    "* performance in context. how good could a model be for this task?\n",
    "\n",
    "#### 6.1.1.1. costs and benefits\n",
    "\n",
    "different decision about better model for different cost/benefit analysis\n",
    "\n",
    "#### 6.1.1.2. measuring accuracy\n",
    "\n",
    "even if ignoring cost/benefit unclear which measure of accuracy to use. \n",
    "\n",
    "McElreath: joint probability is correct measure. reason: currectly counts up relative nr of ways each event could happen = likelihood in B's theorem. **revisit likelihood, model definition, model structure of earlier chapters**\n",
    "\n",
    "\"maximizing joint probability will identify right model\" **what does right model mean?**\n",
    "\n",
    "how to measure performance? should account for difficulty of task. ex: if adding more categories, task becomes harder.\n",
    "\n",
    "**rethinking: what is a true model?** real world = deterministic. if all info was known, predictions would not be probabilities but just 1/0 for rain vs sunshine. but: we are ignorant of some information. 'right' = correct probabilities given our state of ignorance. \"probability is in the model, not in the world\". **but then, is each model a true model given its own assumptions of ignorance? unclear, discuss.**\n",
    "\n",
    "### 6.2.2. information theory and uncertainty\n",
    "\n",
    "information = reduction in uncertainty through learning an outcome\n",
    "\n",
    "define: f(probability of rain) -> uncertainty\n",
    "\n",
    "measure of uncertainty should be \n",
    "\n",
    "* continuous\n",
    "* increasing for more events\n",
    "* additive\n",
    "\n",
    "exactly one f() satisfying all criteria: information entropy.\n",
    "\n",
    "$$\n",
    "H(p) = -E \\log (p_i) = - \\sum_{i=1}^n p_i \\log (p_i)\n",
    "$$\n",
    "\n",
    "read: \"uncertainty in a probability distribution is the average log-probability of an event\"\n",
    "\n",
    "McElreath does not explain derivation, but points out: all parts of definition are there for a reason, to satisfy requirements listed above. However, above all, information entropy being used b/c it's proven to be very productive and useful.\n",
    "\n",
    "ex. on page illustrates: entropy of weather for Abu Dhabi much lower, as weather very uniform, thus low uncertainty. If adding 'snow' as weather condition: entropy/uncertainty increases.\n",
    "\n",
    "code for calculating entropy for one example:"
   ]
  },
  {
   "cell_type": "code",
   "execution_count": 68,
   "metadata": {},
   "outputs": [
    {
     "data": {
      "text/plain": [
       "0.6108643020548935"
      ]
     },
     "execution_count": 68,
     "metadata": {},
     "output_type": "execute_result"
    }
   ],
   "source": [
    "## Code 6.9\n",
    "\n",
    "p = np.array([0.3, 0.7])\n",
    "- np.sum((p * np.log(p)))"
   ]
  },
  {
   "cell_type": "markdown",
   "metadata": {},
   "source": [
    "**overthinking: more on entropy.** \n",
    "* \"-1\" in definition above customary but not necessary. leads to entropy increase from zero instead of decrease from one. \n",
    "* base of logarithm arbitrary, as long as same based used for all comparisons\n",
    "* how to deal with 0-probabilty events? drop out. assume that $0 \\log(0) = 0$. \"not a trick but not obvious\". remember: no sense to keep event that never happens in model.\n",
    "\n",
    "**rethinking: the benefits of maximizing uncertainty** maximum entropy (maxent) = family of techniques for finding prob. distr. most consistent w/ current knowledge. given current knowledge, what distr. is least surprising? will be used to build GLMs later.\n",
    "\n",
    "### 6.2.3. from entropy to accuracy\n",
    "\n",
    "**discuss: entropy is way of quantifying uncertainty. but why is that necessary? already had probabilities around parameters to quantifiy uncertainty?**\n",
    "\n",
    "How to use info entropy to measure model perf in distance from optimum? Divergence!\n",
    "\n",
    "Divergence = \"the additional uncertainty induced by using probabilities from one distribution to describe another distribution\" = Kullback-Leibler divergence = K-L divergence\n",
    "\n",
    "divergence(p,q) = KL(p,q) = \"average difference in log proability between target p and model q\"\n",
    "\n",
    "difference of entropies: \"entropy of target p and cross entropy of using q to predict p\"\n",
    "\n",
    "true probabilities = p\n",
    "approximation = q\n",
    "\n",
    "KL(p,q) = 0 iff p = q\n",
    "KL(p,q) > 0 otherwise\n",
    "\n",
    "grows the more q is different from p\n",
    "\n",
    "**overthinking: cross entropy and divergence.** cross entropy: events arise according to p, but are expected according to q, inflating uncertainty. \n",
    "\n",
    "$$H(p,q) = - \\sum_i p_i \\log(q_i)$$ \n",
    "\n",
    "Divergence = additional uncertainty due to cross entropy, thus \n",
    "\n",
    "$$KL(p,q) = H(p,q) - H(p)$$\n",
    "\n",
    "**rethinking: divergence depends upon direction.** my intuition: high entropy distribution = lots of ignorance = don't know what to expect, no event much more likely than others. use this to predict other distribution means we won't be super surprised by any outcome. \n",
    "\n",
    "flip side: low entropy distribution = lots of expectations = some events are much more likely than others. if we use low entropy distribution to predict other distribution and they don't match well: very surprised by outcome, high divergence. outcome has high information value?\n",
    "\n",
    "### 6.2.4. from divergence to deviance\n",
    "Know how to measure distance from true probability distr. $p$. But how to use in practice when $p$ is unknown? (wouldn't need to find model otherwise)\n",
    "\n",
    "Solution: don't know distance from $p$, but can know whether $q$ or $r$ is relatively closer. Deviance as relative measure.\n",
    "\n",
    "Summing log probabilities for each observed case gives approx of $E\\log(q_i)$\n",
    "\n",
    "Don't need to know $p$ in expectation term \"because nature takes care of presenting the events to us\". **what does that mean?**\n",
    "\n",
    "absolute magnitude of deviance not meaningful, only difference between models is\n",
    "\n",
    "deviance = \n",
    "\n",
    "$$\n",
    "D(q) = -2 \\sum_i \\log(q_i)\n",
    "$$\n",
    "\n",
    "$i$ = case index, $q_i$ = likelihood of case $i$. divergence scales w/ sample size.\n",
    "\n",
    "calc deviance by computing log-prop of observed data given MAP param estimates"
   ]
  },
  {
   "cell_type": "code",
   "execution_count": 72,
   "metadata": {},
   "outputs": [
    {
     "data": {
      "text/plain": [
       "94.92498968588757"
      ]
     },
     "execution_count": 72,
     "metadata": {},
     "output_type": "execute_result"
    }
   ],
   "source": [
    "# Code 6.10\n",
    "\n",
    "m_6_1 = smf.ols('brain ~ mass', data=d).fit()\n",
    "\n",
    "-2 * m_6_1.llf"
   ]
  },
  {
   "cell_type": "markdown",
   "metadata": {},
   "source": [
    "uncertainty about params -> uncertainty about deviance. for fixed set of params deviance also fixed"
   ]
  },
  {
   "cell_type": "markdown",
   "metadata": {},
   "source": [
    "**overthinking: computing deviance.**"
   ]
  },
  {
   "cell_type": "code",
   "execution_count": 83,
   "metadata": {},
   "outputs": [
    {
     "name": "stderr",
     "output_type": "stream",
     "text": [
      "Auto-assigning NUTS sampler...\n",
      "Initializing NUTS using jitter+adapt_diag...\n",
      "Multiprocess sampling (2 chains in 2 jobs)\n",
      "NUTS: [sigma, b, a]\n",
      "Sampling 2 chains: 100%|██████████| 14000/14000 [00:10<00:00, 1309.07draws/s]\n"
     ]
    }
   ],
   "source": [
    "# Code 6.11\n",
    "\n",
    "d['mass_s'] = (d.mass - d.mass.mean()) / d.mass.std()\n",
    "\n",
    "with pm.Model() as m_6_8 :\n",
    "    a = pm.Normal('a', mu=np.mean(d['brain']), sd=10)\n",
    "    b = pm.Normal('b', mu=0, sd=10)\n",
    "    \n",
    "    # why '*10'?\n",
    "    sigma = pm.Uniform('sigma', 0, np.std(d['brain']) * 10)\n",
    "    \n",
    "    mu = pm.Deterministic('mu', a + b * d['mass_s'])\n",
    "    \n",
    "    brain = pm.Normal('brain', mu = mu, sd = sigma, observed = d['brain'])\n",
    "    \n",
    "    m_6_8 = pm.sample(2000, tune=5000)"
   ]
  },
  {
   "cell_type": "code",
   "execution_count": 91,
   "metadata": {},
   "outputs": [
    {
     "data": {
      "text/plain": [
       "a        713.748269\n",
       "b          1.218698\n",
       "sigma    369.997387\n",
       "Name: mean, dtype: float64"
      ]
     },
     "execution_count": 91,
     "metadata": {},
     "output_type": "execute_result"
    }
   ],
   "source": [
    "theta = pm.summary(m_6_8).loc[['a', 'b', 'sigma'], 'mean']\n",
    "theta"
   ]
  },
  {
   "cell_type": "code",
   "execution_count": 98,
   "metadata": {},
   "outputs": [
    {
     "data": {
      "text/plain": [
       "100.18132665042522"
      ]
     },
     "execution_count": 98,
     "metadata": {},
     "output_type": "execute_result"
    }
   ],
   "source": [
    "dev = -2 * np.sum(stats.norm.logpdf(\n",
    "    x = d['brain'], \n",
    "    loc = theta['a'] + theta['b'] * d['mass_s'], \n",
    "    scale = theta['sigma']\n",
    "))\n",
    "dev"
   ]
  },
  {
   "cell_type": "markdown",
   "metadata": {},
   "source": [
    "### 6.2.5. from deviance to out-of-sample\n",
    "\n",
    "Train deviance always improves for more complex model. Care about test (out-of-sample) deviance.\n",
    "\n",
    "On average: test deviance will be worse than train deviance. However, can be reversed for an given train/test set. Any given training sample may be very misleading. Any given test sample might be highly non-representative. Don't test one sample too much. No guarantees in statistical inference.\n",
    "\n",
    "\"True\" model might behave worse than other models due to those effects.\n",
    "\n",
    "Conclusion: deviance on train data improves with more complex models. Deviance on test data might or might not, depending on actual data generation process and amount of train data available.\n",
    "\n",
    "**Overthinking: simulated training and testing.** all R stuff, skip"
   ]
  },
  {
   "cell_type": "code",
   "execution_count": 99,
   "metadata": {},
   "outputs": [],
   "source": [
    "# Code 6.12\n",
    "# Code 6.13\n",
    "# Code 6.14\n",
    "\n",
    "# R stuff, does not seem useful to replicate"
   ]
  },
  {
   "cell_type": "markdown",
   "metadata": {},
   "source": [
    "## 6.3 regularization\n",
    "\n",
    "root cause of overfitting: model trusting training data too much. flat prior = all param values equally likely = model makes posterior that fits training data (through likelihood function) as much as possible\n",
    "\n",
    "one solution: regularizing prior, slowing rate of learning from train data.\n",
    "\n",
    "reg. prior requires tuning. too much reg. means model doesn't learn from useful features. too little means it learns from noise features.\n",
    "\n",
    "no prior is optimal, \"doing better is all we can hope for\"\n",
    "\n",
    "example: use prior of Normal(0, 1) for model coefficient, encodes belief that values greater than 2 or smaller than -2 are pretty unlikely. make more skeptical by giving smaller std dev, e.g. Normal(0, 0.5). \n",
    "\n",
    "how strong? depends on data and model.\n",
    "\n",
    "the more data, the smaller effect of prior\n",
    "\n",
    "how to pick strenght of regularization? if enough data: split into train/test and use that to tune, picking settings with lowest test deviance. essentially cross validation.\n",
    "\n",
    "if not enough data available to split into train/test: information criteria (next chapter)\n",
    "\n",
    "**rethinking: multilevel-models as adaptive regularization.** multilevel models learn strength of priors from data. can be seen as adaptive regularization.\n",
    "\n",
    "**rethinking: rdige regression.** lin. models with Gaussian priors having 0 mean also called ridge regression. typically takes param to tune strenght of regularization. ridge regression does not compute posteriors, but includes reg. parameter into closed-form algebra solution for least squares approach. however, can also be seen as bayesian. another example of seeing one method from two perspectives."
   ]
  },
  {
   "cell_type": "markdown",
   "metadata": {},
   "source": [
    "## 6.4. information criteria\n",
    "\n",
    "information criteria: provide estimate of out-of-sample deviance for model.\n",
    "\n",
    "best-known criterion: akaike information criterion (aic):\n",
    "\n",
    "$$\n",
    "\\text{AIC} = D_{train} + 2p\n",
    "$$\n",
    "\n",
    "where $p$ = number of free model params\n",
    "\n",
    "All info criteria try to predict out-of-sample deviance for models but derived under different constraints and assumptions. For AIC these are:\n",
    "\n",
    "* flat priors or dominated by llhood\n",
    "* posterior is approx. multivar Normal\n",
    "* nr of data points much greater than nr of params\n",
    "\n",
    "'flat priors' harsh restriction, want to regularize. thus look for other criteria.\n",
    "\n",
    "deviance information criterion (dic) and widely applicable information criterion (waic)\n",
    "\n",
    "**rethinking: information criteria and consistency.** aic, dic, waic not consistent: do not necessarily assign best score to 'true' model. instead assign highest score to model with best expected out-of-sample predictive performance. issue? no, if goal is prediction. further \n",
    "\n",
    "furthermore, consistency defined for case dataset size going towards infinite, and in those info criteria give highest scores to most complex models. but in those cases v. complex behave like true model due to good fit.\n",
    "\n",
    "### 6.4.1. dic\n",
    "\n",
    "Aware of informative priors, but still assumes multivar Gaussian posterior. Thus results can be very wrong if that assumption not met.\n",
    "\n",
    "Calculated from posterior of deviance, which is based on posterior uncertainty around parameters.\n",
    "\n",
    "Calc deviance for each posterior sample. Let $\\bar D$ be the average deviance and $\\hat D$ the deviance at the posterior mean, then\n",
    "\n",
    "$$\n",
    "\\text{DIC} = \\bar D + (\\bar D - \\hat D) = \\bar D + p_D\n",
    "$$\n",
    "\n",
    "$p_D$ encodes model complexity and penalizes DIC based on that. = expected distance between in-sample and out-of-sample deviance. for flat priors: dic = aic, as expected difference = nr of parameters. however, for informative priors, model more constrained, thus penalty fraction of nr of parameters. \n",
    "\n",
    "**discuss: why is $\\bar D - \\hat D$ = expected diff between in-sample and out-of-sample deviance?**\n",
    "\n",
    "### 6.4.2. waic\n",
    "\n",
    "essential characteristic: pointwise. considers uncertainty around each prediction individually. makes sense b/c some predictions are harder/more uncertain than others. aic/dic don't do this.\n",
    "\n",
    "$$\n",
    "Pr(y_i) = \\text{avg}_{\\text{posterior samples}}(P(y_i | \\text{post. samp.})\n",
    "$$\n",
    "\n",
    "thus: average likelihood of $y_i$ over posterior\n",
    "\n",
    "$$\n",
    "lppd = \\sum_{i=1}^N \\log Pr(y_i)\n",
    "$$\n",
    "\n",
    "lppd = log pointwise predictive density = sum of log $Pr(y_i)$ across all data points = pointwise analog of deviance over posterior.\n",
    "\n",
    "$$\n",
    "V(y_i) = \\text{variance of log-likelihood for sample i in train data}\n",
    "$$\n",
    "\n",
    "then\n",
    "\n",
    "$$\n",
    "p_{waic} = \\sum_i^N V(y_i) = \\text{effective nr of parameters}\n",
    "$$\n",
    "\n",
    "then\n",
    "\n",
    "$$\n",
    "waic = -2(\\text{lppd} - p_{waic})\n",
    "$$\n",
    "\n",
    "again, estimating out of sample deviance.\n",
    "\n",
    "issue: requires individual consideration of each datum. not meaningful for time series, where each datum depends on the one before. generally, assumes exchangeability.\n",
    "\n",
    "generally: validity of any information criterion depends on predictive task."
   ]
  },
  {
   "cell_type": "markdown",
   "metadata": {},
   "source": [
    "**rethinking: what about bic?** bayesian info crit. (bic), or Schwarz criterion. not bayes/non-bayes choice to decide for/against this. can be motivaed from bayes/non-bayes perspective. bic related to lhood of data averaged over all priors = evidence in bayes formula -> comparing two models on evidence = bayes factor. not treated in this book"
   ]
  },
  {
   "cell_type": "markdown",
   "metadata": {},
   "source": [
    "**overthinking: waic calculations.** see below"
   ]
  },
  {
   "cell_type": "code",
   "execution_count": 100,
   "metadata": {},
   "outputs": [],
   "source": [
    "# Code 6.15\n",
    "# Code 6.16\n",
    "# Code 6.17\n",
    "# Code 6.18\n",
    "# Code 6.19\n",
    "# Code 6.20\n",
    "\n",
    "# not super relevant at the moment, skip\n"
   ]
  },
  {
   "cell_type": "markdown",
   "metadata": {},
   "source": [
    "### 6.4.3. dic and waic as estimates of deviance\n",
    "\n",
    "both accurate in given example. help to detect overfitting. complementery with regularization, which helps to reduce overfitting but does not detect/measure it."
   ]
  },
  {
   "cell_type": "markdown",
   "metadata": {},
   "source": [
    "**rethinking: diverse prediction frameworks.** information criteria useful to approximate cross validation. however, cross-validation not always useful approach. some people prefer prequential model selection framework. also, 'prediction' might have more subtle meaning when using multilevel models.\n",
    "\n",
    "finally, train/production disconnect in data. trying to apply model to different distributions in practice might yield bad predictions. information criteria unaware of that"
   ]
  },
  {
   "cell_type": "markdown",
   "metadata": {},
   "source": [
    "## 6.5. using information criteria\n",
    "\n",
    "post. prob. can suggest how confident to be about param values, assuming truth of model. similarly, relative differences in DIC/WAIC values can suggest how confident to be about models, assuming there only exist the models currently being compared.\n",
    "\n",
    "primary use cases for IC:\n",
    "* model comparison: IC in combination w/ estimates & posterior predictive checks can help understand not just *that* but also *why* one model outperforms another\n",
    "* model averaging: use IC to make posterior predictive distribution using relative performance of models\n"
   ]
  },
  {
   "cell_type": "markdown",
   "metadata": {},
   "source": [
    "### 6.5.1. model comparison"
   ]
  },
  {
   "cell_type": "code",
   "execution_count": 124,
   "metadata": {},
   "outputs": [
    {
     "data": {
      "text/plain": [
       "(17, 9)"
      ]
     },
     "execution_count": 124,
     "metadata": {},
     "output_type": "execute_result"
    }
   ],
   "source": [
    "# Code 6.21\n",
    "\n",
    "d = (\n",
    "    pd\n",
    "    .read_csv('./data/milk.csv', sep=';')\n",
    "    # make names more pythonic\n",
    "    .rename(columns = lambda colname: colname.replace('.', '_'))\n",
    "    .dropna()\n",
    "    .assign(neocortex = lambda df: df['neocortex_perc']/100)\n",
    ")\n",
    "d.shape"
   ]
  },
  {
   "cell_type": "markdown",
   "metadata": {},
   "source": [
    "*Essential* for model comparison: models *must* be fit to exaxtly same nr of cases. Issue: higher nr observations nearly always means higher deviance and IC values.\n",
    "\n",
    "**note: thus it does not mean need to fit to same predictors, just same nr of observations. also, means that this doesn't matter if comparing performance by predicting on test set instead of using IC - correct?**\n",
    "\n",
    "trick for bounding deviation of outcome to be positive: estimate exp(log(deviation)) instead"
   ]
  },
  {
   "cell_type": "code",
   "execution_count": 162,
   "metadata": {},
   "outputs": [
    {
     "name": "stderr",
     "output_type": "stream",
     "text": [
      "Auto-assigning NUTS sampler...\n",
      "Initializing NUTS using jitter+adapt_diag...\n",
      "Multiprocess sampling (2 chains in 2 jobs)\n",
      "NUTS: [sigma, alpha]\n",
      "Sampling 2 chains: 100%|██████████| 4000/4000 [00:03<00:00, 1242.83draws/s]\n",
      "Auto-assigning NUTS sampler...\n",
      "Initializing NUTS using jitter+adapt_diag...\n",
      "Multiprocess sampling (2 chains in 2 jobs)\n",
      "NUTS: [sigma, beta, alpha]\n",
      "Sampling 2 chains: 100%|██████████| 40000/40000 [02:07<00:00, 313.63draws/s]\n",
      "There were 39 divergences after tuning. Increase `target_accept` or reparameterize.\n",
      "The acceptance probability does not match the target. It is 0.7125531250525922, but should be close to 0.8. Try to increase the number of tuning steps.\n",
      "There were 4 divergences after tuning. Increase `target_accept` or reparameterize.\n",
      "The number of effective samples is smaller than 25% for some parameters.\n",
      "Auto-assigning NUTS sampler...\n",
      "Initializing NUTS using jitter+adapt_diag...\n",
      "Multiprocess sampling (2 chains in 2 jobs)\n",
      "NUTS: [sigma, beta, alpha]\n",
      "Sampling 2 chains: 100%|██████████| 4000/4000 [00:03<00:00, 1262.45draws/s]\n",
      "Auto-assigning NUTS sampler...\n",
      "Initializing NUTS using jitter+adapt_diag...\n",
      "Multiprocess sampling (2 chains in 2 jobs)\n",
      "NUTS: [sigma, beta, alpha]\n",
      "Sampling 2 chains: 100%|██████████| 40000/40000 [04:01<00:00, 165.82draws/s]\n",
      "There were 42 divergences after tuning. Increase `target_accept` or reparameterize.\n",
      "There were 45 divergences after tuning. Increase `target_accept` or reparameterize.\n",
      "The number of effective samples is smaller than 25% for some parameters.\n"
     ]
    }
   ],
   "source": [
    "# Code 6.22\n",
    "\n",
    "a_start = d.kcal_per_g.mean()\n",
    "# pymc3 implementation does not use log()?\n",
    "sigma_start = d.kcal_per_g.std()\n",
    "\n",
    "mass_shared = theano.shared(np.log(d['mass'].values))\n",
    "neocortex_shared = theano.shared(d['neocortex'].values)\n",
    "\n",
    "with pm.Model() as m6_11:\n",
    "    alpha = pm.Normal('alpha', mu=0, sd=10, testval=a_start)\n",
    "    mu = alpha + 0 * neocortex_shared\n",
    "    sigma = pm.HalfCauchy('sigma',beta=10, testval=sigma_start)    \n",
    "    kcal = pm.Normal('kcal', mu=mu, sd=sigma, observed=d['kcal_per_g'])\n",
    "    trace_m6_11 = pm.sample(1000, tune=1000)\n",
    "\n",
    "with pm.Model() as m6_12:\n",
    "    alpha = pm.Normal('alpha', mu=0, sd=10, testval=a_start)\n",
    "    beta = pm.Normal('beta', mu=0, sd=10)\n",
    "    sigma = pm.HalfCauchy('sigma',beta=10, testval=sigma_start)\n",
    "    mu = alpha + beta * neocortex_shared\n",
    "    kcal = pm.Normal('kcal', mu=mu, sd=sigma, observed=d['kcal_per_g'])\n",
    "    trace_m6_12 = pm.sample(5000, tune=15000)\n",
    "    \n",
    "with pm.Model() as m6_13:\n",
    "    alpha = pm.Normal('alpha', mu=0, sd=10, testval=a_start)\n",
    "    beta = pm.Normal('beta', mu=0, sd=10)\n",
    "    sigma = pm.HalfCauchy('sigma', beta=10, testval=sigma_start)\n",
    "    mu = alpha + beta * mass_shared\n",
    "    kcal = pm.Normal('kcal', mu=mu, sd=sigma, observed=d['kcal_per_g'])\n",
    "    trace_m6_13 = pm.sample(1000, tune=1000)\n",
    "    \n",
    "with pm.Model() as m6_14:\n",
    "    alpha = pm.Normal('alpha', mu=0, sd=10, testval=a_start)\n",
    "    beta = pm.Normal('beta', mu=0, sd=10, shape=2)\n",
    "    sigma = pm.HalfCauchy('sigma', beta=10, testval=sigma_start)\n",
    "    mu = alpha + beta[0] * mass_shared + beta[1] * neocortex_shared\n",
    "    kcal = pm.Normal('kcal', mu=mu, sd=sigma, observed=d['kcal_per_g'])\n",
    "    trace_m6_14 = pm.sample(5000, tune=15000)"
   ]
  },
  {
   "cell_type": "markdown",
   "metadata": {},
   "source": [
    "#### 6.5.1.1. comparing waic values"
   ]
  },
  {
   "cell_type": "code",
   "execution_count": 163,
   "metadata": {},
   "outputs": [
    {
     "name": "stderr",
     "output_type": "stream",
     "text": [
      "/anaconda3/envs/rethinking_statistics/lib/python3.7/site-packages/pymc3/stats.py:211: UserWarning: For one or more samples the posterior variance of the\n",
      "        log predictive densities exceeds 0.4. This could be indication of\n",
      "        WAIC starting to fail see http://arxiv.org/abs/1507.04544 for details\n",
      "        \n",
      "  \"\"\")\n"
     ]
    },
    {
     "data": {
      "text/plain": [
       "WAIC_r(WAIC=-17.150264621891615, WAIC_se=4.785872421323423, p_WAIC=2.8981942191164434, var_warn=1)"
      ]
     },
     "execution_count": 163,
     "metadata": {},
     "output_type": "execute_result"
    }
   ],
   "source": [
    "# Code 6.23\n",
    "\n",
    "pm.waic(trace_m6_14, m6_14)"
   ]
  },
  {
   "cell_type": "code",
   "execution_count": 167,
   "metadata": {},
   "outputs": [
    {
     "name": "stderr",
     "output_type": "stream",
     "text": [
      "/anaconda3/envs/rethinking_statistics/lib/python3.7/site-packages/pymc3/stats.py:211: UserWarning: For one or more samples the posterior variance of the\n",
      "        log predictive densities exceeds 0.4. This could be indication of\n",
      "        WAIC starting to fail see http://arxiv.org/abs/1507.04544 for details\n",
      "        \n",
      "  \"\"\")\n",
      "/anaconda3/envs/rethinking_statistics/lib/python3.7/site-packages/pymc3/stats.py:211: UserWarning: For one or more samples the posterior variance of the\n",
      "        log predictive densities exceeds 0.4. This could be indication of\n",
      "        WAIC starting to fail see http://arxiv.org/abs/1507.04544 for details\n",
      "        \n",
      "  \"\"\")\n"
     ]
    }
   ],
   "source": [
    "# Code 6.24\n",
    "\n",
    "compare_df = (\n",
    "    pm\n",
    "    .compare(\n",
    "    {m6_11 : trace_m6_11,\n",
    "     m6_12 : trace_m6_12,\n",
    "     m6_13 : trace_m6_13,\n",
    "     m6_14 : trace_m6_14}, \n",
    "    method='pseudo-BMA')\n",
    "    .assign(model =  pd.Series(['m6.11', 'm6.12', 'm6.13', 'm6.14']))\n",
    "    .set_index('model')\n",
    ")"
   ]
  },
  {
   "cell_type": "code",
   "execution_count": 169,
   "metadata": {},
   "outputs": [
    {
     "data": {
      "text/html": [
       "<div>\n",
       "<style scoped>\n",
       "    .dataframe tbody tr th:only-of-type {\n",
       "        vertical-align: middle;\n",
       "    }\n",
       "\n",
       "    .dataframe tbody tr th {\n",
       "        vertical-align: top;\n",
       "    }\n",
       "\n",
       "    .dataframe thead th {\n",
       "        text-align: right;\n",
       "    }\n",
       "</style>\n",
       "<table border=\"1\" class=\"dataframe\">\n",
       "  <thead>\n",
       "    <tr style=\"text-align: right;\">\n",
       "      <th></th>\n",
       "      <th>WAIC</th>\n",
       "      <th>pWAIC</th>\n",
       "      <th>dWAIC</th>\n",
       "      <th>weight</th>\n",
       "      <th>SE</th>\n",
       "      <th>dSE</th>\n",
       "      <th>var_warn</th>\n",
       "    </tr>\n",
       "    <tr>\n",
       "      <th>model</th>\n",
       "      <th></th>\n",
       "      <th></th>\n",
       "      <th></th>\n",
       "      <th></th>\n",
       "      <th></th>\n",
       "      <th></th>\n",
       "      <th></th>\n",
       "    </tr>\n",
       "  </thead>\n",
       "  <tbody>\n",
       "    <tr>\n",
       "      <th>m6.14</th>\n",
       "      <td>-17.15</td>\n",
       "      <td>2.9</td>\n",
       "      <td>0</td>\n",
       "      <td>0.96</td>\n",
       "      <td>4.79</td>\n",
       "      <td>0</td>\n",
       "      <td>1</td>\n",
       "    </tr>\n",
       "    <tr>\n",
       "      <th>m6.13</th>\n",
       "      <td>-9.15</td>\n",
       "      <td>1.96</td>\n",
       "      <td>8</td>\n",
       "      <td>0.02</td>\n",
       "      <td>4.11</td>\n",
       "      <td>3.29</td>\n",
       "      <td>1</td>\n",
       "    </tr>\n",
       "    <tr>\n",
       "      <th>m6.11</th>\n",
       "      <td>-8.92</td>\n",
       "      <td>1.22</td>\n",
       "      <td>8.23</td>\n",
       "      <td>0.02</td>\n",
       "      <td>3.56</td>\n",
       "      <td>4.6</td>\n",
       "      <td>0</td>\n",
       "    </tr>\n",
       "    <tr>\n",
       "      <th>m6.12</th>\n",
       "      <td>-7.37</td>\n",
       "      <td>1.85</td>\n",
       "      <td>9.78</td>\n",
       "      <td>0.01</td>\n",
       "      <td>3.08</td>\n",
       "      <td>4.7</td>\n",
       "      <td>0</td>\n",
       "    </tr>\n",
       "  </tbody>\n",
       "</table>\n",
       "</div>"
      ],
      "text/plain": [
       "        WAIC pWAIC dWAIC weight    SE   dSE var_warn\n",
       "model                                               \n",
       "m6.14 -17.15   2.9     0   0.96  4.79     0        1\n",
       "m6.13  -9.15  1.96     8   0.02  4.11  3.29        1\n",
       "m6.11  -8.92  1.22  8.23   0.02  3.56   4.6        0\n",
       "m6.12  -7.37  1.85  9.78   0.01  3.08   4.7        0"
      ]
     },
     "execution_count": 169,
     "metadata": {},
     "output_type": "execute_result"
    }
   ],
   "source": [
    "compare_df.sort_values('WAIC')"
   ]
  },
  {
   "cell_type": "markdown",
   "metadata": {},
   "source": [
    "* waic: what it says\n",
    "* pwaic: estimated effictive nr of params\n",
    "* dwaic: relative difference in waic between current and best model\n",
    "* weight: akaike weight\n",
    "* se: standard error of waic\n",
    "* dse: standard error of difference between current and best model"
   ]
  },
  {
   "cell_type": "code",
   "execution_count": 171,
   "metadata": {},
   "outputs": [
    {
     "data": {
      "image/png": "[encoded data removed]",
      "text/plain": [
       "<Figure size 432x288 with 1 Axes>"
      ]
     },
     "metadata": {
      "needs_background": "light"
     },
     "output_type": "display_data"
    }
   ],
   "source": [
    "# Code 6.25\n",
    "\n",
    "pm.compareplot(compare_df);"
   ]
  },
  {
   "cell_type": "markdown",
   "metadata": {},
   "source": [
    "* closed: in-sample waic\n",
    "* open: (out-of-sample) waic\n",
    "* dark line: waic se\n",
    "* triangle: diff between best and current\n",
    "* grey line: se of diff between best and current\n",
    "\n",
    "overlap in se of waic is not same as se of difference between models b/c uncertainty about models is correlated between models\n",
    "\n",
    "akaike weight = rescale relative predictive accuracy to sum to 1 between models\n",
    "\n",
    "unclear, akaike's interpretation: \"estimate of probability that model will make best predictions on new data, conditional on st of models considered\"\n",
    "\n",
    "only 12 cases, thus lots of uncertainty around waic.\n",
    "\n",
    "using uncertainty around differences, chance of difference being negative thus other model actualy being best:"
   ]
  },
  {
   "cell_type": "code",
   "execution_count": 173,
   "metadata": {},
   "outputs": [
    {
     "data": {
      "text/plain": [
       "0.17862"
      ]
     },
     "execution_count": 173,
     "metadata": {},
     "output_type": "execute_result"
    }
   ],
   "source": [
    "# Code 6.26\n",
    "\n",
    "diff = np.random.normal(loc=6.7, scale=7.26, size=100000)\n",
    "\n",
    "# this is in the pymc3 implementation and i think it's wrong. summing up actual values. \n",
    "# sum(diff[diff<0]) / 100000\n",
    "# out: ~ -0.7\n",
    "\n",
    "# instead want to count how often< 0 event happens.\n",
    "# this also matches the output of the book\n",
    "sum(diff<0) / 100000"
   ]
  },
  {
   "cell_type": "markdown",
   "metadata": {},
   "source": [
    "**rethining: how big a difference in waic is \"significant\"?** hard to say what 'significance' means in this case. models won't make same predictions. also, no established values like '5%'. book's stance: keep and present all models, to give most wholistic picture and enable best discussion."
   ]
  },
  {
   "cell_type": "markdown",
   "metadata": {},
   "source": [
    "**rethinking: waic metaphors.** \n",
    "\n",
    "1: waic scores = race horses. best horse most likely to win. also, if one horse wins by large margin then high confidence it's actually best horse. however, for small margin: less certain. also, hard to say how things play out when environment changes - how will model perform for new data, possibly from different process?\n",
    "\n",
    "2: waic scores = stones thrown to skip on a lake. for each throw lots of things can change: bad grip, good wind etc. good stone will go farther on average. the bigger the differences between stones are the more certain we can be that stone is actually better."
   ]
  },
  {
   "cell_type": "markdown",
   "metadata": {},
   "source": [
    "#### 6.4.1.2. comparing estimates\n",
    "\n",
    "comparing estimates can help understand *why* one model is better/worse than another. also, can help to understand if parameter stays important across models when adding/removing other parameters."
   ]
  },
  {
   "cell_type": "code",
   "execution_count": 174,
   "metadata": {},
   "outputs": [
    {
     "data": {
      "text/html": [
       "<div>\n",
       "<style scoped>\n",
       "    .dataframe tbody tr th:only-of-type {\n",
       "        vertical-align: middle;\n",
       "    }\n",
       "\n",
       "    .dataframe tbody tr th {\n",
       "        vertical-align: top;\n",
       "    }\n",
       "\n",
       "    .dataframe thead th {\n",
       "        text-align: right;\n",
       "    }\n",
       "</style>\n",
       "<table border=\"1\" class=\"dataframe\">\n",
       "  <thead>\n",
       "    <tr style=\"text-align: right;\">\n",
       "      <th></th>\n",
       "      <th>m6_11</th>\n",
       "      <th>m6_12</th>\n",
       "      <th>m6_13</th>\n",
       "      <th>m6_14</th>\n",
       "    </tr>\n",
       "  </thead>\n",
       "  <tbody>\n",
       "    <tr>\n",
       "      <th>alpha</th>\n",
       "      <td>0.656692</td>\n",
       "      <td>0.348399</td>\n",
       "      <td>0.704913</td>\n",
       "      <td>-1.084543</td>\n",
       "    </tr>\n",
       "    <tr>\n",
       "      <th>beta</th>\n",
       "      <td>NaN</td>\n",
       "      <td>0.458053</td>\n",
       "      <td>-0.031852</td>\n",
       "      <td>NaN</td>\n",
       "    </tr>\n",
       "    <tr>\n",
       "      <th>beta__0</th>\n",
       "      <td>NaN</td>\n",
       "      <td>NaN</td>\n",
       "      <td>NaN</td>\n",
       "      <td>-0.096377</td>\n",
       "    </tr>\n",
       "    <tr>\n",
       "      <th>beta__1</th>\n",
       "      <td>NaN</td>\n",
       "      <td>NaN</td>\n",
       "      <td>NaN</td>\n",
       "      <td>2.791529</td>\n",
       "    </tr>\n",
       "    <tr>\n",
       "      <th>sigma</th>\n",
       "      <td>0.188978</td>\n",
       "      <td>0.193257</td>\n",
       "      <td>0.181497</td>\n",
       "      <td>0.140464</td>\n",
       "    </tr>\n",
       "  </tbody>\n",
       "</table>\n",
       "</div>"
      ],
      "text/plain": [
       "            m6_11     m6_12     m6_13     m6_14\n",
       "alpha    0.656692  0.348399  0.704913 -1.084543\n",
       "beta          NaN  0.458053 -0.031852       NaN\n",
       "beta__0       NaN       NaN       NaN -0.096377\n",
       "beta__1       NaN       NaN       NaN  2.791529\n",
       "sigma    0.188978  0.193257  0.181497  0.140464"
      ]
     },
     "execution_count": 174,
     "metadata": {},
     "output_type": "execute_result"
    }
   ],
   "source": [
    "# Code 6.27\n",
    "\n",
    "coeftab = pd.DataFrame({'m6_11': pm.summary(trace_m6_11)['mean'],\n",
    "                        'm6_12': pm.summary(trace_m6_12)['mean'],\n",
    "                        'm6_13': pm.summary(trace_m6_13)['mean'],\n",
    "                        'm6_14': pm.summary(trace_m6_14)['mean']})\n",
    "coeftab"
   ]
  },
  {
   "cell_type": "markdown",
   "metadata": {},
   "source": [
    "**note: harder to read b/c pymc3 calls parameters 'beta[0]', 'beta[1]' instead of 'bn', 'bm'.**"
   ]
  },
  {
   "cell_type": "markdown",
   "metadata": {},
   "source": [
    "change in uncertainty around estimates also important, plot to see better"
   ]
  },
  {
   "cell_type": "code",
   "execution_count": 176,
   "metadata": {},
   "outputs": [
    {
     "data": {
      "image/png": "[encoded data removed]",
      "text/plain": [
       "<Figure size 720x576 with 2 Axes>"
      ]
     },
     "metadata": {
      "needs_background": "light"
     },
     "output_type": "display_data"
    }
   ],
   "source": [
    "# Code 6.28\n",
    "\n",
    "traces = [trace_m6_11, trace_m6_12, trace_m6_13, trace_m6_14]   \n",
    "models = [m6_11, m6_12, m6_13, m6_14]\n",
    "\n",
    "plt.figure(figsize=(10, 8))\n",
    "pm.forestplot(traces, plot_kwargs={'fontsize':14});"
   ]
  },
  {
   "cell_type": "markdown",
   "metadata": {},
   "source": [
    "**note: why are there multiple points per parameter per model? and again, having different parameter naming conventions would have made things easier**"
   ]
  },
  {
   "cell_type": "markdown",
   "metadata": {},
   "source": [
    "**rethinking: barlots suck.** McElreath: bars carry little information but clutter visuals a lot. use dotcharts instead."
   ]
  },
  {
   "cell_type": "markdown",
   "metadata": {},
   "source": [
    "### 6.5.2. model averaging"
   ]
  },
  {
   "cell_type": "markdown",
   "metadata": {},
   "source": [
    "posterior predictive for *single* model:"
   ]
  },
  {
   "cell_type": "code",
   "execution_count": 177,
   "metadata": {},
   "outputs": [
    {
     "name": "stderr",
     "output_type": "stream",
     "text": [
      "100%|██████████| 10000/10000 [00:15<00:00, 630.77it/s]\n"
     ]
    }
   ],
   "source": [
    "# Code 6.29\n",
    "\n",
    "kcal_per_g = np.repeat(0, 30) # empty outcome\n",
    "neocortex = np.linspace(0.5, 0.8, 30) # sequence of neocortex\n",
    "mass = np.repeat(4.5, 30)     # average mass\n",
    "\n",
    "mass_shared.set_value(np.log(mass))\n",
    "neocortex_shared.set_value(neocortex)\n",
    "post_pred = pm.sample_ppc(trace_m6_14, samples=10000, model=m6_14)"
   ]
  },
  {
   "cell_type": "markdown",
   "metadata": {},
   "source": [
    "posterior predictive averaged for *all* models:"
   ]
  },
  {
   "cell_type": "code",
   "execution_count": 178,
   "metadata": {},
   "outputs": [
    {
     "name": "stderr",
     "output_type": "stream",
     "text": [
      "100%|██████████| 10000/10000 [00:10<00:00, 913.87it/s]\n"
     ]
    }
   ],
   "source": [
    "# Code 6.30\n",
    "milk_ensemble = pm.sample_ppc_w(\n",
    "    traces, \n",
    "    10000, \n",
    "    models, \n",
    "    weights=compare_df.weight.sort_index(ascending=True)\n",
    ")"
   ]
  },
  {
   "cell_type": "code",
   "execution_count": 179,
   "metadata": {},
   "outputs": [
    {
     "data": {
      "image/png": "[encoded data removed]",
      "text/plain": [
       "<Figure size 576x432 with 1 Axes>"
      ]
     },
     "metadata": {
      "needs_background": "light"
     },
     "output_type": "display_data"
    }
   ],
   "source": [
    "plt.figure(figsize=(8, 6))\n",
    "\n",
    "plt.plot(neocortex, post_pred['kcal'].mean(0), ls='--', color='C2')\n",
    "hpd_post_pred = pm.hpd(post_pred['kcal'])\n",
    "plt.plot(neocortex,hpd_post_pred[:,0], ls='--', color='C2')\n",
    "plt.plot(neocortex,hpd_post_pred[:,], ls='--', color='C2')\n",
    "\n",
    "plt.plot(neocortex, milk_ensemble['kcal'].mean(0), color='C0')\n",
    "hpd_av = pm.hpd(milk_ensemble['kcal'])\n",
    "plt.fill_between(neocortex, hpd_av[:,0], hpd_av[:,1], alpha=0.1, color='C0')\n",
    "\n",
    "plt.scatter(d['neocortex'], d['kcal_per_g'], facecolor='None', edgecolors='C0')\n",
    "\n",
    "plt.ylim(0.3, 1)\n",
    "plt.xlabel('neocortex', fontsize=16)\n",
    "plt.ylabel('kcal_per_g', fontsize=16);\n"
   ]
  },
  {
   "cell_type": "markdown",
   "metadata": {},
   "source": [
    "**note: this looks very different from the book (it does look the same as in the pmc3 reference). compare and discuss**"
   ]
  },
  {
   "cell_type": "markdown",
   "metadata": {},
   "source": [
    "mechanics for averaging v simple: get posterior predictive samples from each model, weigh those by akaike model weight, use all these weighted samples as the predictive posterior for ensemble\n",
    "\n",
    "model averaging: sometimes little influence on predictions. sometimes massive. but always conservative approach that protects about overconfidence in single model. will never make predictor more influential than it is in any single model."
   ]
  },
  {
   "cell_type": "markdown",
   "metadata": {},
   "source": [
    "**rethinking: the curse of tippecanoe.** if exhaustively trying to all possible models will find some that fit really well. all big enough datasets have meaningless patterns of strong correlations in them, e.g. presidential names, election dates and facts about their life. patterns not actually based on real mechanisms will not generalize to new data.\n",
    "\n",
    "however, there are valid use-cases for just trying lots of models.\n",
    "\n",
    "1: explore data if there is no clear hypothesis. make sure to communicate that this is happening. use findings to inform future investigations.\n",
    "\n",
    "2: demonstrate that no (combination of) predictors is useful for predicting outcome."
   ]
  },
  {
   "cell_type": "markdown",
   "metadata": {},
   "source": [
    "## 6.6. summary\n",
    "\n",
    "Chapter flow: overfitting -> regularization and information criteria.\n",
    "\n",
    "Regularizing priors: reduce overfit during estimation.\n",
    "\n",
    "Information criteria: help estimate degree of overfitting.\n",
    "\n",
    "Introduced model comparison and ensembles based on information criteria.\n",
    "\n",
    "*All tools just heuristics, no guarantees. \"No statistical procedure will ver substitue for iterative scientific investigation.\"*"
   ]
  },
  {
   "cell_type": "markdown",
   "metadata": {},
   "source": [
    "## 6.7. practice"
   ]
  },
  {
   "cell_type": "markdown",
   "metadata": {},
   "source": [
    "**Easy**\n",
    "\n",
    "**6E1**\n",
    "\n",
    "*\"State the three motivating criteria that define information entropy. Try to express each in your\n",
    "own words\"*\n",
    "\n",
    "We want to have some measure of uncertainty. For some reason probabilities are not what we want **why not? discuss**. We want that measure to have the following properties:\n",
    "\n",
    "* small changes in underlying probabilities should result in small changes in uncertainty (continuous measure)\n",
    "* if nr of events increases, uncertainty should increase - it's harder to say what's going to happen if there are more choices. but actually, not obvious. assume that probabilities of all events need to sum to 1. then adding new event means taking away probability from some event(s) and assigning it to new event. thus: changing probabilities. could also change probabilities in such a way to resulting final distribution has less entropy than before, by probability being way more focused on one event? also, what happens to entropy if probabilities are uniform, then new event gets added and probabilities are spread out evenly again? (probably increases) **discuss*\n",
    "* additive: uncertainty about (A or B) and uncertainty about (X or Y) should be equal to uncertainty about (A and X, or A and Y, or B and X, or B and Y). However, shouldn't that take into account correlations between those and thus use whole joint distribution instead of marginals? **discuss**"
   ]
  },
  {
   "cell_type": "code",
   "execution_count": 191,
   "metadata": {},
   "outputs": [],
   "source": [
    "def inf_ent(probabilities):\n",
    "    return - np.sum(np.array(probabilities) * np.log(probabilities))"
   ]
  },
  {
   "cell_type": "markdown",
   "metadata": {},
   "source": [
    "**6E2**\n",
    "\n",
    "*\"Suppose a coin is weighted such that, when it is tossed and lands on a table, it comes up heads 70% of the time. What is the entropy of this coin?\"*\n",
    "\n",
    "Copy from above, formula of information entropy:\n",
    "\n",
    "$$\n",
    "H(p) = -E \\log (p_i) = - \\sum_{i=1}^n p_i \\log (p_i)\n",
    "$$\n",
    "\n",
    "For this coin we have two events, heads and tails, with two respective probabilities: 0.7 and 0.3. Plugging these in:"
   ]
  },
  {
   "cell_type": "code",
   "execution_count": 192,
   "metadata": {},
   "outputs": [
    {
     "data": {
      "text/plain": [
       "0.6108643020548935"
      ]
     },
     "execution_count": 192,
     "metadata": {},
     "output_type": "execute_result"
    }
   ],
   "source": [
    "inf_ent([0.3, 0.7])"
   ]
  },
  {
   "cell_type": "markdown",
   "metadata": {},
   "source": [
    "$$\n",
    "H(\\text{coin}) = - (0.7 * \\log(0.7) + 0.3 * \\log(0.3)) = 0.61\n",
    "$$"
   ]
  },
  {
   "cell_type": "markdown",
   "metadata": {},
   "source": [
    "**6E3**\n",
    "\n",
    "*\"Suppose a four-sided die is loaded such that, when tossed onto a table, it shows “1” 20%, “2” 25%, ”3” 25%, and ”4” 30% of the time. What is the entropy of this die?\"*"
   ]
  },
  {
   "cell_type": "code",
   "execution_count": 193,
   "metadata": {},
   "outputs": [
    {
     "data": {
      "text/plain": [
       "1.3762266043445461"
      ]
     },
     "execution_count": 193,
     "metadata": {},
     "output_type": "execute_result"
    }
   ],
   "source": [
    "inf_ent([.2, .25, .25, .3])"
   ]
  },
  {
   "cell_type": "markdown",
   "metadata": {},
   "source": [
    "**6E4**\n",
    "\n",
    "*\"Suppose another four-sided die is loaded such that it never shows “4”. The other three sides show equally often. What is the entropy of this die?\"*"
   ]
  },
  {
   "cell_type": "code",
   "execution_count": 194,
   "metadata": {},
   "outputs": [
    {
     "data": {
      "text/plain": [
       "nan"
      ]
     },
     "execution_count": 194,
     "metadata": {},
     "output_type": "execute_result"
    }
   ],
   "source": [
    "inf_ent([.3, .3, .3, 0])"
   ]
  },
  {
   "cell_type": "markdown",
   "metadata": {},
   "source": [
    "How to handle 0 probabilty? Define that \n",
    "\n",
    "$$\n",
    "0 \\log(0) = 0\n",
    "$$\n",
    "\n",
    "matching intuition that events that never happen do not influence uncertainty. Incorporating that into my inf_ent function:"
   ]
  },
  {
   "cell_type": "code",
   "execution_count": 199,
   "metadata": {},
   "outputs": [],
   "source": [
    "def inf_ent(probabilities):\n",
    "    \"\"\"\n",
    "    Information entropy that drops out 0-probability events\n",
    "    \"\"\"\n",
    "    \n",
    "    probabilities = np.asarray(probabilities)\n",
    "    probabilities = probabilities[probabilities.nonzero()]\n",
    "    \n",
    "    return - np.sum(probabilities * np.log(probabilities))"
   ]
  },
  {
   "cell_type": "code",
   "execution_count": 202,
   "metadata": {},
   "outputs": [
    {
     "data": {
      "text/plain": [
       "1.0835755238933424"
      ]
     },
     "execution_count": 202,
     "metadata": {},
     "output_type": "execute_result"
    }
   ],
   "source": [
    "inf_ent([.3, .3, .3, 0])"
   ]
  },
  {
   "cell_type": "markdown",
   "metadata": {},
   "source": [
    "**Medium**\n",
    "\n",
    "**6M1**\n",
    "\n",
    "*\"Write down and compare the definitions of AIC, DIC, and WAIC. Which of these criteria is most general? Which assumptions are required to transform a more general criterion into a less general one?\"*\n",
    "\n",
    "$$\n",
    "\\text{AIC} = D_{\\text{train}} + 2p\n",
    "$$\n",
    "\n",
    "$$\n",
    "\\text{DIC} = \\bar D + (\\bar D - \\hat D) = \\bar D + p_D\n",
    "$$\n",
    "\n",
    "$$\n",
    "\\text{WAIC} = -2(\\text{lppd} - p_{waic})\n",
    "$$\n",
    "\n",
    "Not sure how to compare these definitions. Regarding assumptions:\n",
    "\n",
    "To go from more general to less general: add assumptions.\n",
    "\n",
    "From WAIC to DIC: add assumption that posteriors are multivariate Gaussians.\n",
    "\n",
    "From DIC to AIC: add assumption that priors are flat."
   ]
  },
  {
   "cell_type": "markdown",
   "metadata": {},
   "source": [
    "**6M2**\n",
    "\n",
    "*\"Explain the difference between model selection and model averaging. What information is lost under model selection? What information is lost under model averaging?\"*\n",
    "\n",
    "Model selection = pick single best model according to some criterion. Discard others. Information lost: relative confidence in model as compared to other models. Contributions of other models.\n",
    "\n",
    "Model averaging = average predictions based on relative accuracy of individual models. Discard none. Information lost: none?"
   ]
  },
  {
   "cell_type": "markdown",
   "metadata": {},
   "source": [
    "**6M3**\n",
    "\n",
    "*\"When comparing models with an information criterion, why must all models be fit to exactly the same observations? What would happen to the information criterion values, if the models were fit to different numbers of observations? Perform some experiments, if you are not sure.\"*\n",
    "\n",
    "Higher number of observations -> higher (worse) value for IC. Unfair comparison"
   ]
  },
  {
   "cell_type": "markdown",
   "metadata": {},
   "source": [
    "**6M4**\n",
    "\n",
    "*\"Whathappenstotheeffectivenumberofparameters,asmeasuredbyDICorWAIC,asaprior becomes more concentrated? Why? Perform some experiments, if you are not sure.\"*\n",
    "\n",
    "Guess: nr of effective params reduces when prior becomes more informative. **Unsure, follow-up here.**"
   ]
  },
  {
   "cell_type": "markdown",
   "metadata": {},
   "source": [
    "**6M5**\n",
    "\n",
    "*\"Provide an informal explanation of why informative priors reduce overfitting.\"*\n",
    "\n",
    "Make models pay less attention to data, thus less likely to learn from non-generalizable features. Pushes posteriors towards value regions that are deemed more likely a-priori. Posterior will look a bit more like prior, a bit less like data."
   ]
  },
  {
   "cell_type": "markdown",
   "metadata": {},
   "source": [
    "**6M6**\n",
    "\n",
    "*\"Provide an information explanation of why overly informative priors result in underfitting.\"*\n",
    "\n",
    "Model will learn too little from data/pay too little attention to it. Will actually not learn generalizable patterns. Posterior will look a lot like prior, with little impact of data."
   ]
  },
  {
   "cell_type": "markdown",
   "metadata": {},
   "source": [
    "**Hard**"
   ]
  },
  {
   "cell_type": "code",
   "execution_count": 219,
   "metadata": {},
   "outputs": [],
   "source": [
    "import math"
   ]
  },
  {
   "cell_type": "code",
   "execution_count": 257,
   "metadata": {},
   "outputs": [
    {
     "name": "stdout",
     "output_type": "stream",
     "text": [
      "(272, 4)\n",
      "(272, 4)\n"
     ]
    }
   ],
   "source": [
    "# Code 6.31\n",
    "\n",
    "d = (\n",
    "    pd\n",
    "    .read_csv('./data/Howell1.csv', sep=';')\n",
    "    .assign(age = lambda df: (df.age - df.age.mean()) / df.age.std())\n",
    ")\n",
    "\n",
    "rs = np.random.RandomState(42)\n",
    "ix = rs.choice(np.asarray(range(len(d))), size=math.floor(len(d)/2), replace=False)\n",
    "\n",
    "d1 = d.iloc[ix].sort_index()\n",
    "d2 = d.iloc[d.index.difference(ix)]\n",
    "\n",
    "print(d1.shape)\n",
    "print(d2.shape)"
   ]
  },
  {
   "cell_type": "markdown",
   "metadata": {},
   "source": [
    "**6H1**\n",
    "\n"
   ]
  }
 ],
 "metadata": {
  "kernelspec": {
   "display_name": "Python 3",
   "language": "python",
   "name": "python3"
  },
  "language_info": {
   "codemirror_mode": {
    "name": "ipython",
    "version": 3
   },
   "file_extension": ".py",
   "mimetype": "text/x-python",
   "name": "python",
   "nbconvert_exporter": "python",
   "pygments_lexer": "ipython3",
   "version": "3.7.1"
  }
 },
 "nbformat": 4,
 "nbformat_minor": 2
}
