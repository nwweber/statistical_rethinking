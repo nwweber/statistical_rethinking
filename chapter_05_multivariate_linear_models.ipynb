{
 "cells": [
  {
   "cell_type": "code",
   "execution_count": 2,
   "metadata": {},
   "outputs": [],
   "source": [
    "# to suppress futurewarnings caused by pandas and other libraries not updating their numpy interface codes\n",
    "# apparently has to come before these import, so leave this on top\n",
    "import warnings\n",
    "warnings.simplefilter(action='ignore', category=FutureWarning)\n",
    "\n",
    "import numpy as np\n",
    "import matplotlib.pyplot as plt\n",
    "import pymc3 as pm\n",
    "import scipy.stats as stats\n",
    "import pandas as pd\n",
    "\n",
    "%matplotlib inline"
   ]
  },
  {
   "cell_type": "markdown",
   "metadata": {},
   "source": [
    "# Chapter 5\n",
    "* **multivariate regression**: using more than one predictor variable to model an outcome. useful b/c\n",
    "  * control for confounds. **confound**: variable that might be correlated w/ variable of interest, e.g. nr of waffle houses and divorce rate. can hide important variables or can create false importance. **simpson's paradox**: reverse direction between predictor and outcome due to confound.\n",
    "  * multiple causation. something might be caused by more than one thing\n",
    "  * interactions. car needs fuel and spark to start, only one does not have any effect.\n",
    "* this chapter: confounds and multiple causation\n",
    "* also danger: multicollinerarity\n",
    "* **rethinking: causal inference:** extremely important, but no unified approach to determine causal effect, neither in sciences nor in statistic. furthermore, 'cause' loses clear meaning in complex systems in which everything seems to cause everything (and be caused by it). consensus: inference of causality always rests upon unverifiable assumptions. so no matter the analysis, there will always be possible criticism about whether there really is causality. however: even despite that useful work can be done\n",
    "\n",
    "## 5.1. Spurious association\n",
    "* impact of median marriage age of marriage on divorce rate"
   ]
  },
  {
   "cell_type": "code",
   "execution_count": 3,
   "metadata": {},
   "outputs": [],
   "source": [
    "# Code 5.1\n",
    "d = pd.read_csv('./data/WaffleDivorce.csv', sep=';')"
   ]
  },
  {
   "cell_type": "code",
   "execution_count": 4,
   "metadata": {},
   "outputs": [
    {
     "data": {
      "text/html": [
       "<div>\n",
       "<style scoped>\n",
       "    .dataframe tbody tr th:only-of-type {\n",
       "        vertical-align: middle;\n",
       "    }\n",
       "\n",
       "    .dataframe tbody tr th {\n",
       "        vertical-align: top;\n",
       "    }\n",
       "\n",
       "    .dataframe thead th {\n",
       "        text-align: right;\n",
       "    }\n",
       "</style>\n",
       "<table border=\"1\" class=\"dataframe\">\n",
       "  <thead>\n",
       "    <tr style=\"text-align: right;\">\n",
       "      <th></th>\n",
       "      <th>Location</th>\n",
       "      <th>Loc</th>\n",
       "      <th>Population</th>\n",
       "      <th>MedianAgeMarriage</th>\n",
       "      <th>Marriage</th>\n",
       "      <th>Marriage SE</th>\n",
       "      <th>Divorce</th>\n",
       "      <th>Divorce SE</th>\n",
       "      <th>WaffleHouses</th>\n",
       "      <th>South</th>\n",
       "      <th>Slaves1860</th>\n",
       "      <th>Population1860</th>\n",
       "      <th>PropSlaves1860</th>\n",
       "    </tr>\n",
       "  </thead>\n",
       "  <tbody>\n",
       "    <tr>\n",
       "      <th>0</th>\n",
       "      <td>Alabama</td>\n",
       "      <td>AL</td>\n",
       "      <td>4.78</td>\n",
       "      <td>25.3</td>\n",
       "      <td>20.2</td>\n",
       "      <td>1.27</td>\n",
       "      <td>12.7</td>\n",
       "      <td>0.79</td>\n",
       "      <td>128</td>\n",
       "      <td>1</td>\n",
       "      <td>435080</td>\n",
       "      <td>964201</td>\n",
       "      <td>0.45</td>\n",
       "    </tr>\n",
       "    <tr>\n",
       "      <th>1</th>\n",
       "      <td>Alaska</td>\n",
       "      <td>AK</td>\n",
       "      <td>0.71</td>\n",
       "      <td>25.2</td>\n",
       "      <td>26.0</td>\n",
       "      <td>2.93</td>\n",
       "      <td>12.5</td>\n",
       "      <td>2.05</td>\n",
       "      <td>0</td>\n",
       "      <td>0</td>\n",
       "      <td>0</td>\n",
       "      <td>0</td>\n",
       "      <td>0.00</td>\n",
       "    </tr>\n",
       "    <tr>\n",
       "      <th>2</th>\n",
       "      <td>Arizona</td>\n",
       "      <td>AZ</td>\n",
       "      <td>6.33</td>\n",
       "      <td>25.8</td>\n",
       "      <td>20.3</td>\n",
       "      <td>0.98</td>\n",
       "      <td>10.8</td>\n",
       "      <td>0.74</td>\n",
       "      <td>18</td>\n",
       "      <td>0</td>\n",
       "      <td>0</td>\n",
       "      <td>0</td>\n",
       "      <td>0.00</td>\n",
       "    </tr>\n",
       "    <tr>\n",
       "      <th>3</th>\n",
       "      <td>Arkansas</td>\n",
       "      <td>AR</td>\n",
       "      <td>2.92</td>\n",
       "      <td>24.3</td>\n",
       "      <td>26.4</td>\n",
       "      <td>1.70</td>\n",
       "      <td>13.5</td>\n",
       "      <td>1.22</td>\n",
       "      <td>41</td>\n",
       "      <td>1</td>\n",
       "      <td>111115</td>\n",
       "      <td>435450</td>\n",
       "      <td>0.26</td>\n",
       "    </tr>\n",
       "    <tr>\n",
       "      <th>4</th>\n",
       "      <td>California</td>\n",
       "      <td>CA</td>\n",
       "      <td>37.25</td>\n",
       "      <td>26.8</td>\n",
       "      <td>19.1</td>\n",
       "      <td>0.39</td>\n",
       "      <td>8.0</td>\n",
       "      <td>0.24</td>\n",
       "      <td>0</td>\n",
       "      <td>0</td>\n",
       "      <td>0</td>\n",
       "      <td>379994</td>\n",
       "      <td>0.00</td>\n",
       "    </tr>\n",
       "  </tbody>\n",
       "</table>\n",
       "</div>"
      ],
      "text/plain": [
       "     Location Loc  Population  MedianAgeMarriage  Marriage  Marriage SE  \\\n",
       "0     Alabama  AL        4.78               25.3      20.2         1.27   \n",
       "1      Alaska  AK        0.71               25.2      26.0         2.93   \n",
       "2     Arizona  AZ        6.33               25.8      20.3         0.98   \n",
       "3    Arkansas  AR        2.92               24.3      26.4         1.70   \n",
       "4  California  CA       37.25               26.8      19.1         0.39   \n",
       "\n",
       "   Divorce  Divorce SE  WaffleHouses  South  Slaves1860  Population1860  \\\n",
       "0     12.7        0.79           128      1      435080          964201   \n",
       "1     12.5        2.05             0      0           0               0   \n",
       "2     10.8        0.74            18      0           0               0   \n",
       "3     13.5        1.22            41      1      111115          435450   \n",
       "4      8.0        0.24             0      0           0          379994   \n",
       "\n",
       "   PropSlaves1860  \n",
       "0            0.45  \n",
       "1            0.00  \n",
       "2            0.00  \n",
       "3            0.26  \n",
       "4            0.00  "
      ]
     },
     "execution_count": 4,
     "metadata": {},
     "output_type": "execute_result"
    }
   ],
   "source": [
    "d.head()"
   ]
  },
  {
   "cell_type": "code",
   "execution_count": 5,
   "metadata": {},
   "outputs": [],
   "source": [
    "d['MedianAgeMarriage_s'] = (d.MedianAgeMarriage - d.MedianAgeMarriage.mean()) / d.MedianAgeMarriage.std()\n",
    "\n",
    "with pm.Model() as m5_1:\n",
    "    sigma = pm.Uniform('sigma', lower=0, upper=10)\n",
    "    \n",
    "    bA = pm.Normal('bA', mu=0, sd=1)\n",
    "    \n",
    "    a = pm.Normal('a', mu=10, sd=10)\n",
    "    \n",
    "    mu = pm.Deterministic('mu', a + bA * d.MedianAgeMarriage_s)\n",
    "    \n",
    "    Divorce = pm.Normal('Divorce', mu=mu, sd=sigma, observed=d.Divorce)\n",
    "    \n",
    "    trace_m5_1 = pm.sample(draws=1000, tune=1000)"
   ]
  },
  {
   "cell_type": "code",
   "execution_count": 16,
   "metadata": {},
   "outputs": [
    {
     "data": {
      "image/png": "[encoded data removed]",
      "text/plain": [
       "<Figure size 432x288 with 1 Axes>"
      ]
     },
     "metadata": {
      "needs_background": "light"
     },
     "output_type": "display_data"
    }
   ],
   "source": [
    "# Code 5.2\n",
    "MAM_seq = np.linspace(-3, 3.5, 30)\n",
    "mu = np.reshape(trace_m5_1['a'], (-1, 1)) + np.reshape(trace_m5_1['bA'], (-1, 1)) * np.reshape(MAM_seq, (1, -1))\n",
    "mu_PI = pm.hpd(mu, alpha=.11)\n",
    "mu_mean = mu.mean(axis=0)\n",
    "\n",
    "plt.scatter(x=d.MedianAgeMarriage_s, y=d.Divorce, alpha=.3);\n",
    "plt.plot(MAM_seq, mu_mean);\n",
    "plt.fill_between(x=MAM_seq, y1=mu_PI[:, 0], y2=mu_PI[:, 1], alpha=.3);"
   ]
  },
  {
   "cell_type": "code",
   "execution_count": 18,
   "metadata": {},
   "outputs": [],
   "source": [
    "varnames = ['bA', 'a', 'sigma']"
   ]
  },
  {
   "cell_type": "code",
   "execution_count": 19,
   "metadata": {},
   "outputs": [
    {
     "data": {
      "text/html": [
       "<div>\n",
       "<style scoped>\n",
       "    .dataframe tbody tr th:only-of-type {\n",
       "        vertical-align: middle;\n",
       "    }\n",
       "\n",
       "    .dataframe tbody tr th {\n",
       "        vertical-align: top;\n",
       "    }\n",
       "\n",
       "    .dataframe thead th {\n",
       "        text-align: right;\n",
       "    }\n",
       "</style>\n",
       "<table border=\"1\" class=\"dataframe\">\n",
       "  <thead>\n",
       "    <tr style=\"text-align: right;\">\n",
       "      <th></th>\n",
       "      <th>mean</th>\n",
       "      <th>sd</th>\n",
       "      <th>mc_error</th>\n",
       "      <th>hpd_2.5</th>\n",
       "      <th>hpd_97.5</th>\n",
       "      <th>n_eff</th>\n",
       "      <th>Rhat</th>\n",
       "    </tr>\n",
       "  </thead>\n",
       "  <tbody>\n",
       "    <tr>\n",
       "      <th>bA</th>\n",
       "      <td>-1.038823</td>\n",
       "      <td>0.218167</td>\n",
       "      <td>0.003869</td>\n",
       "      <td>-1.438348</td>\n",
       "      <td>-0.611611</td>\n",
       "      <td>2569.096534</td>\n",
       "      <td>1.000454</td>\n",
       "    </tr>\n",
       "    <tr>\n",
       "      <th>a</th>\n",
       "      <td>9.688426</td>\n",
       "      <td>0.209601</td>\n",
       "      <td>0.004726</td>\n",
       "      <td>9.275081</td>\n",
       "      <td>10.088179</td>\n",
       "      <td>2353.978188</td>\n",
       "      <td>1.000037</td>\n",
       "    </tr>\n",
       "    <tr>\n",
       "      <th>sigma</th>\n",
       "      <td>1.514978</td>\n",
       "      <td>0.155424</td>\n",
       "      <td>0.002958</td>\n",
       "      <td>1.232519</td>\n",
       "      <td>1.820205</td>\n",
       "      <td>2344.748869</td>\n",
       "      <td>0.999586</td>\n",
       "    </tr>\n",
       "  </tbody>\n",
       "</table>\n",
       "</div>"
      ],
      "text/plain": [
       "           mean        sd  mc_error   hpd_2.5   hpd_97.5        n_eff  \\\n",
       "bA    -1.038823  0.218167  0.003869 -1.438348  -0.611611  2569.096534   \n",
       "a      9.688426  0.209601  0.004726  9.275081  10.088179  2353.978188   \n",
       "sigma  1.514978  0.155424  0.002958  1.232519   1.820205  2344.748869   \n",
       "\n",
       "           Rhat  \n",
       "bA     1.000454  \n",
       "a      1.000037  \n",
       "sigma  0.999586  "
      ]
     },
     "execution_count": 19,
     "metadata": {},
     "output_type": "execute_result"
    }
   ],
   "source": [
    "pm.summary(trace_m5_1, varnames=varnames)"
   ]
  },
  {
   "cell_type": "code",
   "execution_count": 25,
   "metadata": {},
   "outputs": [
    {
     "name": "stderr",
     "output_type": "stream",
     "text": [
      "Auto-assigning NUTS sampler...\n",
      "Initializing NUTS using jitter+adapt_diag...\n",
      "Multiprocess sampling (2 chains in 2 jobs)\n",
      "NUTS: [a, bR, sigma]\n",
      "Sampling 2 chains: 100%|██████████| 4000/4000 [00:03<00:00, 1222.33draws/s]\n"
     ]
    }
   ],
   "source": [
    "# Code 5.3\n",
    "d['Marriage_s'] = (d.Marriage - d.Marriage.mean()) / d.Marriage.std()\n",
    "\n",
    "with pm.Model() as m5_2:\n",
    "    sigma = pm.Uniform('sigma', lower=0, upper=10)\n",
    "    \n",
    "    bR = pm.Normal('bR', mu=0, sd=1)\n",
    "    \n",
    "    a = pm.Normal('a', mu=10, sd=10)\n",
    "    \n",
    "    mu = pm.Deterministic('mu', a + bR * d.Marriage_s)\n",
    "    \n",
    "    Divorce = pm.Normal('Divorce', mu=mu, sd=sigma, observed=d.Divorce)\n",
    "    \n",
    "    trace_m5_2 = pm.sample(draws=1000, tune=1000)"
   ]
  },
  {
   "cell_type": "code",
   "execution_count": 26,
   "metadata": {},
   "outputs": [
    {
     "data": {
      "text/html": [
       "<div>\n",
       "<style scoped>\n",
       "    .dataframe tbody tr th:only-of-type {\n",
       "        vertical-align: middle;\n",
       "    }\n",
       "\n",
       "    .dataframe tbody tr th {\n",
       "        vertical-align: top;\n",
       "    }\n",
       "\n",
       "    .dataframe thead th {\n",
       "        text-align: right;\n",
       "    }\n",
       "</style>\n",
       "<table border=\"1\" class=\"dataframe\">\n",
       "  <thead>\n",
       "    <tr style=\"text-align: right;\">\n",
       "      <th></th>\n",
       "      <th>mean</th>\n",
       "      <th>sd</th>\n",
       "      <th>mc_error</th>\n",
       "      <th>hpd_2.5</th>\n",
       "      <th>hpd_97.5</th>\n",
       "      <th>n_eff</th>\n",
       "      <th>Rhat</th>\n",
       "    </tr>\n",
       "  </thead>\n",
       "  <tbody>\n",
       "    <tr>\n",
       "      <th>sigma</th>\n",
       "      <td>1.749005</td>\n",
       "      <td>0.184326</td>\n",
       "      <td>0.003506</td>\n",
       "      <td>1.388940</td>\n",
       "      <td>2.095807</td>\n",
       "      <td>2235.882688</td>\n",
       "      <td>0.999583</td>\n",
       "    </tr>\n",
       "    <tr>\n",
       "      <th>bR</th>\n",
       "      <td>0.639685</td>\n",
       "      <td>0.240040</td>\n",
       "      <td>0.004679</td>\n",
       "      <td>0.164433</td>\n",
       "      <td>1.099025</td>\n",
       "      <td>2639.975623</td>\n",
       "      <td>0.999509</td>\n",
       "    </tr>\n",
       "    <tr>\n",
       "      <th>a</th>\n",
       "      <td>9.685888</td>\n",
       "      <td>0.251515</td>\n",
       "      <td>0.004926</td>\n",
       "      <td>9.180704</td>\n",
       "      <td>10.163237</td>\n",
       "      <td>2495.343288</td>\n",
       "      <td>0.999508</td>\n",
       "    </tr>\n",
       "  </tbody>\n",
       "</table>\n",
       "</div>"
      ],
      "text/plain": [
       "           mean        sd  mc_error   hpd_2.5   hpd_97.5        n_eff  \\\n",
       "sigma  1.749005  0.184326  0.003506  1.388940   2.095807  2235.882688   \n",
       "bR     0.639685  0.240040  0.004679  0.164433   1.099025  2639.975623   \n",
       "a      9.685888  0.251515  0.004926  9.180704  10.163237  2495.343288   \n",
       "\n",
       "           Rhat  \n",
       "sigma  0.999583  \n",
       "bR     0.999509  \n",
       "a      0.999508  "
      ]
     },
     "execution_count": 26,
     "metadata": {},
     "output_type": "execute_result"
    }
   ],
   "source": [
    "pm.summary(trace_m5_2, varnames=['sigma', 'bR', 'a'])"
   ]
  },
  {
   "cell_type": "markdown",
   "metadata": {},
   "source": [
    "* median age of marriage has stronger association with divorce rate than the one that marriage rate has\n",
    "* however, does not answer which one is better predictor. they could have independent information, or be redundant or could eliminate each other\n",
    "* want to build multivariate model to determine partial value added by each predictor. in particular, question is **what is predictive value of variable once i know value of all variables?**\n",
    "* **rethinking: \"control\" is outside of control** this question often talked about as 'statistical control'. estimating effect of one variable while controlling for effect of another. however: sloppy language. implies causality ('effect') and dissasociation of predictors ('control'), neither of which is a fact in the model, even though it might be made by analyst. power of statistical methods does not extend to this, must be careful not to make this wrong impression, otherwise interpretation of results will also be based on wrong understanding\n",
    "\n",
    "### 5.1.1. multivariate notation\n",
    "* straightforward extension of univariate models, just add multiple parameters into formula for mean and add priors for their parameters for all of them\n",
    "* what does $\\mu_i = \\alpha + \\beta_R R_i + \\beta_A A_i$ mean? expected outcome for any state is sum of three independent terms. can be read as \"divorce rate can function of marriage rate ($R_i$) OR median marriage age ($A_i$)\". \"OR\" implies that both factors are independent\n",
    "* **overthinking: design matrix** **design matrix** = matrix of features with additional column of '1's in the beginning. used in equation $m = Xb$, where $m$ = predicted means (one for each row of data), $X$ = design matrix w/ one row per row of data, one col per predictor and extra '1' col and $b$ = col vector of parameters\n",
    "\n",
    "### 5.1.2. fitting the model\n",
    "* exactly as expected"
   ]
  },
  {
   "cell_type": "code",
   "execution_count": 27,
   "metadata": {},
   "outputs": [
    {
     "name": "stderr",
     "output_type": "stream",
     "text": [
      "Auto-assigning NUTS sampler...\n",
      "Initializing NUTS using jitter+adapt_diag...\n",
      "Multiprocess sampling (2 chains in 2 jobs)\n",
      "NUTS: [sigma, a, bA, bR]\n",
      "Sampling 2 chains: 100%|██████████| 4000/4000 [00:05<00:00, 776.41draws/s]\n"
     ]
    }
   ],
   "source": [
    "# Code 5.4\n",
    "with pm.Model() as m5_3:\n",
    "    bR = pm.Normal('bR', mu=0, sd=1)\n",
    "    bA = pm.Normal('bA', mu=0, sd=1)\n",
    "    a = pm.Normal('a', mu=10, sd=10)\n",
    "    mu = pm.Deterministic('mu', a + bR * d.Marriage_s + bA * d.MedianAgeMarriage_s)\n",
    "    \n",
    "    sigma = pm.Uniform('sigma', lower=0, upper=10)\n",
    "    \n",
    "    Divorce = pm.Normal('Divorce', mu=mu, sd=sigma, observed=d.Divorce)\n",
    "    \n",
    "    trace_m5_3 = pm.sample(draws=1000, tune=1000)"
   ]
  },
  {
   "cell_type": "code",
   "execution_count": 28,
   "metadata": {},
   "outputs": [
    {
     "data": {
      "text/html": [
       "<div>\n",
       "<style scoped>\n",
       "    .dataframe tbody tr th:only-of-type {\n",
       "        vertical-align: middle;\n",
       "    }\n",
       "\n",
       "    .dataframe tbody tr th {\n",
       "        vertical-align: top;\n",
       "    }\n",
       "\n",
       "    .dataframe thead th {\n",
       "        text-align: right;\n",
       "    }\n",
       "</style>\n",
       "<table border=\"1\" class=\"dataframe\">\n",
       "  <thead>\n",
       "    <tr style=\"text-align: right;\">\n",
       "      <th></th>\n",
       "      <th>mean</th>\n",
       "      <th>sd</th>\n",
       "      <th>mc_error</th>\n",
       "      <th>hpd_2.5</th>\n",
       "      <th>hpd_97.5</th>\n",
       "      <th>n_eff</th>\n",
       "      <th>Rhat</th>\n",
       "    </tr>\n",
       "  </thead>\n",
       "  <tbody>\n",
       "    <tr>\n",
       "      <th>bR</th>\n",
       "      <td>-0.111189</td>\n",
       "      <td>0.292416</td>\n",
       "      <td>0.008058</td>\n",
       "      <td>-0.658546</td>\n",
       "      <td>0.460271</td>\n",
       "      <td>1175.018517</td>\n",
       "      <td>1.000177</td>\n",
       "    </tr>\n",
       "    <tr>\n",
       "      <th>bA</th>\n",
       "      <td>-1.115233</td>\n",
       "      <td>0.295339</td>\n",
       "      <td>0.007973</td>\n",
       "      <td>-1.705425</td>\n",
       "      <td>-0.554056</td>\n",
       "      <td>1295.263341</td>\n",
       "      <td>0.999556</td>\n",
       "    </tr>\n",
       "    <tr>\n",
       "      <th>a</th>\n",
       "      <td>9.691552</td>\n",
       "      <td>0.220495</td>\n",
       "      <td>0.004993</td>\n",
       "      <td>9.227591</td>\n",
       "      <td>10.086638</td>\n",
       "      <td>1603.004835</td>\n",
       "      <td>0.999574</td>\n",
       "    </tr>\n",
       "    <tr>\n",
       "      <th>sigma</th>\n",
       "      <td>1.529497</td>\n",
       "      <td>0.163340</td>\n",
       "      <td>0.004119</td>\n",
       "      <td>1.233126</td>\n",
       "      <td>1.870195</td>\n",
       "      <td>1567.145286</td>\n",
       "      <td>1.002618</td>\n",
       "    </tr>\n",
       "  </tbody>\n",
       "</table>\n",
       "</div>"
      ],
      "text/plain": [
       "           mean        sd  mc_error   hpd_2.5   hpd_97.5        n_eff  \\\n",
       "bR    -0.111189  0.292416  0.008058 -0.658546   0.460271  1175.018517   \n",
       "bA    -1.115233  0.295339  0.007973 -1.705425  -0.554056  1295.263341   \n",
       "a      9.691552  0.220495  0.004993  9.227591  10.086638  1603.004835   \n",
       "sigma  1.529497  0.163340  0.004119  1.233126   1.870195  1567.145286   \n",
       "\n",
       "           Rhat  \n",
       "bR     1.000177  \n",
       "bA     0.999556  \n",
       "a      0.999574  \n",
       "sigma  1.002618  "
      ]
     },
     "execution_count": 28,
     "metadata": {},
     "output_type": "execute_result"
    }
   ],
   "source": [
    "pm.summary(trace_m5_3, varnames=['bR', 'bA', 'a', 'sigma'])"
   ]
  },
  {
   "cell_type": "code",
   "execution_count": null,
   "metadata": {},
   "outputs": [],
   "source": []
  },
  {
   "cell_type": "code",
   "execution_count": 68,
   "metadata": {},
   "outputs": [],
   "source": [
    "params = ['sigma', 'bA', 'bR', 'a']"
   ]
  },
  {
   "cell_type": "code",
   "execution_count": 91,
   "metadata": {},
   "outputs": [
    {
     "data": {
      "image/png": "[encoded data removed]",
      "text/plain": [
       "<Figure size 576x396 with 1 Axes>"
      ]
     },
     "metadata": {},
     "output_type": "display_data"
    }
   ],
   "source": [
    "# Code 5.5\n",
    "plt.style.use('seaborn-notebook')\n",
    "fig, ax = plt.subplots()\n",
    "# ax.plot([1, 2, 3], [1, 2, 3])\n",
    "ax.set(xlabel='Value', ylabel='Parameter')\n",
    "ax.set_xlim(-2, 10)\n",
    "ax.set_ylim(0, 5)\n",
    "ax.set_yticks([1, 2, 3, 4])\n",
    "ax.set_yticklabels(params)\n",
    "for ix, pname in enumerate(params):\n",
    "    ax.plot(trace_m5_3[pname].mean(), ix+1, 'ob')\n",
    "    hpd_boundaries = pm.hpd(trace_m5_3[pname], alpha=.11)\n",
    "    ax.plot(hpd_boundaries, [ix+1, ix+1], '-b')"
   ]
  },
  {
   "cell_type": "code",
   "execution_count": 86,
   "metadata": {},
   "outputs": [
    {
     "data": {
      "text/plain": [
       "array([9.64769616, 9.69837857])"
      ]
     },
     "execution_count": 86,
     "metadata": {},
     "output_type": "execute_result"
    }
   ],
   "source": [
    "hpd_boundaries"
   ]
  },
  {
   "cell_type": "code",
   "execution_count": 75,
   "metadata": {},
   "outputs": [
    {
     "data": {
      "text/plain": [
       "('full', 'left', 'right', 'bottom', 'top', 'none')"
      ]
     },
     "execution_count": 75,
     "metadata": {},
     "output_type": "execute_result"
    }
   ],
   "source": [
    "from matplotlib.lines import Line2D\n",
    "Line2D.fillStyles"
   ]
  },
  {
   "cell_type": "code",
   "execution_count": 57,
   "metadata": {},
   "outputs": [],
   "source": [
    "xaxis = ax.get_xaxis()"
   ]
  },
  {
   "cell_type": "code",
   "execution_count": null,
   "metadata": {},
   "outputs": [],
   "source": [
    "xaxis.set"
   ]
  },
  {
   "cell_type": "code",
   "execution_count": 38,
   "metadata": {},
   "outputs": [
    {
     "name": "stdout",
     "output_type": "stream",
     "text": [
      "['seaborn-dark', 'seaborn-darkgrid', 'seaborn-ticks', 'fivethirtyeight', 'seaborn-whitegrid', 'classic', '_classic_test', 'fast', 'seaborn-talk', 'seaborn-dark-palette', 'seaborn-bright', 'seaborn-pastel', 'grayscale', 'seaborn-notebook', 'ggplot', 'seaborn-colorblind', 'seaborn-muted', 'seaborn', 'Solarize_Light2', 'seaborn-paper', 'bmh', 'tableau-colorblind10', 'seaborn-white', 'dark_background', 'seaborn-poster', 'seaborn-deep']\n"
     ]
    }
   ],
   "source": [
    "print(plt.style.available)\n"
   ]
  },
  {
   "cell_type": "code",
   "execution_count": null,
   "metadata": {},
   "outputs": [],
   "source": []
  }
 ],
 "metadata": {
  "kernelspec": {
   "display_name": "Python 3",
   "language": "python",
   "name": "python3"
  },
  "language_info": {
   "codemirror_mode": {
    "name": "ipython",
    "version": 3
   },
   "file_extension": ".py",
   "mimetype": "text/x-python",
   "name": "python",
   "nbconvert_exporter": "python",
   "pygments_lexer": "ipython3",
   "version": "3.7.0"
  }
 },
 "nbformat": 4,
 "nbformat_minor": 2
}
