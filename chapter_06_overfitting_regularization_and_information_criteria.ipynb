{
 "cells": [
  {
   "cell_type": "code",
   "execution_count": 1,
   "metadata": {},
   "outputs": [],
   "source": [
    "# to suppress futurewarnings caused by pandas and other libraries not updating their numpy interface codes\n",
    "# apparently has to come before these import, so leave this on top\n",
    "import warnings\n",
    "warnings.simplefilter(action='ignore', category=FutureWarning)\n",
    "\n",
    "import numpy as np\n",
    "import matplotlib.pyplot as plt\n",
    "import pymc3 as pm\n",
    "import scipy.stats as stats\n",
    "import pandas as pd\n",
    "import seaborn as sns\n",
    "import statsmodels.formula.api as smf\n",
    "import string\n",
    "import theano\n",
    "\n",
    "# %matplotlib inline"
   ]
  },
  {
   "cell_type": "markdown",
   "metadata": {},
   "source": [
    "# 6 Overfitting, Regularization, and Information Criteria\n",
    "\n",
    "**Ockham's Razor** making aesthetic/pragmatic preferenc for simpler model more explicit: prefer models w/ fewer assumptions. For same performance, choose simpler model. But what to do for different trade-offs in terms of simplicity vs accuracy? Content of this chapter.\n",
    "\n",
    "Fundamental trade-off between **overfitting**, poor prediction by learning too much, and **underfitting**, poor prediction by learning too little. Need to navigate space in-between.\n",
    "\n",
    "Methods to tackle: \n",
    "\n",
    "* **regularizing prior**, same as penalized likelihood in frequentist term, learn less from data\n",
    "* **infromation criteria** to score models\n",
    "\n",
    "**rethinking: stargazing.** common method of model selection: pick model with highest number of significant coefficients. but: p-values not designed to make under-/overfitting trade-off. helpful coeff. can be non-significant, significant coeff. can be unhelpful.\n",
    "\n",
    "**rethinking: is aic bayesian?** not originally derived and often not seen as such, but can be interpreted as special limit of bayes. criterion like WAIC. example of common phenomenon in stats: same procedure can be dried and justified from multiple, sometimes philosophically incompatible perspectives.\n",
    "\n",
    "## 6.1. the problem with parameters\n",
    "\n",
    "Previous chapter: adding parameters can be helpful by revealing hidding effects. also, adding parameters can hurt if parameters are highly correlated. how about case of adding non-highly-correlated parameters? also not always safe.\n",
    "\n",
    "two main problems:\n",
    "\n",
    "* adding parameters nearly always makes model fit better, i.e. reduces train error. McElreath mentions $R^2$ or 'variance explained' metric. Increased for more predictor variables, even if they are random numbers. **understand 'variance explained', intuitive meaning unclear**\n",
    "* more complex models often have better fit, but worse predictions on unseen data = overfit! but simple models tend to underfit. no simple answer, need to make trade-off.\n",
    "\n",
    "### 6.1.1. more parameters always improve fit\n",
    "\n",
    "Overfitting = learning too much from data\n",
    "\n",
    "* regular features: useful, generalize well or inform about quesiton of interest\n",
    "* irrregular features: misguiding, aspects of data that do not generalize"
   ]
  },
  {
   "cell_type": "code",
   "execution_count": 2,
   "metadata": {},
   "outputs": [
    {
     "data": {
      "text/html": [
       "<div>\n",
       "<style scoped>\n",
       "    .dataframe tbody tr th:only-of-type {\n",
       "        vertical-align: middle;\n",
       "    }\n",
       "\n",
       "    .dataframe tbody tr th {\n",
       "        vertical-align: top;\n",
       "    }\n",
       "\n",
       "    .dataframe thead th {\n",
       "        text-align: right;\n",
       "    }\n",
       "</style>\n",
       "<table border=\"1\" class=\"dataframe\">\n",
       "  <thead>\n",
       "    <tr style=\"text-align: right;\">\n",
       "      <th></th>\n",
       "      <th>brain</th>\n",
       "      <th>mass</th>\n",
       "    </tr>\n",
       "    <tr>\n",
       "      <th>species</th>\n",
       "      <th></th>\n",
       "      <th></th>\n",
       "    </tr>\n",
       "  </thead>\n",
       "  <tbody>\n",
       "    <tr>\n",
       "      <th>afarensis</th>\n",
       "      <td>438</td>\n",
       "      <td>37.0</td>\n",
       "    </tr>\n",
       "    <tr>\n",
       "      <th>africanus</th>\n",
       "      <td>452</td>\n",
       "      <td>35.5</td>\n",
       "    </tr>\n",
       "    <tr>\n",
       "      <th>habilis</th>\n",
       "      <td>612</td>\n",
       "      <td>34.5</td>\n",
       "    </tr>\n",
       "    <tr>\n",
       "      <th>boisei</th>\n",
       "      <td>521</td>\n",
       "      <td>41.5</td>\n",
       "    </tr>\n",
       "    <tr>\n",
       "      <th>rudolfensis</th>\n",
       "      <td>752</td>\n",
       "      <td>55.5</td>\n",
       "    </tr>\n",
       "    <tr>\n",
       "      <th>ergaster</th>\n",
       "      <td>871</td>\n",
       "      <td>61.0</td>\n",
       "    </tr>\n",
       "    <tr>\n",
       "      <th>sapiens</th>\n",
       "      <td>1350</td>\n",
       "      <td>53.5</td>\n",
       "    </tr>\n",
       "  </tbody>\n",
       "</table>\n",
       "</div>"
      ],
      "text/plain": [
       "             brain  mass\n",
       "species                 \n",
       "afarensis      438  37.0\n",
       "africanus      452  35.5\n",
       "habilis        612  34.5\n",
       "boisei         521  41.5\n",
       "rudolfensis    752  55.5\n",
       "ergaster       871  61.0\n",
       "sapiens       1350  53.5"
      ]
     },
     "execution_count": 2,
     "metadata": {},
     "output_type": "execute_result"
    }
   ],
   "source": [
    "# Code 6.1\n",
    "\n",
    "data = {'species' : ['afarensis', 'africanus', 'habilis', 'boisei', 'rudolfensis', 'ergaster', 'sapiens'],\n",
    "'brain' : [438, 452, 612, 521, 752, 871, 1350],\n",
    "'mass' : [37., 35.5, 34.5, 41.5, 55.5, 61.0, 53.5]}\n",
    "d = pd.DataFrame(data).set_index('species')\n",
    "d"
   ]
  },
  {
   "cell_type": "markdown",
   "metadata": {},
   "source": [
    "Q: assuming that brain size is generally correlated w/ body mass, which species have unexpectedly large brains for their body mass?\n",
    "\n",
    "Common strategy: 'statistical control'. Fit lin. reg. between those two vars. Residuals of predicting brain vol from body mass = unexplained variance = come from other factors = unexpectedly high/low.\n",
    "\n",
    "But: why lin. reg.? Why line? Might be some curve relating body mass to brain vol. Why not use residuals of that regression? That could be how things are in nature.\n",
    "\n",
    "Fit increasingly complex models, observe fit."
   ]
  },
  {
   "cell_type": "code",
   "execution_count": 3,
   "metadata": {},
   "outputs": [],
   "source": [
    "# Code 6.2\n",
    "\n",
    "m_6_1 = smf.ols('brain ~ mass', data=d).fit()"
   ]
  },
  {
   "cell_type": "markdown",
   "metadata": {},
   "source": [
    "inspect $R^2$ of model. variance 'explained' by model = lin model predicts some variation of training data. remaining variation = variation of residuals"
   ]
  },
  {
   "cell_type": "code",
   "execution_count": 4,
   "metadata": {},
   "outputs": [
    {
     "data": {
      "text/plain": [
       "0.490158047949084"
      ]
     },
     "execution_count": 4,
     "metadata": {},
     "output_type": "execute_result"
    }
   ],
   "source": [
    "# Code 6.3\n",
    "\n",
    "1 - m_6_1.resid.var() / d.brain.var()"
   ]
  },
  {
   "cell_type": "code",
   "execution_count": 5,
   "metadata": {},
   "outputs": [
    {
     "data": {
      "text/plain": [
       "0.490158047949084"
      ]
     },
     "execution_count": 5,
     "metadata": {},
     "output_type": "execute_result"
    }
   ],
   "source": [
    "# my own comparison: \n",
    "m_6_1.rsquared"
   ]
  },
  {
   "cell_type": "code",
   "execution_count": 6,
   "metadata": {},
   "outputs": [
    {
     "name": "stderr",
     "output_type": "stream",
     "text": [
      "/anaconda3/envs/rethinking_statistics/lib/python3.7/site-packages/statsmodels/stats/stattools.py:72: ValueWarning: omni_normtest is not valid with less than 8 observations; 7 samples were given.\n",
      "  \"samples were given.\" % int(n), ValueWarning)\n"
     ]
    },
    {
     "data": {
      "text/html": [
       "<table class=\"simpletable\">\n",
       "<caption>OLS Regression Results</caption>\n",
       "<tr>\n",
       "  <th>Dep. Variable:</th>          <td>brain</td>      <th>  R-squared:         </th> <td>   0.490</td>\n",
       "</tr>\n",
       "<tr>\n",
       "  <th>Model:</th>                   <td>OLS</td>       <th>  Adj. R-squared:    </th> <td>   0.388</td>\n",
       "</tr>\n",
       "<tr>\n",
       "  <th>Method:</th>             <td>Least Squares</td>  <th>  F-statistic:       </th> <td>   4.807</td>\n",
       "</tr>\n",
       "<tr>\n",
       "  <th>Date:</th>             <td>Mon, 25 Mar 2019</td> <th>  Prob (F-statistic):</th>  <td>0.0798</td> \n",
       "</tr>\n",
       "<tr>\n",
       "  <th>Time:</th>                 <td>16:30:20</td>     <th>  Log-Likelihood:    </th> <td> -47.462</td>\n",
       "</tr>\n",
       "<tr>\n",
       "  <th>No. Observations:</th>      <td>     7</td>      <th>  AIC:               </th> <td>   98.92</td>\n",
       "</tr>\n",
       "<tr>\n",
       "  <th>Df Residuals:</th>          <td>     5</td>      <th>  BIC:               </th> <td>   98.82</td>\n",
       "</tr>\n",
       "<tr>\n",
       "  <th>Df Model:</th>              <td>     1</td>      <th>                     </th>     <td> </td>   \n",
       "</tr>\n",
       "<tr>\n",
       "  <th>Covariance Type:</th>      <td>nonrobust</td>    <th>                     </th>     <td> </td>   \n",
       "</tr>\n",
       "</table>\n",
       "<table class=\"simpletable\">\n",
       "<tr>\n",
       "      <td></td>         <th>coef</th>     <th>std err</th>      <th>t</th>      <th>P>|t|</th>  <th>[0.025</th>    <th>0.975]</th>  \n",
       "</tr>\n",
       "<tr>\n",
       "  <th>Intercept</th> <td> -227.6287</td> <td>  439.794</td> <td>   -0.518</td> <td> 0.627</td> <td>-1358.154</td> <td>  902.897</td>\n",
       "</tr>\n",
       "<tr>\n",
       "  <th>mass</th>      <td>   20.6889</td> <td>    9.436</td> <td>    2.192</td> <td> 0.080</td> <td>   -3.568</td> <td>   44.946</td>\n",
       "</tr>\n",
       "</table>\n",
       "<table class=\"simpletable\">\n",
       "<tr>\n",
       "  <th>Omnibus:</th>       <td>   nan</td> <th>  Durbin-Watson:     </th> <td>   1.561</td>\n",
       "</tr>\n",
       "<tr>\n",
       "  <th>Prob(Omnibus):</th> <td>   nan</td> <th>  Jarque-Bera (JB):  </th> <td>   2.372</td>\n",
       "</tr>\n",
       "<tr>\n",
       "  <th>Skew:</th>          <td> 1.399</td> <th>  Prob(JB):          </th> <td>   0.305</td>\n",
       "</tr>\n",
       "<tr>\n",
       "  <th>Kurtosis:</th>      <td> 3.548</td> <th>  Cond. No.          </th> <td>    215.</td>\n",
       "</tr>\n",
       "</table><br/><br/>Warnings:<br/>[1] Standard Errors assume that the covariance matrix of the errors is correctly specified."
      ],
      "text/plain": [
       "<class 'statsmodels.iolib.summary.Summary'>\n",
       "\"\"\"\n",
       "                            OLS Regression Results                            \n",
       "==============================================================================\n",
       "Dep. Variable:                  brain   R-squared:                       0.490\n",
       "Model:                            OLS   Adj. R-squared:                  0.388\n",
       "Method:                 Least Squares   F-statistic:                     4.807\n",
       "Date:                Mon, 25 Mar 2019   Prob (F-statistic):             0.0798\n",
       "Time:                        16:30:20   Log-Likelihood:                -47.462\n",
       "No. Observations:                   7   AIC:                             98.92\n",
       "Df Residuals:                       5   BIC:                             98.82\n",
       "Df Model:                           1                                         \n",
       "Covariance Type:            nonrobust                                         \n",
       "==============================================================================\n",
       "                 coef    std err          t      P>|t|      [0.025      0.975]\n",
       "------------------------------------------------------------------------------\n",
       "Intercept   -227.6287    439.794     -0.518      0.627   -1358.154     902.897\n",
       "mass          20.6889      9.436      2.192      0.080      -3.568      44.946\n",
       "==============================================================================\n",
       "Omnibus:                          nan   Durbin-Watson:                   1.561\n",
       "Prob(Omnibus):                    nan   Jarque-Bera (JB):                2.372\n",
       "Skew:                           1.399   Prob(JB):                        0.305\n",
       "Kurtosis:                       3.548   Cond. No.                         215.\n",
       "==============================================================================\n",
       "\n",
       "Warnings:\n",
       "[1] Standard Errors assume that the covariance matrix of the errors is correctly specified.\n",
       "\"\"\""
      ]
     },
     "execution_count": 6,
     "metadata": {},
     "output_type": "execute_result"
    }
   ],
   "source": [
    "m_6_1.summary()"
   ]
  },
  {
   "cell_type": "code",
   "execution_count": 7,
   "metadata": {},
   "outputs": [],
   "source": [
    "# Code 6.4\n",
    "\n",
    "m_6_2 = smf.ols('brain ~ mass + I(mass**2)', data=d).fit()"
   ]
  },
  {
   "cell_type": "code",
   "execution_count": 8,
   "metadata": {},
   "outputs": [],
   "source": [
    "# Code 6.5\n",
    "\n",
    "m_6_3 = smf.ols('brain ~ mass + I(mass**2) + I(mass**3)', data=d).fit()\n",
    "m_6_4 = smf.ols('brain ~ mass + I(mass**2) + I(mass**3) + I(mass**4)', data=d).fit()\n",
    "m_6_5 = smf.ols('brain ~ mass + I(mass**2) + I(mass**3) + I(mass**4) + I(mass**5)', data=d).fit()\n",
    "m_6_6 = smf.ols('brain ~ mass + I(mass**2) + I(mass**3) + I(mass**4) + I(mass**5) + I(mass**6)', data=d).fit()"
   ]
  },
  {
   "cell_type": "markdown",
   "metadata": {},
   "source": [
    "higher degree of polynomial = better fit, until 0 residuals for 6th degree, $R^2 = 1$\n",
    "\n",
    "however: absurd model. curve follows all data points, but pays no price for absurd predictions like negative brain mass in areas without dat\n",
    "\n",
    "reason: n params = n data points. use unique parameter to remember each datum.\n",
    "\n",
    "**rethinking: model fitting as compression.** model fitting can be seen as data compression. parameters = summarize relationship among data in lossy way. use params to generate new data = decompress. if n params == n data points then no compression, just encoding in different way. consequence: learn nothing. need to use simpler model, but not too simpel. known as minimum description length.\n",
    "\n",
    "### 6.1.2. too few parameters hurs, too\n",
    "\n",
    "overfitting: low train error, high test error\n",
    "\n",
    "underfitting: high train and test error. learned too little."
   ]
  },
  {
   "cell_type": "code",
   "execution_count": 9,
   "metadata": {},
   "outputs": [],
   "source": [
    "# Code 6.6\n",
    "\n",
    "m_6_7 = smf.ols('brain ~ 1', data=d).fit()"
   ]
  },
  {
   "cell_type": "markdown",
   "metadata": {},
   "source": [
    "estimate mean brain volume without considering brain mass = regression is horizontal line with wide confidence region. bad for seen and unseen data\n",
    "\n",
    "underfit model = under-sensitive to data, changes too little based on seen data (inflexible)\n",
    "overfit model = over-sensitive to data, changes too much based on seen data (volatile)\n",
    "\n",
    "**overthinking: dropping rows.**"
   ]
  },
  {
   "cell_type": "code",
   "execution_count": 10,
   "metadata": {},
   "outputs": [],
   "source": [
    "# Code 6.7\n",
    "\n",
    "d_new = d.drop(d.index[0])"
   ]
  },
  {
   "cell_type": "code",
   "execution_count": 11,
   "metadata": {},
   "outputs": [
    {
     "data": {
      "image/png": "[encoded data removed]",
      "text/plain": [
       "<Figure size 432x288 with 1 Axes>"
      ]
     },
     "metadata": {
      "needs_background": "light"
     },
     "output_type": "display_data"
    }
   ],
   "source": [
    "# Code 6.8\n",
    "ax = d.plot.line(x='mass', y='brain', style=['ob'], fillstyle='none', mew=1)\n",
    "\n",
    "for i in range(d.index.size):\n",
    "    d_new = d.drop(d.index[i])\n",
    "\n",
    "    m_0 = smf.ols('brain ~ mass', data=d_new).fit()\n",
    "\n",
    "    x_pred = np.linspace(d_new.mass.min() -5, d_new.mass.max() + 5, 50)\n",
    "    y_pred = m_0.params.Intercept + m_0.params.mass * x_pred\n",
    "\n",
    "    ax.plot(x_pred, y_pred, alpha=.3);"
   ]
  },
  {
   "cell_type": "markdown",
   "metadata": {},
   "source": [
    "**rethinking: bias and variance.** underfitting/overfitting also caused bias problems / variance problems. confusing nomenclature as these terms heavily overloaded in different contexts. also, increasing bias can improve predictions for unseen data."
   ]
  },
  {
   "cell_type": "markdown",
   "metadata": {},
   "source": [
    "## 6.2. information theory and model performance\n",
    "\n",
    "Define what model needs to do well at: target. Proposed here: out-of-sample deviance\n",
    "\n",
    "### 6.2.1. firing the weatherperson\n",
    "\n",
    "Define target needs at least:\n",
    "\n",
    "* cost-benefit. cost of wrong prediction, value of correct prediction\n",
    "* performance in context. how good could a model be for this task?\n",
    "\n",
    "#### 6.1.1.1. costs and benefits\n",
    "\n",
    "different decision about better model for different cost/benefit analysis\n",
    "\n",
    "#### 6.1.1.2. measuring accuracy\n",
    "\n",
    "even if ignoring cost/benefit unclear which measure of accuracy to use. \n",
    "\n",
    "McElreath: joint probability is correct measure. reason: currectly counts up relative nr of ways each event could happen = likelihood in B's theorem. **revisit likelihood, model definition, model structure of earlier chapters**\n",
    "\n",
    "\"maximizing joint probability will identify right model\" **what does right model mean?**\n",
    "\n",
    "how to measure performance? should account for difficulty of task. ex: if adding more categories, task becomes harder.\n",
    "\n",
    "**rethinking: what is a true model?** real world = deterministic. if all info was known, predictions would not be probabilities but just 1/0 for rain vs sunshine. but: we are ignorant of some information. 'right' = correct probabilities given our state of ignorance. \"probability is in the model, not in the world\". **but then, is each model a true model given its own assumptions of ignorance? unclear, discuss.**\n",
    "\n",
    "### 6.2.2. information theory and uncertainty\n",
    "\n",
    "information = reduction in uncertainty through learning an outcome\n",
    "\n",
    "define: f(probability of rain) -> uncertainty\n",
    "\n",
    "measure of uncertainty should be \n",
    "\n",
    "* continuous\n",
    "* increasing for more events\n",
    "* additive\n",
    "\n",
    "exactly one f() satisfying all criteria: information entropy.\n",
    "\n",
    "$$\n",
    "H(p) = -E \\log (p_i) = - \\sum_{i=1}^n p_i \\log (p_i)\n",
    "$$\n",
    "\n",
    "read: \"uncertainty in a probability distribution is the average log-probability of an event\"\n",
    "\n",
    "McElreath does not explain derivation, but points out: all parts of definition are there for a reason, to satisfy requirements listed above. However, above all, information entropy being used b/c it's proven to be very productive and useful.\n",
    "\n",
    "ex. on page illustrates: entropy of weather for Abu Dhabi much lower, as weather very uniform, thus low uncertainty. If adding 'snow' as weather condition: entropy/uncertainty increases.\n",
    "\n",
    "code for calculating entropy for one example:"
   ]
  },
  {
   "cell_type": "code",
   "execution_count": 12,
   "metadata": {},
   "outputs": [
    {
     "data": {
      "text/plain": [
       "0.6108643020548935"
      ]
     },
     "execution_count": 12,
     "metadata": {},
     "output_type": "execute_result"
    }
   ],
   "source": [
    "## Code 6.9\n",
    "\n",
    "p = np.array([0.3, 0.7])\n",
    "- np.sum((p * np.log(p)))"
   ]
  },
  {
   "cell_type": "markdown",
   "metadata": {},
   "source": [
    "**overthinking: more on entropy.** \n",
    "* \"-1\" in definition above customary but not necessary. leads to entropy increase from zero instead of decrease from one. \n",
    "* base of logarithm arbitrary, as long as same based used for all comparisons\n",
    "* how to deal with 0-probabilty events? drop out. assume that $0 \\log(0) = 0$. \"not a trick but not obvious\". remember: no sense to keep event that never happens in model.\n",
    "\n",
    "**rethinking: the benefits of maximizing uncertainty** maximum entropy (maxent) = family of techniques for finding prob. distr. most consistent w/ current knowledge. given current knowledge, what distr. is least surprising? will be used to build GLMs later.\n",
    "\n",
    "### 6.2.3. from entropy to accuracy\n",
    "\n",
    "**discuss: entropy is way of quantifying uncertainty. but why is that necessary? already had probabilities around parameters to quantifiy uncertainty?**\n",
    "\n",
    "How to use info entropy to measure model perf in distance from optimum? Divergence!\n",
    "\n",
    "Divergence = \"the additional uncertainty induced by using probabilities from one distribution to describe another distribution\" = Kullback-Leibler divergence = K-L divergence\n",
    "\n",
    "divergence(p,q) = KL(p,q) = \"average difference in log proability between target p and model q\"\n",
    "\n",
    "difference of entropies: \"entropy of target p and cross entropy of using q to predict p\"\n",
    "\n",
    "true probabilities = p\n",
    "approximation = q\n",
    "\n",
    "KL(p,q) = 0 iff p = q\n",
    "KL(p,q) > 0 otherwise\n",
    "\n",
    "grows the more q is different from p\n",
    "\n",
    "**overthinking: cross entropy and divergence.** cross entropy: events arise according to p, but are expected according to q, inflating uncertainty. \n",
    "\n",
    "$$H(p,q) = - \\sum_i p_i \\log(q_i)$$ \n",
    "\n",
    "Divergence = additional uncertainty due to cross entropy, thus \n",
    "\n",
    "$$KL(p,q) = H(p,q) - H(p)$$\n",
    "\n",
    "**rethinking: divergence depends upon direction.** my intuition: high entropy distribution = lots of ignorance = don't know what to expect, no event much more likely than others. use this to predict other distribution means we won't be super surprised by any outcome. \n",
    "\n",
    "flip side: low entropy distribution = lots of expectations = some events are much more likely than others. if we use low entropy distribution to predict other distribution and they don't match well: very surprised by outcome, high divergence. outcome has high information value?\n",
    "\n",
    "### 6.2.4. from divergence to deviance\n",
    "Know how to measure distance from true probability distr. $p$. But how to use in practice when $p$ is unknown? (wouldn't need to find model otherwise)\n",
    "\n",
    "Solution: don't know distance from $p$, but can know whether $q$ or $r$ is relatively closer. Deviance as relative measure.\n",
    "\n",
    "Summing log probabilities for each observed case gives approx of $E\\log(q_i)$\n",
    "\n",
    "Don't need to know $p$ in expectation term \"because nature takes care of presenting the events to us\". **what does that mean?**\n",
    "\n",
    "absolute magnitude of deviance not meaningful, only difference between models is\n",
    "\n",
    "deviance = \n",
    "\n",
    "$$\n",
    "D(q) = -2 \\sum_i \\log(q_i)\n",
    "$$\n",
    "\n",
    "$i$ = case index, $q_i$ = likelihood of case $i$. divergence scales w/ sample size.\n",
    "\n",
    "calc deviance by computing log-prop of observed data given MAP param estimates"
   ]
  },
  {
   "cell_type": "code",
   "execution_count": 13,
   "metadata": {},
   "outputs": [
    {
     "data": {
      "text/plain": [
       "94.92498968588757"
      ]
     },
     "execution_count": 13,
     "metadata": {},
     "output_type": "execute_result"
    }
   ],
   "source": [
    "# Code 6.10\n",
    "\n",
    "m_6_1 = smf.ols('brain ~ mass', data=d).fit()\n",
    "\n",
    "-2 * m_6_1.llf"
   ]
  },
  {
   "cell_type": "markdown",
   "metadata": {},
   "source": [
    "uncertainty about params -> uncertainty about deviance. for fixed set of params deviance also fixed"
   ]
  },
  {
   "cell_type": "markdown",
   "metadata": {},
   "source": [
    "**overthinking: computing deviance.**"
   ]
  },
  {
   "cell_type": "code",
   "execution_count": 14,
   "metadata": {},
   "outputs": [
    {
     "name": "stderr",
     "output_type": "stream",
     "text": [
      "Auto-assigning NUTS sampler...\n",
      "Initializing NUTS using jitter+adapt_diag...\n",
      "Multiprocess sampling (2 chains in 2 jobs)\n",
      "NUTS: [sigma, b, a]\n",
      "Sampling 2 chains: 100%|██████████| 14000/14000 [00:11<00:00, 1185.86draws/s]\n"
     ]
    }
   ],
   "source": [
    "# Code 6.11\n",
    "\n",
    "d['mass_s'] = (d.mass - d.mass.mean()) / d.mass.std()\n",
    "\n",
    "with pm.Model() as m_6_8 :\n",
    "    a = pm.Normal('a', mu=np.mean(d['brain']), sd=10)\n",
    "    b = pm.Normal('b', mu=0, sd=10)\n",
    "    \n",
    "    # why '*10'?\n",
    "    sigma = pm.Uniform('sigma', 0, np.std(d['brain']) * 10)\n",
    "    \n",
    "    mu = pm.Deterministic('mu', a + b * d['mass_s'])\n",
    "    \n",
    "    brain = pm.Normal('brain', mu = mu, sd = sigma, observed = d['brain'])\n",
    "    \n",
    "    m_6_8 = pm.sample(2000, tune=5000)\n",
    "\n",
    "theta = pm.summary(m_6_8).loc[['a', 'b', 'sigma'], 'mean']\n",
    "theta\n",
    "\n",
    "dev = -2 * np.sum(stats.norm.logpdf(\n",
    "    x = d['brain'], \n",
    "    loc = theta['a'] + theta['b'] * d['mass_s'], \n",
    "    scale = theta['sigma']\n",
    "))\n",
    "dev"
   ]
  },
  {
   "cell_type": "markdown",
   "metadata": {},
   "source": [
    "### 6.2.5. from deviance to out-of-sample\n",
    "\n",
    "Train deviance always improves for more complex model. Care about test (out-of-sample) deviance.\n",
    "\n",
    "On average: test deviance will be worse than train deviance. However, can be reversed for an given train/test set. Any given training sample may be very misleading. Any given test sample might be highly non-representative. Don't test one sample too much. No guarantees in statistical inference.\n",
    "\n",
    "\"True\" model might behave worse than other models due to those effects.\n",
    "\n",
    "Conclusion: deviance on train data improves with more complex models. Deviance on test data might or might not, depending on actual data generation process and amount of train data available.\n",
    "\n",
    "**Overthinking: simulated training and testing.** all R stuff, skip"
   ]
  },
  {
   "cell_type": "code",
   "execution_count": 17,
   "metadata": {},
   "outputs": [],
   "source": [
    "# Code 6.12\n",
    "# Code 6.13\n",
    "# Code 6.14\n",
    "\n",
    "# R stuff, does not seem useful to replicate"
   ]
  },
  {
   "cell_type": "markdown",
   "metadata": {},
   "source": [
    "## 6.3 regularization\n",
    "\n",
    "root cause of overfitting: model trusting training data too much. flat prior = all param values equally likely = model makes posterior that fits training data (through likelihood function) as much as possible\n",
    "\n",
    "one solution: regularizing prior, slowing rate of learning from train data.\n",
    "\n",
    "reg. prior requires tuning. too much reg. means model doesn't learn from useful features. too little means it learns from noise features.\n",
    "\n",
    "no prior is optimal, \"doing better is all we can hope for\"\n",
    "\n",
    "example: use prior of Normal(0, 1) for model coefficient, encodes belief that values greater than 2 or smaller than -2 are pretty unlikely. make more skeptical by giving smaller std dev, e.g. Normal(0, 0.5). \n",
    "\n",
    "how strong? depends on data and model.\n",
    "\n",
    "the more data, the smaller effect of prior\n",
    "\n",
    "how to pick strenght of regularization? if enough data: split into train/test and use that to tune, picking settings with lowest test deviance. essentially cross validation.\n",
    "\n",
    "if not enough data available to split into train/test: information criteria (next chapter)\n",
    "\n",
    "**rethinking: multilevel-models as adaptive regularization.** multilevel models learn strength of priors from data. can be seen as adaptive regularization.\n",
    "\n",
    "**rethinking: rdige regression.** lin. models with Gaussian priors having 0 mean also called ridge regression. typically takes param to tune strenght of regularization. ridge regression does not compute posteriors, but includes reg. parameter into closed-form algebra solution for least squares approach. however, can also be seen as bayesian. another example of seeing one method from two perspectives."
   ]
  },
  {
   "cell_type": "markdown",
   "metadata": {},
   "source": [
    "## 6.4. information criteria\n",
    "\n",
    "information criteria: provide estimate of out-of-sample deviance for model.\n",
    "\n",
    "best-known criterion: akaike information criterion (aic):\n",
    "\n",
    "$$\n",
    "\\text{AIC} = D_{train} + 2p\n",
    "$$\n",
    "\n",
    "where $p$ = number of free model params\n",
    "\n",
    "All info criteria try to predict out-of-sample deviance for models but derived under different constraints and assumptions. For AIC these are:\n",
    "\n",
    "* flat priors or dominated by llhood\n",
    "* posterior is approx. multivar Normal\n",
    "* nr of data points much greater than nr of params\n",
    "\n",
    "'flat priors' harsh restriction, want to regularize. thus look for other criteria.\n",
    "\n",
    "deviance information criterion (dic) and widely applicable information criterion (waic)\n",
    "\n",
    "**rethinking: information criteria and consistency.** aic, dic, waic not consistent: do not necessarily assign best score to 'true' model. instead assign highest score to model with best expected out-of-sample predictive performance. issue? no, if goal is prediction. further \n",
    "\n",
    "furthermore, consistency defined for case dataset size going towards infinite, and in those info criteria give highest scores to most complex models. but in those cases v. complex behave like true model due to good fit.\n",
    "\n",
    "### 6.4.1. dic\n",
    "\n",
    "Aware of informative priors, but still assumes multivar Gaussian posterior. Thus results can be very wrong if that assumption not met.\n",
    "\n",
    "Calculated from posterior of deviance, which is based on posterior uncertainty around parameters.\n",
    "\n",
    "Calc deviance for each posterior sample. Let $\\bar D$ be the average deviance and $\\hat D$ the deviance at the posterior mean, then\n",
    "\n",
    "$$\n",
    "\\text{DIC} = \\bar D + (\\bar D - \\hat D) = \\bar D + p_D\n",
    "$$\n",
    "\n",
    "$p_D$ encodes model complexity and penalizes DIC based on that. = expected distance between in-sample and out-of-sample deviance. for flat priors: dic = aic, as expected difference = nr of parameters. however, for informative priors, model more constrained, thus penalty fraction of nr of parameters. \n",
    "\n",
    "**discuss: why is $\\bar D - \\hat D$ = expected diff between in-sample and out-of-sample deviance?**\n",
    "\n",
    "### 6.4.2. waic\n",
    "\n",
    "essential characteristic: pointwise. considers uncertainty around each prediction individually. makes sense b/c some predictions are harder/more uncertain than others. aic/dic don't do this.\n",
    "\n",
    "$$\n",
    "Pr(y_i) = \\text{avg}_{\\text{posterior samples}}(P(y_i | \\text{post. samp.})\n",
    "$$\n",
    "\n",
    "thus: average likelihood of $y_i$ over posterior\n",
    "\n",
    "$$\n",
    "lppd = \\sum_{i=1}^N \\log Pr(y_i)\n",
    "$$\n",
    "\n",
    "lppd = log pointwise predictive density = sum of log $Pr(y_i)$ across all data points = pointwise analog of deviance over posterior.\n",
    "\n",
    "$$\n",
    "V(y_i) = \\text{variance of log-likelihood for sample i in train data}\n",
    "$$\n",
    "\n",
    "then\n",
    "\n",
    "$$\n",
    "p_{waic} = \\sum_i^N V(y_i) = \\text{effective nr of parameters}\n",
    "$$\n",
    "\n",
    "then\n",
    "\n",
    "$$\n",
    "waic = -2(\\text{lppd} - p_{waic})\n",
    "$$\n",
    "\n",
    "again, estimating out of sample deviance.\n",
    "\n",
    "issue: requires individual consideration of each datum. not meaningful for time series, where each datum depends on the one before. generally, assumes exchangeability.\n",
    "\n",
    "generally: validity of any information criterion depends on predictive task."
   ]
  },
  {
   "cell_type": "markdown",
   "metadata": {},
   "source": [
    "**rethinking: what about bic?** bayesian info crit. (bic), or Schwarz criterion. not bayes/non-bayes choice to decide for/against this. can be motivaed from bayes/non-bayes perspective. bic related to lhood of data averaged over all priors = evidence in bayes formula -> comparing two models on evidence = bayes factor. not treated in this book"
   ]
  },
  {
   "cell_type": "markdown",
   "metadata": {},
   "source": [
    "**overthinking: waic calculations.** see below"
   ]
  },
  {
   "cell_type": "code",
   "execution_count": 18,
   "metadata": {},
   "outputs": [],
   "source": [
    "# Code 6.15\n",
    "# Code 6.16\n",
    "# Code 6.17\n",
    "# Code 6.18\n",
    "# Code 6.19\n",
    "# Code 6.20\n",
    "\n",
    "# not super relevant at the moment, skip\n"
   ]
  },
  {
   "cell_type": "markdown",
   "metadata": {},
   "source": [
    "### 6.4.3. dic and waic as estimates of deviance\n",
    "\n",
    "both accurate in given example. help to detect overfitting. complementery with regularization, which helps to reduce overfitting but does not detect/measure it."
   ]
  },
  {
   "cell_type": "markdown",
   "metadata": {},
   "source": [
    "**rethinking: diverse prediction frameworks.** information criteria useful to approximate cross validation. however, cross-validation not always useful approach. some people prefer prequential model selection framework. also, 'prediction' might have more subtle meaning when using multilevel models.\n",
    "\n",
    "finally, train/production disconnect in data. trying to apply model to different distributions in practice might yield bad predictions. information criteria unaware of that"
   ]
  },
  {
   "cell_type": "markdown",
   "metadata": {},
   "source": [
    "## 6.5. using information criteria\n",
    "\n",
    "post. prob. can suggest how confident to be about param values, assuming truth of model. similarly, relative differences in DIC/WAIC values can suggest how confident to be about models, assuming there only exist the models currently being compared.\n",
    "\n",
    "primary use cases for IC:\n",
    "* model comparison: IC in combination w/ estimates & posterior predictive checks can help understand not just *that* but also *why* one model outperforms another\n",
    "* model averaging: use IC to make posterior predictive distribution using relative performance of models\n"
   ]
  },
  {
   "cell_type": "markdown",
   "metadata": {},
   "source": [
    "### 6.5.1. model comparison"
   ]
  },
  {
   "cell_type": "code",
   "execution_count": 19,
   "metadata": {},
   "outputs": [
    {
     "data": {
      "text/plain": [
       "(17, 9)"
      ]
     },
     "execution_count": 19,
     "metadata": {},
     "output_type": "execute_result"
    }
   ],
   "source": [
    "# Code 6.21\n",
    "\n",
    "d = (\n",
    "    pd\n",
    "    .read_csv('./data/milk.csv', sep=';')\n",
    "    # make names more pythonic\n",
    "    .rename(columns = lambda colname: colname.replace('.', '_'))\n",
    "    .dropna()\n",
    "    .assign(neocortex = lambda df: df['neocortex_perc']/100)\n",
    ")\n",
    "d.shape"
   ]
  },
  {
   "cell_type": "markdown",
   "metadata": {},
   "source": [
    "*Essential* for model comparison: models *must* be fit to exaxtly same nr of cases. Issue: higher nr observations nearly always means higher deviance and IC values.\n",
    "\n",
    "**note: thus it does not mean need to fit to same predictors, just same nr of observations. also, means that this doesn't matter if comparing performance by predicting on test set instead of using IC - correct?**\n",
    "\n",
    "trick for bounding deviation of outcome to be positive: estimate exp(log(deviation)) instead"
   ]
  },
  {
   "cell_type": "code",
   "execution_count": 20,
   "metadata": {},
   "outputs": [
    {
     "name": "stderr",
     "output_type": "stream",
     "text": [
      "Auto-assigning NUTS sampler...\n",
      "Initializing NUTS using jitter+adapt_diag...\n",
      "Multiprocess sampling (2 chains in 2 jobs)\n",
      "NUTS: [sigma, alpha]\n",
      "Sampling 2 chains: 100%|██████████| 4000/4000 [00:03<00:00, 1230.12draws/s]\n",
      "Auto-assigning NUTS sampler...\n",
      "Initializing NUTS using jitter+adapt_diag...\n",
      "Multiprocess sampling (2 chains in 2 jobs)\n",
      "NUTS: [sigma, beta, alpha]\n",
      "Sampling 2 chains: 100%|██████████| 40000/40000 [02:21<00:00, 283.13draws/s]\n",
      "There were 561 divergences after tuning. Increase `target_accept` or reparameterize.\n",
      "The acceptance probability does not match the target. It is 0.3715254469243394, but should be close to 0.8. Try to increase the number of tuning steps.\n",
      "There were 22 divergences after tuning. Increase `target_accept` or reparameterize.\n",
      "The estimated number of effective samples is smaller than 200 for some parameters.\n",
      "Auto-assigning NUTS sampler...\n",
      "Initializing NUTS using jitter+adapt_diag...\n",
      "Multiprocess sampling (2 chains in 2 jobs)\n",
      "NUTS: [sigma, beta, alpha]\n",
      "Sampling 2 chains: 100%|██████████| 4000/4000 [00:03<00:00, 1020.19draws/s]\n",
      "Auto-assigning NUTS sampler...\n",
      "Initializing NUTS using jitter+adapt_diag...\n",
      "Multiprocess sampling (2 chains in 2 jobs)\n",
      "NUTS: [sigma, beta, alpha]\n",
      "Sampling 2 chains: 100%|██████████| 40000/40000 [04:17<00:00, 155.17draws/s]\n",
      "There were 113 divergences after tuning. Increase `target_accept` or reparameterize.\n",
      "The acceptance probability does not match the target. It is 0.7021159888883838, but should be close to 0.8. Try to increase the number of tuning steps.\n",
      "There were 168 divergences after tuning. Increase `target_accept` or reparameterize.\n",
      "The acceptance probability does not match the target. It is 0.6620426936282019, but should be close to 0.8. Try to increase the number of tuning steps.\n",
      "The number of effective samples is smaller than 10% for some parameters.\n"
     ]
    }
   ],
   "source": [
    "# Code 6.22\n",
    "\n",
    "a_start = d.kcal_per_g.mean()\n",
    "# pymc3 implementation does not use log()?\n",
    "sigma_start = d.kcal_per_g.std()\n",
    "\n",
    "mass_shared = theano.shared(np.log(d['mass'].values))\n",
    "neocortex_shared = theano.shared(d['neocortex'].values)\n",
    "\n",
    "with pm.Model() as m6_11:\n",
    "    alpha = pm.Normal('alpha', mu=0, sd=10, testval=a_start)\n",
    "    mu = alpha + 0 * neocortex_shared\n",
    "    sigma = pm.HalfCauchy('sigma',beta=10, testval=sigma_start)    \n",
    "    kcal = pm.Normal('kcal', mu=mu, sd=sigma, observed=d['kcal_per_g'])\n",
    "    trace_m6_11 = pm.sample(1000, tune=1000)\n",
    "\n",
    "with pm.Model() as m6_12:\n",
    "    alpha = pm.Normal('alpha', mu=0, sd=10, testval=a_start)\n",
    "    beta = pm.Normal('beta', mu=0, sd=10)\n",
    "    sigma = pm.HalfCauchy('sigma',beta=10, testval=sigma_start)\n",
    "    mu = alpha + beta * neocortex_shared\n",
    "    kcal = pm.Normal('kcal', mu=mu, sd=sigma, observed=d['kcal_per_g'])\n",
    "    trace_m6_12 = pm.sample(5000, tune=15000)\n",
    "    \n",
    "with pm.Model() as m6_13:\n",
    "    alpha = pm.Normal('alpha', mu=0, sd=10, testval=a_start)\n",
    "    beta = pm.Normal('beta', mu=0, sd=10)\n",
    "    sigma = pm.HalfCauchy('sigma', beta=10, testval=sigma_start)\n",
    "    mu = alpha + beta * mass_shared\n",
    "    kcal = pm.Normal('kcal', mu=mu, sd=sigma, observed=d['kcal_per_g'])\n",
    "    trace_m6_13 = pm.sample(1000, tune=1000)\n",
    "    \n",
    "with pm.Model() as m6_14:\n",
    "    alpha = pm.Normal('alpha', mu=0, sd=10, testval=a_start)\n",
    "    beta = pm.Normal('beta', mu=0, sd=10, shape=2)\n",
    "    sigma = pm.HalfCauchy('sigma', beta=10, testval=sigma_start)\n",
    "    mu = alpha + beta[0] * mass_shared + beta[1] * neocortex_shared\n",
    "    kcal = pm.Normal('kcal', mu=mu, sd=sigma, observed=d['kcal_per_g'])\n",
    "    trace_m6_14 = pm.sample(5000, tune=15000)"
   ]
  },
  {
   "cell_type": "markdown",
   "metadata": {},
   "source": [
    "#### 6.5.1.1. comparing waic values"
   ]
  },
  {
   "cell_type": "code",
   "execution_count": 21,
   "metadata": {},
   "outputs": [
    {
     "name": "stderr",
     "output_type": "stream",
     "text": [
      "/anaconda3/envs/rethinking_statistics/lib/python3.7/site-packages/pymc3/stats.py:211: UserWarning: For one or more samples the posterior variance of the\n",
      "        log predictive densities exceeds 0.4. This could be indication of\n",
      "        WAIC starting to fail see http://arxiv.org/abs/1507.04544 for details\n",
      "        \n",
      "  \"\"\")\n"
     ]
    },
    {
     "data": {
      "text/plain": [
       "WAIC_r(WAIC=-16.714258275014906, WAIC_se=5.0480656565866, p_WAIC=3.1899499002995015, var_warn=1)"
      ]
     },
     "execution_count": 21,
     "metadata": {},
     "output_type": "execute_result"
    }
   ],
   "source": [
    "# Code 6.23\n",
    "\n",
    "pm.waic(trace_m6_14, m6_14)"
   ]
  },
  {
   "cell_type": "code",
   "execution_count": 22,
   "metadata": {},
   "outputs": [
    {
     "name": "stderr",
     "output_type": "stream",
     "text": [
      "/anaconda3/envs/rethinking_statistics/lib/python3.7/site-packages/pymc3/stats.py:211: UserWarning: For one or more samples the posterior variance of the\n",
      "        log predictive densities exceeds 0.4. This could be indication of\n",
      "        WAIC starting to fail see http://arxiv.org/abs/1507.04544 for details\n",
      "        \n",
      "  \"\"\")\n",
      "/anaconda3/envs/rethinking_statistics/lib/python3.7/site-packages/pymc3/stats.py:211: UserWarning: For one or more samples the posterior variance of the\n",
      "        log predictive densities exceeds 0.4. This could be indication of\n",
      "        WAIC starting to fail see http://arxiv.org/abs/1507.04544 for details\n",
      "        \n",
      "  \"\"\")\n"
     ]
    }
   ],
   "source": [
    "# Code 6.24\n",
    "\n",
    "compare_df = (\n",
    "    pm\n",
    "    .compare(\n",
    "    {m6_11 : trace_m6_11,\n",
    "     m6_12 : trace_m6_12,\n",
    "     m6_13 : trace_m6_13,\n",
    "     m6_14 : trace_m6_14}, \n",
    "    method='pseudo-BMA')\n",
    "    .assign(model =  pd.Series(['m6.11', 'm6.12', 'm6.13', 'm6.14']))\n",
    "    .set_index('model')\n",
    ")"
   ]
  },
  {
   "cell_type": "code",
   "execution_count": 23,
   "metadata": {},
   "outputs": [
    {
     "data": {
      "text/html": [
       "<div>\n",
       "<style scoped>\n",
       "    .dataframe tbody tr th:only-of-type {\n",
       "        vertical-align: middle;\n",
       "    }\n",
       "\n",
       "    .dataframe tbody tr th {\n",
       "        vertical-align: top;\n",
       "    }\n",
       "\n",
       "    .dataframe thead th {\n",
       "        text-align: right;\n",
       "    }\n",
       "</style>\n",
       "<table border=\"1\" class=\"dataframe\">\n",
       "  <thead>\n",
       "    <tr style=\"text-align: right;\">\n",
       "      <th></th>\n",
       "      <th>WAIC</th>\n",
       "      <th>pWAIC</th>\n",
       "      <th>dWAIC</th>\n",
       "      <th>weight</th>\n",
       "      <th>SE</th>\n",
       "      <th>dSE</th>\n",
       "      <th>var_warn</th>\n",
       "    </tr>\n",
       "    <tr>\n",
       "      <th>model</th>\n",
       "      <th></th>\n",
       "      <th></th>\n",
       "      <th></th>\n",
       "      <th></th>\n",
       "      <th></th>\n",
       "      <th></th>\n",
       "      <th></th>\n",
       "    </tr>\n",
       "  </thead>\n",
       "  <tbody>\n",
       "    <tr>\n",
       "      <th>m6.14</th>\n",
       "      <td>-16.71</td>\n",
       "      <td>3.19</td>\n",
       "      <td>0</td>\n",
       "      <td>0.96</td>\n",
       "      <td>5.05</td>\n",
       "      <td>0</td>\n",
       "      <td>1</td>\n",
       "    </tr>\n",
       "    <tr>\n",
       "      <th>m6.13</th>\n",
       "      <td>-8.81</td>\n",
       "      <td>2.05</td>\n",
       "      <td>7.9</td>\n",
       "      <td>0.02</td>\n",
       "      <td>4</td>\n",
       "      <td>3.51</td>\n",
       "      <td>1</td>\n",
       "    </tr>\n",
       "    <tr>\n",
       "      <th>m6.11</th>\n",
       "      <td>-8.66</td>\n",
       "      <td>1.32</td>\n",
       "      <td>8.05</td>\n",
       "      <td>0.02</td>\n",
       "      <td>3.49</td>\n",
       "      <td>4.78</td>\n",
       "      <td>0</td>\n",
       "    </tr>\n",
       "    <tr>\n",
       "      <th>m6.12</th>\n",
       "      <td>-7.22</td>\n",
       "      <td>1.93</td>\n",
       "      <td>9.5</td>\n",
       "      <td>0.01</td>\n",
       "      <td>3.19</td>\n",
       "      <td>4.98</td>\n",
       "      <td>0</td>\n",
       "    </tr>\n",
       "  </tbody>\n",
       "</table>\n",
       "</div>"
      ],
      "text/plain": [
       "        WAIC pWAIC dWAIC weight    SE   dSE var_warn\n",
       "model                                               \n",
       "m6.14 -16.71  3.19     0   0.96  5.05     0        1\n",
       "m6.13  -8.81  2.05   7.9   0.02     4  3.51        1\n",
       "m6.11  -8.66  1.32  8.05   0.02  3.49  4.78        0\n",
       "m6.12  -7.22  1.93   9.5   0.01  3.19  4.98        0"
      ]
     },
     "execution_count": 23,
     "metadata": {},
     "output_type": "execute_result"
    }
   ],
   "source": [
    "compare_df.sort_values('WAIC')"
   ]
  },
  {
   "cell_type": "markdown",
   "metadata": {},
   "source": [
    "* waic: what it says\n",
    "* pwaic: estimated effictive nr of params\n",
    "* dwaic: relative difference in waic between current and best model\n",
    "* weight: akaike weight\n",
    "* se: standard error of waic\n",
    "* dse: standard error of difference between current and best model"
   ]
  },
  {
   "cell_type": "code",
   "execution_count": 24,
   "metadata": {},
   "outputs": [
    {
     "data": {
      "image/png": "[encoded data removed]",
      "text/plain": [
       "<Figure size 432x288 with 1 Axes>"
      ]
     },
     "metadata": {
      "needs_background": "light"
     },
     "output_type": "display_data"
    }
   ],
   "source": [
    "# Code 6.25\n",
    "\n",
    "pm.compareplot(compare_df);"
   ]
  },
  {
   "cell_type": "markdown",
   "metadata": {},
   "source": [
    "* closed: in-sample waic\n",
    "* open: (out-of-sample) waic\n",
    "* dark line: waic se\n",
    "* triangle: diff between best and current\n",
    "* grey line: se of diff between best and current\n",
    "\n",
    "overlap in se of waic is not same as se of difference between models b/c uncertainty about models is correlated between models\n",
    "\n",
    "akaike weight = rescale relative predictive accuracy to sum to 1 between models\n",
    "\n",
    "unclear, akaike's interpretation: \"estimate of probability that model will make best predictions on new data, conditional on st of models considered\"\n",
    "\n",
    "only 12 cases, thus lots of uncertainty around waic.\n",
    "\n",
    "using uncertainty around differences, chance of difference being negative thus other model actualy being best:"
   ]
  },
  {
   "cell_type": "code",
   "execution_count": 25,
   "metadata": {},
   "outputs": [
    {
     "data": {
      "text/plain": [
       "0.17876"
      ]
     },
     "execution_count": 25,
     "metadata": {},
     "output_type": "execute_result"
    }
   ],
   "source": [
    "# Code 6.26\n",
    "\n",
    "diff = np.random.normal(loc=6.7, scale=7.26, size=100000)\n",
    "\n",
    "# this is in the pymc3 implementation and i think it's wrong. summing up actual values. \n",
    "# sum(diff[diff<0]) / 100000\n",
    "# out: ~ -0.7\n",
    "\n",
    "# instead want to count how often< 0 event happens.\n",
    "# this also matches the output of the book\n",
    "sum(diff<0) / 100000"
   ]
  },
  {
   "cell_type": "markdown",
   "metadata": {},
   "source": [
    "**rethining: how big a difference in waic is \"significant\"?** hard to say what 'significance' means in this case. models won't make same predictions. also, no established values like '5%'. book's stance: keep and present all models, to give most wholistic picture and enable best discussion."
   ]
  },
  {
   "cell_type": "markdown",
   "metadata": {},
   "source": [
    "**rethinking: waic metaphors.** \n",
    "\n",
    "1: waic scores = race horses. best horse most likely to win. also, if one horse wins by large margin then high confidence it's actually best horse. however, for small margin: less certain. also, hard to say how things play out when environment changes - how will model perform for new data, possibly from different process?\n",
    "\n",
    "2: waic scores = stones thrown to skip on a lake. for each throw lots of things can change: bad grip, good wind etc. good stone will go farther on average. the bigger the differences between stones are the more certain we can be that stone is actually better."
   ]
  },
  {
   "cell_type": "markdown",
   "metadata": {},
   "source": [
    "#### 6.4.1.2. comparing estimates\n",
    "\n",
    "comparing estimates can help understand *why* one model is better/worse than another. also, can help to understand if parameter stays important across models when adding/removing other parameters."
   ]
  },
  {
   "cell_type": "code",
   "execution_count": 26,
   "metadata": {},
   "outputs": [
    {
     "data": {
      "text/html": [
       "<div>\n",
       "<style scoped>\n",
       "    .dataframe tbody tr th:only-of-type {\n",
       "        vertical-align: middle;\n",
       "    }\n",
       "\n",
       "    .dataframe tbody tr th {\n",
       "        vertical-align: top;\n",
       "    }\n",
       "\n",
       "    .dataframe thead th {\n",
       "        text-align: right;\n",
       "    }\n",
       "</style>\n",
       "<table border=\"1\" class=\"dataframe\">\n",
       "  <thead>\n",
       "    <tr style=\"text-align: right;\">\n",
       "      <th></th>\n",
       "      <th>m6_11</th>\n",
       "      <th>m6_12</th>\n",
       "      <th>m6_13</th>\n",
       "      <th>m6_14</th>\n",
       "    </tr>\n",
       "  </thead>\n",
       "  <tbody>\n",
       "    <tr>\n",
       "      <th>alpha</th>\n",
       "      <td>0.659372</td>\n",
       "      <td>0.344914</td>\n",
       "      <td>0.702768</td>\n",
       "      <td>-1.061924</td>\n",
       "    </tr>\n",
       "    <tr>\n",
       "      <th>beta</th>\n",
       "      <td>NaN</td>\n",
       "      <td>0.463290</td>\n",
       "      <td>-0.029694</td>\n",
       "      <td>NaN</td>\n",
       "    </tr>\n",
       "    <tr>\n",
       "      <th>beta__0</th>\n",
       "      <td>NaN</td>\n",
       "      <td>NaN</td>\n",
       "      <td>NaN</td>\n",
       "      <td>-0.095579</td>\n",
       "    </tr>\n",
       "    <tr>\n",
       "      <th>beta__1</th>\n",
       "      <td>NaN</td>\n",
       "      <td>NaN</td>\n",
       "      <td>NaN</td>\n",
       "      <td>2.757432</td>\n",
       "    </tr>\n",
       "    <tr>\n",
       "      <th>sigma</th>\n",
       "      <td>0.189839</td>\n",
       "      <td>0.192614</td>\n",
       "      <td>0.183884</td>\n",
       "      <td>0.138822</td>\n",
       "    </tr>\n",
       "  </tbody>\n",
       "</table>\n",
       "</div>"
      ],
      "text/plain": [
       "            m6_11     m6_12     m6_13     m6_14\n",
       "alpha    0.659372  0.344914  0.702768 -1.061924\n",
       "beta          NaN  0.463290 -0.029694       NaN\n",
       "beta__0       NaN       NaN       NaN -0.095579\n",
       "beta__1       NaN       NaN       NaN  2.757432\n",
       "sigma    0.189839  0.192614  0.183884  0.138822"
      ]
     },
     "execution_count": 26,
     "metadata": {},
     "output_type": "execute_result"
    }
   ],
   "source": [
    "# Code 6.27\n",
    "\n",
    "coeftab = pd.DataFrame({'m6_11': pm.summary(trace_m6_11)['mean'],\n",
    "                        'm6_12': pm.summary(trace_m6_12)['mean'],\n",
    "                        'm6_13': pm.summary(trace_m6_13)['mean'],\n",
    "                        'm6_14': pm.summary(trace_m6_14)['mean']})\n",
    "coeftab"
   ]
  },
  {
   "cell_type": "markdown",
   "metadata": {},
   "source": [
    "**note: harder to read b/c pymc3 calls parameters 'beta[0]', 'beta[1]' instead of 'bn', 'bm'.**"
   ]
  },
  {
   "cell_type": "markdown",
   "metadata": {},
   "source": [
    "change in uncertainty around estimates also important, plot to see better"
   ]
  },
  {
   "cell_type": "code",
   "execution_count": 27,
   "metadata": {},
   "outputs": [
    {
     "data": {
      "image/png": "[encoded data removed]",
      "text/plain": [
       "<Figure size 720x576 with 2 Axes>"
      ]
     },
     "metadata": {
      "needs_background": "light"
     },
     "output_type": "display_data"
    }
   ],
   "source": [
    "# Code 6.28\n",
    "\n",
    "traces = [trace_m6_11, trace_m6_12, trace_m6_13, trace_m6_14]   \n",
    "models = [m6_11, m6_12, m6_13, m6_14]\n",
    "\n",
    "plt.figure(figsize=(10, 8))\n",
    "pm.forestplot(traces, plot_kwargs={'fontsize':14});"
   ]
  },
  {
   "cell_type": "markdown",
   "metadata": {},
   "source": [
    "**note: why are there multiple points per parameter per model? and again, having different parameter naming conventions would have made things easier**"
   ]
  },
  {
   "cell_type": "markdown",
   "metadata": {},
   "source": [
    "**rethinking: barlots suck.** McElreath: bars carry little information but clutter visuals a lot. use dotcharts instead."
   ]
  },
  {
   "cell_type": "markdown",
   "metadata": {},
   "source": [
    "### 6.5.2. model averaging"
   ]
  },
  {
   "cell_type": "markdown",
   "metadata": {},
   "source": [
    "posterior predictive for *single* model:"
   ]
  },
  {
   "cell_type": "code",
   "execution_count": 28,
   "metadata": {},
   "outputs": [
    {
     "name": "stderr",
     "output_type": "stream",
     "text": [
      "100%|██████████| 10000/10000 [00:11<00:00, 869.48it/s]\n"
     ]
    }
   ],
   "source": [
    "# Code 6.29\n",
    "\n",
    "kcal_per_g = np.repeat(0, 30) # empty outcome\n",
    "neocortex = np.linspace(0.5, 0.8, 30) # sequence of neocortex\n",
    "mass = np.repeat(4.5, 30)     # average mass\n",
    "\n",
    "mass_shared.set_value(np.log(mass))\n",
    "neocortex_shared.set_value(neocortex)\n",
    "post_pred = pm.sample_ppc(trace_m6_14, samples=10000, model=m6_14)"
   ]
  },
  {
   "cell_type": "markdown",
   "metadata": {},
   "source": [
    "posterior predictive averaged for *all* models:"
   ]
  },
  {
   "cell_type": "code",
   "execution_count": 29,
   "metadata": {},
   "outputs": [
    {
     "name": "stderr",
     "output_type": "stream",
     "text": [
      "100%|██████████| 10000/10000 [00:09<00:00, 1052.88it/s]\n"
     ]
    }
   ],
   "source": [
    "# Code 6.30\n",
    "milk_ensemble = pm.sample_ppc_w(\n",
    "    traces, \n",
    "    10000, \n",
    "    models, \n",
    "    weights=compare_df.weight.sort_index(ascending=True)\n",
    ")"
   ]
  },
  {
   "cell_type": "code",
   "execution_count": 30,
   "metadata": {},
   "outputs": [
    {
     "data": {
      "image/png": "[encoded data removed]",
      "text/plain": [
       "<Figure size 576x432 with 1 Axes>"
      ]
     },
     "metadata": {
      "needs_background": "light"
     },
     "output_type": "display_data"
    }
   ],
   "source": [
    "plt.figure(figsize=(8, 6))\n",
    "\n",
    "plt.plot(neocortex, post_pred['kcal'].mean(0), ls='--', color='C2')\n",
    "hpd_post_pred = pm.hpd(post_pred['kcal'])\n",
    "plt.plot(neocortex,hpd_post_pred[:,0], ls='--', color='C2')\n",
    "plt.plot(neocortex,hpd_post_pred[:,], ls='--', color='C2')\n",
    "\n",
    "plt.plot(neocortex, milk_ensemble['kcal'].mean(0), color='C0')\n",
    "hpd_av = pm.hpd(milk_ensemble['kcal'])\n",
    "plt.fill_between(neocortex, hpd_av[:,0], hpd_av[:,1], alpha=0.1, color='C0')\n",
    "\n",
    "plt.scatter(d['neocortex'], d['kcal_per_g'], facecolor='None', edgecolors='C0')\n",
    "\n",
    "plt.ylim(0.3, 1)\n",
    "plt.xlabel('neocortex', fontsize=16)\n",
    "plt.ylabel('kcal_per_g', fontsize=16);\n"
   ]
  },
  {
   "cell_type": "markdown",
   "metadata": {},
   "source": [
    "**note: this looks very different from the book (it does look the same as in the pmc3 reference). compare and discuss**"
   ]
  },
  {
   "cell_type": "markdown",
   "metadata": {},
   "source": [
    "mechanics for averaging v simple: get posterior predictive samples from each model, weigh those by akaike model weight, use all these weighted samples as the predictive posterior for ensemble\n",
    "\n",
    "model averaging: sometimes little influence on predictions. sometimes massive. but always conservative approach that protects about overconfidence in single model. will never make predictor more influential than it is in any single model."
   ]
  },
  {
   "cell_type": "markdown",
   "metadata": {},
   "source": [
    "**rethinking: the curse of tippecanoe.** if exhaustively trying to all possible models will find some that fit really well. all big enough datasets have meaningless patterns of strong correlations in them, e.g. presidential names, election dates and facts about their life. patterns not actually based on real mechanisms will not generalize to new data.\n",
    "\n",
    "however, there are valid use-cases for just trying lots of models.\n",
    "\n",
    "1: explore data if there is no clear hypothesis. make sure to communicate that this is happening. use findings to inform future investigations.\n",
    "\n",
    "2: demonstrate that no (combination of) predictors is useful for predicting outcome."
   ]
  },
  {
   "cell_type": "markdown",
   "metadata": {},
   "source": [
    "## 6.6. summary\n",
    "\n",
    "Chapter flow: overfitting -> regularization and information criteria.\n",
    "\n",
    "Regularizing priors: reduce overfit during estimation.\n",
    "\n",
    "Information criteria: help estimate degree of overfitting.\n",
    "\n",
    "Introduced model comparison and ensembles based on information criteria.\n",
    "\n",
    "*All tools just heuristics, no guarantees. \"No statistical procedure will ver substitue for iterative scientific investigation.\"*"
   ]
  },
  {
   "cell_type": "markdown",
   "metadata": {},
   "source": [
    "## 6.7. practice"
   ]
  },
  {
   "cell_type": "markdown",
   "metadata": {},
   "source": [
    "**Easy**\n",
    "\n",
    "**6E1**\n",
    "\n",
    "*\"State the three motivating criteria that define information entropy. Try to express each in your\n",
    "own words\"*\n",
    "\n",
    "We want to have some measure of uncertainty. For some reason probabilities are not what we want **why not? discuss**. We want that measure to have the following properties:\n",
    "\n",
    "* small changes in underlying probabilities should result in small changes in uncertainty (continuous measure)\n",
    "* if nr of events increases, uncertainty should increase - it's harder to say what's going to happen if there are more choices. but actually, not obvious. assume that probabilities of all events need to sum to 1. then adding new event means taking away probability from some event(s) and assigning it to new event. thus: changing probabilities. could also change probabilities in such a way to resulting final distribution has less entropy than before, by probability being way more focused on one event? also, what happens to entropy if probabilities are uniform, then new event gets added and probabilities are spread out evenly again? (probably increases) **discuss*\n",
    "* additive: uncertainty about (A or B) and uncertainty about (X or Y) should be equal to uncertainty about (A and X, or A and Y, or B and X, or B and Y). However, shouldn't that take into account correlations between those and thus use whole joint distribution instead of marginals? **discuss**"
   ]
  },
  {
   "cell_type": "code",
   "execution_count": 31,
   "metadata": {},
   "outputs": [],
   "source": [
    "def inf_ent(probabilities):\n",
    "    return - np.sum(np.array(probabilities) * np.log(probabilities))"
   ]
  },
  {
   "cell_type": "markdown",
   "metadata": {},
   "source": [
    "**6E2**\n",
    "\n",
    "*\"Suppose a coin is weighted such that, when it is tossed and lands on a table, it comes up heads 70% of the time. What is the entropy of this coin?\"*\n",
    "\n",
    "Copy from above, formula of information entropy:\n",
    "\n",
    "$$\n",
    "H(p) = -E \\log (p_i) = - \\sum_{i=1}^n p_i \\log (p_i)\n",
    "$$\n",
    "\n",
    "For this coin we have two events, heads and tails, with two respective probabilities: 0.7 and 0.3. Plugging these in:"
   ]
  },
  {
   "cell_type": "code",
   "execution_count": 32,
   "metadata": {},
   "outputs": [
    {
     "data": {
      "text/plain": [
       "0.6108643020548935"
      ]
     },
     "execution_count": 32,
     "metadata": {},
     "output_type": "execute_result"
    }
   ],
   "source": [
    "inf_ent([0.3, 0.7])"
   ]
  },
  {
   "cell_type": "markdown",
   "metadata": {},
   "source": [
    "$$\n",
    "H(\\text{coin}) = - (0.7 * \\log(0.7) + 0.3 * \\log(0.3)) = 0.61\n",
    "$$"
   ]
  },
  {
   "cell_type": "markdown",
   "metadata": {},
   "source": [
    "**6E3**\n",
    "\n",
    "*\"Suppose a four-sided die is loaded such that, when tossed onto a table, it shows “1” 20%, “2” 25%, ”3” 25%, and ”4” 30% of the time. What is the entropy of this die?\"*"
   ]
  },
  {
   "cell_type": "code",
   "execution_count": 33,
   "metadata": {},
   "outputs": [
    {
     "data": {
      "text/plain": [
       "1.3762266043445461"
      ]
     },
     "execution_count": 33,
     "metadata": {},
     "output_type": "execute_result"
    }
   ],
   "source": [
    "inf_ent([.2, .25, .25, .3])"
   ]
  },
  {
   "cell_type": "markdown",
   "metadata": {},
   "source": [
    "**6E4**\n",
    "\n",
    "*\"Suppose another four-sided die is loaded such that it never shows “4”. The other three sides show equally often. What is the entropy of this die?\"*"
   ]
  },
  {
   "cell_type": "code",
   "execution_count": 34,
   "metadata": {},
   "outputs": [
    {
     "data": {
      "text/plain": [
       "nan"
      ]
     },
     "execution_count": 34,
     "metadata": {},
     "output_type": "execute_result"
    }
   ],
   "source": [
    "inf_ent([.3, .3, .3, 0])"
   ]
  },
  {
   "cell_type": "markdown",
   "metadata": {},
   "source": [
    "How to handle 0 probabilty? Define that \n",
    "\n",
    "$$\n",
    "0 \\log(0) = 0\n",
    "$$\n",
    "\n",
    "matching intuition that events that never happen do not influence uncertainty. Incorporating that into my inf_ent function:"
   ]
  },
  {
   "cell_type": "code",
   "execution_count": 35,
   "metadata": {},
   "outputs": [],
   "source": [
    "def inf_ent(probabilities):\n",
    "    \"\"\"\n",
    "    Information entropy that drops out 0-probability events\n",
    "    \"\"\"\n",
    "    \n",
    "    probabilities = np.asarray(probabilities)\n",
    "    probabilities = probabilities[probabilities.nonzero()]\n",
    "    \n",
    "    return - np.sum(probabilities * np.log(probabilities))"
   ]
  },
  {
   "cell_type": "code",
   "execution_count": 36,
   "metadata": {},
   "outputs": [
    {
     "data": {
      "text/plain": [
       "1.0835755238933424"
      ]
     },
     "execution_count": 36,
     "metadata": {},
     "output_type": "execute_result"
    }
   ],
   "source": [
    "inf_ent([.3, .3, .3, 0])"
   ]
  },
  {
   "cell_type": "markdown",
   "metadata": {},
   "source": [
    "**Medium**\n",
    "\n",
    "**6M1**\n",
    "\n",
    "*\"Write down and compare the definitions of AIC, DIC, and WAIC. Which of these criteria is most general? Which assumptions are required to transform a more general criterion into a less general one?\"*\n",
    "\n",
    "$$\n",
    "\\text{AIC} = D_{\\text{train}} + 2p\n",
    "$$\n",
    "\n",
    "$$\n",
    "\\text{DIC} = \\bar D + (\\bar D - \\hat D) = \\bar D + p_D\n",
    "$$\n",
    "\n",
    "$$\n",
    "\\text{WAIC} = -2(\\text{lppd} - p_{waic})\n",
    "$$\n",
    "\n",
    "Not sure how to compare these definitions. Regarding assumptions:\n",
    "\n",
    "To go from more general to less general: add assumptions.\n",
    "\n",
    "From WAIC to DIC: add assumption that posteriors are multivariate Gaussians.\n",
    "\n",
    "From DIC to AIC: add assumption that priors are flat."
   ]
  },
  {
   "cell_type": "markdown",
   "metadata": {},
   "source": [
    "**6M2**\n",
    "\n",
    "*\"Explain the difference between model selection and model averaging. What information is lost under model selection? What information is lost under model averaging?\"*\n",
    "\n",
    "Model selection = pick single best model according to some criterion. Discard others. Information lost: relative confidence in model as compared to other models. Contributions of other models.\n",
    "\n",
    "Model averaging = average predictions based on relative accuracy of individual models. Discard none. Information lost: none?"
   ]
  },
  {
   "cell_type": "markdown",
   "metadata": {},
   "source": [
    "**6M3**\n",
    "\n",
    "*\"When comparing models with an information criterion, why must all models be fit to exactly the same observations? What would happen to the information criterion values, if the models were fit to different numbers of observations? Perform some experiments, if you are not sure.\"*\n",
    "\n",
    "Higher number of observations -> higher (worse) value for IC. Unfair comparison"
   ]
  },
  {
   "cell_type": "markdown",
   "metadata": {},
   "source": [
    "**6M4**\n",
    "\n",
    "*\"Whathappenstotheeffectivenumberofparameters,asmeasuredbyDICorWAIC,asaprior becomes more concentrated? Why? Perform some experiments, if you are not sure.\"*\n",
    "\n",
    "Guess: nr of effective params reduces when prior becomes more informative. **Unsure, follow-up here.**"
   ]
  },
  {
   "cell_type": "markdown",
   "metadata": {},
   "source": [
    "**6M5**\n",
    "\n",
    "*\"Provide an informal explanation of why informative priors reduce overfitting.\"*\n",
    "\n",
    "Make models pay less attention to data, thus less likely to learn from non-generalizable features. Pushes posteriors towards value regions that are deemed more likely a-priori. Posterior will look a bit more like prior, a bit less like data."
   ]
  },
  {
   "cell_type": "markdown",
   "metadata": {},
   "source": [
    "**6M6**\n",
    "\n",
    "*\"Provide an information explanation of why overly informative priors result in underfitting.\"*\n",
    "\n",
    "Model will learn too little from data/pay too little attention to it. Will actually not learn generalizable patterns. Posterior will look a lot like prior, with little impact of data."
   ]
  },
  {
   "cell_type": "markdown",
   "metadata": {},
   "source": [
    "**Hard**"
   ]
  },
  {
   "cell_type": "code",
   "execution_count": 37,
   "metadata": {},
   "outputs": [],
   "source": [
    "import math"
   ]
  },
  {
   "cell_type": "code",
   "execution_count": 38,
   "metadata": {},
   "outputs": [
    {
     "name": "stdout",
     "output_type": "stream",
     "text": [
      "(272, 4)\n",
      "(272, 4)\n"
     ]
    }
   ],
   "source": [
    "# Code 6.31\n",
    "\n",
    "d = (\n",
    "    pd\n",
    "    .read_csv('./data/Howell1.csv', sep=';')\n",
    "    .assign(age = lambda df: (df.age - df.age.mean()) / df.age.std())\n",
    ")\n",
    "\n",
    "rs = np.random.RandomState(42)\n",
    "ix = rs.choice(np.asarray(range(len(d))), size=math.floor(len(d)/2), replace=False)\n",
    "\n",
    "d1 = d.iloc[ix].sort_index()\n",
    "d2 = d.iloc[d.index.difference(ix)]\n",
    "\n",
    "print(d1.shape)\n",
    "print(d2.shape)"
   ]
  },
  {
   "cell_type": "code",
   "execution_count": 39,
   "metadata": {},
   "outputs": [],
   "source": [
    "age_shared = theano.shared(d1.age.values)"
   ]
  },
  {
   "cell_type": "code",
   "execution_count": 40,
   "metadata": {},
   "outputs": [],
   "source": [
    "def poly_model(n):\n",
    "    \"\"\"\n",
    "    Fit polynomial model between age and height of degree n.\n",
    "    \n",
    "    return:\n",
    "        model, trace\n",
    "    \"\"\"\n",
    "    coeff_range = range(1, n+1)\n",
    "    \n",
    "    with pm.Model() as m:\n",
    "        betas = [pm.Normal('beta_{}'.format(coeff), mu=0, sd=20) for coeff in coeff_range]\n",
    "        age_transforms = [age_shared ** coeff for coeff in coeff_range]\n",
    "        beta_x_age = sum([beta * age_transform for beta, age_transform in zip(betas, age_transforms)])\n",
    "        \n",
    "        a = pm.Normal('a', mu=d1.height.mean())\n",
    "        mu = pm.Deterministic('mu', a + beta_x_age)\n",
    "        sigma = pm.Uniform('sigma', lower=0, upper=50)\n",
    "        height = pm.Normal('height', mu=mu, sd=sigma, observed=d1.height)\n",
    "\n",
    "        trace = pm.sample(2000, tune=5000)\n",
    "        \n",
    "        return (m, trace)"
   ]
  },
  {
   "cell_type": "code",
   "execution_count": 41,
   "metadata": {},
   "outputs": [],
   "source": [
    "poly_values = list(range(1, 7))"
   ]
  },
  {
   "cell_type": "code",
   "execution_count": 42,
   "metadata": {},
   "outputs": [
    {
     "name": "stderr",
     "output_type": "stream",
     "text": [
      "Auto-assigning NUTS sampler...\n",
      "Initializing NUTS using jitter+adapt_diag...\n",
      "Multiprocess sampling (2 chains in 2 jobs)\n",
      "NUTS: [sigma, a, beta_1]\n",
      "Sampling 2 chains: 100%|██████████| 14000/14000 [00:09<00:00, 1542.25draws/s]\n",
      "Auto-assigning NUTS sampler...\n",
      "Initializing NUTS using jitter+adapt_diag...\n",
      "Multiprocess sampling (2 chains in 2 jobs)\n",
      "NUTS: [sigma, a, beta_2, beta_1]\n",
      "Sampling 2 chains: 100%|██████████| 14000/14000 [00:11<00:00, 1167.86draws/s]\n",
      "Auto-assigning NUTS sampler...\n",
      "Initializing NUTS using jitter+adapt_diag...\n",
      "Multiprocess sampling (2 chains in 2 jobs)\n",
      "NUTS: [sigma, a, beta_3, beta_2, beta_1]\n",
      "Sampling 2 chains: 100%|██████████| 14000/14000 [00:19<00:00, 709.68draws/s]\n",
      "Auto-assigning NUTS sampler...\n",
      "Initializing NUTS using jitter+adapt_diag...\n",
      "Multiprocess sampling (2 chains in 2 jobs)\n",
      "NUTS: [sigma, a, beta_4, beta_3, beta_2, beta_1]\n",
      "Sampling 2 chains: 100%|██████████| 14000/14000 [00:51<00:00, 269.29draws/s]\n",
      "Auto-assigning NUTS sampler...\n",
      "Initializing NUTS using jitter+adapt_diag...\n",
      "Multiprocess sampling (2 chains in 2 jobs)\n",
      "NUTS: [sigma, a, beta_5, beta_4, beta_3, beta_2, beta_1]\n",
      "Sampling 2 chains: 100%|██████████| 14000/14000 [01:30<00:00, 102.26draws/s]\n",
      "Auto-assigning NUTS sampler...\n",
      "Initializing NUTS using jitter+adapt_diag...\n",
      "Multiprocess sampling (2 chains in 2 jobs)\n",
      "NUTS: [sigma, a, beta_6, beta_5, beta_4, beta_3, beta_2, beta_1]\n",
      "Sampling 2 chains: 100%|██████████| 14000/14000 [03:53<00:00, 59.86draws/s]\n"
     ]
    }
   ],
   "source": [
    "models_and_traces = [poly_model(n) for n in poly_values]"
   ]
  },
  {
   "cell_type": "markdown",
   "metadata": {},
   "source": [
    "**note: what are weakly regularizing priors in this case? what kind of value ranges are expected?**\n",
    "\n",
    "**note 2: should i worried about warnings such as \"There were 100 divergences after tuning. Increase `target_accept` or reparameterize.\n",
    "The acceptance probability does not match the target. It is 0.5799279328315171, but should be close to 0.8. Try to increase the number of tuning steps.\" ?**"
   ]
  },
  {
   "cell_type": "code",
   "execution_count": 43,
   "metadata": {},
   "outputs": [
    {
     "data": {
      "text/html": [
       "<div>\n",
       "<style scoped>\n",
       "    .dataframe tbody tr th:only-of-type {\n",
       "        vertical-align: middle;\n",
       "    }\n",
       "\n",
       "    .dataframe tbody tr th {\n",
       "        vertical-align: top;\n",
       "    }\n",
       "\n",
       "    .dataframe thead th {\n",
       "        text-align: right;\n",
       "    }\n",
       "</style>\n",
       "<table border=\"1\" class=\"dataframe\">\n",
       "  <thead>\n",
       "    <tr style=\"text-align: right;\">\n",
       "      <th></th>\n",
       "      <th>mean</th>\n",
       "      <th>sd</th>\n",
       "      <th>mc_error</th>\n",
       "      <th>hpd_2.5</th>\n",
       "      <th>hpd_97.5</th>\n",
       "      <th>n_eff</th>\n",
       "      <th>Rhat</th>\n",
       "    </tr>\n",
       "  </thead>\n",
       "  <tbody>\n",
       "    <tr>\n",
       "      <th>beta_1</th>\n",
       "      <td>4.724931</td>\n",
       "      <td>2.820042</td>\n",
       "      <td>0.073905</td>\n",
       "      <td>-0.703574</td>\n",
       "      <td>10.381230</td>\n",
       "      <td>1366.088983</td>\n",
       "      <td>0.999879</td>\n",
       "    </tr>\n",
       "    <tr>\n",
       "      <th>beta_2</th>\n",
       "      <td>4.170807</td>\n",
       "      <td>2.614256</td>\n",
       "      <td>0.060101</td>\n",
       "      <td>-0.807504</td>\n",
       "      <td>9.311494</td>\n",
       "      <td>1625.143064</td>\n",
       "      <td>1.002030</td>\n",
       "    </tr>\n",
       "    <tr>\n",
       "      <th>beta_3</th>\n",
       "      <td>13.078326</td>\n",
       "      <td>4.465054</td>\n",
       "      <td>0.131463</td>\n",
       "      <td>4.393060</td>\n",
       "      <td>21.855509</td>\n",
       "      <td>1103.792475</td>\n",
       "      <td>1.000044</td>\n",
       "    </tr>\n",
       "    <tr>\n",
       "      <th>beta_4</th>\n",
       "      <td>-12.599341</td>\n",
       "      <td>1.719474</td>\n",
       "      <td>0.047463</td>\n",
       "      <td>-15.996367</td>\n",
       "      <td>-9.323675</td>\n",
       "      <td>1261.015487</td>\n",
       "      <td>1.001436</td>\n",
       "    </tr>\n",
       "    <tr>\n",
       "      <th>beta_5</th>\n",
       "      <td>0.630113</td>\n",
       "      <td>1.638203</td>\n",
       "      <td>0.047687</td>\n",
       "      <td>-2.465802</td>\n",
       "      <td>3.930772</td>\n",
       "      <td>1161.149143</td>\n",
       "      <td>0.999889</td>\n",
       "    </tr>\n",
       "    <tr>\n",
       "      <th>beta_6</th>\n",
       "      <td>0.807972</td>\n",
       "      <td>0.565456</td>\n",
       "      <td>0.017144</td>\n",
       "      <td>-0.269791</td>\n",
       "      <td>1.953971</td>\n",
       "      <td>1097.665583</td>\n",
       "      <td>1.000135</td>\n",
       "    </tr>\n",
       "    <tr>\n",
       "      <th>a</th>\n",
       "      <td>145.105142</td>\n",
       "      <td>0.892289</td>\n",
       "      <td>0.018185</td>\n",
       "      <td>143.373180</td>\n",
       "      <td>146.822462</td>\n",
       "      <td>1997.783032</td>\n",
       "      <td>1.000841</td>\n",
       "    </tr>\n",
       "    <tr>\n",
       "      <th>sigma</th>\n",
       "      <td>9.915578</td>\n",
       "      <td>0.508109</td>\n",
       "      <td>0.009875</td>\n",
       "      <td>8.940881</td>\n",
       "      <td>10.902785</td>\n",
       "      <td>2192.989761</td>\n",
       "      <td>1.000061</td>\n",
       "    </tr>\n",
       "  </tbody>\n",
       "</table>\n",
       "</div>"
      ],
      "text/plain": [
       "              mean        sd  mc_error     hpd_2.5    hpd_97.5        n_eff  \\\n",
       "beta_1    4.724931  2.820042  0.073905   -0.703574   10.381230  1366.088983   \n",
       "beta_2    4.170807  2.614256  0.060101   -0.807504    9.311494  1625.143064   \n",
       "beta_3   13.078326  4.465054  0.131463    4.393060   21.855509  1103.792475   \n",
       "beta_4  -12.599341  1.719474  0.047463  -15.996367   -9.323675  1261.015487   \n",
       "beta_5    0.630113  1.638203  0.047687   -2.465802    3.930772  1161.149143   \n",
       "beta_6    0.807972  0.565456  0.017144   -0.269791    1.953971  1097.665583   \n",
       "a       145.105142  0.892289  0.018185  143.373180  146.822462  1997.783032   \n",
       "sigma     9.915578  0.508109  0.009875    8.940881   10.902785  2192.989761   \n",
       "\n",
       "            Rhat  \n",
       "beta_1  0.999879  \n",
       "beta_2  1.002030  \n",
       "beta_3  1.000044  \n",
       "beta_4  1.001436  \n",
       "beta_5  0.999889  \n",
       "beta_6  1.000135  \n",
       "a       1.000841  \n",
       "sigma   1.000061  "
      ]
     },
     "execution_count": 43,
     "metadata": {},
     "output_type": "execute_result"
    }
   ],
   "source": [
    "pm.summary(models_and_traces[5][1]).loc[lambda df: ~ df.index.str.contains('__')]"
   ]
  },
  {
   "cell_type": "markdown",
   "metadata": {},
   "source": [
    "**6H1**"
   ]
  },
  {
   "cell_type": "code",
   "execution_count": 44,
   "metadata": {},
   "outputs": [
    {
     "name": "stderr",
     "output_type": "stream",
     "text": [
      "/anaconda3/envs/rethinking_statistics/lib/python3.7/site-packages/pymc3/stats.py:211: UserWarning: For one or more samples the posterior variance of the\n",
      "        log predictive densities exceeds 0.4. This could be indication of\n",
      "        WAIC starting to fail see http://arxiv.org/abs/1507.04544 for details\n",
      "        \n",
      "  \"\"\")\n",
      "/anaconda3/envs/rethinking_statistics/lib/python3.7/site-packages/pymc3/stats.py:211: UserWarning: For one or more samples the posterior variance of the\n",
      "        log predictive densities exceeds 0.4. This could be indication of\n",
      "        WAIC starting to fail see http://arxiv.org/abs/1507.04544 for details\n",
      "        \n",
      "  \"\"\")\n",
      "/anaconda3/envs/rethinking_statistics/lib/python3.7/site-packages/pymc3/stats.py:211: UserWarning: For one or more samples the posterior variance of the\n",
      "        log predictive densities exceeds 0.4. This could be indication of\n",
      "        WAIC starting to fail see http://arxiv.org/abs/1507.04544 for details\n",
      "        \n",
      "  \"\"\")\n"
     ]
    }
   ],
   "source": [
    "compare_df = (\n",
    "    pm\n",
    "    .compare(\n",
    "        model_dict = {m: t for m, t in models_and_traces},\n",
    "        method='pseudo-BMA'\n",
    "    )\n",
    "    .assign(model = ['m{}'.format(poly) for poly in poly_values])\n",
    "    .set_index('model')\n",
    ")"
   ]
  },
  {
   "cell_type": "code",
   "execution_count": 45,
   "metadata": {},
   "outputs": [
    {
     "data": {
      "text/html": [
       "<div>\n",
       "<style scoped>\n",
       "    .dataframe tbody tr th:only-of-type {\n",
       "        vertical-align: middle;\n",
       "    }\n",
       "\n",
       "    .dataframe tbody tr th {\n",
       "        vertical-align: top;\n",
       "    }\n",
       "\n",
       "    .dataframe thead th {\n",
       "        text-align: right;\n",
       "    }\n",
       "</style>\n",
       "<table border=\"1\" class=\"dataframe\">\n",
       "  <thead>\n",
       "    <tr style=\"text-align: right;\">\n",
       "      <th></th>\n",
       "      <th>WAIC</th>\n",
       "      <th>pWAIC</th>\n",
       "      <th>dWAIC</th>\n",
       "      <th>weight</th>\n",
       "      <th>SE</th>\n",
       "      <th>dSE</th>\n",
       "      <th>var_warn</th>\n",
       "    </tr>\n",
       "    <tr>\n",
       "      <th>model</th>\n",
       "      <th></th>\n",
       "      <th></th>\n",
       "      <th></th>\n",
       "      <th></th>\n",
       "      <th></th>\n",
       "      <th></th>\n",
       "      <th></th>\n",
       "    </tr>\n",
       "  </thead>\n",
       "  <tbody>\n",
       "    <tr>\n",
       "      <th>m1</th>\n",
       "      <td>2024.77</td>\n",
       "      <td>6.08</td>\n",
       "      <td>0</td>\n",
       "      <td>0.52</td>\n",
       "      <td>25.12</td>\n",
       "      <td>0</td>\n",
       "      <td>1</td>\n",
       "    </tr>\n",
       "    <tr>\n",
       "      <th>m2</th>\n",
       "      <td>2025.09</td>\n",
       "      <td>4.9</td>\n",
       "      <td>0.32</td>\n",
       "      <td>0.44</td>\n",
       "      <td>25.83</td>\n",
       "      <td>2.85</td>\n",
       "      <td>0</td>\n",
       "    </tr>\n",
       "    <tr>\n",
       "      <th>m3</th>\n",
       "      <td>2030.14</td>\n",
       "      <td>5.34</td>\n",
       "      <td>5.37</td>\n",
       "      <td>0.04</td>\n",
       "      <td>23.97</td>\n",
       "      <td>8.62</td>\n",
       "      <td>1</td>\n",
       "    </tr>\n",
       "    <tr>\n",
       "      <th>m4</th>\n",
       "      <td>2098.59</td>\n",
       "      <td>4.26</td>\n",
       "      <td>73.82</td>\n",
       "      <td>0</td>\n",
       "      <td>23.89</td>\n",
       "      <td>16.69</td>\n",
       "      <td>1</td>\n",
       "    </tr>\n",
       "    <tr>\n",
       "      <th>m5</th>\n",
       "      <td>2208.44</td>\n",
       "      <td>3.09</td>\n",
       "      <td>183.67</td>\n",
       "      <td>0</td>\n",
       "      <td>23.39</td>\n",
       "      <td>19.97</td>\n",
       "      <td>0</td>\n",
       "    </tr>\n",
       "    <tr>\n",
       "      <th>m6</th>\n",
       "      <td>2421.02</td>\n",
       "      <td>2.54</td>\n",
       "      <td>396.25</td>\n",
       "      <td>0</td>\n",
       "      <td>21.71</td>\n",
       "      <td>26.3</td>\n",
       "      <td>0</td>\n",
       "    </tr>\n",
       "  </tbody>\n",
       "</table>\n",
       "</div>"
      ],
      "text/plain": [
       "          WAIC pWAIC   dWAIC weight     SE    dSE var_warn\n",
       "model                                                     \n",
       "m1     2024.77  6.08       0   0.52  25.12      0        1\n",
       "m2     2025.09   4.9    0.32   0.44  25.83   2.85        0\n",
       "m3     2030.14  5.34    5.37   0.04  23.97   8.62        1\n",
       "m4     2098.59  4.26   73.82      0  23.89  16.69        1\n",
       "m5     2208.44  3.09  183.67      0  23.39  19.97        0\n",
       "m6     2421.02  2.54  396.25      0  21.71   26.3        0"
      ]
     },
     "execution_count": 45,
     "metadata": {},
     "output_type": "execute_result"
    }
   ],
   "source": [
    "compare_df.sort_values('WAIC')"
   ]
  },
  {
   "cell_type": "code",
   "execution_count": 46,
   "metadata": {},
   "outputs": [
    {
     "data": {
      "image/png": "[encoded data removed]",
      "text/plain": [
       "<Figure size 432x288 with 1 Axes>"
      ]
     },
     "metadata": {
      "needs_background": "light"
     },
     "output_type": "display_data"
    }
   ],
   "source": [
    "pm.compareplot(compare_df);"
   ]
  },
  {
   "cell_type": "markdown",
   "metadata": {},
   "source": [
    "Comparison: 1-poly model has best WAIC, gets half of total weight. Nearly all of other weight goes to 2-poly model, others are essentially 0.\n",
    "\n",
    "Higher order model: worse (higher) WAIC, less weight."
   ]
  },
  {
   "cell_type": "markdown",
   "metadata": {},
   "source": [
    "**6H2**"
   ]
  },
  {
   "cell_type": "code",
   "execution_count": 47,
   "metadata": {},
   "outputs": [],
   "source": [
    "sns.set()"
   ]
  },
  {
   "cell_type": "code",
   "execution_count": 48,
   "metadata": {},
   "outputs": [],
   "source": [
    "def plot_trace_dataframe(t_df, ax, title):\n",
    "    \"\"\"\n",
    "    Plot trace dataframe t_df into axes ax\n",
    "    \"\"\"\n",
    "\n",
    "    means = t_df.mean()\n",
    "\n",
    "    mu_hpd = pm.hpd(t_df.filter(like='mu__').values, alpha=0.03)\n",
    "\n",
    "    xy = (\n",
    "        pd\n",
    "        .DataFrame(\n",
    "            data=means.filter(like='mu__'), \n",
    "            columns=['mu']\n",
    "        )\n",
    "        .assign(\n",
    "            age=d1.age.values,\n",
    "            height=d1.height.values,\n",
    "            mu_hpd_lower=mu_hpd[:,0],\n",
    "            mu_hpd_upper=mu_hpd[:,1]\n",
    "        )\n",
    "        .sort_values('age')\n",
    "        .reset_index(drop=True)\n",
    "    )\n",
    "\n",
    "    ax.plot('age', 'mu', 'g-', data=xy)\n",
    "    ax.plot('age', 'height', 'ob', mew=1, fillstyle='none', alpha=.3, data=xy)\n",
    "    ax.fill_between('age', 'mu_hpd_lower', 'mu_hpd_upper', color='g', alpha=.3, data=xy)\n",
    "    ax.set_xlabel('standardized age')\n",
    "    ax.set_ylabel('height')\n",
    "    ax.set_title(title)"
   ]
  },
  {
   "cell_type": "code",
   "execution_count": 49,
   "metadata": {},
   "outputs": [
    {
     "data": {
      "image/png": "[encoded data removed]",
      "text/plain": [
       "<Figure size 1440x1440 with 6 Axes>"
      ]
     },
     "metadata": {},
     "output_type": "display_data"
    }
   ],
   "source": [
    "figure, axes_array = plt.subplots(nrows=2, ncols=3, sharex=True, sharey=True, squeeze=False, figsize=(20, 20))\n",
    "\n",
    "for ((_, t), ax, i) in zip(models_and_traces, axes_array.ravel(), range(len(models_and_traces))):\n",
    "    plot_trace_dataframe(pm.trace_to_dataframe(t), ax, '$m_{}$'.format(i+1))"
   ]
  },
  {
   "cell_type": "markdown",
   "metadata": {},
   "source": [
    "Analysis:\n",
    "\n",
    "The higher the degree of the polynomial the closer the means follow the data. However, where the change from degree 1 (line) to degree 2 (parabola) seems to create predicted means that follow the global trend of the data, going to higher degrees leads to predictions that become unstable, 'squiggly' and follow minor variations in the data which probably won't generalize."
   ]
  },
  {
   "cell_type": "markdown",
   "metadata": {},
   "source": [
    "**6H3**"
   ]
  },
  {
   "cell_type": "code",
   "execution_count": 50,
   "metadata": {},
   "outputs": [
    {
     "name": "stderr",
     "output_type": "stream",
     "text": [
      "100%|██████████| 10000/10000 [00:08<00:00, 1145.44it/s]\n"
     ]
    }
   ],
   "source": [
    "height_ensemble = pm.sample_ppc_w(\n",
    "    [trace for (model, trace) in models_and_traces], \n",
    "    10000, \n",
    "    [model for (model, trace) in models_and_traces], \n",
    "    weights=compare_df.weight.sort_index(ascending=True)\n",
    ")"
   ]
  },
  {
   "cell_type": "code",
   "execution_count": 51,
   "metadata": {},
   "outputs": [
    {
     "data": {
      "text/plain": [
       "(10000, 272)"
      ]
     },
     "execution_count": 51,
     "metadata": {},
     "output_type": "execute_result"
    }
   ],
   "source": [
    "height_ensemble['height'].shape"
   ]
  },
  {
   "cell_type": "code",
   "execution_count": 52,
   "metadata": {},
   "outputs": [],
   "source": [
    "# NOTE: values aren't actually 'mu' values, but 'height' values, my function just expects that naming\n",
    "height_ensemble_df = pd.DataFrame(data=height_ensemble['height'], columns=['mu__{}'.format(i) for i in range(272)])"
   ]
  },
  {
   "cell_type": "code",
   "execution_count": 53,
   "metadata": {},
   "outputs": [
    {
     "data": {
      "text/html": [
       "<div>\n",
       "<style scoped>\n",
       "    .dataframe tbody tr th:only-of-type {\n",
       "        vertical-align: middle;\n",
       "    }\n",
       "\n",
       "    .dataframe tbody tr th {\n",
       "        vertical-align: top;\n",
       "    }\n",
       "\n",
       "    .dataframe thead th {\n",
       "        text-align: right;\n",
       "    }\n",
       "</style>\n",
       "<table border=\"1\" class=\"dataframe\">\n",
       "  <thead>\n",
       "    <tr style=\"text-align: right;\">\n",
       "      <th></th>\n",
       "      <th>mu__0</th>\n",
       "      <th>mu__1</th>\n",
       "      <th>mu__2</th>\n",
       "      <th>mu__3</th>\n",
       "      <th>mu__4</th>\n",
       "      <th>mu__5</th>\n",
       "      <th>mu__6</th>\n",
       "      <th>mu__7</th>\n",
       "      <th>mu__8</th>\n",
       "      <th>mu__9</th>\n",
       "      <th>...</th>\n",
       "      <th>mu__262</th>\n",
       "      <th>mu__263</th>\n",
       "      <th>mu__264</th>\n",
       "      <th>mu__265</th>\n",
       "      <th>mu__266</th>\n",
       "      <th>mu__267</th>\n",
       "      <th>mu__268</th>\n",
       "      <th>mu__269</th>\n",
       "      <th>mu__270</th>\n",
       "      <th>mu__271</th>\n",
       "    </tr>\n",
       "  </thead>\n",
       "  <tbody>\n",
       "    <tr>\n",
       "      <th>0</th>\n",
       "      <td>172.365043</td>\n",
       "      <td>159.427498</td>\n",
       "      <td>167.254370</td>\n",
       "      <td>130.547391</td>\n",
       "      <td>142.618608</td>\n",
       "      <td>111.451501</td>\n",
       "      <td>170.941849</td>\n",
       "      <td>168.301466</td>\n",
       "      <td>179.097105</td>\n",
       "      <td>158.723360</td>\n",
       "      <td>...</td>\n",
       "      <td>100.574613</td>\n",
       "      <td>125.404283</td>\n",
       "      <td>175.368406</td>\n",
       "      <td>136.395107</td>\n",
       "      <td>159.912759</td>\n",
       "      <td>126.088078</td>\n",
       "      <td>125.840469</td>\n",
       "      <td>105.564321</td>\n",
       "      <td>91.118357</td>\n",
       "      <td>159.720882</td>\n",
       "    </tr>\n",
       "    <tr>\n",
       "      <th>1</th>\n",
       "      <td>126.137096</td>\n",
       "      <td>142.145426</td>\n",
       "      <td>136.442948</td>\n",
       "      <td>131.398343</td>\n",
       "      <td>146.490430</td>\n",
       "      <td>128.347913</td>\n",
       "      <td>153.261550</td>\n",
       "      <td>150.283002</td>\n",
       "      <td>135.417528</td>\n",
       "      <td>158.199403</td>\n",
       "      <td>...</td>\n",
       "      <td>133.375309</td>\n",
       "      <td>103.271120</td>\n",
       "      <td>176.642337</td>\n",
       "      <td>143.681972</td>\n",
       "      <td>91.591918</td>\n",
       "      <td>139.842916</td>\n",
       "      <td>149.498882</td>\n",
       "      <td>126.261769</td>\n",
       "      <td>84.068214</td>\n",
       "      <td>164.222088</td>\n",
       "    </tr>\n",
       "    <tr>\n",
       "      <th>2</th>\n",
       "      <td>197.089520</td>\n",
       "      <td>182.647739</td>\n",
       "      <td>152.812184</td>\n",
       "      <td>113.342998</td>\n",
       "      <td>111.191140</td>\n",
       "      <td>137.944621</td>\n",
       "      <td>128.535310</td>\n",
       "      <td>153.722129</td>\n",
       "      <td>193.094331</td>\n",
       "      <td>146.430485</td>\n",
       "      <td>...</td>\n",
       "      <td>168.437680</td>\n",
       "      <td>86.161295</td>\n",
       "      <td>171.676807</td>\n",
       "      <td>152.259812</td>\n",
       "      <td>74.703608</td>\n",
       "      <td>177.287026</td>\n",
       "      <td>127.347375</td>\n",
       "      <td>120.068971</td>\n",
       "      <td>79.898818</td>\n",
       "      <td>121.629940</td>\n",
       "    </tr>\n",
       "    <tr>\n",
       "      <th>3</th>\n",
       "      <td>174.886646</td>\n",
       "      <td>174.930019</td>\n",
       "      <td>125.696247</td>\n",
       "      <td>117.200009</td>\n",
       "      <td>156.251351</td>\n",
       "      <td>156.514688</td>\n",
       "      <td>180.110254</td>\n",
       "      <td>146.051671</td>\n",
       "      <td>138.260202</td>\n",
       "      <td>127.502249</td>\n",
       "      <td>...</td>\n",
       "      <td>109.575140</td>\n",
       "      <td>159.114213</td>\n",
       "      <td>172.105512</td>\n",
       "      <td>145.001998</td>\n",
       "      <td>153.705922</td>\n",
       "      <td>115.700613</td>\n",
       "      <td>113.155923</td>\n",
       "      <td>139.166595</td>\n",
       "      <td>99.518645</td>\n",
       "      <td>198.186347</td>\n",
       "    </tr>\n",
       "    <tr>\n",
       "      <th>4</th>\n",
       "      <td>171.525643</td>\n",
       "      <td>150.895023</td>\n",
       "      <td>176.859530</td>\n",
       "      <td>162.076753</td>\n",
       "      <td>152.203402</td>\n",
       "      <td>125.592666</td>\n",
       "      <td>159.355224</td>\n",
       "      <td>175.090487</td>\n",
       "      <td>151.464848</td>\n",
       "      <td>135.748229</td>\n",
       "      <td>...</td>\n",
       "      <td>114.866154</td>\n",
       "      <td>107.324754</td>\n",
       "      <td>130.431588</td>\n",
       "      <td>138.710923</td>\n",
       "      <td>101.030192</td>\n",
       "      <td>151.718634</td>\n",
       "      <td>120.255204</td>\n",
       "      <td>142.491980</td>\n",
       "      <td>81.508329</td>\n",
       "      <td>156.710517</td>\n",
       "    </tr>\n",
       "  </tbody>\n",
       "</table>\n",
       "<p>5 rows × 272 columns</p>\n",
       "</div>"
      ],
      "text/plain": [
       "        mu__0       mu__1       mu__2       mu__3       mu__4       mu__5  \\\n",
       "0  172.365043  159.427498  167.254370  130.547391  142.618608  111.451501   \n",
       "1  126.137096  142.145426  136.442948  131.398343  146.490430  128.347913   \n",
       "2  197.089520  182.647739  152.812184  113.342998  111.191140  137.944621   \n",
       "3  174.886646  174.930019  125.696247  117.200009  156.251351  156.514688   \n",
       "4  171.525643  150.895023  176.859530  162.076753  152.203402  125.592666   \n",
       "\n",
       "        mu__6       mu__7       mu__8       mu__9  ...     mu__262  \\\n",
       "0  170.941849  168.301466  179.097105  158.723360  ...  100.574613   \n",
       "1  153.261550  150.283002  135.417528  158.199403  ...  133.375309   \n",
       "2  128.535310  153.722129  193.094331  146.430485  ...  168.437680   \n",
       "3  180.110254  146.051671  138.260202  127.502249  ...  109.575140   \n",
       "4  159.355224  175.090487  151.464848  135.748229  ...  114.866154   \n",
       "\n",
       "      mu__263     mu__264     mu__265     mu__266     mu__267     mu__268  \\\n",
       "0  125.404283  175.368406  136.395107  159.912759  126.088078  125.840469   \n",
       "1  103.271120  176.642337  143.681972   91.591918  139.842916  149.498882   \n",
       "2   86.161295  171.676807  152.259812   74.703608  177.287026  127.347375   \n",
       "3  159.114213  172.105512  145.001998  153.705922  115.700613  113.155923   \n",
       "4  107.324754  130.431588  138.710923  101.030192  151.718634  120.255204   \n",
       "\n",
       "      mu__269    mu__270     mu__271  \n",
       "0  105.564321  91.118357  159.720882  \n",
       "1  126.261769  84.068214  164.222088  \n",
       "2  120.068971  79.898818  121.629940  \n",
       "3  139.166595  99.518645  198.186347  \n",
       "4  142.491980  81.508329  156.710517  \n",
       "\n",
       "[5 rows x 272 columns]"
      ]
     },
     "execution_count": 53,
     "metadata": {},
     "output_type": "execute_result"
    }
   ],
   "source": [
    "height_ensemble_df.head()"
   ]
  },
  {
   "cell_type": "code",
   "execution_count": 54,
   "metadata": {},
   "outputs": [
    {
     "data": {
      "image/png": "[encoded data removed]",
      "text/plain": [
       "<Figure size 432x288 with 1 Axes>"
      ]
     },
     "metadata": {},
     "output_type": "display_data"
    }
   ],
   "source": [
    "plot_trace_dataframe(height_ensemble_df, plt.axes(), 'height ensemble')"
   ]
  },
  {
   "cell_type": "markdown",
   "metadata": {},
   "source": [
    "the above only gives me the posterior predictive, not exactly what i am looking for. the book seems to request to specifically compare differences in predicted means/spread of mean\n",
    "\n",
    "idea: create weighted average of samples per model, treat that as sample of new model"
   ]
  },
  {
   "cell_type": "code",
   "execution_count": 55,
   "metadata": {},
   "outputs": [],
   "source": [
    "weights=compare_df.weight.sort_index(ascending=True)"
   ]
  },
  {
   "cell_type": "code",
   "execution_count": 56,
   "metadata": {},
   "outputs": [
    {
     "data": {
      "text/plain": [
       "model\n",
       "m1    0.52\n",
       "m2    0.44\n",
       "m3    0.04\n",
       "m4       0\n",
       "m5       0\n",
       "m6       0\n",
       "Name: weight, dtype: object"
      ]
     },
     "execution_count": 56,
     "metadata": {},
     "output_type": "execute_result"
    }
   ],
   "source": [
    "weights"
   ]
  },
  {
   "cell_type": "markdown",
   "metadata": {},
   "source": [
    "how to deal with cases of 0 weight? will add nothing to sample but will increase denominator in (weighted_sum) / (number_of_models). this will change scale of parameter estimation, probably unwanted"
   ]
  },
  {
   "cell_type": "code",
   "execution_count": 57,
   "metadata": {},
   "outputs": [
    {
     "data": {
      "text/plain": [
       "model\n",
       "m1    0.52\n",
       "m2    0.44\n",
       "m3    0.04\n",
       "Name: weight, dtype: object"
      ]
     },
     "execution_count": 57,
     "metadata": {},
     "output_type": "execute_result"
    }
   ],
   "source": [
    "weights[weights > 0]"
   ]
  },
  {
   "cell_type": "code",
   "execution_count": 58,
   "metadata": {},
   "outputs": [
    {
     "data": {
      "text/plain": [
       "3"
      ]
     },
     "execution_count": 58,
     "metadata": {},
     "output_type": "execute_result"
    }
   ],
   "source": [
    "sum(weights > 0)"
   ]
  },
  {
   "cell_type": "code",
   "execution_count": 59,
   "metadata": {},
   "outputs": [],
   "source": [
    "weighted_average_df = sum([weight * pm.trace_to_dataframe(t) for (weight, (_, t)) in zip(weights, models_and_traces)])"
   ]
  },
  {
   "cell_type": "code",
   "execution_count": 60,
   "metadata": {},
   "outputs": [
    {
     "data": {
      "image/png": "[encoded data removed]",
      "text/plain": [
       "<Figure size 432x288 with 1 Axes>"
      ]
     },
     "metadata": {},
     "output_type": "display_data"
    }
   ],
   "source": [
    "plot_trace_dataframe(weighted_average_df, plt.axes(), 'weighted model averages')"
   ]
  },
  {
   "cell_type": "markdown",
   "metadata": {},
   "source": [
    "not what i want - i don't want to average samples, i want to mix complete samples in relative amounts proportional to model weight. let's try again"
   ]
  },
  {
   "cell_type": "code",
   "execution_count": 61,
   "metadata": {},
   "outputs": [],
   "source": [
    "# 4k samples = same amount as single model samples\n",
    "n_ensemble_samples = 10000"
   ]
  },
  {
   "cell_type": "code",
   "execution_count": 62,
   "metadata": {},
   "outputs": [],
   "source": [
    "trace_dfs_with_weights = [\n",
    "    pm.trace_to_dataframe(trace).assign(ensemble_weight=weight, model='m{}'.format(i))\n",
    "    for (weight, (_, trace), i) in zip(weights, models_and_traces, range(1, len(models_and_traces)+1))\n",
    "]\n",
    "    "
   ]
  },
  {
   "cell_type": "code",
   "execution_count": 63,
   "metadata": {},
   "outputs": [
    {
     "data": {
      "text/plain": [
       "(4000, 277)"
      ]
     },
     "execution_count": 63,
     "metadata": {},
     "output_type": "execute_result"
    }
   ],
   "source": [
    "trace_dfs_with_weights[0].shape"
   ]
  },
  {
   "cell_type": "code",
   "execution_count": 64,
   "metadata": {},
   "outputs": [
    {
     "name": "stdout",
     "output_type": "stream",
     "text": [
      "0\n",
      "beta_1              19.789536\n",
      "a                  136.630895\n",
      "mu__0              168.733485\n",
      "mu__1              170.641196\n",
      "mu__2              147.748661\n",
      "mu__3              142.025528\n",
      "mu__4              139.163961\n",
      "mu__5              134.394683\n",
      "mu__6              160.148785\n",
      "mu__7              153.471795\n",
      "mu__8              171.595052\n",
      "mu__9              142.979383\n",
      "mu__10             150.610228\n",
      "mu__11             138.210105\n",
      "mu__12             120.086848\n",
      "mu__13             116.271426\n",
      "mu__14             136.302394\n",
      "mu__15             121.040704\n",
      "mu__16             115.317570\n",
      "mu__17             162.056496\n",
      "mu__18             151.564084\n",
      "mu__19             123.902271\n",
      "mu__20             119.132992\n",
      "mu__21             136.302394\n",
      "mu__22             131.533116\n",
      "mu__23             134.394683\n",
      "mu__24             139.163961\n",
      "mu__25             131.533116\n",
      "mu__26             158.241073\n",
      "mu__27             124.856126\n",
      "                      ...    \n",
      "mu__244            111.502147\n",
      "mu__245            170.641196\n",
      "mu__246            152.517940\n",
      "mu__247            116.271426\n",
      "mu__248            122.948415\n",
      "mu__249            112.456003\n",
      "mu__250            149.656373\n",
      "mu__251            175.410475\n",
      "mu__252            133.440827\n",
      "mu__253            108.640581\n",
      "mu__254            154.425651\n",
      "mu__255            108.640581\n",
      "mu__256            116.271426\n",
      "mu__257            111.502147\n",
      "mu__258            150.610228\n",
      "mu__259            122.948415\n",
      "mu__260            120.086848\n",
      "mu__261            147.748661\n",
      "mu__262            121.040704\n",
      "mu__263            114.363714\n",
      "mu__264            159.194929\n",
      "mu__265            155.379506\n",
      "mu__266            109.594436\n",
      "mu__267            138.210105\n",
      "mu__268            124.856126\n",
      "mu__269            138.210105\n",
      "mu__270            108.640581\n",
      "mu__271            173.502763\n",
      "sigma               20.684856\n",
      "ensemble_weight      0.520000\n",
      "Length: 276, dtype: float64\n"
     ]
    }
   ],
   "source": [
    "for i, df in enumerate(trace_dfs_with_weights[:1]):\n",
    "    print(i)\n",
    "    print(df.mean())"
   ]
  },
  {
   "cell_type": "code",
   "execution_count": 65,
   "metadata": {},
   "outputs": [],
   "source": [
    "weighted_samples = pd.concat(trace_dfs_with_weights, ignore_index=True)"
   ]
  },
  {
   "cell_type": "code",
   "execution_count": 66,
   "metadata": {},
   "outputs": [
    {
     "data": {
      "text/plain": [
       "(24000, 282)"
      ]
     },
     "execution_count": 66,
     "metadata": {},
     "output_type": "execute_result"
    }
   ],
   "source": [
    "weighted_samples.shape"
   ]
  },
  {
   "cell_type": "code",
   "execution_count": 67,
   "metadata": {},
   "outputs": [
    {
     "data": {
      "text/html": [
       "<div>\n",
       "<style scoped>\n",
       "    .dataframe tbody tr th:only-of-type {\n",
       "        vertical-align: middle;\n",
       "    }\n",
       "\n",
       "    .dataframe tbody tr th {\n",
       "        vertical-align: top;\n",
       "    }\n",
       "\n",
       "    .dataframe thead th {\n",
       "        text-align: right;\n",
       "    }\n",
       "</style>\n",
       "<table border=\"1\" class=\"dataframe\">\n",
       "  <thead>\n",
       "    <tr style=\"text-align: right;\">\n",
       "      <th></th>\n",
       "      <th>a</th>\n",
       "      <th>beta_1</th>\n",
       "      <th>beta_2</th>\n",
       "      <th>beta_3</th>\n",
       "      <th>beta_4</th>\n",
       "      <th>beta_5</th>\n",
       "      <th>beta_6</th>\n",
       "      <th>ensemble_weight</th>\n",
       "      <th>model</th>\n",
       "      <th>mu__0</th>\n",
       "      <th>...</th>\n",
       "      <th>mu__91</th>\n",
       "      <th>mu__92</th>\n",
       "      <th>mu__93</th>\n",
       "      <th>mu__94</th>\n",
       "      <th>mu__95</th>\n",
       "      <th>mu__96</th>\n",
       "      <th>mu__97</th>\n",
       "      <th>mu__98</th>\n",
       "      <th>mu__99</th>\n",
       "      <th>sigma</th>\n",
       "    </tr>\n",
       "  </thead>\n",
       "  <tbody>\n",
       "    <tr>\n",
       "      <th>0</th>\n",
       "      <td>135.881677</td>\n",
       "      <td>20.210993</td>\n",
       "      <td>NaN</td>\n",
       "      <td>NaN</td>\n",
       "      <td>NaN</td>\n",
       "      <td>NaN</td>\n",
       "      <td>NaN</td>\n",
       "      <td>0.52</td>\n",
       "      <td>m1</td>\n",
       "      <td>168.667954</td>\n",
       "      <td>...</td>\n",
       "      <td>128.726990</td>\n",
       "      <td>127.752820</td>\n",
       "      <td>184.254672</td>\n",
       "      <td>146.262047</td>\n",
       "      <td>169.642124</td>\n",
       "      <td>138.468689</td>\n",
       "      <td>168.667954</td>\n",
       "      <td>167.693784</td>\n",
       "      <td>128.726990</td>\n",
       "      <td>21.038194</td>\n",
       "    </tr>\n",
       "    <tr>\n",
       "      <th>1</th>\n",
       "      <td>137.962065</td>\n",
       "      <td>20.491726</td>\n",
       "      <td>NaN</td>\n",
       "      <td>NaN</td>\n",
       "      <td>NaN</td>\n",
       "      <td>NaN</td>\n",
       "      <td>NaN</td>\n",
       "      <td>0.52</td>\n",
       "      <td>m1</td>\n",
       "      <td>171.203747</td>\n",
       "      <td>...</td>\n",
       "      <td>130.707999</td>\n",
       "      <td>129.720298</td>\n",
       "      <td>187.006965</td>\n",
       "      <td>148.486620</td>\n",
       "      <td>172.191448</td>\n",
       "      <td>140.585011</td>\n",
       "      <td>171.203747</td>\n",
       "      <td>170.216045</td>\n",
       "      <td>130.707999</td>\n",
       "      <td>20.169880</td>\n",
       "    </tr>\n",
       "    <tr>\n",
       "      <th>2</th>\n",
       "      <td>135.551898</td>\n",
       "      <td>20.253409</td>\n",
       "      <td>NaN</td>\n",
       "      <td>NaN</td>\n",
       "      <td>NaN</td>\n",
       "      <td>NaN</td>\n",
       "      <td>NaN</td>\n",
       "      <td>0.52</td>\n",
       "      <td>m1</td>\n",
       "      <td>168.406982</td>\n",
       "      <td>...</td>\n",
       "      <td>128.382196</td>\n",
       "      <td>127.405982</td>\n",
       "      <td>184.026411</td>\n",
       "      <td>145.954053</td>\n",
       "      <td>169.383197</td>\n",
       "      <td>138.144339</td>\n",
       "      <td>168.406982</td>\n",
       "      <td>167.430768</td>\n",
       "      <td>128.382196</td>\n",
       "      <td>21.564271</td>\n",
       "    </tr>\n",
       "    <tr>\n",
       "      <th>3</th>\n",
       "      <td>135.438480</td>\n",
       "      <td>18.321050</td>\n",
       "      <td>NaN</td>\n",
       "      <td>NaN</td>\n",
       "      <td>NaN</td>\n",
       "      <td>NaN</td>\n",
       "      <td>NaN</td>\n",
       "      <td>0.52</td>\n",
       "      <td>m1</td>\n",
       "      <td>165.158891</td>\n",
       "      <td>...</td>\n",
       "      <td>128.952833</td>\n",
       "      <td>128.069759</td>\n",
       "      <td>179.288085</td>\n",
       "      <td>144.848176</td>\n",
       "      <td>166.041966</td>\n",
       "      <td>137.783579</td>\n",
       "      <td>165.158891</td>\n",
       "      <td>164.275817</td>\n",
       "      <td>128.952833</td>\n",
       "      <td>20.380200</td>\n",
       "    </tr>\n",
       "    <tr>\n",
       "      <th>4</th>\n",
       "      <td>137.624335</td>\n",
       "      <td>19.719417</td>\n",
       "      <td>NaN</td>\n",
       "      <td>NaN</td>\n",
       "      <td>NaN</td>\n",
       "      <td>NaN</td>\n",
       "      <td>NaN</td>\n",
       "      <td>0.52</td>\n",
       "      <td>m1</td>\n",
       "      <td>169.613178</td>\n",
       "      <td>...</td>\n",
       "      <td>130.643667</td>\n",
       "      <td>129.693191</td>\n",
       "      <td>184.820792</td>\n",
       "      <td>147.752233</td>\n",
       "      <td>170.563654</td>\n",
       "      <td>140.148425</td>\n",
       "      <td>169.613178</td>\n",
       "      <td>168.662702</td>\n",
       "      <td>130.643667</td>\n",
       "      <td>20.617807</td>\n",
       "    </tr>\n",
       "  </tbody>\n",
       "</table>\n",
       "<p>5 rows × 282 columns</p>\n",
       "</div>"
      ],
      "text/plain": [
       "            a     beta_1  beta_2  beta_3  beta_4  beta_5  beta_6  \\\n",
       "0  135.881677  20.210993     NaN     NaN     NaN     NaN     NaN   \n",
       "1  137.962065  20.491726     NaN     NaN     NaN     NaN     NaN   \n",
       "2  135.551898  20.253409     NaN     NaN     NaN     NaN     NaN   \n",
       "3  135.438480  18.321050     NaN     NaN     NaN     NaN     NaN   \n",
       "4  137.624335  19.719417     NaN     NaN     NaN     NaN     NaN   \n",
       "\n",
       "   ensemble_weight model       mu__0  ...      mu__91      mu__92      mu__93  \\\n",
       "0             0.52    m1  168.667954  ...  128.726990  127.752820  184.254672   \n",
       "1             0.52    m1  171.203747  ...  130.707999  129.720298  187.006965   \n",
       "2             0.52    m1  168.406982  ...  128.382196  127.405982  184.026411   \n",
       "3             0.52    m1  165.158891  ...  128.952833  128.069759  179.288085   \n",
       "4             0.52    m1  169.613178  ...  130.643667  129.693191  184.820792   \n",
       "\n",
       "       mu__94      mu__95      mu__96      mu__97      mu__98      mu__99  \\\n",
       "0  146.262047  169.642124  138.468689  168.667954  167.693784  128.726990   \n",
       "1  148.486620  172.191448  140.585011  171.203747  170.216045  130.707999   \n",
       "2  145.954053  169.383197  138.144339  168.406982  167.430768  128.382196   \n",
       "3  144.848176  166.041966  137.783579  165.158891  164.275817  128.952833   \n",
       "4  147.752233  170.563654  140.148425  169.613178  168.662702  130.643667   \n",
       "\n",
       "       sigma  \n",
       "0  21.038194  \n",
       "1  20.169880  \n",
       "2  21.564271  \n",
       "3  20.380200  \n",
       "4  20.617807  \n",
       "\n",
       "[5 rows x 282 columns]"
      ]
     },
     "execution_count": 67,
     "metadata": {},
     "output_type": "execute_result"
    }
   ],
   "source": [
    "weighted_samples.head()"
   ]
  },
  {
   "cell_type": "code",
   "execution_count": 68,
   "metadata": {},
   "outputs": [],
   "source": [
    "weighted_ensemble_samples = weighted_samples.sample(\n",
    "    n=n_ensemble_samples, \n",
    "    replace=True, \n",
    "    weights=weighted_samples.ensemble_weight,\n",
    "    random_state=np.random.RandomState(42)\n",
    ")"
   ]
  },
  {
   "cell_type": "code",
   "execution_count": 69,
   "metadata": {},
   "outputs": [
    {
     "data": {
      "text/plain": [
       "(10000, 282)"
      ]
     },
     "execution_count": 69,
     "metadata": {},
     "output_type": "execute_result"
    }
   ],
   "source": [
    "weighted_ensemble_samples.shape"
   ]
  },
  {
   "cell_type": "code",
   "execution_count": 70,
   "metadata": {},
   "outputs": [
    {
     "data": {
      "text/html": [
       "<div>\n",
       "<style scoped>\n",
       "    .dataframe tbody tr th:only-of-type {\n",
       "        vertical-align: middle;\n",
       "    }\n",
       "\n",
       "    .dataframe tbody tr th {\n",
       "        vertical-align: top;\n",
       "    }\n",
       "\n",
       "    .dataframe thead th {\n",
       "        text-align: right;\n",
       "    }\n",
       "</style>\n",
       "<table border=\"1\" class=\"dataframe\">\n",
       "  <thead>\n",
       "    <tr style=\"text-align: right;\">\n",
       "      <th></th>\n",
       "      <th>a</th>\n",
       "      <th>beta_1</th>\n",
       "      <th>beta_2</th>\n",
       "      <th>beta_3</th>\n",
       "      <th>beta_4</th>\n",
       "      <th>beta_5</th>\n",
       "      <th>beta_6</th>\n",
       "      <th>ensemble_weight</th>\n",
       "      <th>model</th>\n",
       "      <th>mu__0</th>\n",
       "      <th>...</th>\n",
       "      <th>mu__91</th>\n",
       "      <th>mu__92</th>\n",
       "      <th>mu__93</th>\n",
       "      <th>mu__94</th>\n",
       "      <th>mu__95</th>\n",
       "      <th>mu__96</th>\n",
       "      <th>mu__97</th>\n",
       "      <th>mu__98</th>\n",
       "      <th>mu__99</th>\n",
       "      <th>sigma</th>\n",
       "    </tr>\n",
       "  </thead>\n",
       "  <tbody>\n",
       "    <tr>\n",
       "      <th>2881</th>\n",
       "      <td>136.792949</td>\n",
       "      <td>19.344446</td>\n",
       "      <td>NaN</td>\n",
       "      <td>NaN</td>\n",
       "      <td>NaN</td>\n",
       "      <td>NaN</td>\n",
       "      <td>NaN</td>\n",
       "      <td>0.52</td>\n",
       "      <td>m1</td>\n",
       "      <td>168.173513</td>\n",
       "      <td>...</td>\n",
       "      <td>129.945019</td>\n",
       "      <td>129.012617</td>\n",
       "      <td>183.091950</td>\n",
       "      <td>146.728261</td>\n",
       "      <td>169.105916</td>\n",
       "      <td>139.269042</td>\n",
       "      <td>168.173513</td>\n",
       "      <td>167.241111</td>\n",
       "      <td>129.945019</td>\n",
       "      <td>21.254872</td>\n",
       "    </tr>\n",
       "    <tr>\n",
       "      <th>7915</th>\n",
       "      <td>143.031937</td>\n",
       "      <td>24.218736</td>\n",
       "      <td>-10.750071</td>\n",
       "      <td>NaN</td>\n",
       "      <td>NaN</td>\n",
       "      <td>NaN</td>\n",
       "      <td>NaN</td>\n",
       "      <td>0.44</td>\n",
       "      <td>m2</td>\n",
       "      <td>154.030401</td>\n",
       "      <td>...</td>\n",
       "      <td>133.111356</td>\n",
       "      <td>131.552186</td>\n",
       "      <td>139.416735</td>\n",
       "      <td>152.634975</td>\n",
       "      <td>153.491672</td>\n",
       "      <td>145.955811</td>\n",
       "      <td>154.030401</td>\n",
       "      <td>154.519180</td>\n",
       "      <td>133.111356</td>\n",
       "      <td>13.462851</td>\n",
       "    </tr>\n",
       "    <tr>\n",
       "      <th>5927</th>\n",
       "      <td>143.173281</td>\n",
       "      <td>24.700322</td>\n",
       "      <td>-11.629124</td>\n",
       "      <td>NaN</td>\n",
       "      <td>NaN</td>\n",
       "      <td>NaN</td>\n",
       "      <td>NaN</td>\n",
       "      <td>0.44</td>\n",
       "      <td>m2</td>\n",
       "      <td>152.639719</td>\n",
       "      <td>...</td>\n",
       "      <td>132.972060</td>\n",
       "      <td>131.357636</td>\n",
       "      <td>135.675175</td>\n",
       "      <td>152.791782</td>\n",
       "      <td>151.984694</td>\n",
       "      <td>146.144396</td>\n",
       "      <td>152.639719</td>\n",
       "      <td>153.240710</td>\n",
       "      <td>132.972060</td>\n",
       "      <td>14.297898</td>\n",
       "    </tr>\n",
       "    <tr>\n",
       "      <th>4715</th>\n",
       "      <td>142.893397</td>\n",
       "      <td>24.597193</td>\n",
       "      <td>-12.004069</td>\n",
       "      <td>NaN</td>\n",
       "      <td>NaN</td>\n",
       "      <td>NaN</td>\n",
       "      <td>NaN</td>\n",
       "      <td>0.44</td>\n",
       "      <td>m2</td>\n",
       "      <td>151.205859</td>\n",
       "      <td>...</td>\n",
       "      <td>132.681697</td>\n",
       "      <td>131.058578</td>\n",
       "      <td>133.000642</td>\n",
       "      <td>152.360026</td>\n",
       "      <td>150.486358</td>\n",
       "      <td>145.845168</td>\n",
       "      <td>151.205859</td>\n",
       "      <td>151.869584</td>\n",
       "      <td>132.681697</td>\n",
       "      <td>13.344848</td>\n",
       "    </tr>\n",
       "    <tr>\n",
       "      <th>1200</th>\n",
       "      <td>136.513958</td>\n",
       "      <td>21.242888</td>\n",
       "      <td>NaN</td>\n",
       "      <td>NaN</td>\n",
       "      <td>NaN</td>\n",
       "      <td>NaN</td>\n",
       "      <td>NaN</td>\n",
       "      <td>0.52</td>\n",
       "      <td>m1</td>\n",
       "      <td>170.974176</td>\n",
       "      <td>...</td>\n",
       "      <td>128.993981</td>\n",
       "      <td>127.970073</td>\n",
       "      <td>187.356691</td>\n",
       "      <td>147.424310</td>\n",
       "      <td>171.998083</td>\n",
       "      <td>139.233053</td>\n",
       "      <td>170.974176</td>\n",
       "      <td>169.950269</td>\n",
       "      <td>128.993981</td>\n",
       "      <td>20.039421</td>\n",
       "    </tr>\n",
       "  </tbody>\n",
       "</table>\n",
       "<p>5 rows × 282 columns</p>\n",
       "</div>"
      ],
      "text/plain": [
       "               a     beta_1     beta_2  beta_3  beta_4  beta_5  beta_6  \\\n",
       "2881  136.792949  19.344446        NaN     NaN     NaN     NaN     NaN   \n",
       "7915  143.031937  24.218736 -10.750071     NaN     NaN     NaN     NaN   \n",
       "5927  143.173281  24.700322 -11.629124     NaN     NaN     NaN     NaN   \n",
       "4715  142.893397  24.597193 -12.004069     NaN     NaN     NaN     NaN   \n",
       "1200  136.513958  21.242888        NaN     NaN     NaN     NaN     NaN   \n",
       "\n",
       "      ensemble_weight model       mu__0  ...      mu__91      mu__92  \\\n",
       "2881             0.52    m1  168.173513  ...  129.945019  129.012617   \n",
       "7915             0.44    m2  154.030401  ...  133.111356  131.552186   \n",
       "5927             0.44    m2  152.639719  ...  132.972060  131.357636   \n",
       "4715             0.44    m2  151.205859  ...  132.681697  131.058578   \n",
       "1200             0.52    m1  170.974176  ...  128.993981  127.970073   \n",
       "\n",
       "          mu__93      mu__94      mu__95      mu__96      mu__97      mu__98  \\\n",
       "2881  183.091950  146.728261  169.105916  139.269042  168.173513  167.241111   \n",
       "7915  139.416735  152.634975  153.491672  145.955811  154.030401  154.519180   \n",
       "5927  135.675175  152.791782  151.984694  146.144396  152.639719  153.240710   \n",
       "4715  133.000642  152.360026  150.486358  145.845168  151.205859  151.869584   \n",
       "1200  187.356691  147.424310  171.998083  139.233053  170.974176  169.950269   \n",
       "\n",
       "          mu__99      sigma  \n",
       "2881  129.945019  21.254872  \n",
       "7915  133.111356  13.462851  \n",
       "5927  132.972060  14.297898  \n",
       "4715  132.681697  13.344848  \n",
       "1200  128.993981  20.039421  \n",
       "\n",
       "[5 rows x 282 columns]"
      ]
     },
     "execution_count": 70,
     "metadata": {},
     "output_type": "execute_result"
    }
   ],
   "source": [
    "weighted_ensemble_samples.head()"
   ]
  },
  {
   "cell_type": "markdown",
   "metadata": {},
   "source": [
    "sanity check: models should contribute proportional to their weight"
   ]
  },
  {
   "cell_type": "code",
   "execution_count": 71,
   "metadata": {},
   "outputs": [
    {
     "data": {
      "text/html": [
       "<div>\n",
       "<style scoped>\n",
       "    .dataframe tbody tr th:only-of-type {\n",
       "        vertical-align: middle;\n",
       "    }\n",
       "\n",
       "    .dataframe tbody tr th {\n",
       "        vertical-align: top;\n",
       "    }\n",
       "\n",
       "    .dataframe thead th {\n",
       "        text-align: right;\n",
       "    }\n",
       "</style>\n",
       "<table border=\"1\" class=\"dataframe\">\n",
       "  <thead>\n",
       "    <tr style=\"text-align: right;\">\n",
       "      <th></th>\n",
       "      <th>sampled_fraction</th>\n",
       "      <th>ensemble_weight</th>\n",
       "      <th>difference</th>\n",
       "    </tr>\n",
       "  </thead>\n",
       "  <tbody>\n",
       "    <tr>\n",
       "      <th>m1</th>\n",
       "      <td>0.5310</td>\n",
       "      <td>0.52</td>\n",
       "      <td>-0.0110</td>\n",
       "    </tr>\n",
       "    <tr>\n",
       "      <th>m2</th>\n",
       "      <td>0.4313</td>\n",
       "      <td>0.44</td>\n",
       "      <td>0.0087</td>\n",
       "    </tr>\n",
       "    <tr>\n",
       "      <th>m3</th>\n",
       "      <td>0.0377</td>\n",
       "      <td>0.04</td>\n",
       "      <td>0.0023</td>\n",
       "    </tr>\n",
       "    <tr>\n",
       "      <th>m4</th>\n",
       "      <td>0.0000</td>\n",
       "      <td>0.00</td>\n",
       "      <td>0.0000</td>\n",
       "    </tr>\n",
       "    <tr>\n",
       "      <th>m5</th>\n",
       "      <td>0.0000</td>\n",
       "      <td>0.00</td>\n",
       "      <td>0.0000</td>\n",
       "    </tr>\n",
       "    <tr>\n",
       "      <th>m6</th>\n",
       "      <td>0.0000</td>\n",
       "      <td>0.00</td>\n",
       "      <td>0.0000</td>\n",
       "    </tr>\n",
       "  </tbody>\n",
       "</table>\n",
       "</div>"
      ],
      "text/plain": [
       "    sampled_fraction  ensemble_weight  difference\n",
       "m1            0.5310             0.52     -0.0110\n",
       "m2            0.4313             0.44      0.0087\n",
       "m3            0.0377             0.04      0.0023\n",
       "m4            0.0000             0.00      0.0000\n",
       "m5            0.0000             0.00      0.0000\n",
       "m6            0.0000             0.00      0.0000"
      ]
     },
     "execution_count": 71,
     "metadata": {},
     "output_type": "execute_result"
    }
   ],
   "source": [
    "(\n",
    "    pd\n",
    "    .concat(\n",
    "        objs=[\n",
    "            (weighted_ensemble_samples.model.value_counts() / len(weighted_ensemble_samples)).rename('sampled_fraction'),\n",
    "            weights.rename('ensemble_weight')\n",
    "        ],\n",
    "        axis=1\n",
    "    )\n",
    "    .fillna(0)\n",
    "    .assign(difference=lambda df: df.ensemble_weight - df.sampled_fraction)\n",
    ")"
   ]
  },
  {
   "cell_type": "code",
   "execution_count": 72,
   "metadata": {},
   "outputs": [
    {
     "data": {
      "image/png": "[encoded data removed]",
      "text/plain": [
       "<Figure size 432x288 with 1 Axes>"
      ]
     },
     "metadata": {},
     "output_type": "display_data"
    }
   ],
   "source": [
    "plot_trace_dataframe(weighted_ensemble_samples, plt.axes(), 'weighted model samples')"
   ]
  },
  {
   "cell_type": "markdown",
   "metadata": {},
   "source": [
    "why is this weird?"
   ]
  },
  {
   "cell_type": "code",
   "execution_count": 73,
   "metadata": {},
   "outputs": [
    {
     "data": {
      "text/plain": [
       "Text(0.5, 1.0, 'debug')"
      ]
     },
     "execution_count": 73,
     "metadata": {},
     "output_type": "execute_result"
    },
    {
     "data": {
      "image/png": "[encoded data removed]",
      "text/plain": [
       "<Figure size 432x288 with 1 Axes>"
      ]
     },
     "metadata": {},
     "output_type": "display_data"
    }
   ],
   "source": [
    "t_df = weighted_ensemble_samples\n",
    "ax = plt.axes()\n",
    "title = 'debug'\n",
    "\n",
    "means = t_df.mean()\n",
    "\n",
    "mu_hpd = pm.hpd(t_df.filter(like='mu__').values, alpha=0.03)\n",
    "\n",
    "xy = (\n",
    "    pd\n",
    "    .DataFrame(\n",
    "        data=means.filter(like='mu__'), \n",
    "        columns=['mu']\n",
    "    )\n",
    "    .assign(\n",
    "        age=d1.age.values,\n",
    "        height=d1.height.values,\n",
    "        mu_hpd_lower=mu_hpd[:,0],\n",
    "        mu_hpd_upper=mu_hpd[:,1]\n",
    "    )\n",
    "    .sort_values('age')\n",
    "    .reset_index(drop=True)\n",
    ")\n",
    "\n",
    "ax.plot('age', 'mu', 'g-', data=xy)\n",
    "ax.plot('age', 'height', 'ob', mew=1, fillstyle='none', alpha=.3, data=xy)\n",
    "ax.fill_between('age', 'mu_hpd_lower', 'mu_hpd_upper', color='g', alpha=.3, data=xy)\n",
    "ax.set_xlabel('standardized age')\n",
    "ax.set_ylabel('height')\n",
    "ax.set_title(title)"
   ]
  },
  {
   "cell_type": "code",
   "execution_count": 74,
   "metadata": {},
   "outputs": [
    {
     "data": {
      "text/html": [
       "<div>\n",
       "<style scoped>\n",
       "    .dataframe tbody tr th:only-of-type {\n",
       "        vertical-align: middle;\n",
       "    }\n",
       "\n",
       "    .dataframe tbody tr th {\n",
       "        vertical-align: top;\n",
       "    }\n",
       "\n",
       "    .dataframe thead th {\n",
       "        text-align: right;\n",
       "    }\n",
       "</style>\n",
       "<table border=\"1\" class=\"dataframe\">\n",
       "  <thead>\n",
       "    <tr style=\"text-align: right;\">\n",
       "      <th></th>\n",
       "      <th>mu</th>\n",
       "      <th>age</th>\n",
       "      <th>height</th>\n",
       "      <th>mu_hpd_lower</th>\n",
       "      <th>mu_hpd_upper</th>\n",
       "    </tr>\n",
       "  </thead>\n",
       "  <tbody>\n",
       "    <tr>\n",
       "      <th>0</th>\n",
       "      <td>149.664256</td>\n",
       "      <td>-1.41440</td>\n",
       "      <td>56.5150</td>\n",
       "      <td>144.828934</td>\n",
       "      <td>154.813628</td>\n",
       "    </tr>\n",
       "    <tr>\n",
       "      <th>1</th>\n",
       "      <td>158.229814</td>\n",
       "      <td>-1.41440</td>\n",
       "      <td>60.9600</td>\n",
       "      <td>150.503552</td>\n",
       "      <td>163.889025</td>\n",
       "    </tr>\n",
       "    <tr>\n",
       "      <th>2</th>\n",
       "      <td>109.988869</td>\n",
       "      <td>-1.41440</td>\n",
       "      <td>53.9750</td>\n",
       "      <td>101.439323</td>\n",
       "      <td>118.105855</td>\n",
       "    </tr>\n",
       "    <tr>\n",
       "      <th>3</th>\n",
       "      <td>153.251016</td>\n",
       "      <td>-1.41440</td>\n",
       "      <td>62.8650</td>\n",
       "      <td>149.076484</td>\n",
       "      <td>157.326407</td>\n",
       "    </tr>\n",
       "    <tr>\n",
       "      <th>4</th>\n",
       "      <td>148.060461</td>\n",
       "      <td>-1.41440</td>\n",
       "      <td>68.5800</td>\n",
       "      <td>143.047552</td>\n",
       "      <td>153.431291</td>\n",
       "    </tr>\n",
       "    <tr>\n",
       "      <th>5</th>\n",
       "      <td>162.824279</td>\n",
       "      <td>-1.41440</td>\n",
       "      <td>66.6750</td>\n",
       "      <td>130.967603</td>\n",
       "      <td>189.401751</td>\n",
       "    </tr>\n",
       "    <tr>\n",
       "      <th>6</th>\n",
       "      <td>161.126755</td>\n",
       "      <td>-1.41440</td>\n",
       "      <td>71.1200</td>\n",
       "      <td>149.521497</td>\n",
       "      <td>172.055070</td>\n",
       "    </tr>\n",
       "    <tr>\n",
       "      <th>7</th>\n",
       "      <td>117.888742</td>\n",
       "      <td>-1.38548</td>\n",
       "      <td>91.4400</td>\n",
       "      <td>113.179875</td>\n",
       "      <td>122.531039</td>\n",
       "    </tr>\n",
       "    <tr>\n",
       "      <th>8</th>\n",
       "      <td>151.888118</td>\n",
       "      <td>-1.36620</td>\n",
       "      <td>80.0100</td>\n",
       "      <td>147.505340</td>\n",
       "      <td>156.575680</td>\n",
       "    </tr>\n",
       "    <tr>\n",
       "      <th>9</th>\n",
       "      <td>150.429655</td>\n",
       "      <td>-1.36620</td>\n",
       "      <td>67.3100</td>\n",
       "      <td>145.677547</td>\n",
       "      <td>155.416822</td>\n",
       "    </tr>\n",
       "    <tr>\n",
       "      <th>10</th>\n",
       "      <td>157.283863</td>\n",
       "      <td>-1.36620</td>\n",
       "      <td>76.2000</td>\n",
       "      <td>150.741818</td>\n",
       "      <td>161.751935</td>\n",
       "    </tr>\n",
       "    <tr>\n",
       "      <th>11</th>\n",
       "      <td>104.906163</td>\n",
       "      <td>-1.36620</td>\n",
       "      <td>62.4840</td>\n",
       "      <td>93.221842</td>\n",
       "      <td>115.827493</td>\n",
       "    </tr>\n",
       "    <tr>\n",
       "      <th>12</th>\n",
       "      <td>122.291703</td>\n",
       "      <td>-1.36620</td>\n",
       "      <td>59.6138</td>\n",
       "      <td>119.059269</td>\n",
       "      <td>126.486713</td>\n",
       "    </tr>\n",
       "    <tr>\n",
       "      <th>13</th>\n",
       "      <td>119.384211</td>\n",
       "      <td>-1.36620</td>\n",
       "      <td>69.8500</td>\n",
       "      <td>115.336740</td>\n",
       "      <td>123.498458</td>\n",
       "    </tr>\n",
       "    <tr>\n",
       "      <th>14</th>\n",
       "      <td>149.664256</td>\n",
       "      <td>-1.36620</td>\n",
       "      <td>67.9450</td>\n",
       "      <td>144.828934</td>\n",
       "      <td>154.813628</td>\n",
       "    </tr>\n",
       "    <tr>\n",
       "      <th>15</th>\n",
       "      <td>103.154003</td>\n",
       "      <td>-1.36620</td>\n",
       "      <td>60.4520</td>\n",
       "      <td>89.699113</td>\n",
       "      <td>114.920036</td>\n",
       "    </tr>\n",
       "    <tr>\n",
       "      <th>16</th>\n",
       "      <td>125.088814</td>\n",
       "      <td>-1.36620</td>\n",
       "      <td>74.9300</td>\n",
       "      <td>122.319824</td>\n",
       "      <td>130.428453</td>\n",
       "    </tr>\n",
       "    <tr>\n",
       "      <th>17</th>\n",
       "      <td>99.562004</td>\n",
       "      <td>-1.36620</td>\n",
       "      <td>83.8200</td>\n",
       "      <td>82.647985</td>\n",
       "      <td>114.166416</td>\n",
       "    </tr>\n",
       "    <tr>\n",
       "      <th>18</th>\n",
       "      <td>131.605620</td>\n",
       "      <td>-1.36620</td>\n",
       "      <td>64.1350</td>\n",
       "      <td>127.619419</td>\n",
       "      <td>138.894070</td>\n",
       "    </tr>\n",
       "    <tr>\n",
       "      <th>19</th>\n",
       "      <td>157.283863</td>\n",
       "      <td>-1.36620</td>\n",
       "      <td>71.1200</td>\n",
       "      <td>150.741818</td>\n",
       "      <td>161.751935</td>\n",
       "    </tr>\n",
       "    <tr>\n",
       "      <th>20</th>\n",
       "      <td>97.721899</td>\n",
       "      <td>-1.36620</td>\n",
       "      <td>74.2950</td>\n",
       "      <td>78.378653</td>\n",
       "      <td>113.320206</td>\n",
       "    </tr>\n",
       "    <tr>\n",
       "      <th>21</th>\n",
       "      <td>113.233853</td>\n",
       "      <td>-1.31800</td>\n",
       "      <td>83.1850</td>\n",
       "      <td>106.237098</td>\n",
       "      <td>119.786621</td>\n",
       "    </tr>\n",
       "    <tr>\n",
       "      <th>22</th>\n",
       "      <td>134.024732</td>\n",
       "      <td>-1.31800</td>\n",
       "      <td>81.9150</td>\n",
       "      <td>129.520084</td>\n",
       "      <td>141.390115</td>\n",
       "    </tr>\n",
       "    <tr>\n",
       "      <th>23</th>\n",
       "      <td>117.888742</td>\n",
       "      <td>-1.26980</td>\n",
       "      <td>89.2048</td>\n",
       "      <td>113.179875</td>\n",
       "      <td>122.531039</td>\n",
       "    </tr>\n",
       "    <tr>\n",
       "      <th>24</th>\n",
       "      <td>156.247109</td>\n",
       "      <td>-1.26980</td>\n",
       "      <td>85.0900</td>\n",
       "      <td>150.853617</td>\n",
       "      <td>159.576768</td>\n",
       "    </tr>\n",
       "    <tr>\n",
       "      <th>25</th>\n",
       "      <td>99.562004</td>\n",
       "      <td>-1.26980</td>\n",
       "      <td>91.4400</td>\n",
       "      <td>82.647985</td>\n",
       "      <td>114.166416</td>\n",
       "    </tr>\n",
       "    <tr>\n",
       "      <th>26</th>\n",
       "      <td>135.194615</td>\n",
       "      <td>-1.26980</td>\n",
       "      <td>81.5848</td>\n",
       "      <td>130.690786</td>\n",
       "      <td>142.724477</td>\n",
       "    </tr>\n",
       "    <tr>\n",
       "      <th>27</th>\n",
       "      <td>157.768123</td>\n",
       "      <td>-1.26980</td>\n",
       "      <td>88.9000</td>\n",
       "      <td>150.675225</td>\n",
       "      <td>162.875184</td>\n",
       "    </tr>\n",
       "    <tr>\n",
       "      <th>28</th>\n",
       "      <td>111.625621</td>\n",
       "      <td>-1.26980</td>\n",
       "      <td>93.3450</td>\n",
       "      <td>103.846932</td>\n",
       "      <td>118.903423</td>\n",
       "    </tr>\n",
       "    <tr>\n",
       "      <th>29</th>\n",
       "      <td>155.694350</td>\n",
       "      <td>-1.26980</td>\n",
       "      <td>90.1700</td>\n",
       "      <td>151.093020</td>\n",
       "      <td>159.090179</td>\n",
       "    </tr>\n",
       "    <tr>\n",
       "      <th>...</th>\n",
       "      <td>...</td>\n",
       "      <td>...</td>\n",
       "      <td>...</td>\n",
       "      <td>...</td>\n",
       "      <td>...</td>\n",
       "    </tr>\n",
       "    <tr>\n",
       "      <th>242</th>\n",
       "      <td>148.874568</td>\n",
       "      <td>1.38120</td>\n",
       "      <td>163.8300</td>\n",
       "      <td>144.031423</td>\n",
       "      <td>154.242235</td>\n",
       "    </tr>\n",
       "    <tr>\n",
       "      <th>243</th>\n",
       "      <td>150.429655</td>\n",
       "      <td>1.52580</td>\n",
       "      <td>153.0350</td>\n",
       "      <td>145.677547</td>\n",
       "      <td>155.416822</td>\n",
       "    </tr>\n",
       "    <tr>\n",
       "      <th>244</th>\n",
       "      <td>146.358455</td>\n",
       "      <td>1.57400</td>\n",
       "      <td>146.6850</td>\n",
       "      <td>141.249205</td>\n",
       "      <td>151.859236</td>\n",
       "    </tr>\n",
       "    <tr>\n",
       "      <th>245</th>\n",
       "      <td>150.429655</td>\n",
       "      <td>1.57400</td>\n",
       "      <td>148.5900</td>\n",
       "      <td>145.677547</td>\n",
       "      <td>155.416822</td>\n",
       "    </tr>\n",
       "    <tr>\n",
       "      <th>246</th>\n",
       "      <td>101.372661</td>\n",
       "      <td>1.57400</td>\n",
       "      <td>157.4800</td>\n",
       "      <td>86.178340</td>\n",
       "      <td>114.418819</td>\n",
       "    </tr>\n",
       "    <tr>\n",
       "      <th>247</th>\n",
       "      <td>155.118494</td>\n",
       "      <td>1.57400</td>\n",
       "      <td>140.3350</td>\n",
       "      <td>150.770637</td>\n",
       "      <td>158.481744</td>\n",
       "    </tr>\n",
       "    <tr>\n",
       "      <th>248</th>\n",
       "      <td>99.562004</td>\n",
       "      <td>1.57400</td>\n",
       "      <td>146.6850</td>\n",
       "      <td>82.647985</td>\n",
       "      <td>114.166416</td>\n",
       "    </tr>\n",
       "    <tr>\n",
       "      <th>249</th>\n",
       "      <td>161.391283</td>\n",
       "      <td>1.62220</td>\n",
       "      <td>151.7650</td>\n",
       "      <td>149.003209</td>\n",
       "      <td>172.749767</td>\n",
       "    </tr>\n",
       "    <tr>\n",
       "      <th>250</th>\n",
       "      <td>99.562004</td>\n",
       "      <td>1.62220</td>\n",
       "      <td>159.3850</td>\n",
       "      <td>82.647985</td>\n",
       "      <td>114.166416</td>\n",
       "    </tr>\n",
       "    <tr>\n",
       "      <th>251</th>\n",
       "      <td>116.365280</td>\n",
       "      <td>1.67040</td>\n",
       "      <td>147.3200</td>\n",
       "      <td>110.820163</td>\n",
       "      <td>121.503435</td>\n",
       "    </tr>\n",
       "    <tr>\n",
       "      <th>252</th>\n",
       "      <td>103.154003</td>\n",
       "      <td>1.67040</td>\n",
       "      <td>147.9550</td>\n",
       "      <td>89.699113</td>\n",
       "      <td>114.920036</td>\n",
       "    </tr>\n",
       "    <tr>\n",
       "      <th>253</th>\n",
       "      <td>138.547159</td>\n",
       "      <td>1.67040</td>\n",
       "      <td>144.1450</td>\n",
       "      <td>133.557371</td>\n",
       "      <td>145.558985</td>\n",
       "    </tr>\n",
       "    <tr>\n",
       "      <th>254</th>\n",
       "      <td>161.856734</td>\n",
       "      <td>1.71860</td>\n",
       "      <td>136.5250</td>\n",
       "      <td>147.989884</td>\n",
       "      <td>174.394705</td>\n",
       "    </tr>\n",
       "    <tr>\n",
       "      <th>255</th>\n",
       "      <td>143.618986</td>\n",
       "      <td>1.71860</td>\n",
       "      <td>160.6550</td>\n",
       "      <td>138.591254</td>\n",
       "      <td>149.644365</td>\n",
       "    </tr>\n",
       "    <tr>\n",
       "      <th>256</th>\n",
       "      <td>137.455696</td>\n",
       "      <td>1.76680</td>\n",
       "      <td>147.3200</td>\n",
       "      <td>132.641763</td>\n",
       "      <td>144.685741</td>\n",
       "    </tr>\n",
       "    <tr>\n",
       "      <th>257</th>\n",
       "      <td>147.221800</td>\n",
       "      <td>1.76680</td>\n",
       "      <td>151.1300</td>\n",
       "      <td>142.186682</td>\n",
       "      <td>152.674360</td>\n",
       "    </tr>\n",
       "    <tr>\n",
       "      <th>258</th>\n",
       "      <td>152.581447</td>\n",
       "      <td>1.81500</td>\n",
       "      <td>144.7800</td>\n",
       "      <td>148.365938</td>\n",
       "      <td>157.041586</td>\n",
       "    </tr>\n",
       "    <tr>\n",
       "      <th>259</th>\n",
       "      <td>162.057922</td>\n",
       "      <td>1.81500</td>\n",
       "      <td>152.4000</td>\n",
       "      <td>147.595350</td>\n",
       "      <td>175.700029</td>\n",
       "    </tr>\n",
       "    <tr>\n",
       "      <th>260</th>\n",
       "      <td>108.323464</td>\n",
       "      <td>1.81500</td>\n",
       "      <td>163.1950</td>\n",
       "      <td>98.861671</td>\n",
       "      <td>117.201450</td>\n",
       "    </tr>\n",
       "    <tr>\n",
       "      <th>261</th>\n",
       "      <td>140.652590</td>\n",
       "      <td>1.86320</td>\n",
       "      <td>150.4950</td>\n",
       "      <td>135.269227</td>\n",
       "      <td>146.939414</td>\n",
       "    </tr>\n",
       "    <tr>\n",
       "      <th>262</th>\n",
       "      <td>131.605620</td>\n",
       "      <td>1.86320</td>\n",
       "      <td>158.7500</td>\n",
       "      <td>127.619419</td>\n",
       "      <td>138.894070</td>\n",
       "    </tr>\n",
       "    <tr>\n",
       "      <th>263</th>\n",
       "      <td>106.629272</td>\n",
       "      <td>1.95960</td>\n",
       "      <td>148.5900</td>\n",
       "      <td>96.105577</td>\n",
       "      <td>116.401660</td>\n",
       "    </tr>\n",
       "    <tr>\n",
       "      <th>264</th>\n",
       "      <td>139.612746</td>\n",
       "      <td>2.05600</td>\n",
       "      <td>157.4800</td>\n",
       "      <td>134.565163</td>\n",
       "      <td>146.445545</td>\n",
       "    </tr>\n",
       "    <tr>\n",
       "      <th>265</th>\n",
       "      <td>123.703990</td>\n",
       "      <td>2.11866</td>\n",
       "      <td>142.8750</td>\n",
       "      <td>120.802247</td>\n",
       "      <td>128.398371</td>\n",
       "    </tr>\n",
       "    <tr>\n",
       "      <th>266</th>\n",
       "      <td>151.888118</td>\n",
       "      <td>2.14758</td>\n",
       "      <td>153.6700</td>\n",
       "      <td>147.505340</td>\n",
       "      <td>156.575680</td>\n",
       "    </tr>\n",
       "    <tr>\n",
       "      <th>267</th>\n",
       "      <td>132.828445</td>\n",
       "      <td>2.15240</td>\n",
       "      <td>155.5750</td>\n",
       "      <td>128.666786</td>\n",
       "      <td>140.278787</td>\n",
       "    </tr>\n",
       "    <tr>\n",
       "      <th>268</th>\n",
       "      <td>99.562004</td>\n",
       "      <td>2.39340</td>\n",
       "      <td>153.0350</td>\n",
       "      <td>82.647985</td>\n",
       "      <td>114.166416</td>\n",
       "    </tr>\n",
       "    <tr>\n",
       "      <th>269</th>\n",
       "      <td>150.429655</td>\n",
       "      <td>2.39340</td>\n",
       "      <td>136.5250</td>\n",
       "      <td>145.677547</td>\n",
       "      <td>155.416822</td>\n",
       "    </tr>\n",
       "    <tr>\n",
       "      <th>270</th>\n",
       "      <td>111.625621</td>\n",
       "      <td>2.40786</td>\n",
       "      <td>152.4000</td>\n",
       "      <td>103.846932</td>\n",
       "      <td>118.903423</td>\n",
       "    </tr>\n",
       "    <tr>\n",
       "      <th>271</th>\n",
       "      <td>111.625621</td>\n",
       "      <td>2.53800</td>\n",
       "      <td>149.2250</td>\n",
       "      <td>103.846932</td>\n",
       "      <td>118.903423</td>\n",
       "    </tr>\n",
       "  </tbody>\n",
       "</table>\n",
       "<p>272 rows × 5 columns</p>\n",
       "</div>"
      ],
      "text/plain": [
       "             mu      age    height  mu_hpd_lower  mu_hpd_upper\n",
       "0    149.664256 -1.41440   56.5150    144.828934    154.813628\n",
       "1    158.229814 -1.41440   60.9600    150.503552    163.889025\n",
       "2    109.988869 -1.41440   53.9750    101.439323    118.105855\n",
       "3    153.251016 -1.41440   62.8650    149.076484    157.326407\n",
       "4    148.060461 -1.41440   68.5800    143.047552    153.431291\n",
       "5    162.824279 -1.41440   66.6750    130.967603    189.401751\n",
       "6    161.126755 -1.41440   71.1200    149.521497    172.055070\n",
       "7    117.888742 -1.38548   91.4400    113.179875    122.531039\n",
       "8    151.888118 -1.36620   80.0100    147.505340    156.575680\n",
       "9    150.429655 -1.36620   67.3100    145.677547    155.416822\n",
       "10   157.283863 -1.36620   76.2000    150.741818    161.751935\n",
       "11   104.906163 -1.36620   62.4840     93.221842    115.827493\n",
       "12   122.291703 -1.36620   59.6138    119.059269    126.486713\n",
       "13   119.384211 -1.36620   69.8500    115.336740    123.498458\n",
       "14   149.664256 -1.36620   67.9450    144.828934    154.813628\n",
       "15   103.154003 -1.36620   60.4520     89.699113    114.920036\n",
       "16   125.088814 -1.36620   74.9300    122.319824    130.428453\n",
       "17    99.562004 -1.36620   83.8200     82.647985    114.166416\n",
       "18   131.605620 -1.36620   64.1350    127.619419    138.894070\n",
       "19   157.283863 -1.36620   71.1200    150.741818    161.751935\n",
       "20    97.721899 -1.36620   74.2950     78.378653    113.320206\n",
       "21   113.233853 -1.31800   83.1850    106.237098    119.786621\n",
       "22   134.024732 -1.31800   81.9150    129.520084    141.390115\n",
       "23   117.888742 -1.26980   89.2048    113.179875    122.531039\n",
       "24   156.247109 -1.26980   85.0900    150.853617    159.576768\n",
       "25    99.562004 -1.26980   91.4400     82.647985    114.166416\n",
       "26   135.194615 -1.26980   81.5848    130.690786    142.724477\n",
       "27   157.768123 -1.26980   88.9000    150.675225    162.875184\n",
       "28   111.625621 -1.26980   93.3450    103.846932    118.903423\n",
       "29   155.694350 -1.26980   90.1700    151.093020    159.090179\n",
       "..          ...      ...       ...           ...           ...\n",
       "242  148.874568  1.38120  163.8300    144.031423    154.242235\n",
       "243  150.429655  1.52580  153.0350    145.677547    155.416822\n",
       "244  146.358455  1.57400  146.6850    141.249205    151.859236\n",
       "245  150.429655  1.57400  148.5900    145.677547    155.416822\n",
       "246  101.372661  1.57400  157.4800     86.178340    114.418819\n",
       "247  155.118494  1.57400  140.3350    150.770637    158.481744\n",
       "248   99.562004  1.57400  146.6850     82.647985    114.166416\n",
       "249  161.391283  1.62220  151.7650    149.003209    172.749767\n",
       "250   99.562004  1.62220  159.3850     82.647985    114.166416\n",
       "251  116.365280  1.67040  147.3200    110.820163    121.503435\n",
       "252  103.154003  1.67040  147.9550     89.699113    114.920036\n",
       "253  138.547159  1.67040  144.1450    133.557371    145.558985\n",
       "254  161.856734  1.71860  136.5250    147.989884    174.394705\n",
       "255  143.618986  1.71860  160.6550    138.591254    149.644365\n",
       "256  137.455696  1.76680  147.3200    132.641763    144.685741\n",
       "257  147.221800  1.76680  151.1300    142.186682    152.674360\n",
       "258  152.581447  1.81500  144.7800    148.365938    157.041586\n",
       "259  162.057922  1.81500  152.4000    147.595350    175.700029\n",
       "260  108.323464  1.81500  163.1950     98.861671    117.201450\n",
       "261  140.652590  1.86320  150.4950    135.269227    146.939414\n",
       "262  131.605620  1.86320  158.7500    127.619419    138.894070\n",
       "263  106.629272  1.95960  148.5900     96.105577    116.401660\n",
       "264  139.612746  2.05600  157.4800    134.565163    146.445545\n",
       "265  123.703990  2.11866  142.8750    120.802247    128.398371\n",
       "266  151.888118  2.14758  153.6700    147.505340    156.575680\n",
       "267  132.828445  2.15240  155.5750    128.666786    140.278787\n",
       "268   99.562004  2.39340  153.0350     82.647985    114.166416\n",
       "269  150.429655  2.39340  136.5250    145.677547    155.416822\n",
       "270  111.625621  2.40786  152.4000    103.846932    118.903423\n",
       "271  111.625621  2.53800  149.2250    103.846932    118.903423\n",
       "\n",
       "[272 rows x 5 columns]"
      ]
     },
     "execution_count": 74,
     "metadata": {},
     "output_type": "execute_result"
    }
   ],
   "source": [
    "xy"
   ]
  },
  {
   "cell_type": "markdown",
   "metadata": {},
   "source": [
    "okay, still weird. let's try the 'official' pymc3 functions:"
   ]
  },
  {
   "cell_type": "code",
   "execution_count": 75,
   "metadata": {},
   "outputs": [],
   "source": [
    "model, trace = models_and_traces[0]"
   ]
  },
  {
   "cell_type": "code",
   "execution_count": 76,
   "metadata": {},
   "outputs": [
    {
     "data": {
      "text/latex": [
       "$\\text{mu} \\sim \\text{Deterministic}(\\text{a},~\\text{Constant},~\\text{beta_1},~\\text{Constant},~\\text{Constant})$"
      ],
      "text/plain": [
       "mu"
      ]
     },
     "execution_count": 76,
     "metadata": {},
     "output_type": "execute_result"
    }
   ],
   "source": [
    "model.mu"
   ]
  },
  {
   "cell_type": "code",
   "execution_count": 77,
   "metadata": {},
   "outputs": [
    {
     "name": "stderr",
     "output_type": "stream",
     "text": [
      "100%|██████████| 4000/4000 [00:00<00:00, 9142.80it/s]\n"
     ]
    }
   ],
   "source": [
    "post_sample = pm.sample_ppc(trace, samples=4000, model=model, vars=[model.mu])"
   ]
  },
  {
   "cell_type": "code",
   "execution_count": 78,
   "metadata": {},
   "outputs": [
    {
     "data": {
      "text/plain": [
       "(4000, 272)"
      ]
     },
     "execution_count": 78,
     "metadata": {},
     "output_type": "execute_result"
    }
   ],
   "source": [
    "post_sample['mu'].shape"
   ]
  },
  {
   "cell_type": "code",
   "execution_count": 79,
   "metadata": {},
   "outputs": [],
   "source": [
    "post_sample_df = pd.DataFrame(data=post_sample['mu'], columns=['mu__{}'.format(i) for i in range(272)])"
   ]
  },
  {
   "cell_type": "code",
   "execution_count": 80,
   "metadata": {},
   "outputs": [
    {
     "data": {
      "image/png": "[encoded data removed]",
      "text/plain": [
       "<Figure size 432x288 with 1 Axes>"
      ]
     },
     "metadata": {},
     "output_type": "display_data"
    }
   ],
   "source": [
    "plot_trace_dataframe(post_sample_df, plt.axes(), 'm1 post sample df')"
   ]
  },
  {
   "cell_type": "markdown",
   "metadata": {},
   "source": [
    "looks promising"
   ]
  },
  {
   "cell_type": "code",
   "execution_count": 81,
   "metadata": {},
   "outputs": [
    {
     "name": "stderr",
     "output_type": "stream",
     "text": [
      "100%|██████████| 2080/2080 [00:00<00:00, 9561.64it/s]\n",
      "100%|██████████| 1760/1760 [00:00<00:00, 7170.77it/s]\n",
      "100%|██████████| 160/160 [00:00<00:00, 2916.51it/s]\n"
     ]
    }
   ],
   "source": [
    "post_sample_dfs = [\n",
    "    pd.DataFrame(\n",
    "        data=pm.sample_ppc(trace, samples=int(weight*4000), model=model, vars=[model.mu])['mu'], \n",
    "        columns=['mu__{}'.format(i) for i in range(len(d1))]\n",
    "    ).assign(model='m{}'.format(m_i))\n",
    "    for (weight, (model, trace), m_i) in zip(weights, models_and_traces, range(1, len(models_and_traces))) if weight > 0\n",
    "]"
   ]
  },
  {
   "cell_type": "code",
   "execution_count": 82,
   "metadata": {},
   "outputs": [
    {
     "data": {
      "text/plain": [
       "[(2080, 273), (1760, 273), (160, 273)]"
      ]
     },
     "execution_count": 82,
     "metadata": {},
     "output_type": "execute_result"
    }
   ],
   "source": [
    "[_.shape for _ in post_sample_dfs]"
   ]
  },
  {
   "cell_type": "code",
   "execution_count": 83,
   "metadata": {},
   "outputs": [],
   "source": [
    "post_sample_combined = pd.concat(post_sample_dfs, ignore_index=True)"
   ]
  },
  {
   "cell_type": "code",
   "execution_count": 84,
   "metadata": {},
   "outputs": [
    {
     "data": {
      "text/plain": [
       "m1    0.52\n",
       "m2    0.44\n",
       "m3    0.04\n",
       "Name: model, dtype: float64"
      ]
     },
     "execution_count": 84,
     "metadata": {},
     "output_type": "execute_result"
    }
   ],
   "source": [
    "post_sample_combined.model.value_counts() / len(post_sample_combined)"
   ]
  },
  {
   "cell_type": "code",
   "execution_count": 85,
   "metadata": {},
   "outputs": [
    {
     "data": {
      "image/png": "[encoded data removed]",
      "text/plain": [
       "<Figure size 432x288 with 1 Axes>"
      ]
     },
     "metadata": {},
     "output_type": "display_data"
    }
   ],
   "source": [
    "plot_trace_dataframe(post_sample_combined, plt.axes(), 'post sample combined')"
   ]
  },
  {
   "cell_type": "markdown",
   "metadata": {},
   "source": [
    "that looks more plausible :)"
   ]
  },
  {
   "cell_type": "markdown",
   "metadata": {},
   "source": [
    "now to the actual question: \"in what ways do the averaged predictions differ from the predictions of the model with the lowest WAIC value?\" let's compare side by side\n"
   ]
  },
  {
   "cell_type": "code",
   "execution_count": 89,
   "metadata": {},
   "outputs": [
    {
     "data": {
      "image/png": "[encoded data removed]",
      "text/plain": [
       "<Figure size 432x288 with 2 Axes>"
      ]
     },
     "metadata": {},
     "output_type": "display_data"
    }
   ],
   "source": [
    "figure, axes_array = plt.subplots(nrows=1, ncols=2, sharex=True, sharey=True, squeeze=False)\n",
    "\n",
    "lowest_waic_trace_df = pm.trace_to_dataframe(models_and_traces[0][1])\n",
    "\n",
    "plot_trace_dataframe(lowest_waic_trace_df, axes_array.ravel()[0], 'm1, best waic')\n",
    "plot_trace_dataframe(post_sample_combined, axes_array.ravel()[1], 'averaged')"
   ]
  },
  {
   "cell_type": "markdown",
   "metadata": {},
   "source": [
    "averaged model has more uncertainty. averaged model is curve formed from combining straight line (m1) and parabola (m2). follow curvature of data better than best model."
   ]
  },
  {
   "cell_type": "markdown",
   "metadata": {},
   "source": [
    "**6H4**"
   ]
  },
  {
   "cell_type": "code",
   "execution_count": 90,
   "metadata": {},
   "outputs": [],
   "source": [
    "age_shared.set_value(d2.age)"
   ]
  },
  {
   "cell_type": "code",
   "execution_count": 101,
   "metadata": {},
   "outputs": [],
   "source": [
    "m, t = models_and_traces[0]"
   ]
  },
  {
   "cell_type": "code",
   "execution_count": 103,
   "metadata": {},
   "outputs": [
    {
     "name": "stderr",
     "output_type": "stream",
     "text": [
      "100%|██████████| 2000/2000 [00:00<00:00, 4001.28it/s]\n"
     ]
    }
   ],
   "source": [
    "test_samples = pm.sample_ppc(t, model=m, vars=m.unobserved_RVs)"
   ]
  },
  {
   "cell_type": "code",
   "execution_count": 109,
   "metadata": {},
   "outputs": [
    {
     "data": {
      "text/plain": [
       "(2000, 272)"
      ]
     },
     "execution_count": 109,
     "metadata": {},
     "output_type": "execute_result"
    }
   ],
   "source": [
    "test_samples['mu'].shape"
   ]
  },
  {
   "cell_type": "code",
   "execution_count": 110,
   "metadata": {},
   "outputs": [
    {
     "ename": "ValueError",
     "evalue": "operands could not be broadcast together with shapes (2000,272) (2000,) ",
     "output_type": "error",
     "traceback": [
      "\u001b[0;31m---------------------------------------------------------------------------\u001b[0m",
      "\u001b[0;31mValueError\u001b[0m                                Traceback (most recent call last)",
      "\u001b[0;32m<ipython-input-110-ebbffac7ee7e>\u001b[0m in \u001b[0;36m<module>\u001b[0;34m\u001b[0m\n\u001b[1;32m      2\u001b[0m     \u001b[0mx\u001b[0m \u001b[0;34m=\u001b[0m \u001b[0md2\u001b[0m\u001b[0;34m.\u001b[0m\u001b[0mage\u001b[0m\u001b[0;34m,\u001b[0m\u001b[0;34m\u001b[0m\u001b[0;34m\u001b[0m\u001b[0m\n\u001b[1;32m      3\u001b[0m     \u001b[0mloc\u001b[0m \u001b[0;34m=\u001b[0m \u001b[0mtest_samples\u001b[0m\u001b[0;34m[\u001b[0m\u001b[0;34m'mu'\u001b[0m\u001b[0;34m]\u001b[0m\u001b[0;34m,\u001b[0m\u001b[0;34m\u001b[0m\u001b[0;34m\u001b[0m\u001b[0m\n\u001b[0;32m----> 4\u001b[0;31m     \u001b[0mscale\u001b[0m \u001b[0;34m=\u001b[0m \u001b[0mtest_samples\u001b[0m\u001b[0;34m[\u001b[0m\u001b[0;34m'sigma'\u001b[0m\u001b[0;34m]\u001b[0m\u001b[0;34m\u001b[0m\u001b[0;34m\u001b[0m\u001b[0m\n\u001b[0m\u001b[1;32m      5\u001b[0m ))\n\u001b[1;32m      6\u001b[0m \u001b[0mdev\u001b[0m\u001b[0;34m\u001b[0m\u001b[0;34m\u001b[0m\u001b[0m\n",
      "\u001b[0;32m/anaconda3/envs/rethinking_statistics/lib/python3.7/site-packages/scipy/stats/_distn_infrastructure.py\u001b[0m in \u001b[0;36mlogpdf\u001b[0;34m(self, x, *args, **kwds)\u001b[0m\n\u001b[1;32m   1702\u001b[0m         \u001b[0margs\u001b[0m \u001b[0;34m=\u001b[0m \u001b[0mtuple\u001b[0m\u001b[0;34m(\u001b[0m\u001b[0mmap\u001b[0m\u001b[0;34m(\u001b[0m\u001b[0masarray\u001b[0m\u001b[0;34m,\u001b[0m \u001b[0margs\u001b[0m\u001b[0;34m)\u001b[0m\u001b[0;34m)\u001b[0m\u001b[0;34m\u001b[0m\u001b[0;34m\u001b[0m\u001b[0m\n\u001b[1;32m   1703\u001b[0m         \u001b[0mdtyp\u001b[0m \u001b[0;34m=\u001b[0m \u001b[0mnp\u001b[0m\u001b[0;34m.\u001b[0m\u001b[0mfind_common_type\u001b[0m\u001b[0;34m(\u001b[0m\u001b[0;34m[\u001b[0m\u001b[0mx\u001b[0m\u001b[0;34m.\u001b[0m\u001b[0mdtype\u001b[0m\u001b[0;34m,\u001b[0m \u001b[0mnp\u001b[0m\u001b[0;34m.\u001b[0m\u001b[0mfloat64\u001b[0m\u001b[0;34m]\u001b[0m\u001b[0;34m,\u001b[0m \u001b[0;34m[\u001b[0m\u001b[0;34m]\u001b[0m\u001b[0;34m)\u001b[0m\u001b[0;34m\u001b[0m\u001b[0;34m\u001b[0m\u001b[0m\n\u001b[0;32m-> 1704\u001b[0;31m         \u001b[0mx\u001b[0m \u001b[0;34m=\u001b[0m \u001b[0mnp\u001b[0m\u001b[0;34m.\u001b[0m\u001b[0masarray\u001b[0m\u001b[0;34m(\u001b[0m\u001b[0;34m(\u001b[0m\u001b[0mx\u001b[0m \u001b[0;34m-\u001b[0m \u001b[0mloc\u001b[0m\u001b[0;34m)\u001b[0m\u001b[0;34m/\u001b[0m\u001b[0mscale\u001b[0m\u001b[0;34m,\u001b[0m \u001b[0mdtype\u001b[0m\u001b[0;34m=\u001b[0m\u001b[0mdtyp\u001b[0m\u001b[0;34m)\u001b[0m\u001b[0;34m\u001b[0m\u001b[0;34m\u001b[0m\u001b[0m\n\u001b[0m\u001b[1;32m   1705\u001b[0m         \u001b[0mcond0\u001b[0m \u001b[0;34m=\u001b[0m \u001b[0mself\u001b[0m\u001b[0;34m.\u001b[0m\u001b[0m_argcheck\u001b[0m\u001b[0;34m(\u001b[0m\u001b[0;34m*\u001b[0m\u001b[0margs\u001b[0m\u001b[0;34m)\u001b[0m \u001b[0;34m&\u001b[0m \u001b[0;34m(\u001b[0m\u001b[0mscale\u001b[0m \u001b[0;34m>\u001b[0m \u001b[0;36m0\u001b[0m\u001b[0;34m)\u001b[0m\u001b[0;34m\u001b[0m\u001b[0;34m\u001b[0m\u001b[0m\n\u001b[1;32m   1706\u001b[0m         \u001b[0mcond1\u001b[0m \u001b[0;34m=\u001b[0m \u001b[0mself\u001b[0m\u001b[0;34m.\u001b[0m\u001b[0m_support_mask\u001b[0m\u001b[0;34m(\u001b[0m\u001b[0mx\u001b[0m\u001b[0;34m)\u001b[0m \u001b[0;34m&\u001b[0m \u001b[0;34m(\u001b[0m\u001b[0mscale\u001b[0m \u001b[0;34m>\u001b[0m \u001b[0;36m0\u001b[0m\u001b[0;34m)\u001b[0m\u001b[0;34m\u001b[0m\u001b[0;34m\u001b[0m\u001b[0m\n",
      "\u001b[0;31mValueError\u001b[0m: operands could not be broadcast together with shapes (2000,272) (2000,) "
     ]
    }
   ],
   "source": [
    "dev = -2 * np.sum(stats.norm.logpdf(\n",
    "    x = d2.age, \n",
    "    loc = test_samples['mu'], \n",
    "    scale = test_samples['sigma']\n",
    "))\n",
    "dev"
   ]
  },
  {
   "cell_type": "code",
   "execution_count": null,
   "metadata": {},
   "outputs": [],
   "source": []
  },
  {
   "cell_type": "code",
   "execution_count": null,
   "metadata": {},
   "outputs": [],
   "source": [
    "# Code 6.11\n",
    "\n",
    "d['mass_s'] = (d.mass - d.mass.mean()) / d.mass.std()\n",
    "\n",
    "with pm.Model() as m_6_8 :\n",
    "    a = pm.Normal('a', mu=np.mean(d['brain']), sd=10)\n",
    "    b = pm.Normal('b', mu=0, sd=10)\n",
    "    \n",
    "    # why '*10'?\n",
    "    sigma = pm.Uniform('sigma', 0, np.std(d['brain']) * 10)\n",
    "    \n",
    "    mu = pm.Deterministic('mu', a + b * d['mass_s'])\n",
    "    \n",
    "    brain = pm.Normal('brain', mu = mu, sd = sigma, observed = d['brain'])\n",
    "    \n",
    "    m_6_8 = pm.sample(2000, tune=5000)\n",
    "\n",
    "theta = pm.summary(m_6_8).loc[['a', 'b', 'sigma'], 'mean']\n",
    "theta\n",
    "\n",
    "dev = -2 * np.sum(stats.norm.logpdf(\n",
    "    x = d['brain'], \n",
    "    loc = theta['a'] + theta['b'] * d['mass_s'], \n",
    "    scale = theta['sigma']\n",
    "))\n",
    "dev"
   ]
  }
 ],
 "metadata": {
  "kernelspec": {
   "display_name": "Python 3",
   "language": "python",
   "name": "python3"
  },
  "language_info": {
   "codemirror_mode": {
    "name": "ipython",
    "version": 3
   },
   "file_extension": ".py",
   "mimetype": "text/x-python",
   "name": "python",
   "nbconvert_exporter": "python",
   "pygments_lexer": "ipython3",
   "version": "3.7.2"
  }
 },
 "nbformat": 4,
 "nbformat_minor": 2
}
