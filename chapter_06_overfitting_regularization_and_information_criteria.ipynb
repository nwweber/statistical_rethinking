{
 "cells": [
  {
   "cell_type": "code",
   "execution_count": 140,
   "metadata": {},
   "outputs": [],
   "source": [
    "# to suppress futurewarnings caused by pandas and other libraries not updating their numpy interface codes\n",
    "# apparently has to come before these import, so leave this on top\n",
    "import warnings\n",
    "warnings.simplefilter(action='ignore', category=FutureWarning)\n",
    "\n",
    "import numpy as np\n",
    "import matplotlib.pyplot as plt\n",
    "import pymc3 as pm\n",
    "import scipy.stats as stats\n",
    "import pandas as pd\n",
    "import seaborn as sns\n",
    "import statsmodels.formula.api as smf\n",
    "import string\n",
    "import theano\n",
    "\n",
    "# %matplotlib inline"
   ]
  },
  {
   "cell_type": "markdown",
   "metadata": {},
   "source": [
    "# 6 Overfitting, Regularization, and Information Criteria\n",
    "\n",
    "**Ockham's Razor** making aesthetic/pragmatic preferenc for simpler model more explicit: prefer models w/ fewer assumptions. For same performance, choose simpler model. But what to do for different trade-offs in terms of simplicity vs accuracy? Content of this chapter.\n",
    "\n",
    "Fundamental trade-off between **overfitting**, poor prediction by learning too much, and **underfitting**, poor prediction by learning too little. Need to navigate space in-between.\n",
    "\n",
    "Methods to tackle: \n",
    "\n",
    "* **regularizing prior**, same as penalized likelihood in frequentist term, learn less from data\n",
    "* **infromation criteria** to score models\n",
    "\n",
    "**rethinking: stargazing.** common method of model selection: pick model with highest number of significant coefficients. but: p-values not designed to make under-/overfitting trade-off. helpful coeff. can be non-significant, significant coeff. can be unhelpful.\n",
    "\n",
    "**rethinking: is aic bayesian?** not originally derived and often not seen as such, but can be interpreted as special limit of bayes. criterion like WAIC. example of common phenomenon in stats: same procedure can be dried and justified from multiple, sometimes philosophically incompatible perspectives.\n",
    "\n",
    "## 6.1. the problem with parameters\n",
    "\n",
    "Previous chapter: adding parameters can be helpful by revealing hidding effects. also, adding parameters can hurt if parameters are highly correlated. how about case of adding non-highly-correlated parameters? also not always safe.\n",
    "\n",
    "two main problems:\n",
    "\n",
    "* adding parameters nearly always makes model fit better, i.e. reduces train error. McElreath mentions $R^2$ or 'variance explained' metric. Increased for more predictor variables, even if they are random numbers. **understand 'variance explained', intuitive meaning unclear**\n",
    "* more complex models often have better fit, but worse predictions on unseen data = overfit! but simple models tend to underfit. no simple answer, need to make trade-off.\n",
    "\n",
    "### 6.1.1. more parameters always improve fit\n",
    "\n",
    "Overfitting = learning too much from data\n",
    "\n",
    "* regular features: useful, generalize well or inform about quesiton of interest\n",
    "* irrregular features: misguiding, aspects of data that do not generalize"
   ]
  },
  {
   "cell_type": "code",
   "execution_count": 2,
   "metadata": {},
   "outputs": [
    {
     "data": {
      "text/html": [
       "<div>\n",
       "<style scoped>\n",
       "    .dataframe tbody tr th:only-of-type {\n",
       "        vertical-align: middle;\n",
       "    }\n",
       "\n",
       "    .dataframe tbody tr th {\n",
       "        vertical-align: top;\n",
       "    }\n",
       "\n",
       "    .dataframe thead th {\n",
       "        text-align: right;\n",
       "    }\n",
       "</style>\n",
       "<table border=\"1\" class=\"dataframe\">\n",
       "  <thead>\n",
       "    <tr style=\"text-align: right;\">\n",
       "      <th></th>\n",
       "      <th>brain</th>\n",
       "      <th>mass</th>\n",
       "    </tr>\n",
       "    <tr>\n",
       "      <th>species</th>\n",
       "      <th></th>\n",
       "      <th></th>\n",
       "    </tr>\n",
       "  </thead>\n",
       "  <tbody>\n",
       "    <tr>\n",
       "      <th>afarensis</th>\n",
       "      <td>438</td>\n",
       "      <td>37.0</td>\n",
       "    </tr>\n",
       "    <tr>\n",
       "      <th>africanus</th>\n",
       "      <td>452</td>\n",
       "      <td>35.5</td>\n",
       "    </tr>\n",
       "    <tr>\n",
       "      <th>habilis</th>\n",
       "      <td>612</td>\n",
       "      <td>34.5</td>\n",
       "    </tr>\n",
       "    <tr>\n",
       "      <th>boisei</th>\n",
       "      <td>521</td>\n",
       "      <td>41.5</td>\n",
       "    </tr>\n",
       "    <tr>\n",
       "      <th>rudolfensis</th>\n",
       "      <td>752</td>\n",
       "      <td>55.5</td>\n",
       "    </tr>\n",
       "    <tr>\n",
       "      <th>ergaster</th>\n",
       "      <td>871</td>\n",
       "      <td>61.0</td>\n",
       "    </tr>\n",
       "    <tr>\n",
       "      <th>sapiens</th>\n",
       "      <td>1350</td>\n",
       "      <td>53.5</td>\n",
       "    </tr>\n",
       "  </tbody>\n",
       "</table>\n",
       "</div>"
      ],
      "text/plain": [
       "             brain  mass\n",
       "species                 \n",
       "afarensis      438  37.0\n",
       "africanus      452  35.5\n",
       "habilis        612  34.5\n",
       "boisei         521  41.5\n",
       "rudolfensis    752  55.5\n",
       "ergaster       871  61.0\n",
       "sapiens       1350  53.5"
      ]
     },
     "execution_count": 2,
     "metadata": {},
     "output_type": "execute_result"
    }
   ],
   "source": [
    "# Code 6.1\n",
    "\n",
    "data = {'species' : ['afarensis', 'africanus', 'habilis', 'boisei', 'rudolfensis', 'ergaster', 'sapiens'],\n",
    "'brain' : [438, 452, 612, 521, 752, 871, 1350],\n",
    "'mass' : [37., 35.5, 34.5, 41.5, 55.5, 61.0, 53.5]}\n",
    "d = pd.DataFrame(data).set_index('species')\n",
    "d"
   ]
  },
  {
   "cell_type": "markdown",
   "metadata": {},
   "source": [
    "Q: assuming that brain size is generally correlated w/ body mass, which species have unexpectedly large brains for their body mass?\n",
    "\n",
    "Common strategy: 'statistical control'. Fit lin. reg. between those two vars. Residuals of predicting brain vol from body mass = unexplained variance = come from other factors = unexpectedly high/low.\n",
    "\n",
    "But: why lin. reg.? Why line? Might be some curve relating body mass to brain vol. Why not use residuals of that regression? That could be how things are in nature.\n",
    "\n",
    "Fit increasingly complex models, observe fit."
   ]
  },
  {
   "cell_type": "code",
   "execution_count": 3,
   "metadata": {},
   "outputs": [],
   "source": [
    "# Code 6.2\n",
    "\n",
    "m_6_1 = smf.ols('brain ~ mass', data=d).fit()"
   ]
  },
  {
   "cell_type": "markdown",
   "metadata": {},
   "source": [
    "inspect $R^2$ of model. variance 'explained' by model = lin model predicts some variation of training data. remaining variation = variation of residuals"
   ]
  },
  {
   "cell_type": "code",
   "execution_count": 9,
   "metadata": {},
   "outputs": [
    {
     "data": {
      "text/plain": [
       "0.490158047949084"
      ]
     },
     "execution_count": 9,
     "metadata": {},
     "output_type": "execute_result"
    }
   ],
   "source": [
    "# Code 6.3\n",
    "\n",
    "1 - m_6_1.resid.var() / d.brain.var()"
   ]
  },
  {
   "cell_type": "code",
   "execution_count": 12,
   "metadata": {},
   "outputs": [
    {
     "data": {
      "text/plain": [
       "0.490158047949084"
      ]
     },
     "execution_count": 12,
     "metadata": {},
     "output_type": "execute_result"
    }
   ],
   "source": [
    "# my own comparison: \n",
    "m_6_1.rsquared"
   ]
  },
  {
   "cell_type": "code",
   "execution_count": 13,
   "metadata": {},
   "outputs": [
    {
     "name": "stderr",
     "output_type": "stream",
     "text": [
      "/anaconda3/envs/rethinking_statistics/lib/python3.7/site-packages/statsmodels/stats/stattools.py:72: ValueWarning: omni_normtest is not valid with less than 8 observations; 7 samples were given.\n",
      "  \"samples were given.\" % int(n), ValueWarning)\n"
     ]
    },
    {
     "data": {
      "text/html": [
       "<table class=\"simpletable\">\n",
       "<caption>OLS Regression Results</caption>\n",
       "<tr>\n",
       "  <th>Dep. Variable:</th>          <td>brain</td>      <th>  R-squared:         </th> <td>   0.490</td>\n",
       "</tr>\n",
       "<tr>\n",
       "  <th>Model:</th>                   <td>OLS</td>       <th>  Adj. R-squared:    </th> <td>   0.388</td>\n",
       "</tr>\n",
       "<tr>\n",
       "  <th>Method:</th>             <td>Least Squares</td>  <th>  F-statistic:       </th> <td>   4.807</td>\n",
       "</tr>\n",
       "<tr>\n",
       "  <th>Date:</th>             <td>Fri, 22 Feb 2019</td> <th>  Prob (F-statistic):</th>  <td>0.0798</td> \n",
       "</tr>\n",
       "<tr>\n",
       "  <th>Time:</th>                 <td>11:41:32</td>     <th>  Log-Likelihood:    </th> <td> -47.462</td>\n",
       "</tr>\n",
       "<tr>\n",
       "  <th>No. Observations:</th>      <td>     7</td>      <th>  AIC:               </th> <td>   98.92</td>\n",
       "</tr>\n",
       "<tr>\n",
       "  <th>Df Residuals:</th>          <td>     5</td>      <th>  BIC:               </th> <td>   98.82</td>\n",
       "</tr>\n",
       "<tr>\n",
       "  <th>Df Model:</th>              <td>     1</td>      <th>                     </th>     <td> </td>   \n",
       "</tr>\n",
       "<tr>\n",
       "  <th>Covariance Type:</th>      <td>nonrobust</td>    <th>                     </th>     <td> </td>   \n",
       "</tr>\n",
       "</table>\n",
       "<table class=\"simpletable\">\n",
       "<tr>\n",
       "      <td></td>         <th>coef</th>     <th>std err</th>      <th>t</th>      <th>P>|t|</th>  <th>[0.025</th>    <th>0.975]</th>  \n",
       "</tr>\n",
       "<tr>\n",
       "  <th>Intercept</th> <td> -227.6287</td> <td>  439.794</td> <td>   -0.518</td> <td> 0.627</td> <td>-1358.154</td> <td>  902.897</td>\n",
       "</tr>\n",
       "<tr>\n",
       "  <th>mass</th>      <td>   20.6889</td> <td>    9.436</td> <td>    2.192</td> <td> 0.080</td> <td>   -3.568</td> <td>   44.946</td>\n",
       "</tr>\n",
       "</table>\n",
       "<table class=\"simpletable\">\n",
       "<tr>\n",
       "  <th>Omnibus:</th>       <td>   nan</td> <th>  Durbin-Watson:     </th> <td>   1.561</td>\n",
       "</tr>\n",
       "<tr>\n",
       "  <th>Prob(Omnibus):</th> <td>   nan</td> <th>  Jarque-Bera (JB):  </th> <td>   2.372</td>\n",
       "</tr>\n",
       "<tr>\n",
       "  <th>Skew:</th>          <td> 1.399</td> <th>  Prob(JB):          </th> <td>   0.305</td>\n",
       "</tr>\n",
       "<tr>\n",
       "  <th>Kurtosis:</th>      <td> 3.548</td> <th>  Cond. No.          </th> <td>    215.</td>\n",
       "</tr>\n",
       "</table><br/><br/>Warnings:<br/>[1] Standard Errors assume that the covariance matrix of the errors is correctly specified."
      ],
      "text/plain": [
       "<class 'statsmodels.iolib.summary.Summary'>\n",
       "\"\"\"\n",
       "                            OLS Regression Results                            \n",
       "==============================================================================\n",
       "Dep. Variable:                  brain   R-squared:                       0.490\n",
       "Model:                            OLS   Adj. R-squared:                  0.388\n",
       "Method:                 Least Squares   F-statistic:                     4.807\n",
       "Date:                Fri, 22 Feb 2019   Prob (F-statistic):             0.0798\n",
       "Time:                        11:41:32   Log-Likelihood:                -47.462\n",
       "No. Observations:                   7   AIC:                             98.92\n",
       "Df Residuals:                       5   BIC:                             98.82\n",
       "Df Model:                           1                                         \n",
       "Covariance Type:            nonrobust                                         \n",
       "==============================================================================\n",
       "                 coef    std err          t      P>|t|      [0.025      0.975]\n",
       "------------------------------------------------------------------------------\n",
       "Intercept   -227.6287    439.794     -0.518      0.627   -1358.154     902.897\n",
       "mass          20.6889      9.436      2.192      0.080      -3.568      44.946\n",
       "==============================================================================\n",
       "Omnibus:                          nan   Durbin-Watson:                   1.561\n",
       "Prob(Omnibus):                    nan   Jarque-Bera (JB):                2.372\n",
       "Skew:                           1.399   Prob(JB):                        0.305\n",
       "Kurtosis:                       3.548   Cond. No.                         215.\n",
       "==============================================================================\n",
       "\n",
       "Warnings:\n",
       "[1] Standard Errors assume that the covariance matrix of the errors is correctly specified.\n",
       "\"\"\""
      ]
     },
     "execution_count": 13,
     "metadata": {},
     "output_type": "execute_result"
    }
   ],
   "source": [
    "m_6_1.summary()"
   ]
  },
  {
   "cell_type": "code",
   "execution_count": 14,
   "metadata": {},
   "outputs": [],
   "source": [
    "# Code 6.4\n",
    "\n",
    "m_6_2 = smf.ols('brain ~ mass + I(mass**2)', data=d).fit()"
   ]
  },
  {
   "cell_type": "code",
   "execution_count": 15,
   "metadata": {},
   "outputs": [],
   "source": [
    "# Code 6.5\n",
    "\n",
    "m_6_3 = smf.ols('brain ~ mass + I(mass**2) + I(mass**3)', data=d).fit()\n",
    "m_6_4 = smf.ols('brain ~ mass + I(mass**2) + I(mass**3) + I(mass**4)', data=d).fit()\n",
    "m_6_5 = smf.ols('brain ~ mass + I(mass**2) + I(mass**3) + I(mass**4) + I(mass**5)', data=d).fit()\n",
    "m_6_6 = smf.ols('brain ~ mass + I(mass**2) + I(mass**3) + I(mass**4) + I(mass**5) + I(mass**6)', data=d).fit()"
   ]
  },
  {
   "cell_type": "markdown",
   "metadata": {},
   "source": [
    "higher degree of polynomial = better fit, until 0 residuals for 6th degree, $R^2 = 1$\n",
    "\n",
    "however: absurd model. curve follows all data points, but pays no price for absurd predictions like negative brain mass in areas without dat\n",
    "\n",
    "reason: n params = n data points. use unique parameter to remember each datum.\n",
    "\n",
    "**rethinking: model fitting as compression.** model fitting can be seen as data compression. parameters = summarize relationship among data in lossy way. use params to generate new data = decompress. if n params == n data points then no compression, just encoding in different way. consequence: learn nothing. need to use simpler model, but not too simpel. known as minimum description length.\n",
    "\n",
    "### 6.1.2. too few parameters hurs, too\n",
    "\n",
    "overfitting: low train error, high test error\n",
    "\n",
    "underfitting: high train and test error. learned too little."
   ]
  },
  {
   "cell_type": "code",
   "execution_count": 17,
   "metadata": {},
   "outputs": [],
   "source": [
    "# Code 6.6\n",
    "\n",
    "m_6_7 = smf.ols('brain ~ 1', data=d).fit()"
   ]
  },
  {
   "cell_type": "markdown",
   "metadata": {},
   "source": [
    "estimate mean brain volume without considering brain mass = regression is horizontal line with wide confidence region. bad for seen and unseen data\n",
    "\n",
    "underfit model = under-sensitive to data, changes too little based on seen data (inflexible)\n",
    "overfit model = over-sensitive to data, changes too much based on seen data (volatile)\n",
    "\n",
    "**overthinking: dropping rows.**"
   ]
  },
  {
   "cell_type": "code",
   "execution_count": 24,
   "metadata": {},
   "outputs": [],
   "source": [
    "# Code 6.7\n",
    "\n",
    "d_new = d.drop(d.index[0])"
   ]
  },
  {
   "cell_type": "code",
   "execution_count": 63,
   "metadata": {},
   "outputs": [
    {
     "data": {
      "image/png": "[encoded data removed]",
      "text/plain": [
       "<Figure size 432x288 with 1 Axes>"
      ]
     },
     "metadata": {
      "needs_background": "light"
     },
     "output_type": "display_data"
    }
   ],
   "source": [
    "# Code 6.8\n",
    "ax = d.plot.line(x='mass', y='brain', style=['ob'], fillstyle='none', mew=1)\n",
    "\n",
    "for i in range(d.index.size):\n",
    "    d_new = d.drop(d.index[i])\n",
    "\n",
    "    m_0 = smf.ols('brain ~ mass', data=d_new).fit()\n",
    "\n",
    "    x_pred = np.linspace(d_new.mass.min() -5, d_new.mass.max() + 5, 50)\n",
    "    y_pred = m_0.params.Intercept + m_0.params.mass * x_pred\n",
    "\n",
    "    ax.plot(x_pred, y_pred, alpha=.3);"
   ]
  },
  {
   "cell_type": "markdown",
   "metadata": {},
   "source": [
    "**rethinking: bias and variance.** underfitting/overfitting also caused bias problems / variance problems. confusing nomenclature as these terms heavily overloaded in different contexts. also, increasing bias can improve predictions for unseen data."
   ]
  },
  {
   "cell_type": "markdown",
   "metadata": {},
   "source": [
    "## 6.2. information theory and model performance\n",
    "\n",
    "Define what model needs to do well at: target. Proposed here: out-of-sample deviance\n",
    "\n",
    "### 6.2.1. firing the weatherperson\n",
    "\n",
    "Define target needs at least:\n",
    "\n",
    "* cost-benefit. cost of wrong prediction, value of correct prediction\n",
    "* performance in context. how good could a model be for this task?\n",
    "\n",
    "#### 6.1.1.1. costs and benefits\n",
    "\n",
    "different decision about better model for different cost/benefit analysis\n",
    "\n",
    "#### 6.1.1.2. measuring accuracy\n",
    "\n",
    "even if ignoring cost/benefit unclear which measure of accuracy to use. \n",
    "\n",
    "McElreath: joint probability is correct measure. reason: currectly counts up relative nr of ways each event could happen = likelihood in B's theorem. **revisit likelihood, model definition, model structure of earlier chapters**\n",
    "\n",
    "\"maximizing joint probability will identify right model\" **what does right model mean?**\n",
    "\n",
    "how to measure performance? should account for difficulty of task. ex: if adding more categories, task becomes harder.\n",
    "\n",
    "**rethinking: what is a true model?** real world = deterministic. if all info was known, predictions would not be probabilities but just 1/0 for rain vs sunshine. but: we are ignorant of some information. 'right' = correct probabilities given our state of ignorance. \"probability is in the model, not in the world\". **but then, is each model a true model given its own assumptions of ignorance? unclear, discuss.**\n",
    "\n",
    "### 6.2.2. information theory and uncertainty\n",
    "\n",
    "information = reduction in uncertainty through learning an outcome\n",
    "\n",
    "define: f(probability of rain) -> uncertainty\n",
    "\n",
    "measure of uncertainty should be \n",
    "\n",
    "* continuous\n",
    "* increasing for more events\n",
    "* additive\n",
    "\n",
    "exactly one f() satisfying all criteria: information entropy.\n",
    "\n",
    "$$\n",
    "H(p) = -E \\log (p_i) = - \\sum_{i=1}^n p_i \\log (p_i)\n",
    "$$\n",
    "\n",
    "read: \"uncertainty in a probability distribution is the average log-probability of an event\"\n",
    "\n",
    "McElreath does not explain derivation, but points out: all parts of definition are there for a reason, to satisfy requirements listed above. However, above all, information entropy being used b/c it's proven to be very productive and useful.\n",
    "\n",
    "ex. on page illustrates: entropy of weather for Abu Dhabi much lower, as weather very uniform, thus low uncertainty. If adding 'snow' as weather condition: entropy/uncertainty increases.\n",
    "\n",
    "code for calculating entropy for one example:"
   ]
  },
  {
   "cell_type": "code",
   "execution_count": 68,
   "metadata": {},
   "outputs": [
    {
     "data": {
      "text/plain": [
       "0.6108643020548935"
      ]
     },
     "execution_count": 68,
     "metadata": {},
     "output_type": "execute_result"
    }
   ],
   "source": [
    "## Code 6.9\n",
    "\n",
    "p = np.array([0.3, 0.7])\n",
    "- np.sum((p * np.log(p)))"
   ]
  },
  {
   "cell_type": "markdown",
   "metadata": {},
   "source": [
    "**overthinking: more on entropy.** \n",
    "* \"-1\" in definition above customary but not necessary. leads to entropy increase from zero instead of decrease from one. \n",
    "* base of logarithm arbitrary, as long as same based used for all comparisons\n",
    "* how to deal with 0-probabilty events? drop out. assume that $0 \\log(0) = 0$. \"not a trick but not obvious\". remember: no sense to keep event that never happens in model.\n",
    "\n",
    "**rethinking: the benefits of maximizing uncertainty** maximum entropy (maxent) = family of techniques for finding prob. distr. most consistent w/ current knowledge. given current knowledge, what distr. is least surprising? will be used to build GLMs later.\n",
    "\n",
    "### 6.2.3. from entropy to accuracy\n",
    "\n",
    "**discuss: entropy is way of quantifying uncertainty. but why is that necessary? already had probabilities around parameters to quantifiy uncertainty?**\n",
    "\n",
    "How to use info entropy to measure model perf in distance from optimum? Divergence!\n",
    "\n",
    "Divergence = \"the additional uncertainty induced by using probabilities from one distribution to describe another distribution\" = Kullback-Leibler divergence = K-L divergence\n",
    "\n",
    "divergence(p,q) = KL(p,q) = \"average difference in log proability between target p and model q\"\n",
    "\n",
    "difference of entropies: \"entropy of target p and cross entropy of using q to predict p\"\n",
    "\n",
    "true probabilities = p\n",
    "approximation = q\n",
    "\n",
    "KL(p,q) = 0 iff p = q\n",
    "KL(p,q) > 0 otherwise\n",
    "\n",
    "grows the more q is different from p\n",
    "\n",
    "**overthinking: cross entropy and divergence.** cross entropy: events arise according to p, but are expected according to q, inflating uncertainty. \n",
    "\n",
    "$$H(p,q) = - \\sum_i p_i \\log(q_i)$$ \n",
    "\n",
    "Divergence = additional uncertainty due to cross entropy, thus \n",
    "\n",
    "$$KL(p,q) = H(p,q) - H(p)$$\n",
    "\n",
    "**rethinking: divergence depends upon direction.** my intuition: high entropy distribution = lots of ignorance = don't know what to expect, no event much more likely than others. use this to predict other distribution means we won't be super surprised by any outcome. \n",
    "\n",
    "flip side: low entropy distribution = lots of expectations = some events are much more likely than others. if we use low entropy distribution to predict other distribution and they don't match well: very surprised by outcome, high divergence. outcome has high information value?\n",
    "\n",
    "### 6.2.4. from divergence to deviance\n",
    "Know how to measure distance from true probability distr. $p$. But how to use in practice when $p$ is unknown? (wouldn't need to find model otherwise)\n",
    "\n",
    "Solution: don't know distance from $p$, but can know whether $q$ or $r$ is relatively closer. Deviance as relative measure.\n",
    "\n",
    "Summing log probabilities for each observed case gives approx of $E\\log(q_i)$\n",
    "\n",
    "Don't need to know $p$ in expectation term \"because nature takes care of presenting the events to us\". **what does that mean?**\n",
    "\n",
    "absolute magnitude of deviance not meaningful, only difference between models is\n",
    "\n",
    "deviance = \n",
    "\n",
    "$$\n",
    "D(q) = -2 \\sum_i \\log(q_i)\n",
    "$$\n",
    "\n",
    "$i$ = case index, $q_i$ = likelihood of case $i$. divergence scales w/ sample size.\n",
    "\n",
    "calc deviance by computing log-prop of observed data given MAP param estimates"
   ]
  },
  {
   "cell_type": "code",
   "execution_count": 72,
   "metadata": {},
   "outputs": [
    {
     "data": {
      "text/plain": [
       "94.92498968588757"
      ]
     },
     "execution_count": 72,
     "metadata": {},
     "output_type": "execute_result"
    }
   ],
   "source": [
    "# Code 6.10\n",
    "\n",
    "m_6_1 = smf.ols('brain ~ mass', data=d).fit()\n",
    "\n",
    "-2 * m_6_1.llf"
   ]
  },
  {
   "cell_type": "markdown",
   "metadata": {},
   "source": [
    "uncertainty about params -> uncertainty about deviance. for fixed set of params deviance also fixed"
   ]
  },
  {
   "cell_type": "markdown",
   "metadata": {},
   "source": [
    "**overthinking: computing deviance.**"
   ]
  },
  {
   "cell_type": "code",
   "execution_count": 83,
   "metadata": {},
   "outputs": [
    {
     "name": "stderr",
     "output_type": "stream",
     "text": [
      "Auto-assigning NUTS sampler...\n",
      "Initializing NUTS using jitter+adapt_diag...\n",
      "Multiprocess sampling (2 chains in 2 jobs)\n",
      "NUTS: [sigma, b, a]\n",
      "Sampling 2 chains: 100%|██████████| 14000/14000 [00:10<00:00, 1309.07draws/s]\n"
     ]
    }
   ],
   "source": [
    "# Code 6.11\n",
    "\n",
    "d['mass_s'] = (d.mass - d.mass.mean()) / d.mass.std()\n",
    "\n",
    "with pm.Model() as m_6_8 :\n",
    "    a = pm.Normal('a', mu=np.mean(d['brain']), sd=10)\n",
    "    b = pm.Normal('b', mu=0, sd=10)\n",
    "    \n",
    "    # why '*10'?\n",
    "    sigma = pm.Uniform('sigma', 0, np.std(d['brain']) * 10)\n",
    "    \n",
    "    mu = pm.Deterministic('mu', a + b * d['mass_s'])\n",
    "    \n",
    "    brain = pm.Normal('brain', mu = mu, sd = sigma, observed = d['brain'])\n",
    "    \n",
    "    m_6_8 = pm.sample(2000, tune=5000)"
   ]
  },
  {
   "cell_type": "code",
   "execution_count": 91,
   "metadata": {},
   "outputs": [
    {
     "data": {
      "text/plain": [
       "a        713.748269\n",
       "b          1.218698\n",
       "sigma    369.997387\n",
       "Name: mean, dtype: float64"
      ]
     },
     "execution_count": 91,
     "metadata": {},
     "output_type": "execute_result"
    }
   ],
   "source": [
    "theta = pm.summary(m_6_8).loc[['a', 'b', 'sigma'], 'mean']\n",
    "theta"
   ]
  },
  {
   "cell_type": "code",
   "execution_count": 98,
   "metadata": {},
   "outputs": [
    {
     "data": {
      "text/plain": [
       "100.18132665042522"
      ]
     },
     "execution_count": 98,
     "metadata": {},
     "output_type": "execute_result"
    }
   ],
   "source": [
    "dev = -2 * np.sum(stats.norm.logpdf(\n",
    "    x = d['brain'], \n",
    "    loc = theta['a'] + theta['b'] * d['mass_s'], \n",
    "    scale = theta['sigma']\n",
    "))\n",
    "dev"
   ]
  },
  {
   "cell_type": "markdown",
   "metadata": {},
   "source": [
    "### 6.2.5. from deviance to out-of-sample\n",
    "\n",
    "Train deviance always improves for more complex model. Care about test (out-of-sample) deviance.\n",
    "\n",
    "On average: test deviance will be worse than train deviance. However, can be reversed for an given train/test set. Any given training sample may be very misleading. Any given test sample might be highly non-representative. Don't test one sample too much. No guarantees in statistical inference.\n",
    "\n",
    "\"True\" model might behave worse than other models due to those effects.\n",
    "\n",
    "Conclusion: deviance on train data improves with more complex models. Deviance on test data might or might not, depending on actual data generation process and amount of train data available.\n",
    "\n",
    "**Overthinking: simulated training and testing.** all R stuff, skip"
   ]
  },
  {
   "cell_type": "code",
   "execution_count": 99,
   "metadata": {},
   "outputs": [],
   "source": [
    "# Code 6.12\n",
    "# Code 6.13\n",
    "# Code 6.14\n",
    "\n",
    "# R stuff, does not seem useful to replicate"
   ]
  },
  {
   "cell_type": "markdown",
   "metadata": {},
   "source": [
    "## 6.3 regularization\n",
    "\n",
    "root cause of overfitting: model trusting training data too much. flat prior = all param values equally likely = model makes posterior that fits training data (through likelihood function) as much as possible\n",
    "\n",
    "one solution: regularizing prior, slowing rate of learning from train data.\n",
    "\n",
    "reg. prior requires tuning. too much reg. means model doesn't learn from useful features. too little means it learns from noise features.\n",
    "\n",
    "no prior is optimal, \"doing better is all we can hope for\"\n",
    "\n",
    "example: use prior of Normal(0, 1) for model coefficient, encodes belief that values greater than 2 or smaller than -2 are pretty unlikely. make more skeptical by giving smaller std dev, e.g. Normal(0, 0.5). \n",
    "\n",
    "how strong? depends on data and model.\n",
    "\n",
    "the more data, the smaller effect of prior\n",
    "\n",
    "how to pick strenght of regularization? if enough data: split into train/test and use that to tune, picking settings with lowest test deviance. essentially cross validation.\n",
    "\n",
    "if not enough data available to split into train/test: information criteria (next chapter)\n",
    "\n",
    "**rethinking: multilevel-models as adaptive regularization.** multilevel models learn strength of priors from data. can be seen as adaptive regularization.\n",
    "\n",
    "**rethinking: rdige regression.** lin. models with Gaussian priors having 0 mean also called ridge regression. typically takes param to tune strenght of regularization. ridge regression does not compute posteriors, but includes reg. parameter into closed-form algebra solution for least squares approach. however, can also be seen as bayesian. another example of seeing one method from two perspectives."
   ]
  },
  {
   "cell_type": "markdown",
   "metadata": {},
   "source": [
    "## 6.4. information criteria\n",
    "\n",
    "information criteria: provide estimate of out-of-sample deviance for model.\n",
    "\n",
    "best-known criterion: akaike information criterion (aic):\n",
    "\n",
    "$$\n",
    "\\text{AIC} = D_{train} + 2p\n",
    "$$\n",
    "\n",
    "where $p$ = number of free model params\n",
    "\n",
    "All info criteria try to predict out-of-sample deviance for models but derived under different constraints and assumptions. For AIC these are:\n",
    "\n",
    "* flat priors or dominated by llhood\n",
    "* posterior is approx. multivar Normal\n",
    "* nr of data points much greater than nr of params\n",
    "\n",
    "'flat priors' harsh restriction, want to regularize. thus look for other criteria.\n",
    "\n",
    "deviance information criterion (dic) and widely applicable information criterion (waic)\n",
    "\n",
    "**rethinking: information criteria and consistency.** aic, dic, waic not consistent: do not necessarily assign best score to 'true' model. instead assign highest score to model with best expected out-of-sample predictive performance. issue? no, if goal is prediction. further \n",
    "\n",
    "furthermore, consistency defined for case dataset size going towards infinite, and in those info criteria give highest scores to most complex models. but in those cases v. complex behave like true model due to good fit.\n",
    "\n",
    "### 6.4.1. dic\n",
    "\n",
    "Aware of informative priors, but still assumes multivar Gaussian posterior. Thus results can be very wrong if that assumption not met.\n",
    "\n",
    "Calculated from posterior of deviance, which is based on posterior uncertainty around parameters.\n",
    "\n",
    "Calc deviance for each posterior sample. Let $\\bar D$ be the average deviance and $\\hat D$ the deviance at the posterior mean, then\n",
    "\n",
    "$$\n",
    "\\text{DIC} = \\bar D + (\\bar D - \\hat D) = \\bar D + p_D\n",
    "$$\n",
    "\n",
    "$p_D$ encodes model complexity and penalizes DIC based on that. = expected distance between in-sample and out-of-sample deviance. for flat priors: dic = aic, as expected difference = nr of parameters. however, for informative priors, model more constrained, thus penalty fraction of nr of parameters. \n",
    "\n",
    "**discuss: why is $\\bar D - \\hat D$ = expected diff between in-sample and out-of-sample deviance?**\n",
    "\n",
    "### 6.4.2. waic\n",
    "\n",
    "essential characteristic: pointwise. considers uncertainty around each prediction individually. makes sense b/c some predictions are harder/more uncertain than others. aic/dic don't do this.\n",
    "\n",
    "$$\n",
    "Pr(y_i) = \\text{avg}_{\\text{posterior samples}}(P(y_i | \\text{post. samp.})\n",
    "$$\n",
    "\n",
    "thus: average likelihood of $y_i$ over posterior\n",
    "\n",
    "$$\n",
    "lppd = \\sum_{i=1}^N \\log Pr(y_i)\n",
    "$$\n",
    "\n",
    "lppd = log pointwise predictive density = sum of log $Pr(y_i)$ across all data points = pointwise analog of deviance over posterior.\n",
    "\n",
    "$$\n",
    "V(y_i) = \\text{variance of log-likelihood for sample i in train data}\n",
    "$$\n",
    "\n",
    "then\n",
    "\n",
    "$$\n",
    "p_{waic} = \\sum_i^N V(y_i) = \\text{effective nr of parameters}\n",
    "$$\n",
    "\n",
    "then\n",
    "\n",
    "$$\n",
    "waic = -2(\\text{lppd} - p_{waic})\n",
    "$$\n",
    "\n",
    "again, estimating out of sample deviance.\n",
    "\n",
    "issue: requires individual consideration of each datum. not meaningful for time series, where each datum depends on the one before. generally, assumes exchangeability.\n",
    "\n",
    "generally: validity of any information criterion depends on predictive task."
   ]
  },
  {
   "cell_type": "markdown",
   "metadata": {},
   "source": [
    "**rethinking: what about bic?** bayesian info crit. (bic), or Schwarz criterion. not bayes/non-bayes choice to decide for/against this. can be motivaed from bayes/non-bayes perspective. bic related to lhood of data averaged over all priors = evidence in bayes formula -> comparing two models on evidence = bayes factor. not treated in this book"
   ]
  },
  {
   "cell_type": "markdown",
   "metadata": {},
   "source": [
    "**overthinking: waic calculations.** see below"
   ]
  },
  {
   "cell_type": "code",
   "execution_count": 100,
   "metadata": {},
   "outputs": [],
   "source": [
    "# Code 6.15\n",
    "# Code 6.16\n",
    "# Code 6.17\n",
    "# Code 6.18\n",
    "# Code 6.19\n",
    "# Code 6.20\n",
    "\n",
    "# not super relevant at the moment, skip\n"
   ]
  },
  {
   "cell_type": "markdown",
   "metadata": {},
   "source": [
    "### 6.4.3. dic and waic as estimates of deviance\n",
    "\n",
    "both accurate in given example. help to detect overfitting. complementery with regularization, which helps to reduce overfitting but does not detect/measure it."
   ]
  },
  {
   "cell_type": "markdown",
   "metadata": {},
   "source": [
    "**rethinking: diverse prediction frameworks.** information criteria useful to approximate cross validation. however, cross-validation not always useful approach. some people prefer prequential model selection framework. also, 'prediction' might have more subtle meaning when using multilevel models.\n",
    "\n",
    "finally, train/production disconnect in data. trying to apply model to different distributions in practice might yield bad predictions. information criteria unaware of that"
   ]
  },
  {
   "cell_type": "markdown",
   "metadata": {},
   "source": [
    "## 6.5. using information criteria\n",
    "\n",
    "post. prob. can suggest how confident to be about param values, assuming truth of model. similarly, relative differences in DIC/WAIC values can suggest how confident to be about models, assuming there only exist the models currently being compared.\n",
    "\n",
    "primary use cases for IC:\n",
    "* model comparison: IC in combination w/ estimates & posterior predictive checks can help understand not just *that* but also *why* one model outperforms another\n",
    "* model averaging: use IC to make posterior predictive distribution using relative performance of models\n"
   ]
  },
  {
   "cell_type": "markdown",
   "metadata": {},
   "source": [
    "### 6.5.1. model comparison"
   ]
  },
  {
   "cell_type": "code",
   "execution_count": 124,
   "metadata": {},
   "outputs": [
    {
     "data": {
      "text/plain": [
       "(17, 9)"
      ]
     },
     "execution_count": 124,
     "metadata": {},
     "output_type": "execute_result"
    }
   ],
   "source": [
    "# Code 6.21\n",
    "\n",
    "d = (\n",
    "    pd\n",
    "    .read_csv('./data/milk.csv', sep=';')\n",
    "    # make names more pythonic\n",
    "    .rename(columns = lambda colname: colname.replace('.', '_'))\n",
    "    .dropna()\n",
    "    .assign(neocortex = lambda df: df['neocortex_perc']/100)\n",
    ")\n",
    "d.shape"
   ]
  },
  {
   "cell_type": "markdown",
   "metadata": {},
   "source": [
    "*Essential* for model comparison: models *must* be fit to exaxtly same nr of cases. Issue: higher nr observations nearly always means higher deviance and IC values.\n",
    "\n",
    "**note: thus it does not mean need to fit to same predictors, just same nr of observations. also, means that this doesn't matter if comparing performance by predicting on test set instead of using IC - correct?**\n",
    "\n",
    "trick for bounding deviation of outcome to be positive: estimate exp(log(deviation)) instead"
   ]
  },
  {
   "cell_type": "code",
   "execution_count": 162,
   "metadata": {},
   "outputs": [
    {
     "name": "stderr",
     "output_type": "stream",
     "text": [
      "Auto-assigning NUTS sampler...\n",
      "Initializing NUTS using jitter+adapt_diag...\n",
      "Multiprocess sampling (2 chains in 2 jobs)\n",
      "NUTS: [sigma, alpha]\n",
      "Sampling 2 chains: 100%|██████████| 4000/4000 [00:03<00:00, 1242.83draws/s]\n",
      "Auto-assigning NUTS sampler...\n",
      "Initializing NUTS using jitter+adapt_diag...\n",
      "Multiprocess sampling (2 chains in 2 jobs)\n",
      "NUTS: [sigma, beta, alpha]\n",
      "Sampling 2 chains: 100%|██████████| 40000/40000 [02:07<00:00, 313.63draws/s]\n",
      "There were 39 divergences after tuning. Increase `target_accept` or reparameterize.\n",
      "The acceptance probability does not match the target. It is 0.7125531250525922, but should be close to 0.8. Try to increase the number of tuning steps.\n",
      "There were 4 divergences after tuning. Increase `target_accept` or reparameterize.\n",
      "The number of effective samples is smaller than 25% for some parameters.\n",
      "Auto-assigning NUTS sampler...\n",
      "Initializing NUTS using jitter+adapt_diag...\n",
      "Multiprocess sampling (2 chains in 2 jobs)\n",
      "NUTS: [sigma, beta, alpha]\n",
      "Sampling 2 chains: 100%|██████████| 4000/4000 [00:03<00:00, 1262.45draws/s]\n",
      "Auto-assigning NUTS sampler...\n",
      "Initializing NUTS using jitter+adapt_diag...\n",
      "Multiprocess sampling (2 chains in 2 jobs)\n",
      "NUTS: [sigma, beta, alpha]\n",
      "Sampling 2 chains: 100%|██████████| 40000/40000 [04:01<00:00, 165.82draws/s]\n",
      "There were 42 divergences after tuning. Increase `target_accept` or reparameterize.\n",
      "There were 45 divergences after tuning. Increase `target_accept` or reparameterize.\n",
      "The number of effective samples is smaller than 25% for some parameters.\n"
     ]
    }
   ],
   "source": [
    "# Code 6.22\n",
    "\n",
    "a_start = d.kcal_per_g.mean()\n",
    "# pymc3 implementation does not use log()?\n",
    "sigma_start = d.kcal_per_g.std()\n",
    "\n",
    "mass_shared = theano.shared(np.log(d['mass'].values))\n",
    "neocortex_shared = theano.shared(d['neocortex'].values)\n",
    "\n",
    "with pm.Model() as m6_11:\n",
    "    alpha = pm.Normal('alpha', mu=0, sd=10, testval=a_start)\n",
    "    mu = alpha + 0 * neocortex_shared\n",
    "    sigma = pm.HalfCauchy('sigma',beta=10, testval=sigma_start)    \n",
    "    kcal = pm.Normal('kcal', mu=mu, sd=sigma, observed=d['kcal_per_g'])\n",
    "    trace_m6_11 = pm.sample(1000, tune=1000)\n",
    "\n",
    "with pm.Model() as m6_12:\n",
    "    alpha = pm.Normal('alpha', mu=0, sd=10, testval=a_start)\n",
    "    beta = pm.Normal('beta', mu=0, sd=10)\n",
    "    sigma = pm.HalfCauchy('sigma',beta=10, testval=sigma_start)\n",
    "    mu = alpha + beta * neocortex_shared\n",
    "    kcal = pm.Normal('kcal', mu=mu, sd=sigma, observed=d['kcal_per_g'])\n",
    "    trace_m6_12 = pm.sample(5000, tune=15000)\n",
    "    \n",
    "with pm.Model() as m6_13:\n",
    "    alpha = pm.Normal('alpha', mu=0, sd=10, testval=a_start)\n",
    "    beta = pm.Normal('beta', mu=0, sd=10)\n",
    "    sigma = pm.HalfCauchy('sigma', beta=10, testval=sigma_start)\n",
    "    mu = alpha + beta * mass_shared\n",
    "    kcal = pm.Normal('kcal', mu=mu, sd=sigma, observed=d['kcal_per_g'])\n",
    "    trace_m6_13 = pm.sample(1000, tune=1000)\n",
    "    \n",
    "with pm.Model() as m6_14:\n",
    "    alpha = pm.Normal('alpha', mu=0, sd=10, testval=a_start)\n",
    "    beta = pm.Normal('beta', mu=0, sd=10, shape=2)\n",
    "    sigma = pm.HalfCauchy('sigma', beta=10, testval=sigma_start)\n",
    "    mu = alpha + beta[0] * mass_shared + beta[1] * neocortex_shared\n",
    "    kcal = pm.Normal('kcal', mu=mu, sd=sigma, observed=d['kcal_per_g'])\n",
    "    trace_m6_14 = pm.sample(5000, tune=15000)"
   ]
  },
  {
   "cell_type": "markdown",
   "metadata": {},
   "source": [
    "#### 6.5.1.1. comparing waic values"
   ]
  },
  {
   "cell_type": "code",
   "execution_count": 163,
   "metadata": {},
   "outputs": [
    {
     "name": "stderr",
     "output_type": "stream",
     "text": [
      "/anaconda3/envs/rethinking_statistics/lib/python3.7/site-packages/pymc3/stats.py:211: UserWarning: For one or more samples the posterior variance of the\n",
      "        log predictive densities exceeds 0.4. This could be indication of\n",
      "        WAIC starting to fail see http://arxiv.org/abs/1507.04544 for details\n",
      "        \n",
      "  \"\"\")\n"
     ]
    },
    {
     "data": {
      "text/plain": [
       "WAIC_r(WAIC=-17.150264621891615, WAIC_se=4.785872421323423, p_WAIC=2.8981942191164434, var_warn=1)"
      ]
     },
     "execution_count": 163,
     "metadata": {},
     "output_type": "execute_result"
    }
   ],
   "source": [
    "# Code 6.23\n",
    "\n",
    "pm.waic(trace_m6_14, m6_14)"
   ]
  },
  {
   "cell_type": "code",
   "execution_count": 167,
   "metadata": {},
   "outputs": [
    {
     "name": "stderr",
     "output_type": "stream",
     "text": [
      "/anaconda3/envs/rethinking_statistics/lib/python3.7/site-packages/pymc3/stats.py:211: UserWarning: For one or more samples the posterior variance of the\n",
      "        log predictive densities exceeds 0.4. This could be indication of\n",
      "        WAIC starting to fail see http://arxiv.org/abs/1507.04544 for details\n",
      "        \n",
      "  \"\"\")\n",
      "/anaconda3/envs/rethinking_statistics/lib/python3.7/site-packages/pymc3/stats.py:211: UserWarning: For one or more samples the posterior variance of the\n",
      "        log predictive densities exceeds 0.4. This could be indication of\n",
      "        WAIC starting to fail see http://arxiv.org/abs/1507.04544 for details\n",
      "        \n",
      "  \"\"\")\n"
     ]
    }
   ],
   "source": [
    "# Code 6.24\n",
    "\n",
    "compare_df = (\n",
    "    pm\n",
    "    .compare(\n",
    "    {m6_11 : trace_m6_11,\n",
    "     m6_12 : trace_m6_12,\n",
    "     m6_13 : trace_m6_13,\n",
    "     m6_14 : trace_m6_14}, \n",
    "    method='pseudo-BMA')\n",
    "    .assign(model =  pd.Series(['m6.11', 'm6.12', 'm6.13', 'm6.14']))\n",
    "    .set_index('model')\n",
    ")"
   ]
  },
  {
   "cell_type": "code",
   "execution_count": 169,
   "metadata": {},
   "outputs": [
    {
     "data": {
      "text/html": [
       "<div>\n",
       "<style scoped>\n",
       "    .dataframe tbody tr th:only-of-type {\n",
       "        vertical-align: middle;\n",
       "    }\n",
       "\n",
       "    .dataframe tbody tr th {\n",
       "        vertical-align: top;\n",
       "    }\n",
       "\n",
       "    .dataframe thead th {\n",
       "        text-align: right;\n",
       "    }\n",
       "</style>\n",
       "<table border=\"1\" class=\"dataframe\">\n",
       "  <thead>\n",
       "    <tr style=\"text-align: right;\">\n",
       "      <th></th>\n",
       "      <th>WAIC</th>\n",
       "      <th>pWAIC</th>\n",
       "      <th>dWAIC</th>\n",
       "      <th>weight</th>\n",
       "      <th>SE</th>\n",
       "      <th>dSE</th>\n",
       "      <th>var_warn</th>\n",
       "    </tr>\n",
       "    <tr>\n",
       "      <th>model</th>\n",
       "      <th></th>\n",
       "      <th></th>\n",
       "      <th></th>\n",
       "      <th></th>\n",
       "      <th></th>\n",
       "      <th></th>\n",
       "      <th></th>\n",
       "    </tr>\n",
       "  </thead>\n",
       "  <tbody>\n",
       "    <tr>\n",
       "      <th>m6.14</th>\n",
       "      <td>-17.15</td>\n",
       "      <td>2.9</td>\n",
       "      <td>0</td>\n",
       "      <td>0.96</td>\n",
       "      <td>4.79</td>\n",
       "      <td>0</td>\n",
       "      <td>1</td>\n",
       "    </tr>\n",
       "    <tr>\n",
       "      <th>m6.13</th>\n",
       "      <td>-9.15</td>\n",
       "      <td>1.96</td>\n",
       "      <td>8</td>\n",
       "      <td>0.02</td>\n",
       "      <td>4.11</td>\n",
       "      <td>3.29</td>\n",
       "      <td>1</td>\n",
       "    </tr>\n",
       "    <tr>\n",
       "      <th>m6.11</th>\n",
       "      <td>-8.92</td>\n",
       "      <td>1.22</td>\n",
       "      <td>8.23</td>\n",
       "      <td>0.02</td>\n",
       "      <td>3.56</td>\n",
       "      <td>4.6</td>\n",
       "      <td>0</td>\n",
       "    </tr>\n",
       "    <tr>\n",
       "      <th>m6.12</th>\n",
       "      <td>-7.37</td>\n",
       "      <td>1.85</td>\n",
       "      <td>9.78</td>\n",
       "      <td>0.01</td>\n",
       "      <td>3.08</td>\n",
       "      <td>4.7</td>\n",
       "      <td>0</td>\n",
       "    </tr>\n",
       "  </tbody>\n",
       "</table>\n",
       "</div>"
      ],
      "text/plain": [
       "        WAIC pWAIC dWAIC weight    SE   dSE var_warn\n",
       "model                                               \n",
       "m6.14 -17.15   2.9     0   0.96  4.79     0        1\n",
       "m6.13  -9.15  1.96     8   0.02  4.11  3.29        1\n",
       "m6.11  -8.92  1.22  8.23   0.02  3.56   4.6        0\n",
       "m6.12  -7.37  1.85  9.78   0.01  3.08   4.7        0"
      ]
     },
     "execution_count": 169,
     "metadata": {},
     "output_type": "execute_result"
    }
   ],
   "source": [
    "compare_df.sort_values('WAIC')"
   ]
  },
  {
   "cell_type": "markdown",
   "metadata": {},
   "source": [
    "* waic: what it says\n",
    "* pwaic: estimated effictive nr of params\n",
    "* dwaic: relative difference in waic between current and best model\n",
    "* weight: akaike weight\n",
    "* se: standard error of waic\n",
    "* dse: standard error of difference between current and best model"
   ]
  },
  {
   "cell_type": "code",
   "execution_count": 171,
   "metadata": {},
   "outputs": [
    {
     "data": {
      "image/png": "[encoded data removed]",
      "text/plain": [
       "<Figure size 432x288 with 1 Axes>"
      ]
     },
     "metadata": {
      "needs_background": "light"
     },
     "output_type": "display_data"
    }
   ],
   "source": [
    "# Code 6.25\n",
    "\n",
    "pm.compareplot(compare_df);"
   ]
  },
  {
   "cell_type": "markdown",
   "metadata": {},
   "source": [
    "* closed: in-sample waic\n",
    "* open: (out-of-sample) waic\n",
    "* dark line: waic se\n",
    "* triangle: diff between best and current\n",
    "* grey line: se of diff between best and current\n",
    "\n",
    "overlap in se of waic is not same as se of difference between models b/c uncertainty about models is correlated between models\n",
    "\n",
    "akaike weight = rescale relative predictive accuracy to sum to 1 between models\n",
    "\n",
    "unclear, akaike's interpretation: \"estimate of probability that model will make best predictions on new data, conditional on st of models considered\"\n",
    "\n",
    "only 12 cases, thus lots of uncertainty around waic.\n",
    "\n",
    "using uncertainty around differences, chance of difference being negative thus other model actualy being best:"
   ]
  },
  {
   "cell_type": "code",
   "execution_count": 173,
   "metadata": {},
   "outputs": [
    {
     "data": {
      "text/plain": [
       "0.17862"
      ]
     },
     "execution_count": 173,
     "metadata": {},
     "output_type": "execute_result"
    }
   ],
   "source": [
    "# Code 6.26\n",
    "\n",
    "diff = np.random.normal(loc=6.7, scale=7.26, size=100000)\n",
    "\n",
    "# this is in the pymc3 implementation and i think it's wrong. summing up actual values. \n",
    "# sum(diff[diff<0]) / 100000\n",
    "# out: ~ -0.7\n",
    "\n",
    "# instead want to count how often< 0 event happens.\n",
    "# this also matches the output of the book\n",
    "sum(diff<0) / 100000"
   ]
  },
  {
   "cell_type": "markdown",
   "metadata": {},
   "source": [
    "**rethining: how big a difference in waic is \"significant\"?** hard to say what 'significance' means in this case. models won't make same predictions. also, no established values like '5%'. book's stance: keep and present all models, to give most wholistic picture and enable best discussion."
   ]
  },
  {
   "cell_type": "markdown",
   "metadata": {},
   "source": [
    "**rethinking: waic metaphors.** \n",
    "\n",
    "1: waic scores = race horses. best horse most likely to win. also, if one horse wins by large margin then high confidence it's actually best horse. however, for small margin: less certain. also, hard to say how things play out when environment changes - how will model perform for new data, possibly from different process?\n",
    "\n",
    "2: waic scores = stones thrown to skip on a lake. for each throw lots of things can change: bad grip, good wind etc. good stone will go farther on average. the bigger the differences between stones are the more certain we can be that stone is actually better."
   ]
  },
  {
   "cell_type": "markdown",
   "metadata": {},
   "source": [
    "#### 6.4.1.2. comparing estimates\n",
    "\n",
    "comparing estimates can help understand *why* one model is better/worse than another. also, can help to understand if parameter stays important across models when adding/removing other parameters."
   ]
  },
  {
   "cell_type": "code",
   "execution_count": 174,
   "metadata": {},
   "outputs": [
    {
     "data": {
      "text/html": [
       "<div>\n",
       "<style scoped>\n",
       "    .dataframe tbody tr th:only-of-type {\n",
       "        vertical-align: middle;\n",
       "    }\n",
       "\n",
       "    .dataframe tbody tr th {\n",
       "        vertical-align: top;\n",
       "    }\n",
       "\n",
       "    .dataframe thead th {\n",
       "        text-align: right;\n",
       "    }\n",
       "</style>\n",
       "<table border=\"1\" class=\"dataframe\">\n",
       "  <thead>\n",
       "    <tr style=\"text-align: right;\">\n",
       "      <th></th>\n",
       "      <th>m6_11</th>\n",
       "      <th>m6_12</th>\n",
       "      <th>m6_13</th>\n",
       "      <th>m6_14</th>\n",
       "    </tr>\n",
       "  </thead>\n",
       "  <tbody>\n",
       "    <tr>\n",
       "      <th>alpha</th>\n",
       "      <td>0.656692</td>\n",
       "      <td>0.348399</td>\n",
       "      <td>0.704913</td>\n",
       "      <td>-1.084543</td>\n",
       "    </tr>\n",
       "    <tr>\n",
       "      <th>beta</th>\n",
       "      <td>NaN</td>\n",
       "      <td>0.458053</td>\n",
       "      <td>-0.031852</td>\n",
       "      <td>NaN</td>\n",
       "    </tr>\n",
       "    <tr>\n",
       "      <th>beta__0</th>\n",
       "      <td>NaN</td>\n",
       "      <td>NaN</td>\n",
       "      <td>NaN</td>\n",
       "      <td>-0.096377</td>\n",
       "    </tr>\n",
       "    <tr>\n",
       "      <th>beta__1</th>\n",
       "      <td>NaN</td>\n",
       "      <td>NaN</td>\n",
       "      <td>NaN</td>\n",
       "      <td>2.791529</td>\n",
       "    </tr>\n",
       "    <tr>\n",
       "      <th>sigma</th>\n",
       "      <td>0.188978</td>\n",
       "      <td>0.193257</td>\n",
       "      <td>0.181497</td>\n",
       "      <td>0.140464</td>\n",
       "    </tr>\n",
       "  </tbody>\n",
       "</table>\n",
       "</div>"
      ],
      "text/plain": [
       "            m6_11     m6_12     m6_13     m6_14\n",
       "alpha    0.656692  0.348399  0.704913 -1.084543\n",
       "beta          NaN  0.458053 -0.031852       NaN\n",
       "beta__0       NaN       NaN       NaN -0.096377\n",
       "beta__1       NaN       NaN       NaN  2.791529\n",
       "sigma    0.188978  0.193257  0.181497  0.140464"
      ]
     },
     "execution_count": 174,
     "metadata": {},
     "output_type": "execute_result"
    }
   ],
   "source": [
    "# Code 6.27\n",
    "\n",
    "coeftab = pd.DataFrame({'m6_11': pm.summary(trace_m6_11)['mean'],\n",
    "                        'm6_12': pm.summary(trace_m6_12)['mean'],\n",
    "                        'm6_13': pm.summary(trace_m6_13)['mean'],\n",
    "                        'm6_14': pm.summary(trace_m6_14)['mean']})\n",
    "coeftab"
   ]
  },
  {
   "cell_type": "markdown",
   "metadata": {},
   "source": [
    "**note: harder to read b/c pymc3 calls parameters 'beta[0]', 'beta[1]' instead of 'bn', 'bm'.**"
   ]
  },
  {
   "cell_type": "markdown",
   "metadata": {},
   "source": [
    "change in uncertainty around estimates also important, plot to see better"
   ]
  },
  {
   "cell_type": "code",
   "execution_count": 176,
   "metadata": {},
   "outputs": [
    {
     "data": {
      "image/png": "[encoded data removed]",
      "text/plain": [
       "<Figure size 720x576 with 2 Axes>"
      ]
     },
     "metadata": {
      "needs_background": "light"
     },
     "output_type": "display_data"
    }
   ],
   "source": [
    "# Code 6.28\n",
    "\n",
    "traces = [trace_m6_11, trace_m6_12, trace_m6_13, trace_m6_14]   \n",
    "models = [m6_11, m6_12, m6_13, m6_14]\n",
    "\n",
    "plt.figure(figsize=(10, 8))\n",
    "pm.forestplot(traces, plot_kwargs={'fontsize':14});"
   ]
  },
  {
   "cell_type": "markdown",
   "metadata": {},
   "source": [
    "**note: why are there multiple points per parameter per model? and again, having different parameter naming conventions would have made things easier**"
   ]
  },
  {
   "cell_type": "markdown",
   "metadata": {},
   "source": [
    "**rethinking: barlots suck.** McElreath: bars carry little information but clutter visuals a lot. use dotcharts instead."
   ]
  },
  {
   "cell_type": "markdown",
   "metadata": {},
   "source": [
    "### 6.5.2. model averaging"
   ]
  },
  {
   "cell_type": "markdown",
   "metadata": {},
   "source": [
    "posterior predictive for *single* model:"
   ]
  },
  {
   "cell_type": "code",
   "execution_count": 177,
   "metadata": {},
   "outputs": [
    {
     "name": "stderr",
     "output_type": "stream",
     "text": [
      "100%|██████████| 10000/10000 [00:15<00:00, 630.77it/s]\n"
     ]
    }
   ],
   "source": [
    "# Code 6.29\n",
    "\n",
    "kcal_per_g = np.repeat(0, 30) # empty outcome\n",
    "neocortex = np.linspace(0.5, 0.8, 30) # sequence of neocortex\n",
    "mass = np.repeat(4.5, 30)     # average mass\n",
    "\n",
    "mass_shared.set_value(np.log(mass))\n",
    "neocortex_shared.set_value(neocortex)\n",
    "post_pred = pm.sample_ppc(trace_m6_14, samples=10000, model=m6_14)"
   ]
  },
  {
   "cell_type": "markdown",
   "metadata": {},
   "source": [
    "posterior predictive averaged for *all* models:"
   ]
  },
  {
   "cell_type": "code",
   "execution_count": 178,
   "metadata": {},
   "outputs": [
    {
     "name": "stderr",
     "output_type": "stream",
     "text": [
      "100%|██████████| 10000/10000 [00:10<00:00, 913.87it/s]\n"
     ]
    }
   ],
   "source": [
    "# Code 6.30\n",
    "milk_ensemble = pm.sample_ppc_w(\n",
    "    traces, \n",
    "    10000, \n",
    "    models, \n",
    "    weights=compare_df.weight.sort_index(ascending=True)\n",
    ")"
   ]
  },
  {
   "cell_type": "code",
   "execution_count": 179,
   "metadata": {},
   "outputs": [
    {
     "data": {
      "image/png": "[encoded data removed]",
      "text/plain": [
       "<Figure size 576x432 with 1 Axes>"
      ]
     },
     "metadata": {
      "needs_background": "light"
     },
     "output_type": "display_data"
    }
   ],
   "source": [
    "plt.figure(figsize=(8, 6))\n",
    "\n",
    "plt.plot(neocortex, post_pred['kcal'].mean(0), ls='--', color='C2')\n",
    "hpd_post_pred = pm.hpd(post_pred['kcal'])\n",
    "plt.plot(neocortex,hpd_post_pred[:,0], ls='--', color='C2')\n",
    "plt.plot(neocortex,hpd_post_pred[:,], ls='--', color='C2')\n",
    "\n",
    "plt.plot(neocortex, milk_ensemble['kcal'].mean(0), color='C0')\n",
    "hpd_av = pm.hpd(milk_ensemble['kcal'])\n",
    "plt.fill_between(neocortex, hpd_av[:,0], hpd_av[:,1], alpha=0.1, color='C0')\n",
    "\n",
    "plt.scatter(d['neocortex'], d['kcal_per_g'], facecolor='None', edgecolors='C0')\n",
    "\n",
    "plt.ylim(0.3, 1)\n",
    "plt.xlabel('neocortex', fontsize=16)\n",
    "plt.ylabel('kcal_per_g', fontsize=16);\n"
   ]
  },
  {
   "cell_type": "markdown",
   "metadata": {},
   "source": [
    "**note: this looks very different from the book (it does look the same as in the pmc3 reference). compare and discuss**"
   ]
  },
  {
   "cell_type": "markdown",
   "metadata": {},
   "source": [
    "mechanics for averaging v simple: get posterior predictive samples from each model, weigh those by akaike model weight, use all these weighted samples as the predictive posterior for ensemble\n",
    "\n",
    "model averaging: sometimes little influence on predictions. sometimes massive. but always conservative approach that protects about overconfidence in single model. will never make predictor more influential than it is in any single model."
   ]
  },
  {
   "cell_type": "markdown",
   "metadata": {},
   "source": [
    "**rethinking: the curse of tippecanoe.** if exhaustively trying to all possible models will find some that fit really well. all big enough datasets have meaningless patterns of strong correlations in them, e.g. presidential names, election dates and facts about their life. patterns not actually based on real mechanisms will not generalize to new data.\n",
    "\n",
    "however, there are valid use-cases for just trying lots of models.\n",
    "\n",
    "1: explore data if there is no clear hypothesis. make sure to communicate that this is happening. use findings to inform future investigations.\n",
    "\n",
    "2: demonstrate that no (combination of) predictors is useful for predicting outcome."
   ]
  },
  {
   "cell_type": "markdown",
   "metadata": {},
   "source": [
    "## 6.6. summary\n",
    "\n",
    "Chapter flow: overfitting -> regularization and information criteria.\n",
    "\n",
    "Regularizing priors: reduce overfit during estimation.\n",
    "\n",
    "Information criteria: help estimate degree of overfitting.\n",
    "\n",
    "Introduced model comparison and ensembles based on information criteria.\n",
    "\n",
    "*All tools just heuristics, no guarantees. \"No statistical procedure will ver substitue for iterative scientific investigation.\"*"
   ]
  },
  {
   "cell_type": "markdown",
   "metadata": {},
   "source": [
    "## 6.7. practice"
   ]
  },
  {
   "cell_type": "markdown",
   "metadata": {},
   "source": [
    "**Easy**\n",
    "\n",
    "**6E1**\n",
    "\n",
    "*\"State the three motivating criteria that define information entropy. Try to express each in your\n",
    "own words\"*\n",
    "\n",
    "We want to have some measure of uncertainty. For some reason probabilities are not what we want **why not? discuss**. We want that measure to have the following properties:\n",
    "\n",
    "* small changes in underlying probabilities should result in small changes in uncertainty (continuous measure)\n",
    "* if nr of events increases, uncertainty should increase - it's harder to say what's going to happen if there are more choices. but actually, not obvious. assume that probabilities of all events need to sum to 1. then adding new event means taking away probability from some event(s) and assigning it to new event. thus: changing probabilities. could also change probabilities in such a way to resulting final distribution has less entropy than before, by probability being way more focused on one event? also, what happens to entropy if probabilities are uniform, then new event gets added and probabilities are spread out evenly again? (probably increases) **discuss*\n",
    "* additive: uncertainty about (A or B) and uncertainty about (X or Y) should be equal to uncertainty about (A and X, or A and Y, or B and X, or B and Y). However, shouldn't that take into account correlations between those and thus use whole joint distribution instead of marginals? **discuss**"
   ]
  },
  {
   "cell_type": "code",
   "execution_count": 191,
   "metadata": {},
   "outputs": [],
   "source": [
    "def inf_ent(probabilities):\n",
    "    return - np.sum(np.array(probabilities) * np.log(probabilities))"
   ]
  },
  {
   "cell_type": "markdown",
   "metadata": {},
   "source": [
    "**6E2**\n",
    "\n",
    "*\"Suppose a coin is weighted such that, when it is tossed and lands on a table, it comes up heads 70% of the time. What is the entropy of this coin?\"*\n",
    "\n",
    "Copy from above, formula of information entropy:\n",
    "\n",
    "$$\n",
    "H(p) = -E \\log (p_i) = - \\sum_{i=1}^n p_i \\log (p_i)\n",
    "$$\n",
    "\n",
    "For this coin we have two events, heads and tails, with two respective probabilities: 0.7 and 0.3. Plugging these in:"
   ]
  },
  {
   "cell_type": "code",
   "execution_count": 192,
   "metadata": {},
   "outputs": [
    {
     "data": {
      "text/plain": [
       "0.6108643020548935"
      ]
     },
     "execution_count": 192,
     "metadata": {},
     "output_type": "execute_result"
    }
   ],
   "source": [
    "inf_ent([0.3, 0.7])"
   ]
  },
  {
   "cell_type": "markdown",
   "metadata": {},
   "source": [
    "$$\n",
    "H(\\text{coin}) = - (0.7 * \\log(0.7) + 0.3 * \\log(0.3)) = 0.61\n",
    "$$"
   ]
  },
  {
   "cell_type": "markdown",
   "metadata": {},
   "source": [
    "**6E3**\n",
    "\n",
    "*\"Suppose a four-sided die is loaded such that, when tossed onto a table, it shows “1” 20%, “2” 25%, ”3” 25%, and ”4” 30% of the time. What is the entropy of this die?\"*"
   ]
  },
  {
   "cell_type": "code",
   "execution_count": 193,
   "metadata": {},
   "outputs": [
    {
     "data": {
      "text/plain": [
       "1.3762266043445461"
      ]
     },
     "execution_count": 193,
     "metadata": {},
     "output_type": "execute_result"
    }
   ],
   "source": [
    "inf_ent([.2, .25, .25, .3])"
   ]
  },
  {
   "cell_type": "markdown",
   "metadata": {},
   "source": [
    "**6E4**\n",
    "\n",
    "*\"Suppose another four-sided die is loaded such that it never shows “4”. The other three sides show equally often. What is the entropy of this die?\"*"
   ]
  },
  {
   "cell_type": "code",
   "execution_count": 194,
   "metadata": {},
   "outputs": [
    {
     "data": {
      "text/plain": [
       "nan"
      ]
     },
     "execution_count": 194,
     "metadata": {},
     "output_type": "execute_result"
    }
   ],
   "source": [
    "inf_ent([.3, .3, .3, 0])"
   ]
  },
  {
   "cell_type": "markdown",
   "metadata": {},
   "source": [
    "How to handle 0 probabilty? Define that \n",
    "\n",
    "$$\n",
    "0 \\log(0) = 0\n",
    "$$\n",
    "\n",
    "matching intuition that events that never happen do not influence uncertainty. Incorporating that into my inf_ent function:"
   ]
  },
  {
   "cell_type": "code",
   "execution_count": 199,
   "metadata": {},
   "outputs": [],
   "source": [
    "def inf_ent(probabilities):\n",
    "    \"\"\"\n",
    "    Information entropy that drops out 0-probability events\n",
    "    \"\"\"\n",
    "    \n",
    "    probabilities = np.asarray(probabilities)\n",
    "    probabilities = probabilities[probabilities.nonzero()]\n",
    "    \n",
    "    return - np.sum(probabilities * np.log(probabilities))"
   ]
  },
  {
   "cell_type": "code",
   "execution_count": 202,
   "metadata": {},
   "outputs": [
    {
     "data": {
      "text/plain": [
       "1.0835755238933424"
      ]
     },
     "execution_count": 202,
     "metadata": {},
     "output_type": "execute_result"
    }
   ],
   "source": [
    "inf_ent([.3, .3, .3, 0])"
   ]
  },
  {
   "cell_type": "markdown",
   "metadata": {},
   "source": [
    "**Medium**\n",
    "\n",
    "**6M1**\n",
    "\n",
    "*\"Write down and compare the definitions of AIC, DIC, and WAIC. Which of these criteria is most general? Which assumptions are required to transform a more general criterion into a less general one?\"*\n",
    "\n",
    "$$\n",
    "\\text{AIC} = D_{\\text{train}} + 2p\n",
    "$$\n",
    "\n",
    "$$\n",
    "\\text{DIC} = \\bar D + (\\bar D - \\hat D) = \\bar D + p_D\n",
    "$$\n",
    "\n",
    "$$\n",
    "\\text{WAIC} = -2(\\text{lppd} - p_{waic})\n",
    "$$\n",
    "\n",
    "Not sure how to compare these definitions. Regarding assumptions:\n",
    "\n",
    "To go from more general to less general: add assumptions.\n",
    "\n",
    "From WAIC to DIC: add assumption that posteriors are multivariate Gaussians.\n",
    "\n",
    "From DIC to AIC: add assumption that priors are flat."
   ]
  },
  {
   "cell_type": "markdown",
   "metadata": {},
   "source": [
    "**6M2**\n",
    "\n",
    "*\"Explain the difference between model selection and model averaging. What information is lost under model selection? What information is lost under model averaging?\"*\n",
    "\n",
    "Model selection = pick single best model according to some criterion. Discard others. Information lost: relative confidence in model as compared to other models. Contributions of other models.\n",
    "\n",
    "Model averaging = average predictions based on relative accuracy of individual models. Discard none. Information lost: none?"
   ]
  },
  {
   "cell_type": "markdown",
   "metadata": {},
   "source": [
    "**6M3**\n",
    "\n",
    "*\"When comparing models with an information criterion, why must all models be fit to exactly the same observations? What would happen to the information criterion values, if the models were fit to different numbers of observations? Perform some experiments, if you are not sure.\"*\n",
    "\n",
    "Higher number of observations -> higher (worse) value for IC. Unfair comparison"
   ]
  },
  {
   "cell_type": "markdown",
   "metadata": {},
   "source": [
    "**6M4**\n",
    "\n",
    "*\"Whathappenstotheeffectivenumberofparameters,asmeasuredbyDICorWAIC,asaprior becomes more concentrated? Why? Perform some experiments, if you are not sure.\"*\n",
    "\n",
    "Guess: nr of effective params reduces when prior becomes more informative. **Unsure, follow-up here.**"
   ]
  },
  {
   "cell_type": "markdown",
   "metadata": {},
   "source": [
    "**6M5**\n",
    "\n",
    "*\"Provide an informal explanation of why informative priors reduce overfitting.\"*\n",
    "\n",
    "Make models pay less attention to data, thus less likely to learn from non-generalizable features. Pushes posteriors towards value regions that are deemed more likely a-priori. Posterior will look a bit more like prior, a bit less like data."
   ]
  },
  {
   "cell_type": "markdown",
   "metadata": {},
   "source": [
    "**6M6**\n",
    "\n",
    "*\"Provide an information explanation of why overly informative priors result in underfitting.\"*\n",
    "\n",
    "Model will learn too little from data/pay too little attention to it. Will actually not learn generalizable patterns. Posterior will look a lot like prior, with little impact of data."
   ]
  },
  {
   "cell_type": "markdown",
   "metadata": {},
   "source": [
    "**Hard**"
   ]
  },
  {
   "cell_type": "code",
   "execution_count": 219,
   "metadata": {},
   "outputs": [],
   "source": [
    "import math"
   ]
  },
  {
   "cell_type": "code",
   "execution_count": 259,
   "metadata": {},
   "outputs": [
    {
     "name": "stdout",
     "output_type": "stream",
     "text": [
      "(272, 4)\n",
      "(272, 4)\n"
     ]
    }
   ],
   "source": [
    "# Code 6.31\n",
    "\n",
    "d = (\n",
    "    pd\n",
    "    .read_csv('./data/Howell1.csv', sep=';')\n",
    "    .assign(age = lambda df: (df.age - df.age.mean()) / df.age.std())\n",
    ")\n",
    "\n",
    "rs = np.random.RandomState(42)\n",
    "ix = rs.choice(np.asarray(range(len(d))), size=math.floor(len(d)/2), replace=False)\n",
    "\n",
    "d1 = d.iloc[ix].sort_index()\n",
    "d2 = d.iloc[d.index.difference(ix)]\n",
    "\n",
    "print(d1.shape)\n",
    "print(d2.shape)"
   ]
  },
  {
   "cell_type": "code",
   "execution_count": 293,
   "metadata": {},
   "outputs": [],
   "source": [
    "age_shared = theano.shared(d1.age.values)"
   ]
  },
  {
   "cell_type": "code",
   "execution_count": 310,
   "metadata": {},
   "outputs": [],
   "source": [
    "def poly_model(n):\n",
    "    \"\"\"\n",
    "    Fit polynomial model between age and height of degree n.\n",
    "    \n",
    "    return:\n",
    "        model, trace\n",
    "    \"\"\"\n",
    "    coeff_range = range(1, n+1)\n",
    "    \n",
    "    with pm.Model() as m:\n",
    "        betas = [pm.Normal('beta_{}'.format(coeff), mu=0, sd=20) for coeff in coeff_range]\n",
    "        age_transforms = [age_shared ** coeff for coeff in coeff_range]\n",
    "        beta_x_age = sum([beta * age_transform for beta, age_transform in zip(betas, age_transforms)])\n",
    "        \n",
    "        a = pm.Normal('a', mu=d1.height.mean())\n",
    "        mu = pm.Deterministic('mu', a + beta_x_age)\n",
    "        sigma = pm.Uniform('sigma', lower=0, upper=50)\n",
    "        height = pm.Normal('height', mu=mu, sd=sigma, observed=d1.height)\n",
    "\n",
    "        trace = pm.sample(2000, tune=5000)\n",
    "        \n",
    "        return (m, trace)"
   ]
  },
  {
   "cell_type": "code",
   "execution_count": 312,
   "metadata": {},
   "outputs": [],
   "source": [
    "poly_values = list(range(1, 7))"
   ]
  },
  {
   "cell_type": "code",
   "execution_count": 311,
   "metadata": {},
   "outputs": [
    {
     "name": "stderr",
     "output_type": "stream",
     "text": [
      "Auto-assigning NUTS sampler...\n",
      "Initializing NUTS using jitter+adapt_diag...\n",
      "Multiprocess sampling (2 chains in 2 jobs)\n",
      "NUTS: [sigma, beta_1, a]\n",
      "Sampling 2 chains: 100%|██████████| 14000/14000 [00:13<00:00, 1021.51draws/s]\n",
      "Auto-assigning NUTS sampler...\n",
      "Initializing NUTS using jitter+adapt_diag...\n",
      "Multiprocess sampling (2 chains in 2 jobs)\n",
      "NUTS: [sigma, beta_2, beta_1, a]\n",
      "Sampling 2 chains: 100%|██████████| 14000/14000 [00:26<00:00, 535.11draws/s] \n",
      "Auto-assigning NUTS sampler...\n",
      "Initializing NUTS using jitter+adapt_diag...\n",
      "Multiprocess sampling (2 chains in 2 jobs)\n",
      "NUTS: [sigma, beta_3, beta_2, beta_1, a]\n",
      "Sampling 2 chains: 100%|██████████| 14000/14000 [00:25<00:00, 538.85draws/s]\n",
      "Auto-assigning NUTS sampler...\n",
      "Initializing NUTS using jitter+adapt_diag...\n",
      "Multiprocess sampling (2 chains in 2 jobs)\n",
      "NUTS: [sigma, beta_4, beta_3, beta_2, beta_1, a]\n",
      "Sampling 2 chains: 100%|██████████| 14000/14000 [00:46<00:00, 230.31draws/s]\n",
      "The acceptance probability does not match the target. It is 0.715318796387802, but should be close to 0.8. Try to increase the number of tuning steps.\n",
      "Auto-assigning NUTS sampler...\n",
      "Initializing NUTS using jitter+adapt_diag...\n",
      "Multiprocess sampling (2 chains in 2 jobs)\n",
      "NUTS: [sigma, beta_5, beta_4, beta_3, beta_2, beta_1, a]\n",
      "Sampling 2 chains: 100%|██████████| 14000/14000 [01:39<00:00, 141.31draws/s]\n",
      "Auto-assigning NUTS sampler...\n",
      "Initializing NUTS using jitter+adapt_diag...\n",
      "Multiprocess sampling (2 chains in 2 jobs)\n",
      "NUTS: [sigma, beta_6, beta_5, beta_4, beta_3, beta_2, beta_1, a]\n",
      "Sampling 2 chains: 100%|██████████| 14000/14000 [04:44<00:00, 49.17draws/s]\n",
      "There were 100 divergences after tuning. Increase `target_accept` or reparameterize.\n",
      "The acceptance probability does not match the target. It is 0.5799279328315171, but should be close to 0.8. Try to increase the number of tuning steps.\n"
     ]
    }
   ],
   "source": [
    "models_and_traces = [poly_model(n) for n in poly_values]"
   ]
  },
  {
   "cell_type": "markdown",
   "metadata": {},
   "source": [
    "**note: what are weakly regularizing priors in this case? what kind of value ranges are expected?**\n",
    "\n",
    "**note 2: should i worried about warnings such as \"There were 100 divergences after tuning. Increase `target_accept` or reparameterize.\n",
    "The acceptance probability does not match the target. It is 0.5799279328315171, but should be close to 0.8. Try to increase the number of tuning steps.\" ?**"
   ]
  },
  {
   "cell_type": "code",
   "execution_count": 317,
   "metadata": {},
   "outputs": [
    {
     "data": {
      "text/html": [
       "<div>\n",
       "<style scoped>\n",
       "    .dataframe tbody tr th:only-of-type {\n",
       "        vertical-align: middle;\n",
       "    }\n",
       "\n",
       "    .dataframe tbody tr th {\n",
       "        vertical-align: top;\n",
       "    }\n",
       "\n",
       "    .dataframe thead th {\n",
       "        text-align: right;\n",
       "    }\n",
       "</style>\n",
       "<table border=\"1\" class=\"dataframe\">\n",
       "  <thead>\n",
       "    <tr style=\"text-align: right;\">\n",
       "      <th></th>\n",
       "      <th>mean</th>\n",
       "      <th>sd</th>\n",
       "      <th>mc_error</th>\n",
       "      <th>hpd_2.5</th>\n",
       "      <th>hpd_97.5</th>\n",
       "      <th>n_eff</th>\n",
       "      <th>Rhat</th>\n",
       "    </tr>\n",
       "  </thead>\n",
       "  <tbody>\n",
       "    <tr>\n",
       "      <th>a</th>\n",
       "      <td>145.094114</td>\n",
       "      <td>0.922590</td>\n",
       "      <td>0.026058</td>\n",
       "      <td>143.410230</td>\n",
       "      <td>146.938314</td>\n",
       "      <td>1336.802455</td>\n",
       "      <td>1.002454</td>\n",
       "    </tr>\n",
       "    <tr>\n",
       "      <th>beta_1</th>\n",
       "      <td>4.902628</td>\n",
       "      <td>2.796478</td>\n",
       "      <td>0.078953</td>\n",
       "      <td>-0.603087</td>\n",
       "      <td>10.558491</td>\n",
       "      <td>1306.306861</td>\n",
       "      <td>0.999889</td>\n",
       "    </tr>\n",
       "    <tr>\n",
       "      <th>beta_2</th>\n",
       "      <td>4.169913</td>\n",
       "      <td>2.575533</td>\n",
       "      <td>0.071286</td>\n",
       "      <td>-0.597791</td>\n",
       "      <td>9.523363</td>\n",
       "      <td>1393.513738</td>\n",
       "      <td>1.000773</td>\n",
       "    </tr>\n",
       "    <tr>\n",
       "      <th>beta_3</th>\n",
       "      <td>12.793330</td>\n",
       "      <td>4.320158</td>\n",
       "      <td>0.131405</td>\n",
       "      <td>4.174199</td>\n",
       "      <td>21.347243</td>\n",
       "      <td>1130.502182</td>\n",
       "      <td>0.999860</td>\n",
       "    </tr>\n",
       "    <tr>\n",
       "      <th>beta_4</th>\n",
       "      <td>-12.536691</td>\n",
       "      <td>1.637646</td>\n",
       "      <td>0.044215</td>\n",
       "      <td>-15.873002</td>\n",
       "      <td>-9.325810</td>\n",
       "      <td>1324.545936</td>\n",
       "      <td>0.999880</td>\n",
       "    </tr>\n",
       "    <tr>\n",
       "      <th>beta_5</th>\n",
       "      <td>0.725043</td>\n",
       "      <td>1.581513</td>\n",
       "      <td>0.046700</td>\n",
       "      <td>-2.568623</td>\n",
       "      <td>3.615753</td>\n",
       "      <td>1188.320334</td>\n",
       "      <td>0.999789</td>\n",
       "    </tr>\n",
       "    <tr>\n",
       "      <th>beta_6</th>\n",
       "      <td>0.777125</td>\n",
       "      <td>0.535520</td>\n",
       "      <td>0.015504</td>\n",
       "      <td>-0.255745</td>\n",
       "      <td>1.841901</td>\n",
       "      <td>1173.650022</td>\n",
       "      <td>0.999752</td>\n",
       "    </tr>\n",
       "    <tr>\n",
       "      <th>sigma</th>\n",
       "      <td>9.940781</td>\n",
       "      <td>0.508761</td>\n",
       "      <td>0.013990</td>\n",
       "      <td>9.019284</td>\n",
       "      <td>10.991555</td>\n",
       "      <td>1346.681827</td>\n",
       "      <td>1.007670</td>\n",
       "    </tr>\n",
       "  </tbody>\n",
       "</table>\n",
       "</div>"
      ],
      "text/plain": [
       "              mean        sd  mc_error     hpd_2.5    hpd_97.5        n_eff  \\\n",
       "a       145.094114  0.922590  0.026058  143.410230  146.938314  1336.802455   \n",
       "beta_1    4.902628  2.796478  0.078953   -0.603087   10.558491  1306.306861   \n",
       "beta_2    4.169913  2.575533  0.071286   -0.597791    9.523363  1393.513738   \n",
       "beta_3   12.793330  4.320158  0.131405    4.174199   21.347243  1130.502182   \n",
       "beta_4  -12.536691  1.637646  0.044215  -15.873002   -9.325810  1324.545936   \n",
       "beta_5    0.725043  1.581513  0.046700   -2.568623    3.615753  1188.320334   \n",
       "beta_6    0.777125  0.535520  0.015504   -0.255745    1.841901  1173.650022   \n",
       "sigma     9.940781  0.508761  0.013990    9.019284   10.991555  1346.681827   \n",
       "\n",
       "            Rhat  \n",
       "a       1.002454  \n",
       "beta_1  0.999889  \n",
       "beta_2  1.000773  \n",
       "beta_3  0.999860  \n",
       "beta_4  0.999880  \n",
       "beta_5  0.999789  \n",
       "beta_6  0.999752  \n",
       "sigma   1.007670  "
      ]
     },
     "execution_count": 317,
     "metadata": {},
     "output_type": "execute_result"
    }
   ],
   "source": [
    "pm.summary(models_and_traces[5][1]).loc[lambda df: ~ df.index.str.contains('__')]"
   ]
  },
  {
   "cell_type": "markdown",
   "metadata": {},
   "source": [
    "**6H1**"
   ]
  },
  {
   "cell_type": "code",
   "execution_count": 328,
   "metadata": {},
   "outputs": [
    {
     "name": "stderr",
     "output_type": "stream",
     "text": [
      "/anaconda3/envs/rethinking_statistics/lib/python3.7/site-packages/pymc3/stats.py:211: UserWarning: For one or more samples the posterior variance of the\n",
      "        log predictive densities exceeds 0.4. This could be indication of\n",
      "        WAIC starting to fail see http://arxiv.org/abs/1507.04544 for details\n",
      "        \n",
      "  \"\"\")\n",
      "/anaconda3/envs/rethinking_statistics/lib/python3.7/site-packages/pymc3/stats.py:211: UserWarning: For one or more samples the posterior variance of the\n",
      "        log predictive densities exceeds 0.4. This could be indication of\n",
      "        WAIC starting to fail see http://arxiv.org/abs/1507.04544 for details\n",
      "        \n",
      "  \"\"\")\n",
      "/anaconda3/envs/rethinking_statistics/lib/python3.7/site-packages/pymc3/stats.py:211: UserWarning: For one or more samples the posterior variance of the\n",
      "        log predictive densities exceeds 0.4. This could be indication of\n",
      "        WAIC starting to fail see http://arxiv.org/abs/1507.04544 for details\n",
      "        \n",
      "  \"\"\")\n"
     ]
    }
   ],
   "source": [
    "compare_df = (\n",
    "    pm\n",
    "    .compare(\n",
    "        model_dict = {m: t for m, t in models_and_traces},\n",
    "        method='pseudo-BMA'\n",
    "    )\n",
    "    .assign(model = ['m{}'.format(poly) for poly in poly_values])\n",
    "    .set_index('model')\n",
    ")"
   ]
  },
  {
   "cell_type": "code",
   "execution_count": 332,
   "metadata": {},
   "outputs": [
    {
     "data": {
      "text/html": [
       "<div>\n",
       "<style scoped>\n",
       "    .dataframe tbody tr th:only-of-type {\n",
       "        vertical-align: middle;\n",
       "    }\n",
       "\n",
       "    .dataframe tbody tr th {\n",
       "        vertical-align: top;\n",
       "    }\n",
       "\n",
       "    .dataframe thead th {\n",
       "        text-align: right;\n",
       "    }\n",
       "</style>\n",
       "<table border=\"1\" class=\"dataframe\">\n",
       "  <thead>\n",
       "    <tr style=\"text-align: right;\">\n",
       "      <th></th>\n",
       "      <th>WAIC</th>\n",
       "      <th>pWAIC</th>\n",
       "      <th>dWAIC</th>\n",
       "      <th>weight</th>\n",
       "      <th>SE</th>\n",
       "      <th>dSE</th>\n",
       "      <th>var_warn</th>\n",
       "    </tr>\n",
       "    <tr>\n",
       "      <th>model</th>\n",
       "      <th></th>\n",
       "      <th></th>\n",
       "      <th></th>\n",
       "      <th></th>\n",
       "      <th></th>\n",
       "      <th></th>\n",
       "      <th></th>\n",
       "    </tr>\n",
       "  </thead>\n",
       "  <tbody>\n",
       "    <tr>\n",
       "      <th>m1</th>\n",
       "      <td>2024.91</td>\n",
       "      <td>6.02</td>\n",
       "      <td>0</td>\n",
       "      <td>0.5</td>\n",
       "      <td>25.01</td>\n",
       "      <td>0</td>\n",
       "      <td>1</td>\n",
       "    </tr>\n",
       "    <tr>\n",
       "      <th>m2</th>\n",
       "      <td>2025.02</td>\n",
       "      <td>4.96</td>\n",
       "      <td>0.11</td>\n",
       "      <td>0.47</td>\n",
       "      <td>25.72</td>\n",
       "      <td>2.74</td>\n",
       "      <td>0</td>\n",
       "    </tr>\n",
       "    <tr>\n",
       "      <th>m3</th>\n",
       "      <td>2030.43</td>\n",
       "      <td>5.47</td>\n",
       "      <td>5.52</td>\n",
       "      <td>0.03</td>\n",
       "      <td>24.11</td>\n",
       "      <td>8.58</td>\n",
       "      <td>1</td>\n",
       "    </tr>\n",
       "    <tr>\n",
       "      <th>m4</th>\n",
       "      <td>2099.27</td>\n",
       "      <td>4.44</td>\n",
       "      <td>74.36</td>\n",
       "      <td>0</td>\n",
       "      <td>23.92</td>\n",
       "      <td>16.58</td>\n",
       "      <td>1</td>\n",
       "    </tr>\n",
       "    <tr>\n",
       "      <th>m5</th>\n",
       "      <td>2208.67</td>\n",
       "      <td>3.16</td>\n",
       "      <td>183.76</td>\n",
       "      <td>0</td>\n",
       "      <td>23.4</td>\n",
       "      <td>19.87</td>\n",
       "      <td>0</td>\n",
       "    </tr>\n",
       "    <tr>\n",
       "      <th>m6</th>\n",
       "      <td>2421.17</td>\n",
       "      <td>2.62</td>\n",
       "      <td>396.26</td>\n",
       "      <td>0</td>\n",
       "      <td>21.7</td>\n",
       "      <td>26.19</td>\n",
       "      <td>0</td>\n",
       "    </tr>\n",
       "  </tbody>\n",
       "</table>\n",
       "</div>"
      ],
      "text/plain": [
       "          WAIC pWAIC   dWAIC weight     SE    dSE var_warn\n",
       "model                                                     \n",
       "m1     2024.91  6.02       0    0.5  25.01      0        1\n",
       "m2     2025.02  4.96    0.11   0.47  25.72   2.74        0\n",
       "m3     2030.43  5.47    5.52   0.03  24.11   8.58        1\n",
       "m4     2099.27  4.44   74.36      0  23.92  16.58        1\n",
       "m5     2208.67  3.16  183.76      0   23.4  19.87        0\n",
       "m6     2421.17  2.62  396.26      0   21.7  26.19        0"
      ]
     },
     "execution_count": 332,
     "metadata": {},
     "output_type": "execute_result"
    }
   ],
   "source": [
    "compare_df.sort_values('WAIC')"
   ]
  },
  {
   "cell_type": "code",
   "execution_count": 333,
   "metadata": {},
   "outputs": [
    {
     "data": {
      "image/png": "[encoded data removed]",
      "text/plain": [
       "<Figure size 432x288 with 1 Axes>"
      ]
     },
     "metadata": {
      "needs_background": "light"
     },
     "output_type": "display_data"
    }
   ],
   "source": [
    "pm.compareplot(compare_df);"
   ]
  },
  {
   "cell_type": "markdown",
   "metadata": {},
   "source": [
    "Comparison: 1-poly model has best WAIC, gets half of total weight. Nearly all of other weight goes to 2-poly model, others are essentially 0.\n",
    "\n",
    "Higher order model: worse (higher) WAIC, less weight."
   ]
  },
  {
   "cell_type": "markdown",
   "metadata": {},
   "source": [
    "**6H2**"
   ]
  },
  {
   "cell_type": "code",
   "execution_count": 465,
   "metadata": {},
   "outputs": [],
   "source": [
    "sns.set()"
   ]
  },
  {
   "cell_type": "code",
   "execution_count": 545,
   "metadata": {},
   "outputs": [],
   "source": [
    "def plot_trace_dataframe(t_df, ax, title):\n",
    "    \"\"\"\n",
    "    Plot trace dataframe t_df into axes ax\n",
    "    \"\"\"\n",
    "\n",
    "    means = t_df.mean()\n",
    "\n",
    "    mu_hpd = pm.hpd(t_df.filter(like='mu__').values, alpha=0.03)\n",
    "\n",
    "    xy = (\n",
    "        pd\n",
    "        .DataFrame(\n",
    "            data=means.filter(like='mu__'), \n",
    "            columns=['mu']\n",
    "        )\n",
    "        .assign(\n",
    "            age=d1.age.values,\n",
    "            height=d1.height.values,\n",
    "            mu_hpd_lower=mu_hpd[:,0],\n",
    "            mu_hpd_upper=mu_hpd[:,1]\n",
    "        )\n",
    "        .sort_values('age')\n",
    "        .reset_index(drop=True)\n",
    "    )\n",
    "\n",
    "    ax.plot('age', 'mu', 'g-', data=xy)\n",
    "    ax.plot('age', 'height', 'ob', mew=1, fillstyle='none', alpha=.3, data=xy)\n",
    "    ax.fill_between('age', 'mu_hpd_lower', 'mu_hpd_upper', color='g', alpha=.3, data=xy)\n",
    "    ax.set_xlabel('standardized age')\n",
    "    ax.set_ylabel('height')\n",
    "    ax.set_title(title)"
   ]
  },
  {
   "cell_type": "code",
   "execution_count": 546,
   "metadata": {},
   "outputs": [
    {
     "data": {
      "image/png": "[encoded data removed]",
      "text/plain": [
       "<Figure size 1440x1440 with 6 Axes>"
      ]
     },
     "metadata": {},
     "output_type": "display_data"
    }
   ],
   "source": [
    "figure, axes_array = plt.subplots(nrows=2, ncols=3, sharex=True, sharey=True, squeeze=False, figsize=(20, 20))\n",
    "\n",
    "for ((_, t), ax, i) in zip(models_and_traces, axes_array.ravel(), range(len(models_and_traces))):\n",
    "    plot_trace_dataframe(pm.trace_to_dataframe(t), ax, '$m_{}$'.format(i+1))"
   ]
  },
  {
   "cell_type": "markdown",
   "metadata": {},
   "source": [
    "Analysis:\n",
    "\n",
    "The higher the degree of the polynomial the closer the means follow the data. However, where the change from degree 1 (line) to degree 2 (parabola) seems to create predicted means that follow the global trend of the data, going to higher degrees leads to predictions that become unstable, 'squiggly' and follow minor variations in the data which probably won't generalize."
   ]
  },
  {
   "cell_type": "markdown",
   "metadata": {},
   "source": [
    "**6H3**"
   ]
  },
  {
   "cell_type": "code",
   "execution_count": 529,
   "metadata": {},
   "outputs": [
    {
     "name": "stderr",
     "output_type": "stream",
     "text": [
      "100%|██████████| 10000/10000 [00:11<00:00, 850.45it/s]\n"
     ]
    }
   ],
   "source": [
    "height_ensemble = pm.sample_ppc_w(\n",
    "    [trace for (model, trace) in models_and_traces], \n",
    "    10000, \n",
    "    [model for (model, trace) in models_and_traces], \n",
    "    weights=compare_df.weight.sort_index(ascending=True)\n",
    ")"
   ]
  },
  {
   "cell_type": "code",
   "execution_count": 568,
   "metadata": {},
   "outputs": [
    {
     "data": {
      "text/plain": [
       "(10000, 272)"
      ]
     },
     "execution_count": 568,
     "metadata": {},
     "output_type": "execute_result"
    }
   ],
   "source": [
    "height_ensemble['height'].shape"
   ]
  },
  {
   "cell_type": "code",
   "execution_count": 569,
   "metadata": {},
   "outputs": [],
   "source": [
    "# NOTE: values aren't actually 'mu' values, but 'height' values, my function just expects that naming\n",
    "height_ensemble_df = pd.DataFrame(data=height_ensemble['height'], columns=['mu__{}'.format(i) for i in range(272)])"
   ]
  },
  {
   "cell_type": "code",
   "execution_count": 570,
   "metadata": {},
   "outputs": [
    {
     "data": {
      "text/html": [
       "<div>\n",
       "<style scoped>\n",
       "    .dataframe tbody tr th:only-of-type {\n",
       "        vertical-align: middle;\n",
       "    }\n",
       "\n",
       "    .dataframe tbody tr th {\n",
       "        vertical-align: top;\n",
       "    }\n",
       "\n",
       "    .dataframe thead th {\n",
       "        text-align: right;\n",
       "    }\n",
       "</style>\n",
       "<table border=\"1\" class=\"dataframe\">\n",
       "  <thead>\n",
       "    <tr style=\"text-align: right;\">\n",
       "      <th></th>\n",
       "      <th>mu__0</th>\n",
       "      <th>mu__1</th>\n",
       "      <th>mu__2</th>\n",
       "      <th>mu__3</th>\n",
       "      <th>mu__4</th>\n",
       "      <th>mu__5</th>\n",
       "      <th>mu__6</th>\n",
       "      <th>mu__7</th>\n",
       "      <th>mu__8</th>\n",
       "      <th>mu__9</th>\n",
       "      <th>...</th>\n",
       "      <th>mu__262</th>\n",
       "      <th>mu__263</th>\n",
       "      <th>mu__264</th>\n",
       "      <th>mu__265</th>\n",
       "      <th>mu__266</th>\n",
       "      <th>mu__267</th>\n",
       "      <th>mu__268</th>\n",
       "      <th>mu__269</th>\n",
       "      <th>mu__270</th>\n",
       "      <th>mu__271</th>\n",
       "    </tr>\n",
       "  </thead>\n",
       "  <tbody>\n",
       "    <tr>\n",
       "      <th>0</th>\n",
       "      <td>160.068349</td>\n",
       "      <td>169.882788</td>\n",
       "      <td>147.234234</td>\n",
       "      <td>139.469597</td>\n",
       "      <td>156.984147</td>\n",
       "      <td>129.986363</td>\n",
       "      <td>164.926726</td>\n",
       "      <td>169.863870</td>\n",
       "      <td>172.612031</td>\n",
       "      <td>141.556629</td>\n",
       "      <td>...</td>\n",
       "      <td>129.178709</td>\n",
       "      <td>94.485246</td>\n",
       "      <td>165.546361</td>\n",
       "      <td>163.123026</td>\n",
       "      <td>80.220386</td>\n",
       "      <td>132.437801</td>\n",
       "      <td>108.832329</td>\n",
       "      <td>158.821047</td>\n",
       "      <td>52.043814</td>\n",
       "      <td>141.163992</td>\n",
       "    </tr>\n",
       "    <tr>\n",
       "      <th>1</th>\n",
       "      <td>211.326800</td>\n",
       "      <td>161.020825</td>\n",
       "      <td>117.760286</td>\n",
       "      <td>164.206512</td>\n",
       "      <td>99.726909</td>\n",
       "      <td>138.508479</td>\n",
       "      <td>173.539763</td>\n",
       "      <td>150.145795</td>\n",
       "      <td>207.839191</td>\n",
       "      <td>163.313829</td>\n",
       "      <td>...</td>\n",
       "      <td>98.443568</td>\n",
       "      <td>141.488654</td>\n",
       "      <td>154.171529</td>\n",
       "      <td>135.528121</td>\n",
       "      <td>120.311855</td>\n",
       "      <td>136.440547</td>\n",
       "      <td>158.285613</td>\n",
       "      <td>146.467388</td>\n",
       "      <td>70.419532</td>\n",
       "      <td>172.485826</td>\n",
       "    </tr>\n",
       "    <tr>\n",
       "      <th>2</th>\n",
       "      <td>135.590621</td>\n",
       "      <td>155.962251</td>\n",
       "      <td>165.136091</td>\n",
       "      <td>146.615444</td>\n",
       "      <td>120.284335</td>\n",
       "      <td>129.636316</td>\n",
       "      <td>109.644021</td>\n",
       "      <td>150.714942</td>\n",
       "      <td>132.503243</td>\n",
       "      <td>131.396768</td>\n",
       "      <td>...</td>\n",
       "      <td>115.537334</td>\n",
       "      <td>84.967068</td>\n",
       "      <td>146.291835</td>\n",
       "      <td>149.084875</td>\n",
       "      <td>89.612430</td>\n",
       "      <td>161.094089</td>\n",
       "      <td>129.609501</td>\n",
       "      <td>134.308766</td>\n",
       "      <td>66.365885</td>\n",
       "      <td>141.256598</td>\n",
       "    </tr>\n",
       "    <tr>\n",
       "      <th>3</th>\n",
       "      <td>168.023177</td>\n",
       "      <td>183.414359</td>\n",
       "      <td>117.481355</td>\n",
       "      <td>138.885973</td>\n",
       "      <td>144.196703</td>\n",
       "      <td>113.117483</td>\n",
       "      <td>141.700414</td>\n",
       "      <td>133.325245</td>\n",
       "      <td>195.832930</td>\n",
       "      <td>130.589828</td>\n",
       "      <td>...</td>\n",
       "      <td>90.528209</td>\n",
       "      <td>117.299856</td>\n",
       "      <td>141.107471</td>\n",
       "      <td>152.189836</td>\n",
       "      <td>64.165700</td>\n",
       "      <td>101.703575</td>\n",
       "      <td>134.181532</td>\n",
       "      <td>125.330172</td>\n",
       "      <td>89.422173</td>\n",
       "      <td>197.556847</td>\n",
       "    </tr>\n",
       "    <tr>\n",
       "      <th>4</th>\n",
       "      <td>166.858872</td>\n",
       "      <td>147.403277</td>\n",
       "      <td>149.595861</td>\n",
       "      <td>144.394871</td>\n",
       "      <td>159.797282</td>\n",
       "      <td>125.688637</td>\n",
       "      <td>163.902653</td>\n",
       "      <td>139.453205</td>\n",
       "      <td>147.758729</td>\n",
       "      <td>149.444775</td>\n",
       "      <td>...</td>\n",
       "      <td>122.543448</td>\n",
       "      <td>114.279360</td>\n",
       "      <td>177.809047</td>\n",
       "      <td>160.617318</td>\n",
       "      <td>82.883002</td>\n",
       "      <td>135.162272</td>\n",
       "      <td>116.613264</td>\n",
       "      <td>153.511183</td>\n",
       "      <td>80.450112</td>\n",
       "      <td>176.807556</td>\n",
       "    </tr>\n",
       "  </tbody>\n",
       "</table>\n",
       "<p>5 rows × 272 columns</p>\n",
       "</div>"
      ],
      "text/plain": [
       "        mu__0       mu__1       mu__2       mu__3       mu__4       mu__5  \\\n",
       "0  160.068349  169.882788  147.234234  139.469597  156.984147  129.986363   \n",
       "1  211.326800  161.020825  117.760286  164.206512   99.726909  138.508479   \n",
       "2  135.590621  155.962251  165.136091  146.615444  120.284335  129.636316   \n",
       "3  168.023177  183.414359  117.481355  138.885973  144.196703  113.117483   \n",
       "4  166.858872  147.403277  149.595861  144.394871  159.797282  125.688637   \n",
       "\n",
       "        mu__6       mu__7       mu__8       mu__9     ...         mu__262  \\\n",
       "0  164.926726  169.863870  172.612031  141.556629     ...      129.178709   \n",
       "1  173.539763  150.145795  207.839191  163.313829     ...       98.443568   \n",
       "2  109.644021  150.714942  132.503243  131.396768     ...      115.537334   \n",
       "3  141.700414  133.325245  195.832930  130.589828     ...       90.528209   \n",
       "4  163.902653  139.453205  147.758729  149.444775     ...      122.543448   \n",
       "\n",
       "      mu__263     mu__264     mu__265     mu__266     mu__267     mu__268  \\\n",
       "0   94.485246  165.546361  163.123026   80.220386  132.437801  108.832329   \n",
       "1  141.488654  154.171529  135.528121  120.311855  136.440547  158.285613   \n",
       "2   84.967068  146.291835  149.084875   89.612430  161.094089  129.609501   \n",
       "3  117.299856  141.107471  152.189836   64.165700  101.703575  134.181532   \n",
       "4  114.279360  177.809047  160.617318   82.883002  135.162272  116.613264   \n",
       "\n",
       "      mu__269    mu__270     mu__271  \n",
       "0  158.821047  52.043814  141.163992  \n",
       "1  146.467388  70.419532  172.485826  \n",
       "2  134.308766  66.365885  141.256598  \n",
       "3  125.330172  89.422173  197.556847  \n",
       "4  153.511183  80.450112  176.807556  \n",
       "\n",
       "[5 rows x 272 columns]"
      ]
     },
     "execution_count": 570,
     "metadata": {},
     "output_type": "execute_result"
    }
   ],
   "source": [
    "height_ensemble_df.head()"
   ]
  },
  {
   "cell_type": "code",
   "execution_count": 573,
   "metadata": {},
   "outputs": [
    {
     "data": {
      "image/png": "[encoded data removed]",
      "text/plain": [
       "<Figure size 432x288 with 1 Axes>"
      ]
     },
     "metadata": {},
     "output_type": "display_data"
    }
   ],
   "source": [
    "plot_trace_dataframe(height_ensemble_df, plt.axes(), 'height ensemble')"
   ]
  },
  {
   "cell_type": "markdown",
   "metadata": {},
   "source": [
    "the above only gives me the posterior predictive, not exactly what i am looking for. the book seems to request to specifically compare differences in predicted means/spread of mean\n",
    "\n",
    "idea: create weighted average of samples per model, treat that as sample of new model"
   ]
  },
  {
   "cell_type": "code",
   "execution_count": 532,
   "metadata": {},
   "outputs": [],
   "source": [
    "weights=compare_df.weight.sort_index(ascending=True)"
   ]
  },
  {
   "cell_type": "code",
   "execution_count": 538,
   "metadata": {},
   "outputs": [
    {
     "data": {
      "text/plain": [
       "model\n",
       "m1     0.5\n",
       "m2    0.47\n",
       "m3    0.03\n",
       "m4       0\n",
       "m5       0\n",
       "m6       0\n",
       "Name: weight, dtype: object"
      ]
     },
     "execution_count": 538,
     "metadata": {},
     "output_type": "execute_result"
    }
   ],
   "source": [
    "weights"
   ]
  },
  {
   "cell_type": "markdown",
   "metadata": {},
   "source": [
    "how to deal with cases of 0 weight? will add nothing to sample but will increase denominator in (weighted_sum) / (number_of_models). this will change scale of parameter estimation, probably unwanted"
   ]
  },
  {
   "cell_type": "code",
   "execution_count": 552,
   "metadata": {},
   "outputs": [
    {
     "data": {
      "text/plain": [
       "model\n",
       "m1     0.5\n",
       "m2    0.47\n",
       "m3    0.03\n",
       "Name: weight, dtype: object"
      ]
     },
     "execution_count": 552,
     "metadata": {},
     "output_type": "execute_result"
    }
   ],
   "source": [
    "weights[weights > 0]"
   ]
  },
  {
   "cell_type": "code",
   "execution_count": 553,
   "metadata": {},
   "outputs": [
    {
     "data": {
      "text/plain": [
       "3"
      ]
     },
     "execution_count": 553,
     "metadata": {},
     "output_type": "execute_result"
    }
   ],
   "source": [
    "sum(weights > 0)"
   ]
  },
  {
   "cell_type": "code",
   "execution_count": 565,
   "metadata": {},
   "outputs": [],
   "source": [
    "weighted_average_df = sum([weight * pm.trace_to_dataframe(t) for (weight, (_, t)) in zip(weights, models_and_traces)])"
   ]
  },
  {
   "cell_type": "code",
   "execution_count": 566,
   "metadata": {},
   "outputs": [
    {
     "data": {
      "image/png": "[encoded data removed]",
      "text/plain": [
       "<Figure size 432x288 with 1 Axes>"
      ]
     },
     "metadata": {},
     "output_type": "display_data"
    }
   ],
   "source": [
    "plot_trace_dataframe(weighted_average_df, plt.axes(), 'weighted model averages')"
   ]
  },
  {
   "cell_type": "markdown",
   "metadata": {},
   "source": [
    "not what i want - i don't want to average samples, i want to mix complete samples in relative amounts proportional to model weight. let's try again"
   ]
  },
  {
   "cell_type": "code",
   "execution_count": 632,
   "metadata": {},
   "outputs": [],
   "source": [
    "# 4k samples = same amount as single model samples\n",
    "n_ensemble_samples = 10000"
   ]
  },
  {
   "cell_type": "code",
   "execution_count": 610,
   "metadata": {},
   "outputs": [],
   "source": [
    "trace_dfs_with_weights = [\n",
    "    pm.trace_to_dataframe(trace).assign(ensemble_weight=weight, model='m{}'.format(i))\n",
    "    for (weight, (_, trace), i) in zip(weights, models_and_traces, range(1, len(models_and_traces)+1))\n",
    "]\n",
    "    "
   ]
  },
  {
   "cell_type": "code",
   "execution_count": 611,
   "metadata": {},
   "outputs": [
    {
     "data": {
      "text/plain": [
       "(4000, 277)"
      ]
     },
     "execution_count": 611,
     "metadata": {},
     "output_type": "execute_result"
    }
   ],
   "source": [
    "trace_dfs_with_weights[0].shape"
   ]
  },
  {
   "cell_type": "code",
   "execution_count": 650,
   "metadata": {},
   "outputs": [
    {
     "name": "stdout",
     "output_type": "stream",
     "text": [
      "0\n",
      "a                  136.630603\n",
      "beta_1              19.792964\n",
      "mu__0              168.738753\n",
      "mu__1              170.646795\n",
      "mu__2              147.750295\n",
      "mu__3              142.026170\n",
      "mu__4              139.164107\n",
      "mu__5              134.394003\n",
      "mu__6              160.152566\n",
      "mu__7              153.474420\n",
      "mu__8              171.600816\n",
      "mu__9              142.980191\n",
      "mu__10             150.612358\n",
      "mu__11             138.210087\n",
      "mu__12             120.083691\n",
      "mu__13             116.267607\n",
      "mu__14             136.302045\n",
      "mu__15             121.037712\n",
      "mu__16             115.313587\n",
      "mu__17             162.060608\n",
      "mu__18             151.566378\n",
      "mu__19             123.899774\n",
      "mu__20             119.129670\n",
      "mu__21             136.302045\n",
      "mu__22             131.531941\n",
      "mu__23             134.394003\n",
      "mu__24             139.164107\n",
      "mu__25             131.531941\n",
      "mu__26             158.244524\n",
      "mu__27             124.853795\n",
      "                      ...    \n",
      "mu__244            111.497503\n",
      "mu__245            170.646795\n",
      "mu__246            152.520399\n",
      "mu__247            116.267607\n",
      "mu__248            122.945753\n",
      "mu__249            112.451524\n",
      "mu__250            149.658337\n",
      "mu__251            175.416899\n",
      "mu__252            133.439982\n",
      "mu__253            108.635441\n",
      "mu__254            154.428441\n",
      "mu__255            108.635441\n",
      "mu__256            116.267607\n",
      "mu__257            111.497503\n",
      "mu__258            150.612358\n",
      "mu__259            122.945753\n",
      "mu__260            120.083691\n",
      "mu__261            147.750295\n",
      "mu__262            121.037712\n",
      "mu__263            114.359566\n",
      "mu__264            159.198545\n",
      "mu__265            155.382462\n",
      "mu__266            109.589461\n",
      "mu__267            138.210087\n",
      "mu__268            124.853795\n",
      "mu__269            138.210087\n",
      "mu__270            108.635441\n",
      "mu__271            173.508858\n",
      "sigma               20.697945\n",
      "ensemble_weight      0.500000\n",
      "Length: 276, dtype: float64\n"
     ]
    }
   ],
   "source": [
    "for i, df in enumerate(trace_dfs_with_weights[:1]):\n",
    "    print(i)\n",
    "    print(df.mean())"
   ]
  },
  {
   "cell_type": "code",
   "execution_count": 612,
   "metadata": {},
   "outputs": [],
   "source": [
    "weighted_samples = pd.concat(trace_dfs_with_weights, ignore_index=True)"
   ]
  },
  {
   "cell_type": "code",
   "execution_count": 613,
   "metadata": {},
   "outputs": [
    {
     "data": {
      "text/plain": [
       "(24000, 282)"
      ]
     },
     "execution_count": 613,
     "metadata": {},
     "output_type": "execute_result"
    }
   ],
   "source": [
    "weighted_samples.shape"
   ]
  },
  {
   "cell_type": "code",
   "execution_count": 614,
   "metadata": {},
   "outputs": [
    {
     "data": {
      "text/html": [
       "<div>\n",
       "<style scoped>\n",
       "    .dataframe tbody tr th:only-of-type {\n",
       "        vertical-align: middle;\n",
       "    }\n",
       "\n",
       "    .dataframe tbody tr th {\n",
       "        vertical-align: top;\n",
       "    }\n",
       "\n",
       "    .dataframe thead th {\n",
       "        text-align: right;\n",
       "    }\n",
       "</style>\n",
       "<table border=\"1\" class=\"dataframe\">\n",
       "  <thead>\n",
       "    <tr style=\"text-align: right;\">\n",
       "      <th></th>\n",
       "      <th>a</th>\n",
       "      <th>beta_1</th>\n",
       "      <th>beta_2</th>\n",
       "      <th>beta_3</th>\n",
       "      <th>beta_4</th>\n",
       "      <th>beta_5</th>\n",
       "      <th>beta_6</th>\n",
       "      <th>ensemble_weight</th>\n",
       "      <th>model</th>\n",
       "      <th>mu__0</th>\n",
       "      <th>...</th>\n",
       "      <th>mu__91</th>\n",
       "      <th>mu__92</th>\n",
       "      <th>mu__93</th>\n",
       "      <th>mu__94</th>\n",
       "      <th>mu__95</th>\n",
       "      <th>mu__96</th>\n",
       "      <th>mu__97</th>\n",
       "      <th>mu__98</th>\n",
       "      <th>mu__99</th>\n",
       "      <th>sigma</th>\n",
       "    </tr>\n",
       "  </thead>\n",
       "  <tbody>\n",
       "    <tr>\n",
       "      <th>0</th>\n",
       "      <td>135.731912</td>\n",
       "      <td>17.122369</td>\n",
       "      <td>NaN</td>\n",
       "      <td>NaN</td>\n",
       "      <td>NaN</td>\n",
       "      <td>NaN</td>\n",
       "      <td>NaN</td>\n",
       "      <td>0.5</td>\n",
       "      <td>m1</td>\n",
       "      <td>163.507823</td>\n",
       "      <td>...</td>\n",
       "      <td>129.670598</td>\n",
       "      <td>128.845300</td>\n",
       "      <td>176.712593</td>\n",
       "      <td>144.525965</td>\n",
       "      <td>164.333121</td>\n",
       "      <td>137.923579</td>\n",
       "      <td>163.507823</td>\n",
       "      <td>162.682524</td>\n",
       "      <td>129.670598</td>\n",
       "      <td>20.293905</td>\n",
       "    </tr>\n",
       "    <tr>\n",
       "      <th>1</th>\n",
       "      <td>137.991919</td>\n",
       "      <td>21.875061</td>\n",
       "      <td>NaN</td>\n",
       "      <td>NaN</td>\n",
       "      <td>NaN</td>\n",
       "      <td>NaN</td>\n",
       "      <td>NaN</td>\n",
       "      <td>0.5</td>\n",
       "      <td>m1</td>\n",
       "      <td>173.477648</td>\n",
       "      <td>...</td>\n",
       "      <td>130.248153</td>\n",
       "      <td>129.193775</td>\n",
       "      <td>190.347694</td>\n",
       "      <td>149.226956</td>\n",
       "      <td>174.532026</td>\n",
       "      <td>140.791932</td>\n",
       "      <td>173.477648</td>\n",
       "      <td>172.423270</td>\n",
       "      <td>130.248153</td>\n",
       "      <td>20.734186</td>\n",
       "    </tr>\n",
       "    <tr>\n",
       "      <th>2</th>\n",
       "      <td>135.275509</td>\n",
       "      <td>18.610521</td>\n",
       "      <td>NaN</td>\n",
       "      <td>NaN</td>\n",
       "      <td>NaN</td>\n",
       "      <td>NaN</td>\n",
       "      <td>NaN</td>\n",
       "      <td>0.5</td>\n",
       "      <td>m1</td>\n",
       "      <td>165.465500</td>\n",
       "      <td>...</td>\n",
       "      <td>128.687390</td>\n",
       "      <td>127.790362</td>\n",
       "      <td>179.817934</td>\n",
       "      <td>144.833877</td>\n",
       "      <td>166.362528</td>\n",
       "      <td>137.657661</td>\n",
       "      <td>165.465500</td>\n",
       "      <td>164.568473</td>\n",
       "      <td>128.687390</td>\n",
       "      <td>21.443084</td>\n",
       "    </tr>\n",
       "    <tr>\n",
       "      <th>3</th>\n",
       "      <td>137.388193</td>\n",
       "      <td>19.861187</td>\n",
       "      <td>NaN</td>\n",
       "      <td>NaN</td>\n",
       "      <td>NaN</td>\n",
       "      <td>NaN</td>\n",
       "      <td>NaN</td>\n",
       "      <td>0.5</td>\n",
       "      <td>m1</td>\n",
       "      <td>169.607015</td>\n",
       "      <td>...</td>\n",
       "      <td>130.357338</td>\n",
       "      <td>129.400028</td>\n",
       "      <td>184.923962</td>\n",
       "      <td>147.588903</td>\n",
       "      <td>170.564324</td>\n",
       "      <td>139.930430</td>\n",
       "      <td>169.607015</td>\n",
       "      <td>168.649706</td>\n",
       "      <td>130.357338</td>\n",
       "      <td>21.116737</td>\n",
       "    </tr>\n",
       "    <tr>\n",
       "      <th>4</th>\n",
       "      <td>137.388193</td>\n",
       "      <td>19.861187</td>\n",
       "      <td>NaN</td>\n",
       "      <td>NaN</td>\n",
       "      <td>NaN</td>\n",
       "      <td>NaN</td>\n",
       "      <td>NaN</td>\n",
       "      <td>0.5</td>\n",
       "      <td>m1</td>\n",
       "      <td>169.607015</td>\n",
       "      <td>...</td>\n",
       "      <td>130.357338</td>\n",
       "      <td>129.400028</td>\n",
       "      <td>184.923962</td>\n",
       "      <td>147.588903</td>\n",
       "      <td>170.564324</td>\n",
       "      <td>139.930430</td>\n",
       "      <td>169.607015</td>\n",
       "      <td>168.649706</td>\n",
       "      <td>130.357338</td>\n",
       "      <td>21.116737</td>\n",
       "    </tr>\n",
       "  </tbody>\n",
       "</table>\n",
       "<p>5 rows × 282 columns</p>\n",
       "</div>"
      ],
      "text/plain": [
       "            a     beta_1  beta_2  beta_3  beta_4  beta_5  beta_6  \\\n",
       "0  135.731912  17.122369     NaN     NaN     NaN     NaN     NaN   \n",
       "1  137.991919  21.875061     NaN     NaN     NaN     NaN     NaN   \n",
       "2  135.275509  18.610521     NaN     NaN     NaN     NaN     NaN   \n",
       "3  137.388193  19.861187     NaN     NaN     NaN     NaN     NaN   \n",
       "4  137.388193  19.861187     NaN     NaN     NaN     NaN     NaN   \n",
       "\n",
       "   ensemble_weight model       mu__0    ...          mu__91      mu__92  \\\n",
       "0              0.5    m1  163.507823    ...      129.670598  128.845300   \n",
       "1              0.5    m1  173.477648    ...      130.248153  129.193775   \n",
       "2              0.5    m1  165.465500    ...      128.687390  127.790362   \n",
       "3              0.5    m1  169.607015    ...      130.357338  129.400028   \n",
       "4              0.5    m1  169.607015    ...      130.357338  129.400028   \n",
       "\n",
       "       mu__93      mu__94      mu__95      mu__96      mu__97      mu__98  \\\n",
       "0  176.712593  144.525965  164.333121  137.923579  163.507823  162.682524   \n",
       "1  190.347694  149.226956  174.532026  140.791932  173.477648  172.423270   \n",
       "2  179.817934  144.833877  166.362528  137.657661  165.465500  164.568473   \n",
       "3  184.923962  147.588903  170.564324  139.930430  169.607015  168.649706   \n",
       "4  184.923962  147.588903  170.564324  139.930430  169.607015  168.649706   \n",
       "\n",
       "       mu__99      sigma  \n",
       "0  129.670598  20.293905  \n",
       "1  130.248153  20.734186  \n",
       "2  128.687390  21.443084  \n",
       "3  130.357338  21.116737  \n",
       "4  130.357338  21.116737  \n",
       "\n",
       "[5 rows x 282 columns]"
      ]
     },
     "execution_count": 614,
     "metadata": {},
     "output_type": "execute_result"
    }
   ],
   "source": [
    "weighted_samples.head()"
   ]
  },
  {
   "cell_type": "code",
   "execution_count": 633,
   "metadata": {},
   "outputs": [],
   "source": [
    "weighted_ensemble_samples = weighted_samples.sample(\n",
    "    n=n_ensemble_samples, \n",
    "    replace=True, \n",
    "    weights=weighted_samples.ensemble_weight,\n",
    "    random_state=np.random.RandomState(42)\n",
    ")"
   ]
  },
  {
   "cell_type": "code",
   "execution_count": 634,
   "metadata": {},
   "outputs": [
    {
     "data": {
      "text/plain": [
       "(10000, 282)"
      ]
     },
     "execution_count": 634,
     "metadata": {},
     "output_type": "execute_result"
    }
   ],
   "source": [
    "weighted_ensemble_samples.shape"
   ]
  },
  {
   "cell_type": "code",
   "execution_count": 636,
   "metadata": {},
   "outputs": [
    {
     "data": {
      "text/html": [
       "<div>\n",
       "<style scoped>\n",
       "    .dataframe tbody tr th:only-of-type {\n",
       "        vertical-align: middle;\n",
       "    }\n",
       "\n",
       "    .dataframe tbody tr th {\n",
       "        vertical-align: top;\n",
       "    }\n",
       "\n",
       "    .dataframe thead th {\n",
       "        text-align: right;\n",
       "    }\n",
       "</style>\n",
       "<table border=\"1\" class=\"dataframe\">\n",
       "  <thead>\n",
       "    <tr style=\"text-align: right;\">\n",
       "      <th></th>\n",
       "      <th>a</th>\n",
       "      <th>beta_1</th>\n",
       "      <th>beta_2</th>\n",
       "      <th>beta_3</th>\n",
       "      <th>beta_4</th>\n",
       "      <th>beta_5</th>\n",
       "      <th>beta_6</th>\n",
       "      <th>ensemble_weight</th>\n",
       "      <th>model</th>\n",
       "      <th>mu__0</th>\n",
       "      <th>...</th>\n",
       "      <th>mu__91</th>\n",
       "      <th>mu__92</th>\n",
       "      <th>mu__93</th>\n",
       "      <th>mu__94</th>\n",
       "      <th>mu__95</th>\n",
       "      <th>mu__96</th>\n",
       "      <th>mu__97</th>\n",
       "      <th>mu__98</th>\n",
       "      <th>mu__99</th>\n",
       "      <th>sigma</th>\n",
       "    </tr>\n",
       "  </thead>\n",
       "  <tbody>\n",
       "    <tr>\n",
       "      <th>2996</th>\n",
       "      <td>137.003138</td>\n",
       "      <td>21.106231</td>\n",
       "      <td>NaN</td>\n",
       "      <td>NaN</td>\n",
       "      <td>NaN</td>\n",
       "      <td>NaN</td>\n",
       "      <td>NaN</td>\n",
       "      <td>0.50</td>\n",
       "      <td>m1</td>\n",
       "      <td>171.241670</td>\n",
       "      <td>...</td>\n",
       "      <td>129.531538</td>\n",
       "      <td>128.514218</td>\n",
       "      <td>187.518795</td>\n",
       "      <td>147.843303</td>\n",
       "      <td>172.258991</td>\n",
       "      <td>139.704741</td>\n",
       "      <td>171.241670</td>\n",
       "      <td>170.224350</td>\n",
       "      <td>129.531538</td>\n",
       "      <td>20.468277</td>\n",
       "    </tr>\n",
       "    <tr>\n",
       "      <th>7835</th>\n",
       "      <td>143.279153</td>\n",
       "      <td>25.535652</td>\n",
       "      <td>-11.544084</td>\n",
       "      <td>NaN</td>\n",
       "      <td>NaN</td>\n",
       "      <td>NaN</td>\n",
       "      <td>NaN</td>\n",
       "      <td>0.47</td>\n",
       "      <td>m2</td>\n",
       "      <td>154.324449</td>\n",
       "      <td>...</td>\n",
       "      <td>132.792882</td>\n",
       "      <td>131.141295</td>\n",
       "      <td>138.267467</td>\n",
       "      <td>153.349111</td>\n",
       "      <td>153.723183</td>\n",
       "      <td>146.358583</td>\n",
       "      <td>154.324449</td>\n",
       "      <td>154.872076</td>\n",
       "      <td>132.792882</td>\n",
       "      <td>14.652604</td>\n",
       "    </tr>\n",
       "    <tr>\n",
       "      <th>5974</th>\n",
       "      <td>142.658629</td>\n",
       "      <td>23.138298</td>\n",
       "      <td>-10.261176</td>\n",
       "      <td>NaN</td>\n",
       "      <td>NaN</td>\n",
       "      <td>NaN</td>\n",
       "      <td>NaN</td>\n",
       "      <td>0.47</td>\n",
       "      <td>m2</td>\n",
       "      <td>153.190952</td>\n",
       "      <td>...</td>\n",
       "      <td>133.181790</td>\n",
       "      <td>131.692516</td>\n",
       "      <td>139.258080</td>\n",
       "      <td>151.835718</td>\n",
       "      <td>152.677735</td>\n",
       "      <td>145.452217</td>\n",
       "      <td>153.190952</td>\n",
       "      <td>153.656491</td>\n",
       "      <td>133.181790</td>\n",
       "      <td>13.840932</td>\n",
       "    </tr>\n",
       "    <tr>\n",
       "      <th>4839</th>\n",
       "      <td>142.603620</td>\n",
       "      <td>22.162003</td>\n",
       "      <td>-10.142219</td>\n",
       "      <td>NaN</td>\n",
       "      <td>NaN</td>\n",
       "      <td>NaN</td>\n",
       "      <td>NaN</td>\n",
       "      <td>0.47</td>\n",
       "      <td>m2</td>\n",
       "      <td>151.865235</td>\n",
       "      <td>...</td>\n",
       "      <td>133.487295</td>\n",
       "      <td>132.049415</td>\n",
       "      <td>137.547832</td>\n",
       "      <td>151.310662</td>\n",
       "      <td>151.323839</td>\n",
       "      <td>145.274190</td>\n",
       "      <td>151.865235</td>\n",
       "      <td>152.359505</td>\n",
       "      <td>133.487295</td>\n",
       "      <td>14.096690</td>\n",
       "    </tr>\n",
       "    <tr>\n",
       "      <th>1248</th>\n",
       "      <td>135.784671</td>\n",
       "      <td>19.962472</td>\n",
       "      <td>NaN</td>\n",
       "      <td>NaN</td>\n",
       "      <td>NaN</td>\n",
       "      <td>NaN</td>\n",
       "      <td>NaN</td>\n",
       "      <td>0.50</td>\n",
       "      <td>m1</td>\n",
       "      <td>168.167797</td>\n",
       "      <td>...</td>\n",
       "      <td>128.717960</td>\n",
       "      <td>127.755769</td>\n",
       "      <td>183.562855</td>\n",
       "      <td>146.037401</td>\n",
       "      <td>169.129988</td>\n",
       "      <td>138.339872</td>\n",
       "      <td>168.167797</td>\n",
       "      <td>167.205606</td>\n",
       "      <td>128.717960</td>\n",
       "      <td>22.383100</td>\n",
       "    </tr>\n",
       "  </tbody>\n",
       "</table>\n",
       "<p>5 rows × 282 columns</p>\n",
       "</div>"
      ],
      "text/plain": [
       "               a     beta_1     beta_2  beta_3  beta_4  beta_5  beta_6  \\\n",
       "2996  137.003138  21.106231        NaN     NaN     NaN     NaN     NaN   \n",
       "7835  143.279153  25.535652 -11.544084     NaN     NaN     NaN     NaN   \n",
       "5974  142.658629  23.138298 -10.261176     NaN     NaN     NaN     NaN   \n",
       "4839  142.603620  22.162003 -10.142219     NaN     NaN     NaN     NaN   \n",
       "1248  135.784671  19.962472        NaN     NaN     NaN     NaN     NaN   \n",
       "\n",
       "      ensemble_weight model       mu__0    ...          mu__91      mu__92  \\\n",
       "2996             0.50    m1  171.241670    ...      129.531538  128.514218   \n",
       "7835             0.47    m2  154.324449    ...      132.792882  131.141295   \n",
       "5974             0.47    m2  153.190952    ...      133.181790  131.692516   \n",
       "4839             0.47    m2  151.865235    ...      133.487295  132.049415   \n",
       "1248             0.50    m1  168.167797    ...      128.717960  127.755769   \n",
       "\n",
       "          mu__93      mu__94      mu__95      mu__96      mu__97      mu__98  \\\n",
       "2996  187.518795  147.843303  172.258991  139.704741  171.241670  170.224350   \n",
       "7835  138.267467  153.349111  153.723183  146.358583  154.324449  154.872076   \n",
       "5974  139.258080  151.835718  152.677735  145.452217  153.190952  153.656491   \n",
       "4839  137.547832  151.310662  151.323839  145.274190  151.865235  152.359505   \n",
       "1248  183.562855  146.037401  169.129988  138.339872  168.167797  167.205606   \n",
       "\n",
       "          mu__99      sigma  \n",
       "2996  129.531538  20.468277  \n",
       "7835  132.792882  14.652604  \n",
       "5974  133.181790  13.840932  \n",
       "4839  133.487295  14.096690  \n",
       "1248  128.717960  22.383100  \n",
       "\n",
       "[5 rows x 282 columns]"
      ]
     },
     "execution_count": 636,
     "metadata": {},
     "output_type": "execute_result"
    }
   ],
   "source": [
    "weighted_ensemble_samples.head()"
   ]
  },
  {
   "cell_type": "markdown",
   "metadata": {},
   "source": [
    "sanity check: models should contribute proportional to their weight"
   ]
  },
  {
   "cell_type": "code",
   "execution_count": 637,
   "metadata": {},
   "outputs": [
    {
     "data": {
      "text/html": [
       "<div>\n",
       "<style scoped>\n",
       "    .dataframe tbody tr th:only-of-type {\n",
       "        vertical-align: middle;\n",
       "    }\n",
       "\n",
       "    .dataframe tbody tr th {\n",
       "        vertical-align: top;\n",
       "    }\n",
       "\n",
       "    .dataframe thead th {\n",
       "        text-align: right;\n",
       "    }\n",
       "</style>\n",
       "<table border=\"1\" class=\"dataframe\">\n",
       "  <thead>\n",
       "    <tr style=\"text-align: right;\">\n",
       "      <th></th>\n",
       "      <th>sampled_fraction</th>\n",
       "      <th>ensemble_weight</th>\n",
       "      <th>difference</th>\n",
       "    </tr>\n",
       "  </thead>\n",
       "  <tbody>\n",
       "    <tr>\n",
       "      <th>m1</th>\n",
       "      <td>0.5076</td>\n",
       "      <td>0.50</td>\n",
       "      <td>-0.0076</td>\n",
       "    </tr>\n",
       "    <tr>\n",
       "      <th>m2</th>\n",
       "      <td>0.4660</td>\n",
       "      <td>0.47</td>\n",
       "      <td>0.0040</td>\n",
       "    </tr>\n",
       "    <tr>\n",
       "      <th>m3</th>\n",
       "      <td>0.0264</td>\n",
       "      <td>0.03</td>\n",
       "      <td>0.0036</td>\n",
       "    </tr>\n",
       "    <tr>\n",
       "      <th>m4</th>\n",
       "      <td>0.0000</td>\n",
       "      <td>0.00</td>\n",
       "      <td>0.0000</td>\n",
       "    </tr>\n",
       "    <tr>\n",
       "      <th>m5</th>\n",
       "      <td>0.0000</td>\n",
       "      <td>0.00</td>\n",
       "      <td>0.0000</td>\n",
       "    </tr>\n",
       "    <tr>\n",
       "      <th>m6</th>\n",
       "      <td>0.0000</td>\n",
       "      <td>0.00</td>\n",
       "      <td>0.0000</td>\n",
       "    </tr>\n",
       "  </tbody>\n",
       "</table>\n",
       "</div>"
      ],
      "text/plain": [
       "    sampled_fraction  ensemble_weight  difference\n",
       "m1            0.5076             0.50     -0.0076\n",
       "m2            0.4660             0.47      0.0040\n",
       "m3            0.0264             0.03      0.0036\n",
       "m4            0.0000             0.00      0.0000\n",
       "m5            0.0000             0.00      0.0000\n",
       "m6            0.0000             0.00      0.0000"
      ]
     },
     "execution_count": 637,
     "metadata": {},
     "output_type": "execute_result"
    }
   ],
   "source": [
    "(\n",
    "    pd\n",
    "    .concat(\n",
    "        objs=[\n",
    "            (weighted_ensemble_samples.model.value_counts() / len(weighted_ensemble_samples)).rename('sampled_fraction'),\n",
    "            weights.rename('ensemble_weight')\n",
    "        ],\n",
    "        axis=1\n",
    "    )\n",
    "    .fillna(0)\n",
    "    .assign(difference=lambda df: df.ensemble_weight - df.sampled_fraction)\n",
    ")"
   ]
  },
  {
   "cell_type": "code",
   "execution_count": 638,
   "metadata": {},
   "outputs": [
    {
     "data": {
      "image/png": "[encoded data removed]",
      "text/plain": [
       "<Figure size 432x288 with 1 Axes>"
      ]
     },
     "metadata": {},
     "output_type": "display_data"
    }
   ],
   "source": [
    "plot_trace_dataframe(weighted_ensemble_samples, plt.axes(), 'weighted model samples')"
   ]
  },
  {
   "cell_type": "markdown",
   "metadata": {},
   "source": [
    "why is this weird?"
   ]
  },
  {
   "cell_type": "code",
   "execution_count": 639,
   "metadata": {},
   "outputs": [
    {
     "data": {
      "text/plain": [
       "Text(0.5,1,'debug')"
      ]
     },
     "execution_count": 639,
     "metadata": {},
     "output_type": "execute_result"
    },
    {
     "data": {
      "image/png": "[encoded data removed]",
      "text/plain": [
       "<Figure size 432x288 with 1 Axes>"
      ]
     },
     "metadata": {},
     "output_type": "display_data"
    }
   ],
   "source": [
    "t_df = weighted_ensemble_samples\n",
    "ax = plt.axes()\n",
    "title = 'debug'\n",
    "\n",
    "means = t_df.mean()\n",
    "\n",
    "mu_hpd = pm.hpd(t_df.filter(like='mu__').values, alpha=0.03)\n",
    "\n",
    "xy = (\n",
    "    pd\n",
    "    .DataFrame(\n",
    "        data=means.filter(like='mu__'), \n",
    "        columns=['mu']\n",
    "    )\n",
    "    .assign(\n",
    "        age=d1.age.values,\n",
    "        height=d1.height.values,\n",
    "        mu_hpd_lower=mu_hpd[:,0],\n",
    "        mu_hpd_upper=mu_hpd[:,1]\n",
    "    )\n",
    "    .sort_values('age')\n",
    "    .reset_index(drop=True)\n",
    ")\n",
    "\n",
    "ax.plot('age', 'mu', 'g-', data=xy)\n",
    "ax.plot('age', 'height', 'ob', mew=1, fillstyle='none', alpha=.3, data=xy)\n",
    "ax.fill_between('age', 'mu_hpd_lower', 'mu_hpd_upper', color='g', alpha=.3, data=xy)\n",
    "ax.set_xlabel('standardized age')\n",
    "ax.set_ylabel('height')\n",
    "ax.set_title(title)"
   ]
  },
  {
   "cell_type": "code",
   "execution_count": 642,
   "metadata": {},
   "outputs": [
    {
     "data": {
      "text/html": [
       "<div>\n",
       "<style scoped>\n",
       "    .dataframe tbody tr th:only-of-type {\n",
       "        vertical-align: middle;\n",
       "    }\n",
       "\n",
       "    .dataframe tbody tr th {\n",
       "        vertical-align: top;\n",
       "    }\n",
       "\n",
       "    .dataframe thead th {\n",
       "        text-align: right;\n",
       "    }\n",
       "</style>\n",
       "<table border=\"1\" class=\"dataframe\">\n",
       "  <thead>\n",
       "    <tr style=\"text-align: right;\">\n",
       "      <th></th>\n",
       "      <th>mu</th>\n",
       "      <th>age</th>\n",
       "      <th>height</th>\n",
       "      <th>mu_hpd_lower</th>\n",
       "      <th>mu_hpd_upper</th>\n",
       "    </tr>\n",
       "  </thead>\n",
       "  <tbody>\n",
       "    <tr>\n",
       "      <th>0</th>\n",
       "      <td>149.814355</td>\n",
       "      <td>-1.41440</td>\n",
       "      <td>56.5150</td>\n",
       "      <td>144.930232</td>\n",
       "      <td>154.744911</td>\n",
       "    </tr>\n",
       "    <tr>\n",
       "      <th>1</th>\n",
       "      <td>158.198901</td>\n",
       "      <td>-1.41440</td>\n",
       "      <td>60.9600</td>\n",
       "      <td>153.037336</td>\n",
       "      <td>164.300450</td>\n",
       "    </tr>\n",
       "    <tr>\n",
       "      <th>2</th>\n",
       "      <td>109.706705</td>\n",
       "      <td>-1.41440</td>\n",
       "      <td>53.9750</td>\n",
       "      <td>101.190723</td>\n",
       "      <td>117.851281</td>\n",
       "    </tr>\n",
       "    <tr>\n",
       "      <th>3</th>\n",
       "      <td>153.372510</td>\n",
       "      <td>-1.41440</td>\n",
       "      <td>62.8650</td>\n",
       "      <td>149.311745</td>\n",
       "      <td>157.382367</td>\n",
       "    </tr>\n",
       "    <tr>\n",
       "      <th>4</th>\n",
       "      <td>148.212246</td>\n",
       "      <td>-1.41440</td>\n",
       "      <td>68.5800</td>\n",
       "      <td>143.162927</td>\n",
       "      <td>153.383787</td>\n",
       "    </tr>\n",
       "    <tr>\n",
       "      <th>5</th>\n",
       "      <td>161.473621</td>\n",
       "      <td>-1.41440</td>\n",
       "      <td>66.6750</td>\n",
       "      <td>130.828390</td>\n",
       "      <td>189.595505</td>\n",
       "    </tr>\n",
       "    <tr>\n",
       "      <th>6</th>\n",
       "      <td>160.831982</td>\n",
       "      <td>-1.41440</td>\n",
       "      <td>71.1200</td>\n",
       "      <td>149.805111</td>\n",
       "      <td>171.917614</td>\n",
       "    </tr>\n",
       "    <tr>\n",
       "      <th>7</th>\n",
       "      <td>117.711362</td>\n",
       "      <td>-1.38548</td>\n",
       "      <td>91.4400</td>\n",
       "      <td>113.129145</td>\n",
       "      <td>122.349922</td>\n",
       "    </tr>\n",
       "    <tr>\n",
       "      <th>8</th>\n",
       "      <td>152.025431</td>\n",
       "      <td>-1.36620</td>\n",
       "      <td>80.0100</td>\n",
       "      <td>147.589804</td>\n",
       "      <td>156.463204</td>\n",
       "    </tr>\n",
       "    <tr>\n",
       "      <th>9</th>\n",
       "      <td>150.576899</td>\n",
       "      <td>-1.36620</td>\n",
       "      <td>67.3100</td>\n",
       "      <td>145.739808</td>\n",
       "      <td>155.281003</td>\n",
       "    </tr>\n",
       "    <tr>\n",
       "      <th>10</th>\n",
       "      <td>157.299124</td>\n",
       "      <td>-1.36620</td>\n",
       "      <td>76.2000</td>\n",
       "      <td>153.178122</td>\n",
       "      <td>162.142843</td>\n",
       "    </tr>\n",
       "    <tr>\n",
       "      <th>11</th>\n",
       "      <td>104.560012</td>\n",
       "      <td>-1.36620</td>\n",
       "      <td>62.4840</td>\n",
       "      <td>93.424456</td>\n",
       "      <td>115.733408</td>\n",
       "    </tr>\n",
       "    <tr>\n",
       "      <th>12</th>\n",
       "      <td>122.174361</td>\n",
       "      <td>-1.36620</td>\n",
       "      <td>59.6138</td>\n",
       "      <td>119.158369</td>\n",
       "      <td>125.834083</td>\n",
       "    </tr>\n",
       "    <tr>\n",
       "      <th>13</th>\n",
       "      <td>119.227158</td>\n",
       "      <td>-1.36620</td>\n",
       "      <td>69.8500</td>\n",
       "      <td>115.290873</td>\n",
       "      <td>123.310064</td>\n",
       "    </tr>\n",
       "    <tr>\n",
       "      <th>14</th>\n",
       "      <td>149.814355</td>\n",
       "      <td>-1.36620</td>\n",
       "      <td>67.9450</td>\n",
       "      <td>144.930232</td>\n",
       "      <td>154.744911</td>\n",
       "    </tr>\n",
       "    <tr>\n",
       "      <th>15</th>\n",
       "      <td>102.786571</td>\n",
       "      <td>-1.36620</td>\n",
       "      <td>60.4520</td>\n",
       "      <td>90.246171</td>\n",
       "      <td>114.924845</td>\n",
       "    </tr>\n",
       "    <tr>\n",
       "      <th>16</th>\n",
       "      <td>125.009666</td>\n",
       "      <td>-1.36620</td>\n",
       "      <td>74.9300</td>\n",
       "      <td>121.915863</td>\n",
       "      <td>127.499725</td>\n",
       "    </tr>\n",
       "    <tr>\n",
       "      <th>17</th>\n",
       "      <td>99.152317</td>\n",
       "      <td>-1.36620</td>\n",
       "      <td>83.8200</td>\n",
       "      <td>83.757644</td>\n",
       "      <td>113.945817</td>\n",
       "    </tr>\n",
       "    <tr>\n",
       "      <th>18</th>\n",
       "      <td>131.613273</td>\n",
       "      <td>-1.36620</td>\n",
       "      <td>64.1350</td>\n",
       "      <td>127.234279</td>\n",
       "      <td>135.509051</td>\n",
       "    </tr>\n",
       "    <tr>\n",
       "      <th>19</th>\n",
       "      <td>157.299124</td>\n",
       "      <td>-1.36620</td>\n",
       "      <td>71.1200</td>\n",
       "      <td>153.178122</td>\n",
       "      <td>162.142843</td>\n",
       "    </tr>\n",
       "    <tr>\n",
       "      <th>20</th>\n",
       "      <td>97.291316</td>\n",
       "      <td>-1.36620</td>\n",
       "      <td>74.2950</td>\n",
       "      <td>80.821458</td>\n",
       "      <td>113.582581</td>\n",
       "    </tr>\n",
       "    <tr>\n",
       "      <th>21</th>\n",
       "      <td>112.994077</td>\n",
       "      <td>-1.31800</td>\n",
       "      <td>83.1850</td>\n",
       "      <td>106.083256</td>\n",
       "      <td>119.573405</td>\n",
       "    </tr>\n",
       "    <tr>\n",
       "      <th>22</th>\n",
       "      <td>134.062812</td>\n",
       "      <td>-1.31800</td>\n",
       "      <td>81.9150</td>\n",
       "      <td>129.185146</td>\n",
       "      <td>138.490042</td>\n",
       "    </tr>\n",
       "    <tr>\n",
       "      <th>23</th>\n",
       "      <td>117.711362</td>\n",
       "      <td>-1.26980</td>\n",
       "      <td>89.2048</td>\n",
       "      <td>113.129145</td>\n",
       "      <td>122.349922</td>\n",
       "    </tr>\n",
       "    <tr>\n",
       "      <th>24</th>\n",
       "      <td>156.301252</td>\n",
       "      <td>-1.26980</td>\n",
       "      <td>85.0900</td>\n",
       "      <td>152.199284</td>\n",
       "      <td>159.847153</td>\n",
       "    </tr>\n",
       "    <tr>\n",
       "      <th>25</th>\n",
       "      <td>99.152317</td>\n",
       "      <td>-1.26980</td>\n",
       "      <td>91.4400</td>\n",
       "      <td>83.757644</td>\n",
       "      <td>113.945817</td>\n",
       "    </tr>\n",
       "    <tr>\n",
       "      <th>26</th>\n",
       "      <td>135.246833</td>\n",
       "      <td>-1.26980</td>\n",
       "      <td>81.5848</td>\n",
       "      <td>130.160274</td>\n",
       "      <td>139.891239</td>\n",
       "    </tr>\n",
       "    <tr>\n",
       "      <th>27</th>\n",
       "      <td>157.761227</td>\n",
       "      <td>-1.26980</td>\n",
       "      <td>88.9000</td>\n",
       "      <td>153.220479</td>\n",
       "      <td>163.229350</td>\n",
       "    </tr>\n",
       "    <tr>\n",
       "      <th>28</th>\n",
       "      <td>111.364705</td>\n",
       "      <td>-1.26980</td>\n",
       "      <td>93.3450</td>\n",
       "      <td>103.654712</td>\n",
       "      <td>118.711108</td>\n",
       "    </tr>\n",
       "    <tr>\n",
       "      <th>29</th>\n",
       "      <td>155.765297</td>\n",
       "      <td>-1.26980</td>\n",
       "      <td>90.1700</td>\n",
       "      <td>151.887570</td>\n",
       "      <td>159.180034</td>\n",
       "    </tr>\n",
       "    <tr>\n",
       "      <th>...</th>\n",
       "      <td>...</td>\n",
       "      <td>...</td>\n",
       "      <td>...</td>\n",
       "      <td>...</td>\n",
       "      <td>...</td>\n",
       "    </tr>\n",
       "    <tr>\n",
       "      <th>242</th>\n",
       "      <td>149.026169</td>\n",
       "      <td>1.38120</td>\n",
       "      <td>163.8300</td>\n",
       "      <td>143.985099</td>\n",
       "      <td>154.031915</td>\n",
       "    </tr>\n",
       "    <tr>\n",
       "      <th>243</th>\n",
       "      <td>150.576899</td>\n",
       "      <td>1.52580</td>\n",
       "      <td>153.0350</td>\n",
       "      <td>145.739808</td>\n",
       "      <td>155.281003</td>\n",
       "    </tr>\n",
       "    <tr>\n",
       "      <th>244</th>\n",
       "      <td>146.506820</td>\n",
       "      <td>1.57400</td>\n",
       "      <td>146.6850</td>\n",
       "      <td>141.434893</td>\n",
       "      <td>151.849828</td>\n",
       "    </tr>\n",
       "    <tr>\n",
       "      <th>245</th>\n",
       "      <td>150.576899</td>\n",
       "      <td>1.57400</td>\n",
       "      <td>148.5900</td>\n",
       "      <td>145.739808</td>\n",
       "      <td>155.281003</td>\n",
       "    </tr>\n",
       "    <tr>\n",
       "      <th>246</th>\n",
       "      <td>100.984037</td>\n",
       "      <td>1.57400</td>\n",
       "      <td>157.4800</td>\n",
       "      <td>86.761658</td>\n",
       "      <td>114.168211</td>\n",
       "    </tr>\n",
       "    <tr>\n",
       "      <th>247</th>\n",
       "      <td>155.204539</td>\n",
       "      <td>1.57400</td>\n",
       "      <td>140.3350</td>\n",
       "      <td>151.212898</td>\n",
       "      <td>158.561551</td>\n",
       "    </tr>\n",
       "    <tr>\n",
       "      <th>248</th>\n",
       "      <td>99.152317</td>\n",
       "      <td>1.57400</td>\n",
       "      <td>146.6850</td>\n",
       "      <td>83.757644</td>\n",
       "      <td>113.945817</td>\n",
       "    </tr>\n",
       "    <tr>\n",
       "      <th>249</th>\n",
       "      <td>161.053978</td>\n",
       "      <td>1.62220</td>\n",
       "      <td>151.7650</td>\n",
       "      <td>149.139315</td>\n",
       "      <td>172.565182</td>\n",
       "    </tr>\n",
       "    <tr>\n",
       "      <th>250</th>\n",
       "      <td>99.152317</td>\n",
       "      <td>1.62220</td>\n",
       "      <td>159.3850</td>\n",
       "      <td>83.757644</td>\n",
       "      <td>113.945817</td>\n",
       "    </tr>\n",
       "    <tr>\n",
       "      <th>251</th>\n",
       "      <td>116.167312</td>\n",
       "      <td>1.67040</td>\n",
       "      <td>147.3200</td>\n",
       "      <td>110.902623</td>\n",
       "      <td>121.476685</td>\n",
       "    </tr>\n",
       "    <tr>\n",
       "      <th>252</th>\n",
       "      <td>102.786571</td>\n",
       "      <td>1.67040</td>\n",
       "      <td>147.9550</td>\n",
       "      <td>90.246171</td>\n",
       "      <td>114.924845</td>\n",
       "    </tr>\n",
       "    <tr>\n",
       "      <th>253</th>\n",
       "      <td>138.637017</td>\n",
       "      <td>1.67040</td>\n",
       "      <td>144.1450</td>\n",
       "      <td>133.067205</td>\n",
       "      <td>143.780490</td>\n",
       "    </tr>\n",
       "    <tr>\n",
       "      <th>254</th>\n",
       "      <td>161.427569</td>\n",
       "      <td>1.71860</td>\n",
       "      <td>136.5250</td>\n",
       "      <td>148.086586</td>\n",
       "      <td>174.650432</td>\n",
       "    </tr>\n",
       "    <tr>\n",
       "      <th>255</th>\n",
       "      <td>143.753327</td>\n",
       "      <td>1.71860</td>\n",
       "      <td>160.6550</td>\n",
       "      <td>138.573277</td>\n",
       "      <td>149.297355</td>\n",
       "    </tr>\n",
       "    <tr>\n",
       "      <th>256</th>\n",
       "      <td>137.533842</td>\n",
       "      <td>1.76680</td>\n",
       "      <td>147.3200</td>\n",
       "      <td>132.123773</td>\n",
       "      <td>142.596743</td>\n",
       "    </tr>\n",
       "    <tr>\n",
       "      <th>257</th>\n",
       "      <td>147.372494</td>\n",
       "      <td>1.76680</td>\n",
       "      <td>151.1300</td>\n",
       "      <td>142.320159</td>\n",
       "      <td>152.664015</td>\n",
       "    </tr>\n",
       "    <tr>\n",
       "      <th>258</th>\n",
       "      <td>152.711605</td>\n",
       "      <td>1.81500</td>\n",
       "      <td>144.7800</td>\n",
       "      <td>148.521266</td>\n",
       "      <td>156.996755</td>\n",
       "    </tr>\n",
       "    <tr>\n",
       "      <th>259</th>\n",
       "      <td>161.579351</td>\n",
       "      <td>1.81500</td>\n",
       "      <td>152.4000</td>\n",
       "      <td>147.324712</td>\n",
       "      <td>175.631334</td>\n",
       "    </tr>\n",
       "    <tr>\n",
       "      <th>260</th>\n",
       "      <td>108.019986</td>\n",
       "      <td>1.81500</td>\n",
       "      <td>163.1950</td>\n",
       "      <td>98.735778</td>\n",
       "      <td>117.080830</td>\n",
       "    </tr>\n",
       "    <tr>\n",
       "      <th>261</th>\n",
       "      <td>140.763174</td>\n",
       "      <td>1.86320</td>\n",
       "      <td>150.4950</td>\n",
       "      <td>135.575340</td>\n",
       "      <td>146.500650</td>\n",
       "    </tr>\n",
       "    <tr>\n",
       "      <th>262</th>\n",
       "      <td>131.613273</td>\n",
       "      <td>1.86320</td>\n",
       "      <td>158.7500</td>\n",
       "      <td>127.234279</td>\n",
       "      <td>135.509051</td>\n",
       "    </tr>\n",
       "    <tr>\n",
       "      <th>263</th>\n",
       "      <td>106.304452</td>\n",
       "      <td>1.95960</td>\n",
       "      <td>148.5900</td>\n",
       "      <td>95.983242</td>\n",
       "      <td>116.186943</td>\n",
       "    </tr>\n",
       "    <tr>\n",
       "      <th>264</th>\n",
       "      <td>139.713430</td>\n",
       "      <td>2.05600</td>\n",
       "      <td>157.4800</td>\n",
       "      <td>134.189947</td>\n",
       "      <td>145.076890</td>\n",
       "    </tr>\n",
       "    <tr>\n",
       "      <th>265</th>\n",
       "      <td>123.605954</td>\n",
       "      <td>2.11866</td>\n",
       "      <td>142.8750</td>\n",
       "      <td>120.625676</td>\n",
       "      <td>126.680122</td>\n",
       "    </tr>\n",
       "    <tr>\n",
       "      <th>266</th>\n",
       "      <td>152.025431</td>\n",
       "      <td>2.14758</td>\n",
       "      <td>153.6700</td>\n",
       "      <td>147.589804</td>\n",
       "      <td>156.463204</td>\n",
       "    </tr>\n",
       "    <tr>\n",
       "      <th>267</th>\n",
       "      <td>132.851657</td>\n",
       "      <td>2.15240</td>\n",
       "      <td>155.5750</td>\n",
       "      <td>128.167260</td>\n",
       "      <td>136.984485</td>\n",
       "    </tr>\n",
       "    <tr>\n",
       "      <th>268</th>\n",
       "      <td>99.152317</td>\n",
       "      <td>2.39340</td>\n",
       "      <td>153.0350</td>\n",
       "      <td>83.757644</td>\n",
       "      <td>113.945817</td>\n",
       "    </tr>\n",
       "    <tr>\n",
       "      <th>269</th>\n",
       "      <td>150.576899</td>\n",
       "      <td>2.39340</td>\n",
       "      <td>136.5250</td>\n",
       "      <td>145.739808</td>\n",
       "      <td>155.281003</td>\n",
       "    </tr>\n",
       "    <tr>\n",
       "      <th>270</th>\n",
       "      <td>111.364705</td>\n",
       "      <td>2.40786</td>\n",
       "      <td>152.4000</td>\n",
       "      <td>103.654712</td>\n",
       "      <td>118.711108</td>\n",
       "    </tr>\n",
       "    <tr>\n",
       "      <th>271</th>\n",
       "      <td>111.364705</td>\n",
       "      <td>2.53800</td>\n",
       "      <td>149.2250</td>\n",
       "      <td>103.654712</td>\n",
       "      <td>118.711108</td>\n",
       "    </tr>\n",
       "  </tbody>\n",
       "</table>\n",
       "<p>272 rows × 5 columns</p>\n",
       "</div>"
      ],
      "text/plain": [
       "             mu      age    height  mu_hpd_lower  mu_hpd_upper\n",
       "0    149.814355 -1.41440   56.5150    144.930232    154.744911\n",
       "1    158.198901 -1.41440   60.9600    153.037336    164.300450\n",
       "2    109.706705 -1.41440   53.9750    101.190723    117.851281\n",
       "3    153.372510 -1.41440   62.8650    149.311745    157.382367\n",
       "4    148.212246 -1.41440   68.5800    143.162927    153.383787\n",
       "5    161.473621 -1.41440   66.6750    130.828390    189.595505\n",
       "6    160.831982 -1.41440   71.1200    149.805111    171.917614\n",
       "7    117.711362 -1.38548   91.4400    113.129145    122.349922\n",
       "8    152.025431 -1.36620   80.0100    147.589804    156.463204\n",
       "9    150.576899 -1.36620   67.3100    145.739808    155.281003\n",
       "10   157.299124 -1.36620   76.2000    153.178122    162.142843\n",
       "11   104.560012 -1.36620   62.4840     93.424456    115.733408\n",
       "12   122.174361 -1.36620   59.6138    119.158369    125.834083\n",
       "13   119.227158 -1.36620   69.8500    115.290873    123.310064\n",
       "14   149.814355 -1.36620   67.9450    144.930232    154.744911\n",
       "15   102.786571 -1.36620   60.4520     90.246171    114.924845\n",
       "16   125.009666 -1.36620   74.9300    121.915863    127.499725\n",
       "17    99.152317 -1.36620   83.8200     83.757644    113.945817\n",
       "18   131.613273 -1.36620   64.1350    127.234279    135.509051\n",
       "19   157.299124 -1.36620   71.1200    153.178122    162.142843\n",
       "20    97.291316 -1.36620   74.2950     80.821458    113.582581\n",
       "21   112.994077 -1.31800   83.1850    106.083256    119.573405\n",
       "22   134.062812 -1.31800   81.9150    129.185146    138.490042\n",
       "23   117.711362 -1.26980   89.2048    113.129145    122.349922\n",
       "24   156.301252 -1.26980   85.0900    152.199284    159.847153\n",
       "25    99.152317 -1.26980   91.4400     83.757644    113.945817\n",
       "26   135.246833 -1.26980   81.5848    130.160274    139.891239\n",
       "27   157.761227 -1.26980   88.9000    153.220479    163.229350\n",
       "28   111.364705 -1.26980   93.3450    103.654712    118.711108\n",
       "29   155.765297 -1.26980   90.1700    151.887570    159.180034\n",
       "..          ...      ...       ...           ...           ...\n",
       "242  149.026169  1.38120  163.8300    143.985099    154.031915\n",
       "243  150.576899  1.52580  153.0350    145.739808    155.281003\n",
       "244  146.506820  1.57400  146.6850    141.434893    151.849828\n",
       "245  150.576899  1.57400  148.5900    145.739808    155.281003\n",
       "246  100.984037  1.57400  157.4800     86.761658    114.168211\n",
       "247  155.204539  1.57400  140.3350    151.212898    158.561551\n",
       "248   99.152317  1.57400  146.6850     83.757644    113.945817\n",
       "249  161.053978  1.62220  151.7650    149.139315    172.565182\n",
       "250   99.152317  1.62220  159.3850     83.757644    113.945817\n",
       "251  116.167312  1.67040  147.3200    110.902623    121.476685\n",
       "252  102.786571  1.67040  147.9550     90.246171    114.924845\n",
       "253  138.637017  1.67040  144.1450    133.067205    143.780490\n",
       "254  161.427569  1.71860  136.5250    148.086586    174.650432\n",
       "255  143.753327  1.71860  160.6550    138.573277    149.297355\n",
       "256  137.533842  1.76680  147.3200    132.123773    142.596743\n",
       "257  147.372494  1.76680  151.1300    142.320159    152.664015\n",
       "258  152.711605  1.81500  144.7800    148.521266    156.996755\n",
       "259  161.579351  1.81500  152.4000    147.324712    175.631334\n",
       "260  108.019986  1.81500  163.1950     98.735778    117.080830\n",
       "261  140.763174  1.86320  150.4950    135.575340    146.500650\n",
       "262  131.613273  1.86320  158.7500    127.234279    135.509051\n",
       "263  106.304452  1.95960  148.5900     95.983242    116.186943\n",
       "264  139.713430  2.05600  157.4800    134.189947    145.076890\n",
       "265  123.605954  2.11866  142.8750    120.625676    126.680122\n",
       "266  152.025431  2.14758  153.6700    147.589804    156.463204\n",
       "267  132.851657  2.15240  155.5750    128.167260    136.984485\n",
       "268   99.152317  2.39340  153.0350     83.757644    113.945817\n",
       "269  150.576899  2.39340  136.5250    145.739808    155.281003\n",
       "270  111.364705  2.40786  152.4000    103.654712    118.711108\n",
       "271  111.364705  2.53800  149.2250    103.654712    118.711108\n",
       "\n",
       "[272 rows x 5 columns]"
      ]
     },
     "execution_count": 642,
     "metadata": {},
     "output_type": "execute_result"
    }
   ],
   "source": [
    "xy"
   ]
  },
  {
   "cell_type": "markdown",
   "metadata": {},
   "source": [
    "okay, still weird. let's try the 'official' pymc3 functions:"
   ]
  },
  {
   "cell_type": "code",
   "execution_count": 651,
   "metadata": {},
   "outputs": [],
   "source": [
    "model, trace = models_and_traces[0]"
   ]
  },
  {
   "cell_type": "code",
   "execution_count": 654,
   "metadata": {},
   "outputs": [
    {
     "data": {
      "text/latex": [
       "$\\text{mu} \\sim \\text{Deterministic}(\\text{a},~\\text{Constant},~\\text{beta_1},~\\text{Constant},~\\text{Constant})$"
      ],
      "text/plain": [
       "mu"
      ]
     },
     "execution_count": 654,
     "metadata": {},
     "output_type": "execute_result"
    }
   ],
   "source": [
    "model.mu"
   ]
  },
  {
   "cell_type": "code",
   "execution_count": 666,
   "metadata": {},
   "outputs": [
    {
     "name": "stderr",
     "output_type": "stream",
     "text": [
      "\n",
      "  0%|          | 0/4000 [00:00<?, ?it/s]\u001b[A\n",
      " 18%|█▊        | 730/4000 [00:00<00:00, 6966.71it/s]\u001b[A\n",
      " 32%|███▏      | 1268/4000 [00:00<00:00, 6267.18it/s]\u001b[A\n",
      " 52%|█████▏    | 2084/4000 [00:00<00:00, 6880.88it/s]\u001b[A\n",
      " 70%|███████   | 2803/4000 [00:00<00:00, 6960.78it/s]\u001b[A\n",
      " 90%|█████████ | 3605/4000 [00:00<00:00, 7167.90it/s]\u001b[A\n",
      "100%|██████████| 4000/4000 [00:00<00:00, 7207.80it/s]\u001b[A"
     ]
    }
   ],
   "source": [
    "post_sample = pm.sample_ppc(trace, samples=4000, model=model, vars=[model.mu])"
   ]
  },
  {
   "cell_type": "code",
   "execution_count": 667,
   "metadata": {},
   "outputs": [
    {
     "data": {
      "text/plain": [
       "(4000, 272)"
      ]
     },
     "execution_count": 667,
     "metadata": {},
     "output_type": "execute_result"
    }
   ],
   "source": [
    "post_sample['mu'].shape"
   ]
  },
  {
   "cell_type": "code",
   "execution_count": 670,
   "metadata": {},
   "outputs": [],
   "source": [
    "post_sample_df = pd.DataFrame(data=post_sample['mu'], columns=['mu__{}'.format(i) for i in range(272)])"
   ]
  },
  {
   "cell_type": "code",
   "execution_count": 671,
   "metadata": {},
   "outputs": [
    {
     "data": {
      "image/png": "[encoded data removed]",
      "text/plain": [
       "<Figure size 432x288 with 1 Axes>"
      ]
     },
     "metadata": {},
     "output_type": "display_data"
    }
   ],
   "source": [
    "plot_trace_dataframe(post_sample_df, plt.axes(), 'm1 post sample df')"
   ]
  },
  {
   "cell_type": "markdown",
   "metadata": {},
   "source": [
    "looks promising"
   ]
  },
  {
   "cell_type": "code",
   "execution_count": 709,
   "metadata": {},
   "outputs": [
    {
     "name": "stderr",
     "output_type": "stream",
     "text": [
      "\n",
      "  0%|          | 0/2000 [00:00<?, ?it/s]\u001b[A\n",
      " 32%|███▏      | 634/2000 [00:00<00:00, 6290.36it/s]\u001b[A\n",
      " 63%|██████▎   | 1258/2000 [00:00<00:00, 6267.18it/s]\u001b[A\n",
      "100%|██████████| 2000/2000 [00:00<00:00, 6801.17it/s]\u001b[A\n",
      "  0%|          | 0/1880 [00:00<?, ?it/s]\u001b[A\n",
      " 28%|██▊       | 525/1880 [00:00<00:00, 5216.31it/s]\u001b[A\n",
      " 56%|█████▌    | 1057/1880 [00:00<00:00, 5259.81it/s]\u001b[A\n",
      " 88%|████████▊ | 1646/1880 [00:00<00:00, 5470.59it/s]\u001b[A\n",
      "100%|██████████| 1880/1880 [00:00<00:00, 5412.37it/s]\u001b[A\n",
      "  0%|          | 0/120 [00:00<?, ?it/s]\u001b[A\n",
      "100%|██████████| 120/120 [00:00<00:00, 3536.46it/s]\u001b[A"
     ]
    }
   ],
   "source": [
    "post_sample_dfs = [\n",
    "    pd.DataFrame(\n",
    "        data=pm.sample_ppc(trace, samples=int(weight*4000), model=model, vars=[model.mu])['mu'], \n",
    "        columns=['mu__{}'.format(i) for i in range(len(d1))]\n",
    "    ).assign(model='m{}'.format(m_i))\n",
    "    for (weight, (model, trace), m_i) in zip(weights, models_and_traces, range(1, len(models_and_traces))) if weight > 0\n",
    "]"
   ]
  },
  {
   "cell_type": "code",
   "execution_count": 710,
   "metadata": {},
   "outputs": [
    {
     "data": {
      "text/plain": [
       "[(2000, 273), (1880, 273), (120, 273)]"
      ]
     },
     "execution_count": 710,
     "metadata": {},
     "output_type": "execute_result"
    }
   ],
   "source": [
    "[_.shape for _ in post_sample_dfs]"
   ]
  },
  {
   "cell_type": "code",
   "execution_count": 711,
   "metadata": {},
   "outputs": [],
   "source": [
    "post_sample_combined = pd.concat(post_sample_dfs, ignore_index=True)"
   ]
  },
  {
   "cell_type": "code",
   "execution_count": 712,
   "metadata": {},
   "outputs": [
    {
     "data": {
      "text/plain": [
       "m1    0.50\n",
       "m2    0.47\n",
       "m3    0.03\n",
       "Name: model, dtype: float64"
      ]
     },
     "execution_count": 712,
     "metadata": {},
     "output_type": "execute_result"
    }
   ],
   "source": [
    "post_sample_combined.model.value_counts() / len(post_sample_combined)"
   ]
  },
  {
   "cell_type": "code",
   "execution_count": 713,
   "metadata": {},
   "outputs": [
    {
     "data": {
      "image/png": "[encoded data removed]",
      "text/plain": [
       "<Figure size 432x288 with 1 Axes>"
      ]
     },
     "metadata": {},
     "output_type": "display_data"
    }
   ],
   "source": [
    "plot_trace_dataframe(post_sample_combined, plt.axes(), 'post sample combined')"
   ]
  },
  {
   "cell_type": "markdown",
   "metadata": {},
   "source": [
    "that looks more plausible :)"
   ]
  },
  {
   "cell_type": "code",
   "execution_count": null,
   "metadata": {},
   "outputs": [],
   "source": []
  }
 ],
 "metadata": {
  "kernelspec": {
   "display_name": "Python 3",
   "language": "python",
   "name": "python3"
  },
  "language_info": {
   "codemirror_mode": {
    "name": "ipython",
    "version": 3
   },
   "file_extension": ".py",
   "mimetype": "text/x-python",
   "name": "python",
   "nbconvert_exporter": "python",
   "pygments_lexer": "ipython3",
   "version": "3.7.1"
  }
 },
 "nbformat": 4,
 "nbformat_minor": 2
}
