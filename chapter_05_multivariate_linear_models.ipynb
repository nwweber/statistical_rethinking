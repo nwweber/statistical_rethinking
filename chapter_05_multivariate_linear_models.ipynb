{
 "cells": [
  {
   "cell_type": "code",
   "execution_count": 1,
   "metadata": {},
   "outputs": [],
   "source": [
    "# to suppress futurewarnings caused by pandas and other libraries not updating their numpy interface codes\n",
    "# apparently has to come before these import, so leave this on top\n",
    "import warnings\n",
    "warnings.simplefilter(action='ignore', category=FutureWarning)\n",
    "\n",
    "import numpy as np\n",
    "import matplotlib.pyplot as plt\n",
    "import pymc3 as pm\n",
    "import scipy.stats as stats\n",
    "import pandas as pd\n",
    "\n",
    "%matplotlib inline"
   ]
  },
  {
   "cell_type": "markdown",
   "metadata": {},
   "source": [
    "# Chapter 5\n",
    "* **multivariate regression**: using more than one predictor variable to model an outcome. useful b/c\n",
    "  * control for confounds. **confound**: variable that might be correlated w/ variable of interest, e.g. nr of waffle houses and divorce rate. can hide important variables or can create false importance. **simpson's paradox**: reverse direction between predictor and outcome due to confound.\n",
    "  * multiple causation. something might be caused by more than one thing\n",
    "  * interactions. car needs fuel and spark to start, only one does not have any effect.\n",
    "* this chapter: confounds and multiple causation\n",
    "* also danger: multicollinerarity\n",
    "* **rethinking: causal inference:** extremely important, but no unified approach to determine causal effect, neither in sciences nor in statistic. furthermore, 'cause' loses clear meaning in complex systems in which everything seems to cause everything (and be caused by it). consensus: inference of causality always rests upon unverifiable assumptions. so no matter the analysis, there will always be possible criticism about whether there really is causality. however: even despite that useful work can be done\n",
    "\n",
    "## 5.1. Spurious association\n",
    "* impact of median marriage age of marriage on divorce rate"
   ]
  },
  {
   "cell_type": "code",
   "execution_count": 2,
   "metadata": {},
   "outputs": [],
   "source": [
    "# Code 5.1\n",
    "d = pd.read_csv('./data/WaffleDivorce.csv', sep=';')"
   ]
  },
  {
   "cell_type": "code",
   "execution_count": 3,
   "metadata": {},
   "outputs": [
    {
     "data": {
      "text/html": [
       "<div>\n",
       "<style scoped>\n",
       "    .dataframe tbody tr th:only-of-type {\n",
       "        vertical-align: middle;\n",
       "    }\n",
       "\n",
       "    .dataframe tbody tr th {\n",
       "        vertical-align: top;\n",
       "    }\n",
       "\n",
       "    .dataframe thead th {\n",
       "        text-align: right;\n",
       "    }\n",
       "</style>\n",
       "<table border=\"1\" class=\"dataframe\">\n",
       "  <thead>\n",
       "    <tr style=\"text-align: right;\">\n",
       "      <th></th>\n",
       "      <th>Location</th>\n",
       "      <th>Loc</th>\n",
       "      <th>Population</th>\n",
       "      <th>MedianAgeMarriage</th>\n",
       "      <th>Marriage</th>\n",
       "      <th>Marriage SE</th>\n",
       "      <th>Divorce</th>\n",
       "      <th>Divorce SE</th>\n",
       "      <th>WaffleHouses</th>\n",
       "      <th>South</th>\n",
       "      <th>Slaves1860</th>\n",
       "      <th>Population1860</th>\n",
       "      <th>PropSlaves1860</th>\n",
       "    </tr>\n",
       "  </thead>\n",
       "  <tbody>\n",
       "    <tr>\n",
       "      <th>0</th>\n",
       "      <td>Alabama</td>\n",
       "      <td>AL</td>\n",
       "      <td>4.78</td>\n",
       "      <td>25.3</td>\n",
       "      <td>20.2</td>\n",
       "      <td>1.27</td>\n",
       "      <td>12.7</td>\n",
       "      <td>0.79</td>\n",
       "      <td>128</td>\n",
       "      <td>1</td>\n",
       "      <td>435080</td>\n",
       "      <td>964201</td>\n",
       "      <td>0.45</td>\n",
       "    </tr>\n",
       "    <tr>\n",
       "      <th>1</th>\n",
       "      <td>Alaska</td>\n",
       "      <td>AK</td>\n",
       "      <td>0.71</td>\n",
       "      <td>25.2</td>\n",
       "      <td>26.0</td>\n",
       "      <td>2.93</td>\n",
       "      <td>12.5</td>\n",
       "      <td>2.05</td>\n",
       "      <td>0</td>\n",
       "      <td>0</td>\n",
       "      <td>0</td>\n",
       "      <td>0</td>\n",
       "      <td>0.00</td>\n",
       "    </tr>\n",
       "    <tr>\n",
       "      <th>2</th>\n",
       "      <td>Arizona</td>\n",
       "      <td>AZ</td>\n",
       "      <td>6.33</td>\n",
       "      <td>25.8</td>\n",
       "      <td>20.3</td>\n",
       "      <td>0.98</td>\n",
       "      <td>10.8</td>\n",
       "      <td>0.74</td>\n",
       "      <td>18</td>\n",
       "      <td>0</td>\n",
       "      <td>0</td>\n",
       "      <td>0</td>\n",
       "      <td>0.00</td>\n",
       "    </tr>\n",
       "    <tr>\n",
       "      <th>3</th>\n",
       "      <td>Arkansas</td>\n",
       "      <td>AR</td>\n",
       "      <td>2.92</td>\n",
       "      <td>24.3</td>\n",
       "      <td>26.4</td>\n",
       "      <td>1.70</td>\n",
       "      <td>13.5</td>\n",
       "      <td>1.22</td>\n",
       "      <td>41</td>\n",
       "      <td>1</td>\n",
       "      <td>111115</td>\n",
       "      <td>435450</td>\n",
       "      <td>0.26</td>\n",
       "    </tr>\n",
       "    <tr>\n",
       "      <th>4</th>\n",
       "      <td>California</td>\n",
       "      <td>CA</td>\n",
       "      <td>37.25</td>\n",
       "      <td>26.8</td>\n",
       "      <td>19.1</td>\n",
       "      <td>0.39</td>\n",
       "      <td>8.0</td>\n",
       "      <td>0.24</td>\n",
       "      <td>0</td>\n",
       "      <td>0</td>\n",
       "      <td>0</td>\n",
       "      <td>379994</td>\n",
       "      <td>0.00</td>\n",
       "    </tr>\n",
       "  </tbody>\n",
       "</table>\n",
       "</div>"
      ],
      "text/plain": [
       "     Location Loc  Population  MedianAgeMarriage  Marriage  Marriage SE  \\\n",
       "0     Alabama  AL        4.78               25.3      20.2         1.27   \n",
       "1      Alaska  AK        0.71               25.2      26.0         2.93   \n",
       "2     Arizona  AZ        6.33               25.8      20.3         0.98   \n",
       "3    Arkansas  AR        2.92               24.3      26.4         1.70   \n",
       "4  California  CA       37.25               26.8      19.1         0.39   \n",
       "\n",
       "   Divorce  Divorce SE  WaffleHouses  South  Slaves1860  Population1860  \\\n",
       "0     12.7        0.79           128      1      435080          964201   \n",
       "1     12.5        2.05             0      0           0               0   \n",
       "2     10.8        0.74            18      0           0               0   \n",
       "3     13.5        1.22            41      1      111115          435450   \n",
       "4      8.0        0.24             0      0           0          379994   \n",
       "\n",
       "   PropSlaves1860  \n",
       "0            0.45  \n",
       "1            0.00  \n",
       "2            0.00  \n",
       "3            0.26  \n",
       "4            0.00  "
      ]
     },
     "execution_count": 3,
     "metadata": {},
     "output_type": "execute_result"
    }
   ],
   "source": [
    "d.head()"
   ]
  },
  {
   "cell_type": "code",
   "execution_count": 4,
   "metadata": {},
   "outputs": [
    {
     "name": "stderr",
     "output_type": "stream",
     "text": [
      "Auto-assigning NUTS sampler...\n",
      "Initializing NUTS using jitter+adapt_diag...\n",
      "Multiprocess sampling (2 chains in 2 jobs)\n",
      "NUTS: [a, bA, sigma]\n",
      "Sampling 2 chains: 100%|██████████| 4000/4000 [00:02<00:00, 1405.05draws/s]\n"
     ]
    }
   ],
   "source": [
    "d['MedianAgeMarriage_s'] = (d.MedianAgeMarriage - d.MedianAgeMarriage.mean()) / d.MedianAgeMarriage.std()\n",
    "\n",
    "with pm.Model() as m5_1:\n",
    "    sigma = pm.Uniform('sigma', lower=0, upper=10)\n",
    "    \n",
    "    bA = pm.Normal('bA', mu=0, sd=1)\n",
    "    \n",
    "    a = pm.Normal('a', mu=10, sd=10)\n",
    "    \n",
    "    mu = pm.Deterministic('mu', a + bA * d.MedianAgeMarriage_s)\n",
    "    \n",
    "    Divorce = pm.Normal('Divorce', mu=mu, sd=sigma, observed=d.Divorce)\n",
    "    \n",
    "    trace_m5_1 = pm.sample(draws=1000, tune=1000)"
   ]
  },
  {
   "cell_type": "code",
   "execution_count": 5,
   "metadata": {},
   "outputs": [
    {
     "data": {
      "image/png": "[encoded data removed]",
      "text/plain": [
       "<Figure size 432x288 with 1 Axes>"
      ]
     },
     "metadata": {
      "needs_background": "light"
     },
     "output_type": "display_data"
    }
   ],
   "source": [
    "# Code 5.2\n",
    "MAM_seq = np.linspace(-3, 3.5, 30)\n",
    "mu = np.reshape(trace_m5_1['a'], (-1, 1)) + np.reshape(trace_m5_1['bA'], (-1, 1)) * np.reshape(MAM_seq, (1, -1))\n",
    "mu_PI = pm.hpd(mu, alpha=.11)\n",
    "mu_mean = mu.mean(axis=0)\n",
    "\n",
    "plt.scatter(x=d.MedianAgeMarriage_s, y=d.Divorce, alpha=.3);\n",
    "plt.plot(MAM_seq, mu_mean);\n",
    "plt.fill_between(x=MAM_seq, y1=mu_PI[:, 0], y2=mu_PI[:, 1], alpha=.3);"
   ]
  },
  {
   "cell_type": "code",
   "execution_count": 6,
   "metadata": {},
   "outputs": [],
   "source": [
    "varnames = ['bA', 'a', 'sigma']"
   ]
  },
  {
   "cell_type": "code",
   "execution_count": 7,
   "metadata": {},
   "outputs": [
    {
     "data": {
      "text/html": [
       "<div>\n",
       "<style scoped>\n",
       "    .dataframe tbody tr th:only-of-type {\n",
       "        vertical-align: middle;\n",
       "    }\n",
       "\n",
       "    .dataframe tbody tr th {\n",
       "        vertical-align: top;\n",
       "    }\n",
       "\n",
       "    .dataframe thead th {\n",
       "        text-align: right;\n",
       "    }\n",
       "</style>\n",
       "<table border=\"1\" class=\"dataframe\">\n",
       "  <thead>\n",
       "    <tr style=\"text-align: right;\">\n",
       "      <th></th>\n",
       "      <th>mean</th>\n",
       "      <th>sd</th>\n",
       "      <th>mc_error</th>\n",
       "      <th>hpd_2.5</th>\n",
       "      <th>hpd_97.5</th>\n",
       "      <th>n_eff</th>\n",
       "      <th>Rhat</th>\n",
       "    </tr>\n",
       "  </thead>\n",
       "  <tbody>\n",
       "    <tr>\n",
       "      <th>bA</th>\n",
       "      <td>-1.029436</td>\n",
       "      <td>0.213828</td>\n",
       "      <td>0.004042</td>\n",
       "      <td>-1.468707</td>\n",
       "      <td>-0.630241</td>\n",
       "      <td>2687.423583</td>\n",
       "      <td>0.999807</td>\n",
       "    </tr>\n",
       "    <tr>\n",
       "      <th>a</th>\n",
       "      <td>9.686401</td>\n",
       "      <td>0.215514</td>\n",
       "      <td>0.003825</td>\n",
       "      <td>9.268315</td>\n",
       "      <td>10.119884</td>\n",
       "      <td>2656.010761</td>\n",
       "      <td>0.999604</td>\n",
       "    </tr>\n",
       "    <tr>\n",
       "      <th>sigma</th>\n",
       "      <td>1.513306</td>\n",
       "      <td>0.155477</td>\n",
       "      <td>0.003336</td>\n",
       "      <td>1.224535</td>\n",
       "      <td>1.825163</td>\n",
       "      <td>2241.618772</td>\n",
       "      <td>0.999732</td>\n",
       "    </tr>\n",
       "  </tbody>\n",
       "</table>\n",
       "</div>"
      ],
      "text/plain": [
       "           mean        sd  mc_error   hpd_2.5   hpd_97.5        n_eff  \\\n",
       "bA    -1.029436  0.213828  0.004042 -1.468707  -0.630241  2687.423583   \n",
       "a      9.686401  0.215514  0.003825  9.268315  10.119884  2656.010761   \n",
       "sigma  1.513306  0.155477  0.003336  1.224535   1.825163  2241.618772   \n",
       "\n",
       "           Rhat  \n",
       "bA     0.999807  \n",
       "a      0.999604  \n",
       "sigma  0.999732  "
      ]
     },
     "execution_count": 7,
     "metadata": {},
     "output_type": "execute_result"
    }
   ],
   "source": [
    "pm.summary(trace_m5_1, varnames=varnames)"
   ]
  },
  {
   "cell_type": "code",
   "execution_count": 8,
   "metadata": {},
   "outputs": [
    {
     "name": "stderr",
     "output_type": "stream",
     "text": [
      "Auto-assigning NUTS sampler...\n",
      "Initializing NUTS using jitter+adapt_diag...\n",
      "Multiprocess sampling (2 chains in 2 jobs)\n",
      "NUTS: [a, bR, sigma]\n",
      "Sampling 2 chains: 100%|██████████| 4000/4000 [00:03<00:00, 1323.56draws/s]\n"
     ]
    }
   ],
   "source": [
    "# Code 5.3\n",
    "d['Marriage_s'] = (d.Marriage - d.Marriage.mean()) / d.Marriage.std()\n",
    "\n",
    "with pm.Model() as m5_2:\n",
    "    sigma = pm.Uniform('sigma', lower=0, upper=10)\n",
    "    \n",
    "    bR = pm.Normal('bR', mu=0, sd=1)\n",
    "    \n",
    "    a = pm.Normal('a', mu=10, sd=10)\n",
    "    \n",
    "    mu = pm.Deterministic('mu', a + bR * d.Marriage_s)\n",
    "    \n",
    "    Divorce = pm.Normal('Divorce', mu=mu, sd=sigma, observed=d.Divorce)\n",
    "    \n",
    "    trace_m5_2 = pm.sample(draws=1000, tune=1000)"
   ]
  },
  {
   "cell_type": "code",
   "execution_count": 9,
   "metadata": {},
   "outputs": [
    {
     "data": {
      "text/html": [
       "<div>\n",
       "<style scoped>\n",
       "    .dataframe tbody tr th:only-of-type {\n",
       "        vertical-align: middle;\n",
       "    }\n",
       "\n",
       "    .dataframe tbody tr th {\n",
       "        vertical-align: top;\n",
       "    }\n",
       "\n",
       "    .dataframe thead th {\n",
       "        text-align: right;\n",
       "    }\n",
       "</style>\n",
       "<table border=\"1\" class=\"dataframe\">\n",
       "  <thead>\n",
       "    <tr style=\"text-align: right;\">\n",
       "      <th></th>\n",
       "      <th>mean</th>\n",
       "      <th>sd</th>\n",
       "      <th>mc_error</th>\n",
       "      <th>hpd_2.5</th>\n",
       "      <th>hpd_97.5</th>\n",
       "      <th>n_eff</th>\n",
       "      <th>Rhat</th>\n",
       "    </tr>\n",
       "  </thead>\n",
       "  <tbody>\n",
       "    <tr>\n",
       "      <th>sigma</th>\n",
       "      <td>1.755506</td>\n",
       "      <td>0.187939</td>\n",
       "      <td>0.003471</td>\n",
       "      <td>1.422814</td>\n",
       "      <td>2.138020</td>\n",
       "      <td>2454.882345</td>\n",
       "      <td>0.999959</td>\n",
       "    </tr>\n",
       "    <tr>\n",
       "      <th>bR</th>\n",
       "      <td>0.637552</td>\n",
       "      <td>0.239458</td>\n",
       "      <td>0.004803</td>\n",
       "      <td>0.183303</td>\n",
       "      <td>1.093340</td>\n",
       "      <td>2773.934764</td>\n",
       "      <td>0.999501</td>\n",
       "    </tr>\n",
       "    <tr>\n",
       "      <th>a</th>\n",
       "      <td>9.690155</td>\n",
       "      <td>0.248076</td>\n",
       "      <td>0.004658</td>\n",
       "      <td>9.199284</td>\n",
       "      <td>10.170714</td>\n",
       "      <td>2514.493462</td>\n",
       "      <td>0.999929</td>\n",
       "    </tr>\n",
       "  </tbody>\n",
       "</table>\n",
       "</div>"
      ],
      "text/plain": [
       "           mean        sd  mc_error   hpd_2.5   hpd_97.5        n_eff  \\\n",
       "sigma  1.755506  0.187939  0.003471  1.422814   2.138020  2454.882345   \n",
       "bR     0.637552  0.239458  0.004803  0.183303   1.093340  2773.934764   \n",
       "a      9.690155  0.248076  0.004658  9.199284  10.170714  2514.493462   \n",
       "\n",
       "           Rhat  \n",
       "sigma  0.999959  \n",
       "bR     0.999501  \n",
       "a      0.999929  "
      ]
     },
     "execution_count": 9,
     "metadata": {},
     "output_type": "execute_result"
    }
   ],
   "source": [
    "pm.summary(trace_m5_2, varnames=['sigma', 'bR', 'a'])"
   ]
  },
  {
   "cell_type": "markdown",
   "metadata": {},
   "source": [
    "* median age of marriage has stronger association with divorce rate than the one that marriage rate has\n",
    "* however, does not answer which one is better predictor. they could have independent information, or be redundant or could eliminate each other\n",
    "* want to build multivariate model to determine partial value added by each predictor. in particular, question is **what is predictive value of variable once i know value of all variables?**\n",
    "* **rethinking: \"control\" is outside of control** this question often talked about as 'statistical control'. estimating effect of one variable while controlling for effect of another. however: sloppy language. implies causality ('effect') and dissasociation of predictors ('control'), neither of which is a fact in the model, even though it might be made by analyst. power of statistical methods does not extend to this, must be careful not to make this wrong impression, otherwise interpretation of results will also be based on wrong understanding\n",
    "\n",
    "### 5.1.1. multivariate notation\n",
    "* straightforward extension of univariate models, just add multiple parameters into formula for mean and add priors for their parameters for all of them\n",
    "* what does $\\mu_i = \\alpha + \\beta_R R_i + \\beta_A A_i$ mean? expected outcome for any state is sum of three independent terms. can be read as \"divorce rate can function of marriage rate ($R_i$) OR median marriage age ($A_i$)\". \"OR\" implies that both factors are independent\n",
    "* **overthinking: design matrix** **design matrix** = matrix of features with additional column of '1's in the beginning. used in equation $m = Xb$, where $m$ = predicted means (one for each row of data), $X$ = design matrix w/ one row per row of data, one col per predictor and extra '1' col and $b$ = col vector of parameters\n",
    "\n",
    "### 5.1.2. fitting the model\n",
    "* exactly as expected"
   ]
  },
  {
   "cell_type": "code",
   "execution_count": 10,
   "metadata": {},
   "outputs": [
    {
     "name": "stderr",
     "output_type": "stream",
     "text": [
      "Auto-assigning NUTS sampler...\n",
      "Initializing NUTS using jitter+adapt_diag...\n",
      "Multiprocess sampling (2 chains in 2 jobs)\n",
      "NUTS: [sigma, a, bA, bR]\n",
      "Sampling 2 chains: 100%|██████████| 4000/4000 [00:04<00:00, 856.12draws/s] \n"
     ]
    }
   ],
   "source": [
    "# Code 5.4\n",
    "with pm.Model() as m5_3:\n",
    "    bR = pm.Normal('bR', mu=0, sd=1)\n",
    "    bA = pm.Normal('bA', mu=0, sd=1)\n",
    "    a = pm.Normal('a', mu=10, sd=10)\n",
    "    mu = pm.Deterministic('mu', a + bR * d.Marriage_s + bA * d.MedianAgeMarriage_s)\n",
    "    \n",
    "    sigma = pm.Uniform('sigma', lower=0, upper=10)\n",
    "    \n",
    "    Divorce = pm.Normal('Divorce', mu=mu, sd=sigma, observed=d.Divorce)\n",
    "    \n",
    "    trace_m5_3 = pm.sample(draws=1000, tune=1000)"
   ]
  },
  {
   "cell_type": "code",
   "execution_count": 11,
   "metadata": {},
   "outputs": [
    {
     "data": {
      "text/html": [
       "<div>\n",
       "<style scoped>\n",
       "    .dataframe tbody tr th:only-of-type {\n",
       "        vertical-align: middle;\n",
       "    }\n",
       "\n",
       "    .dataframe tbody tr th {\n",
       "        vertical-align: top;\n",
       "    }\n",
       "\n",
       "    .dataframe thead th {\n",
       "        text-align: right;\n",
       "    }\n",
       "</style>\n",
       "<table border=\"1\" class=\"dataframe\">\n",
       "  <thead>\n",
       "    <tr style=\"text-align: right;\">\n",
       "      <th></th>\n",
       "      <th>mean</th>\n",
       "      <th>sd</th>\n",
       "      <th>mc_error</th>\n",
       "      <th>hpd_2.5</th>\n",
       "      <th>hpd_97.5</th>\n",
       "      <th>n_eff</th>\n",
       "      <th>Rhat</th>\n",
       "    </tr>\n",
       "  </thead>\n",
       "  <tbody>\n",
       "    <tr>\n",
       "      <th>bR</th>\n",
       "      <td>-0.118866</td>\n",
       "      <td>0.297262</td>\n",
       "      <td>0.006912</td>\n",
       "      <td>-0.679469</td>\n",
       "      <td>0.457521</td>\n",
       "      <td>1727.268932</td>\n",
       "      <td>0.999696</td>\n",
       "    </tr>\n",
       "    <tr>\n",
       "      <th>bA</th>\n",
       "      <td>-1.115776</td>\n",
       "      <td>0.299584</td>\n",
       "      <td>0.006957</td>\n",
       "      <td>-1.675138</td>\n",
       "      <td>-0.493859</td>\n",
       "      <td>1709.368177</td>\n",
       "      <td>0.999667</td>\n",
       "    </tr>\n",
       "    <tr>\n",
       "      <th>a</th>\n",
       "      <td>9.680036</td>\n",
       "      <td>0.217442</td>\n",
       "      <td>0.005267</td>\n",
       "      <td>9.235412</td>\n",
       "      <td>10.085700</td>\n",
       "      <td>1599.992522</td>\n",
       "      <td>0.999500</td>\n",
       "    </tr>\n",
       "    <tr>\n",
       "      <th>sigma</th>\n",
       "      <td>1.526745</td>\n",
       "      <td>0.162741</td>\n",
       "      <td>0.004126</td>\n",
       "      <td>1.252080</td>\n",
       "      <td>1.861674</td>\n",
       "      <td>1416.189025</td>\n",
       "      <td>0.999570</td>\n",
       "    </tr>\n",
       "  </tbody>\n",
       "</table>\n",
       "</div>"
      ],
      "text/plain": [
       "           mean        sd  mc_error   hpd_2.5   hpd_97.5        n_eff  \\\n",
       "bR    -0.118866  0.297262  0.006912 -0.679469   0.457521  1727.268932   \n",
       "bA    -1.115776  0.299584  0.006957 -1.675138  -0.493859  1709.368177   \n",
       "a      9.680036  0.217442  0.005267  9.235412  10.085700  1599.992522   \n",
       "sigma  1.526745  0.162741  0.004126  1.252080   1.861674  1416.189025   \n",
       "\n",
       "           Rhat  \n",
       "bR     0.999696  \n",
       "bA     0.999667  \n",
       "a      0.999500  \n",
       "sigma  0.999570  "
      ]
     },
     "execution_count": 11,
     "metadata": {},
     "output_type": "execute_result"
    }
   ],
   "source": [
    "pm.summary(trace_m5_3, varnames=['bR', 'bA', 'a', 'sigma'])"
   ]
  },
  {
   "cell_type": "code",
   "execution_count": 12,
   "metadata": {},
   "outputs": [],
   "source": [
    "params = ['sigma', 'bA', 'bR', 'a']"
   ]
  },
  {
   "cell_type": "code",
   "execution_count": 13,
   "metadata": {},
   "outputs": [
    {
     "data": {
      "image/png": "[encoded data removed]",
      "text/plain": [
       "<Figure size 432x288 with 1 Axes>"
      ]
     },
     "metadata": {},
     "output_type": "display_data"
    }
   ],
   "source": [
    "# Code 5.5\n",
    "plt.style.use('seaborn-darkgrid')\n",
    "fig, ax = plt.subplots()\n",
    "# ax.plot([1, 2, 3], [1, 2, 3])\n",
    "ax.set(xlabel='Value', ylabel='Parameter')\n",
    "ax.set_xlim(-2, 10)\n",
    "ax.set_ylim(0, 5)\n",
    "ax.set_yticks([1, 2, 3, 4])\n",
    "ax.set_yticklabels(params)\n",
    "for ix, pname in enumerate(params):\n",
    "    # 'mwe' = marker edge weight\n",
    "    # necessary to draw empty circles, defaults to 0, meaning circles will be invisible if not filled\n",
    "    ax.plot(trace_m5_3[pname].mean(), ix+1, 'ob', fillstyle='none', mew=1)\n",
    "    hpd_boundaries = pm.hpd(trace_m5_3[pname], alpha=.11)\n",
    "    ax.plot(hpd_boundaries, [ix+1, ix+1], '-b')"
   ]
  },
  {
   "cell_type": "markdown",
   "metadata": {},
   "source": [
    "* interpretation: \"once we know median age of marriage, learning about marriage rate does not give us much additional information\"\n",
    "* **why is this the interpretation? are these factors not independent? see if this is answered in remainder of section, discuss**\n",
    "\n",
    "### 5.1.3. plotting multivariate posteriors\n",
    "* tons of books and other literature on specialized plots. but: none suitable to all jobs, typically don't generalize beyond linear regression.\n",
    "* instead: understand approaches to ask model whatever interesting questions we come up with\n",
    "* plot categories:\n",
    "  * predictor residual plots\n",
    "  * counterfactual plots. implied predictions for imaginary experiments\n",
    "  * posterior prediction plots. model-based predictions against raw data or other types of prediction error\n",
    "  \n",
    "#### 5.1.3.1. Predictor residual plots\n",
    "* idea: predict values of one predictor using all other predictors. calculate residuals of that prediction, i.e. how much of target predictor is not determined by combination of other predictors? plot these. \n",
    "* also calculate and plot dependent variable of overall problem (here: divorce rate) against these residuals. can even fit linear model between residuals and dependent variable. \n",
    "* interpretation: what's the association between residuals and dependent variable? positive residuals: predictor is higher than expected given other predictors. negative residuals: predictor is lower than expected given other residuals. is there a connection between this quantity and the dependent variable? e.g. is there a relation between predictor 'median age of marriage' being unexpectedly high/low and dependent variable 'divorce rate'?\n",
    "* **still shaky on exact interpretation, discuss this**\n",
    "* let's go through the code + examples, maybe can help to make things clearer"
   ]
  },
  {
   "cell_type": "code",
   "execution_count": 14,
   "metadata": {},
   "outputs": [
    {
     "name": "stderr",
     "output_type": "stream",
     "text": [
      "Auto-assigning NUTS sampler...\n",
      "Initializing NUTS using jitter+adapt_diag...\n",
      "Multiprocess sampling (2 chains in 2 jobs)\n",
      "NUTS: [a, b, sigma]\n",
      "Sampling 2 chains: 100%|██████████| 4000/4000 [00:04<00:00, 897.15draws/s] \n"
     ]
    }
   ],
   "source": [
    "# Code 5.6\n",
    "with pm.Model() as m5_4:\n",
    "    \n",
    "    sigma = pm.Uniform('sigma', lower=0, upper=10)\n",
    "    b = pm.Normal('b', mu=0, sd=1)\n",
    "    a = pm.Normal('a', mu=0, sd=10)\n",
    "    mu = pm.Deterministic('mu', a + b * d.MedianAgeMarriage_s)\n",
    "    Marriage_s = pm.Normal('Marriage_s', mu=mu, sd=sigma, observed=d.Marriage_s)\n",
    "    \n",
    "    trace_m5_4 = pm.sample(draws=1000, tune=1000)"
   ]
  },
  {
   "cell_type": "code",
   "execution_count": 15,
   "metadata": {
    "scrolled": false
   },
   "outputs": [
    {
     "data": {
      "text/html": [
       "<div>\n",
       "<style scoped>\n",
       "    .dataframe tbody tr th:only-of-type {\n",
       "        vertical-align: middle;\n",
       "    }\n",
       "\n",
       "    .dataframe tbody tr th {\n",
       "        vertical-align: top;\n",
       "    }\n",
       "\n",
       "    .dataframe thead th {\n",
       "        text-align: right;\n",
       "    }\n",
       "</style>\n",
       "<table border=\"1\" class=\"dataframe\">\n",
       "  <thead>\n",
       "    <tr style=\"text-align: right;\">\n",
       "      <th></th>\n",
       "      <th>b</th>\n",
       "      <th>a</th>\n",
       "      <th>sigma</th>\n",
       "      <th>mu__0</th>\n",
       "      <th>mu__1</th>\n",
       "      <th>mu__2</th>\n",
       "      <th>mu__3</th>\n",
       "      <th>mu__4</th>\n",
       "      <th>mu__5</th>\n",
       "      <th>mu__6</th>\n",
       "      <th>...</th>\n",
       "      <th>mu__40</th>\n",
       "      <th>mu__41</th>\n",
       "      <th>mu__42</th>\n",
       "      <th>mu__43</th>\n",
       "      <th>mu__44</th>\n",
       "      <th>mu__45</th>\n",
       "      <th>mu__46</th>\n",
       "      <th>mu__47</th>\n",
       "      <th>mu__48</th>\n",
       "      <th>mu__49</th>\n",
       "    </tr>\n",
       "  </thead>\n",
       "  <tbody>\n",
       "    <tr>\n",
       "      <th>0</th>\n",
       "      <td>-0.515659</td>\n",
       "      <td>0.089931</td>\n",
       "      <td>0.635769</td>\n",
       "      <td>0.402570</td>\n",
       "      <td>0.444034</td>\n",
       "      <td>0.195250</td>\n",
       "      <td>0.817210</td>\n",
       "      <td>-0.219390</td>\n",
       "      <td>0.236714</td>\n",
       "      <td>-0.551103</td>\n",
       "      <td>...</td>\n",
       "      <td>0.278178</td>\n",
       "      <td>0.444034</td>\n",
       "      <td>0.444034</td>\n",
       "      <td>1.231850</td>\n",
       "      <td>-0.260854</td>\n",
       "      <td>-0.053534</td>\n",
       "      <td>0.153786</td>\n",
       "      <td>0.526962</td>\n",
       "      <td>-0.012070</td>\n",
       "      <td>0.858674</td>\n",
       "    </tr>\n",
       "    <tr>\n",
       "      <th>1</th>\n",
       "      <td>-0.889577</td>\n",
       "      <td>-0.182653</td>\n",
       "      <td>0.711219</td>\n",
       "      <td>0.356689</td>\n",
       "      <td>0.428219</td>\n",
       "      <td>-0.000965</td>\n",
       "      <td>1.071996</td>\n",
       "      <td>-0.716272</td>\n",
       "      <td>0.070566</td>\n",
       "      <td>-1.288517</td>\n",
       "      <td>...</td>\n",
       "      <td>0.142097</td>\n",
       "      <td>0.428219</td>\n",
       "      <td>0.428219</td>\n",
       "      <td>1.787303</td>\n",
       "      <td>-0.787802</td>\n",
       "      <td>-0.430149</td>\n",
       "      <td>-0.072495</td>\n",
       "      <td>0.571281</td>\n",
       "      <td>-0.358618</td>\n",
       "      <td>1.143526</td>\n",
       "    </tr>\n",
       "    <tr>\n",
       "      <th>2</th>\n",
       "      <td>-0.571248</td>\n",
       "      <td>0.061250</td>\n",
       "      <td>0.656620</td>\n",
       "      <td>0.407591</td>\n",
       "      <td>0.453525</td>\n",
       "      <td>0.177922</td>\n",
       "      <td>0.866930</td>\n",
       "      <td>-0.281417</td>\n",
       "      <td>0.223856</td>\n",
       "      <td>-0.648888</td>\n",
       "      <td>...</td>\n",
       "      <td>0.269790</td>\n",
       "      <td>0.453525</td>\n",
       "      <td>0.453525</td>\n",
       "      <td>1.326269</td>\n",
       "      <td>-0.327351</td>\n",
       "      <td>-0.097681</td>\n",
       "      <td>0.131988</td>\n",
       "      <td>0.545393</td>\n",
       "      <td>-0.051747</td>\n",
       "      <td>0.912864</td>\n",
       "    </tr>\n",
       "    <tr>\n",
       "      <th>3</th>\n",
       "      <td>-0.753078</td>\n",
       "      <td>0.089804</td>\n",
       "      <td>0.699732</td>\n",
       "      <td>0.546387</td>\n",
       "      <td>0.606942</td>\n",
       "      <td>0.243613</td>\n",
       "      <td>1.151935</td>\n",
       "      <td>-0.361935</td>\n",
       "      <td>0.304168</td>\n",
       "      <td>-0.846374</td>\n",
       "      <td>...</td>\n",
       "      <td>0.364722</td>\n",
       "      <td>0.606942</td>\n",
       "      <td>0.606942</td>\n",
       "      <td>1.757483</td>\n",
       "      <td>-0.422490</td>\n",
       "      <td>-0.119716</td>\n",
       "      <td>0.183058</td>\n",
       "      <td>0.728051</td>\n",
       "      <td>-0.059161</td>\n",
       "      <td>1.212490</td>\n",
       "    </tr>\n",
       "    <tr>\n",
       "      <th>4</th>\n",
       "      <td>-0.732988</td>\n",
       "      <td>0.089613</td>\n",
       "      <td>0.764784</td>\n",
       "      <td>0.534016</td>\n",
       "      <td>0.592956</td>\n",
       "      <td>0.239319</td>\n",
       "      <td>1.123410</td>\n",
       "      <td>-0.350075</td>\n",
       "      <td>0.298259</td>\n",
       "      <td>-0.821590</td>\n",
       "      <td>...</td>\n",
       "      <td>0.357198</td>\n",
       "      <td>0.592956</td>\n",
       "      <td>0.592956</td>\n",
       "      <td>1.712804</td>\n",
       "      <td>-0.409014</td>\n",
       "      <td>-0.114317</td>\n",
       "      <td>0.180380</td>\n",
       "      <td>0.710835</td>\n",
       "      <td>-0.055378</td>\n",
       "      <td>1.182350</td>\n",
       "    </tr>\n",
       "  </tbody>\n",
       "</table>\n",
       "<p>5 rows × 53 columns</p>\n",
       "</div>"
      ],
      "text/plain": [
       "          b         a     sigma     mu__0     mu__1     mu__2     mu__3  \\\n",
       "0 -0.515659  0.089931  0.635769  0.402570  0.444034  0.195250  0.817210   \n",
       "1 -0.889577 -0.182653  0.711219  0.356689  0.428219 -0.000965  1.071996   \n",
       "2 -0.571248  0.061250  0.656620  0.407591  0.453525  0.177922  0.866930   \n",
       "3 -0.753078  0.089804  0.699732  0.546387  0.606942  0.243613  1.151935   \n",
       "4 -0.732988  0.089613  0.764784  0.534016  0.592956  0.239319  1.123410   \n",
       "\n",
       "      mu__4     mu__5     mu__6    ...       mu__40    mu__41    mu__42  \\\n",
       "0 -0.219390  0.236714 -0.551103    ...     0.278178  0.444034  0.444034   \n",
       "1 -0.716272  0.070566 -1.288517    ...     0.142097  0.428219  0.428219   \n",
       "2 -0.281417  0.223856 -0.648888    ...     0.269790  0.453525  0.453525   \n",
       "3 -0.361935  0.304168 -0.846374    ...     0.364722  0.606942  0.606942   \n",
       "4 -0.350075  0.298259 -0.821590    ...     0.357198  0.592956  0.592956   \n",
       "\n",
       "     mu__43    mu__44    mu__45    mu__46    mu__47    mu__48    mu__49  \n",
       "0  1.231850 -0.260854 -0.053534  0.153786  0.526962 -0.012070  0.858674  \n",
       "1  1.787303 -0.787802 -0.430149 -0.072495  0.571281 -0.358618  1.143526  \n",
       "2  1.326269 -0.327351 -0.097681  0.131988  0.545393 -0.051747  0.912864  \n",
       "3  1.757483 -0.422490 -0.119716  0.183058  0.728051 -0.059161  1.212490  \n",
       "4  1.712804 -0.409014 -0.114317  0.180380  0.710835 -0.055378  1.182350  \n",
       "\n",
       "[5 rows x 53 columns]"
      ]
     },
     "execution_count": 15,
     "metadata": {},
     "output_type": "execute_result"
    }
   ],
   "source": [
    "# Code 5.7\n",
    "trace_m5_4_pd = pm.trace_to_dataframe(trace_m5_4)\n",
    "trace_m5_4_pd.head()"
   ]
  },
  {
   "cell_type": "code",
   "execution_count": 16,
   "metadata": {},
   "outputs": [],
   "source": [
    "# each state corresponds to one of the 'mu_x' columns in the trace dataframe. for each sample of (a, b) a value of mu for\n",
    "# each state (0 through 49) was calculated\n",
    "# thus: MAP mu for state 0 = mean of mu_0 column, I think? **verify this**\n",
    "mu = trace_m5_4_pd.filter(axis=1, like='mu__').mean()"
   ]
  },
  {
   "cell_type": "code",
   "execution_count": 17,
   "metadata": {},
   "outputs": [],
   "source": [
    "# need '.values' to use ndarrays so that meaningless indices are ignored\n",
    "m_resid = d.Marriage_s.values - mu.values"
   ]
  },
  {
   "cell_type": "code",
   "execution_count": 18,
   "metadata": {},
   "outputs": [
    {
     "data": {
      "text/plain": [
       "[Text(0,0.5,'Marriage_s'), Text(0.5,0,'MedianAgeMarriage_s')]"
      ]
     },
     "execution_count": 18,
     "metadata": {},
     "output_type": "execute_result"
    },
    {
     "data": {
      "image/png": "[encoded data removed]",
      "text/plain": [
       "<Figure size 432x288 with 1 Axes>"
      ]
     },
     "metadata": {},
     "output_type": "display_data"
    }
   ],
   "source": [
    "# Code 5.8\n",
    "fig, ax = plt.subplots()\n",
    "ax.plot('MedianAgeMarriage_s', 'Marriage_s', 'o', fillstyle='none', mew=1, data=d);\n",
    "ax.plot(d.MedianAgeMarriage_s, mu)\n",
    "ax.vlines(x=d.MedianAgeMarriage_s, ymin=mu, ymax=d.Marriage_s, alpha=0.1)\n",
    "ax.set(xlabel='MedianAgeMarriage_s', ylabel='Marriage_s')"
   ]
  },
  {
   "cell_type": "markdown",
   "metadata": {},
   "source": [
    "* grey lines = residuals\n",
    "* side note: **this matches book plot, thus using mu_X samples to get map for datum X seems valid approach. neato**\n",
    "* \"notice that residuals are variation in marriage rate that is left over, after taking out the purely linear relationship between the two variables.\" **what does this mean exactly?**\n",
    "* book includes more plots which plot residuals vs divorce rates. **how do i interpret those?**\n",
    "  * book says: \"you can think of this plot as displaying the linear relationship between divorce and marriage rates having statistically 'controlled' for median age of marriage\" **still unclear what 'controlled for' _really, really_ means**\n",
    "  * plots show that after 'controlling' for m_age, m_rate does not give a lot of extra info on d_rate. however, m_age *does* give a lot of extra info on d_rate after 'controlling' for d_age. thus: m_age higher predictive power, extra information not contained in m_rate?\n",
    "  * book finds the following: assume that in multivariate model (m_rate, m_age) -> d_rate we find cofficients 0.1 for m_rate and 0.8 for m_age. Then if we fit a lin model like (m_rate_residuals_after_controlling_for_m_age) -> d_rate we'll find coefficient 0.1, and mutatis mutandis we'll find 0.8 for m_age_residuals_after_controlling_for_m_rate\n",
    "  * learning the book takes from this: **coefficent in regression model is association between predictor and dependent variable when already knowing about all other predictors**\n",
    "    * lin models do this assuming specific additivity between predictors. other models can assume other relationships between predictors. basic logic of statistical control stays the same, but residual plots do not work in the same way\n",
    "    \n",
    "#### 5.1.3.2. Counterfactual plots\n",
    "* plot model predictions. 'counterfactual' b/c can also do this for predictor values that have not been observed or are straight up impossible\n",
    "* simplest use: see how predictions behave when changing one predictor and keeping all others fixed\n",
    "* helps understanding implications of model\n",
    "* first example:"
   ]
  },
  {
   "cell_type": "code",
   "execution_count": 19,
   "metadata": {},
   "outputs": [
    {
     "data": {
      "image/png": "[encoded data removed]",
      "text/plain": [
       "<Figure size 432x288 with 1 Axes>"
      ]
     },
     "metadata": {},
     "output_type": "display_data"
    }
   ],
   "source": [
    "# Code 5.9\n",
    "\n",
    "# prepare new counterfactual data\n",
    "\n",
    "# note: isn't MedianAgeMarriage_s.mean() guaranteed to be 0 by definition of a standardized variable?\n",
    "A_avg = d.MedianAgeMarriage_s.mean()\n",
    "R_seq = np.linspace(start=-3, stop=3, num=30)\n",
    "pred_data = pd.DataFrame(\n",
    "    data={\n",
    "        'Marriage_s': R_seq, \n",
    "        'MedianAgeMarriage_s': A_avg\n",
    "    }\n",
    ")\n",
    "\n",
    "# compute counterfactual mean divorce (mu)\n",
    "\n",
    "# mu dimensions: n_mcmc_samples x n_data_points\n",
    "mu = trace_m5_3['a'].reshape(-1, 1) + trace_m5_3['bR'].reshape(-1, 1) @ pred_data.Marriage_s.values.reshape(1, -1) + trace_m5_3['bA'].reshape(-1, 1) @ pred_data.MedianAgeMarriage_s.values.reshape(1, -1)\n",
    "mu_mean = mu.mean(axis=0)\n",
    "mu_PI = pm.hpd(mu, alpha=0.11)\n",
    "\n",
    "# R_sim dimensions same as mu dimensions. One col per mcmc sample, one row per input datum\n",
    "R_sim = np.random.normal(loc=mu, scale=trace_m5_3['sigma'].reshape(-1, 1))\n",
    "R_PI = pm.hpd(R_sim, alpha=0.11)\n",
    "\n",
    "fig, ax = plt.subplots()\n",
    "ax.set(xlabel='Marriage.s', ylabel='Divorce', title='MedianAgeMarriage.s=0');\n",
    "ax.plot(R_seq, mu_mean);\n",
    "# ax.plot(d.Marriage_s, d.Divorce, 'o', alpha=0.9, fillstyle='none', mew=1);\n",
    "ax.fill_between(R_seq, y1=mu_PI[:, 0], y2=mu_PI[:, 1], alpha=0.7);\n",
    "ax.fill_between(R_seq, y1=R_PI[:, 0], y2=R_PI[:, 1], alpha=0.3);"
   ]
  },
  {
   "cell_type": "code",
   "execution_count": 20,
   "metadata": {},
   "outputs": [
    {
     "data": {
      "image/png": "[encoded data removed]",
      "text/plain": [
       "<Figure size 432x288 with 1 Axes>"
      ]
     },
     "metadata": {},
     "output_type": "display_data"
    }
   ],
   "source": [
    "# Code 5.10\n",
    "\n",
    "# prepare new counterfactual data\n",
    "\n",
    "# note: isn't MedianAgeMarriage_s.mean() guaranteed to be 0 by definition of a standardized variable?\n",
    "R_avg = d.Marriage_s.mean()\n",
    "A_seq = np.linspace(start=-3, stop=3, num=30)\n",
    "pred_data2 = pd.DataFrame(\n",
    "    data={\n",
    "        'Marriage_s': R_avg, \n",
    "        'MedianAgeMarriage_s': A_seq\n",
    "    }\n",
    ")\n",
    "\n",
    "# compute counterfactual mean divorce (mu)\n",
    "\n",
    "# mu dimensions: n_mcmc_samples x n_data_points\n",
    "mu = trace_m5_3['a'].reshape(-1, 1) + trace_m5_3['bR'].reshape(-1, 1) @ pred_data2.Marriage_s.values.reshape(1, -1) + trace_m5_3['bA'].reshape(-1, 1) @ pred_data2.MedianAgeMarriage_s.values.reshape(1, -1)\n",
    "mu_mean = mu.mean(axis=0)\n",
    "mu_PI = pm.hpd(mu, alpha=0.11)\n",
    "\n",
    "# R_sim dimensions same as mu dimensions. One col per mcmc sample, one row per input datum\n",
    "R_sim = np.random.normal(loc=mu, scale=trace_m5_3['sigma'].reshape(-1, 1))\n",
    "R_PI = pm.hpd(R_sim, alpha=0.11)\n",
    "\n",
    "fig, ax = plt.subplots()\n",
    "ax.set(xlabel='MedianMarriageAge.s', ylabel='Divorce', title='Marriage.s=0');\n",
    "ax.plot(A_seq, mu_mean);\n",
    "# ax.plot(d.Marriage_s, d.Divorce, 'o', alpha=0.9, fillstyle='none', mew=1);\n",
    "ax.fill_between(A_seq, y1=mu_PI[:, 0], y2=mu_PI[:, 1], alpha=0.7);\n",
    "ax.fill_between(A_seq, y1=R_PI[:, 0], y2=R_PI[:, 1], alpha=0.3);"
   ]
  },
  {
   "cell_type": "markdown",
   "metadata": {},
   "source": [
    "* note: above 2 plots have different scales on y-axis. makes them harder to compare\n",
    "* **don't display data b/c they're counterfactual**\n",
    "* display data on percentile interval scale, not residual scale\n",
    "* thus: direct depiction of how prediction varies w/ change in one predictor\n",
    "* **watch out: these isolated effects probably only possible in small world of model**\n",
    "* in actual, real world, predictors most likely won't vary indepdenently, e.g. if median age of marriage increase then marriage rate will like decrease\n",
    "* these plots always help in understanding the model, but might also mislead by displaying behavior for unrealistic combinations of predictors. we might not be able to manipulate real world enough to create such predictor combinations\n",
    "\n",
    "#### 5.1.3.3. Posterior prediction plots\n",
    "* Important to not just understand estimates, but also fit to data\n",
    "* two main use cases:\n",
    "  ** did model fit correctly? can catch software and users errors like this\n",
    "  ** how does model fail? \"all models are useful fictions, so they always fail in some ways\". model could fit well but still not be fit for purpose. also, model might be okay overall, but can inspect where it's working better or worse. can also give ideas for model improvement\n",
    "* let's make predictions averaging over posterior"
   ]
  },
  {
   "cell_type": "code",
   "execution_count": 21,
   "metadata": {},
   "outputs": [],
   "source": [
    "# Code 5.11\n",
    "\n",
    "# mu = samples of posterior for mu variable given by linear model for predictor combinations of original dataset\n",
    "# can use 'mu' values from trace_m5_3 which correspond to post. samples for original predictor values 0 thru 49\n",
    "trace_m5_3_pd = pm.trace_to_dataframe(trace_m5_3)\n",
    "\n",
    "# shape: n_mcmc_samples x n_original_data_points\n",
    "mu = trace_m5_3_pd.filter(like='mu__', axis=1)\n",
    "# shape: (n_original_data_points, )\n",
    "# '.values' so both mu_X variables have same datatype of ndarray\n",
    "mu_mean = mu.mean().values\n",
    "# shape: (n_original_data_points, 2)\n",
    "mu_PI = pm.hpd(mu.values, alpha=0.11)\n",
    "\n",
    "# shape: n_mcmc_samples x n_original_data_points\n",
    "divorce_sim = np.random.normal(\n",
    "    loc=mu.values, \n",
    "    scale=trace_m5_3_pd.sigma.values.reshape(-1, 1) # add 1 axis to make broadcastable\n",
    ")\n",
    "divorce_PI = pm.hpd(divorce_sim, alpha=0.11)"
   ]
  },
  {
   "cell_type": "markdown",
   "metadata": {},
   "source": [
    "* **note: repetition is useful for exercise and memoization. however, by now it'd also be useful to write functions to do standard operations like the one above**\n",
    "* simplest way to display: plot prediction vs observed"
   ]
  },
  {
   "cell_type": "code",
   "execution_count": 22,
   "metadata": {
    "scrolled": true
   },
   "outputs": [
    {
     "data": {
      "image/png": "[encoded data removed]",
      "text/plain": [
       "<Figure size 432x288 with 1 Axes>"
      ]
     },
     "metadata": {},
     "output_type": "display_data"
    }
   ],
   "source": [
    "# Code 5.12\n",
    "fig, ax = plt.subplots();\n",
    "ax.set(xlabel='Observed Divorce', ylabel='Predicted Divorce');\n",
    "\n",
    "# if predictions were perfect they'd lie on this line, i.e. observed = predicted divorce\n",
    "observed_range = [d.Divorce.min(), d.Divorce.max()]\n",
    "ax.plot(observed_range, observed_range, '--');\n",
    "\n",
    "# actual observed vs predicted divorce\n",
    "ax.plot(d.Divorce, mu_mean, 'o', fillstyle='none', mew=1);\n",
    "\n",
    "# add confidence intervals around predictions\n",
    "ax.vlines(x=d.Divorce, ymin=mu_PI[:, 0], ymax=mu_PI[:, 1], alpha=0.5);"
   ]
  },
  {
   "cell_type": "code",
   "execution_count": 23,
   "metadata": {},
   "outputs": [
    {
     "data": {
      "image/png": "[encoded data removed]",
      "text/plain": [
       "<Figure size 432x288 with 1 Axes>"
      ]
     },
     "metadata": {},
     "output_type": "display_data"
    }
   ],
   "source": [
    "# Code 5.12\n",
    "fig, ax = plt.subplots();\n",
    "ax.set(xlabel='Observed Divorce', ylabel='Predicted Divorce');\n",
    "\n",
    "# if predictions were perfect they'd lie on this line, i.e. observed = predicted divorce\n",
    "observed_range = [d.Divorce.min(), d.Divorce.max()]\n",
    "ax.plot(observed_range, observed_range, '--');\n",
    "\n",
    "# actual observed vs predicted divorce\n",
    "ax.plot(d.Divorce, mu_mean, 'o', fillstyle='none', mew=1);\n",
    "\n",
    "# add confidence intervals around predictions\n",
    "ax.vlines(x=d.Divorce, ymin=mu_PI[:, 0], ymax=mu_PI[:, 1], alpha=0.5);\n",
    "\n",
    "# the same as above, but rolled into one command using 'errorbar' which plots\n",
    "# data points and error bars\n",
    "\n",
    "# ax.errorbar(\n",
    "#     x=d.Divorce,\n",
    "#     y=mu_mean,\n",
    "#     yerr=np.abs(mu_PI - mu_mean.reshape(-1, 1)).reshape(2, -1),\n",
    "#     fmt='o',\n",
    "#     fillstyle='none',\n",
    "#     mew=1\n",
    "# );\n",
    "\n",
    "# Code 5.13\n",
    "# no neat 'identify' function, but this one also does the trick without needing to click anywwhere :)\n",
    "annotate_pd = d[d.Location.isin(['Idaho', 'Utah'])]\n",
    "annotate_ix = annotate_pd.index.values\n",
    "\n",
    "for ix in annotate_ix:\n",
    "    x = d.iloc[ix].Divorce + 0.1 # small offset to keep things legible\n",
    "    y = mu_mean[ix]\n",
    "    text = d.iloc[ix].Location\n",
    "\n",
    "    ax.annotate(s=text, xy=(x, y));"
   ]
  },
  {
   "cell_type": "markdown",
   "metadata": {},
   "source": [
    "* interpretation: model overpredicts for low divorce rate, underpredicts for high divorce rates\n",
    "* some data points very far off, e.g. Utah and Idaho\n",
    "* hard to see actual amount of error. create residual plot instead:"
   ]
  },
  {
   "cell_type": "code",
   "execution_count": 24,
   "metadata": {},
   "outputs": [],
   "source": [
    "# Code 5.14\n",
    "\n",
    "# compute residuals\n",
    "divorce_resid = d.Divorce - mu_mean\n",
    "# get ordering by divorce rate\n",
    "o = divorce_resid.sort_values().index.values"
   ]
  },
  {
   "cell_type": "code",
   "execution_count": 25,
   "metadata": {
    "scrolled": true
   },
   "outputs": [
    {
     "data": {
      "image/png": "[encoded data removed]",
      "text/plain": [
       "<Figure size 432x288 with 1 Axes>"
      ]
     },
     "metadata": {},
     "output_type": "display_data"
    }
   ],
   "source": [
    "fig, ax = plt.subplots()\n",
    "\n",
    "# x axis\n",
    "ax.set_xlim(left=-6, right=5)\n",
    "\n",
    "# y axis\n",
    "ax.set_ylim(-1, o.size)\n",
    "ax.set_yticks(range(0, o.size));\n",
    "ax.set_yticklabels((d.iloc[o].Location.values));\n",
    "\n",
    "# perfect prediction demarcation\n",
    "ax.vlines(x=0, ymin=0, ymax=o.size, alpha=0.3);\n",
    "\n",
    "# circles\n",
    "# this seems to work\n",
    "# ax.plot(divorce_resid.loc[o], range(0, o.size), 'o', fillstyle='none', mew=1);\n",
    "\n",
    "# add confidence intervals around predictions\n",
    "# this doesn't plot anything - why?\n",
    "# eliminated causes: hlines not drawing anything, hlines not working with arrays\n",
    "# ax.hlines(y=np.arange(0, o.size), xmin=mu_PI[o, 0], xmax=mu_PI[o, 1]);\n",
    "\n",
    "# use errorbars instead\n",
    "ax.errorbar(\n",
    "    x=divorce_resid.loc[o],\n",
    "    y=range(0, o.size),\n",
    "    xerr=np.abs(mu_PI[o] - mu_mean[o].reshape(-1, 1)).reshape(2, -1),\n",
    "    fmt='o',\n",
    "    fillstyle='none',\n",
    "    mew=1\n",
    ");"
   ]
  },
  {
   "cell_type": "markdown",
   "metadata": {},
   "source": [
    "* **observation: in contrast to book errors appear to not be symmetrical around mean. issue? reason? investigate!**\n",
    "* **note: using order 'o' everywhere made it all very finicky. probably easier to make new dataframe which contains means and residuals, order that one and then plot from there**\n",
    "* above plot makes it easier to see where model really goes wrong, e.g. Maine and Idaho\n",
    "* might be infeasible to plot for large data sets\n",
    "* another use for these estimates: create new predictor residual plots, i.e. new predictor vs residuals. shows if there's association between new predictor and outcome variable, even after controlling for other factors\n",
    "* \"does not mean that correlation is real. no matter how many predictors you've already included in regression, it's still possible to find spurious correlations with the remaining variation\"\n",
    "* **rethinking: stats, huh, yeah what is it good for?** statistics often asked questions it cannot answer, e.g. \"is effect real or spurious?\". but: modeling only quantifies uncertainty, conditional on the model (\"in the way the model understands the problem\"). Determining truth/causation in real world typically needs additional information not contained in model. E.g.: **any correlation between predictor and dependent var can vanish or be reversed by including another new predictor.** Might never find that one crucial predictor if we don't think about it. n:**model not guaranteed to be complete**. All models are vulnerable and need to be critiqued, however good they might look. Model criticism and revision are the **\"real test\"**, statistical tests are small bits of that process\n",
    "* **overthinking: simulating spurious association** possible scenario: both outcome $y$ and spurious predictor $x_{spur}$ are influenced by real predictor $x_{real}$ (cf. Bayesian network, easy visualisation). $x_{spur}$ not actually itself correllated with $y$. Multiple regression can determine which predictor is actually relevant. See code below"
   ]
  },
  {
   "cell_type": "code",
   "execution_count": 41,
   "metadata": {},
   "outputs": [
    {
     "data": {
      "text/html": [
       "<div>\n",
       "<style scoped>\n",
       "    .dataframe tbody tr th:only-of-type {\n",
       "        vertical-align: middle;\n",
       "    }\n",
       "\n",
       "    .dataframe tbody tr th {\n",
       "        vertical-align: top;\n",
       "    }\n",
       "\n",
       "    .dataframe thead th {\n",
       "        text-align: right;\n",
       "    }\n",
       "</style>\n",
       "<table border=\"1\" class=\"dataframe\">\n",
       "  <thead>\n",
       "    <tr style=\"text-align: right;\">\n",
       "      <th></th>\n",
       "      <th>x_real</th>\n",
       "      <th>x_spur</th>\n",
       "      <th>y</th>\n",
       "    </tr>\n",
       "  </thead>\n",
       "  <tbody>\n",
       "    <tr>\n",
       "      <th>0</th>\n",
       "      <td>1.750091</td>\n",
       "      <td>2.804281</td>\n",
       "      <td>1.719195</td>\n",
       "    </tr>\n",
       "    <tr>\n",
       "      <th>1</th>\n",
       "      <td>0.080750</td>\n",
       "      <td>-0.825462</td>\n",
       "      <td>-1.067257</td>\n",
       "    </tr>\n",
       "    <tr>\n",
       "      <th>2</th>\n",
       "      <td>-0.975541</td>\n",
       "      <td>-0.780666</td>\n",
       "      <td>-0.268024</td>\n",
       "    </tr>\n",
       "    <tr>\n",
       "      <th>3</th>\n",
       "      <td>-1.624542</td>\n",
       "      <td>-0.097083</td>\n",
       "      <td>-2.982645</td>\n",
       "    </tr>\n",
       "    <tr>\n",
       "      <th>4</th>\n",
       "      <td>0.616391</td>\n",
       "      <td>0.754349</td>\n",
       "      <td>1.295488</td>\n",
       "    </tr>\n",
       "  </tbody>\n",
       "</table>\n",
       "</div>"
      ],
      "text/plain": [
       "     x_real    x_spur         y\n",
       "0  1.750091  2.804281  1.719195\n",
       "1  0.080750 -0.825462 -1.067257\n",
       "2 -0.975541 -0.780666 -0.268024\n",
       "3 -1.624542 -0.097083 -2.982645\n",
       "4  0.616391  0.754349  1.295488"
      ]
     },
     "execution_count": 41,
     "metadata": {},
     "output_type": "execute_result"
    }
   ],
   "source": [
    "# Code 5.15\n",
    "\n",
    "# number of cases\n",
    "N = 100\n",
    "# x_real as Gaussian with mean 0 and stddev 1\n",
    "x_real = np.random.normal(size=N)\n",
    "# x_spur as Gaussian with mean=x_real\n",
    "x_spur = np.random.normal(loc=x_real)\n",
    "# y as Gaussian with mean=x_real\n",
    "y = np.random.normal(loc=x_real)\n",
    "# bind together in dataframe\n",
    "# diverge from book variable name 'd' so as not to overwrite earlier variable\n",
    "d_spurious = pd.DataFrame(data={\n",
    "    'x_real': x_real,\n",
    "    'x_spur': x_spur,\n",
    "    'y': y\n",
    "})\n",
    "\n",
    "d_spurious.head()"
   ]
  },
  {
   "cell_type": "markdown",
   "metadata": {},
   "source": [
    "* book says: \"look at $pairs(d)$ to see correlation between $x_{spur}$ and $y$. however, when fitting model, coefficient for $x_{spur}$ should small and for $x_{real}$ should be close to 1\"\n",
    "* let's try this"
   ]
  },
  {
   "cell_type": "code",
   "execution_count": 42,
   "metadata": {},
   "outputs": [
    {
     "data": {
      "image/png": "[encoded data removed]",
      "text/plain": [
       "<Figure size 432x288 with 1 Axes>"
      ]
     },
     "metadata": {},
     "output_type": "display_data"
    }
   ],
   "source": [
    "d_spurious.plot.scatter(x='x_spur', y='y');"
   ]
  },
  {
   "cell_type": "code",
   "execution_count": 45,
   "metadata": {},
   "outputs": [
    {
     "data": {
      "image/png": "[encoded data removed]",
      "text/plain": [
       "<Figure size 432x288 with 1 Axes>"
      ]
     },
     "metadata": {},
     "output_type": "display_data"
    }
   ],
   "source": [
    "d_spurious.plot.scatter(x='x_real', y='y');"
   ]
  },
  {
   "cell_type": "code",
   "execution_count": 46,
   "metadata": {},
   "outputs": [
    {
     "name": "stderr",
     "output_type": "stream",
     "text": [
      "Auto-assigning NUTS sampler...\n",
      "Initializing NUTS using jitter+adapt_diag...\n",
      "Multiprocess sampling (2 chains in 2 jobs)\n",
      "NUTS: [sigma, a, bSpur, bReal]\n",
      "Sampling 2 chains: 100%|██████████| 4000/4000 [00:05<00:00, 758.63draws/s] \n"
     ]
    }
   ],
   "source": [
    "with pm.Model() as m5_spurious:\n",
    "    bReal = pm.Normal('bReal', mu=0, sd=1)\n",
    "    bSpur = pm.Normal('bSpur', mu=0, sd=1)\n",
    "    a = pm.Normal('a', mu=10, sd=10)\n",
    "    mu = pm.Deterministic('mu', a + bReal * d_spurious.x_real + bSpur * d_spurious.x_spur)\n",
    "    \n",
    "    sigma = pm.Uniform('sigma', lower=0, upper=10)\n",
    "    \n",
    "    y = pm.Normal('y', mu=mu, sd=sigma, observed=d_spurious.y)\n",
    "    \n",
    "    trace_m5_spurious = pm.sample(draws=1000, tune=1000)"
   ]
  },
  {
   "cell_type": "code",
   "execution_count": 47,
   "metadata": {},
   "outputs": [
    {
     "data": {
      "text/html": [
       "<div>\n",
       "<style scoped>\n",
       "    .dataframe tbody tr th:only-of-type {\n",
       "        vertical-align: middle;\n",
       "    }\n",
       "\n",
       "    .dataframe tbody tr th {\n",
       "        vertical-align: top;\n",
       "    }\n",
       "\n",
       "    .dataframe thead th {\n",
       "        text-align: right;\n",
       "    }\n",
       "</style>\n",
       "<table border=\"1\" class=\"dataframe\">\n",
       "  <thead>\n",
       "    <tr style=\"text-align: right;\">\n",
       "      <th></th>\n",
       "      <th>mean</th>\n",
       "      <th>sd</th>\n",
       "      <th>mc_error</th>\n",
       "      <th>hpd_2.5</th>\n",
       "      <th>hpd_97.5</th>\n",
       "      <th>n_eff</th>\n",
       "      <th>Rhat</th>\n",
       "    </tr>\n",
       "  </thead>\n",
       "  <tbody>\n",
       "    <tr>\n",
       "      <th>bReal</th>\n",
       "      <td>1.060894</td>\n",
       "      <td>0.128015</td>\n",
       "      <td>0.003644</td>\n",
       "      <td>0.818974</td>\n",
       "      <td>1.310016</td>\n",
       "      <td>1230.493232</td>\n",
       "      <td>0.999759</td>\n",
       "    </tr>\n",
       "    <tr>\n",
       "      <th>bSpur</th>\n",
       "      <td>-0.007886</td>\n",
       "      <td>0.095160</td>\n",
       "      <td>0.002735</td>\n",
       "      <td>-0.189049</td>\n",
       "      <td>0.171238</td>\n",
       "      <td>1287.626616</td>\n",
       "      <td>0.999978</td>\n",
       "    </tr>\n",
       "    <tr>\n",
       "      <th>a</th>\n",
       "      <td>0.131591</td>\n",
       "      <td>0.102670</td>\n",
       "      <td>0.002788</td>\n",
       "      <td>-0.080562</td>\n",
       "      <td>0.322141</td>\n",
       "      <td>1387.832360</td>\n",
       "      <td>1.000295</td>\n",
       "    </tr>\n",
       "    <tr>\n",
       "      <th>sigma</th>\n",
       "      <td>0.996996</td>\n",
       "      <td>0.074126</td>\n",
       "      <td>0.001719</td>\n",
       "      <td>0.839091</td>\n",
       "      <td>1.129917</td>\n",
       "      <td>1445.622551</td>\n",
       "      <td>1.000932</td>\n",
       "    </tr>\n",
       "  </tbody>\n",
       "</table>\n",
       "</div>"
      ],
      "text/plain": [
       "           mean        sd  mc_error   hpd_2.5  hpd_97.5        n_eff      Rhat\n",
       "bReal  1.060894  0.128015  0.003644  0.818974  1.310016  1230.493232  0.999759\n",
       "bSpur -0.007886  0.095160  0.002735 -0.189049  0.171238  1287.626616  0.999978\n",
       "a      0.131591  0.102670  0.002788 -0.080562  0.322141  1387.832360  1.000295\n",
       "sigma  0.996996  0.074126  0.001719  0.839091  1.129917  1445.622551  1.000932"
      ]
     },
     "execution_count": 47,
     "metadata": {},
     "output_type": "execute_result"
    }
   ],
   "source": [
    "pm.summary(trace_m5_spurious, varnames=['bReal', 'bSpur', 'a', 'sigma'])"
   ]
  },
  {
   "cell_type": "markdown",
   "metadata": {},
   "source": [
    "* **Observation and question:** indeed, coefficient for real predictor is high, for spurious predictor is low. **Why?**. Hypothesis: because multiple regression model finds coefficients for each predictor independently, asking question \"what is correlation between this predictor and outcome given we already know all values for all other predictors\". if this is correct, then follow-up question: how is this expressed in the mathematical definition?\n",
    "\n",
    "## 5.2 Masked Relationships\n",
    "* Multiple predictors: useful for detecting spurious relationships\n",
    "* Another advantage: measure influence of multiple factors on outcome when influence cannot be detected from bivariate relationships\n",
    "* common cause: correlated predictors, but one pos. correlated w/ outcome and the other one negatively\n",
    "* investigate this using data about mammal species and their milk production"
   ]
  },
  {
   "cell_type": "code",
   "execution_count": 58,
   "metadata": {},
   "outputs": [
    {
     "data": {
      "text/html": [
       "<div>\n",
       "<style scoped>\n",
       "    .dataframe tbody tr th:only-of-type {\n",
       "        vertical-align: middle;\n",
       "    }\n",
       "\n",
       "    .dataframe tbody tr th {\n",
       "        vertical-align: top;\n",
       "    }\n",
       "\n",
       "    .dataframe thead th {\n",
       "        text-align: right;\n",
       "    }\n",
       "</style>\n",
       "<table border=\"1\" class=\"dataframe\">\n",
       "  <thead>\n",
       "    <tr style=\"text-align: right;\">\n",
       "      <th></th>\n",
       "      <th>clade</th>\n",
       "      <th>species</th>\n",
       "      <th>kcal_per_g</th>\n",
       "      <th>perc_fat</th>\n",
       "      <th>perc_protein</th>\n",
       "      <th>perc_lactose</th>\n",
       "      <th>mass</th>\n",
       "      <th>neocortex_perc</th>\n",
       "    </tr>\n",
       "  </thead>\n",
       "  <tbody>\n",
       "    <tr>\n",
       "      <th>0</th>\n",
       "      <td>Strepsirrhine</td>\n",
       "      <td>Eulemur fulvus</td>\n",
       "      <td>0.49</td>\n",
       "      <td>16.60</td>\n",
       "      <td>15.42</td>\n",
       "      <td>67.98</td>\n",
       "      <td>1.95</td>\n",
       "      <td>55.16</td>\n",
       "    </tr>\n",
       "    <tr>\n",
       "      <th>1</th>\n",
       "      <td>Strepsirrhine</td>\n",
       "      <td>E macaco</td>\n",
       "      <td>0.51</td>\n",
       "      <td>19.27</td>\n",
       "      <td>16.91</td>\n",
       "      <td>63.82</td>\n",
       "      <td>2.09</td>\n",
       "      <td>NaN</td>\n",
       "    </tr>\n",
       "    <tr>\n",
       "      <th>2</th>\n",
       "      <td>Strepsirrhine</td>\n",
       "      <td>E mongoz</td>\n",
       "      <td>0.46</td>\n",
       "      <td>14.11</td>\n",
       "      <td>16.85</td>\n",
       "      <td>69.04</td>\n",
       "      <td>2.51</td>\n",
       "      <td>NaN</td>\n",
       "    </tr>\n",
       "    <tr>\n",
       "      <th>3</th>\n",
       "      <td>Strepsirrhine</td>\n",
       "      <td>E rubriventer</td>\n",
       "      <td>0.48</td>\n",
       "      <td>14.91</td>\n",
       "      <td>13.18</td>\n",
       "      <td>71.91</td>\n",
       "      <td>1.62</td>\n",
       "      <td>NaN</td>\n",
       "    </tr>\n",
       "    <tr>\n",
       "      <th>4</th>\n",
       "      <td>Strepsirrhine</td>\n",
       "      <td>Lemur catta</td>\n",
       "      <td>0.60</td>\n",
       "      <td>27.28</td>\n",
       "      <td>19.50</td>\n",
       "      <td>53.22</td>\n",
       "      <td>2.19</td>\n",
       "      <td>NaN</td>\n",
       "    </tr>\n",
       "  </tbody>\n",
       "</table>\n",
       "</div>"
      ],
      "text/plain": [
       "           clade         species  kcal_per_g  perc_fat  perc_protein  \\\n",
       "0  Strepsirrhine  Eulemur fulvus        0.49     16.60         15.42   \n",
       "1  Strepsirrhine        E macaco        0.51     19.27         16.91   \n",
       "2  Strepsirrhine        E mongoz        0.46     14.11         16.85   \n",
       "3  Strepsirrhine   E rubriventer        0.48     14.91         13.18   \n",
       "4  Strepsirrhine     Lemur catta        0.60     27.28         19.50   \n",
       "\n",
       "   perc_lactose  mass  neocortex_perc  \n",
       "0         67.98  1.95           55.16  \n",
       "1         63.82  2.09             NaN  \n",
       "2         69.04  2.51             NaN  \n",
       "3         71.91  1.62             NaN  \n",
       "4         53.22  2.19             NaN  "
      ]
     },
     "execution_count": 58,
     "metadata": {},
     "output_type": "execute_result"
    }
   ],
   "source": [
    "# Code 5.16\n",
    "d = (\n",
    "    pd\n",
    "    .read_csv('./data/milk.csv', sep=';')\n",
    "    .rename(\n",
    "        columns=lambda colname: colname.replace('.', '_'), # make more pythonic\n",
    "    )\n",
    ")\n",
    "d.head()"
   ]
  },
  {
   "cell_type": "code",
   "execution_count": 60,
   "metadata": {},
   "outputs": [
    {
     "data": {
      "text/plain": [
       "(29, 8)"
      ]
     },
     "execution_count": 60,
     "metadata": {},
     "output_type": "execute_result"
    }
   ],
   "source": [
    "d.shape"
   ]
  },
  {
   "cell_type": "markdown",
   "metadata": {},
   "source": [
    "* hypothesis: larger brains means higher-energetic milk\n",
    "* start simple now, consider more subtle statistical issues of cross-species comparison later\n",
    "* primary variables for now: energy content of milk (\"kcal_per_g\") and relative brain size (\"neocortex_perc\"). Later will also use average female body mass (\"mass\")"
   ]
  },
  {
   "cell_type": "code",
   "execution_count": 84,
   "metadata": {},
   "outputs": [
    {
     "name": "stderr",
     "output_type": "stream",
     "text": [
      "Auto-assigning NUTS sampler...\n",
      "Initializing NUTS using jitter+adapt_diag...\n",
      "Multiprocess sampling (2 chains in 2 jobs)\n",
      "NUTS: [a, bn, sigma]\n",
      "Sampling 2 chains:   0%|          | 0/4000 [00:00<?, ?draws/s]\n"
     ]
    },
    {
     "ename": "RuntimeError",
     "evalue": "Chain 0 failed.",
     "output_type": "error",
     "traceback": [
      "\u001b[0;31m---------------------------------------------------------------------------\u001b[0m",
      "\u001b[0;31mRemoteTraceback\u001b[0m                           Traceback (most recent call last)",
      "\u001b[0;31mRemoteTraceback\u001b[0m: \n\"\"\"\nTraceback (most recent call last):\n  File \"/anaconda3/envs/rethinking_statistics/lib/python3.7/site-packages/pymc3/parallel_sampling.py\", line 73, in run\n    self._start_loop()\n  File \"/anaconda3/envs/rethinking_statistics/lib/python3.7/site-packages/pymc3/parallel_sampling.py\", line 113, in _start_loop\n    point, stats = self._compute_point()\n  File \"/anaconda3/envs/rethinking_statistics/lib/python3.7/site-packages/pymc3/parallel_sampling.py\", line 139, in _compute_point\n    point, stats = self._step_method.step(self._point)\n  File \"/anaconda3/envs/rethinking_statistics/lib/python3.7/site-packages/pymc3/step_methods/arraystep.py\", line 247, in step\n    apoint, stats = self.astep(array)\n  File \"/anaconda3/envs/rethinking_statistics/lib/python3.7/site-packages/pymc3/step_methods/hmc/base_hmc.py\", line 117, in astep\n    'might be misspecified.' % start.energy)\nValueError: Bad initial energy: nan. The model might be misspecified.\n\"\"\"",
      "\nThe above exception was the direct cause of the following exception:\n",
      "\u001b[0;31mValueError\u001b[0m                                Traceback (most recent call last)",
      "\u001b[0;31mValueError\u001b[0m: Bad initial energy: nan. The model might be misspecified.",
      "\nThe above exception was the direct cause of the following exception:\n",
      "\u001b[0;31mRuntimeError\u001b[0m                              Traceback (most recent call last)",
      "\u001b[0;32m<ipython-input-84-1beabf5fde3c>\u001b[0m in \u001b[0;36m<module>\u001b[0;34m()\u001b[0m\n\u001b[1;32m      6\u001b[0m     \u001b[0mkcal_per_g\u001b[0m \u001b[0;34m=\u001b[0m \u001b[0mpm\u001b[0m\u001b[0;34m.\u001b[0m\u001b[0mNormal\u001b[0m\u001b[0;34m(\u001b[0m\u001b[0;34m'kcal_per_g'\u001b[0m\u001b[0;34m,\u001b[0m \u001b[0mmu\u001b[0m\u001b[0;34m,\u001b[0m \u001b[0msigma\u001b[0m\u001b[0;34m,\u001b[0m \u001b[0mobserved\u001b[0m\u001b[0;34m=\u001b[0m\u001b[0md\u001b[0m\u001b[0;34m.\u001b[0m\u001b[0mkcal_per_g\u001b[0m\u001b[0;34m)\u001b[0m\u001b[0;34m\u001b[0m\u001b[0m\n\u001b[1;32m      7\u001b[0m \u001b[0;34m\u001b[0m\u001b[0m\n\u001b[0;32m----> 8\u001b[0;31m     \u001b[0mtrace_m5_5\u001b[0m \u001b[0;34m=\u001b[0m \u001b[0mpm\u001b[0m\u001b[0;34m.\u001b[0m\u001b[0msample\u001b[0m\u001b[0;34m(\u001b[0m\u001b[0mdraws\u001b[0m\u001b[0;34m=\u001b[0m\u001b[0;36m1000\u001b[0m\u001b[0;34m,\u001b[0m \u001b[0mtune\u001b[0m\u001b[0;34m=\u001b[0m\u001b[0;36m1000\u001b[0m\u001b[0;34m)\u001b[0m\u001b[0;34m\u001b[0m\u001b[0m\n\u001b[0m",
      "\u001b[0;32m/anaconda3/envs/rethinking_statistics/lib/python3.7/site-packages/pymc3/sampling.py\u001b[0m in \u001b[0;36msample\u001b[0;34m(draws, step, init, n_init, start, trace, chain_idx, chains, cores, tune, nuts_kwargs, step_kwargs, progressbar, model, random_seed, live_plot, discard_tuned_samples, live_plot_kwargs, compute_convergence_checks, use_mmap, **kwargs)\u001b[0m\n\u001b[1;32m    447\u001b[0m             \u001b[0m_print_step_hierarchy\u001b[0m\u001b[0;34m(\u001b[0m\u001b[0mstep\u001b[0m\u001b[0;34m)\u001b[0m\u001b[0;34m\u001b[0m\u001b[0m\n\u001b[1;32m    448\u001b[0m             \u001b[0;32mtry\u001b[0m\u001b[0;34m:\u001b[0m\u001b[0;34m\u001b[0m\u001b[0m\n\u001b[0;32m--> 449\u001b[0;31m                 \u001b[0mtrace\u001b[0m \u001b[0;34m=\u001b[0m \u001b[0m_mp_sample\u001b[0m\u001b[0;34m(\u001b[0m\u001b[0;34m**\u001b[0m\u001b[0msample_args\u001b[0m\u001b[0;34m)\u001b[0m\u001b[0;34m\u001b[0m\u001b[0m\n\u001b[0m\u001b[1;32m    450\u001b[0m             \u001b[0;32mexcept\u001b[0m \u001b[0mpickle\u001b[0m\u001b[0;34m.\u001b[0m\u001b[0mPickleError\u001b[0m\u001b[0;34m:\u001b[0m\u001b[0;34m\u001b[0m\u001b[0m\n\u001b[1;32m    451\u001b[0m                 \u001b[0m_log\u001b[0m\u001b[0;34m.\u001b[0m\u001b[0mwarning\u001b[0m\u001b[0;34m(\u001b[0m\u001b[0;34m\"Could not pickle model, sampling singlethreaded.\"\u001b[0m\u001b[0;34m)\u001b[0m\u001b[0;34m\u001b[0m\u001b[0m\n",
      "\u001b[0;32m/anaconda3/envs/rethinking_statistics/lib/python3.7/site-packages/pymc3/sampling.py\u001b[0m in \u001b[0;36m_mp_sample\u001b[0;34m(draws, tune, step, chains, cores, chain, random_seed, start, progressbar, trace, model, use_mmap, **kwargs)\u001b[0m\n\u001b[1;32m    997\u001b[0m         \u001b[0;32mtry\u001b[0m\u001b[0;34m:\u001b[0m\u001b[0;34m\u001b[0m\u001b[0m\n\u001b[1;32m    998\u001b[0m             \u001b[0;32mwith\u001b[0m \u001b[0msampler\u001b[0m\u001b[0;34m:\u001b[0m\u001b[0;34m\u001b[0m\u001b[0m\n\u001b[0;32m--> 999\u001b[0;31m                 \u001b[0;32mfor\u001b[0m \u001b[0mdraw\u001b[0m \u001b[0;32min\u001b[0m \u001b[0msampler\u001b[0m\u001b[0;34m:\u001b[0m\u001b[0;34m\u001b[0m\u001b[0m\n\u001b[0m\u001b[1;32m   1000\u001b[0m                     \u001b[0mtrace\u001b[0m \u001b[0;34m=\u001b[0m \u001b[0mtraces\u001b[0m\u001b[0;34m[\u001b[0m\u001b[0mdraw\u001b[0m\u001b[0;34m.\u001b[0m\u001b[0mchain\u001b[0m \u001b[0;34m-\u001b[0m \u001b[0mchain\u001b[0m\u001b[0;34m]\u001b[0m\u001b[0;34m\u001b[0m\u001b[0m\n\u001b[1;32m   1001\u001b[0m                     \u001b[0;32mif\u001b[0m \u001b[0mtrace\u001b[0m\u001b[0;34m.\u001b[0m\u001b[0msupports_sampler_stats\u001b[0m \u001b[0;32mand\u001b[0m \u001b[0mdraw\u001b[0m\u001b[0;34m.\u001b[0m\u001b[0mstats\u001b[0m \u001b[0;32mis\u001b[0m \u001b[0;32mnot\u001b[0m \u001b[0;32mNone\u001b[0m\u001b[0;34m:\u001b[0m\u001b[0;34m\u001b[0m\u001b[0m\n",
      "\u001b[0;32m/anaconda3/envs/rethinking_statistics/lib/python3.7/site-packages/pymc3/parallel_sampling.py\u001b[0m in \u001b[0;36m__iter__\u001b[0;34m(self)\u001b[0m\n\u001b[1;32m    303\u001b[0m \u001b[0;34m\u001b[0m\u001b[0m\n\u001b[1;32m    304\u001b[0m         \u001b[0;32mwhile\u001b[0m \u001b[0mself\u001b[0m\u001b[0;34m.\u001b[0m\u001b[0m_active\u001b[0m\u001b[0;34m:\u001b[0m\u001b[0;34m\u001b[0m\u001b[0m\n\u001b[0;32m--> 305\u001b[0;31m             \u001b[0mdraw\u001b[0m \u001b[0;34m=\u001b[0m \u001b[0mProcessAdapter\u001b[0m\u001b[0;34m.\u001b[0m\u001b[0mrecv_draw\u001b[0m\u001b[0;34m(\u001b[0m\u001b[0mself\u001b[0m\u001b[0;34m.\u001b[0m\u001b[0m_active\u001b[0m\u001b[0;34m)\u001b[0m\u001b[0;34m\u001b[0m\u001b[0m\n\u001b[0m\u001b[1;32m    306\u001b[0m             \u001b[0mproc\u001b[0m\u001b[0;34m,\u001b[0m \u001b[0mis_last\u001b[0m\u001b[0;34m,\u001b[0m \u001b[0mdraw\u001b[0m\u001b[0;34m,\u001b[0m \u001b[0mtuning\u001b[0m\u001b[0;34m,\u001b[0m \u001b[0mstats\u001b[0m\u001b[0;34m,\u001b[0m \u001b[0mwarns\u001b[0m \u001b[0;34m=\u001b[0m \u001b[0mdraw\u001b[0m\u001b[0;34m\u001b[0m\u001b[0m\n\u001b[1;32m    307\u001b[0m             \u001b[0;32mif\u001b[0m \u001b[0mself\u001b[0m\u001b[0;34m.\u001b[0m\u001b[0m_progress\u001b[0m \u001b[0;32mis\u001b[0m \u001b[0;32mnot\u001b[0m \u001b[0;32mNone\u001b[0m\u001b[0;34m:\u001b[0m\u001b[0;34m\u001b[0m\u001b[0m\n",
      "\u001b[0;32m/anaconda3/envs/rethinking_statistics/lib/python3.7/site-packages/pymc3/parallel_sampling.py\u001b[0m in \u001b[0;36mrecv_draw\u001b[0;34m(processes, timeout)\u001b[0m\n\u001b[1;32m    221\u001b[0m         \u001b[0;32mif\u001b[0m \u001b[0mmsg\u001b[0m\u001b[0;34m[\u001b[0m\u001b[0;36m0\u001b[0m\u001b[0;34m]\u001b[0m \u001b[0;34m==\u001b[0m \u001b[0;34m'error'\u001b[0m\u001b[0;34m:\u001b[0m\u001b[0;34m\u001b[0m\u001b[0m\n\u001b[1;32m    222\u001b[0m             \u001b[0mold\u001b[0m \u001b[0;34m=\u001b[0m \u001b[0mmsg\u001b[0m\u001b[0;34m[\u001b[0m\u001b[0;36m1\u001b[0m\u001b[0;34m]\u001b[0m\u001b[0;34m\u001b[0m\u001b[0m\n\u001b[0;32m--> 223\u001b[0;31m             \u001b[0msix\u001b[0m\u001b[0;34m.\u001b[0m\u001b[0mraise_from\u001b[0m\u001b[0;34m(\u001b[0m\u001b[0mRuntimeError\u001b[0m\u001b[0;34m(\u001b[0m\u001b[0;34m'Chain %s failed.'\u001b[0m \u001b[0;34m%\u001b[0m \u001b[0mproc\u001b[0m\u001b[0;34m.\u001b[0m\u001b[0mchain\u001b[0m\u001b[0;34m)\u001b[0m\u001b[0;34m,\u001b[0m \u001b[0mold\u001b[0m\u001b[0;34m)\u001b[0m\u001b[0;34m\u001b[0m\u001b[0m\n\u001b[0m\u001b[1;32m    224\u001b[0m         \u001b[0;32melif\u001b[0m \u001b[0mmsg\u001b[0m\u001b[0;34m[\u001b[0m\u001b[0;36m0\u001b[0m\u001b[0;34m]\u001b[0m \u001b[0;34m==\u001b[0m \u001b[0;34m'writing_done'\u001b[0m\u001b[0;34m:\u001b[0m\u001b[0;34m\u001b[0m\u001b[0m\n\u001b[1;32m    225\u001b[0m             \u001b[0mproc\u001b[0m\u001b[0;34m.\u001b[0m\u001b[0m_readable\u001b[0m \u001b[0;34m=\u001b[0m \u001b[0;32mTrue\u001b[0m\u001b[0;34m\u001b[0m\u001b[0m\n",
      "\u001b[0;32m/anaconda3/envs/rethinking_statistics/lib/python3.7/site-packages/six.py\u001b[0m in \u001b[0;36mraise_from\u001b[0;34m(value, from_value)\u001b[0m\n",
      "\u001b[0;31mRuntimeError\u001b[0m: Chain 0 failed."
     ]
    }
   ],
   "source": [
    "with pm.Model() as m5_5:\n",
    "    sigma = pm.Uniform('sigma', 0, 1)\n",
    "    bn = pm.Normal('bn', 0, 1)\n",
    "    a = pm.Normal('a', 0, 100)\n",
    "    mu = pm.Deterministic('mu', a + bn * d.neocortex_perc)\n",
    "    kcal_per_g = pm.Normal('kcal_per_g', mu, sigma, observed=d.kcal_per_g)\n",
    "    \n",
    "    trace_m5_5 = pm.sample(draws=1000, tune=1000)"
   ]
  },
  {
   "cell_type": "markdown",
   "metadata": {},
   "source": [
    "* this error should be caused by missing values for \"neocortex_perc\""
   ]
  },
  {
   "cell_type": "code",
   "execution_count": 63,
   "metadata": {},
   "outputs": [
    {
     "data": {
      "text/plain": [
       "0    55.16\n",
       "1      NaN\n",
       "2      NaN\n",
       "3      NaN\n",
       "4      NaN\n",
       "Name: neocortex_perc, dtype: float64"
      ]
     },
     "execution_count": 63,
     "metadata": {},
     "output_type": "execute_result"
    }
   ],
   "source": [
    "# Code 5.18\n",
    "d.neocortex_perc.head()"
   ]
  },
  {
   "cell_type": "code",
   "execution_count": 64,
   "metadata": {},
   "outputs": [
    {
     "data": {
      "text/plain": [
       "12"
      ]
     },
     "execution_count": 64,
     "metadata": {},
     "output_type": "execute_result"
    }
   ],
   "source": [
    "d.neocortex_perc.isnull().sum()"
   ]
  },
  {
   "cell_type": "code",
   "execution_count": 66,
   "metadata": {},
   "outputs": [],
   "source": [
    "# Code 5.19\n",
    "dcc = d.dropna()\n",
    "dcc.shape"
   ]
  },
  {
   "cell_type": "code",
   "execution_count": 83,
   "metadata": {
    "scrolled": true
   },
   "outputs": [
    {
     "name": "stderr",
     "output_type": "stream",
     "text": [
      "Auto-assigning NUTS sampler...\n",
      "Initializing NUTS using jitter+adapt_diag...\n",
      "Multiprocess sampling (2 chains in 2 jobs)\n",
      "NUTS: [a, bn, sigma]\n",
      "Sampling 2 chains: 100%|██████████| 4000/4000 [00:22<00:00, 166.74draws/s]\n",
      "There was 1 divergence after tuning. Increase `target_accept` or reparameterize.\n",
      "There were 4 divergences after tuning. Increase `target_accept` or reparameterize.\n",
      "The number of effective samples is smaller than 25% for some parameters.\n"
     ]
    }
   ],
   "source": [
    "# Code 5.20\n",
    "with pm.Model() as m5_5:\n",
    "    sigma = pm.Uniform('sigma', lower=0, upper=1)\n",
    "    bn = pm.Normal('bn', mu=0, sd=1)\n",
    "    a = pm.Normal('a', mu=0, sd=100)\n",
    "    mu = pm.Deterministic('mu', a + bn * dcc.neocortex_perc)\n",
    "    kcal_per_g = pm.Normal('kcal_per_g', mu=mu, sd=sigma, observed=dcc.kcal_per_g)\n",
    "    \n",
    "    trace_m5_5 = pm.sample(draws=1000, tune=1000)"
   ]
  },
  {
   "cell_type": "code",
   "execution_count": 87,
   "metadata": {},
   "outputs": [
    {
     "data": {
      "text/html": [
       "<div>\n",
       "<style scoped>\n",
       "    .dataframe tbody tr th:only-of-type {\n",
       "        vertical-align: middle;\n",
       "    }\n",
       "\n",
       "    .dataframe tbody tr th {\n",
       "        vertical-align: top;\n",
       "    }\n",
       "\n",
       "    .dataframe thead th {\n",
       "        text-align: right;\n",
       "    }\n",
       "</style>\n",
       "<table border=\"1\" class=\"dataframe\">\n",
       "  <thead>\n",
       "    <tr style=\"text-align: right;\">\n",
       "      <th></th>\n",
       "      <th>mean</th>\n",
       "      <th>sd</th>\n",
       "      <th>mc_error</th>\n",
       "      <th>hpd_2.5</th>\n",
       "      <th>hpd_97.5</th>\n",
       "      <th>n_eff</th>\n",
       "      <th>Rhat</th>\n",
       "    </tr>\n",
       "  </thead>\n",
       "  <tbody>\n",
       "    <tr>\n",
       "      <th>sigma</th>\n",
       "      <td>0.187686</td>\n",
       "      <td>0.040663</td>\n",
       "      <td>0.002098</td>\n",
       "      <td>0.112782</td>\n",
       "      <td>0.261895</td>\n",
       "      <td>235.507357</td>\n",
       "      <td>1.001874</td>\n",
       "    </tr>\n",
       "    <tr>\n",
       "      <th>bn</th>\n",
       "      <td>0.004297</td>\n",
       "      <td>0.007538</td>\n",
       "      <td>0.000321</td>\n",
       "      <td>-0.011063</td>\n",
       "      <td>0.018630</td>\n",
       "      <td>549.589458</td>\n",
       "      <td>1.004738</td>\n",
       "    </tr>\n",
       "    <tr>\n",
       "      <th>a</th>\n",
       "      <td>0.369040</td>\n",
       "      <td>0.511848</td>\n",
       "      <td>0.021770</td>\n",
       "      <td>-0.638903</td>\n",
       "      <td>1.387317</td>\n",
       "      <td>554.442568</td>\n",
       "      <td>1.004429</td>\n",
       "    </tr>\n",
       "  </tbody>\n",
       "</table>\n",
       "</div>"
      ],
      "text/plain": [
       "           mean        sd  mc_error   hpd_2.5  hpd_97.5       n_eff      Rhat\n",
       "sigma  0.187686  0.040663  0.002098  0.112782  0.261895  235.507357  1.001874\n",
       "bn     0.004297  0.007538  0.000321 -0.011063  0.018630  549.589458  1.004738\n",
       "a      0.369040  0.511848  0.021770 -0.638903  1.387317  554.442568  1.004429"
      ]
     },
     "execution_count": 87,
     "metadata": {},
     "output_type": "execute_result"
    }
   ],
   "source": [
    "# Code 5.21\n",
    "pm.summary(trace_m5_5, varnames=['sigma', 'bn', 'a'])"
   ]
  },
  {
   "cell_type": "markdown",
   "metadata": {},
   "source": [
    "* observation: coefficient `bn` super small\n",
    "* how does change in `neocortex_perc` translate to a predicted change in `kcal_per_g`?"
   ]
  },
  {
   "cell_type": "code",
   "execution_count": 90,
   "metadata": {},
   "outputs": [
    {
     "data": {
      "text/plain": [
       "0.09024141187368656"
      ]
     },
     "execution_count": 90,
     "metadata": {},
     "output_type": "execute_result"
    }
   ],
   "source": [
    "# Code 5.22\n",
    "# 76 and 55 are the highest and lowest recorded values of neocortex_perc respectively\n",
    "trace_m5_5['bn'].mean() * (76 - 55)"
   ]
  },
  {
   "cell_type": "markdown",
   "metadata": {},
   "source": [
    "* expected change in `kcal_per_g` of 0.09. varable range is 0.5 to 0.9, so tiny impact\n",
    "* even less useful when considering uncertainty around these estimates, see below"
   ]
  },
  {
   "cell_type": "code",
   "execution_count": 118,
   "metadata": {},
   "outputs": [
    {
     "data": {
      "image/png": "[encoded data removed]",
      "text/plain": [
       "<Figure size 432x288 with 1 Axes>"
      ]
     },
     "metadata": {},
     "output_type": "display_data"
    }
   ],
   "source": [
    "# Code 5.23\n",
    "np_seq = np.arange(0, 101)\n",
    "\n",
    "mu = trace_m5_5['a'].reshape(-1, 1) + np.dot(trace_m5_5['bn'].reshape(-1, 1), np_seq.reshape(1, -1))\n",
    "mu_mean = mu.mean(axis=0)\n",
    "mu_pi = pm.hpd(mu, alpha=0.11)\n",
    "\n",
    "fig, ax = plt.subplots()\n",
    "ax.plot(dcc.neocortex_perc, dcc.kcal_per_g, 'o', fillstyle='none', mew=1);\n",
    "ax.plot(np_seq, mu_mean);\n",
    "ax.fill_between(np_seq, y1=mu_pi[:,0], y2=mu_pi[:,1], alpha=0.3);\n",
    "ax.set_xlim(50, 80);"
   ]
  },
  {
   "cell_type": "code",
   "execution_count": null,
   "metadata": {},
   "outputs": [],
   "source": [
    "# Code 5.5\n",
    "plt.style.use('seaborn-darkgrid')\n",
    "fig, ax = plt.subplots()\n",
    "# ax.plot([1, 2, 3], [1, 2, 3])\n",
    "ax.set(xlabel='Value', ylabel='Parameter')\n",
    "ax.set_xlim(-2, 10)\n",
    "ax.set_ylim(0, 5)\n",
    "ax.set_yticks([1, 2, 3, 4])\n",
    "ax.set_yticklabels(params)\n",
    "for ix, pname in enumerate(params):\n",
    "    # 'mwe' = marker edge weight\n",
    "    # necessary to draw empty circles, defaults to 0, meaning circles will be invisible if not filled\n",
    "    ax.plot(trace_m5_3[pname].mean(), ix+1, 'ob', fillstyle='none', mew=1)\n",
    "    hpd_boundaries = pm.hpd(trace_m5_3[pname], alpha=.11)\n",
    "    ax.plot(hpd_boundaries, [ix+1, ix+1], '-b')"
   ]
  }
 ],
 "metadata": {
  "kernelspec": {
   "display_name": "Python 3",
   "language": "python",
   "name": "python3"
  },
  "language_info": {
   "codemirror_mode": {
    "name": "ipython",
    "version": 3
   },
   "file_extension": ".py",
   "mimetype": "text/x-python",
   "name": "python",
   "nbconvert_exporter": "python",
   "pygments_lexer": "ipython3",
   "version": "3.7.0"
  }
 },
 "nbformat": 4,
 "nbformat_minor": 2
}
